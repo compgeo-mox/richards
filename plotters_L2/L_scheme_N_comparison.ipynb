{
 "cells": [
  {
   "cell_type": "code",
   "execution_count": 1,
   "metadata": {},
   "outputs": [],
   "source": [
    "import matplotlib.pyplot as plt\n",
    "import csv, glob, os"
   ]
  },
  {
   "cell_type": "code",
   "execution_count": 2,
   "metadata": {},
   "outputs": [],
   "source": [
    "L_indices = [35]"
   ]
  },
  {
   "cell_type": "code",
   "execution_count": 3,
   "metadata": {},
   "outputs": [],
   "source": [
    "problem_name = 'benchmark'\n",
    "report_directories = ['../dual_report_L_test', '../primal_report_L_test']"
   ]
  },
  {
   "cell_type": "code",
   "execution_count": 4,
   "metadata": {},
   "outputs": [],
   "source": [
    "directoriess = [[os.path.join(base_directories, 'VARN_' + str(L_index) + '_steps_9_' + problem_name + '_L_test_LSCHEME') for L_index in L_indices] for base_directories in report_directories]"
   ]
  },
  {
   "cell_type": "code",
   "execution_count": 5,
   "metadata": {},
   "outputs": [],
   "source": [
    "scheme_dictionaries = [{}, {}]\n",
    "scheme_iterationss = [{}, {}]\n",
    "scheme_timess = [{}, {}]"
   ]
  },
  {
   "cell_type": "code",
   "execution_count": 6,
   "metadata": {},
   "outputs": [
    {
     "name": "stdout",
     "output_type": "stream",
     "text": [
      "Reading contents of directory ../dual_report_L_test\\VARN_35_steps_9_benchmark_L_test_LSCHEME\n",
      "Pattern ../dual_report_L_test\\VARN_35_steps_9_benchmark_L_test_LSCHEME\\*_benchmark*.csv matched with 9 files\n",
      "\n",
      "Reading contents of directory ../primal_report_L_test\\VARN_35_steps_9_benchmark_L_test_LSCHEME\n",
      "Pattern ../primal_report_L_test\\VARN_35_steps_9_benchmark_L_test_LSCHEME\\*_benchmark*.csv matched with 9 files\n",
      "\n"
     ]
    }
   ],
   "source": [
    "for directories, scheme_dictionary, scheme_times in zip(directoriess, scheme_dictionaries, scheme_timess):\n",
    "    for directory, L_index in zip(directories, L_indices):\n",
    "        print('Reading contents of directory ' + directory)\n",
    "        files = glob.glob(os.path.join(directory, '*_' + problem_name +'*.csv'))\n",
    "\n",
    "        print('Pattern ' + os.path.join(directory, '*_' + problem_name +'*.csv') + ' matched with ' + str(len(files)) + ' files')\n",
    "\n",
    "        scheme_dictionary[str(L_index)] = list()\n",
    "\n",
    "        for file in files:\n",
    "            scheme_dictionary[str(L_index)].append( file )\n",
    "        \n",
    "        scheme_dictionary[str(L_index)].sort( )\n",
    "\n",
    "        print('')"
   ]
  },
  {
   "cell_type": "code",
   "execution_count": 7,
   "metadata": {},
   "outputs": [
    {
     "name": "stdout",
     "output_type": "stream",
     "text": [
      "File ../dual_report_L_test\\VARN_35_steps_9_benchmark_L_test_LSCHEME\\010_benchmark_L_test_LSCHEME_richards_solver.csv has 60 iterations!\n",
      "File ../dual_report_L_test\\VARN_35_steps_9_benchmark_L_test_LSCHEME\\020_benchmark_L_test_LSCHEME_richards_solver.csv has 61 iterations!\n",
      "File ../dual_report_L_test\\VARN_35_steps_9_benchmark_L_test_LSCHEME\\040_benchmark_L_test_LSCHEME_richards_solver.csv has 62 iterations!\n",
      "File ../dual_report_L_test\\VARN_35_steps_9_benchmark_L_test_LSCHEME\\060_benchmark_L_test_LSCHEME_richards_solver.csv has 62 iterations!\n",
      "File ../dual_report_L_test\\VARN_35_steps_9_benchmark_L_test_LSCHEME\\080_benchmark_L_test_LSCHEME_richards_solver.csv has 62 iterations!\n",
      "File ../dual_report_L_test\\VARN_35_steps_9_benchmark_L_test_LSCHEME\\100_benchmark_L_test_LSCHEME_richards_solver.csv has 62 iterations!\n",
      "File ../dual_report_L_test\\VARN_35_steps_9_benchmark_L_test_LSCHEME\\120_benchmark_L_test_LSCHEME_richards_solver.csv has 62 iterations!\n",
      "File ../dual_report_L_test\\VARN_35_steps_9_benchmark_L_test_LSCHEME\\140_benchmark_L_test_LSCHEME_richards_solver.csv has 62 iterations!\n",
      "File ../dual_report_L_test\\VARN_35_steps_9_benchmark_L_test_LSCHEME\\160_benchmark_L_test_LSCHEME_richards_solver.csv has 62 iterations!\n",
      "\n",
      "File ../primal_report_L_test\\VARN_35_steps_9_benchmark_L_test_LSCHEME\\010_benchmark_L_test_LSCHEME_richards_solver.csv has 59 iterations!\n",
      "File ../primal_report_L_test\\VARN_35_steps_9_benchmark_L_test_LSCHEME\\020_benchmark_L_test_LSCHEME_richards_solver.csv has 60 iterations!\n",
      "File ../primal_report_L_test\\VARN_35_steps_9_benchmark_L_test_LSCHEME\\040_benchmark_L_test_LSCHEME_richards_solver.csv has 62 iterations!\n",
      "File ../primal_report_L_test\\VARN_35_steps_9_benchmark_L_test_LSCHEME\\060_benchmark_L_test_LSCHEME_richards_solver.csv has 62 iterations!\n",
      "File ../primal_report_L_test\\VARN_35_steps_9_benchmark_L_test_LSCHEME\\080_benchmark_L_test_LSCHEME_richards_solver.csv has 62 iterations!\n",
      "File ../primal_report_L_test\\VARN_35_steps_9_benchmark_L_test_LSCHEME\\100_benchmark_L_test_LSCHEME_richards_solver.csv has 62 iterations!\n",
      "File ../primal_report_L_test\\VARN_35_steps_9_benchmark_L_test_LSCHEME\\120_benchmark_L_test_LSCHEME_richards_solver.csv has 62 iterations!\n",
      "File ../primal_report_L_test\\VARN_35_steps_9_benchmark_L_test_LSCHEME\\140_benchmark_L_test_LSCHEME_richards_solver.csv has 62 iterations!\n",
      "File ../primal_report_L_test\\VARN_35_steps_9_benchmark_L_test_LSCHEME\\160_benchmark_L_test_LSCHEME_richards_solver.csv has 62 iterations!\n",
      "\n"
     ]
    }
   ],
   "source": [
    "for scheme_iterations, scheme_times, scheme_dictionary in zip(scheme_iterationss, scheme_timess, scheme_dictionaries):\n",
    "    for L_index in L_indices:\n",
    "        scheme_iterations[str(L_index)] = []\n",
    "\n",
    "        for file in scheme_dictionary[str(L_index)]:\n",
    "            with open(file, 'r') as csvfile:\n",
    "                lines = csv.reader(csvfile, delimiter=',')\n",
    "                scheme_iterations[str(L_index)].append(sum(1 for row in lines))\n",
    "\n",
    "                print('File ' + file + ' has ' + str(scheme_iterations[str(L_index)][-1]) + ' iterations!')\n",
    "        \n",
    "        print('')"
   ]
  },
  {
   "cell_type": "code",
   "execution_count": 8,
   "metadata": {},
   "outputs": [
    {
     "name": "stderr",
     "output_type": "stream",
     "text": [
      "The PostScript backend does not support transparency; partially transparent artists will be rendered opaque.\n"
     ]
    },
    {
     "data": {
      "image/png": "[encoded data removed]",
      "text/plain": [
       "<Figure size 500x500 with 1 Axes>"
      ]
     },
     "metadata": {},
     "output_type": "display_data"
    }
   ],
   "source": [
    "fig, ax = plt.subplots(nrows=1, ncols=1, figsize=(5, 5))\n",
    "\n",
    "for scheme_iterations in scheme_iterationss:\n",
    "    for L_index, upper_limit in zip(L_indices, [9]):\n",
    "\n",
    "        ax.plot([10, 20, 40, 60, 80, 100, 120, 140, 160], scheme_iterations[str(L_index)], 'o-')\n",
    "\n",
    "\n",
    "ax.set_xlabel('N')\n",
    "ax.set_ylabel('Number of Iterations')\n",
    "ax.grid()\n",
    "\n",
    "ax.legend(['Dual', 'Primal'])\n",
    "\n",
    "plt.savefig('L_scheme_N_comparison.eps', format='eps')"
   ]
  }
 ],
 "metadata": {
  "kernelspec": {
   "display_name": "Python 3",
   "language": "python",
   "name": "python3"
  },
  "language_info": {
   "codemirror_mode": {
    "name": "ipython",
    "version": 3
   },
   "file_extension": ".py",
   "mimetype": "text/x-python",
   "name": "python",
   "nbconvert_exporter": "python",
   "pygments_lexer": "ipython3",
   "version": "3.9.13"
  },
  "orig_nbformat": 4
 },
 "nbformat": 4,
 "nbformat_minor": 2
}
