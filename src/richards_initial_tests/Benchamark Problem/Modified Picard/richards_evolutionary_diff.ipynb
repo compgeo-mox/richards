{
 "cells": [
  {
   "attachments": {},
   "cell_type": "markdown",
   "metadata": {},
   "source": [
    "# Richards equation\n",
    "\n",
    "In this tutorial we present how to solve a Richards equation with [PyGeoN](https://github.com/compgeo-mox/pygeon).  The unkwons are the velocity $q$ and the pressure $p$.\n",
    "\n",
    "Let $\\Omega=(0,2)\\times(0,3)$ with boundary $\\partial \\Omega$ and outward unit normal ${\\nu}$. Given \n",
    "$k$ the matrix permeability, we want to solve the following problem: find $({q}, \\psi)$ such that\n",
    "$$\n",
    "\\left\\{\n",
    "\\begin{array}{ll}\n",
    "\\begin{array}{l} \n",
    "K^{-1}(\\psi) {q} + \\nabla \\psi = -\\nabla z\\\\\n",
    "\\partial_t \\theta (\\psi) + \\nabla \\cdot {q} = 0\n",
    "\\end{array}\n",
    "&\\text{in } \\Omega \\times (0,T)\n",
    "\\end{array}\n",
    "\\right.\n",
    "$$\n",
    "with boundary conditions:\n",
    "\n",
    "$$\n",
    "\\psi(t,x,z)=\n",
    "\\left\\{\n",
    "\\begin{array}{ll}\n",
    "\\begin{array}{l} \n",
    "-2+2.2 \\frac{t}{\\Delta t_D}, \\text{ on } \\Gamma_{D_1}, t\\leq\\Delta t_D\\\\\n",
    "0.2, \\text{ on } \\Gamma_{D_1}, t>\\Delta t_D\\\\\n",
    "1-z, \\text{ on } \\Gamma_{D_2}\n",
    "\\end{array}\n",
    "\\end{array}\n",
    "\\right., \\qquad \\nu \\cdot q = 0 \\text{ on } \\Gamma_N \\qquad \\psi(0,x,z) = 1-z \\text{ on } \\Omega$$\n",
    "and\n",
    "$$\n",
    "\\Gamma_{D_1} = \\left\\{ (x,z) \\in \\partial \\Omega \\:|\\: x \\in [0,1] \\wedge z=3  \\right\\},\\\\\n",
    "\\Gamma_{D_2} = \\left\\{ (x,z) \\in \\partial \\Omega \\:|\\: x = 2 \\wedge z \\in [0,1]  \\right\\},\\\\\n",
    "\\Gamma_{D} = \\Gamma_{D_1} \\cup \\Gamma_{D_2},\\\\\n",
    "\\Gamma_{N} = \\partial \\Omega \\setminus \\Gamma_D\n",
    "$$\n",
    "\n",
    "We present *step-by-step* how to create the grid, declare the problem data, and finally solve the problem."
   ]
  },
  {
   "attachments": {},
   "cell_type": "markdown",
   "metadata": {},
   "source": [
    "### Import and parameters"
   ]
  },
  {
   "cell_type": "code",
   "execution_count": 1,
   "metadata": {},
   "outputs": [],
   "source": [
    "import shutil\n",
    "import os\n",
    "\n",
    "import numpy as np\n",
    "import scipy.sparse as sps\n",
    "from scipy.sparse import linalg\n",
    "import sympy as sp\n",
    "\n",
    "import porepy as pp\n",
    "import pygeon as pg\n",
    "\n",
    "from math import ceil, floor, log10, exp\n",
    "\n",
    "import matplotlib.pyplot as plt"
   ]
  },
  {
   "cell_type": "code",
   "execution_count": 2,
   "metadata": {},
   "outputs": [],
   "source": [
    "K = 50\n",
    "N = 20\n",
    "num_steps = 10\n",
    "\n",
    "eps_psi_abs = 1e-6\n",
    "eps_psi_rel = 1e-6\n",
    "\n",
    "domain_tolerance = 1 / (10 * N)\n",
    "beta_q   = 0\n",
    "beta_psi = 0\n",
    "\n",
    "output_directory = 'output_evolutionary'"
   ]
  },
  {
   "cell_type": "code",
   "execution_count": 3,
   "metadata": {},
   "outputs": [],
   "source": [
    "rho = 1000\n",
    "g = pp.GRAVITY_ACCELERATION"
   ]
  },
  {
   "attachments": {},
   "cell_type": "markdown",
   "metadata": {},
   "source": [
    "theta_s = 0.396\n",
    "theta_r = 0.131\n",
    "\n",
    "alpha = 0.423\n",
    "\n",
    "n = 2.06\n",
    "K_s = 4.96e-2\n",
    "\n",
    "dt_D = 1/16\n",
    "T    = 3/16"
   ]
  },
  {
   "cell_type": "code",
   "execution_count": 4,
   "metadata": {},
   "outputs": [],
   "source": [
    "theta_s = 0.396\n",
    "theta_r = 0.131\n",
    "\n",
    "alpha = 0.423\n",
    "\n",
    "n = 2.06\n",
    "K_s = 4.96e-2\n",
    "\n",
    "dt_D = 1/16\n",
    "T    = 10/48"
   ]
  },
  {
   "cell_type": "code",
   "execution_count": 5,
   "metadata": {},
   "outputs": [],
   "source": [
    "h_s = 0\n",
    "theta_m = theta_s\n",
    "m = 1 - 1/n\n",
    "L = 0.5"
   ]
  },
  {
   "cell_type": "code",
   "execution_count": 6,
   "metadata": {},
   "outputs": [],
   "source": [
    "dt   = (T-0)/num_steps"
   ]
  },
  {
   "attachments": {},
   "cell_type": "markdown",
   "metadata": {},
   "source": [
    "### $\\theta$ and $k$, with their derivatives w.r.t. $\\psi$"
   ]
  },
  {
   "cell_type": "code",
   "execution_count": 7,
   "metadata": {},
   "outputs": [],
   "source": [
    "psi_var = sp.Symbol('psi', negative=True)\n",
    "theta_expression = theta_r + (theta_s - theta_r) / (1 + (-alpha * psi_var) ** n) ** m\n",
    "\n",
    "theta_negative_func = sp.lambdify(psi_var, theta_expression, 'numpy')"
   ]
  },
  {
   "cell_type": "code",
   "execution_count": 8,
   "metadata": {},
   "outputs": [],
   "source": [
    "effective_saturation = (theta_expression - theta_r) / (theta_s - theta_r)\n",
    "\n",
    "hydraulic_conductivity_expression = K_s * (effective_saturation ** L) * ( 1 - (1 - effective_saturation ** (1 / m)) ** m ) ** 2\n",
    "hydraulic_conductivity_negative_func = sp.lambdify(psi_var, hydraulic_conductivity_expression, 'numpy')"
   ]
  },
  {
   "cell_type": "code",
   "execution_count": 9,
   "metadata": {},
   "outputs": [],
   "source": [
    "def theta(psi):\n",
    "    mask = psi < h_s\n",
    "\n",
    "    res = np.ones_like(psi) * theta_s\n",
    "    res[mask] = theta_negative_func(psi[mask])\n",
    "\n",
    "    return res"
   ]
  },
  {
   "cell_type": "code",
   "execution_count": 10,
   "metadata": {},
   "outputs": [],
   "source": [
    "def hydraulic_conductivity_coefficient(psi):\n",
    "    mask = psi < h_s\n",
    "\n",
    "    res = np.ones_like(psi) * K_s\n",
    "    res[mask] = hydraulic_conductivity_negative_func(psi[mask])\n",
    "\n",
    "    return res"
   ]
  },
  {
   "cell_type": "code",
   "execution_count": 11,
   "metadata": {},
   "outputs": [],
   "source": [
    "derivative_theta_negative_func = sp.lambdify(psi_var, sp.diff(theta_expression, psi_var), 'numpy')\n",
    "derivative_hydraulic_conductivity_negative_func = sp.lambdify(psi_var, sp.diff(hydraulic_conductivity_expression, psi_var), 'numpy')\n",
    "derivative_inverse_hydraulic_conductivity_negative_func = sp.lambdify(psi_var, sp.diff(1 / hydraulic_conductivity_expression, psi_var), 'numpy')"
   ]
  },
  {
   "cell_type": "code",
   "execution_count": 12,
   "metadata": {},
   "outputs": [],
   "source": [
    "def derivative_theta(psi):\n",
    "    mask = psi < h_s\n",
    "    res = np.zeros_like(psi)\n",
    "\n",
    "    res[mask] = derivative_theta_negative_func(psi[mask])\n",
    "\n",
    "    return res"
   ]
  },
  {
   "cell_type": "code",
   "execution_count": 13,
   "metadata": {},
   "outputs": [],
   "source": [
    "def derivative_hydraulic_conductivity_coefficient(psi):\n",
    "    mask = psi < h_s\n",
    "    res = np.zeros_like(psi)\n",
    "\n",
    "    res[mask] = derivative_hydraulic_conductivity_negative_func(psi[mask])\n",
    "\n",
    "    return res"
   ]
  },
  {
   "cell_type": "code",
   "execution_count": 14,
   "metadata": {},
   "outputs": [],
   "source": [
    "def derivative_inverse_hydraulic_conductivity_coefficient(psi):\n",
    "    mask = psi < h_s\n",
    "    res = np.zeros_like(psi)\n",
    "\n",
    "    res[mask] = derivative_inverse_hydraulic_conductivity_negative_func(psi[mask])\n",
    "\n",
    "    return res"
   ]
  },
  {
   "cell_type": "code",
   "execution_count": 15,
   "metadata": {},
   "outputs": [],
   "source": [
    "def quick_plot():\n",
    "    psi_val = np.linspace(-2, 1, 100)\n",
    "\n",
    "    theta_max = theta_s\n",
    "    theta_min = theta_r\n",
    "\n",
    "    _, ((ax1, ax2, ax3), (ax4, ax5, ax6)) = plt.subplots(2, 3, figsize=(15, 10))\n",
    "\n",
    "    ax1.plot(psi_val, theta(psi_val))\n",
    "    ax1.plot(psi_val, theta_max * np.ones_like(psi_val), linestyle=\"--\", color=\"red\")\n",
    "    ax1.plot(\n",
    "        psi_val,\n",
    "        theta_min * np.ones_like(psi_val),\n",
    "        linestyle=\"--\",\n",
    "        color=\"green\",\n",
    "    )\n",
    "    ax1.set_title(\"theta\")\n",
    "\n",
    "    ax2.plot(psi_val, hydraulic_conductivity_coefficient(psi_val))\n",
    "    ax2.set_title(\"K\")\n",
    "\n",
    "    ax3.plot(psi_val, 1 / hydraulic_conductivity_coefficient(psi_val))\n",
    "    ax3.set_title(\"K^-1\")\n",
    "\n",
    "    ax4.plot(psi_val, derivative_theta(psi_val))\n",
    "    ax4.set_title(\"d theta / d psi\")\n",
    "\n",
    "    ax5.plot(psi_val, derivative_hydraulic_conductivity_coefficient(psi_val))\n",
    "    ax5.set_title(\"d (K) / d psi\")\n",
    "\n",
    "    ax6.plot(psi_val, derivative_inverse_hydraulic_conductivity_coefficient(psi_val))\n",
    "    ax6.set_title(\"d (K^-1) / d psi\")\n",
    "\n",
    "\n",
    "    plt.show()"
   ]
  },
  {
   "cell_type": "code",
   "execution_count": 16,
   "metadata": {},
   "outputs": [
    {
     "data": {
      "image/png": "[encoded data removed]",
      "text/plain": [
       "<Figure size 1500x1000 with 6 Axes>"
      ]
     },
     "metadata": {},
     "output_type": "display_data"
    }
   ],
   "source": [
    "quick_plot()"
   ]
  },
  {
   "attachments": {},
   "cell_type": "markdown",
   "metadata": {},
   "source": [
    "### Domain preparation"
   ]
  },
  {
   "cell_type": "code",
   "execution_count": 17,
   "metadata": {},
   "outputs": [],
   "source": [
    "subdomain = pp.StructuredTriangleGrid([2*N, 3*N], [2,3])\n",
    "# convert the grid into a mixed-dimensional grid\n",
    "mdg = pp.meshing.subdomains_to_mdg([subdomain])"
   ]
  },
  {
   "cell_type": "code",
   "execution_count": 18,
   "metadata": {},
   "outputs": [],
   "source": [
    "key = \"flow\"\n",
    "\n",
    "bc_value = []\n",
    "bc_essential = []\n",
    "initial_pressure = []\n",
    "\n",
    "gravity = []\n",
    "\n",
    "RT0 = pg.RT0(key)\n",
    "P0  = pg.PwConstants(key)"
   ]
  },
  {
   "cell_type": "code",
   "execution_count": 19,
   "metadata": {},
   "outputs": [],
   "source": [
    "def g_func(x): \n",
    "    return np.array([0, -1, -1])"
   ]
  },
  {
   "cell_type": "code",
   "execution_count": 20,
   "metadata": {},
   "outputs": [],
   "source": [
    "def initial_pressure_func(x): \n",
    "    return 1-x[1]"
   ]
  },
  {
   "cell_type": "code",
   "execution_count": 21,
   "metadata": {},
   "outputs": [],
   "source": [
    "for subdomain, data in mdg.subdomains(return_data=True):\n",
    "    g_proj = RT0.interpolate(subdomain, g_func)\n",
    "    gravity.append(RT0.assemble_mass_matrix(subdomain) @ g_proj)\n",
    "    \n",
    "    initial_pressure.append(P0.interpolate(subdomain, initial_pressure_func))\n",
    "        \n",
    "    # with the following steps we identify the portions of the boundary\n",
    "    # to impose the boundary conditions\n",
    "    boundary_faces_indexes = subdomain.get_boundary_faces()\n",
    "\n",
    "    gamma_d1 = np.logical_and(subdomain.face_centers[0, :] > 0-domain_tolerance, np.logical_and(subdomain.face_centers[0, :] < 1+domain_tolerance, subdomain.face_centers[1, :] > 3-domain_tolerance))\n",
    "    gamma_d2 = np.logical_and(subdomain.face_centers[0, :] > 2-domain_tolerance, np.logical_and(subdomain.face_centers[1, :] > 0-domain_tolerance, subdomain.face_centers[1, :] < 1+domain_tolerance))\n",
    "\n",
    "    gamma_d  = np.logical_or(gamma_d1, gamma_d2)\n",
    "    \n",
    "    gamma_n  = gamma_d.copy()\n",
    "    gamma_n[boundary_faces_indexes] = np.logical_not(gamma_n[boundary_faces_indexes])\n",
    "    \n",
    "\n",
    "    pp.initialize_data(subdomain, data, key, {\n",
    "        \"second_order_tensor\": pp.SecondOrderTensor(np.ones(subdomain.num_cells)),\n",
    "    })\n",
    "    \n",
    "    def bc_gamma_d(x, t):\n",
    "        if   x[0] > 2-domain_tolerance and x[1] > 0-domain_tolerance and x[1] < 1+domain_tolerance:\n",
    "            res =  1 - x[1]\n",
    "        elif x[1] > 3-domain_tolerance and x[0] > 0-domain_tolerance and x[0] < 1+domain_tolerance:\n",
    "            res = min( 0.2, -2 + 2.2 * t / dt_D )\n",
    "        else:\n",
    "            res = 0\n",
    "        \n",
    "        return res\n",
    "\n",
    "    bc_value.append(lambda t: - RT0.assemble_nat_bc(subdomain, lambda x: bc_gamma_d(x,t), gamma_d))\n",
    "\n",
    "    essential_pressure_dofs = np.zeros(P0.ndof(subdomain), dtype=bool)\n",
    "    bc_essential.append(np.hstack((gamma_n, essential_pressure_dofs)))"
   ]
  },
  {
   "attachments": {},
   "cell_type": "markdown",
   "metadata": {},
   "source": [
    "### Method"
   ]
  },
  {
   "attachments": {},
   "cell_type": "markdown",
   "metadata": {},
   "source": [
    "A quick recap:\n",
    "$$\n",
    "\\left\\{\n",
    "\\begin{array}{ll}\n",
    "\\begin{array}{l} \n",
    "K^{-1}(\\psi) {q} + \\nabla \\psi = -\\nabla z\\\\\n",
    "\\partial_t \\theta (\\psi) + \\nabla \\cdot {q} = 0\n",
    "\\end{array}\n",
    "&\\text{in } \\Omega \\times (0,T)\n",
    "\\end{array}\n",
    "\\right.\n",
    "$$\n",
    "becames, with the time discretization:"
   ]
  },
  {
   "attachments": {},
   "cell_type": "markdown",
   "metadata": {},
   "source": [
    "$$\n",
    "\\left\\{\n",
    "\\begin{array}{ll}\n",
    "\\begin{array}{l} \n",
    "K^{-1}(\\psi^{n+1}_k) {q^{n+1}_{k+1}} + \\nabla \\psi^{n+1}_{k+1} = -\\nabla z\\\\\n",
    "\\frac{\\partial \\theta(\\psi_k^{n+1})}{\\partial \\psi} \\frac{\\psi_{k+1}^{n+1}}{\\Delta t} + \\nabla \\cdot {q^{n+1}} = \\frac{\\partial \\theta(\\psi_k^{n+1})}{\\partial \\psi} \\frac{\\psi_{k}^{n+1}}{\\Delta t} + \\frac{\\theta (\\psi^{n}) - \\theta (\\psi^{n+1}_k)}{\\Delta t} \n",
    "\\end{array}\n",
    "&\\text{in } \\Omega \\times (0,T)\n",
    "\\end{array}\n",
    "\\right.\n",
    "$$"
   ]
  },
  {
   "cell_type": "code",
   "execution_count": 22,
   "metadata": {},
   "outputs": [],
   "source": [
    "B = -pg.cell_mass(mdg) @ pg.div(mdg)\n",
    "\n",
    "# get the degrees of freedom for each variable\n",
    "dof_p, dof_q = B.shape\n",
    "dof_psi = dof_p"
   ]
  },
  {
   "cell_type": "code",
   "execution_count": 23,
   "metadata": {},
   "outputs": [],
   "source": [
    "proj_q   = RT0.eval_at_cell_centers(subdomain)\n",
    "proj_psi =  P0.eval_at_cell_centers(subdomain)\n",
    "\n",
    "\n",
    "def export_step(save, current_sol, step) -> None:\n",
    "    q   = current_sol[:dof_q]\n",
    "    psi = current_sol[-dof_psi:]\n",
    "\n",
    "    ins = list()\n",
    "\n",
    "    ins.append((subdomain, \"cell_q\", ( proj_q @ q).reshape((3, -1), order=\"F\")))\n",
    "    ins.append((subdomain, \"cell_p\", proj_psi @ psi))\n",
    "    \n",
    "    save.write_vtu(ins, time_step=step)"
   ]
  },
  {
   "cell_type": "code",
   "execution_count": 24,
   "metadata": {},
   "outputs": [],
   "source": [
    "def project_array_to_P0(val):\n",
    "    return val * subdomain.cell_volumes"
   ]
  },
  {
   "cell_type": "code",
   "execution_count": 25,
   "metadata": {},
   "outputs": [],
   "source": [
    "def picard(sol_n, t_n_1, prev=None, iters=K, debug=False):\n",
    "    if prev == None:\n",
    "        prev = sol_n.copy()\n",
    "\n",
    "    Mass_q   = RT0.assemble_mass_matrix(subdomain)\n",
    "    Mass_psi =  P0.assemble_mass_matrix(subdomain)\n",
    "\n",
    "    # assemble the right-hand side\n",
    "    fixed_rhs = np.zeros(dof_psi + dof_q)\n",
    "\n",
    "    # Theta^n\n",
    "    fixed_rhs[-dof_psi:] += Mass_psi @ project_array_to_P0(theta(proj_psi @ sol_n[-dof_psi:])) / dt\n",
    "\n",
    "    # Natural BCs\n",
    "    fixed_rhs[:dof_q] += np.hstack(list(cond(t_n_1) for cond in bc_value))\n",
    "\n",
    "    # Gravity\n",
    "    fixed_rhs[:dof_q] += np.hstack(gravity)\n",
    "\n",
    "    if debug:\n",
    "        save_debug = pp.Exporter(mdg, \"sol_\" + str(t_n_1), folder_name=output_directory + \"/debug\")\n",
    "        export_step(save_debug, prev, 0)\n",
    "\n",
    "    print('Time ' + str(round(t_n_1, 5)))\n",
    "\n",
    "    for k in range(iters):\n",
    "        psi = prev[-dof_psi:]\n",
    "        q   = prev[:dof_q]\n",
    "\n",
    "        rhs = None\n",
    "        rhs = fixed_rhs.copy()\n",
    "\n",
    "        # Theta^{n+1}_k\n",
    "        rhs[-dof_psi:] -= Mass_psi @ project_array_to_P0(theta(proj_psi @ psi)) / dt\n",
    "\n",
    "        # Dev Thetha^{n+1}_k\n",
    "        rhs[-dof_psi:] += Mass_psi @ np.diag(derivative_theta(proj_psi @ psi)) @ psi / dt\n",
    "\n",
    "        rhs[-dof_psi:] += beta_psi * Mass_psi @ psi\n",
    "        rhs[:dof_q]    += beta_q   * Mass_q   @ q\n",
    "\n",
    "\n",
    "        data[pp.PARAMETERS].update({\"second_order_tensor\": pp.SecondOrderTensor(hydraulic_conductivity_coefficient(proj_psi @ psi))})\n",
    "\n",
    "        # construct the local matrices\n",
    "        M_k_n_1 = None\n",
    "        M_k_n_1 = pg.face_mass(mdg)\n",
    "\n",
    "        \n",
    "        spp = sps.bmat([[M_k_n_1 + beta_q * Mass_q,                                                                             B.T], \n",
    "                        [-B,                        beta_psi * Mass_psi + Mass_psi @ np.diag(derivative_theta(proj_psi @ psi)) / dt]], format=\"csc\")\n",
    "\n",
    "        \n",
    "        # solve the problem\n",
    "        ls = None\n",
    "        ls = pg.LinearSystem(spp, rhs)\n",
    "        ls.flag_ess_bc(np.hstack(bc_essential), np.zeros(dof_q + dof_psi))\n",
    "    \n",
    "        current = None\n",
    "        current = ls.solve()\n",
    "\n",
    "        if debug:\n",
    "            export_step(save_debug, current, k+1)\n",
    "\n",
    "\n",
    "        abs_err_psi  = np.sqrt(np.sum(np.power(current[-dof_psi:] - psi, 2)))\n",
    "        abs_err_prev = np.sqrt(np.sum(np.power(psi, 2)))\n",
    "\n",
    "\n",
    "        print('Iteration #' + format(k+1, '0' + str(ceil(log10(iters)) + 1) + 'd') \n",
    "              + ', error L2 relative psi: ' + format(abs_err_psi, str(5 + ceil(log10(1 / eps_psi_abs)) + 4) + '.' + str(ceil(log10(1 / eps_psi_abs)) + 4) + 'f') )\n",
    "\n",
    "        if abs_err_psi < eps_psi_abs + eps_psi_rel * abs_err_prev:\n",
    "            print('')\n",
    "            return current\n",
    "        else:\n",
    "            prev = current\n",
    "    return current"
   ]
  },
  {
   "cell_type": "code",
   "execution_count": 26,
   "metadata": {},
   "outputs": [],
   "source": [
    "if os.path.exists(output_directory):\n",
    "    shutil.rmtree(output_directory)"
   ]
  },
  {
   "cell_type": "code",
   "execution_count": 27,
   "metadata": {},
   "outputs": [],
   "source": [
    "# assemble initial solution\n",
    "initial_solution = np.zeros(dof_q + dof_psi)\n",
    "initial_solution[-dof_psi:] += np.hstack(initial_pressure)"
   ]
  },
  {
   "cell_type": "code",
   "execution_count": 28,
   "metadata": {},
   "outputs": [
    {
     "name": "stdout",
     "output_type": "stream",
     "text": [
      "Time 0.02083\n",
      "Iteration #001, error L2 relative psi:    0.0161944854\n",
      "Iteration #002, error L2 relative psi:    0.0003150668\n",
      "Iteration #003, error L2 relative psi:    0.0000005554\n",
      "\n",
      "Time 0.04167\n",
      "Iteration #001, error L2 relative psi:    0.0231693750\n",
      "Iteration #002, error L2 relative psi:    0.0019230193\n",
      "Iteration #003, error L2 relative psi:    0.0000238953\n",
      "Iteration #004, error L2 relative psi:    0.0000000037\n",
      "\n",
      "Time 0.0625\n",
      "Iteration #001, error L2 relative psi:    0.0311485938\n",
      "Iteration #002, error L2 relative psi:    0.0072237155\n",
      "Iteration #003, error L2 relative psi:    0.0002848870\n",
      "Iteration #004, error L2 relative psi:    0.0000004224\n",
      "\n",
      "Time 0.08333\n",
      "Iteration #001, error L2 relative psi:    0.0183433999\n",
      "Iteration #002, error L2 relative psi:    0.0022785025\n",
      "Iteration #003, error L2 relative psi:    0.0000339451\n",
      "Iteration #004, error L2 relative psi:    0.0000000094\n",
      "\n",
      "Time 0.10417\n",
      "Iteration #001, error L2 relative psi:    0.0056840156\n",
      "Iteration #002, error L2 relative psi:    0.0002874551\n",
      "Iteration #003, error L2 relative psi:    0.0000006801\n",
      "\n",
      "Time 0.125\n",
      "Iteration #001, error L2 relative psi:    0.0011215411\n",
      "Iteration #002, error L2 relative psi:    0.0000118815\n",
      "Iteration #003, error L2 relative psi:    0.0000000013\n",
      "\n",
      "Time 0.14583\n",
      "Iteration #001, error L2 relative psi:    0.0001700454\n",
      "Iteration #002, error L2 relative psi:    0.0000002784\n",
      "\n",
      "Time 0.16667\n",
      "Iteration #001, error L2 relative psi:    0.0000244337\n",
      "Iteration #002, error L2 relative psi:    0.0000000058\n",
      "\n",
      "Time 0.1875\n",
      "Iteration #001, error L2 relative psi:    0.0000034861\n",
      "Iteration #002, error L2 relative psi:    0.0000000001\n",
      "\n",
      "Time 0.20833\n",
      "Iteration #001, error L2 relative psi:    0.0000004969\n",
      "\n"
     ]
    }
   ],
   "source": [
    "sol = [initial_solution]\n",
    "save = pp.Exporter(mdg, \"sol\", folder_name=output_directory)\n",
    "export_step(save, sol[-1], 0)\n",
    "\n",
    "# Time Loop\n",
    "for step in range(1, ceil(T/dt)+1):\n",
    "    sol.append( picard(sol[-1], step * dt, debug=True) )\n",
    "    export_step(save, sol[-1], step)\n",
    "\n",
    "save.write_pvd(np.array(range(0, ceil(T/dt)+1)) * dt)"
   ]
  }
 ],
 "metadata": {
  "kernelspec": {
   "display_name": ".venv",
   "language": "python",
   "name": "python3"
  },
  "language_info": {
   "codemirror_mode": {
    "name": "ipython",
    "version": 3
   },
   "file_extension": ".py",
   "mimetype": "text/x-python",
   "name": "python",
   "nbconvert_exporter": "python",
   "pygments_lexer": "ipython3",
   "version": "3.10.6"
  },
  "orig_nbformat": 4
 },
 "nbformat": 4,
 "nbformat_minor": 2
}
