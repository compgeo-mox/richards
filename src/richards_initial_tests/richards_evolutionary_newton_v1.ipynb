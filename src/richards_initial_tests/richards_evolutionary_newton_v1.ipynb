{
 "cells": [
  {
   "attachments": {},
   "cell_type": "markdown",
   "metadata": {},
   "source": [
    "# Darcy equation\n",
    "\n",
    "In this tutorial we present how to solve a Darcy equation with [PyGeoN](https://github.com/compgeo-mox/pygeon).  The unkwons are the velocity $q$ and the pressure $p$.\n",
    "\n",
    "Let $\\Omega=(0,1)^2$ with boundary $\\partial \\Omega$ and outward unit normal ${\\nu}$. Given \n",
    "$k$ the matrix permeability, we want to solve the following problem: find $({q}, p)$ such that\n",
    "$$\n",
    "\\left\\{\n",
    "\\begin{array}{ll}\n",
    "\\begin{array}{l} \n",
    "k^{-1}(\\psi) {q} + \\nabla \\psi = -\\nabla z\\\\\n",
    "\\partial_t \\theta (\\psi) + \\nabla \\cdot {q} = 0\n",
    "\\end{array}\n",
    "&\\text{in } \\Omega \\times (0,T)\n",
    "\\end{array}\n",
    "\\right.\n",
    "$$\n",
    "with boundary conditions:\n",
    "$$ \\psi = 0 \\text{ on } \\partial_{top} \\Omega \\qquad \\psi = 1 \\text{ on } \\partial_{bottom} \\Omega \\qquad \\nu \\cdot q = 0 \\text{ on } \\partial_{left} \\Omega \\cup \\partial_{right} \\Omega$$\n",
    "\n",
    "We present *step-by-step* how to create the grid, declare the problem data, and finally solve the problem."
   ]
  },
  {
   "attachments": {},
   "cell_type": "markdown",
   "metadata": {},
   "source": [
    "### Import and parameters"
   ]
  },
  {
   "cell_type": "code",
   "execution_count": 1,
   "metadata": {},
   "outputs": [],
   "source": [
    "import shutil\n",
    "import os\n",
    "\n",
    "import numpy as np\n",
    "import scipy.sparse as sps\n",
    "import sympy as sp\n",
    "\n",
    "import porepy as pp\n",
    "import pygeon as pg\n",
    "\n",
    "from math import ceil"
   ]
  },
  {
   "cell_type": "code",
   "execution_count": 2,
   "metadata": {},
   "outputs": [],
   "source": [
    "K = 1000\n",
    "N = 10\n",
    "eps = 1e-6\n",
    "\n",
    "output_directory = 'output_evolutionary_v1'"
   ]
  },
  {
   "cell_type": "code",
   "execution_count": 3,
   "metadata": {},
   "outputs": [],
   "source": [
    "rho = 1000\n",
    "g = pp.GRAVITY_ACCELERATION\n",
    "\n",
    "\n",
    "T = 3/16\n",
    "dt = 1/48\n",
    "\n",
    "dt_D = 1/16"
   ]
  },
  {
   "cell_type": "code",
   "execution_count": 4,
   "metadata": {},
   "outputs": [],
   "source": [
    "n = 2.06\n",
    "alpha = 0.423\n",
    "K_s = 4.96e-2\n",
    "\n",
    "theta_r = 0.131\n",
    "theta_s = 0.396"
   ]
  },
  {
   "attachments": {},
   "cell_type": "markdown",
   "metadata": {},
   "source": [
    "### $\\theta$ and $k$, with their derivatives w.r.t. $\\psi$"
   ]
  },
  {
   "cell_type": "code",
   "execution_count": 5,
   "metadata": {},
   "outputs": [],
   "source": [
    "def theta(psi):\n",
    "    th = np.ones(len(psi)) * theta_s\n",
    "    th[psi <= 0] = theta_r + (theta_s - theta_r) * (1 / np.power((1 + np.power(-alpha * psi[psi <= 0], n)), 1-1/n) )\n",
    "\n",
    "    return th"
   ]
  },
  {
   "cell_type": "code",
   "execution_count": 6,
   "metadata": {},
   "outputs": [],
   "source": [
    "def dtheta_dpsi(psi):\n",
    "    psi_var = sp.Symbol('psi', negative=True)\n",
    "    diff = sp.diff( theta_r + (theta_s - theta_r) * 1 / (1+(-alpha * psi_var) ** n) ** (1-1/n), psi_var)\n",
    "    \n",
    "    res = np.zeros(shape=psi.shape)\n",
    "    res[psi <= 0] = np.array(list(diff.subs(psi_var, val).evalf() for val in psi[psi <= 0]))\n",
    "\n",
    "    return res"
   ]
  },
  {
   "cell_type": "code",
   "execution_count": 7,
   "metadata": {},
   "outputs": [],
   "source": [
    "def d2theta_dpsi(psi):\n",
    "    psi_var = sp.Symbol('psi', negative=True)\n",
    "    diff = sp.diff( theta_r + (theta_s - theta_r) * 1 / (1+(-alpha * psi_var) ** n) ** (1-1/n), psi_var, 2)\n",
    "    \n",
    "    res = np.zeros(shape=psi.shape)\n",
    "    res[psi <= 0] = np.array(list(diff.subs(psi_var, val).evalf() for val in psi[psi <= 0]))\n",
    "\n",
    "    return res"
   ]
  },
  {
   "cell_type": "code",
   "execution_count": 8,
   "metadata": {},
   "outputs": [],
   "source": [
    "def conductivity_tensor(psi):\n",
    "    coeff = K_s * np.ones(len(psi))\n",
    "    th = theta(psi[psi <= 0])\n",
    "\n",
    "    coeff[psi <= 0] = np.array( K_s * np.power(th, 0.5) * np.power( 1 - np.power( 1 - np.power(th, n/(n-1)) , 1-1/n) , 2) )\n",
    "\n",
    "    return pp.SecondOrderTensor(coeff)"
   ]
  },
  {
   "cell_type": "code",
   "execution_count": 9,
   "metadata": {},
   "outputs": [],
   "source": [
    "def dconductivity_tensor_dpsi(psi):\n",
    "    coeff = np.zeros(len(psi))\n",
    "    psi_var = sp.Symbol('psi', negative=True)\n",
    "    exp = theta_r + (theta_s - theta_r) * 1 / (1+(-alpha * psi_var) ** n) ** (1-1/n)\n",
    "\n",
    "    diff = sp.diff( K_s * exp ** (1/2) * ( 1 - (1 - exp ** (n / (n-1))) ** (1-1/n) ) ** 2, psi_var)\n",
    "\n",
    "    coeff[psi <= 0] = np.array(list(diff.subs(psi_var, val).evalf() for val in psi[psi <= 0]))\n",
    "\n",
    "    return pp.SecondOrderTensor(coeff)"
   ]
  },
  {
   "attachments": {},
   "cell_type": "markdown",
   "metadata": {},
   "source": [
    "### Domain preparation"
   ]
  },
  {
   "cell_type": "code",
   "execution_count": 10,
   "metadata": {},
   "outputs": [],
   "source": [
    "subdomain = pp.StructuredTriangleGrid([2*N, 3*N], [2,3])\n",
    "# convert the grid into a mixed-dimensional grid\n",
    "mdg = pp.meshing.subdomains_to_mdg([subdomain])"
   ]
  },
  {
   "cell_type": "code",
   "execution_count": 11,
   "metadata": {},
   "outputs": [],
   "source": [
    "key = \"flow\"\n",
    "\n",
    "bc_value = []\n",
    "bc_essential = []\n",
    "initial_pressure = [ ]\n",
    "\n",
    "gravity = []\n",
    "\n",
    "RT0 = pg.RT0(key)\n",
    "P0  = pg.PwConstants(key)"
   ]
  },
  {
   "cell_type": "code",
   "execution_count": 12,
   "metadata": {},
   "outputs": [],
   "source": [
    "def g_func(x): \n",
    "    return np.array([0, -1, -1])"
   ]
  },
  {
   "cell_type": "code",
   "execution_count": 13,
   "metadata": {},
   "outputs": [],
   "source": [
    "def initial_pressure_func(x): \n",
    "    return 1-x[1]"
   ]
  },
  {
   "cell_type": "code",
   "execution_count": 14,
   "metadata": {},
   "outputs": [],
   "source": [
    "for subdomain, data in mdg.subdomains(return_data=True):\n",
    "    g_proj = RT0.interpolate(subdomain, g_func)\n",
    "    gravity.append(RT0.assemble_mass_matrix(subdomain) @ g_proj)\n",
    "    initial_pressure.append(P0.interpolate(subdomain, initial_pressure_func))\n",
    "        \n",
    "    # with the following steps we identify the portions of the boundary\n",
    "    # to impose the boundary conditions\n",
    "    gamma_d1 = np.logical_and(subdomain.face_centers[0, :] >= 0, subdomain.face_centers[0, :] <= 1, subdomain.face_centers[1, :] == 3)\n",
    "    gamma_d2 = np.logical_and(subdomain.face_centers[0, :] == 2, subdomain.face_centers[1, :] >= 0, subdomain.face_centers[1, :] <= 1)\n",
    "\n",
    "    gamma_d = np.logical_or(gamma_d1, gamma_d2)\n",
    "    gamma_n = np.logical_not(gamma_d)\n",
    "    \n",
    "    def psi_bc(x): return 1\n",
    "\n",
    "    def bc_gamma_d(x, t):\n",
    "        if   x[0] == 2 and x[1] >= 0 and x[1] <= 1:\n",
    "            return 1 - x[1]\n",
    "        elif x[1] == 3 and x[0] >= 0 and x[0] <= 1:\n",
    "            if t < dt_D:\n",
    "                return -2 + 2.2 * t / dt_D\n",
    "            else:\n",
    "                return 0.2\n",
    "        else:\n",
    "            return 0\n",
    "\n",
    "    bc_value.append(lambda t: - RT0.assemble_nat_bc(subdomain, lambda x: bc_gamma_d(x,t), gamma_d))\n",
    "\n",
    "    essential_pressure_dofs = np.zeros(P0.ndof(subdomain), dtype=bool)\n",
    "    bc_essential.append(np.hstack((gamma_n, essential_pressure_dofs)))"
   ]
  },
  {
   "attachments": {},
   "cell_type": "markdown",
   "metadata": {},
   "source": [
    "A quick recap:\n",
    "$$\n",
    "\\left\\{\n",
    "\\begin{array}{ll}\n",
    "\\begin{array}{l} \n",
    "k^{-1}(\\psi) {q} + \\nabla \\psi = -\\nabla z\\\\\n",
    "\\partial_t \\theta (\\psi) + \\nabla \\cdot {q} = 0\n",
    "\\end{array}\n",
    "&\\text{in } \\Omega \\times (0,T)\n",
    "\\end{array}\n",
    "\\right.\n",
    "$$\n",
    "becames:\n",
    "$$\n",
    "\\left\\{\n",
    "\\begin{array}{ll}\n",
    "\\begin{array}{l} \n",
    "N_0^{k} q_{k+1}^{n+1} - B^T \\psi_{k+1}^{n+1} = G^{n+1} - N_1^{k} q_k^{n+1}\\\\\n",
    "B q_{k+1}^{n+1} + \\frac{M_1^k}{\\Delta t} \\psi_{k+1}^{n+1} = F^{n+1} - \\frac{M_2^k}{\\Delta t} \\psi_{k}^{n+1} + \\frac{M_1^n}{\\Delta t} \\psi^{n}\n",
    "\\end{array}\n",
    "\\end{array}\n",
    "\\right.\n",
    "$$\n",
    "where:\n",
    "$$ [N_0^{k}]_{i,j} = \\left(k^{-1}(\\psi^{n+1}_k)\\phi_j, \\phi_i\\right)_{L^2(\\Omega)} \\qquad [N_1^{k}]_{i,j} = \\left(\\frac{\\partial k^{-1}(\\psi^{n+1}_k)}{\\partial \\psi}\\phi_j, \\phi_i\\right)_{L^2(\\Omega)}$$\n",
    "$$ [M_1^{k}]_{i,j} = \\left(\\frac{\\partial \\theta(\\psi^{n+1}_k)}{\\partial \\psi} \\gamma_j, \\gamma_i\\right)_{L^2(\\Omega)} \\qquad [M_2^{k}]_{i,j} = \\left(\\frac{\\partial^2 \\theta(\\psi^{n+1}_k)}{\\partial \\psi^2} \\gamma_j, \\gamma_i\\right)_{L^2(\\Omega)} \\qquad [M_1^{n}]_{i,j} = \\left(\\frac{\\partial \\theta(\\psi^{n})}{\\partial \\psi} \\gamma_j, \\gamma_i\\right)_{L^2(\\Omega)}$$"
   ]
  },
  {
   "cell_type": "code",
   "execution_count": 15,
   "metadata": {},
   "outputs": [],
   "source": [
    "div = pg.cell_mass(mdg) @ pg.div(mdg)\n",
    "\n",
    "# get the degrees of freedom for each variable\n",
    "dof_p, dof_q = div.shape\n",
    "dof_psi = dof_p"
   ]
  },
  {
   "cell_type": "code",
   "execution_count": 16,
   "metadata": {},
   "outputs": [],
   "source": [
    "def assemble_mass_psi_matrix(psi, der = dtheta_dpsi):\n",
    "    return pg.mass_matrix(mdg, 0, P0) @ np.diag(der(psi))"
   ]
  },
  {
   "cell_type": "code",
   "execution_count": 17,
   "metadata": {},
   "outputs": [],
   "source": [
    "def newton(sol_n, t_n_1):\n",
    "    prev = sol_n.copy()\n",
    "    sol_n_1 = prev\n",
    "\n",
    "    # assemble the right-hand side\n",
    "    fixed_rhs = np.zeros(dof_psi + dof_q)\n",
    "\n",
    "    # Natural BCs\n",
    "    fixed_rhs[:dof_q]    += np.hstack(list(cond(t_n_1) for cond in bc_value))\n",
    "\n",
    "    # Gravity\n",
    "    fixed_rhs[:dof_q]    += np.hstack(gravity)\n",
    "\n",
    "    # Previous time step\n",
    "    fixed_rhs[-dof_psi:] += assemble_mass_psi_matrix(prev[-dof_psi:]) @ prev[-dof_psi:] / dt\n",
    "\n",
    "\n",
    "    for k in range(K):\n",
    "\n",
    "        rhs = fixed_rhs.copy()\n",
    "\n",
    "        pp.initialize_data(subdomain, data, key, {\n",
    "            \"second_order_tensor\": conductivity_tensor(prev[-dof_psi:]),\n",
    "        })\n",
    "\n",
    "        # construct the local matrices\n",
    "        n_0_k = pg.face_mass(mdg)\n",
    "        m_1_k = assemble_mass_psi_matrix(prev[-dof_psi:])\n",
    "\n",
    "        pp.initialize_data(subdomain, data, key, {\n",
    "            \"second_order_tensor\": dconductivity_tensor_dpsi(prev[-dof_psi:]), # To fix...\n",
    "        })\n",
    "        n_1_k = pg.face_mass(mdg)\n",
    "        m_2_k = assemble_mass_psi_matrix(prev[-dof_psi:], d2theta_dpsi)\n",
    "\n",
    "        rhs[:dof_q]    -= n_1_k @ prev[:dof_q]\n",
    "        rhs[-dof_psi:] -= m_2_k @ prev[-dof_psi:] / dt\n",
    "\n",
    "\n",
    "        # assemble the saddle point problem\n",
    "        spp = sps.bmat([[n_0_k, -div.T], \n",
    "                        [ div,  m_1_k / dt]], format=\"csc\")\n",
    "\n",
    "        # solve the problem\n",
    "        ls = pg.LinearSystem(spp, rhs)\n",
    "        ls.flag_ess_bc(np.hstack(bc_essential), np.zeros(dof_q + dof_psi))\n",
    "    \n",
    "        prev = sol_n_1.copy()\n",
    "        sol_n_1 = ls.solve()\n",
    "\n",
    "        err = np.sum(np.power(sol_n_1-prev, 2))\n",
    "\n",
    "        print(f'Time {t_n_1}, Iteration {k}, error L2: {err}')\n",
    "\n",
    "        if err < eps:\n",
    "            return sol_n_1\n",
    "    \n",
    "    return sol_n_1"
   ]
  },
  {
   "cell_type": "code",
   "execution_count": 18,
   "metadata": {},
   "outputs": [],
   "source": [
    "proj_q   = RT0.eval_at_cell_centers(subdomain)\n",
    "proj_psi =  P0.eval_at_cell_centers(subdomain)\n",
    "\n",
    "def export_step(save, current_sol, step) -> None:\n",
    "    q =  current_sol[:dof_q]\n",
    "    psi = current_sol[-dof_psi:]\n",
    "\n",
    "    for _, data in mdg.subdomains(return_data=True):\n",
    "        data[pp.STATE] = {\"cell_q\": (proj_q @ q).reshape((3, -1), order=\"F\"), \n",
    "                          \"cell_p\": (proj_psi @ psi)}\n",
    "    \n",
    "    save.write_vtu([\"cell_q\", \"cell_p\"], time_step=step)"
   ]
  },
  {
   "cell_type": "code",
   "execution_count": 19,
   "metadata": {},
   "outputs": [],
   "source": [
    "if os.path.exists(output_directory):\n",
    "    shutil.rmtree(output_directory)"
   ]
  },
  {
   "cell_type": "code",
   "execution_count": 20,
   "metadata": {},
   "outputs": [],
   "source": [
    "# assemble initial solution\n",
    "initial_solution = np.zeros(dof_p + dof_q)\n",
    "initial_solution[-dof_p:] += np.hstack(initial_pressure)"
   ]
  },
  {
   "cell_type": "code",
   "execution_count": 21,
   "metadata": {},
   "outputs": [
    {
     "name": "stderr",
     "output_type": "stream",
     "text": [
      "/home/faccus/CLionProjects/porepy/src/porepy/numerics/vem/dual_elliptic.py:796: RuntimeWarning: invalid value encountered in true_divide\n",
      "  return np.array([[K[1, 1], -K[0, 1]], [-K[0, 1], K[0, 0]]]) / det\n"
     ]
    },
    {
     "name": "stdout",
     "output_type": "stream",
     "text": [
      "[[0.         0.         0.         ... 0.         0.         0.        ]\n",
      " [0.         0.         0.         ... 0.         0.         0.        ]\n",
      " [0.         0.         0.         ... 0.         0.         0.        ]\n",
      " ...\n",
      " [0.         0.         0.         ... 0.07113732 0.         0.        ]\n",
      " [0.         0.         0.         ... 0.         0.06985996 0.        ]\n",
      " [0.         0.         0.         ... 0.         0.         0.07113732]]\n",
      "Time 0.020833333333333332, Iteration 0, error L2: nan\n"
     ]
    },
    {
     "name": "stderr",
     "output_type": "stream",
     "text": [
      "/home/faccus/.local/lib/python3.10/site-packages/scipy/sparse/linalg/_dsolve/linsolve.py:206: MatrixRankWarning: Matrix is exactly singular\n",
      "  warn(\"Matrix is exactly singular\", MatrixRankWarning)\n"
     ]
    },
    {
     "name": "stdout",
     "output_type": "stream",
     "text": [
      "[[0.         0.         0.         ... 0.         0.         0.        ]\n",
      " [0.         0.         0.         ... 0.         0.         0.        ]\n",
      " [0.         0.         0.         ... 0.         0.         0.        ]\n",
      " ...\n",
      " [0.         0.         0.         ... 0.07113732 0.         0.        ]\n",
      " [0.         0.         0.         ... 0.         0.06985996 0.        ]\n",
      " [0.         0.         0.         ... 0.         0.         0.07113732]]\n",
      "Time 0.020833333333333332, Iteration 1, error L2: nan\n",
      "[[0. 0. 0. ... 0. 0. 0.]\n",
      " [0. 0. 0. ... 0. 0. 0.]\n",
      " [0. 0. 0. ... 0. 0. 0.]\n",
      " ...\n",
      " [0. 0. 0. ... 0. 0. 0.]\n",
      " [0. 0. 0. ... 0. 0. 0.]\n",
      " [0. 0. 0. ... 0. 0. 0.]]\n",
      "Time 0.020833333333333332, Iteration 2, error L2: nan\n",
      "[[0. 0. 0. ... 0. 0. 0.]\n",
      " [0. 0. 0. ... 0. 0. 0.]\n",
      " [0. 0. 0. ... 0. 0. 0.]\n",
      " ...\n",
      " [0. 0. 0. ... 0. 0. 0.]\n",
      " [0. 0. 0. ... 0. 0. 0.]\n",
      " [0. 0. 0. ... 0. 0. 0.]]\n",
      "Time 0.020833333333333332, Iteration 3, error L2: nan\n",
      "[[0. 0. 0. ... 0. 0. 0.]\n",
      " [0. 0. 0. ... 0. 0. 0.]\n",
      " [0. 0. 0. ... 0. 0. 0.]\n",
      " ...\n",
      " [0. 0. 0. ... 0. 0. 0.]\n",
      " [0. 0. 0. ... 0. 0. 0.]\n",
      " [0. 0. 0. ... 0. 0. 0.]]\n",
      "Time 0.020833333333333332, Iteration 4, error L2: nan\n",
      "[[0. 0. 0. ... 0. 0. 0.]\n",
      " [0. 0. 0. ... 0. 0. 0.]\n",
      " [0. 0. 0. ... 0. 0. 0.]\n",
      " ...\n",
      " [0. 0. 0. ... 0. 0. 0.]\n",
      " [0. 0. 0. ... 0. 0. 0.]\n",
      " [0. 0. 0. ... 0. 0. 0.]]\n",
      "Time 0.020833333333333332, Iteration 5, error L2: nan\n",
      "[[0. 0. 0. ... 0. 0. 0.]\n",
      " [0. 0. 0. ... 0. 0. 0.]\n",
      " [0. 0. 0. ... 0. 0. 0.]\n",
      " ...\n",
      " [0. 0. 0. ... 0. 0. 0.]\n",
      " [0. 0. 0. ... 0. 0. 0.]\n",
      " [0. 0. 0. ... 0. 0. 0.]]\n",
      "Time 0.020833333333333332, Iteration 6, error L2: nan\n",
      "[[0. 0. 0. ... 0. 0. 0.]\n",
      " [0. 0. 0. ... 0. 0. 0.]\n",
      " [0. 0. 0. ... 0. 0. 0.]\n",
      " ...\n",
      " [0. 0. 0. ... 0. 0. 0.]\n",
      " [0. 0. 0. ... 0. 0. 0.]\n",
      " [0. 0. 0. ... 0. 0. 0.]]\n",
      "Time 0.020833333333333332, Iteration 7, error L2: nan\n",
      "[[0. 0. 0. ... 0. 0. 0.]\n",
      " [0. 0. 0. ... 0. 0. 0.]\n",
      " [0. 0. 0. ... 0. 0. 0.]\n",
      " ...\n",
      " [0. 0. 0. ... 0. 0. 0.]\n",
      " [0. 0. 0. ... 0. 0. 0.]\n",
      " [0. 0. 0. ... 0. 0. 0.]]\n",
      "Time 0.020833333333333332, Iteration 8, error L2: nan\n",
      "[[0. 0. 0. ... 0. 0. 0.]\n",
      " [0. 0. 0. ... 0. 0. 0.]\n",
      " [0. 0. 0. ... 0. 0. 0.]\n",
      " ...\n",
      " [0. 0. 0. ... 0. 0. 0.]\n",
      " [0. 0. 0. ... 0. 0. 0.]\n",
      " [0. 0. 0. ... 0. 0. 0.]]\n",
      "Time 0.020833333333333332, Iteration 9, error L2: nan\n",
      "[[0. 0. 0. ... 0. 0. 0.]\n",
      " [0. 0. 0. ... 0. 0. 0.]\n",
      " [0. 0. 0. ... 0. 0. 0.]\n",
      " ...\n",
      " [0. 0. 0. ... 0. 0. 0.]\n",
      " [0. 0. 0. ... 0. 0. 0.]\n",
      " [0. 0. 0. ... 0. 0. 0.]]\n",
      "Time 0.020833333333333332, Iteration 10, error L2: nan\n",
      "[[0. 0. 0. ... 0. 0. 0.]\n",
      " [0. 0. 0. ... 0. 0. 0.]\n",
      " [0. 0. 0. ... 0. 0. 0.]\n",
      " ...\n",
      " [0. 0. 0. ... 0. 0. 0.]\n",
      " [0. 0. 0. ... 0. 0. 0.]\n",
      " [0. 0. 0. ... 0. 0. 0.]]\n",
      "Time 0.020833333333333332, Iteration 11, error L2: nan\n",
      "[[0. 0. 0. ... 0. 0. 0.]\n",
      " [0. 0. 0. ... 0. 0. 0.]\n",
      " [0. 0. 0. ... 0. 0. 0.]\n",
      " ...\n",
      " [0. 0. 0. ... 0. 0. 0.]\n",
      " [0. 0. 0. ... 0. 0. 0.]\n",
      " [0. 0. 0. ... 0. 0. 0.]]\n",
      "Time 0.020833333333333332, Iteration 12, error L2: nan\n",
      "[[0. 0. 0. ... 0. 0. 0.]\n",
      " [0. 0. 0. ... 0. 0. 0.]\n",
      " [0. 0. 0. ... 0. 0. 0.]\n",
      " ...\n",
      " [0. 0. 0. ... 0. 0. 0.]\n",
      " [0. 0. 0. ... 0. 0. 0.]\n",
      " [0. 0. 0. ... 0. 0. 0.]]\n",
      "Time 0.020833333333333332, Iteration 13, error L2: nan\n",
      "[[0. 0. 0. ... 0. 0. 0.]\n",
      " [0. 0. 0. ... 0. 0. 0.]\n",
      " [0. 0. 0. ... 0. 0. 0.]\n",
      " ...\n",
      " [0. 0. 0. ... 0. 0. 0.]\n",
      " [0. 0. 0. ... 0. 0. 0.]\n",
      " [0. 0. 0. ... 0. 0. 0.]]\n",
      "Time 0.020833333333333332, Iteration 14, error L2: nan\n",
      "[[0. 0. 0. ... 0. 0. 0.]\n",
      " [0. 0. 0. ... 0. 0. 0.]\n",
      " [0. 0. 0. ... 0. 0. 0.]\n",
      " ...\n",
      " [0. 0. 0. ... 0. 0. 0.]\n",
      " [0. 0. 0. ... 0. 0. 0.]\n",
      " [0. 0. 0. ... 0. 0. 0.]]\n",
      "Time 0.020833333333333332, Iteration 15, error L2: nan\n",
      "[[0. 0. 0. ... 0. 0. 0.]\n",
      " [0. 0. 0. ... 0. 0. 0.]\n",
      " [0. 0. 0. ... 0. 0. 0.]\n",
      " ...\n",
      " [0. 0. 0. ... 0. 0. 0.]\n",
      " [0. 0. 0. ... 0. 0. 0.]\n",
      " [0. 0. 0. ... 0. 0. 0.]]\n",
      "Time 0.020833333333333332, Iteration 16, error L2: nan\n",
      "[[0. 0. 0. ... 0. 0. 0.]\n",
      " [0. 0. 0. ... 0. 0. 0.]\n",
      " [0. 0. 0. ... 0. 0. 0.]\n",
      " ...\n",
      " [0. 0. 0. ... 0. 0. 0.]\n",
      " [0. 0. 0. ... 0. 0. 0.]\n",
      " [0. 0. 0. ... 0. 0. 0.]]\n",
      "Time 0.020833333333333332, Iteration 17, error L2: nan\n",
      "[[0. 0. 0. ... 0. 0. 0.]\n",
      " [0. 0. 0. ... 0. 0. 0.]\n",
      " [0. 0. 0. ... 0. 0. 0.]\n",
      " ...\n",
      " [0. 0. 0. ... 0. 0. 0.]\n",
      " [0. 0. 0. ... 0. 0. 0.]\n",
      " [0. 0. 0. ... 0. 0. 0.]]\n",
      "Time 0.020833333333333332, Iteration 18, error L2: nan\n",
      "[[0. 0. 0. ... 0. 0. 0.]\n",
      " [0. 0. 0. ... 0. 0. 0.]\n",
      " [0. 0. 0. ... 0. 0. 0.]\n",
      " ...\n",
      " [0. 0. 0. ... 0. 0. 0.]\n",
      " [0. 0. 0. ... 0. 0. 0.]\n",
      " [0. 0. 0. ... 0. 0. 0.]]\n",
      "Time 0.020833333333333332, Iteration 19, error L2: nan\n"
     ]
    },
    {
     "ename": "KeyboardInterrupt",
     "evalue": "",
     "output_type": "error",
     "traceback": [
      "\u001b[0;31m---------------------------------------------------------------------------\u001b[0m",
      "\u001b[0;31mKeyboardInterrupt\u001b[0m                         Traceback (most recent call last)",
      "Cell \u001b[0;32mIn[21], line 7\u001b[0m\n\u001b[1;32m      5\u001b[0m \u001b[39m# Time Loop\u001b[39;00m\n\u001b[1;32m      6\u001b[0m \u001b[39mfor\u001b[39;00m step \u001b[39min\u001b[39;00m \u001b[39mrange\u001b[39m(\u001b[39m1\u001b[39m, ceil(T\u001b[39m/\u001b[39mdt) \u001b[39m+\u001b[39m \u001b[39m1\u001b[39m):\n\u001b[0;32m----> 7\u001b[0m     sol\u001b[39m.\u001b[39mappend( newton(sol[\u001b[39m-\u001b[39;49m\u001b[39m1\u001b[39;49m], step \u001b[39m*\u001b[39;49m dt) )\n\u001b[1;32m      8\u001b[0m     export_step(save, sol[\u001b[39m-\u001b[39m\u001b[39m1\u001b[39m], step)\n\u001b[1;32m     10\u001b[0m save\u001b[39m.\u001b[39mwrite_pvd(np\u001b[39m.\u001b[39marray(\u001b[39mrange\u001b[39m(\u001b[39m0\u001b[39m, ceil(T\u001b[39m/\u001b[39mdt) \u001b[39m+\u001b[39m \u001b[39m1\u001b[39m)) \u001b[39m*\u001b[39m dt)\n",
      "Cell \u001b[0;32mIn[17], line 27\u001b[0m, in \u001b[0;36mnewton\u001b[0;34m(sol_n, t_n_1)\u001b[0m\n\u001b[1;32m     22\u001b[0m pp\u001b[39m.\u001b[39minitialize_data(subdomain, data, key, {\n\u001b[1;32m     23\u001b[0m     \u001b[39m\"\u001b[39m\u001b[39msecond_order_tensor\u001b[39m\u001b[39m\"\u001b[39m: conductivity_tensor(prev[\u001b[39m-\u001b[39mdof_psi:]),\n\u001b[1;32m     24\u001b[0m })\n\u001b[1;32m     26\u001b[0m \u001b[39m# construct the local matrices\u001b[39;00m\n\u001b[0;32m---> 27\u001b[0m n_0_k \u001b[39m=\u001b[39m pg\u001b[39m.\u001b[39;49mface_mass(mdg)\n\u001b[1;32m     28\u001b[0m m_1_k \u001b[39m=\u001b[39m assemble_mass_psi_matrix(prev[\u001b[39m-\u001b[39mdof_psi:])\n\u001b[1;32m     30\u001b[0m pp\u001b[39m.\u001b[39minitialize_data(subdomain, data, key, {\n\u001b[1;32m     31\u001b[0m     \u001b[39m\"\u001b[39m\u001b[39msecond_order_tensor\u001b[39m\u001b[39m\"\u001b[39m: dconductivity_tensor_dpsi(prev[\u001b[39m-\u001b[39mdof_psi:]),\n\u001b[1;32m     32\u001b[0m })\n",
      "File \u001b[0;32m~/.local/lib/python3.10/site-packages/pygeon/numerics/innerproducts.py:37\u001b[0m, in \u001b[0;36mface_mass\u001b[0;34m(mdg, discr, **kwargs)\u001b[0m\n\u001b[1;32m     25\u001b[0m \u001b[39mdef\u001b[39;00m \u001b[39mface_mass\u001b[39m(mdg, discr\u001b[39m=\u001b[39m\u001b[39mNone\u001b[39;00m, \u001b[39m*\u001b[39m\u001b[39m*\u001b[39mkwargs):\n\u001b[1;32m     26\u001b[0m \u001b[39m    \u001b[39m\u001b[39m\"\"\"\u001b[39;00m\n\u001b[1;32m     27\u001b[0m \u001b[39m    Compute the mass matrix for discretization defined on the faces of a (MD-)grid\u001b[39;00m\n\u001b[1;32m     28\u001b[0m \n\u001b[0;32m   (...)\u001b[0m\n\u001b[1;32m     34\u001b[0m \u001b[39m        sps.csc_matrix, num_faces x num_faces\u001b[39;00m\n\u001b[1;32m     35\u001b[0m \u001b[39m    \"\"\"\u001b[39;00m\n\u001b[0;32m---> 37\u001b[0m     \u001b[39mreturn\u001b[39;00m mass_matrix(mdg, \u001b[39m1\u001b[39;49m, discr, \u001b[39m*\u001b[39;49m\u001b[39m*\u001b[39;49mkwargs)\n",
      "File \u001b[0;32m~/.local/lib/python3.10/site-packages/pygeon/numerics/innerproducts.py:135\u001b[0m, in \u001b[0;36mmass_matrix\u001b[0;34m(mdg, n_minus_k, discr, local_matrix, **kwargs)\u001b[0m\n\u001b[1;32m    120\u001b[0m \u001b[39mdef\u001b[39;00m \u001b[39mmass_matrix\u001b[39m(mdg, n_minus_k, discr, local_matrix\u001b[39m=\u001b[39mlocal_matrix, \u001b[39m*\u001b[39m\u001b[39m*\u001b[39mkwargs):\n\u001b[1;32m    121\u001b[0m \u001b[39m    \u001b[39m\u001b[39m\"\"\"\u001b[39;00m\n\u001b[1;32m    122\u001b[0m \u001b[39m    Compute the mass matrix on a mixed-dimensional grid\u001b[39;00m\n\u001b[1;32m    123\u001b[0m \n\u001b[0;32m   (...)\u001b[0m\n\u001b[1;32m    133\u001b[0m \u001b[39m        sps.csc_matrix, num_dofs x num_dofs\u001b[39;00m\n\u001b[1;32m    134\u001b[0m \u001b[39m    \"\"\"\u001b[39;00m\n\u001b[0;32m--> 135\u001b[0m     bmats \u001b[39m=\u001b[39m mass_matrix_bmats(mdg, n_minus_k, discr, local_matrix, \u001b[39m*\u001b[39;49m\u001b[39m*\u001b[39;49mkwargs)\n\u001b[1;32m    137\u001b[0m     \u001b[39mreturn\u001b[39;00m np\u001b[39m.\u001b[39msum([sps\u001b[39m.\u001b[39mbmat(bmat, \u001b[39mformat\u001b[39m\u001b[39m=\u001b[39m\u001b[39m\"\u001b[39m\u001b[39mcsc\u001b[39m\u001b[39m\"\u001b[39m) \u001b[39mfor\u001b[39;00m bmat \u001b[39min\u001b[39;00m bmats])\n",
      "File \u001b[0;32m~/.local/lib/python3.10/site-packages/pygeon/numerics/innerproducts.py:151\u001b[0m, in \u001b[0;36mmass_matrix_bmats\u001b[0;34m(mdg, n_minus_k, discr, local_matrix, **kwargs)\u001b[0m\n\u001b[1;32m    149\u001b[0m \u001b[39m# Local mass matrices\u001b[39;00m\n\u001b[1;32m    150\u001b[0m \u001b[39mfor\u001b[39;00m (nn_sd, (sd, d_sd)) \u001b[39min\u001b[39;00m \u001b[39menumerate\u001b[39m(mdg\u001b[39m.\u001b[39msubdomains(return_data\u001b[39m=\u001b[39m\u001b[39mTrue\u001b[39;00m)):\n\u001b[0;32m--> 151\u001b[0m     bmat_sd[nn_sd, nn_sd] \u001b[39m=\u001b[39m local_matrix(sd, n_minus_k, discr, d_sd, \u001b[39m*\u001b[39;49m\u001b[39m*\u001b[39;49mkwargs)\n\u001b[1;32m    152\u001b[0m     bmat_mg[nn_sd, nn_sd] \u001b[39m=\u001b[39m sps\u001b[39m.\u001b[39mcsc_matrix(bmat_sd[nn_sd, nn_sd]\u001b[39m.\u001b[39mshape)\n\u001b[1;32m    154\u001b[0m \u001b[39m# Mortar contribution\u001b[39;00m\n",
      "File \u001b[0;32m~/.local/lib/python3.10/site-packages/pygeon/numerics/innerproducts.py:117\u001b[0m, in \u001b[0;36mlocal_matrix\u001b[0;34m(sd, n_minus_k, discr, d_sd, **kwargs)\u001b[0m\n\u001b[1;32m    115\u001b[0m     \u001b[39mreturn\u001b[39;00m _sd_lumped_mass(sd, n_minus_k, discr, d_sd, \u001b[39m*\u001b[39m\u001b[39m*\u001b[39mkwargs)\n\u001b[1;32m    116\u001b[0m \u001b[39melif\u001b[39;00m \u001b[39misinstance\u001b[39m(sd, pp\u001b[39m.\u001b[39mGrid):\n\u001b[0;32m--> 117\u001b[0m     \u001b[39mreturn\u001b[39;00m _sd_mass_matrix(sd, n_minus_k, discr, d_sd, \u001b[39m*\u001b[39;49m\u001b[39m*\u001b[39;49mkwargs)\n",
      "File \u001b[0;32m~/.local/lib/python3.10/site-packages/pygeon/numerics/innerproducts.py:110\u001b[0m, in \u001b[0;36m_sd_mass_matrix\u001b[0;34m(sd, n_minus_k, discr, data, **kwargs)\u001b[0m\n\u001b[1;32m    107\u001b[0m \u001b[39mif\u001b[39;00m discr \u001b[39mis\u001b[39;00m \u001b[39mNone\u001b[39;00m:\n\u001b[1;32m    108\u001b[0m     discr \u001b[39m=\u001b[39m default_discr(sd, n_minus_k, \u001b[39m*\u001b[39m\u001b[39m*\u001b[39mkwargs)\n\u001b[0;32m--> 110\u001b[0m \u001b[39mreturn\u001b[39;00m discr\u001b[39m.\u001b[39;49massemble_mass_matrix(sd, data)\n",
      "File \u001b[0;32m~/.local/lib/python3.10/site-packages/pygeon/discretizations/fem/hdiv.py:75\u001b[0m, in \u001b[0;36mRT0.assemble_mass_matrix\u001b[0;34m(self, sd, data)\u001b[0m\n\u001b[1;32m     63\u001b[0m \u001b[39m\u001b[39m\u001b[39m\"\"\"\u001b[39;00m\n\u001b[1;32m     64\u001b[0m \u001b[39mAssembles the mass matrix\u001b[39;00m\n\u001b[1;32m     65\u001b[0m \n\u001b[0;32m   (...)\u001b[0m\n\u001b[1;32m     71\u001b[0m \u001b[39m    mass_matrix: the mass matrix.\u001b[39;00m\n\u001b[1;32m     72\u001b[0m \u001b[39m\"\"\"\u001b[39;00m\n\u001b[1;32m     74\u001b[0m data \u001b[39m=\u001b[39m \u001b[39mself\u001b[39m\u001b[39m.\u001b[39mcreate_dummy_data(sd, data)\n\u001b[0;32m---> 75\u001b[0m pp\u001b[39m.\u001b[39;49mRT0\u001b[39m.\u001b[39;49mdiscretize(\u001b[39mself\u001b[39;49m, sd, data)\n\u001b[1;32m     76\u001b[0m \u001b[39mreturn\u001b[39;00m data[pp\u001b[39m.\u001b[39mDISCRETIZATION_MATRICES][\u001b[39mself\u001b[39m\u001b[39m.\u001b[39mkeyword][\u001b[39mself\u001b[39m\u001b[39m.\u001b[39mmass_matrix_key]\n",
      "File \u001b[0;32m~/CLionProjects/porepy/src/porepy/numerics/fem/rt0.py:130\u001b[0m, in \u001b[0;36mRT0.discretize\u001b[0;34m(self, sd, data)\u001b[0m\n\u001b[1;32m    127\u001b[0m coord_loc \u001b[39m=\u001b[39m node_coords[:, node]\n\u001b[1;32m    129\u001b[0m \u001b[39m# Compute the H_div-mass local matrix\u001b[39;00m\n\u001b[0;32m--> 130\u001b[0m A \u001b[39m=\u001b[39m RT0\u001b[39m.\u001b[39;49mmassHdiv(\n\u001b[1;32m    131\u001b[0m     inv_matrix(k\u001b[39m.\u001b[39;49mvalues[\u001b[39m0\u001b[39;49m : sd\u001b[39m.\u001b[39;49mdim, \u001b[39m0\u001b[39;49m : sd\u001b[39m.\u001b[39;49mdim, c]),\n\u001b[1;32m    132\u001b[0m     sd\u001b[39m.\u001b[39;49mcell_volumes[c],\n\u001b[1;32m    133\u001b[0m     coord_loc,\n\u001b[1;32m    134\u001b[0m     sign[loc],\n\u001b[1;32m    135\u001b[0m     sd\u001b[39m.\u001b[39;49mdim,\n\u001b[1;32m    136\u001b[0m     HB,\n\u001b[1;32m    137\u001b[0m )\n\u001b[1;32m    139\u001b[0m \u001b[39m# Compute the flux reconstruction matrix\u001b[39;00m\n\u001b[1;32m    140\u001b[0m P \u001b[39m=\u001b[39m RT0\u001b[39m.\u001b[39mfaces_to_cell(\n\u001b[1;32m    141\u001b[0m     c_centers[:, c],\n\u001b[1;32m    142\u001b[0m     coord_loc,\n\u001b[0;32m   (...)\u001b[0m\n\u001b[1;32m    146\u001b[0m     R,\n\u001b[1;32m    147\u001b[0m )\n",
      "File \u001b[0;32m~/CLionProjects/porepy/src/porepy/numerics/fem/rt0.py:210\u001b[0m, in \u001b[0;36mRT0.massHdiv\u001b[0;34m(inv_K, c_volume, coord, sign, dim, HB)\u001b[0m\n\u001b[1;32m    201\u001b[0m inv_K_exp \u001b[39m=\u001b[39m (\n\u001b[1;32m    202\u001b[0m     ind[:, np\u001b[39m.\u001b[39mnewaxis, :, np\u001b[39m.\u001b[39mnewaxis]\n\u001b[1;32m    203\u001b[0m     \u001b[39m*\u001b[39m inv_K[np\u001b[39m.\u001b[39mnewaxis, :, np\u001b[39m.\u001b[39mnewaxis, :]\n\u001b[1;32m    204\u001b[0m     \u001b[39m/\u001b[39m c_volume\n\u001b[1;32m    205\u001b[0m )\n\u001b[1;32m    206\u001b[0m inv_K_exp\u001b[39m.\u001b[39mshape \u001b[39m=\u001b[39m (ind\u001b[39m.\u001b[39mshape[\u001b[39m0\u001b[39m] \u001b[39m*\u001b[39m inv_K\u001b[39m.\u001b[39mshape[\u001b[39m0\u001b[39m], ind\u001b[39m.\u001b[39mshape[\u001b[39m1\u001b[39m] \u001b[39m*\u001b[39m inv_K\u001b[39m.\u001b[39mshape[\u001b[39m1\u001b[39m])\n\u001b[1;32m    208\u001b[0m N \u001b[39m=\u001b[39m coord\u001b[39m.\u001b[39mflatten(\u001b[39m\"\u001b[39m\u001b[39mF\u001b[39m\u001b[39m\"\u001b[39m)\u001b[39m.\u001b[39mreshape((\u001b[39m-\u001b[39m\u001b[39m1\u001b[39m, \u001b[39m1\u001b[39m)) \u001b[39m*\u001b[39m np\u001b[39m.\u001b[39mones(\n\u001b[1;32m    209\u001b[0m     (\u001b[39m1\u001b[39m, dim \u001b[39m+\u001b[39m \u001b[39m1\u001b[39m)\n\u001b[0;32m--> 210\u001b[0m ) \u001b[39m-\u001b[39m np\u001b[39m.\u001b[39;49mconcatenate((dim \u001b[39m+\u001b[39;49m \u001b[39m1\u001b[39;49m) \u001b[39m*\u001b[39;49m [coord])\n\u001b[1;32m    211\u001b[0m C \u001b[39m=\u001b[39m np\u001b[39m.\u001b[39mdiag(sign)\n\u001b[1;32m    213\u001b[0m \u001b[39mreturn\u001b[39;00m np\u001b[39m.\u001b[39mdot(C\u001b[39m.\u001b[39mT, np\u001b[39m.\u001b[39mdot(N\u001b[39m.\u001b[39mT, np\u001b[39m.\u001b[39mdot(HB, np\u001b[39m.\u001b[39mdot(inv_K_exp, np\u001b[39m.\u001b[39mdot(N, C)))))\n",
      "File \u001b[0;32m<__array_function__ internals>:2\u001b[0m, in \u001b[0;36mconcatenate\u001b[0;34m(*args, **kwargs)\u001b[0m\n",
      "\u001b[0;31mKeyboardInterrupt\u001b[0m: "
     ]
    }
   ],
   "source": [
    "sol = [initial_solution]\n",
    "save = pp.Exporter(mdg, \"sol\", folder_name=output_directory)\n",
    "export_step(save, sol[-1], 0)\n",
    "\n",
    "# Time Loop\n",
    "for step in range(1, ceil(T/dt) + 1):\n",
    "    sol.append( newton(sol[-1], step * dt) )\n",
    "    export_step(save, sol[-1], step)\n",
    "\n",
    "save.write_pvd(np.array(range(0, ceil(T/dt) + 1)) * dt)"
   ]
  }
 ],
 "metadata": {
  "kernelspec": {
   "display_name": ".venv",
   "language": "python",
   "name": "python3"
  },
  "language_info": {
   "codemirror_mode": {
    "name": "ipython",
    "version": 3
   },
   "file_extension": ".py",
   "mimetype": "text/x-python",
   "name": "python",
   "nbconvert_exporter": "python",
   "pygments_lexer": "ipython3",
   "version": "3.10.6"
  },
  "orig_nbformat": 4
 },
 "nbformat": 4,
 "nbformat_minor": 2
}
