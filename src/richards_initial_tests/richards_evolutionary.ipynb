{
 "cells": [
  {
   "attachments": {},
   "cell_type": "markdown",
   "metadata": {},
   "source": [
    "# Darcy equation\n",
    "\n",
    "In this tutorial we present how to solve a Darcy equation with [PyGeoN](https://github.com/compgeo-mox/pygeon).  The unkwons are the velocity $q$ and the pressure $p$.\n",
    "\n",
    "Let $\\Omega=(0,1)^2$ with boundary $\\partial \\Omega$ and outward unit normal ${\\nu}$. Given \n",
    "$k$ the matrix permeability, we want to solve the following problem: find $({q}, p)$ such that\n",
    "$$\n",
    "\\left\\{\n",
    "\\begin{array}{ll}\n",
    "\\begin{array}{l} \n",
    "k^{-1}(\\psi) {q} + \\nabla \\psi = -\\nabla z\\\\\n",
    "\\partial_t \\theta (\\psi) + \\nabla \\cdot {q} = 0\n",
    "\\end{array}\n",
    "&\\text{in } \\Omega \\times (0,T)\n",
    "\\end{array}\n",
    "\\right.\n",
    "$$\n",
    "with boundary conditions:\n",
    "$$ \\psi = 0 \\text{ on } \\partial_{top} \\Omega \\qquad \\psi = 1 \\text{ on } \\partial_{bottom} \\Omega \\qquad \\nu \\cdot q = 0 \\text{ on } \\partial_{left} \\Omega \\cup \\partial_{right} \\Omega$$\n",
    "\n",
    "We present *step-by-step* how to create the grid, declare the problem data, and finally solve the problem."
   ]
  },
  {
   "attachments": {},
   "cell_type": "markdown",
   "metadata": {},
   "source": [
    "### Import and parameters"
   ]
  },
  {
   "cell_type": "code",
   "execution_count": 1,
   "metadata": {},
   "outputs": [],
   "source": [
    "import shutil\n",
    "import os\n",
    "\n",
    "import numpy as np\n",
    "import scipy.sparse as sps\n",
    "import sympy as sp\n",
    "\n",
    "import porepy as pp\n",
    "import pygeon as pg\n",
    "\n",
    "from math import ceil"
   ]
  },
  {
   "cell_type": "code",
   "execution_count": 2,
   "metadata": {},
   "outputs": [],
   "source": [
    "K = 1000\n",
    "N = 10\n",
    "eps = 1e-6\n",
    "\n",
    "output_directory = 'output_evolutionary'"
   ]
  },
  {
   "cell_type": "code",
   "execution_count": 3,
   "metadata": {},
   "outputs": [],
   "source": [
    "rho = 1000\n",
    "g = pp.GRAVITY_ACCELERATION\n",
    "\n",
    "\n",
    "T = 3/16\n",
    "dt = 1/48\n",
    "\n",
    "dt_D = 1/16"
   ]
  },
  {
   "cell_type": "code",
   "execution_count": 4,
   "metadata": {},
   "outputs": [],
   "source": [
    "n = 2.06\n",
    "alpha = 0.423\n",
    "K_s = 4.96e-2\n",
    "\n",
    "theta_r = 0.131\n",
    "theta_s = 0.396"
   ]
  },
  {
   "attachments": {},
   "cell_type": "markdown",
   "metadata": {},
   "source": [
    "### $\\theta$ and $k$, with their derivatives w.r.t. $\\psi$"
   ]
  },
  {
   "cell_type": "code",
   "execution_count": 5,
   "metadata": {},
   "outputs": [],
   "source": [
    "def theta(psi):\n",
    "    th = np.ones_like(psi) * theta_s\n",
    "    th[psi <= 0] = theta_r + (theta_s - theta_r) * (1 / np.power((1 + np.power(-alpha * psi[psi <= 0], n)), 1-1/n) )\n",
    "\n",
    "    return th"
   ]
  },
  {
   "cell_type": "code",
   "execution_count": 6,
   "metadata": {},
   "outputs": [],
   "source": [
    "def dtheta_dpsi(psi):\n",
    "    psi_var = sp.Symbol('psi', negative=True)\n",
    "    diff = sp.diff( theta_r + (theta_s - theta_r) * 1 / (1+(-alpha * psi_var) ** n) ** (1-1/n), psi_var)\n",
    "    \n",
    "    res = np.zeros(shape=psi.shape)\n",
    "    res[psi <= 0] = np.array(list(diff.subs(psi_var, val).evalf() for val in psi[psi <= 0]))\n",
    "\n",
    "    return res"
   ]
  },
  {
   "cell_type": "code",
   "execution_count": 7,
   "metadata": {},
   "outputs": [],
   "source": [
    "def d2theta_dpsi(psi):\n",
    "    psi_var = sp.Symbol('psi', negative=True)\n",
    "    diff = sp.diff( theta_r + (theta_s - theta_r) * 1 / (1+(-alpha * psi_var) ** n) ** (1-1/n), psi_var, 2)\n",
    "    \n",
    "    res = np.zeros(shape=psi.shape)\n",
    "    res[psi <= 0] = np.array(list(diff.subs(psi_var, val).evalf() for val in psi[psi <= 0]))\n",
    "\n",
    "    return res"
   ]
  },
  {
   "cell_type": "code",
   "execution_count": 8,
   "metadata": {},
   "outputs": [],
   "source": [
    "def conductivity_tensor(psi):\n",
    "    coeff = K_s * np.ones_like(psi)\n",
    "    th = theta(psi[psi <= 0])\n",
    "\n",
    "    coeff[psi <= 0] = np.array( K_s * np.power(th, 0.5) * np.power( 1 - np.power( 1 - np.power(th, n/(n-1)) , 1-1/n) , 2) )\n",
    "\n",
    "    return pp.SecondOrderTensor(coeff)"
   ]
  },
  {
   "cell_type": "code",
   "execution_count": 9,
   "metadata": {},
   "outputs": [],
   "source": [
    "def dconductivity_tensor_dpsi(psi):\n",
    "    coeff = np.zeros(len(psi))\n",
    "    psi_var = sp.Symbol('psi', negative=True)\n",
    "    exp = theta_r + (theta_s - theta_r) * 1 / (1+(-alpha * psi_var) ** n) ** (1-1/n)\n",
    "\n",
    "    diff = sp.diff( K_s * exp ** (1/2) * ( 1 - (1 - exp ** (n / (n-1))) ** (1-1/n) ) ** 2, psi_var)\n",
    "\n",
    "    coeff[psi <= 0] = np.array(list(diff.subs(psi_var, val).evalf() for val in psi[psi <= 0]))\n",
    "\n",
    "    return pp.SecondOrderTensor(coeff)"
   ]
  },
  {
   "attachments": {},
   "cell_type": "markdown",
   "metadata": {},
   "source": [
    "### Domain preparation"
   ]
  },
  {
   "cell_type": "code",
   "execution_count": 10,
   "metadata": {},
   "outputs": [],
   "source": [
    "subdomain = pp.StructuredTriangleGrid([2*N, 3*N], [2,3])\n",
    "# convert the grid into a mixed-dimensional grid\n",
    "mdg = pp.meshing.subdomains_to_mdg([subdomain])"
   ]
  },
  {
   "cell_type": "code",
   "execution_count": 11,
   "metadata": {},
   "outputs": [],
   "source": [
    "key = \"flow\"\n",
    "\n",
    "bc_value = []\n",
    "bc_essential = []\n",
    "initial_pressure = [ ]\n",
    "\n",
    "gravity = []\n",
    "\n",
    "RT0 = pg.RT0(key)\n",
    "P0  = pg.PwConstants(key)"
   ]
  },
  {
   "cell_type": "code",
   "execution_count": 12,
   "metadata": {},
   "outputs": [],
   "source": [
    "def g_func(x): \n",
    "    return np.array([0, -1, -1])"
   ]
  },
  {
   "cell_type": "code",
   "execution_count": 13,
   "metadata": {},
   "outputs": [],
   "source": [
    "def initial_pressure_func(x): \n",
    "    return 1-x[1]"
   ]
  },
  {
   "cell_type": "code",
   "execution_count": 14,
   "metadata": {},
   "outputs": [],
   "source": [
    "for subdomain, data in mdg.subdomains(return_data=True):\n",
    "    g_proj = RT0.interpolate(subdomain, g_func)\n",
    "    gravity.append(RT0.assemble_mass_matrix(subdomain) @ g_proj)\n",
    "    initial_pressure.append(P0.interpolate(subdomain, initial_pressure_func))\n",
    "        \n",
    "    # with the following steps we identify the portions of the boundary\n",
    "    # to impose the boundary conditions\n",
    "    gamma_d1 = np.logical_and(subdomain.face_centers[0, :] >= 0, subdomain.face_centers[0, :] <= 1, subdomain.face_centers[1, :] == 3)\n",
    "    gamma_d2 = np.logical_and(subdomain.face_centers[0, :] == 2, subdomain.face_centers[1, :] >= 0, subdomain.face_centers[1, :] <= 1)\n",
    "\n",
    "    gamma_d = np.logical_or(gamma_d1, gamma_d2)\n",
    "    gamma_n = np.logical_not(gamma_d)\n",
    "    \n",
    "    def psi_bc(x): return 1\n",
    "\n",
    "    def bc_gamma_d(x, t):\n",
    "        if   x[0] == 2 and x[1] >= 0 and x[1] <= 1:\n",
    "            return 1 - x[1]\n",
    "        elif x[1] == 3 and x[0] >= 0 and x[0] <= 1:\n",
    "            if t < dt_D:\n",
    "                return -2 + 2.2 * t / dt_D\n",
    "            else:\n",
    "                return 0.2\n",
    "        else:\n",
    "            return 0\n",
    "\n",
    "    bc_value.append(lambda t: - RT0.assemble_nat_bc(subdomain, lambda x: bc_gamma_d(x,t), gamma_d))\n",
    "\n",
    "    essential_pressure_dofs = np.zeros(P0.ndof(subdomain), dtype=bool)\n",
    "    bc_essential.append(np.hstack((gamma_n, essential_pressure_dofs)))"
   ]
  },
  {
   "attachments": {},
   "cell_type": "markdown",
   "metadata": {},
   "source": [
    "A quick recap:\n",
    "$$\n",
    "\\left\\{\n",
    "\\begin{array}{ll}\n",
    "\\begin{array}{l} \n",
    "k^{-1}(\\psi) {q} + \\nabla \\psi = -\\nabla z\\\\\n",
    "\\partial_t \\theta (\\psi) + \\nabla \\cdot {q} = 0\n",
    "\\end{array}\n",
    "&\\text{in } \\Omega \\times (0,T)\n",
    "\\end{array}\n",
    "\\right.\n",
    "$$\n",
    "becames, with the time discretization:\n",
    "$$\n",
    "\\left\\{\n",
    "\\begin{array}{ll}\n",
    "\\begin{array}{l} \n",
    "k^{-1}(\\psi) {q^{n+1}} + \\nabla \\psi^{n+1} = -\\nabla z\\\\\n",
    "\\frac{\\theta (\\psi^{n+1}) - \\theta (\\psi^{n})}{\\Delta t} + \\nabla \\cdot {q^{n+1}} = 0\n",
    "\\end{array}\n",
    "&\\text{in } \\Omega \\times (0,T)\n",
    "\\end{array}\n",
    "\\right.\n",
    "$$\n",
    "\n",
    "and, with the spacial discretization:\n",
    "\n",
    "$$\n",
    "Newton \\quad\n",
    "\\left\\{\n",
    "\\begin{array}{ll}\n",
    "\\begin{array}{l} \n",
    "M^{n+1}_k q_{k+1}^{n+1} + B^T \\psi^{n+1}_{k+1} = G^{n+1} - \\partial M^{n+1}_k q_k^{n+1}\\\\\n",
    "B q_{k+1}^{n+1} = \\frac{\\Theta^n - \\Theta^{n+1}_k}{\\Delta t} - \\frac{1}{\\Delta t} \\partial \\Theta^{n+1}_k + F^{n+1}\n",
    "\\end{array}\n",
    "\\end{array}\n",
    "\\right.\n",
    "$$\n",
    "\n",
    "$$\n",
    "Picard \\quad\n",
    "\\left\\{\n",
    "\\begin{array}{ll}\n",
    "\\begin{array}{l} \n",
    "M^{n+1}_k q_{k+1}^{n+1} + B^T \\psi^{n+1}_{k+1} = G^{n+1}\\\\\n",
    "B q_{k+1}^{n+1} = \\frac{\\Theta^n - \\Theta^{n+1}_k}{\\Delta t} + F^{n+1}\n",
    "\\end{array}\n",
    "\\end{array}\n",
    "\\right.\n",
    "$$\n",
    "where:\n",
    "$$\n",
    "[M^{n+1}_k]_{ij} = \\left( k^{-1}(\\psi^{n+1}_k) \\Psi, \\Psi \\right)_{L^2(\\Omega)} \\qquad [\\partial M^{n+1}_k]_{ij} = \\left( \\frac{\\partial k^{-1}}{\\partial \\psi}(\\psi^{n+1}_k) \\Psi, \\Psi \\right)_{L^2(\\Omega)}\n",
    "$$\n",
    "$$\n",
    "[\\Theta^n]_{ij} = \\left( \\frac{\\theta(\\psi^n)}{\\Delta t}, \\Phi \\right)_{L^2(\\Omega)} \\qquad [\\Theta^{n+1}_k]_{ij} = \\left( \\frac{\\theta(\\psi^{n+1}_k)}{\\Delta t}, \\Phi \\right)_{L^2(\\Omega)} \\qquad [\\partial \\Theta^{n+1}_k]_{ij} = \\left( \\frac{1}{\\Delta t} \\frac{\\partial \\theta(\\psi^{n+1}_k)}{\\partial \\psi}, \\Phi \\right)_{L^2(\\Omega)}\n",
    "$$"
   ]
  },
  {
   "cell_type": "code",
   "execution_count": 15,
   "metadata": {},
   "outputs": [],
   "source": [
    "div = pg.cell_mass(mdg) @ pg.div(mdg)\n",
    "\n",
    "# get the degrees of freedom for each variable\n",
    "dof_p, dof_q = div.shape\n",
    "dof_psi = dof_p"
   ]
  },
  {
   "cell_type": "code",
   "execution_count": 16,
   "metadata": {},
   "outputs": [],
   "source": [
    "def picard(sol_n, t_n_1, prev=None, iters=K):\n",
    "    if prev == None:\n",
    "        prev = sol_n.copy()\n",
    "\n",
    "    # assemble the right-hand side\n",
    "    fixed_rhs = np.zeros(dof_psi + dof_q)\n",
    "\n",
    "    # Natural BCs\n",
    "    fixed_rhs[:dof_q]    += np.hstack(list(cond(t_n_1) for cond in bc_value))\n",
    "\n",
    "    # Gravity\n",
    "    fixed_rhs[:dof_q]    += np.hstack(gravity)\n",
    "\n",
    "\n",
    "    for k in range(iters):\n",
    "\n",
    "        rhs = fixed_rhs.copy()\n",
    "\n",
    "        rhs[-dof_psi:] -= pg.cell_mass(mdg) @       theta(prev[-dof_psi:]) / dt\n",
    "        rhs[-dof_psi:] -= pg.cell_mass(mdg) @ dtheta_dpsi(prev[-dof_psi:]) / dt\n",
    "\n",
    "        pp.initialize_data(subdomain, data, key, {\n",
    "            \"second_order_tensor\": conductivity_tensor(prev[-dof_psi:]),\n",
    "        })\n",
    "\n",
    "        # construct the local matrices\n",
    "        M_k_n_1 = pg.face_mass(mdg)\n",
    "\n",
    "\n",
    "        # assemble the saddle point problem\n",
    "        spp = sps.bmat([[M_k_n_1, div.T], \n",
    "                        [-div,    None]], format=\"csc\")\n",
    "\n",
    "        # solve the problem\n",
    "        ls = pg.LinearSystem(spp, rhs)\n",
    "        ls.flag_ess_bc(np.hstack(bc_essential), np.zeros(dof_q + dof_psi))\n",
    "    \n",
    "        current = ls.solve()\n",
    "\n",
    "        err = np.sum(np.power(current-prev, 2))\n",
    "\n",
    "        print(f'Time {t_n_1}, Iteration {k}, error L2: {err}')\n",
    "\n",
    "        if err < eps:\n",
    "            return current\n",
    "        else:\n",
    "            prev = current.copy()\n",
    "    \n",
    "    return current"
   ]
  },
  {
   "cell_type": "code",
   "execution_count": 17,
   "metadata": {},
   "outputs": [],
   "source": [
    "def newton(sol_n, t_n_1, prev=None, iters=K):\n",
    "    if prev == None:\n",
    "        prev = sol_n.copy()\n",
    "\n",
    "    # assemble the right-hand side\n",
    "    fixed_rhs = np.zeros(dof_psi + dof_q)\n",
    "\n",
    "    # Natural BCs\n",
    "    fixed_rhs[:dof_q]    += np.hstack(list(cond(t_n_1) for cond in bc_value))\n",
    "\n",
    "    # Gravity\n",
    "    fixed_rhs[:dof_q]    += np.hstack(gravity)\n",
    "\n",
    "    # Previous time step\n",
    "    fixed_rhs[-dof_psi:] += pg.cell_mass(mdg) @ theta(sol_n[-dof_psi:]) / dt\n",
    "\n",
    "    subdomain, data = mdg.subdomains(return_data=True)[0]\n",
    "\n",
    "    for k in range(iters):\n",
    "\n",
    "        rhs = fixed_rhs.copy()\n",
    "\n",
    "        rhs[-dof_psi:] -= pg.cell_mass(mdg) @       theta(prev[-dof_psi:]) / dt\n",
    "        rhs[-dof_psi:] -= pg.cell_mass(mdg) @ dtheta_dpsi(prev[-dof_psi:]) / dt\n",
    "\n",
    "        pp.initialize_data(subdomain, data, key, {\n",
    "            \"second_order_tensor\": conductivity_tensor(prev[-dof_psi:]),\n",
    "        })\n",
    "\n",
    "        # construct the local matrices\n",
    "        M_k_n_1 = pg.face_mass(mdg)\n",
    "\n",
    "        pp.initialize_data(subdomain, data, key, {\n",
    "            \"second_order_tensor\": dconductivity_tensor_dpsi(prev[-dof_psi:]),\n",
    "        })\n",
    "        \n",
    "        rhs[:dof_q] -= pg.face_mass(mdg) @ prev[:dof_p]\n",
    "\n",
    "\n",
    "        # assemble the saddle point problem\n",
    "        spp = sps.bmat([[M_k_n_1, div.T], \n",
    "                        [-div,    None]], format=\"csc\")\n",
    "\n",
    "        # solve the problem\n",
    "        ls = pg.LinearSystem(spp, rhs)\n",
    "        ls.flag_ess_bc(np.hstack(bc_essential), np.zeros(dof_q + dof_psi))\n",
    "    \n",
    "        current = ls.solve()\n",
    "\n",
    "        err = np.sum(np.power(current-prev, 2))\n",
    "\n",
    "        print(f'Time {t_n_1}, Iteration {k}, error L2: {err}')\n",
    "\n",
    "        if err < eps:\n",
    "            return current\n",
    "        else:\n",
    "            prev = current.copy()\n",
    "    \n",
    "    return current"
   ]
  },
  {
   "cell_type": "code",
   "execution_count": 18,
   "metadata": {},
   "outputs": [],
   "source": [
    "proj_q   = RT0.eval_at_cell_centers(subdomain)\n",
    "proj_psi =  P0.eval_at_cell_centers(subdomain)\n",
    "\n",
    "def export_step(save, current_sol, step) -> None:\n",
    "    q =  current_sol[:dof_q]\n",
    "    psi = current_sol[-dof_psi:]\n",
    "\n",
    "    for _, data in mdg.subdomains(return_data=True):\n",
    "        data[pp.STATE] = {\"cell_q\": (proj_q @ q).reshape((3, -1), order=\"F\"), \n",
    "                          \"cell_p\": (proj_psi @ psi)}\n",
    "    \n",
    "    save.write_vtu([\"cell_q\", \"cell_p\"], time_step=step)"
   ]
  },
  {
   "cell_type": "code",
   "execution_count": 19,
   "metadata": {},
   "outputs": [],
   "source": [
    "if os.path.exists(output_directory):\n",
    "    shutil.rmtree(output_directory)"
   ]
  },
  {
   "cell_type": "code",
   "execution_count": 20,
   "metadata": {},
   "outputs": [],
   "source": [
    "# assemble initial solution\n",
    "initial_solution = np.zeros(dof_p + dof_q)\n",
    "initial_solution[-dof_p:] += np.hstack(initial_pressure)"
   ]
  },
  {
   "cell_type": "code",
   "execution_count": 21,
   "metadata": {},
   "outputs": [
    {
     "name": "stderr",
     "output_type": "stream",
     "text": [
      "/home/faccus/.local/lib/python3.10/site-packages/scipy/sparse/linalg/_dsolve/linsolve.py:206: MatrixRankWarning: Matrix is exactly singular\n",
      "  warn(\"Matrix is exactly singular\", MatrixRankWarning)\n"
     ]
    },
    {
     "name": "stdout",
     "output_type": "stream",
     "text": [
      "Time 0.010416666666666666, Iteration 0, error L2: nan\n",
      "Time 0.010416666666666666, Iteration 1, error L2: nan\n",
      "Time 0.010416666666666666, Iteration 2, error L2: nan\n",
      "Time 0.010416666666666666, Iteration 3, error L2: nan\n",
      "Time 0.010416666666666666, Iteration 4, error L2: nan\n",
      "Time 0.010416666666666666, Iteration 5, error L2: nan\n",
      "Time 0.010416666666666666, Iteration 6, error L2: nan\n",
      "Time 0.010416666666666666, Iteration 7, error L2: nan\n",
      "Time 0.010416666666666666, Iteration 8, error L2: nan\n",
      "Time 0.010416666666666666, Iteration 9, error L2: nan\n",
      "Time 0.010416666666666666, Iteration 10, error L2: nan\n",
      "Time 0.010416666666666666, Iteration 11, error L2: nan\n",
      "Time 0.010416666666666666, Iteration 12, error L2: nan\n",
      "Time 0.010416666666666666, Iteration 13, error L2: nan\n",
      "Time 0.010416666666666666, Iteration 14, error L2: nan\n",
      "Time 0.010416666666666666, Iteration 15, error L2: nan\n",
      "Time 0.010416666666666666, Iteration 16, error L2: nan\n",
      "Time 0.010416666666666666, Iteration 17, error L2: nan\n",
      "Time 0.010416666666666666, Iteration 18, error L2: nan\n",
      "Time 0.010416666666666666, Iteration 19, error L2: nan\n",
      "Time 0.010416666666666666, Iteration 20, error L2: nan\n",
      "Time 0.010416666666666666, Iteration 21, error L2: nan\n",
      "Time 0.010416666666666666, Iteration 22, error L2: nan\n",
      "Time 0.010416666666666666, Iteration 23, error L2: nan\n",
      "Time 0.010416666666666666, Iteration 24, error L2: nan\n",
      "Time 0.010416666666666666, Iteration 25, error L2: nan\n",
      "Time 0.010416666666666666, Iteration 26, error L2: nan\n",
      "Time 0.010416666666666666, Iteration 27, error L2: nan\n",
      "Time 0.010416666666666666, Iteration 28, error L2: nan\n",
      "Time 0.010416666666666666, Iteration 29, error L2: nan\n",
      "Time 0.010416666666666666, Iteration 30, error L2: nan\n",
      "Time 0.010416666666666666, Iteration 31, error L2: nan\n",
      "Time 0.010416666666666666, Iteration 32, error L2: nan\n",
      "Time 0.010416666666666666, Iteration 33, error L2: nan\n",
      "Time 0.010416666666666666, Iteration 34, error L2: nan\n",
      "Time 0.010416666666666666, Iteration 35, error L2: nan\n",
      "Time 0.010416666666666666, Iteration 36, error L2: nan\n",
      "Time 0.010416666666666666, Iteration 37, error L2: nan\n",
      "Time 0.010416666666666666, Iteration 38, error L2: nan\n",
      "Time 0.010416666666666666, Iteration 39, error L2: nan\n",
      "Time 0.010416666666666666, Iteration 40, error L2: nan\n",
      "Time 0.010416666666666666, Iteration 41, error L2: nan\n",
      "Time 0.010416666666666666, Iteration 42, error L2: nan\n",
      "Time 0.010416666666666666, Iteration 43, error L2: nan\n",
      "Time 0.010416666666666666, Iteration 44, error L2: nan\n",
      "Time 0.010416666666666666, Iteration 45, error L2: nan\n"
     ]
    },
    {
     "ename": "KeyboardInterrupt",
     "evalue": "",
     "output_type": "error",
     "traceback": [
      "\u001b[0;31m---------------------------------------------------------------------------\u001b[0m",
      "\u001b[0;31mKeyboardInterrupt\u001b[0m                         Traceback (most recent call last)",
      "Cell \u001b[0;32mIn[21], line 7\u001b[0m\n\u001b[1;32m      5\u001b[0m \u001b[39m# Time Loop\u001b[39;00m\n\u001b[1;32m      6\u001b[0m \u001b[39mfor\u001b[39;00m step \u001b[39min\u001b[39;00m \u001b[39mrange\u001b[39m(\u001b[39m1\u001b[39m, ceil(T\u001b[39m/\u001b[39mdt) \u001b[39m+\u001b[39m \u001b[39m1\u001b[39m):\n\u001b[0;32m----> 7\u001b[0m     sol\u001b[39m.\u001b[39mappend( picard(sol[\u001b[39m-\u001b[39;49m\u001b[39m1\u001b[39;49m], step \u001b[39m*\u001b[39;49m dt) )\n\u001b[1;32m      8\u001b[0m     export_step(save, sol[\u001b[39m-\u001b[39m\u001b[39m1\u001b[39m], step)\n\u001b[1;32m     10\u001b[0m save\u001b[39m.\u001b[39mwrite_pvd(np\u001b[39m.\u001b[39marray(\u001b[39mrange\u001b[39m(\u001b[39m0\u001b[39m, ceil(T\u001b[39m/\u001b[39mdt) \u001b[39m+\u001b[39m \u001b[39m1\u001b[39m)) \u001b[39m*\u001b[39m dt)\n",
      "Cell \u001b[0;32mIn[16], line 27\u001b[0m, in \u001b[0;36mpicard\u001b[0;34m(sol_n, t_n_1, prev, iters)\u001b[0m\n\u001b[1;32m     22\u001b[0m pp\u001b[39m.\u001b[39minitialize_data(subdomain, data, key, {\n\u001b[1;32m     23\u001b[0m     \u001b[39m\"\u001b[39m\u001b[39msecond_order_tensor\u001b[39m\u001b[39m\"\u001b[39m: conductivity_tensor(prev[\u001b[39m-\u001b[39mdof_psi:]),\n\u001b[1;32m     24\u001b[0m })\n\u001b[1;32m     26\u001b[0m \u001b[39m# construct the local matrices\u001b[39;00m\n\u001b[0;32m---> 27\u001b[0m M_k_n_1 \u001b[39m=\u001b[39m pg\u001b[39m.\u001b[39;49mface_mass(mdg)\n\u001b[1;32m     30\u001b[0m \u001b[39m# assemble the saddle point problem\u001b[39;00m\n\u001b[1;32m     31\u001b[0m spp \u001b[39m=\u001b[39m sps\u001b[39m.\u001b[39mbmat([[M_k_n_1, div\u001b[39m.\u001b[39mT], \n\u001b[1;32m     32\u001b[0m                 [\u001b[39m-\u001b[39mdiv,    \u001b[39mNone\u001b[39;00m]], \u001b[39mformat\u001b[39m\u001b[39m=\u001b[39m\u001b[39m\"\u001b[39m\u001b[39mcsc\u001b[39m\u001b[39m\"\u001b[39m)\n",
      "File \u001b[0;32m~/.local/lib/python3.10/site-packages/pygeon/numerics/innerproducts.py:37\u001b[0m, in \u001b[0;36mface_mass\u001b[0;34m(mdg, discr, **kwargs)\u001b[0m\n\u001b[1;32m     25\u001b[0m \u001b[39mdef\u001b[39;00m \u001b[39mface_mass\u001b[39m(mdg, discr\u001b[39m=\u001b[39m\u001b[39mNone\u001b[39;00m, \u001b[39m*\u001b[39m\u001b[39m*\u001b[39mkwargs):\n\u001b[1;32m     26\u001b[0m \u001b[39m    \u001b[39m\u001b[39m\"\"\"\u001b[39;00m\n\u001b[1;32m     27\u001b[0m \u001b[39m    Compute the mass matrix for discretization defined on the faces of a (MD-)grid\u001b[39;00m\n\u001b[1;32m     28\u001b[0m \n\u001b[0;32m   (...)\u001b[0m\n\u001b[1;32m     34\u001b[0m \u001b[39m        sps.csc_matrix, num_faces x num_faces\u001b[39;00m\n\u001b[1;32m     35\u001b[0m \u001b[39m    \"\"\"\u001b[39;00m\n\u001b[0;32m---> 37\u001b[0m     \u001b[39mreturn\u001b[39;00m mass_matrix(mdg, \u001b[39m1\u001b[39;49m, discr, \u001b[39m*\u001b[39;49m\u001b[39m*\u001b[39;49mkwargs)\n",
      "File \u001b[0;32m~/.local/lib/python3.10/site-packages/pygeon/numerics/innerproducts.py:135\u001b[0m, in \u001b[0;36mmass_matrix\u001b[0;34m(mdg, n_minus_k, discr, local_matrix, **kwargs)\u001b[0m\n\u001b[1;32m    120\u001b[0m \u001b[39mdef\u001b[39;00m \u001b[39mmass_matrix\u001b[39m(mdg, n_minus_k, discr, local_matrix\u001b[39m=\u001b[39mlocal_matrix, \u001b[39m*\u001b[39m\u001b[39m*\u001b[39mkwargs):\n\u001b[1;32m    121\u001b[0m \u001b[39m    \u001b[39m\u001b[39m\"\"\"\u001b[39;00m\n\u001b[1;32m    122\u001b[0m \u001b[39m    Compute the mass matrix on a mixed-dimensional grid\u001b[39;00m\n\u001b[1;32m    123\u001b[0m \n\u001b[0;32m   (...)\u001b[0m\n\u001b[1;32m    133\u001b[0m \u001b[39m        sps.csc_matrix, num_dofs x num_dofs\u001b[39;00m\n\u001b[1;32m    134\u001b[0m \u001b[39m    \"\"\"\u001b[39;00m\n\u001b[0;32m--> 135\u001b[0m     bmats \u001b[39m=\u001b[39m mass_matrix_bmats(mdg, n_minus_k, discr, local_matrix, \u001b[39m*\u001b[39;49m\u001b[39m*\u001b[39;49mkwargs)\n\u001b[1;32m    137\u001b[0m     \u001b[39mreturn\u001b[39;00m np\u001b[39m.\u001b[39msum([sps\u001b[39m.\u001b[39mbmat(bmat, \u001b[39mformat\u001b[39m\u001b[39m=\u001b[39m\u001b[39m\"\u001b[39m\u001b[39mcsc\u001b[39m\u001b[39m\"\u001b[39m) \u001b[39mfor\u001b[39;00m bmat \u001b[39min\u001b[39;00m bmats])\n",
      "File \u001b[0;32m~/.local/lib/python3.10/site-packages/pygeon/numerics/innerproducts.py:151\u001b[0m, in \u001b[0;36mmass_matrix_bmats\u001b[0;34m(mdg, n_minus_k, discr, local_matrix, **kwargs)\u001b[0m\n\u001b[1;32m    149\u001b[0m \u001b[39m# Local mass matrices\u001b[39;00m\n\u001b[1;32m    150\u001b[0m \u001b[39mfor\u001b[39;00m (nn_sd, (sd, d_sd)) \u001b[39min\u001b[39;00m \u001b[39menumerate\u001b[39m(mdg\u001b[39m.\u001b[39msubdomains(return_data\u001b[39m=\u001b[39m\u001b[39mTrue\u001b[39;00m)):\n\u001b[0;32m--> 151\u001b[0m     bmat_sd[nn_sd, nn_sd] \u001b[39m=\u001b[39m local_matrix(sd, n_minus_k, discr, d_sd, \u001b[39m*\u001b[39;49m\u001b[39m*\u001b[39;49mkwargs)\n\u001b[1;32m    152\u001b[0m     bmat_mg[nn_sd, nn_sd] \u001b[39m=\u001b[39m sps\u001b[39m.\u001b[39mcsc_matrix(bmat_sd[nn_sd, nn_sd]\u001b[39m.\u001b[39mshape)\n\u001b[1;32m    154\u001b[0m \u001b[39m# Mortar contribution\u001b[39;00m\n",
      "File \u001b[0;32m~/.local/lib/python3.10/site-packages/pygeon/numerics/innerproducts.py:117\u001b[0m, in \u001b[0;36mlocal_matrix\u001b[0;34m(sd, n_minus_k, discr, d_sd, **kwargs)\u001b[0m\n\u001b[1;32m    115\u001b[0m     \u001b[39mreturn\u001b[39;00m _sd_lumped_mass(sd, n_minus_k, discr, d_sd, \u001b[39m*\u001b[39m\u001b[39m*\u001b[39mkwargs)\n\u001b[1;32m    116\u001b[0m \u001b[39melif\u001b[39;00m \u001b[39misinstance\u001b[39m(sd, pp\u001b[39m.\u001b[39mGrid):\n\u001b[0;32m--> 117\u001b[0m     \u001b[39mreturn\u001b[39;00m _sd_mass_matrix(sd, n_minus_k, discr, d_sd, \u001b[39m*\u001b[39;49m\u001b[39m*\u001b[39;49mkwargs)\n",
      "File \u001b[0;32m~/.local/lib/python3.10/site-packages/pygeon/numerics/innerproducts.py:110\u001b[0m, in \u001b[0;36m_sd_mass_matrix\u001b[0;34m(sd, n_minus_k, discr, data, **kwargs)\u001b[0m\n\u001b[1;32m    107\u001b[0m \u001b[39mif\u001b[39;00m discr \u001b[39mis\u001b[39;00m \u001b[39mNone\u001b[39;00m:\n\u001b[1;32m    108\u001b[0m     discr \u001b[39m=\u001b[39m default_discr(sd, n_minus_k, \u001b[39m*\u001b[39m\u001b[39m*\u001b[39mkwargs)\n\u001b[0;32m--> 110\u001b[0m \u001b[39mreturn\u001b[39;00m discr\u001b[39m.\u001b[39;49massemble_mass_matrix(sd, data)\n",
      "File \u001b[0;32m~/.local/lib/python3.10/site-packages/pygeon/discretizations/fem/hdiv.py:75\u001b[0m, in \u001b[0;36mRT0.assemble_mass_matrix\u001b[0;34m(self, sd, data)\u001b[0m\n\u001b[1;32m     63\u001b[0m \u001b[39m\u001b[39m\u001b[39m\"\"\"\u001b[39;00m\n\u001b[1;32m     64\u001b[0m \u001b[39mAssembles the mass matrix\u001b[39;00m\n\u001b[1;32m     65\u001b[0m \n\u001b[0;32m   (...)\u001b[0m\n\u001b[1;32m     71\u001b[0m \u001b[39m    mass_matrix: the mass matrix.\u001b[39;00m\n\u001b[1;32m     72\u001b[0m \u001b[39m\"\"\"\u001b[39;00m\n\u001b[1;32m     74\u001b[0m data \u001b[39m=\u001b[39m \u001b[39mself\u001b[39m\u001b[39m.\u001b[39mcreate_dummy_data(sd, data)\n\u001b[0;32m---> 75\u001b[0m pp\u001b[39m.\u001b[39;49mRT0\u001b[39m.\u001b[39;49mdiscretize(\u001b[39mself\u001b[39;49m, sd, data)\n\u001b[1;32m     76\u001b[0m \u001b[39mreturn\u001b[39;00m data[pp\u001b[39m.\u001b[39mDISCRETIZATION_MATRICES][\u001b[39mself\u001b[39m\u001b[39m.\u001b[39mkeyword][\u001b[39mself\u001b[39m\u001b[39m.\u001b[39mmass_matrix_key]\n",
      "File \u001b[0;32m~/CLionProjects/porepy/src/porepy/numerics/fem/rt0.py:140\u001b[0m, in \u001b[0;36mRT0.discretize\u001b[0;34m(self, sd, data)\u001b[0m\n\u001b[1;32m    130\u001b[0m A \u001b[39m=\u001b[39m RT0\u001b[39m.\u001b[39mmassHdiv(\n\u001b[1;32m    131\u001b[0m     inv_matrix(k\u001b[39m.\u001b[39mvalues[\u001b[39m0\u001b[39m : sd\u001b[39m.\u001b[39mdim, \u001b[39m0\u001b[39m : sd\u001b[39m.\u001b[39mdim, c]),\n\u001b[1;32m    132\u001b[0m     sd\u001b[39m.\u001b[39mcell_volumes[c],\n\u001b[0;32m   (...)\u001b[0m\n\u001b[1;32m    136\u001b[0m     HB,\n\u001b[1;32m    137\u001b[0m )\n\u001b[1;32m    139\u001b[0m \u001b[39m# Compute the flux reconstruction matrix\u001b[39;00m\n\u001b[0;32m--> 140\u001b[0m P \u001b[39m=\u001b[39m RT0\u001b[39m.\u001b[39;49mfaces_to_cell(\n\u001b[1;32m    141\u001b[0m     c_centers[:, c],\n\u001b[1;32m    142\u001b[0m     coord_loc,\n\u001b[1;32m    143\u001b[0m     f_centers[:, faces_loc],\n\u001b[1;32m    144\u001b[0m     f_normals[:, faces_loc],\n\u001b[1;32m    145\u001b[0m     dim,\n\u001b[1;32m    146\u001b[0m     R,\n\u001b[1;32m    147\u001b[0m )\n\u001b[1;32m    149\u001b[0m \u001b[39m# Save values for Hdiv-mass local matrix in the global structure\u001b[39;00m\n\u001b[1;32m    150\u001b[0m cols \u001b[39m=\u001b[39m np\u001b[39m.\u001b[39mconcatenate(faces_loc\u001b[39m.\u001b[39msize \u001b[39m*\u001b[39m [[faces_loc]])\n",
      "File \u001b[0;32m~/CLionProjects/porepy/src/porepy/numerics/fem/rt0.py:241\u001b[0m, in \u001b[0;36mRT0.faces_to_cell\u001b[0;34m(pt, coord, f_centers, f_normals, dim, R)\u001b[0m\n\u001b[1;32m    239\u001b[0m \u001b[39m# the resulting vector has always three componenets\u001b[39;00m\n\u001b[1;32m    240\u001b[0m P \u001b[39m=\u001b[39m np\u001b[39m.\u001b[39mzeros((\u001b[39m3\u001b[39m, coord\u001b[39m.\u001b[39mshape[\u001b[39m1\u001b[39m]))\n\u001b[0;32m--> 241\u001b[0m P[dim, :] \u001b[39m=\u001b[39m c_delta \u001b[39m/\u001b[39m np\u001b[39m.\u001b[39;49meinsum(\u001b[39m\"\u001b[39;49m\u001b[39mij,ij->j\u001b[39;49m\u001b[39m\"\u001b[39;49m, f_delta, f_normals)\n\u001b[1;32m    242\u001b[0m \u001b[39mreturn\u001b[39;00m np\u001b[39m.\u001b[39mdot(R\u001b[39m.\u001b[39mT, P)\n",
      "File \u001b[0;32m<__array_function__ internals>:5\u001b[0m, in \u001b[0;36meinsum\u001b[0;34m(*args, **kwargs)\u001b[0m\n",
      "File \u001b[0;32m~/.local/lib/python3.10/site-packages/numpy/core/einsumfunc.py:997\u001b[0m, in \u001b[0;36meinsum\u001b[0;34m(out, optimize, *operands, **kwargs)\u001b[0m\n\u001b[1;32m    993\u001b[0m     \u001b[39myield\u001b[39;00m out\n\u001b[1;32m    996\u001b[0m \u001b[39m# Rewrite einsum to handle different cases\u001b[39;00m\n\u001b[0;32m--> 997\u001b[0m \u001b[39m@array_function_dispatch\u001b[39m(_einsum_dispatcher, module\u001b[39m=\u001b[39m\u001b[39m'\u001b[39m\u001b[39mnumpy\u001b[39m\u001b[39m'\u001b[39m)\n\u001b[1;32m    998\u001b[0m \u001b[39mdef\u001b[39;00m \u001b[39meinsum\u001b[39m(\u001b[39m*\u001b[39moperands, out\u001b[39m=\u001b[39m\u001b[39mNone\u001b[39;00m, optimize\u001b[39m=\u001b[39m\u001b[39mFalse\u001b[39;00m, \u001b[39m*\u001b[39m\u001b[39m*\u001b[39mkwargs):\n\u001b[1;32m    999\u001b[0m \u001b[39m    \u001b[39m\u001b[39m\"\"\"\u001b[39;00m\n\u001b[1;32m   1000\u001b[0m \u001b[39m    einsum(subscripts, *operands, out=None, dtype=None, order='K',\u001b[39;00m\n\u001b[1;32m   1001\u001b[0m \u001b[39m           casting='safe', optimize=False)\u001b[39;00m\n\u001b[0;32m   (...)\u001b[0m\n\u001b[1;32m   1350\u001b[0m \n\u001b[1;32m   1351\u001b[0m \u001b[39m    \"\"\"\u001b[39;00m\n\u001b[1;32m   1352\u001b[0m     \u001b[39m# Special handling if out is specified\u001b[39;00m\n",
      "\u001b[0;31mKeyboardInterrupt\u001b[0m: "
     ]
    }
   ],
   "source": [
    "sol = [initial_solution]\n",
    "save = pp.Exporter(mdg, \"sol\", folder_name=output_directory)\n",
    "export_step(save, sol[-1], 0)\n",
    "\n",
    "# Time Loop\n",
    "for step in range(1, ceil(T/dt) + 1):\n",
    "    sol.append( picard(sol[-1], step * dt) )\n",
    "    export_step(save, sol[-1], step)\n",
    "\n",
    "save.write_pvd(np.array(range(0, ceil(T/dt) + 1)) * dt)"
   ]
  }
 ],
 "metadata": {
  "kernelspec": {
   "display_name": ".venv",
   "language": "python",
   "name": "python3"
  },
  "language_info": {
   "codemirror_mode": {
    "name": "ipython",
    "version": 3
   },
   "file_extension": ".py",
   "mimetype": "text/x-python",
   "name": "python",
   "nbconvert_exporter": "python",
   "pygments_lexer": "ipython3",
   "version": "3.10.6"
  },
  "orig_nbformat": 4
 },
 "nbformat": 4,
 "nbformat_minor": 2
}
