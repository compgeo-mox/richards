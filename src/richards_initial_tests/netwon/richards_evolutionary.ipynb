{
 "cells": [
  {
   "attachments": {},
   "cell_type": "markdown",
   "metadata": {},
   "source": [
    "# Richards equation\n",
    "\n",
    "In this tutorial we present how to solve a Richards equation with [PyGeoN](https://github.com/compgeo-mox/pygeon).  The unkwons are the velocity $q$ and the pressure $p$.\n",
    "\n",
    "Let $\\Omega=(0,2)\\times(0,3)$ with boundary $\\partial \\Omega$ and outward unit normal ${\\nu}$. Given \n",
    "$k$ the matrix permeability, we want to solve the following problem: find $({q}, \\psi)$ such that\n",
    "$$\n",
    "\\left\\{\n",
    "\\begin{array}{ll}\n",
    "\\begin{array}{l} \n",
    "K^{-1}(\\psi) {q} + \\nabla \\psi = -\\nabla z\\\\\n",
    "\\partial_t \\theta (\\psi) + \\nabla \\cdot {q} = 0\n",
    "\\end{array}\n",
    "&\\text{in } \\Omega \\times (0,T)\n",
    "\\end{array}\n",
    "\\right.\n",
    "$$\n",
    "with boundary conditions:\n",
    "\n",
    "$$\n",
    "\\psi(t,x,z)=\n",
    "\\left\\{\n",
    "\\begin{array}{ll}\n",
    "\\begin{array}{l} \n",
    "-2+2.2 \\frac{t}{\\Delta t_D}, \\text{ on } \\Gamma_{D_1}, t\\leq\\Delta t_D\\\\\n",
    "0.2, \\text{ on } \\Gamma_{D_1}, t>\\Delta t_D\\\\\n",
    "1-z, \\text{ on } \\Gamma_{D_2}\n",
    "\\end{array}\n",
    "\\end{array}\n",
    "\\right., \\qquad \\nu \\cdot q = 0 \\text{ on } \\Gamma_N \\qquad \\psi(0,x,z) = 1-z \\text{ on } \\Omega$$\n",
    "and\n",
    "$$\n",
    "\\Gamma_{D_1} = \\left\\{ (x,z) \\in \\partial \\Omega \\:|\\: x \\in [0,1] \\wedge z=3  \\right\\},\\\\\n",
    "\\Gamma_{D_2} = \\left\\{ (x,z) \\in \\partial \\Omega \\:|\\: x = 2 \\wedge z \\in [0,1]  \\right\\},\\\\\n",
    "\\Gamma_{D} = \\Gamma_{D_1} \\cup \\Gamma_{D_2},\\\\\n",
    "\\Gamma_{N} = \\partial \\Omega \\setminus \\Gamma_D\n",
    "$$\n",
    "\n",
    "We present *step-by-step* how to create the grid, declare the problem data, and finally solve the problem."
   ]
  },
  {
   "attachments": {},
   "cell_type": "markdown",
   "metadata": {},
   "source": [
    "### Import and parameters"
   ]
  },
  {
   "cell_type": "code",
   "execution_count": 1,
   "metadata": {},
   "outputs": [],
   "source": [
    "import shutil\n",
    "import os\n",
    "\n",
    "import numpy as np\n",
    "import scipy.sparse as sps\n",
    "import sympy as sp\n",
    "\n",
    "import porepy as pp\n",
    "import pygeon as pg\n",
    "\n",
    "from math import ceil, floor, log10, exp\n",
    "\n",
    "import matplotlib.pyplot as plt"
   ]
  },
  {
   "cell_type": "code",
   "execution_count": 2,
   "metadata": {},
   "outputs": [],
   "source": [
    "K = 50\n",
    "N = 20\n",
    "\n",
    "eps_psi_abs = 1e-5\n",
    "eps_psi_rel = 1e-5\n",
    "\n",
    "domain_tolerance = 1 / (10 * N)\n",
    "beta_q   = 0\n",
    "beta_psi = 0\n",
    "\n",
    "output_directory = 'output_evolutionary'"
   ]
  },
  {
   "cell_type": "code",
   "execution_count": 3,
   "metadata": {},
   "outputs": [],
   "source": [
    "rho = 1000\n",
    "g = pp.GRAVITY_ACCELERATION"
   ]
  },
  {
   "cell_type": "code",
   "execution_count": 4,
   "metadata": {},
   "outputs": [],
   "source": [
    "theta_s = 0.396\n",
    "theta_r = 0.131\n",
    "\n",
    "alpha = 0.423\n",
    "\n",
    "n = 2.06\n",
    "K_s = 4.96e-2"
   ]
  },
  {
   "cell_type": "code",
   "execution_count": 5,
   "metadata": {},
   "outputs": [],
   "source": [
    "dt_D = 1/16\n",
    "dt   = 1/48\n",
    "T    = 3/16"
   ]
  },
  {
   "attachments": {},
   "cell_type": "markdown",
   "metadata": {},
   "source": [
    "### $\\theta$ and $k$, with their derivatives w.r.t. $\\psi$"
   ]
  },
  {
   "cell_type": "code",
   "execution_count": 6,
   "metadata": {},
   "outputs": [],
   "source": [
    "def theta(psi):\n",
    "    res = np.ones_like(psi) * theta_s\n",
    "\n",
    "    mask = psi <= 0\n",
    "    res[mask] = theta_r + (theta_s  - theta_r) * 1 / np.power(1 + np.power(-alpha * psi[mask], n), (n-1)/n)\n",
    "\n",
    "    # print(res[mask])\n",
    "\n",
    "    return res"
   ]
  },
  {
   "cell_type": "code",
   "execution_count": 7,
   "metadata": {},
   "outputs": [],
   "source": [
    "def dtheta_dpsi(psi):\n",
    "    \n",
    "    res = np.zeros_like(psi)\n",
    "\n",
    "    mask = psi < 0\n",
    "    res[mask] = -((n-1)*(theta_s-theta_r)*(np.power(-alpha*psi[mask], n))*np.power(np.power(-alpha*psi[mask], n) + 1, (-(n-1)/n -1) ))/psi[mask]\n",
    "\n",
    "    return res"
   ]
  },
  {
   "cell_type": "code",
   "execution_count": 8,
   "metadata": {},
   "outputs": [],
   "source": [
    "def conductivity_coeff(psi):\n",
    "    coeff = np.ones_like(psi) * K_s\n",
    "\n",
    "    mask = psi < 0\n",
    "    th = theta(psi[mask])\n",
    "    coeff[mask] = K_s * np.power(th, (1/2)) * np.power( 1 - np.power( 1 - np.power(th , ( n / (n-1) ) ), ((n-1)/n)), 2)\n",
    "\n",
    "    return coeff"
   ]
  },
  {
   "cell_type": "code",
   "execution_count": 9,
   "metadata": {},
   "outputs": [],
   "source": [
    "psi_var = sp.Symbol('psi', negative=True)\n",
    "theta_exp = theta_r + (theta_s  - theta_r) * (1 / (1+(-alpha * psi_var) ** n)) ** ((n-1)/n)\n",
    "dconductivity_coeff_dpsi_expr = sp.diff( K_s * (theta_exp ** (1/2)) * ( 1 - ( 1 - ( theta_exp ** ( n / (n-1) ) ) ) ** ((n-1)/n) ) ** 2, psi_var)\n",
    "d_inverse_conductivity_dpsi_expr = sp.diff( 1 / (K_s * (theta_exp ** (1/2)) * ( 1 - ( 1 - ( theta_exp ** ( n / (n-1) ) ) ) ** ((n-1)/n) ) ** 2), psi_var)\n",
    "\n",
    "\n",
    "dconductivity_coeff_dpsi_func = sp.lambdify(psi_var, dconductivity_coeff_dpsi_expr, 'numpy')\n",
    "d_inverse_conductivity_dpsi_func = sp.lambdify(psi_var, d_inverse_conductivity_dpsi_expr, 'numpy')"
   ]
  },
  {
   "cell_type": "code",
   "execution_count": 10,
   "metadata": {},
   "outputs": [],
   "source": [
    "def dconductivity_coeff_dpsi(psi, order=1):\n",
    "    res = np.zeros_like(psi)\n",
    "    mask = psi < 0\n",
    "    if order == 0:\n",
    "        res[mask] = conductivity_coeff(psi[mask])\n",
    "    elif order == 1:\n",
    "        res[mask] = dconductivity_coeff_dpsi_func(psi[mask])\n",
    "    else:\n",
    "        res[mask] = sp.utilities.lambdify.lambdify(psi_var, sp.diff( K_s * (theta_exp ** (1/2)) * ( 1 - ( 1 - ( theta_exp ** ( n / (n-1) ) ) ) ** ((n-1)/n) ) ** 2, psi_var, order), 'numpy')(psi[mask])\n",
    "    \n",
    "    return res"
   ]
  },
  {
   "cell_type": "code",
   "execution_count": 11,
   "metadata": {},
   "outputs": [],
   "source": [
    "def dconductivity_tensor_dpsi(psi, order=1):\n",
    "    return pp.SecondOrderTensor(dconductivity_coeff_dpsi(psi, order))"
   ]
  },
  {
   "cell_type": "code",
   "execution_count": 12,
   "metadata": {},
   "outputs": [],
   "source": [
    "def d_inverse_conductivity_coeff_dpsi(psi, order=1):\n",
    "    res = np.zeros_like(psi)\n",
    "    \n",
    "    if order == 0:\n",
    "        return 1 / conductivity_coeff(psi)\n",
    "    elif order == 1:\n",
    "        mask = psi < 0\n",
    "        res[mask] = d_inverse_conductivity_dpsi_func(psi[mask])\n",
    "    \n",
    "    return res"
   ]
  },
  {
   "cell_type": "code",
   "execution_count": 13,
   "metadata": {},
   "outputs": [],
   "source": [
    "def d_inverse_conductivity_tensor_dpsi(psi, order=1):\n",
    "    return pp.SecondOrderTensor(d_inverse_conductivity_coeff_dpsi(psi, order))"
   ]
  },
  {
   "cell_type": "code",
   "execution_count": 14,
   "metadata": {},
   "outputs": [],
   "source": [
    "def conductivity_tensor(psi):\n",
    "    return dconductivity_tensor_dpsi(psi, 0)"
   ]
  },
  {
   "cell_type": "code",
   "execution_count": 15,
   "metadata": {},
   "outputs": [],
   "source": [
    "def quick_plot():\n",
    "    psi_val = np.linspace(-2, 1, 100)\n",
    "\n",
    "    theta_max = theta_s\n",
    "    theta_min = theta_r\n",
    "\n",
    "    _, ((ax1, ax2), (ax3, ax4)) = plt.subplots(2, 2, figsize=(10, 10))\n",
    "\n",
    "    ax1.plot(psi_val, theta(psi_val))\n",
    "    ax1.plot(psi_val, theta_max * np.ones_like(psi_val), linestyle=\"--\", color=\"red\")\n",
    "    ax1.plot(\n",
    "        psi_val,\n",
    "        theta_min * np.ones_like(psi_val),\n",
    "        linestyle=\"--\",\n",
    "        color=\"green\",\n",
    "    )\n",
    "    ax1.set_title(\"theta\")\n",
    "\n",
    "    ax2.plot(psi_val, 1 / dconductivity_coeff_dpsi(psi_val, 0))\n",
    "    ax2.set_title(\"K^(-1)\")\n",
    "\n",
    "    ax3.plot(psi_val, dtheta_dpsi(psi_val))\n",
    "    ax3.set_title(\"d theta / d psi\")\n",
    "\n",
    "    ax4.plot(psi_val, d_inverse_conductivity_coeff_dpsi(psi_val, 1))\n",
    "    ax4.set_title(\"d (K^-1) / d psi\")\n",
    "\n",
    "\n",
    "    plt.show()"
   ]
  },
  {
   "cell_type": "code",
   "execution_count": 16,
   "metadata": {},
   "outputs": [
    {
     "data": {
      "image/png": "[encoded data removed]",
      "text/plain": [
       "<Figure size 1000x1000 with 4 Axes>"
      ]
     },
     "metadata": {},
     "output_type": "display_data"
    }
   ],
   "source": [
    "quick_plot()"
   ]
  },
  {
   "attachments": {},
   "cell_type": "markdown",
   "metadata": {},
   "source": [
    "### Domain preparation"
   ]
  },
  {
   "cell_type": "code",
   "execution_count": 17,
   "metadata": {},
   "outputs": [],
   "source": [
    "subdomain = pp.StructuredTriangleGrid([2*N, 3*N], [2,3])\n",
    "# convert the grid into a mixed-dimensional grid\n",
    "mdg = pp.meshing.subdomains_to_mdg([subdomain])\n",
    "mdg.compute_geometry()"
   ]
  },
  {
   "cell_type": "code",
   "execution_count": 18,
   "metadata": {},
   "outputs": [],
   "source": [
    "key = \"flow\"\n",
    "\n",
    "bc_value = []\n",
    "bc_essential = []\n",
    "initial_pressure = []\n",
    "\n",
    "gravity = []\n",
    "\n",
    "RT0 = pg.RT0(key)\n",
    "P0  = pg.PwConstants(key)"
   ]
  },
  {
   "cell_type": "code",
   "execution_count": 19,
   "metadata": {},
   "outputs": [],
   "source": [
    "def g_func(x): \n",
    "    return np.array([0, -1, -1])"
   ]
  },
  {
   "cell_type": "code",
   "execution_count": 20,
   "metadata": {},
   "outputs": [],
   "source": [
    "def initial_pressure_func(x): \n",
    "    return 1-x[1]"
   ]
  },
  {
   "cell_type": "code",
   "execution_count": 21,
   "metadata": {},
   "outputs": [],
   "source": [
    "for subdomain, data in mdg.subdomains(return_data=True):\n",
    "    g_proj = RT0.interpolate(subdomain, g_func)\n",
    "    gravity.append(RT0.assemble_mass_matrix(subdomain) @ g_proj)\n",
    "    \n",
    "    initial_pressure.append(P0.interpolate(subdomain, initial_pressure_func))\n",
    "        \n",
    "    # with the following steps we identify the portions of the boundary\n",
    "    # to impose the boundary conditions\n",
    "    boundary_faces_indexes = subdomain.get_boundary_faces()\n",
    "\n",
    "    gamma_d1 = np.logical_and(subdomain.face_centers[0, :] > 0-domain_tolerance, np.logical_and(subdomain.face_centers[0, :] < 1+domain_tolerance, subdomain.face_centers[1, :] > 3-domain_tolerance))\n",
    "    gamma_d2 = np.logical_and(subdomain.face_centers[0, :] > 2-domain_tolerance, np.logical_and(subdomain.face_centers[1, :] > 0-domain_tolerance, subdomain.face_centers[1, :] < 1+domain_tolerance))\n",
    "\n",
    "    gamma_d  = np.logical_or(gamma_d1, gamma_d2)\n",
    "    \n",
    "    gamma_n  = gamma_d.copy()\n",
    "    gamma_n[boundary_faces_indexes] = np.logical_not(gamma_n[boundary_faces_indexes])\n",
    "    \n",
    "\n",
    "    pp.initialize_data(subdomain, data, key, {\n",
    "        \"second_order_tensor\": pp.SecondOrderTensor(np.ones(subdomain.num_cells)),\n",
    "    })\n",
    "\n",
    "    def bc_gamma_d(x, t):\n",
    "        if   x[0] > 2-domain_tolerance and x[1] > 0-domain_tolerance and x[1] < 1+domain_tolerance:\n",
    "            res =  1 - x[1]\n",
    "        elif x[1] > 3-domain_tolerance and x[0] > 0-domain_tolerance and x[0] < 1+domain_tolerance:\n",
    "            res = min( 0.2, -2 + 2.2 * t / dt_D )\n",
    "        else:\n",
    "            res = 0\n",
    "        \n",
    "        return res\n",
    "\n",
    "    bc_value.append(lambda t: - RT0.assemble_nat_bc(subdomain, lambda x: bc_gamma_d(x,t), gamma_d))\n",
    "\n",
    "    essential_pressure_dofs = np.zeros(P0.ndof(subdomain), dtype=bool)\n",
    "    bc_essential.append(np.hstack((gamma_n, essential_pressure_dofs)))"
   ]
  },
  {
   "cell_type": "code",
   "execution_count": 22,
   "metadata": {},
   "outputs": [],
   "source": [
    "def d_inverse_conductivity_matrix_dpsi(psi, order=1):\n",
    "    cond = d_inverse_conductivity_dpsi_func(psi, order)\n",
    "\n",
    "    A = np.ones(shape=(subdomain.dim, subdomain.dim, subdomain.num_cells))\n",
    "    for i in range(subdomain.dim):\n",
    "        A[i, i, :] = cond\n",
    "\n",
    "    return A"
   ]
  },
  {
   "cell_type": "code",
   "execution_count": 23,
   "metadata": {},
   "outputs": [
    {
     "data": {
      "text/plain": [
       "(40, 160, 200)"
      ]
     },
     "execution_count": 23,
     "metadata": {},
     "output_type": "execute_result"
    }
   ],
   "source": [
    "gamma_d.sum(), gamma_n.sum(), len(subdomain.get_boundary_faces())"
   ]
  },
  {
   "attachments": {},
   "cell_type": "markdown",
   "metadata": {},
   "source": [
    "A quick recap:\n",
    "$$\n",
    "\\left\\{\n",
    "\\begin{array}{ll}\n",
    "\\begin{array}{l} \n",
    "K^{-1}(\\psi) {q} + \\nabla \\psi = -\\nabla z\\\\\n",
    "\\partial_t \\theta (\\psi) + \\nabla \\cdot {q} = 0\n",
    "\\end{array}\n",
    "&\\text{in } \\Omega \\times (0,T)\n",
    "\\end{array}\n",
    "\\right.\n",
    "$$\n",
    "becames, with the time discretization:\n",
    "$$\n",
    "\\left\\{\n",
    "\\begin{array}{ll}\n",
    "\\begin{array}{l} \n",
    "K^{-1}(\\psi) {q^{n+1}} + \\nabla \\psi^{n+1} = -\\nabla z\\\\\n",
    "\\frac{\\theta (\\psi^{n+1}) - \\theta (\\psi^{n})}{\\Delta t} + \\nabla \\cdot {q^{n+1}} = 0\n",
    "\\end{array}\n",
    "&\\text{in } \\Omega \\times (0,T)\n",
    "\\end{array}\n",
    "\\right.\n",
    "$$"
   ]
  },
  {
   "attachments": {},
   "cell_type": "markdown",
   "metadata": {},
   "source": [
    "\n",
    "$$\n",
    "Netwon \\qquad\n",
    "\\left\\{\n",
    "\\begin{array}{ll}\n",
    "\\begin{array}{l} \n",
    "M^{n+1}_k q_{k+1}^{n+1} + [B^T + C(\\psi_k^{n+1}, q_ {k}^{n+1})] \\psi^{n+1}_{k+1} = G^{n+1} + C(\\psi_k^{n+1}, q_ {k}^{n+1}) \\psi_k^{n+1} + BC^{n+1}\\\\\n",
    "D(\\psi_{k}^{n+1}) \\psi_{k+1}^{n+1} - \\Delta t B q_{k+1}^{n+1} = \\Theta^n - \\Theta^{n+1}_k + D(\\psi_{k}^{n+1}) \\psi_{k}^{n+1} + \\Delta t F^{n+1}\n",
    "\\end{array}\n",
    "\\end{array}\n",
    "\\right.\n",
    "$$\n",
    "where:\n",
    "$$\n",
    "[M^{n+1}_k]_{ij} = \\left( K^{-1}(\\psi^{n+1}_k) \\Phi_j, \\Phi_i \\right)_{L^2(\\Omega)}, \\qquad [C(\\psi_k^{n+1}, q_ {k}^{n+1})]_{ij} = \\int_{\\Omega} \\Psi_j \\frac{\\partial K^{-1}(\\psi_k^{n+1})}{\\partial \\psi} \\, q_k^{n+1} \\cdot \\Phi_i \\, d\\Omega, \\qquad [D(\\psi_{k}^{n+1})]_{ij} = \\left( \\frac{\\partial \\theta}{\\partial \\psi}(\\psi_k^{n+1}) \\Psi_j, \\Psi_i \\right)_{L^2(\\Omega)}, \\qquad [B]_{ij} = - \\left( \\Psi_i, \\nabla \\cdot \\Phi_j \\right)_{L^2(\\Omega)}\n",
    "$$"
   ]
  },
  {
   "cell_type": "code",
   "execution_count": 24,
   "metadata": {},
   "outputs": [],
   "source": [
    "div = -pg.cell_mass(mdg) @ pg.div(mdg)\n",
    "\n",
    "# get the degrees of freedom for each variable\n",
    "dof_p, dof_q = div.shape\n",
    "dof_psi = dof_p"
   ]
  },
  {
   "cell_type": "code",
   "execution_count": 25,
   "metadata": {},
   "outputs": [
    {
     "data": {
      "text/plain": [
       "(4800, 7300)"
      ]
     },
     "execution_count": 25,
     "metadata": {},
     "output_type": "execute_result"
    }
   ],
   "source": [
    "dof_p, dof_q"
   ]
  },
  {
   "cell_type": "code",
   "execution_count": 26,
   "metadata": {},
   "outputs": [],
   "source": [
    "proj_q   = RT0.eval_at_cell_centers(subdomain)\n",
    "proj_psi =  P0.eval_at_cell_centers(subdomain)\n",
    "\n",
    "\n",
    "def export_step(save, current_sol, step) -> None:\n",
    "    q   = current_sol[:dof_q]\n",
    "    psi = current_sol[-dof_psi:]\n",
    "\n",
    "    ins = list()\n",
    "\n",
    "    ins.append((subdomain, \"cell_q\", ( proj_q @ q).reshape((3, -1), order=\"F\")))\n",
    "    ins.append((subdomain, \"cell_p\", proj_psi @ psi))\n",
    "    \n",
    "    save.write_vtu(ins, time_step=step)"
   ]
  },
  {
   "cell_type": "code",
   "execution_count": 27,
   "metadata": {},
   "outputs": [],
   "source": [
    "sd = subdomain\n",
    "Mass_q   = RT0.assemble_mass_matrix(sd)\n",
    "Mass_q_dense = Mass_q.tocsr()"
   ]
  },
  {
   "cell_type": "code",
   "execution_count": 28,
   "metadata": {
    "tags": []
   },
   "outputs": [],
   "source": [
    "sd = subdomain\n",
    "\n",
    "size_HB = sd.dim * (sd.dim + 1)\n",
    "HB = np.zeros((size_HB, size_HB))\n",
    "for it in np.arange(0, size_HB, sd.dim):\n",
    "    HB += np.diagflat(np.ones(size_HB - it), it)\n",
    "HB += HB.T\n",
    "HB /= sd.dim * sd.dim * (sd.dim + 1) * (sd.dim + 2)\n",
    "    \n",
    "deviation_from_plane_tol = data.get(\"deviation_from_plane_tol\", 1e-5)\n",
    "c_centers, f_normals, f_centers, R, dim, node_coords = pp.map_geometry.map_grid(sd, deviation_from_plane_tol)\n",
    "\n",
    "faces, cells, sign = sps.find(sd.cell_faces)\n",
    "index = np.argsort(cells)\n",
    "faces, sign = faces[index], sign[index]\n",
    "\n",
    "RT0._compute_cell_face_to_opposite_node(subdomain, data)\n",
    "cell_face_to_opposite_node = data[\"rt0_class_cell_face_to_opposite_node\"]\n",
    "\n",
    "size_A = np.power(sd.dim + 1, 1) * sd.num_cells\n",
    "\n",
    "def mixed_matrix(coeff, q):\n",
    "    rows_A = np.empty(size_A, dtype=int)\n",
    "    cols_A = np.empty(size_A, dtype=int)\n",
    "    data_A = np.empty(size_A)\n",
    "    idx_A = 0\n",
    "\n",
    "    data[pp.PARAMETERS].update({\"second_order_tensor\": np.ones(sd.num_cells)})\n",
    "\n",
    "    for c in np.arange(sd.num_cells):\n",
    "        loc = slice(sd.cell_faces.indptr[c], sd.cell_faces.indptr[c + 1])\n",
    "        faces_loc = faces[loc]\n",
    "        \n",
    "        node = cell_face_to_opposite_node[c, :]\n",
    "        coord_loc = node_coords[:, node]\n",
    "\n",
    "        A = pp.RT0.massHdiv(\n",
    "            np.eye(sd.dim),\n",
    "            sd.cell_volumes[c],\n",
    "            coord_loc,\n",
    "            sign[loc],\n",
    "            sd.dim,\n",
    "            HB,\n",
    "        )\n",
    "\n",
    "        partial_C = A @ q[faces_loc]\n",
    "\n",
    "        # Save values for Hdiv-mass local matrix in the global structure\n",
    "        loc_idx = range(idx_A, idx_A + sd.dim + 1)\n",
    "        rows_A[loc_idx] = faces_loc\n",
    "        cols_A[loc_idx] = c\n",
    "        data_A[loc_idx] = partial_C.ravel() * coeff[c] / sd.cell_volumes[c]\n",
    "        \n",
    "        idx_A += (sd.dim + 1)\n",
    "\n",
    "    return sps.coo_matrix((data_A, (rows_A, cols_A)))"
   ]
  },
  {
   "attachments": {},
   "cell_type": "markdown",
   "metadata": {},
   "source": [
    "sd = subdomain\n",
    "\n",
    "faces, cells, sign = sps.find(sd.cell_faces)\n",
    "index = np.argsort(cells)\n",
    "faces, sign = faces[index], sign[index]\n",
    "\n",
    "size_A = np.power(sd.dim + 1, 1) * sd.num_cells\n",
    "\n",
    "def mixed_matrix(coeff, q):\n",
    "    rows_A = np.empty(size_A, dtype=int)\n",
    "    cols_A = np.empty(size_A, dtype=int)\n",
    "    data_A = np.empty(size_A)\n",
    "    idx_A = 0\n",
    "\n",
    "    data[pp.PARAMETERS].update({\"second_order_tensor\": np.ones(sd.num_cells)})\n",
    "\n",
    "    for c in np.arange(sd.num_cells):\n",
    "        loc = slice(sd.cell_faces.indptr[c], sd.cell_faces.indptr[c + 1])\n",
    "        faces_loc = faces[loc]\n",
    "        \n",
    "        \n",
    "        partial_C = Mass_q_dense[faces_loc, :][:, faces_loc] @ q[faces_loc]\n",
    "\n",
    "        # Save values for Hdiv-mass local matrix in the global structure\n",
    "        loc_idx = range(idx_A, idx_A + sd.dim + 1)\n",
    "        rows_A[loc_idx] = faces_loc\n",
    "        cols_A[loc_idx] = c\n",
    "        data_A[loc_idx] = partial_C.ravel() * coeff[c] / sd.cell_volumes[c]\n",
    "        \n",
    "        idx_A += (sd.dim + 1)\n",
    "\n",
    "    return sps.coo_matrix((data_A, (rows_A, cols_A)))"
   ]
  },
  {
   "cell_type": "code",
   "execution_count": 29,
   "metadata": {},
   "outputs": [],
   "source": [
    "def project_array_to_P0(val):\n",
    "    return val * subdomain.cell_volumes"
   ]
  },
  {
   "cell_type": "code",
   "execution_count": 30,
   "metadata": {},
   "outputs": [],
   "source": [
    "Mass_psi =  P0.assemble_mass_matrix(subdomain)\n",
    "\n",
    "def newton(sol_n, t_n_1, prev=None, iters=K, debug=False):\n",
    "    if prev == None:\n",
    "        prev = sol_n.copy()\n",
    "\n",
    "\n",
    "    # assemble the right-hand side\n",
    "    fixed_rhs = np.zeros(dof_psi + dof_q)\n",
    "\n",
    "\n",
    "    # Theta^n\n",
    "    fixed_rhs[-dof_psi:] += Mass_psi @ project_array_to_P0(theta(proj_psi @ prev[-dof_psi:]))\n",
    "\n",
    "    # Natural BCs\n",
    "    fixed_rhs[:dof_q] += np.hstack(list(cond(t_n_1) for cond in bc_value))\n",
    "\n",
    "    # Gravity\n",
    "    fixed_rhs[:dof_q] += np.hstack(gravity)\n",
    "\n",
    "    if debug:\n",
    "        save_debug = pp.Exporter(mdg, \"sol_\" + str(t_n_1), folder_name=output_directory + \"/debug\")\n",
    "        export_step(save_debug, prev, 0)\n",
    "\n",
    "    print('Time ' + str(round(t_n_1, 5)))\n",
    "\n",
    "    for k in range(iters):\n",
    "        psi = prev[-dof_psi:]\n",
    "        q   = prev[:dof_q]\n",
    "\n",
    "        rhs = None\n",
    "        rhs = fixed_rhs.copy()\n",
    "\n",
    "        C = mixed_matrix(d_inverse_conductivity_coeff_dpsi(proj_psi @ psi, 1), q)\n",
    "        rhs[:dof_q]    += C @ psi\n",
    "\n",
    "\n",
    "        # Theta^{n+1}_k\n",
    "        rhs[-dof_psi:] -= Mass_psi @ project_array_to_P0(theta(proj_psi @ psi))\n",
    "        \n",
    "        D = Mass_psi @ np.diag(dtheta_dpsi(proj_psi @ psi))\n",
    "        rhs[-dof_psi:] += D @ psi\n",
    "\n",
    "        data[pp.PARAMETERS].update({\"second_order_tensor\": conductivity_tensor(proj_psi @ psi)})\n",
    "\n",
    "        # construct the local matrices\n",
    "        M_k_n_1 = None\n",
    "        M_k_n_1 = pg.face_mass(mdg)\n",
    "\n",
    "        \n",
    "        spp = sps.bmat([[M_k_n_1,   (div.T + C)], \n",
    "                        [-dt * div,           D]], format=\"csc\")\n",
    "        \n",
    "\n",
    "        \n",
    "        # solve the problem\n",
    "        ls = None\n",
    "        ls = pg.LinearSystem(spp, rhs)\n",
    "        ls.flag_ess_bc(np.hstack(bc_essential), np.zeros(dof_q + dof_psi))\n",
    "    \n",
    "        current = None\n",
    "        current = ls.solve()\n",
    "\n",
    "        if debug:\n",
    "            export_step(save_debug, current, k+1)\n",
    "\n",
    "\n",
    "        abs_err_psi  = np.sqrt(np.sum(np.power(current[-dof_psi:]-prev[-dof_psi:], 2)))\n",
    "        abs_err_prev = np.sqrt(np.sum(np.power(prev[-dof_psi:], 2)))\n",
    "\n",
    "\n",
    "        print('Iteration #' + format(k+1, '0' + str(ceil(log10(iters)) + 1) + 'd') \n",
    "              + ', error L2 relative psi: ' + format(abs_err_psi, str(5 + ceil(log10(1 / eps_psi_abs)) + 4) + '.' + str(ceil(log10(1 / eps_psi_abs)) + 4) + 'f'))\n",
    "\n",
    "        if abs_err_psi < eps_psi_abs + eps_psi_rel * abs_err_prev:\n",
    "            print('')\n",
    "            return current\n",
    "        else:\n",
    "            prev = current\n",
    "            \n",
    "    return current"
   ]
  },
  {
   "cell_type": "code",
   "execution_count": 31,
   "metadata": {},
   "outputs": [],
   "source": [
    "if os.path.exists(output_directory):\n",
    "    shutil.rmtree(output_directory)"
   ]
  },
  {
   "cell_type": "code",
   "execution_count": 32,
   "metadata": {},
   "outputs": [],
   "source": [
    "# assemble initial solution\n",
    "initial_solution = np.zeros(dof_q + dof_psi)\n",
    "initial_solution[-dof_psi:] += np.hstack(initial_pressure)"
   ]
  },
  {
   "cell_type": "code",
   "execution_count": 33,
   "metadata": {},
   "outputs": [
    {
     "name": "stdout",
     "output_type": "stream",
     "text": [
      "Time 0.02083\n"
     ]
    },
    {
     "name": "stdout",
     "output_type": "stream",
     "text": [
      "Iteration #001, error L2 relative psi:    0.016194485\n",
      "Iteration #002, error L2 relative psi:    0.000863292\n",
      "Iteration #003, error L2 relative psi:    0.001924971\n",
      "Iteration #004, error L2 relative psi:    0.023382252\n",
      "Iteration #005, error L2 relative psi:    0.028333409\n",
      "Iteration #006, error L2 relative psi:    0.014133422\n",
      "Iteration #007, error L2 relative psi:    0.071743233\n",
      "Iteration #008, error L2 relative psi:    0.501374094\n",
      "Iteration #009, error L2 relative psi:    0.739057016\n",
      "Iteration #010, error L2 relative psi:    2.930435782\n",
      "Iteration #011, error L2 relative psi:  103.929002032\n",
      "Iteration #012, error L2 relative psi: 3477.097343227\n",
      "Iteration #013, error L2 relative psi: 14103.735621826\n",
      "Iteration #014, error L2 relative psi: 3771253.696427998\n",
      "Iteration #015, error L2 relative psi: 4969121.939147186\n",
      "Iteration #016, error L2 relative psi: 10218219.389004610\n",
      "Iteration #017, error L2 relative psi: 27674495.118800431\n",
      "Iteration #018, error L2 relative psi: 44301466.914243765\n",
      "Iteration #019, error L2 relative psi: 22131077.686899368\n",
      "Iteration #020, error L2 relative psi: 4985209.075257648\n"
     ]
    },
    {
     "ename": "KeyboardInterrupt",
     "evalue": "",
     "output_type": "error",
     "traceback": [
      "\u001b[0;31m---------------------------------------------------------------------------\u001b[0m",
      "\u001b[0;31mKeyboardInterrupt\u001b[0m                         Traceback (most recent call last)",
      "Cell \u001b[0;32mIn[33], line 7\u001b[0m\n\u001b[1;32m      5\u001b[0m \u001b[39m# Time Loop\u001b[39;00m\n\u001b[1;32m      6\u001b[0m \u001b[39mfor\u001b[39;00m step \u001b[39min\u001b[39;00m \u001b[39mrange\u001b[39m(\u001b[39m1\u001b[39m, ceil(T\u001b[39m/\u001b[39mdt)\u001b[39m+\u001b[39m\u001b[39m1\u001b[39m):\n\u001b[0;32m----> 7\u001b[0m     sol\u001b[39m.\u001b[39mappend( newton(sol[\u001b[39m-\u001b[39;49m\u001b[39m1\u001b[39;49m], step \u001b[39m*\u001b[39;49m dt, debug\u001b[39m=\u001b[39;49m\u001b[39mTrue\u001b[39;49;00m) )\n\u001b[1;32m      8\u001b[0m     export_step(save, sol[\u001b[39m-\u001b[39m\u001b[39m1\u001b[39m], step)\n\u001b[1;32m     10\u001b[0m save\u001b[39m.\u001b[39mwrite_pvd(np\u001b[39m.\u001b[39marray(\u001b[39mrange\u001b[39m(\u001b[39m0\u001b[39m, ceil(T\u001b[39m/\u001b[39mdt)\u001b[39m+\u001b[39m\u001b[39m1\u001b[39m)) \u001b[39m*\u001b[39m dt)\n",
      "Cell \u001b[0;32mIn[30], line 34\u001b[0m, in \u001b[0;36mnewton\u001b[0;34m(sol_n, t_n_1, prev, iters, debug)\u001b[0m\n\u001b[1;32m     31\u001b[0m rhs \u001b[39m=\u001b[39m \u001b[39mNone\u001b[39;00m\n\u001b[1;32m     32\u001b[0m rhs \u001b[39m=\u001b[39m fixed_rhs\u001b[39m.\u001b[39mcopy()\n\u001b[0;32m---> 34\u001b[0m C \u001b[39m=\u001b[39m mixed_matrix(d_inverse_conductivity_coeff_dpsi(proj_psi \u001b[39m@\u001b[39;49m psi, \u001b[39m1\u001b[39;49m), q)\n\u001b[1;32m     35\u001b[0m rhs[:dof_q]    \u001b[39m+\u001b[39m\u001b[39m=\u001b[39m C \u001b[39m@\u001b[39m psi\n\u001b[1;32m     38\u001b[0m \u001b[39m# Theta^{n+1}_k\u001b[39;00m\n",
      "Cell \u001b[0;32mIn[28], line 38\u001b[0m, in \u001b[0;36mmixed_matrix\u001b[0;34m(coeff, q)\u001b[0m\n\u001b[1;32m     34\u001b[0m node \u001b[39m=\u001b[39m cell_face_to_opposite_node[c, :]\n\u001b[1;32m     35\u001b[0m coord_loc \u001b[39m=\u001b[39m node_coords[:, node]\n\u001b[1;32m     37\u001b[0m A \u001b[39m=\u001b[39m pp\u001b[39m.\u001b[39mRT0\u001b[39m.\u001b[39mmassHdiv(\n\u001b[0;32m---> 38\u001b[0m     np\u001b[39m.\u001b[39;49meye(sd\u001b[39m.\u001b[39;49mdim),\n\u001b[1;32m     39\u001b[0m     sd\u001b[39m.\u001b[39mcell_volumes[c],\n\u001b[1;32m     40\u001b[0m     coord_loc,\n\u001b[1;32m     41\u001b[0m     sign[loc],\n\u001b[1;32m     42\u001b[0m     sd\u001b[39m.\u001b[39mdim,\n\u001b[1;32m     43\u001b[0m     HB,\n\u001b[1;32m     44\u001b[0m )\n\u001b[1;32m     46\u001b[0m partial_C \u001b[39m=\u001b[39m A \u001b[39m@\u001b[39m q[faces_loc]\n\u001b[1;32m     48\u001b[0m \u001b[39m# Save values for Hdiv-mass local matrix in the global structure\u001b[39;00m\n",
      "\u001b[0;31mKeyboardInterrupt\u001b[0m: "
     ]
    }
   ],
   "source": [
    "sol = [initial_solution]\n",
    "save = pp.Exporter(mdg, \"sol\", folder_name=output_directory)\n",
    "export_step(save, sol[-1], 0)\n",
    "\n",
    "# Time Loop\n",
    "for step in range(1, ceil(T/dt)+1):\n",
    "    sol.append( newton(sol[-1], step * dt, debug=True) )\n",
    "    export_step(save, sol[-1], step)\n",
    "\n",
    "save.write_pvd(np.array(range(0, ceil(T/dt)+1)) * dt)"
   ]
  }
 ],
 "metadata": {
  "kernelspec": {
   "display_name": ".venv",
   "language": "python",
   "name": "python3"
  },
  "language_info": {
   "codemirror_mode": {
    "name": "ipython",
    "version": 3
   },
   "file_extension": ".py",
   "mimetype": "text/x-python",
   "name": "python",
   "nbconvert_exporter": "python",
   "pygments_lexer": "ipython3",
   "version": "3.10.6"
  },
  "orig_nbformat": 4
 },
 "nbformat": 4,
 "nbformat_minor": 2
}
