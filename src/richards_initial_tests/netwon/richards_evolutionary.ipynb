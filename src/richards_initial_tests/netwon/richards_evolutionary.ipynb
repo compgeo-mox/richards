{
 "cells": [
  {
   "attachments": {},
   "cell_type": "markdown",
   "metadata": {},
   "source": [
    "# Richards equation\n",
    "\n",
    "In this tutorial we present how to solve a Richards equation with [PyGeoN](https://github.com/compgeo-mox/pygeon).  The unkwons are the velocity $q$ and the pressure $p$.\n",
    "\n",
    "Let $\\Omega=(0,2)\\times(0,3)$ with boundary $\\partial \\Omega$ and outward unit normal ${\\nu}$. Given \n",
    "$k$ the matrix permeability, we want to solve the following problem: find $({q}, \\psi)$ such that\n",
    "$$\n",
    "\\left\\{\n",
    "\\begin{array}{ll}\n",
    "\\begin{array}{l} \n",
    "K^{-1}(\\psi) {q} + \\nabla \\psi = -\\nabla z\\\\\n",
    "\\partial_t \\theta (\\psi) + \\nabla \\cdot {q} = 0\n",
    "\\end{array}\n",
    "&\\text{in } \\Omega \\times (0,T)\n",
    "\\end{array}\n",
    "\\right.\n",
    "$$\n",
    "with boundary conditions:\n",
    "\n",
    "$$\n",
    "\\psi(t,x,z)=\n",
    "\\left\\{\n",
    "\\begin{array}{ll}\n",
    "\\begin{array}{l} \n",
    "-2+2.2 \\frac{t}{\\Delta t_D}, \\text{ on } \\Gamma_{D_1}, t\\leq\\Delta t_D\\\\\n",
    "0.2, \\text{ on } \\Gamma_{D_1}, t>\\Delta t_D\\\\\n",
    "1-z, \\text{ on } \\Gamma_{D_2}\n",
    "\\end{array}\n",
    "\\end{array}\n",
    "\\right., \\qquad \\nu \\cdot q = 0 \\text{ on } \\Gamma_N \\qquad \\psi(0,x,z) = 1-z \\text{ on } \\Omega$$\n",
    "and\n",
    "$$\n",
    "\\Gamma_{D_1} = \\left\\{ (x,z) \\in \\partial \\Omega \\:|\\: x \\in [0,1] \\wedge z=3  \\right\\},\\\\\n",
    "\\Gamma_{D_2} = \\left\\{ (x,z) \\in \\partial \\Omega \\:|\\: x = 2 \\wedge z \\in [0,1]  \\right\\},\\\\\n",
    "\\Gamma_{D} = \\Gamma_{D_1} \\cup \\Gamma_{D_2},\\\\\n",
    "\\Gamma_{N} = \\partial \\Omega \\setminus \\Gamma_D\n",
    "$$\n",
    "\n",
    "We present *step-by-step* how to create the grid, declare the problem data, and finally solve the problem."
   ]
  },
  {
   "attachments": {},
   "cell_type": "markdown",
   "metadata": {},
   "source": [
    "### Import and parameters"
   ]
  },
  {
   "cell_type": "code",
   "execution_count": 1,
   "metadata": {},
   "outputs": [],
   "source": [
    "import shutil\n",
    "import os\n",
    "\n",
    "import numpy as np\n",
    "import scipy.sparse as sps\n",
    "import sympy as sp\n",
    "\n",
    "import porepy as pp\n",
    "import pygeon as pg\n",
    "\n",
    "from math import ceil, floor, log10, exp\n",
    "\n",
    "import matplotlib.pyplot as plt"
   ]
  },
  {
   "cell_type": "code",
   "execution_count": 2,
   "metadata": {},
   "outputs": [],
   "source": [
    "K = 50\n",
    "N = 10\n",
    "\n",
    "eps_psi_abs = 1e-5\n",
    "eps_psi_rel = 1e-5\n",
    "\n",
    "domain_tolerance = 1 / (10 * N)\n",
    "beta_q   = 0\n",
    "beta_psi = 0\n",
    "\n",
    "output_directory = 'output_evolutionary'"
   ]
  },
  {
   "cell_type": "code",
   "execution_count": 3,
   "metadata": {},
   "outputs": [],
   "source": [
    "rho = 1000\n",
    "g = pp.GRAVITY_ACCELERATION"
   ]
  },
  {
   "cell_type": "code",
   "execution_count": 4,
   "metadata": {},
   "outputs": [],
   "source": [
    "theta_s = 0.396\n",
    "theta_r = 0.131\n",
    "\n",
    "alpha = 0.423\n",
    "\n",
    "n = 2.06\n",
    "K_s = 4.96e-2"
   ]
  },
  {
   "cell_type": "code",
   "execution_count": 5,
   "metadata": {},
   "outputs": [],
   "source": [
    "dt_D = 1/16\n",
    "dt   = 1/48\n",
    "T    = 3/16"
   ]
  },
  {
   "attachments": {},
   "cell_type": "markdown",
   "metadata": {},
   "source": [
    "### $\\theta$ and $k$, with their derivatives w.r.t. $\\psi$"
   ]
  },
  {
   "cell_type": "code",
   "execution_count": 6,
   "metadata": {},
   "outputs": [],
   "source": [
    "def theta(psi):\n",
    "    res = np.ones_like(psi) * theta_s\n",
    "\n",
    "    mask = psi <= 0\n",
    "    res[mask] = theta_r + (theta_s  - theta_r) * 1 / np.power(1 + np.power(-alpha * psi[mask], n), (n-1)/n)\n",
    "\n",
    "    # print(res[mask])\n",
    "\n",
    "    return res"
   ]
  },
  {
   "cell_type": "code",
   "execution_count": 7,
   "metadata": {},
   "outputs": [],
   "source": [
    "def dtheta_dpsi(psi, order=1):\n",
    "    if order == 0:\n",
    "        return theta(psi)\n",
    "\n",
    "\n",
    "    psi_var = sp.Symbol('psi', negative=True)\n",
    "    diff = sp.diff( theta_r + (theta_s  - theta_r) * (1 / (1+(-alpha * psi_var) ** n)) ** ((n-1)/n) , psi_var, order )\n",
    "    \n",
    "    res = np.zeros_like(psi)\n",
    "\n",
    "    mask = psi <= 0\n",
    "    res[mask] = np.array( list( diff.subs(psi_var, val).evalf() for val in psi[mask] ) )\n",
    "\n",
    "    return res"
   ]
  },
  {
   "cell_type": "code",
   "execution_count": 8,
   "metadata": {},
   "outputs": [],
   "source": [
    "def conductivity_coeff(psi):\n",
    "    coeff = np.ones_like(psi) * K_s\n",
    "\n",
    "    mask = psi <= 0\n",
    "    th = theta(psi[mask])\n",
    "    coeff[mask] = K_s * np.power(th, (1/2)) * np.power( 1 - np.power( 1 - np.power(th , ( n / (n-1) ) ), ((n-1)/n)), 2)\n",
    "\n",
    "    return coeff"
   ]
  },
  {
   "cell_type": "code",
   "execution_count": 9,
   "metadata": {},
   "outputs": [],
   "source": [
    "def dconductivity_coeff_dpsi(psi, order=1):\n",
    "    if order == 0:\n",
    "        return conductivity_coeff(psi)\n",
    "    \n",
    "    coeff = np.zeros_like(psi)\n",
    "\n",
    "    mask = psi <= 0\n",
    "\n",
    "    psi_var = sp.Symbol('psi', negative=True)\n",
    "    exp = theta_r + (theta_s  - theta_r) * (1 / (1+(-alpha * psi_var) ** n)) ** ((n-1)/n)\n",
    "\n",
    "    diff = sp.diff( K_s * (exp ** (1/2)) * ( 1 - ( 1 - ( exp ** ( n / (n-1) ) ) ) ** ((n-1)/n) ) ** 2, psi_var, order)\n",
    "\n",
    "    coeff[mask] = np.array(list(diff.subs(psi_var, val).evalf() for val in psi[mask]))\n",
    "\n",
    "    return coeff"
   ]
  },
  {
   "cell_type": "code",
   "execution_count": 10,
   "metadata": {},
   "outputs": [],
   "source": [
    "def dconductivity_tensor_dpsi(psi, order=1):\n",
    "    return pp.SecondOrderTensor(dconductivity_coeff_dpsi(psi, order))"
   ]
  },
  {
   "cell_type": "code",
   "execution_count": 11,
   "metadata": {},
   "outputs": [],
   "source": [
    "def conductivity_tensor(psi):\n",
    "    return dconductivity_tensor_dpsi(psi, 0)"
   ]
  },
  {
   "cell_type": "code",
   "execution_count": 12,
   "metadata": {},
   "outputs": [],
   "source": [
    "def quick_plot(theta_der = 0, cond_der = 0):\n",
    "    psi_val = np.linspace(-2, 1, 100)\n",
    "    theta_val = dtheta_dpsi(psi_val, theta_der)\n",
    "    kappa_val = 1 / dconductivity_coeff_dpsi(psi_val, cond_der)\n",
    "\n",
    "    theta_max = theta_s\n",
    "    theta_min = theta_r\n",
    "\n",
    "    kappa_max = 1 / dconductivity_coeff_dpsi(np.array([-1e10]), cond_der)\n",
    "    kappa_min = 1 / K_s\n",
    "\n",
    "    _, (ax1, ax2) = plt.subplots(1, 2, figsize=(10, 5))\n",
    "\n",
    "    ax1.plot(psi_val, theta_val)\n",
    "    ax1.plot(psi_val, theta_max * np.ones_like(psi_val), linestyle=\"--\", color=\"red\")\n",
    "    ax1.plot(\n",
    "        psi_val,\n",
    "        theta_min * np.ones_like(psi_val),\n",
    "        linestyle=\"--\",\n",
    "        color=\"green\",\n",
    "    )\n",
    "    ax1.set_title(\"theta\")\n",
    "\n",
    "    ax2.plot(psi_val, kappa_val)\n",
    "    ax2.set_title(\"kappa^(-1)\")\n",
    "\n",
    "    plt.show()"
   ]
  },
  {
   "cell_type": "code",
   "execution_count": 13,
   "metadata": {},
   "outputs": [
    {
     "data": {
      "image/png": "[encoded data removed]",
      "text/plain": [
       "<Figure size 1000x500 with 2 Axes>"
      ]
     },
     "metadata": {},
     "output_type": "display_data"
    }
   ],
   "source": [
    "quick_plot(0, 0)"
   ]
  },
  {
   "attachments": {},
   "cell_type": "markdown",
   "metadata": {},
   "source": [
    "### Domain preparation"
   ]
  },
  {
   "cell_type": "code",
   "execution_count": 14,
   "metadata": {},
   "outputs": [],
   "source": [
    "subdomain = pp.StructuredTriangleGrid([2*N, 3*N], [2,3])\n",
    "# convert the grid into a mixed-dimensional grid\n",
    "mdg = pp.meshing.subdomains_to_mdg([subdomain])"
   ]
  },
  {
   "cell_type": "code",
   "execution_count": 15,
   "metadata": {},
   "outputs": [],
   "source": [
    "key = \"flow\"\n",
    "\n",
    "bc_value = []\n",
    "bc_essential = []\n",
    "initial_pressure = []\n",
    "\n",
    "gravity = []\n",
    "\n",
    "RT0 = pg.RT0(key)\n",
    "P0  = pg.PwConstants(key)"
   ]
  },
  {
   "cell_type": "code",
   "execution_count": 16,
   "metadata": {},
   "outputs": [],
   "source": [
    "def g_func(x): \n",
    "    return np.array([0, -1, -1])"
   ]
  },
  {
   "cell_type": "code",
   "execution_count": 17,
   "metadata": {},
   "outputs": [],
   "source": [
    "def initial_pressure_func(x): \n",
    "    return 1-x[1]"
   ]
  },
  {
   "cell_type": "code",
   "execution_count": 18,
   "metadata": {},
   "outputs": [],
   "source": [
    "for subdomain, data in mdg.subdomains(return_data=True):\n",
    "    g_proj = RT0.interpolate(subdomain, g_func)\n",
    "    gravity.append(RT0.assemble_mass_matrix(subdomain) @ g_proj)\n",
    "    \n",
    "    initial_pressure.append(P0.interpolate(subdomain, initial_pressure_func))\n",
    "        \n",
    "    # with the following steps we identify the portions of the boundary\n",
    "    # to impose the boundary conditions\n",
    "    boundary_faces_indexes = subdomain.get_boundary_faces()\n",
    "\n",
    "    gamma_d1 = np.logical_and(subdomain.face_centers[0, :] > 0-domain_tolerance, np.logical_and(subdomain.face_centers[0, :] < 1+domain_tolerance, subdomain.face_centers[1, :] > 3-domain_tolerance))\n",
    "    gamma_d2 = np.logical_and(subdomain.face_centers[0, :] > 2-domain_tolerance, np.logical_and(subdomain.face_centers[1, :] > 0-domain_tolerance, subdomain.face_centers[1, :] < 1+domain_tolerance))\n",
    "\n",
    "    gamma_d  = np.logical_or(gamma_d1, gamma_d2)\n",
    "    \n",
    "    gamma_n  = gamma_d.copy()\n",
    "    gamma_n[boundary_faces_indexes] = np.logical_not(gamma_n[boundary_faces_indexes])\n",
    "    \n",
    "    def bc_gamma_d(x, t):\n",
    "        if   x[0] > 2-domain_tolerance and x[1] > 0-domain_tolerance and x[1] < 1+domain_tolerance:\n",
    "            res =  1 - x[1]\n",
    "        elif x[1] > 3-domain_tolerance and x[0] > 0-domain_tolerance and x[0] < 1+domain_tolerance:\n",
    "            res = min( 0.2, -2 + 2.2 * t / dt_D )\n",
    "        else:\n",
    "            res = 0\n",
    "\n",
    "        #print(t, x, res)\n",
    "        \n",
    "        return res\n",
    "\n",
    "    bc_value.append(lambda t: - RT0.assemble_nat_bc(subdomain, lambda x: bc_gamma_d(x,t), gamma_d))\n",
    "\n",
    "    essential_pressure_dofs = np.zeros(P0.ndof(subdomain), dtype=bool)\n",
    "    bc_essential.append(np.hstack((gamma_n, essential_pressure_dofs)))"
   ]
  },
  {
   "cell_type": "code",
   "execution_count": 19,
   "metadata": {},
   "outputs": [
    {
     "data": {
      "text/plain": [
       "(20, 80, 100)"
      ]
     },
     "execution_count": 19,
     "metadata": {},
     "output_type": "execute_result"
    }
   ],
   "source": [
    "gamma_d.sum(), gamma_n.sum(), len(subdomain.get_boundary_faces())"
   ]
  },
  {
   "attachments": {},
   "cell_type": "markdown",
   "metadata": {},
   "source": [
    "A quick recap:\n",
    "$$\n",
    "\\left\\{\n",
    "\\begin{array}{ll}\n",
    "\\begin{array}{l} \n",
    "K^{-1}(\\psi) {q} + \\nabla \\psi = -\\nabla z\\\\\n",
    "\\partial_t \\theta (\\psi) + \\nabla \\cdot {q} = 0\n",
    "\\end{array}\n",
    "&\\text{in } \\Omega \\times (0,T)\n",
    "\\end{array}\n",
    "\\right.\n",
    "$$\n",
    "becames, with the time discretization:\n",
    "$$\n",
    "\\left\\{\n",
    "\\begin{array}{ll}\n",
    "\\begin{array}{l} \n",
    "K^{-1}(\\psi) {q^{n+1}} + \\nabla \\psi^{n+1} = -\\nabla z\\\\\n",
    "\\frac{\\theta (\\psi^{n+1}) - \\theta (\\psi^{n})}{\\Delta t} + \\nabla \\cdot {q^{n+1}} = 0\n",
    "\\end{array}\n",
    "&\\text{in } \\Omega \\times (0,T)\n",
    "\\end{array}\n",
    "\\right.\n",
    "$$"
   ]
  },
  {
   "attachments": {},
   "cell_type": "markdown",
   "metadata": {},
   "source": [
    "\n",
    "$$\n",
    "Netwon \\qquad\n",
    "\\left\\{\n",
    "\\begin{array}{ll}\n",
    "\\begin{array}{l} \n",
    "M^{n+1}_k q_{k+1}^{n+1} + [B^T + C(\\psi_k^{n+1}, q_ {k}^{n+1})] \\psi^{n+1}_{k+1} = G^{n+1} + C(\\psi_k^{n+1}, q_ {k}^{n+1}) \\psi_k^{n+1} + BC^{n+1}\\\\\n",
    "\\frac{1}{\\Delta t} D(\\psi_{k}^{n+1}) \\psi_{k+1}^{n+1} -B q_{k+1}^{n+1} = \\frac{\\Theta^n - \\Theta^{n+1}_k}{\\Delta t} + \\frac{1}{\\Delta t} D(\\psi_{k}^{n+1}) \\psi_{k}^{n+1} + F^{n+1}\n",
    "\\end{array}\n",
    "\\end{array}\n",
    "\\right.\n",
    "$$\n",
    "where:\n",
    "$$\n",
    "[C(\\psi_k^{n+1}, q_ {k}^{n+1})]_{ij} = \\int_{\\Omega} \\Psi_j \\frac{\\partial K^{-1}(\\psi_k^{n+1})}{\\partial \\psi} \\, q_k^{n+1} \\cdot \\Phi_i \\, d\\Omega = \\alpha_j \\int_{\\omega_j} \\frac{q_k^{n+1} \\cdot \\Phi_i}{k(\\psi_k^{n+1})} \\, d\\Omega \\qquad [D(\\psi_{k}^{n+1})]_{ij} = \\left( \\frac{\\partial \\theta}{\\partial \\psi}(\\psi_k^{n+1}) \\Psi_j, \\Psi_i \\right)_{L^2(\\Omega)}\n",
    "$$"
   ]
  },
  {
   "cell_type": "code",
   "execution_count": 20,
   "metadata": {},
   "outputs": [],
   "source": [
    "div = -pg.cell_mass(mdg) @ pg.div(mdg)\n",
    "\n",
    "# get the degrees of freedom for each variable\n",
    "dof_p, dof_q = div.shape\n",
    "dof_psi = dof_p"
   ]
  },
  {
   "cell_type": "code",
   "execution_count": 21,
   "metadata": {},
   "outputs": [
    {
     "data": {
      "text/plain": [
       "(1200, 1850)"
      ]
     },
     "execution_count": 21,
     "metadata": {},
     "output_type": "execute_result"
    }
   ],
   "source": [
    "dof_p, dof_q"
   ]
  },
  {
   "cell_type": "code",
   "execution_count": 22,
   "metadata": {},
   "outputs": [],
   "source": [
    "proj_q   = RT0.eval_at_cell_centers(subdomain)\n",
    "proj_psi =  P0.eval_at_cell_centers(subdomain)\n",
    "\n",
    "\n",
    "def export_step(save, current_sol, step) -> None:\n",
    "    q   = current_sol[:dof_q]\n",
    "    psi = current_sol[-dof_psi:]\n",
    "\n",
    "    ins = list()\n",
    "\n",
    "    for sub, _ in mdg.subdomains(return_data=True):\n",
    "        ins.append((sub, \"cell_q\", ( proj_q @ q).reshape((3, -1), order=\"F\")))\n",
    "        ins.append((sub, \"cell_p\", proj_psi @ psi))\n",
    "    \n",
    "    save.write_vtu(ins, time_step=step)"
   ]
  },
  {
   "cell_type": "code",
   "execution_count": 23,
   "metadata": {},
   "outputs": [],
   "source": [
    "def newton(sol_n, t_n_1, prev=None, iters=K, debug=False):\n",
    "    if prev == None:\n",
    "        prev = sol_n.copy()\n",
    "\n",
    "    Mass_q   = RT0.assemble_mass_matrix(subdomain)\n",
    "    Mass_psi = pg.cell_mass(mdg)\n",
    "\n",
    "    # assemble the right-hand side\n",
    "    fixed_rhs = np.zeros(dof_psi + dof_q)\n",
    "\n",
    "    # Theta^n\n",
    "    fixed_rhs[-dof_psi:] += Mass_psi @ (theta(proj_psi @ prev[-dof_psi:]) * subdomain.cell_volumes) / dt\n",
    "\n",
    "    # Natural BCs\n",
    "    fixed_rhs[:dof_q] += np.hstack(list(cond(t_n_1) for cond in bc_value))\n",
    "\n",
    "    # Gravity\n",
    "    fixed_rhs[:dof_q] += np.hstack(gravity)\n",
    "\n",
    "    if debug:\n",
    "        save_debug = pp.Exporter(mdg, \"sol_\" + str(t_n_1), folder_name=output_directory + \"/debug\")\n",
    "        export_step(save_debug, prev, 0)\n",
    "\n",
    "    print('Time ' + str(round(t_n_1, 5)))\n",
    "\n",
    "    for k in range(iters):\n",
    "\n",
    "        rhs = None\n",
    "        rhs = fixed_rhs.copy()\n",
    "\n",
    "        # Theta^{n+1}_k\n",
    "        rhs[-dof_psi:] -= Mass_psi @ (theta(proj_psi @ prev[-dof_psi:]) * subdomain.cell_volumes) / dt\n",
    "\n",
    "        rhs[-dof_psi:] += beta_psi * Mass_psi @ prev[-dof_psi:]\n",
    "        rhs[:dof_q]    += beta_q   * Mass_q   @ prev[:dof_q]\n",
    "\n",
    "        pp.initialize_data(subdomain, data, key, {\n",
    "            \"second_order_tensor\": conductivity_tensor(proj_psi @ prev[-dof_psi:]),\n",
    "        })\n",
    "\n",
    "        # construct the local matrices\n",
    "        M_k_n_1 = None\n",
    "        M_k_n_1 = pg.face_mass(mdg)\n",
    "\n",
    "        \n",
    "        spp = sps.bmat([[M_k_n_1 + beta_q * Mass_q,               div.T], \n",
    "                        [-div,                      beta_psi * Mass_psi]], format=\"csc\")\n",
    "        \n",
    "\n",
    "        \n",
    "        # solve the problem\n",
    "        ls = None\n",
    "        ls = pg.LinearSystem(spp, rhs)\n",
    "        ls.flag_ess_bc(np.hstack(bc_essential), np.zeros(dof_q + dof_psi))\n",
    "    \n",
    "        current = None\n",
    "        current = ls.solve()\n",
    "\n",
    "        if debug:\n",
    "            export_step(save_debug, current, k+1)\n",
    "\n",
    "\n",
    "        abs_err_psi  = np.sqrt(np.sum(np.power(current[-dof_psi:]-prev[-dof_psi:], 2)))\n",
    "        abs_err_prev = np.sqrt(np.sum(np.power(prev[-dof_psi:], 2)))\n",
    "\n",
    "\n",
    "        print('Iteration #' + format(k+1, '0' + str(ceil(log10(iters)) + 1) + 'd') \n",
    "              + ', error L2 relative psi: ' + format(abs_err_psi, str(5 + ceil(log10(1 / eps_psi_abs)) + 4) + '.' + str(ceil(log10(1 / eps_psi_abs)) + 4) + 'f'))\n",
    "\n",
    "        if abs_err_psi < eps_psi_abs + eps_psi_rel * abs_err_prev:\n",
    "            print('')\n",
    "            return current\n",
    "        else:\n",
    "            prev = current\n",
    "    return current"
   ]
  },
  {
   "cell_type": "code",
   "execution_count": 24,
   "metadata": {},
   "outputs": [],
   "source": [
    "if os.path.exists(output_directory):\n",
    "    shutil.rmtree(output_directory)"
   ]
  },
  {
   "cell_type": "code",
   "execution_count": 25,
   "metadata": {},
   "outputs": [],
   "source": [
    "# assemble initial solution\n",
    "initial_solution = np.zeros(dof_q + dof_psi)\n",
    "initial_solution[-dof_psi:] += np.hstack(initial_pressure)"
   ]
  },
  {
   "cell_type": "code",
   "execution_count": 26,
   "metadata": {},
   "outputs": [
    {
     "name": "stdout",
     "output_type": "stream",
     "text": [
      "Time 0.02083\n",
      "Iteration #001, error L2 relative psi:    0.041202171\n",
      "Iteration #002, error L2 relative psi:  194.379623586\n",
      "Iteration #003, error L2 relative psi: 670387.530063608\n",
      "Iteration #004, error L2 relative psi: 670214.238345943\n",
      "Iteration #005, error L2 relative psi: 352471.799220345\n",
      "Iteration #006, error L2 relative psi: 352471.799220345\n",
      "Iteration #007, error L2 relative psi: 352471.799220345\n",
      "Iteration #008, error L2 relative psi: 352471.799220345\n",
      "Iteration #009, error L2 relative psi: 352471.799220345\n",
      "Iteration #010, error L2 relative psi: 352471.799220345\n"
     ]
    },
    {
     "ename": "KeyboardInterrupt",
     "evalue": "",
     "output_type": "error",
     "traceback": [
      "\u001b[0;31m---------------------------------------------------------------------------\u001b[0m",
      "\u001b[0;31mKeyboardInterrupt\u001b[0m                         Traceback (most recent call last)",
      "Cell \u001b[0;32mIn[26], line 7\u001b[0m\n\u001b[1;32m      5\u001b[0m \u001b[39m# Time Loop\u001b[39;00m\n\u001b[1;32m      6\u001b[0m \u001b[39mfor\u001b[39;00m step \u001b[39min\u001b[39;00m \u001b[39mrange\u001b[39m(\u001b[39m1\u001b[39m, ceil(T\u001b[39m/\u001b[39mdt)\u001b[39m+\u001b[39m\u001b[39m1\u001b[39m):\n\u001b[0;32m----> 7\u001b[0m     sol\u001b[39m.\u001b[39mappend( picard(sol[\u001b[39m-\u001b[39;49m\u001b[39m1\u001b[39;49m], step \u001b[39m*\u001b[39;49m dt, debug\u001b[39m=\u001b[39;49m\u001b[39mTrue\u001b[39;49;00m) )\n\u001b[1;32m      8\u001b[0m     export_step(save, sol[\u001b[39m-\u001b[39m\u001b[39m1\u001b[39m], step)\n\u001b[1;32m     10\u001b[0m save\u001b[39m.\u001b[39mwrite_pvd(np\u001b[39m.\u001b[39marray(\u001b[39mrange\u001b[39m(\u001b[39m0\u001b[39m, ceil(T\u001b[39m/\u001b[39mdt)\u001b[39m+\u001b[39m\u001b[39m1\u001b[39m)) \u001b[39m*\u001b[39m dt)\n",
      "Cell \u001b[0;32mIn[23], line 43\u001b[0m, in \u001b[0;36mpicard\u001b[0;34m(sol_n, t_n_1, prev, iters, debug)\u001b[0m\n\u001b[1;32m     41\u001b[0m \u001b[39m# construct the local matrices\u001b[39;00m\n\u001b[1;32m     42\u001b[0m M_k_n_1 \u001b[39m=\u001b[39m \u001b[39mNone\u001b[39;00m\n\u001b[0;32m---> 43\u001b[0m M_k_n_1 \u001b[39m=\u001b[39m pg\u001b[39m.\u001b[39;49mface_mass(mdg)\n\u001b[1;32m     46\u001b[0m spp \u001b[39m=\u001b[39m sps\u001b[39m.\u001b[39mbmat([[M_k_n_1 \u001b[39m+\u001b[39m beta_q \u001b[39m*\u001b[39m Mass_q,               div\u001b[39m.\u001b[39mT], \n\u001b[1;32m     47\u001b[0m                 [\u001b[39m-\u001b[39mdiv,                      beta_psi \u001b[39m*\u001b[39m Mass_psi]], \u001b[39mformat\u001b[39m\u001b[39m=\u001b[39m\u001b[39m\"\u001b[39m\u001b[39mcsc\u001b[39m\u001b[39m\"\u001b[39m)\n\u001b[1;32m     51\u001b[0m \u001b[39m# solve the problem\u001b[39;00m\n",
      "File \u001b[0;32m~/.local/lib/python3.10/site-packages/pygeon/numerics/innerproducts.py:37\u001b[0m, in \u001b[0;36mface_mass\u001b[0;34m(mdg, discr, **kwargs)\u001b[0m\n\u001b[1;32m     25\u001b[0m \u001b[39mdef\u001b[39;00m \u001b[39mface_mass\u001b[39m(mdg, discr\u001b[39m=\u001b[39m\u001b[39mNone\u001b[39;00m, \u001b[39m*\u001b[39m\u001b[39m*\u001b[39mkwargs):\n\u001b[1;32m     26\u001b[0m \u001b[39m    \u001b[39m\u001b[39m\"\"\"\u001b[39;00m\n\u001b[1;32m     27\u001b[0m \u001b[39m    Compute the mass matrix for discretization defined on the faces of a (MD-)grid\u001b[39;00m\n\u001b[1;32m     28\u001b[0m \n\u001b[0;32m   (...)\u001b[0m\n\u001b[1;32m     34\u001b[0m \u001b[39m        sps.csc_matrix, num_faces x num_faces\u001b[39;00m\n\u001b[1;32m     35\u001b[0m \u001b[39m    \"\"\"\u001b[39;00m\n\u001b[0;32m---> 37\u001b[0m     \u001b[39mreturn\u001b[39;00m mass_matrix(mdg, \u001b[39m1\u001b[39;49m, discr, \u001b[39m*\u001b[39;49m\u001b[39m*\u001b[39;49mkwargs)\n",
      "File \u001b[0;32m~/.local/lib/python3.10/site-packages/pygeon/numerics/innerproducts.py:136\u001b[0m, in \u001b[0;36mmass_matrix\u001b[0;34m(mdg, n_minus_k, discr, local_matrix, **kwargs)\u001b[0m\n\u001b[1;32m    121\u001b[0m \u001b[39m\u001b[39m\u001b[39m\"\"\"\u001b[39;00m\n\u001b[1;32m    122\u001b[0m \u001b[39mCompute the mass matrix on a mixed-dimensional grid\u001b[39;00m\n\u001b[1;32m    123\u001b[0m \n\u001b[0;32m   (...)\u001b[0m\n\u001b[1;32m    133\u001b[0m \u001b[39m    sps.csc_matrix, num_dofs x num_dofs\u001b[39;00m\n\u001b[1;32m    134\u001b[0m \u001b[39m\"\"\"\u001b[39;00m\n\u001b[1;32m    135\u001b[0m mdg \u001b[39m=\u001b[39m pg\u001b[39m.\u001b[39mas_mdg(mdg)\n\u001b[0;32m--> 136\u001b[0m bmats \u001b[39m=\u001b[39m mass_matrix_bmats(mdg, n_minus_k, discr, local_matrix, \u001b[39m*\u001b[39;49m\u001b[39m*\u001b[39;49mkwargs)\n\u001b[1;32m    138\u001b[0m \u001b[39mreturn\u001b[39;00m np\u001b[39m.\u001b[39msum([sps\u001b[39m.\u001b[39mbmat(bmat, \u001b[39mformat\u001b[39m\u001b[39m=\u001b[39m\u001b[39m\"\u001b[39m\u001b[39mcsc\u001b[39m\u001b[39m\"\u001b[39m) \u001b[39mfor\u001b[39;00m bmat \u001b[39min\u001b[39;00m bmats])\n",
      "File \u001b[0;32m~/.local/lib/python3.10/site-packages/pygeon/numerics/innerproducts.py:152\u001b[0m, in \u001b[0;36mmass_matrix_bmats\u001b[0;34m(mdg, n_minus_k, discr, local_matrix, **kwargs)\u001b[0m\n\u001b[1;32m    150\u001b[0m \u001b[39m# Local mass matrices\u001b[39;00m\n\u001b[1;32m    151\u001b[0m \u001b[39mfor\u001b[39;00m nn_sd, (sd, d_sd) \u001b[39min\u001b[39;00m \u001b[39menumerate\u001b[39m(mdg\u001b[39m.\u001b[39msubdomains(return_data\u001b[39m=\u001b[39m\u001b[39mTrue\u001b[39;00m)):\n\u001b[0;32m--> 152\u001b[0m     bmat_sd[nn_sd, nn_sd] \u001b[39m=\u001b[39m local_matrix(sd, n_minus_k, discr, d_sd, \u001b[39m*\u001b[39;49m\u001b[39m*\u001b[39;49mkwargs)\n\u001b[1;32m    153\u001b[0m     bmat_mg[nn_sd, nn_sd] \u001b[39m=\u001b[39m sps\u001b[39m.\u001b[39mcsc_matrix(bmat_sd[nn_sd, nn_sd]\u001b[39m.\u001b[39mshape)\n\u001b[1;32m    155\u001b[0m \u001b[39m# Mortar contribution\u001b[39;00m\n",
      "File \u001b[0;32m~/.local/lib/python3.10/site-packages/pygeon/numerics/innerproducts.py:117\u001b[0m, in \u001b[0;36mlocal_matrix\u001b[0;34m(sd, n_minus_k, discr, d_sd, **kwargs)\u001b[0m\n\u001b[1;32m    115\u001b[0m     \u001b[39mreturn\u001b[39;00m _sd_lumped_mass(sd, n_minus_k, discr, d_sd, \u001b[39m*\u001b[39m\u001b[39m*\u001b[39mkwargs)\n\u001b[1;32m    116\u001b[0m \u001b[39melif\u001b[39;00m \u001b[39misinstance\u001b[39m(sd, pp\u001b[39m.\u001b[39mGrid):\n\u001b[0;32m--> 117\u001b[0m     \u001b[39mreturn\u001b[39;00m _sd_mass_matrix(sd, n_minus_k, discr, d_sd, \u001b[39m*\u001b[39;49m\u001b[39m*\u001b[39;49mkwargs)\n",
      "File \u001b[0;32m~/.local/lib/python3.10/site-packages/pygeon/numerics/innerproducts.py:110\u001b[0m, in \u001b[0;36m_sd_mass_matrix\u001b[0;34m(sd, n_minus_k, discr, data, **kwargs)\u001b[0m\n\u001b[1;32m    107\u001b[0m \u001b[39mif\u001b[39;00m discr \u001b[39mis\u001b[39;00m \u001b[39mNone\u001b[39;00m:\n\u001b[1;32m    108\u001b[0m     discr \u001b[39m=\u001b[39m default_discr(sd, n_minus_k, \u001b[39m*\u001b[39m\u001b[39m*\u001b[39mkwargs)\n\u001b[0;32m--> 110\u001b[0m \u001b[39mreturn\u001b[39;00m discr\u001b[39m.\u001b[39;49massemble_mass_matrix(sd, data)\n",
      "File \u001b[0;32m~/.local/lib/python3.10/site-packages/pygeon/discretizations/fem/hdiv.py:75\u001b[0m, in \u001b[0;36mRT0.assemble_mass_matrix\u001b[0;34m(self, sd, data)\u001b[0m\n\u001b[1;32m     63\u001b[0m \u001b[39m\u001b[39m\u001b[39m\"\"\"\u001b[39;00m\n\u001b[1;32m     64\u001b[0m \u001b[39mAssembles the mass matrix\u001b[39;00m\n\u001b[1;32m     65\u001b[0m \n\u001b[0;32m   (...)\u001b[0m\n\u001b[1;32m     71\u001b[0m \u001b[39m    mass_matrix: the mass matrix.\u001b[39;00m\n\u001b[1;32m     72\u001b[0m \u001b[39m\"\"\"\u001b[39;00m\n\u001b[1;32m     74\u001b[0m data \u001b[39m=\u001b[39m \u001b[39mself\u001b[39m\u001b[39m.\u001b[39mcreate_dummy_data(sd, data)\n\u001b[0;32m---> 75\u001b[0m pp\u001b[39m.\u001b[39;49mRT0\u001b[39m.\u001b[39;49mdiscretize(\u001b[39mself\u001b[39;49m, sd, data)\n\u001b[1;32m     76\u001b[0m \u001b[39mreturn\u001b[39;00m data[pp\u001b[39m.\u001b[39mDISCRETIZATION_MATRICES][\u001b[39mself\u001b[39m\u001b[39m.\u001b[39mkeyword][\u001b[39mself\u001b[39m\u001b[39m.\u001b[39mmass_matrix_key]\n",
      "File \u001b[0;32m~/.local/lib/python3.10/site-packages/porepy/numerics/fem/rt0.py:130\u001b[0m, in \u001b[0;36mRT0.discretize\u001b[0;34m(self, sd, data)\u001b[0m\n\u001b[1;32m    127\u001b[0m coord_loc \u001b[39m=\u001b[39m node_coords[:, node]\n\u001b[1;32m    129\u001b[0m \u001b[39m# Compute the H_div-mass local matrix\u001b[39;00m\n\u001b[0;32m--> 130\u001b[0m A \u001b[39m=\u001b[39m RT0\u001b[39m.\u001b[39;49mmassHdiv(\n\u001b[1;32m    131\u001b[0m     inv_matrix(k\u001b[39m.\u001b[39;49mvalues[\u001b[39m0\u001b[39;49m : sd\u001b[39m.\u001b[39;49mdim, \u001b[39m0\u001b[39;49m : sd\u001b[39m.\u001b[39;49mdim, c]),\n\u001b[1;32m    132\u001b[0m     sd\u001b[39m.\u001b[39;49mcell_volumes[c],\n\u001b[1;32m    133\u001b[0m     coord_loc,\n\u001b[1;32m    134\u001b[0m     sign[loc],\n\u001b[1;32m    135\u001b[0m     sd\u001b[39m.\u001b[39;49mdim,\n\u001b[1;32m    136\u001b[0m     HB,\n\u001b[1;32m    137\u001b[0m )\n\u001b[1;32m    139\u001b[0m \u001b[39m# Compute the flux reconstruction matrix\u001b[39;00m\n\u001b[1;32m    140\u001b[0m P \u001b[39m=\u001b[39m RT0\u001b[39m.\u001b[39mfaces_to_cell(\n\u001b[1;32m    141\u001b[0m     c_centers[:, c],\n\u001b[1;32m    142\u001b[0m     coord_loc,\n\u001b[0;32m   (...)\u001b[0m\n\u001b[1;32m    146\u001b[0m     R,\n\u001b[1;32m    147\u001b[0m )\n",
      "File \u001b[0;32m~/.local/lib/python3.10/site-packages/porepy/numerics/fem/rt0.py:210\u001b[0m, in \u001b[0;36mRT0.massHdiv\u001b[0;34m(inv_K, c_volume, coord, sign, dim, HB)\u001b[0m\n\u001b[1;32m    201\u001b[0m inv_K_exp \u001b[39m=\u001b[39m (\n\u001b[1;32m    202\u001b[0m     ind[:, np\u001b[39m.\u001b[39mnewaxis, :, np\u001b[39m.\u001b[39mnewaxis]\n\u001b[1;32m    203\u001b[0m     \u001b[39m*\u001b[39m inv_K[np\u001b[39m.\u001b[39mnewaxis, :, np\u001b[39m.\u001b[39mnewaxis, :]\n\u001b[1;32m    204\u001b[0m     \u001b[39m/\u001b[39m c_volume\n\u001b[1;32m    205\u001b[0m )\n\u001b[1;32m    206\u001b[0m inv_K_exp\u001b[39m.\u001b[39mshape \u001b[39m=\u001b[39m (ind\u001b[39m.\u001b[39mshape[\u001b[39m0\u001b[39m] \u001b[39m*\u001b[39m inv_K\u001b[39m.\u001b[39mshape[\u001b[39m0\u001b[39m], ind\u001b[39m.\u001b[39mshape[\u001b[39m1\u001b[39m] \u001b[39m*\u001b[39m inv_K\u001b[39m.\u001b[39mshape[\u001b[39m1\u001b[39m])\n\u001b[1;32m    208\u001b[0m N \u001b[39m=\u001b[39m coord\u001b[39m.\u001b[39mflatten(\u001b[39m\"\u001b[39m\u001b[39mF\u001b[39m\u001b[39m\"\u001b[39m)\u001b[39m.\u001b[39mreshape((\u001b[39m-\u001b[39m\u001b[39m1\u001b[39m, \u001b[39m1\u001b[39m)) \u001b[39m*\u001b[39m np\u001b[39m.\u001b[39mones(\n\u001b[1;32m    209\u001b[0m     (\u001b[39m1\u001b[39m, dim \u001b[39m+\u001b[39m \u001b[39m1\u001b[39m)\n\u001b[0;32m--> 210\u001b[0m ) \u001b[39m-\u001b[39m np\u001b[39m.\u001b[39;49mconcatenate((dim \u001b[39m+\u001b[39;49m \u001b[39m1\u001b[39;49m) \u001b[39m*\u001b[39;49m [coord])\n\u001b[1;32m    211\u001b[0m C \u001b[39m=\u001b[39m np\u001b[39m.\u001b[39mdiag(sign)\n\u001b[1;32m    213\u001b[0m \u001b[39mreturn\u001b[39;00m np\u001b[39m.\u001b[39mdot(C\u001b[39m.\u001b[39mT, np\u001b[39m.\u001b[39mdot(N\u001b[39m.\u001b[39mT, np\u001b[39m.\u001b[39mdot(HB, np\u001b[39m.\u001b[39mdot(inv_K_exp, np\u001b[39m.\u001b[39mdot(N, C)))))\n",
      "File \u001b[0;32m<__array_function__ internals>:2\u001b[0m, in \u001b[0;36mconcatenate\u001b[0;34m(*args, **kwargs)\u001b[0m\n",
      "\u001b[0;31mKeyboardInterrupt\u001b[0m: "
     ]
    }
   ],
   "source": [
    "sol = [initial_solution]\n",
    "save = pp.Exporter(mdg, \"sol\", folder_name=output_directory)\n",
    "export_step(save, sol[-1], 0)\n",
    "\n",
    "# Time Loop\n",
    "for step in range(1, ceil(T/dt)+1):\n",
    "    sol.append( newton(sol[-1], step * dt, debug=True) )\n",
    "    export_step(save, sol[-1], step)\n",
    "\n",
    "save.write_pvd(np.array(range(0, ceil(T/dt)+1)) * dt)"
   ]
  }
 ],
 "metadata": {
  "kernelspec": {
   "display_name": ".venv",
   "language": "python",
   "name": "python3"
  },
  "language_info": {
   "codemirror_mode": {
    "name": "ipython",
    "version": 3
   },
   "file_extension": ".py",
   "mimetype": "text/x-python",
   "name": "python",
   "nbconvert_exporter": "python",
   "pygments_lexer": "ipython3",
   "version": "3.10.6"
  },
  "orig_nbformat": 4
 },
 "nbformat": 4,
 "nbformat_minor": 2
}
