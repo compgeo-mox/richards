{
 "cells": [
  {
   "attachments": {},
   "cell_type": "markdown",
   "metadata": {},
   "source": [
    "# Darcy equation\n",
    "\n",
    "In this tutorial we present how to solve a Darcy equation with [PyGeoN](https://github.com/compgeo-mox/pygeon).  The unkwons are the velocity $q$ and the pressure $p$.\n",
    "\n",
    "Let $\\Omega=(0,1)^2$ with boundary $\\partial \\Omega$ and outward unit normal ${\\nu}$. Given \n",
    "$k$ the matrix permeability, we want to solve the following problem: find $({q}, p)$ such that\n",
    "$$\n",
    "\\left\\{\n",
    "\\begin{array}{ll}\n",
    "\\begin{array}{l} \n",
    "k^{-1}(\\psi) {q} + \\nabla \\psi = {0}\\\\\n",
    "\\nabla \\cdot {q} = 0\n",
    "\\end{array}\n",
    "&\\text{in } \\Omega\n",
    "\\end{array}\n",
    "\\right.\n",
    "$$\n",
    "with boundary conditions:\n",
    "$$ \\psi = 0 \\text{ on } \\partial_{top} \\Omega \\qquad \\psi = 1 \\text{ on } \\partial_{bottom} \\Omega \\qquad \\nu \\cdot q = 0 \\text{ on } \\partial_{left} \\Omega \\cup \\partial_{right} \\Omega$$\n",
    "and\n",
    "$$\n",
    "k(\\psi) = \\frac{1}{\\rho g}\n",
    "\\begin{bmatrix}\n",
    "\\psi + 1 & 0 & 0 \\\\\n",
    "0 & 1 & 0 \\\\\n",
    "0 & 0 & 1\n",
    "\\end{bmatrix}$$\n",
    "\n",
    "We present *step-by-step* how to create the grid, declare the problem data, and finally solve the problem."
   ]
  },
  {
   "cell_type": "code",
   "execution_count": 1,
   "metadata": {},
   "outputs": [],
   "source": [
    "import shutil\n",
    "import os\n",
    "\n",
    "import numpy as np\n",
    "import scipy.sparse as sps\n",
    "\n",
    "import porepy as pp\n",
    "import pygeon as pg"
   ]
  },
  {
   "cell_type": "code",
   "execution_count": 2,
   "metadata": {},
   "outputs": [],
   "source": [
    "K = 1000\n",
    "eps = 1e-6\n",
    "\n",
    "method = 'newton'"
   ]
  },
  {
   "cell_type": "code",
   "execution_count": 3,
   "metadata": {},
   "outputs": [],
   "source": [
    "N = 10\n",
    "\n",
    "rho = 1000\n",
    "g = pp.GRAVITY_ACCELERATION"
   ]
  },
  {
   "cell_type": "code",
   "execution_count": 4,
   "metadata": {},
   "outputs": [],
   "source": [
    "output_directory = 'output_stationary'"
   ]
  },
  {
   "cell_type": "code",
   "execution_count": 5,
   "metadata": {},
   "outputs": [],
   "source": [
    "subdomain = pp.StructuredTriangleGrid([N] * 2, [1] * 2)\n",
    "# convert the grid into a mixed-dimensional grid\n",
    "mdg = pp.meshing.subdomains_to_mdg([subdomain])"
   ]
  },
  {
   "cell_type": "code",
   "execution_count": 6,
   "metadata": {},
   "outputs": [],
   "source": [
    "key = \"flow\"\n",
    "\n",
    "bc_value = []\n",
    "bc_essential = []\n",
    "\n",
    "gravity = []\n",
    "\n",
    "RT0 = pg.RT0(key)\n",
    "P0  = pg.PwConstants(key)\n",
    "\n",
    "def g_func(x): return np.array([0, -1, -1])\n",
    "\n",
    "for subdomain, data in mdg.subdomains(return_data=True):\n",
    "    g_proj = RT0.interpolate(subdomain, g_func)\n",
    "    gravity.append(RT0.assemble_mass_matrix(subdomain) @ g_proj)\n",
    "\n",
    "    # permeability tensor\n",
    "    perm = pp.SecondOrderTensor(np.ones(subdomain.num_cells))\n",
    "    parameters = {\n",
    "        \"second_order_tensor\": perm,\n",
    "    }\n",
    "    pp.initialize_data(subdomain, data, key, parameters)\n",
    "        \n",
    "    # with the following steps we identify the portions of the boundary\n",
    "    # to impose the boundary conditions\n",
    "    left_right = np.logical_or(subdomain.face_centers[0, :] == 0,  subdomain.face_centers[0, :] == 1)\n",
    "    \n",
    "    bottom = subdomain.face_centers[1, :] == 0\n",
    "    top    = subdomain.face_centers[1, :] == 1\n",
    "    \n",
    "    def psi_bc(x): return 1\n",
    "\n",
    "    bc_value.append(- RT0.assemble_nat_bc(subdomain, psi_bc, bottom))\n",
    "\n",
    "    essential_pressure_dofs = np.zeros(P0.ndof(subdomain), dtype=bool)\n",
    "    bc_essential.append(np.hstack((left_right, essential_pressure_dofs)))"
   ]
  },
  {
   "cell_type": "code",
   "execution_count": 7,
   "metadata": {},
   "outputs": [],
   "source": [
    "div = pg.cell_mass(mdg) @ pg.div(mdg)\n",
    "\n",
    "# get the degrees of freedom for each variable\n",
    "dof_psi, dof_q = div.shape\n",
    "\n",
    "# assemble the right-hand side\n",
    "rhs = np.zeros(dof_psi + dof_q)\n",
    "\n",
    "rhs[:dof_q] += np.hstack(bc_value)\n",
    "rhs[:dof_q] += np.hstack(gravity)"
   ]
  },
  {
   "cell_type": "code",
   "execution_count": 8,
   "metadata": {},
   "outputs": [],
   "source": [
    "def conductivity_tensor(psi):\n",
    "    return pp.SecondOrderTensor(2 * np.ones(subdomain.num_cells) / (rho * g), np.ones(subdomain.num_cells) / (rho * g), np.ones(subdomain.num_cells) / (rho * g)) # (psi + 1) / (rho * g)"
   ]
  },
  {
   "cell_type": "code",
   "execution_count": 9,
   "metadata": {},
   "outputs": [
    {
     "name": "stdout",
     "output_type": "stream",
     "text": [
      "Iteration  0\n",
      "Iteration  1\n"
     ]
    }
   ],
   "source": [
    "x = np.zeros(dof_psi + dof_q)\n",
    "\n",
    "for k in range(K):\n",
    "    print('Iteration ', k)\n",
    "    pp.initialize_data(subdomain, data, key, {\n",
    "        \"second_order_tensor\": conductivity_tensor(x[-dof_psi:]),\n",
    "    })\n",
    "\n",
    "    # construct the local matrices\n",
    "    mass = pg.face_mass(mdg)\n",
    "\n",
    "    # assemble the saddle point problem\n",
    "    spp = sps.bmat([[mass, -div.T], \n",
    "                    [ div,  None]], format=\"csc\")\n",
    "    \n",
    "    # solve the problem\n",
    "    ls = pg.LinearSystem(spp, rhs)\n",
    "    ls.flag_ess_bc(np.hstack(bc_essential), np.zeros(dof_q + dof_psi))\n",
    "    \n",
    "    prev = x\n",
    "    x = ls.solve()\n",
    "\n",
    "    if np.sum(np.power(x-prev, 2)) < eps:\n",
    "        break"
   ]
  },
  {
   "cell_type": "code",
   "execution_count": 10,
   "metadata": {},
   "outputs": [],
   "source": [
    "def export(current_sol) -> None:\n",
    "    save = pp.Exporter(mdg, \"sol\", folder_name=\"output_gravity\")\n",
    "    proj_q = RT0.eval_at_cell_centers(subdomain)\n",
    "    proj_p =  P0.eval_at_cell_centers(subdomain)\n",
    "\n",
    "    q = current_sol[:dof_q]\n",
    "    p = current_sol[-dof_psi:]\n",
    "\n",
    "    for _, data in mdg.subdomains(return_data=True):\n",
    "        data[pp.STATE] = {\"cell_q\": (proj_q @ q).reshape((3, -1), order=\"F\"), \n",
    "                          \"cell_p\": (proj_p @ p)}\n",
    "    \n",
    "    save.write_vtu([\"cell_q\", \"cell_p\"])\n",
    "\n",
    "    return"
   ]
  },
  {
   "cell_type": "code",
   "execution_count": 11,
   "metadata": {},
   "outputs": [],
   "source": [
    "if os.path.exists(output_directory):\n",
    "    shutil.rmtree(output_directory)"
   ]
  },
  {
   "cell_type": "code",
   "execution_count": 12,
   "metadata": {},
   "outputs": [],
   "source": [
    "# post process variables\n",
    "export(x)"
   ]
  }
 ],
 "metadata": {
  "kernelspec": {
   "display_name": ".venv",
   "language": "python",
   "name": "python3"
  },
  "language_info": {
   "codemirror_mode": {
    "name": "ipython",
    "version": 3
   },
   "file_extension": ".py",
   "mimetype": "text/x-python",
   "name": "python",
   "nbconvert_exporter": "python",
   "pygments_lexer": "ipython3",
   "version": "3.10.6"
  },
  "orig_nbformat": 4
 },
 "nbformat": 4,
 "nbformat_minor": 2
}
