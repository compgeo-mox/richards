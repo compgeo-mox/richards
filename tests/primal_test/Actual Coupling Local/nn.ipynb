{
 "cells": [
  {
   "cell_type": "markdown",
   "id": "essential-american",
   "metadata": {},
   "source": [
    "# Darcy equation\n",
    "\n",
    "In this tutorial we present how to solve a Darcy equation with [PyGeoN](https://github.com/compgeo-mox/pygeon) in themoving domain case (the upper boundary will move).  The unkwons are the velocity $u$, the elevation head $h$ and the height of the upper boundary $\\eta$.\n",
    "\n",
    "Let $\\Omega=(0,1)\\times(0,\\eta)$ with boundary $\\partial \\Omega$ and outward unit normal ${\\nu}$. Given \n",
    "$K$ the matrix permeability, we want to solve the following problem: find $(\\bm{u}, h)$ such that\n",
    "$$\n",
    "\\left\\{\n",
    "\\begin{array}{ll}\n",
    "\\begin{array}{l} \n",
    "K^{-1} {\\bm{u}} + \\nabla h = {0}\\\\\n",
    "S_s \\frac{\\partial{h}}{\\partial t} + \\nabla \\cdot {u} = f\n",
    "\\end{array}\n",
    "&\\text{in } \\Omega\n",
    "\\end{array}\n",
    "\\right.\n",
    "$$"
   ]
  },
  {
   "cell_type": "markdown",
   "id": "dadbb451",
   "metadata": {},
   "source": [
    "In order to solve the problem, we will perfom a change of coordinates to a reference domain $\\hat{\\Omega}=(0,1)^2$ through the (linear) trasnformation $R : \\Omega \\rightarrow \\hat{\\Omega}$ (and its inverse function $D : \\hat{\\Omega} \\rightarrow \\Omega$).\n",
    "Recall that $\\hat{\\nabla}R=(\\nabla D)^{-1}$.\n",
    "\n",
    "Let $\\hat{h}$ and $\\hat{\\bm{u}}$ be $h$ and $\\bm{u}$ respectevely in the reference domain and let $\\hat{K}$ be the transformed permeability matrix, defined as $\\hat{K}=det(\\hat{\\nabla}D) (\\hat{\\nabla} D)^{-1} K (\\hat{\\nabla} D)^{-T}$.\n",
    "\n",
    "The equation describing the motion of $\\partial_{top}\\Omega$ is:\n",
    "$$\n",
    "\n",
    "\\phi \\frac{\\partial \\eta}{\\partial t} = \\hat{u_3} + I(t)\n",
    "\n",
    "$$"
   ]
  },
  {
   "cell_type": "markdown",
   "id": "a068fac3",
   "metadata": {},
   "source": [
    "The transformed equations in $\\hat{\\Omega}$ is:\n",
    "$$\n",
    "\\left\\{\n",
    "\\begin{array}{ll}\n",
    "\\begin{array}{l} \n",
    "\\hat{K}({\\eta})^{-1} {\\hat{u}} + \\hat{\\nabla} \\hat{h} = {0}\\\\\n",
    "\\hat{S}_s \\frac{\\partial{\\hat{h}}}{\\partial t} + \\hat{\\nabla} \\cdot {\\hat{\\bm{u}}} = f\n",
    "\\end{array}\n",
    "&\\text{in } \\hat{\\Omega}\n",
    "\\end{array}\n",
    "\\right.\n",
    "$$\n",
    "with boundary conditions:\n",
    "$$ \\hat{h} = \\eta \\text{ on } \\Gamma \\qquad \\hat{h} = \\ell \\text{ on } \\Gamma_D \\qquad \\hat{\\bm{\\nu}} \\cdot \\hat{\\bm{u}} = 0 \\text{ on } \\Gamma_N$$"
   ]
  },
  {
   "cell_type": "markdown",
   "id": "47b01879",
   "metadata": {},
   "source": [
    "The weak formulation will be:\n",
    "$$\n",
    "\\left\\{\n",
    "\\begin{array}{ll}\n",
    "\\begin{array}{l} \n",
    "\\int_{\\Omega}\\hat{K}(\\eta)^{-1} {\\bm{\\hat{u}}} \\cdot \\bm{v} \\, d\\Omega - \\int_{\\Omega} h \\hat{\\nabla} \\cdot {\\hat{\\bm{v}}} \\, d\\Omega = - \\int_{\\Gamma_D} h \\bm{v} \\cdot \\bm{\\nu} \\, d\\Omega - \\int_{\\Gamma} \\eta \\bm{v} \\cdot \\bm{\\nu} \\, d\\Omega\\\\\n",
    "\\int_{\\Omega} \\hat{S}_s \\frac{\\partial{\\hat{h}}}{\\partial t} v \\, d\\Omega + \\int_{\\Omega} \\hat{\\nabla} \\cdot {\\hat{\\bm{u}}} v \\, d\\Omega = \\int_{\\Omega} fv \\, d\\Omega\\\\\n",
    "\\int_{\\Gamma} \\phi \\frac{\\partial \\eta}{\\partial t} v \\, d\\sigma = \\int_{\\Gamma} \\hat{u_3} v \\, d\\sigma + \\int_{\\Gamma} I(t) v \\, d\\sigma\n",
    "\\end{array}\n",
    "\\end{array}\n",
    "\\right.\n",
    "$$"
   ]
  },
  {
   "cell_type": "markdown",
   "id": "dcdc7603",
   "metadata": {},
   "source": [
    "For the time discretization, we will employ a backward Euler scheme:\n",
    "\n",
    "$$\n",
    "\\left\\{\n",
    "\\begin{array}{ll}\n",
    "\\begin{array}{l} \n",
    "\\int_{\\Omega}\\hat{K}(\\eta^{n+1})^{-1} {\\bm{\\hat{u}}^{n+1}} \\cdot \\bm{v} \\, d\\Omega - \\int_{\\Omega} h^{n+1} \\hat{\\nabla} \\cdot {\\hat{\\bm{v}}} \\, d\\Omega = - \\int_{\\Gamma_D} h^{n+1} \\bm{v} \\cdot \\bm{\\nu} \\, d\\Omega - \\int_{\\Gamma} \\eta^{n+1} \\bm{v} \\cdot \\bm{\\nu} \\, d\\Omega\\\\\n",
    "\\int_{\\Omega} \\hat{S}_s^{n+1} \\frac{\\hat{h}^{n+1} - \\hat{h}^{n}}{\\Delta t} v \\, d\\Omega + \\int_{\\Omega} \\hat{\\nabla} \\cdot {\\hat{\\bm{u}}^{n+1}} v \\, d\\Omega = \\int_{\\Omega} f^{n+1}v \\, d\\Omega\\\\\n",
    "\\int_{\\Gamma} \\phi \\eta^{n+1} v \\, d\\sigma = \\Delta t \\int_{\\Gamma} \\hat{\\bm{u}}^{n+1} \\cdot \\bm{\\nu} v \\, d\\sigma + \\int_{\\Gamma} \\phi \\eta^{n} v \\, d\\sigma + \\Delta t \\int_{\\Gamma} I^{n+1} v \\, d\\sigma\n",
    "\\end{array}\n",
    "\\end{array}\n",
    "\\right.\n",
    "$$"
   ]
  },
  {
   "cell_type": "markdown",
   "id": "faf928a5",
   "metadata": {},
   "source": [
    "To deal with the non-linear term, we will employ a simple Picard scheme:\n",
    "\n",
    "$$\n",
    "\\left\\{\n",
    "\\begin{array}{ll}\n",
    "\\begin{array}{l} \n",
    "\\int_{\\Omega}\\hat{K}(\\eta^{n+1}_k)^{-1} {\\bm{\\hat{u}_{k+1}^{n+1}}} \\cdot \\bm{v} \\, d\\Omega - \\int_{\\Omega} h^{n+1}_{k+1} \\hat{\\nabla} \\cdot {\\hat{\\bm{v}}} \\, d\\Omega + \\int_{\\Gamma} \\eta^{n+1}_{k+1} \\bm{v} \\cdot \\bm{\\nu} \\, d\\Omega= - \\int_{\\Gamma_D} h^{n+1} \\bm{v} \\cdot \\bm{\\nu} \\, d\\Omega\\\\\n",
    "\\Delta t \\int_{\\Omega} \\hat{\\nabla} \\cdot {\\hat{\\bm{u}}^{n+1}_{k+1}} v \\, d\\Omega + \\int_{\\Omega} \\hat{S}_s \\hat{h}^{n+1}_{k+1} v \\, d\\Omega = \\int_{\\Omega} \\hat{S}_s \\hat{h}^{n} v \\, d\\Omega + \\Delta t \\int_{\\Omega} f^{n+1}v \\, d\\Omega\\\\\n",
    "- \\Delta t \\int_{\\Gamma} \\hat{\\bm{u}}^{n+1}_{k+1} \\cdot \\bm{\\nu} v \\, d\\sigma + \\int_{\\Gamma} \\phi \\eta^{n+1}_{k+1} v \\, d\\sigma = \\int_{\\Gamma} \\phi \\eta^{n} v \\, d\\sigma + \\Delta t \\int_{\\Gamma} I^{n+1} v \\, d\\sigma\n",
    "\\end{array}\n",
    "\\end{array}\n",
    "\\right.\n",
    "$$"
   ]
  },
  {
   "cell_type": "markdown",
   "id": "615fb33d",
   "metadata": {},
   "source": [
    "The matrix formulation will be:\n",
    "\n",
    "$$\n",
    "\\left\\{\n",
    "\\begin{array}{ll}\n",
    "\\begin{array}{l} \n",
    "M_u(\\bm{\\eta}^{n+1}_{k}) \\bm{u}^{n+1}_{k+1} + B^T\\bm{h}^{n+1}_{k+1} + B_{\\Gamma}^T \\bm{\\eta}^{n+1}_{k+1}= \\bm{BC}^{n+1}\\\\\n",
    "- \\Delta t B \\hat{\\bm{u}}^{n+1}_{k+1} + S_s M_{h} \\bm{\\hat{h}^{n+1}_{k+1}} = \\Delta t \\bm{F}^{n+1} + S_s M_{h} \\bm{\\hat{h}^{n}}\\\\\n",
    "- \\Delta t B_{\\Gamma} \\hat{\\bm{u}}^{n+1}_{k+1} + \\phi M_{\\Gamma} \\bm{\\eta^{n+1}_{k+1}} = \\phi M_{\\Gamma} \\bm{\\eta^{n}} + \\Delta t \\bm{I}^{n+1}\n",
    "\\end{array}\n",
    "\\end{array}\n",
    "\\right.\n",
    "$$"
   ]
  },
  {
   "cell_type": "markdown",
   "id": "49e31d3b",
   "metadata": {},
   "source": [
    "$$\n",
    "\\left(\n",
    "\\begin{array}{cc} \n",
    "M_u(\\bm{\\eta^{n+1}_k}) & B^T & B_{\\Gamma}^T\\\\\n",
    "-\\Delta t B & S_s M_h & 0\\\\\n",
    "-\\Delta t B_{\\Gamma} & 0 & \\phi M_{\\Gamma}\n",
    "\\end{array}\n",
    "\\right)\n",
    "\\left(\n",
    "\\begin{array}{c} \n",
    "\\bm{u^{n+1}_{k+1}}\\\\ \n",
    "\\bm{h^{n+1}_{k+1}}\\\\\n",
    "\\bm{\\eta^{n+1}_{k+1}}\n",
    "\\end{array}\n",
    "\\right)\n",
    "=\\left(\n",
    "\\begin{array}{c} \n",
    "\\bm{BC}^{n+1}\\\\ \n",
    "\\Delta t \\bm{F}^{n+1} + S_s M_h \\bm{h}^n\\\\\n",
    "\\phi M_{\\Gamma} \\bm{\\eta}^n + \\Delta t \\bm{I}^{n+1}\n",
    "\\end{array}\n",
    "\\right)\n",
    "$$"
   ]
  },
  {
   "cell_type": "markdown",
   "id": "60777fa8",
   "metadata": {},
   "source": [
    "We will start to test the method in the case $M_u(\\bm{h_k}^{n+1})=\\bm{I}$"
   ]
  },
  {
   "cell_type": "code",
   "execution_count": 1,
   "id": "fa691294",
   "metadata": {},
   "outputs": [],
   "source": [
    "%load_ext Cython"
   ]
  },
  {
   "cell_type": "code",
   "execution_count": 2,
   "id": "dietary-perth",
   "metadata": {},
   "outputs": [
    {
     "name": "stderr",
     "output_type": "stream",
     "text": [
      "/opt/conda/lib/python3.11/site-packages/porepy/numerics/nonlinear/nonlinear_solvers.py:13: TqdmExperimentalWarning: Using `tqdm.autonotebook.tqdm` in notebook mode. Use `tqdm.tqdm` instead to force console mode (e.g. in jupyter console)\n",
      "  from tqdm.autonotebook import trange  # type: ignore\n"
     ]
    }
   ],
   "source": [
    "import numpy as np\n",
    "import scipy.sparse as sps\n",
    "from math import ceil, floor, log10, exp, isnan\n",
    "import os, shutil\n",
    "\n",
    "import time\n",
    "import sympy as sp\n",
    "\n",
    "import porepy as pp\n",
    "import pygeon as pg\n",
    "import scipy.integrate as integrate\n",
    "\n",
    "import matplotlib.pyplot as plt\n",
    "from matplotlib.colors import LinearSegmentedColormap\n",
    "\n",
    "import scipy as sc"
   ]
  },
  {
   "cell_type": "code",
   "execution_count": 3,
   "id": "1e1342bf",
   "metadata": {},
   "outputs": [],
   "source": [
    "output_directory = str(ceil(time.time())) + '_' + 'hard_coupling'"
   ]
  },
  {
   "cell_type": "markdown",
   "id": "roman-glossary",
   "metadata": {},
   "source": [
    "### Parameters"
   ]
  },
  {
   "cell_type": "code",
   "execution_count": 4,
   "id": "c4f22221",
   "metadata": {},
   "outputs": [],
   "source": [
    "# Real domain dimensions\n",
    "A = 3 # Height\n",
    "B = 2 # Domain\n",
    "\n",
    "# Set the number of steps (excluding the initial condition)\n",
    "num_steps = 9\n",
    "\n",
    "# Simulation time length\n",
    "T = 9/48\n",
    "\n",
    "# Time switch conditions (for the boundary condition)\n",
    "dt_D = 3/48"
   ]
  },
  {
   "cell_type": "code",
   "execution_count": 5,
   "id": "5c265b4f",
   "metadata": {},
   "outputs": [],
   "source": [
    "# Van Genuchten model parameters ( relative permeability model )\n",
    "theta_s = 0.396\n",
    "theta_r = 0.131\n",
    "\n",
    "alpha = 0.423\n",
    "\n",
    "n = 2.06\n",
    "K_s = 4.96e-2\n",
    "\n",
    "m = 1 - 1/n\n",
    "\n",
    "phi = (theta_s - theta_r)\n",
    "\n",
    "def initial_h_func(x): return 1"
   ]
  },
  {
   "cell_type": "code",
   "execution_count": 6,
   "id": "b63bbfd4",
   "metadata": {},
   "outputs": [],
   "source": [
    "# Set the maximum number of iterations of the non-linear solver\n",
    "max_iterations_per_step = 1000\n",
    "\n",
    "# L-scheme parameter\n",
    "L   = 3.5e-2\n",
    "\n",
    "# Relative and absolute tolerances for the non-linear solver\n",
    "abs_tol = 1e-10\n",
    "rel_tol = 1e-5\n",
    "\n",
    "numeric_tol = 1e-10"
   ]
  },
  {
   "cell_type": "code",
   "execution_count": 7,
   "id": "5c3b3221",
   "metadata": {},
   "outputs": [],
   "source": [
    "dt = (T-0) / num_steps\n",
    "N = 10 # 16\n",
    "quad_order = 1\n",
    "\n",
    "# Domain tolerance\n",
    "domain_tolerance = 1 / (10 * N)"
   ]
  },
  {
   "cell_type": "code",
   "execution_count": 8,
   "id": "15fabe6b",
   "metadata": {},
   "outputs": [],
   "source": [
    "verbose = False"
   ]
  },
  {
   "cell_type": "markdown",
   "id": "621e7ae2",
   "metadata": {},
   "source": [
    "### $\\theta$ and $K$"
   ]
  },
  {
   "cell_type": "code",
   "execution_count": 9,
   "id": "8a00d256",
   "metadata": {},
   "outputs": [],
   "source": [
    "# Symbolic psi\n",
    "psi_var = sp.Symbol('psi', negative=True)\n",
    "\n",
    "# Symbolic Theta\n",
    "theta_expression = theta_r + (theta_s - theta_r) / (1 + (-alpha * psi_var) ** n) ** m\n",
    "effective_saturation = (theta_expression - theta_r) / (theta_s - theta_r)\n",
    "\n",
    "# Symbolic Conductivity K\n",
    "hydraulic_conductivity_expression = K_s * (effective_saturation ** 0.5) * ( 1 - (1 - effective_saturation ** (1 / m)) ** m ) ** 2\n",
    "\n",
    "actual_theta_expression = sp.Piecewise(\n",
    "    (theta_expression, psi_var < 0),\n",
    "    (theta_s, True)\n",
    ")"
   ]
  },
  {
   "cell_type": "code",
   "execution_count": 10,
   "id": "3fca8138",
   "metadata": {},
   "outputs": [],
   "source": [
    "# Theta lambda\n",
    "theta = sp.lambdify(psi_var, actual_theta_expression, 'numpy')\n",
    "\n",
    "# Conductivity tensor lambda\n",
    "conductivity = sp.lambdify(psi_var, sp.Piecewise(\n",
    "    (hydraulic_conductivity_expression, psi_var < 0),\n",
    "    (K_s, True)\n",
    "), 'numpy')\n",
    "\n",
    "dtheta_lambda = sp.lambdify( psi_var, sp.diff(actual_theta_expression, psi_var), 'numpy' )"
   ]
  },
  {
   "cell_type": "code",
   "execution_count": 11,
   "metadata": {},
   "outputs": [],
   "source": [
    "def dtheta(psi):\n",
    "    res = np.zeros_like(psi, dtype=float)\n",
    "    mask = np.where(psi < 0)\n",
    "    res[mask] = dtheta_lambda(psi[mask])\n",
    "\n",
    "    return res"
   ]
  },
  {
   "cell_type": "markdown",
   "id": "97631457",
   "metadata": {},
   "source": [
    "### Grid and $V_h$"
   ]
  },
  {
   "cell_type": "code",
   "execution_count": 12,
   "id": "spectacular-saturn",
   "metadata": {},
   "outputs": [],
   "source": [
    "# convert the grid into a mixed-dimensional grid\n",
    "darcy_grid = pp.StructuredTriangleGrid([N * ceil(B), N * round(1)], [B, 1])\n",
    "darcy_grid.compute_geometry()\n",
    "pg.convert_from_pp(darcy_grid)"
   ]
  },
  {
   "cell_type": "code",
   "execution_count": 13,
   "id": "7a0eddf8",
   "metadata": {},
   "outputs": [],
   "source": [
    "# convert the grid into a mixed-dimensional grid\n",
    "richards_grid = pp.StructuredTriangleGrid([N * ceil(B), N * round(A-1)], [B, 1])\n",
    "richards_grid.compute_geometry()\n",
    "pg.convert_from_pp(richards_grid)"
   ]
  },
  {
   "cell_type": "code",
   "execution_count": 14,
   "id": "ffa231fe",
   "metadata": {},
   "outputs": [],
   "source": [
    "boundary_grid, boundary_face_map, boundary_node_map = pp.partition.extract_subgrid(darcy_grid, darcy_grid.face_centers[1, :] == 1, faces=True)"
   ]
  },
  {
   "cell_type": "code",
   "execution_count": 15,
   "id": "0024b7c0",
   "metadata": {},
   "outputs": [],
   "source": [
    "key = \"flow\"\n",
    "\n",
    "darcy_data = {}"
   ]
  },
  {
   "cell_type": "code",
   "execution_count": 16,
   "id": "88c12db7",
   "metadata": {},
   "outputs": [],
   "source": [
    "darcy_field    = pg.Lagrange1(key)\n",
    "richards_field = pg.Lagrange1(key)\n",
    "\n",
    "gamma_field    = pg.Lagrange1(key)"
   ]
  },
  {
   "cell_type": "code",
   "execution_count": 17,
   "id": "feb51c9b",
   "metadata": {},
   "outputs": [],
   "source": [
    "fixed_rhs = np.zeros( darcy_grid.num_nodes + richards_grid.num_nodes - boundary_grid.num_nodes )"
   ]
  },
  {
   "cell_type": "code",
   "execution_count": 18,
   "id": "42d1d12c",
   "metadata": {},
   "outputs": [],
   "source": [
    "darcy_dof    =    darcy_field.ndof( darcy_grid )\n",
    "richards_dof = richards_field.ndof( richards_grid )\n",
    "\n",
    "boundary_dof = gamma_field.ndof( boundary_grid )"
   ]
  },
  {
   "cell_type": "code",
   "execution_count": 19,
   "id": "d837ac21",
   "metadata": {},
   "outputs": [],
   "source": [
    "darcy_data = {}\n",
    "richards_data = {}"
   ]
  },
  {
   "cell_type": "markdown",
   "id": "9d33b2a2",
   "metadata": {},
   "source": [
    "### BC"
   ]
  },
  {
   "cell_type": "markdown",
   "metadata": {},
   "source": [
    "##### Restrictor matrices"
   ]
  },
  {
   "cell_type": "code",
   "execution_count": 20,
   "metadata": {},
   "outputs": [],
   "source": [
    "darcy_remove_boundary = np.zeros(shape=(darcy_dof - boundary_dof, darcy_dof))\n",
    "darcy_remove_boundary[ np.arange(darcy_dof - boundary_dof), darcy_grid.nodes[1, :] < 1 ] = 1\n",
    "darcy_remove_boundary = sps.csr_matrix(darcy_remove_boundary)"
   ]
  },
  {
   "cell_type": "code",
   "execution_count": 21,
   "metadata": {},
   "outputs": [],
   "source": [
    "richards_remove_boundary = np.zeros(shape=(richards_dof - boundary_dof, richards_dof))\n",
    "richards_remove_boundary[ np.arange(richards_dof - boundary_dof), richards_grid.nodes[1, :] > 0 ] = 1\n",
    "richards_remove_boundary = sps.csr_matrix(richards_remove_boundary)"
   ]
  },
  {
   "cell_type": "markdown",
   "id": "c0bbe30c",
   "metadata": {},
   "source": [
    "##### Dirichlet (essential)"
   ]
  },
  {
   "cell_type": "code",
   "execution_count": 22,
   "metadata": {},
   "outputs": [],
   "source": [
    "darcy_dirichlet_flag  = np.array(darcy_remove_boundary @ (darcy_grid.nodes[0, :] == B), dtype=bool)\n",
    "darcy_dirichlet_value = np.array(darcy_dirichlet_flag, dtype=float)"
   ]
  },
  {
   "cell_type": "code",
   "execution_count": 23,
   "id": "c3d2a644",
   "metadata": {},
   "outputs": [],
   "source": [
    "richards_dirichlet_flag  = np.array(richards_remove_boundary @ np.logical_and(richards_grid.nodes[1, :] == 1, richards_grid.nodes[0, :] < 1 ), dtype=bool)\n",
    "richards_dirichlet_value = lambda t: np.array(richards_dirichlet_flag, dtype=float) * min(6.2, 1 + 5.2 * t / dt_D)"
   ]
  },
  {
   "cell_type": "code",
   "execution_count": 24,
   "id": "1a59184d",
   "metadata": {},
   "outputs": [],
   "source": [
    "dirichlet_flag  = lambda t: np.hstack((darcy_dirichlet_flag, np.zeros(shape=boundary_dof, dtype=bool), richards_dirichlet_flag))\n",
    "dirichlet_value = lambda t: np.hstack((darcy_dirichlet_value, np.zeros(shape=boundary_dof), richards_dirichlet_value(t)))"
   ]
  },
  {
   "cell_type": "markdown",
   "id": "07a096f7",
   "metadata": {},
   "source": [
    "##### Neumann (natural)"
   ]
  },
  {
   "cell_type": "code",
   "execution_count": 25,
   "id": "07ef0bbe",
   "metadata": {},
   "outputs": [],
   "source": [
    "# Full no-flow condition for the Neumann part.... nothing to add"
   ]
  },
  {
   "cell_type": "markdown",
   "metadata": {},
   "source": [
    "### Mappings"
   ]
  },
  {
   "cell_type": "code",
   "execution_count": 26,
   "metadata": {},
   "outputs": [],
   "source": [
    "eta_var = sp.Symbol('eta', negative=False)\n",
    "x3_var  = sp.Symbol('x3',  negative=False)"
   ]
  },
  {
   "cell_type": "code",
   "execution_count": 27,
   "metadata": {},
   "outputs": [],
   "source": [
    "darcy_chi_expr = x3_var*(eta_var + (2*eta_var - A) * x3_var * (1 - x3_var))\n",
    "richards_chi_expr = eta_var + (A-eta_var) * (x3_var - 1)\n",
    "\n",
    "chi_expr = sp.Piecewise( (darcy_chi_expr, x3_var < 1), (richards_chi_expr, True) )"
   ]
  },
  {
   "cell_type": "code",
   "execution_count": 28,
   "metadata": {},
   "outputs": [],
   "source": [
    "darcy_chi    = sp.lambdify( [eta_var, x3_var],    darcy_chi_expr.simplify(), 'numpy' )\n",
    "richards_chi = sp.lambdify( [eta_var, x3_var], richards_chi_expr.simplify(), 'numpy' )\n",
    "\n",
    "general_chi = sp.lambdify([eta_var, x3_var], chi_expr.simplify(), 'numpy')"
   ]
  },
  {
   "cell_type": "code",
   "execution_count": 29,
   "metadata": {},
   "outputs": [],
   "source": [
    "def darcy_real_height(eta_dofs, heights):\n",
    "    return darcy_chi(eta_dofs, heights)"
   ]
  },
  {
   "cell_type": "code",
   "execution_count": 30,
   "metadata": {},
   "outputs": [],
   "source": [
    "def richards_real_height(eta_dofs, heights):\n",
    "    return richards_chi(eta_dofs, heights)"
   ]
  },
  {
   "cell_type": "code",
   "execution_count": 31,
   "metadata": {},
   "outputs": [
    {
     "data": {
      "image/png": "[encoded data removed]",
      "text/plain": [
       "<Figure size 640x480 with 1 Axes>"
      ]
     },
     "metadata": {},
     "output_type": "display_data"
    }
   ],
   "source": [
    "fig = plt.figure()\n",
    "ax = fig.subplots()\n",
    "\n",
    "ax.plot(np.arange(0, 2, 0.1), general_chi(0.75, np.arange(0, 2, 0.1)))\n",
    "ax.grid()\n",
    "\n",
    "fig.show()"
   ]
  },
  {
   "cell_type": "markdown",
   "metadata": {},
   "source": [
    "##### Derivatives"
   ]
  },
  {
   "cell_type": "code",
   "execution_count": 32,
   "metadata": {},
   "outputs": [],
   "source": [
    "darcy_chi_x3  = sp.lambdify( [eta_var, x3_var], sp.diff(darcy_chi_expr,  x3_var).simplify(), 'numpy' )\n",
    "darcy_chi_eta = sp.lambdify( [eta_var, x3_var], sp.diff(darcy_chi_expr, eta_var).simplify(), 'numpy' )"
   ]
  },
  {
   "cell_type": "code",
   "execution_count": 33,
   "metadata": {},
   "outputs": [],
   "source": [
    "richards_chi_x3  = sp.lambdify( [eta_var, x3_var], sp.diff(richards_chi_expr,  x3_var).simplify(), 'numpy' )\n",
    "richards_chi_eta = sp.lambdify( [eta_var, x3_var], sp.diff(richards_chi_expr, eta_var).simplify(), 'numpy' )"
   ]
  },
  {
   "cell_type": "markdown",
   "id": "c3b55b3f",
   "metadata": {},
   "source": [
    "### Matrix Assembly"
   ]
  },
  {
   "cell_type": "markdown",
   "id": "ab84c0f5",
   "metadata": {},
   "source": [
    "##### Masks"
   ]
  },
  {
   "cell_type": "code",
   "execution_count": 34,
   "id": "960db499",
   "metadata": {},
   "outputs": [],
   "source": [
    "darcy_mask = np.zeros(shape=(darcy_dof + richards_dof - boundary_dof), dtype=bool)\n",
    "darcy_mask[ : (darcy_dof) ] = True"
   ]
  },
  {
   "cell_type": "code",
   "execution_count": 35,
   "metadata": {},
   "outputs": [],
   "source": [
    "darcy_internal_mask = np.zeros_like(darcy_mask, dtype=bool)\n",
    "darcy_internal_mask[ : (darcy_dof - boundary_dof) ] = True"
   ]
  },
  {
   "cell_type": "code",
   "execution_count": 36,
   "metadata": {},
   "outputs": [],
   "source": [
    "richards_mask = np.zeros_like(darcy_mask, dtype=bool)\n",
    "richards_mask[(darcy_dof-boundary_dof):] = True"
   ]
  },
  {
   "cell_type": "code",
   "execution_count": 37,
   "metadata": {},
   "outputs": [],
   "source": [
    "richards_internal_mask = np.zeros_like(darcy_mask, dtype=bool)\n",
    "richards_internal_mask[ darcy_dof : ] = True"
   ]
  },
  {
   "cell_type": "code",
   "execution_count": 38,
   "metadata": {},
   "outputs": [],
   "source": [
    "boundary_mask = np.zeros_like(darcy_mask, dtype=bool)\n",
    "boundary_mask[(darcy_dof - boundary_dof):(darcy_dof)] = True"
   ]
  },
  {
   "cell_type": "markdown",
   "id": "cb8cc76c",
   "metadata": {},
   "source": [
    "##### Finite difference matrices"
   ]
  },
  {
   "cell_type": "code",
   "execution_count": 39,
   "id": "ecea12f2",
   "metadata": {},
   "outputs": [],
   "source": [
    "eta_diff = gamma_field.assemble_diff_matrix( boundary_grid )\n",
    "eta_diff[0,0] = -1\n",
    "eta_diff *= (N)"
   ]
  },
  {
   "cell_type": "markdown",
   "id": "6a3d3988",
   "metadata": {},
   "source": [
    "#### Stifness"
   ]
  },
  {
   "cell_type": "code",
   "execution_count": 40,
   "id": "2bac2e8c",
   "metadata": {},
   "outputs": [],
   "source": [
    "%%cython\n",
    "import numpy as np\n",
    "\n",
    "def find_ordering(coord: np.array):\n",
    "    lx = np.argmin(coord[0, :])\n",
    "    rx = np.argmax(coord[0, :])\n",
    "    mx = np.setdiff1d(np.array([0,1,2]), np.array([lx, rx]))[0]\n",
    "\n",
    "    # Vertical Alignment\n",
    "    if np.abs( coord[0, lx] - coord[0, mx] ) < 1e-7:\n",
    "        # lx and mx vertical aligned, rx no\n",
    "        up =   lx if np.argmax(coord[1, np.array([lx, mx])]) == 0 else mx\n",
    "        down = lx if np.argmin(coord[1, np.array([lx, mx])]) == 0 else mx\n",
    "\n",
    "        if np.abs( coord[1, up] - coord[1, rx] ) < 1e-7:\n",
    "            return [up, down, rx]\n",
    "        else:\n",
    "            return [down, rx, up]\n",
    "    else:\n",
    "        # rx and mx vertical aligned, lx no\n",
    "        up =   rx if np.argmax(coord[1, np.array([rx, mx])]) == 0 else mx\n",
    "        down = rx if np.argmin(coord[1, np.array([rx, mx])]) == 0 else mx\n",
    "\n",
    "        if np.abs( coord[1, up] - coord[1, lx] ) < 1e-7:\n",
    "            return [up, lx, down]\n",
    "        else:\n",
    "            return [down, up, lx]"
   ]
  },
  {
   "cell_type": "code",
   "execution_count": 41,
   "metadata": {},
   "outputs": [],
   "source": [
    "def compute_eta_x3(base_height: float, element_height: float, m, ls_eta, rs_eta, x, y):\n",
    "    coord = lambda t: ((m+1) * (1-t) - (m-1) * t) / 2\n",
    "\n",
    "    return (1-coord(y)) * ls_eta + coord(y) * rs_eta, base_height + coord(x) * element_height"
   ]
  },
  {
   "cell_type": "code",
   "execution_count": 42,
   "metadata": {},
   "outputs": [],
   "source": [
    "def darcy_chi_x3_eta_gen( base_height: float, element_height: float, m, ls_eta, rs_eta, x, y ):\n",
    "    eta, x3 = compute_eta_x3(base_height, element_height, m, ls_eta, rs_eta, x, y)\n",
    "\n",
    "    return darcy_chi_x3(eta, x3), darcy_chi_eta(eta, x3)"
   ]
  },
  {
   "cell_type": "code",
   "execution_count": 43,
   "id": "f4d79750",
   "metadata": {},
   "outputs": [],
   "source": [
    "def Darcy_K_func(base_height: float, base_width: float, element_height: float, element_width: float, m: int, ls_eta: float, rs_eta: float, grad_eta: float, x, y):\n",
    "    chi_x3, chi_eta = darcy_chi_x3_eta_gen(base_height, element_height, m, ls_eta, rs_eta, x, y)\n",
    "\n",
    "    return np.array([[             chi_x3,                            -chi_eta * grad_eta],\n",
    "                     [-chi_eta * grad_eta, (1 + np.power(chi_eta * grad_eta, 2)) / chi_x3]]) * K_s #[:, :, 0]\n",
    "\n",
    "    # This is the full version:\n",
    "    #return np.array([[                  chi_x3 * k11,                                                    k12 - chi_eta * grad_eta * k11],\n",
    "    #                 [k21 - chi_eta * grad_eta * k11, ( k22 + chi_eta * grad_eta * ( chi_eta * grad_eta * k11 - k12 - k21 ) ) / chi_x3 ]])"
   ]
  },
  {
   "cell_type": "code",
   "execution_count": 44,
   "metadata": {},
   "outputs": [],
   "source": [
    "def richards_chi_x3_eta_gen( base_height: float, element_height: float, m, ls_eta, rs_eta, x, y ):\n",
    "    eta, x3 = compute_eta_x3(base_height, element_height, m, ls_eta, rs_eta, x, y)\n",
    "\n",
    "    return richards_chi_x3(eta, x3), richards_chi_eta(eta, x3)"
   ]
  },
  {
   "cell_type": "code",
   "execution_count": 45,
   "id": "ede2423c",
   "metadata": {},
   "outputs": [],
   "source": [
    "def Richards_K_func(base_height: float, base_width: float, element_height: float, element_width: float, m: int, ls_eta: float, rs_eta: float, grad_eta: float, A: float, psi, x, y):\n",
    "    chi_x3, chi_eta = richards_chi_x3_eta_gen(base_height, element_height, m, ls_eta, rs_eta, x, y)\n",
    "\n",
    "    return np.array([[             chi_x3,                            -chi_eta * grad_eta],\n",
    "                     [-chi_eta * grad_eta, (1 + np.power(chi_eta * grad_eta, 2)) / chi_x3]]) * conductivity(psi)\n",
    "\n",
    "    # This is the full version:\n",
    "    #return np.array([[                  chi_x3 * k11,                                                    k12 - chi_eta * grad_eta * k11],\n",
    "    #                 [k21 - chi_eta * grad_eta * k11, ( k22 + chi_eta * grad_eta * ( chi_eta * grad_eta * k11 - k12 - k21 ) ) / chi_x3 ]])"
   ]
  },
  {
   "cell_type": "code",
   "execution_count": 46,
   "metadata": {},
   "outputs": [],
   "source": [
    "def richards_local_A(coord, ls_eta, rs_eta, grad_eta, m, psi):\n",
    "    ordering = find_ordering(coord)\n",
    "\n",
    "    x0 = coord[:, ordering][:, 0]\n",
    "    x1 = coord[:, ordering][:, 1]\n",
    "    x2 = coord[:, ordering][:, 2]\n",
    "    \n",
    "    J_T_1_T = np.array([[x2[1]-x0[1], x0[1]-x1[1]],\n",
    "                        [x0[0]-x2[0], x1[0]-x0[0]]]) / ((x1[0]-x0[0]) * (x2[1]-x0[1]) - (x2[0]-x0[0]) * (x1[1]-x0[1]))\n",
    "    \n",
    "\n",
    "    q_funcs = [J_T_1_T @ np.array([-1, -1]), J_T_1_T @ np.array([ 1, 0]), J_T_1_T @ np.array([0,  1])]\n",
    "\n",
    "    M = np.zeros(shape=(3,3))\n",
    "\n",
    "    jacobian = 1 / np.linalg.det( J_T_1_T.T )\n",
    "    ordered_psi = psi[ordering]\n",
    "\n",
    "    psi_fun = lambda x,y: ordered_psi[0] + (ordered_psi[1] - ordered_psi[0]) * x + (ordered_psi[2] - ordered_psi[0]) * y\n",
    "        \n",
    "    base_height = np.min(coord[1, :]) + 1\n",
    "    base_width  = np.min(coord[0, :])\n",
    "    \n",
    "    element_height = np.max(coord[1, :]) - np.min(coord[1, :])\n",
    "    element_width  = np.max(coord[0, :]) - np.min(coord[0, :])\n",
    "\n",
    "    K_local = lambda x,y: Richards_K_func(base_height, base_width,\n",
    "        element_height, element_width,\n",
    "        m,\n",
    "        ls_eta, rs_eta, grad_eta, A, psi_fun(x, y), x, y)\n",
    "\n",
    "    for i in range(3):\n",
    "        for j in range(3):\n",
    "            integrand = lambda ys,x: np.array([q_funcs[j].T @ K_local(x, y) @ q_funcs[i] for y in np.array(ys)])\n",
    "            inside = lambda xs, n: np.array([integrate.fixed_quad(integrand, 0, 1-x, args=(x,), n=n)[0] for x in np.array(xs)])\n",
    "            M[ ordering[i], ordering[j] ] = jacobian * integrate.fixed_quad(inside, 0, 1, n=quad_order, args=(quad_order,))[0]\n",
    "\n",
    "    return M"
   ]
  },
  {
   "cell_type": "code",
   "execution_count": 47,
   "metadata": {},
   "outputs": [],
   "source": [
    "def darcy_local_A(coord, ls_eta, rs_eta, grad_eta, m):\n",
    "    ordering = find_ordering(coord)\n",
    "\n",
    "    x0 = coord[:, ordering][:, 0]\n",
    "    x1 = coord[:, ordering][:, 1]\n",
    "    x2 = coord[:, ordering][:, 2]\n",
    "    \n",
    "    J_T_1_T = np.array([[x2[1]-x0[1], x0[1]-x1[1]],\n",
    "                        [x0[0]-x2[0], x1[0]-x0[0]]]) / ((x1[0]-x0[0]) * (x2[1]-x0[1]) - (x2[0]-x0[0]) * (x1[1]-x0[1]))\n",
    "    \n",
    "\n",
    "    q_funcs = [J_T_1_T @ np.array([-1, -1]), J_T_1_T @ np.array([ 1, 0]), J_T_1_T @ np.array([0,  1])]\n",
    "\n",
    "    M = np.zeros(shape=(3,3))\n",
    "\n",
    "    jacobian = 1 / np.linalg.det( J_T_1_T.T )\n",
    "        \n",
    "    base_height = np.min(coord[1, :])\n",
    "    base_width  = np.min(coord[0, :])\n",
    "    \n",
    "    element_height = np.max(coord[1, :]) - np.min(coord[1, :])\n",
    "    element_width  = np.max(coord[0, :]) - np.min(coord[0, :])\n",
    "    \n",
    "    K_local = lambda x,y: Darcy_K_func(base_height, base_width,\n",
    "        element_height, element_width,\n",
    "        m,\n",
    "        ls_eta, rs_eta, grad_eta, x, y)\n",
    "\n",
    "    for i in range(3):\n",
    "        for j in range(3):\n",
    "            integrand = lambda ys,x: np.array([q_funcs[j].T @ K_local(x, y) @ q_funcs[i] for y in np.array(ys)])\n",
    "            inside = lambda xs, n: np.array([integrate.fixed_quad(integrand, 0, 1-x, args=(x,), n=n)[0] for x in np.array(xs)])\n",
    "            M[ ordering[i], ordering[j] ] = jacobian * integrate.fixed_quad(inside, 0, 1, n=quad_order, args=(quad_order,))[0]\n",
    "\n",
    "    return M"
   ]
  },
  {
   "cell_type": "code",
   "execution_count": 48,
   "metadata": {},
   "outputs": [],
   "source": [
    "def darcy_stifness(eta_dofs):\n",
    "    grad_eta = eta_diff @ eta_dofs\n",
    "    \n",
    "    size = np.power(darcy_grid.dim + 1, 2) * darcy_grid.num_cells\n",
    "    rows_I = np.empty(size, dtype=int)\n",
    "    cols_J = np.empty(size, dtype=int)\n",
    "    data_IJ = np.empty(size)\n",
    "    idx = 0\n",
    "\n",
    "    _, _, _, _, _, node_coords = pp.map_geometry.map_grid(darcy_grid)\n",
    "    _, _, sign = sps.find(darcy_grid.cell_faces)\n",
    "\n",
    "    # Allocate the data to store matrix entries, that's the most efficient\n",
    "    # way to create a sparse matrix.\n",
    "\n",
    "    cell_nodes = darcy_grid.cell_nodes()\n",
    "\n",
    "    for c in np.arange(darcy_grid.num_cells):\n",
    "        # For the current cell retrieve its nodes\n",
    "        loc = slice(cell_nodes.indptr[c], cell_nodes.indptr[c + 1])\n",
    "\n",
    "        nodes_loc = cell_nodes.indices[loc]\n",
    "        coord_loc = node_coords[:, nodes_loc]\n",
    "\n",
    "        eta_cell = np.max(np.where( boundary_grid.nodes[0, :] < darcy_grid.cell_centers[0, c] ))\n",
    "\n",
    "        # Compute the stiff-H1 local matrix\n",
    "        A = darcy_local_A(coord_loc, eta_dofs[eta_cell], eta_dofs[eta_cell+1], grad_eta[eta_cell], np.prod(sign[loc]))\n",
    "        \n",
    "        # Save values for stiff-H1 local matrix in the global structure\n",
    "        cols = np.tile(nodes_loc, (nodes_loc.size, 1))\n",
    "\n",
    "        loc_idx = slice(idx, idx + cols.size)\n",
    "        rows_I[loc_idx] = cols.T.ravel()\n",
    "        cols_J[loc_idx] = cols.ravel()\n",
    "        data_IJ[loc_idx] = A.ravel()\n",
    "        idx += cols.size\n",
    "\n",
    "    # Construct the global matrices\n",
    "    return sps.csc_matrix((data_IJ, (rows_I, cols_J)))"
   ]
  },
  {
   "cell_type": "code",
   "execution_count": 49,
   "metadata": {},
   "outputs": [],
   "source": [
    "def richards_stifness(h_dofs, eta_dofs):\n",
    "    grad_eta = eta_diff @ eta_dofs\n",
    "    \n",
    "    size = np.power(richards_grid.dim + 1, 2) * richards_grid.num_cells\n",
    "    rows_I = np.empty(size, dtype=int)\n",
    "    cols_J = np.empty(size, dtype=int)\n",
    "    data_IJ = np.empty(size)\n",
    "    idx = 0\n",
    "\n",
    "    _, _, _, _, _, node_coords = pp.map_geometry.map_grid(richards_grid)\n",
    "    _, _, sign = sps.find(richards_grid.cell_faces)\n",
    "\n",
    "    # Allocate the data to store matrix entries, that's the most efficient\n",
    "    # way to create a sparse matrix.\n",
    "\n",
    "    cell_nodes = richards_grid.cell_nodes()\n",
    "\n",
    "    psi = h_dofs - richards_real_height( np.tile(eta_dofs, ceil(len(h_dofs) / len(eta_dofs))), richards_grid.nodes[1, :]+1)\n",
    "\n",
    "    for c in np.arange(richards_grid.num_cells):\n",
    "        # For the current cell retrieve its nodes\n",
    "        loc = slice(cell_nodes.indptr[c], cell_nodes.indptr[c + 1])\n",
    "\n",
    "        nodes_loc = cell_nodes.indices[loc]\n",
    "        coord_loc = node_coords[:, nodes_loc]\n",
    "\n",
    "        eta_cell = np.max(np.where( boundary_grid.nodes[0, :] < richards_grid.cell_centers[0, c] ))\n",
    "\n",
    "        # Compute the stiff-H1 local matrix\n",
    "        A = richards_local_A(coord_loc, eta_dofs[eta_cell], eta_dofs[eta_cell+1], grad_eta[eta_cell], np.prod(sign[loc]), psi[nodes_loc])\n",
    "        \n",
    "        # Save values for stiff-H1 local matrix in the global structure\n",
    "        cols = np.tile(nodes_loc, (nodes_loc.size, 1))\n",
    "\n",
    "        loc_idx = slice(idx, idx + cols.size)\n",
    "        rows_I[loc_idx] = cols.T.ravel()\n",
    "        cols_J[loc_idx] = cols.ravel()\n",
    "        data_IJ[loc_idx] = A.ravel()\n",
    "        idx += cols.size\n",
    "\n",
    "    # Construct the global matrices\n",
    "    return sps.csc_matrix((data_IJ, (rows_I, cols_J)))"
   ]
  },
  {
   "cell_type": "markdown",
   "id": "e1e28782",
   "metadata": {},
   "source": [
    "#### Mass matrices"
   ]
  },
  {
   "cell_type": "code",
   "execution_count": 50,
   "metadata": {},
   "outputs": [],
   "source": [
    "def local_mass(coord, chi_x3_func_gen, ls_eta, rs_eta, m):\n",
    "    ordering = find_ordering(coord)\n",
    "\n",
    "    x0 = coord[:, ordering][:, 0]\n",
    "    x1 = coord[:, ordering][:, 1]\n",
    "    x2 = coord[:, ordering][:, 2]\n",
    "\n",
    "    qs = [(lambda x,y: 1-x-y), (lambda x,y: x), (lambda x,y: y)]\n",
    "    \n",
    "    J = np.array([[x1[0]-x0[0], x2[0]-x0[0]],\n",
    "                  [x1[1]-x0[1], x2[1]-x0[1]]])\n",
    "    \n",
    "    jacobian = np.linalg.det(J)\n",
    "    M = np.zeros(shape=(3,3))\n",
    "\n",
    "    base_height = np.min(coord[1, :])\n",
    "    element_height = np.max(coord[1, :]) - base_height\n",
    "\n",
    "    chi_x3 = lambda x,y: chi_x3_func_gen(base_height, element_height, m, ls_eta, rs_eta, x, y)[0]\n",
    "\n",
    "    for i in range(3):\n",
    "        for j in range(3):\n",
    "            integrand = lambda ys,x: np.array([qs[j](x,y) * qs[i](x,y) * chi_x3(x, y) for y in np.array(ys)])\n",
    "            inside = lambda xs, n: np.array([integrate.fixed_quad(integrand, 0, 1-x, args=(x,), n=n)[0] for x in np.array(xs)])\n",
    "            tmp = integrate.fixed_quad(inside, 0, 1, n=3, args=(3,))[0]\n",
    "\n",
    "            M[ ordering[i], ordering[j] ] = tmp * jacobian\n",
    "\n",
    "    return M"
   ]
  },
  {
   "cell_type": "code",
   "execution_count": 51,
   "metadata": {},
   "outputs": [
    {
     "data": {
      "text/plain": [
       "array([[0.11666667, 0.04166667, 0.05833333],\n",
       "       [0.04166667, 0.06666667, 0.04166667],\n",
       "       [0.05833333, 0.04166667, 0.11666667]])"
      ]
     },
     "execution_count": 51,
     "metadata": {},
     "output_type": "execute_result"
    }
   ],
   "source": [
    "local_mass(np.array([[0, 1, 0], [0, 0, 1]]), darcy_chi_x3_eta_gen, 1, 1, 1)"
   ]
  },
  {
   "cell_type": "code",
   "execution_count": 52,
   "metadata": {},
   "outputs": [
    {
     "data": {
      "text/plain": [
       "array([[0.16666667, 0.08333333, 0.08333333],\n",
       "       [0.08333333, 0.16666667, 0.08333333],\n",
       "       [0.08333333, 0.08333333, 0.16666667]])"
      ]
     },
     "execution_count": 52,
     "metadata": {},
     "output_type": "execute_result"
    }
   ],
   "source": [
    "local_mass(np.array([[0, 1, 0], [1, 1, 2]]), richards_chi_x3_eta_gen, 1, 1, 1)"
   ]
  },
  {
   "cell_type": "code",
   "execution_count": 53,
   "metadata": {},
   "outputs": [],
   "source": [
    "def darcy_mass(eta_dofs):\n",
    "    size = np.power(darcy_grid.dim + 1, 2) * darcy_grid.num_cells\n",
    "    rows_I = np.empty(size, dtype=int)\n",
    "    cols_J = np.empty(size, dtype=int)\n",
    "    data_IJ = np.empty(size)\n",
    "    idx = 0\n",
    "\n",
    "    _, _, _, _, _, node_coords = pp.map_geometry.map_grid(darcy_grid)\n",
    "\n",
    "    # Allocate the data to store matrix entries, that's the most efficient\n",
    "    # way to create a sparse matrix.\n",
    "\n",
    "    cell_nodes = darcy_grid.cell_nodes()\n",
    "    _, _, sign = sps.find(darcy_grid.cell_faces)\n",
    "        \n",
    "    for c in np.arange(darcy_grid.num_cells):\n",
    "        # For the current cell retrieve its nodes\n",
    "        loc = slice(cell_nodes.indptr[c], cell_nodes.indptr[c + 1])\n",
    "\n",
    "        nodes_loc = cell_nodes.indices[loc]\n",
    "        coord_loc = node_coords[:, nodes_loc]\n",
    "\n",
    "        # Compute the stiff-H1 local matrix\n",
    "            \n",
    "        eta_cell = np.max(np.where( boundary_grid.nodes[0, :] < darcy_grid.cell_centers[0, c] ))\n",
    "\n",
    "        A = local_mass(coord_loc, darcy_chi_x3_eta_gen, eta_dofs[eta_cell], eta_dofs[eta_cell+1], np.prod(sign[loc]))\n",
    "\n",
    "        # Save values for stiff-H1 local matrix in the global structure\n",
    "        cols = np.tile(nodes_loc, (nodes_loc.size, 1))\n",
    "\n",
    "        loc_idx = slice(idx, idx + cols.size)\n",
    "        rows_I[loc_idx] = cols.T.ravel()\n",
    "        cols_J[loc_idx] = cols.ravel()\n",
    "        data_IJ[loc_idx] = A.ravel()\n",
    "        idx += cols.size\n",
    "\n",
    "    # Construct the global matrices\n",
    "    return sps.csc_matrix((data_IJ, (rows_I, cols_J)))"
   ]
  },
  {
   "cell_type": "code",
   "execution_count": 54,
   "metadata": {},
   "outputs": [],
   "source": [
    "def richards_mass(eta_dofs):\n",
    "    size = np.power(richards_grid.dim + 1, 2) * richards_grid.num_cells\n",
    "    rows_I = np.empty(size, dtype=int)\n",
    "    cols_J = np.empty(size, dtype=int)\n",
    "    data_IJ = np.empty(size)\n",
    "    idx = 0\n",
    "\n",
    "    _, _, _, _, _, node_coords = pp.map_geometry.map_grid(richards_grid)\n",
    "\n",
    "    # Allocate the data to store matrix entries, that's the most efficient\n",
    "    # way to create a sparse matrix.\n",
    "\n",
    "    cell_nodes = richards_grid.cell_nodes()\n",
    "    _, _, sign = sps.find(richards_grid.cell_faces)\n",
    "        \n",
    "    for c in np.arange(richards_grid.num_cells):\n",
    "        # For the current cell retrieve its nodes\n",
    "        loc = slice(cell_nodes.indptr[c], cell_nodes.indptr[c + 1])\n",
    "\n",
    "        nodes_loc = cell_nodes.indices[loc]\n",
    "        coord_loc = node_coords[:, nodes_loc]\n",
    "\n",
    "        # Compute the stiff-H1 local matrix\n",
    "            \n",
    "        eta_cell = np.max(np.where( boundary_grid.nodes[0, :] < richards_grid.cell_centers[0, c] ))\n",
    "        coord_loc[1, :] += 1\n",
    "\n",
    "        A = local_mass(coord_loc, richards_chi_x3_eta_gen, eta_dofs[eta_cell], eta_dofs[eta_cell+1], np.prod(sign[loc]))\n",
    "\n",
    "        # Save values for stiff-H1 local matrix in the global structure\n",
    "        cols = np.tile(nodes_loc, (nodes_loc.size, 1))\n",
    "\n",
    "        loc_idx = slice(idx, idx + cols.size)\n",
    "        rows_I[loc_idx] = cols.T.ravel()\n",
    "        cols_J[loc_idx] = cols.ravel()\n",
    "        data_IJ[loc_idx] = A.ravel()\n",
    "        idx += cols.size\n",
    "\n",
    "    # Construct the global matrices\n",
    "    return sps.csc_matrix((data_IJ, (rows_I, cols_J)))"
   ]
  },
  {
   "cell_type": "markdown",
   "id": "74de9fa7",
   "metadata": {},
   "source": [
    "#### Projection matrices"
   ]
  },
  {
   "cell_type": "code",
   "execution_count": 55,
   "id": "ab4a16cb",
   "metadata": {},
   "outputs": [],
   "source": [
    "darcy_proj    =    darcy_field.eval_at_cell_centers( darcy_grid )\n",
    "richards_proj = richards_field.eval_at_cell_centers( richards_grid )"
   ]
  },
  {
   "cell_type": "markdown",
   "metadata": {},
   "source": [
    "#### Restrictor matrices"
   ]
  },
  {
   "cell_type": "code",
   "execution_count": 56,
   "metadata": {},
   "outputs": [],
   "source": [
    "darcy_restrict_to_boundary = np.zeros(shape=(boundary_dof, darcy_dof))\n",
    "darcy_restrict_to_boundary[np.arange(boundary_dof), darcy_grid.nodes[1, :] == 1] = 1"
   ]
  },
  {
   "cell_type": "code",
   "execution_count": 57,
   "metadata": {},
   "outputs": [],
   "source": [
    "richards_restrict_to_boundary = np.zeros(shape=(boundary_dof, richards_dof))\n",
    "richards_restrict_to_boundary[np.arange(boundary_dof), richards_grid.nodes[1, :] == 0] = 1"
   ]
  },
  {
   "cell_type": "markdown",
   "id": "04d2bceb",
   "metadata": {},
   "source": [
    "### Solve System"
   ]
  },
  {
   "cell_type": "code",
   "execution_count": 58,
   "id": "abb485ad",
   "metadata": {},
   "outputs": [],
   "source": [
    "if os.path.exists(output_directory):\n",
    "    shutil.rmtree(output_directory)"
   ]
  },
  {
   "cell_type": "code",
   "execution_count": 59,
   "id": "c91b0b90",
   "metadata": {},
   "outputs": [],
   "source": [
    "# Fixed rhs\n",
    "fixed_rhs = np.zeros(darcy_dof + richards_dof - boundary_dof)"
   ]
  },
  {
   "cell_type": "code",
   "execution_count": 60,
   "id": "d75b1f02",
   "metadata": {},
   "outputs": [],
   "source": [
    "# Initial conditions\n",
    "sol = [np.zeros_like(fixed_rhs)]\n",
    "sol[-1][darcy_mask] = darcy_field.interpolate( darcy_grid, initial_h_func )\n",
    "sol[-1][richards_mask] = richards_field.interpolate( richards_grid, initial_h_func )"
   ]
  },
  {
   "cell_type": "code",
   "execution_count": 61,
   "id": "2f2c117b",
   "metadata": {},
   "outputs": [],
   "source": [
    "def save_step(sol, savers, i):\n",
    "\n",
    "    for saver, proj, mask, grid, heights in zip(savers, [darcy_proj, richards_proj], [darcy_mask, richards_mask], [darcy_grid, richards_grid], [darcy_real_height(np.tile(sol[boundary_mask], ceil(darcy_grid.num_nodes / boundary_grid.num_nodes)), darcy_grid.nodes[1,:]), \n",
    "                                                                                                                                                richards_real_height(np.tile(sol[boundary_mask], ceil(richards_grid.num_nodes / boundary_grid.num_nodes)), 1+richards_grid.nodes[1, :])]):\n",
    "        ins = list()\n",
    "\n",
    "        ins.append((grid, \"cell_h\", proj @ sol[mask]))\n",
    "        ins.append((grid, \"cell_p\", proj @ (sol[mask] - heights)))\n",
    "\n",
    "        saver.write_vtu(ins, time_step=i)"
   ]
  },
  {
   "cell_type": "code",
   "execution_count": 62,
   "metadata": {},
   "outputs": [],
   "source": [
    "# Save the initial solution\n",
    "savers = [pp.Exporter(darcy_grid, 'sol_D', folder_name=output_directory), \n",
    "          pp.Exporter(richards_grid, 'sol_R', folder_name=output_directory)]\n",
    "save_step(sol[-1], savers, 0)"
   ]
  },
  {
   "cell_type": "code",
   "execution_count": 63,
   "metadata": {},
   "outputs": [],
   "source": [
    "csv_base = os.path.join(output_directory, 'csv')\n",
    "os.mkdir( csv_base )"
   ]
  },
  {
   "cell_type": "code",
   "execution_count": 64,
   "metadata": {},
   "outputs": [],
   "source": [
    "cm_data = [\n",
    "    [0.2422, 0.1504, 0.6603],\n",
    "    [0.2444, 0.1534, 0.6728],\n",
    "    [0.2464, 0.1569, 0.6847],\n",
    "    [0.2484, 0.1607, 0.6961],\n",
    "    [0.2503, 0.1648, 0.7071],\n",
    "    [0.2522, 0.1689, 0.7179],\n",
    "    [0.2540, 0.1732, 0.7286],\n",
    "    [0.2558, 0.1773, 0.7393],\n",
    "    [0.2576, 0.1814, 0.7501],\n",
    "    [0.2594, 0.1854, 0.7610],\n",
    "    [0.2611, 0.1893, 0.7719],\n",
    "    [0.2628, 0.1932, 0.7828],\n",
    "    [0.2645, 0.1972, 0.7937],\n",
    "    [0.2661, 0.2011, 0.8043],\n",
    "    [0.2676, 0.2052, 0.8148],\n",
    "    [0.2691, 0.2094, 0.8249],\n",
    "    [0.2704, 0.2138, 0.8346],\n",
    "    [0.2717, 0.2184, 0.8439],\n",
    "    [0.2729, 0.2231, 0.8528],\n",
    "    [0.2740, 0.2280, 0.8612],\n",
    "    [0.2749, 0.2330, 0.8692],\n",
    "    [0.2758, 0.2382, 0.8767],\n",
    "    [0.2766, 0.2435, 0.8840],\n",
    "    [0.2774, 0.2489, 0.8908],\n",
    "    [0.2781, 0.2543, 0.8973],\n",
    "    [0.2788, 0.2598, 0.9035],\n",
    "    [0.2794, 0.2653, 0.9094],\n",
    "    [0.2798, 0.2708, 0.9150],\n",
    "    [0.2802, 0.2764, 0.9204],\n",
    "    [0.2806, 0.2819, 0.9255],\n",
    "    [0.2809, 0.2875, 0.9305],\n",
    "    [0.2811, 0.2930, 0.9352],\n",
    "    [0.2813, 0.2985, 0.9397],\n",
    "    [0.2814, 0.3040, 0.9441],\n",
    "    [0.2814, 0.3095, 0.9483],\n",
    "    [0.2813, 0.3150, 0.9524],\n",
    "    [0.2811, 0.3204, 0.9563],\n",
    "    [0.2809, 0.3259, 0.9600],\n",
    "    [0.2807, 0.3313, 0.9636],\n",
    "    [0.2803, 0.3367, 0.9670],\n",
    "    [0.2798, 0.3421, 0.9702],\n",
    "    [0.2791, 0.3475, 0.9733],\n",
    "    [0.2784, 0.3529, 0.9763],\n",
    "    [0.2776, 0.3583, 0.9791],\n",
    "    [0.2766, 0.3638, 0.9817],\n",
    "    [0.2754, 0.3693, 0.9840],\n",
    "    [0.2741, 0.3748, 0.9862],\n",
    "    [0.2726, 0.3804, 0.9881],\n",
    "    [0.2710, 0.3860, 0.9898],\n",
    "    [0.2691, 0.3916, 0.9912],\n",
    "    [0.2670, 0.3973, 0.9924],\n",
    "    [0.2647, 0.4030, 0.9935],\n",
    "    [0.2621, 0.4088, 0.9946],\n",
    "    [0.2591, 0.4145, 0.9955],\n",
    "    [0.2556, 0.4203, 0.9965],\n",
    "    [0.2517, 0.4261, 0.9974],\n",
    "    [0.2473, 0.4319, 0.9983],\n",
    "    [0.2424, 0.4378, 0.9991],\n",
    "    [0.2369, 0.4437, 0.9996],\n",
    "    [0.2311, 0.4497, 0.9995],\n",
    "    [0.2250, 0.4559, 0.9985],\n",
    "    [0.2189, 0.4620, 0.9968],\n",
    "    [0.2128, 0.4682, 0.9948],\n",
    "    [0.2066, 0.4743, 0.9926],\n",
    "    [0.2006, 0.4803, 0.9906],\n",
    "    [0.1950, 0.4861, 0.9887],\n",
    "    [0.1903, 0.4919, 0.9867],\n",
    "    [0.1869, 0.4975, 0.9844],\n",
    "    [0.1847, 0.5030, 0.9819],\n",
    "    [0.1831, 0.5084, 0.9793],\n",
    "    [0.1818, 0.5138, 0.9766],\n",
    "    [0.1806, 0.5191, 0.9738],\n",
    "    [0.1795, 0.5244, 0.9709],\n",
    "    [0.1785, 0.5296, 0.9677],\n",
    "    [0.1778, 0.5349, 0.9641],\n",
    "    [0.1773, 0.5401, 0.9602],\n",
    "    [0.1768, 0.5452, 0.9560],\n",
    "    [0.1764, 0.5504, 0.9516],\n",
    "    [0.1755, 0.5554, 0.9473],\n",
    "    [0.1740, 0.5605, 0.9432],\n",
    "    [0.1716, 0.5655, 0.9393],\n",
    "    [0.1686, 0.5705, 0.9357],\n",
    "    [0.1649, 0.5755, 0.9323],\n",
    "    [0.1610, 0.5805, 0.9289],\n",
    "    [0.1573, 0.5854, 0.9254],\n",
    "    [0.1540, 0.5902, 0.9218],\n",
    "    [0.1513, 0.5950, 0.9182],\n",
    "    [0.1492, 0.5997, 0.9147],\n",
    "    [0.1475, 0.6043, 0.9113],\n",
    "    [0.1461, 0.6089, 0.9080],\n",
    "    [0.1446, 0.6135, 0.9050],\n",
    "    [0.1429, 0.6180, 0.9022],\n",
    "    [0.1408, 0.6226, 0.8998],\n",
    "    [0.1383, 0.6272, 0.8975],\n",
    "    [0.1354, 0.6317, 0.8953],\n",
    "    [0.1321, 0.6363, 0.8932],\n",
    "    [0.1288, 0.6408, 0.8910],\n",
    "    [0.1253, 0.6453, 0.8887],\n",
    "    [0.1219, 0.6497, 0.8862],\n",
    "    [0.1185, 0.6541, 0.8834],\n",
    "    [0.1152, 0.6584, 0.8804],\n",
    "    [0.1119, 0.6627, 0.8770],\n",
    "    [0.1085, 0.6669, 0.8734],\n",
    "    [0.1048, 0.6710, 0.8695],\n",
    "    [0.1009, 0.6750, 0.8653],\n",
    "    [0.0964, 0.6789, 0.8609],\n",
    "    [0.0914, 0.6828, 0.8562],\n",
    "    [0.0855, 0.6865, 0.8513],\n",
    "    [0.0789, 0.6902, 0.8462],\n",
    "    [0.0713, 0.6938, 0.8409],\n",
    "    [0.0628, 0.6972, 0.8355],\n",
    "    [0.0535, 0.7006, 0.8299],\n",
    "    [0.0433, 0.7039, 0.8242],\n",
    "    [0.0328, 0.7071, 0.8183],\n",
    "    [0.0234, 0.7103, 0.8124],\n",
    "    [0.0155, 0.7133, 0.8064],\n",
    "    [0.0091, 0.7163, 0.8003],\n",
    "    [0.0046, 0.7192, 0.7941],\n",
    "    [0.0019, 0.7220, 0.7878],\n",
    "    [0.0009, 0.7248, 0.7815],\n",
    "    [0.0018, 0.7275, 0.7752],\n",
    "    [0.0046, 0.7301, 0.7688],\n",
    "    [0.0094, 0.7327, 0.7623],\n",
    "    [0.0162, 0.7352, 0.7558],\n",
    "    [0.0253, 0.7376, 0.7492],\n",
    "    [0.0369, 0.7400, 0.7426],\n",
    "    [0.0504, 0.7423, 0.7359],\n",
    "    [0.0638, 0.7446, 0.7292],\n",
    "    [0.0770, 0.7468, 0.7224],\n",
    "    [0.0899, 0.7489, 0.7156],\n",
    "    [0.1023, 0.7510, 0.7088],\n",
    "    [0.1141, 0.7531, 0.7019],\n",
    "    [0.1252, 0.7552, 0.6950],\n",
    "    [0.1354, 0.7572, 0.6881],\n",
    "    [0.1448, 0.7593, 0.6812],\n",
    "    [0.1532, 0.7614, 0.6741],\n",
    "    [0.1609, 0.7635, 0.6671],\n",
    "    [0.1678, 0.7656, 0.6599],\n",
    "    [0.1741, 0.7678, 0.6527],\n",
    "    [0.1799, 0.7699, 0.6454],\n",
    "    [0.1853, 0.7721, 0.6379],\n",
    "    [0.1905, 0.7743, 0.6303],\n",
    "    [0.1954, 0.7765, 0.6225],\n",
    "    [0.2003, 0.7787, 0.6146],\n",
    "    [0.2061, 0.7808, 0.6065],\n",
    "    [0.2118, 0.7828, 0.5983],\n",
    "    [0.2178, 0.7849, 0.5899],\n",
    "    [0.2244, 0.7869, 0.5813],\n",
    "    [0.2318, 0.7887, 0.5725],\n",
    "    [0.2401, 0.7905, 0.5636],\n",
    "    [0.2491, 0.7922, 0.5546],\n",
    "    [0.2589, 0.7937, 0.5454],\n",
    "    [0.2695, 0.7951, 0.5360],\n",
    "    [0.2809, 0.7964, 0.5266],\n",
    "    [0.2929, 0.7975, 0.5170],\n",
    "    [0.3052, 0.7985, 0.5074],\n",
    "    [0.3176, 0.7994, 0.4975],\n",
    "    [0.3301, 0.8002, 0.4876],\n",
    "    [0.3424, 0.8009, 0.4774],\n",
    "    [0.3548, 0.8016, 0.4669],\n",
    "    [0.3671, 0.8021, 0.4563],\n",
    "    [0.3795, 0.8026, 0.4454],\n",
    "    [0.3921, 0.8029, 0.4344],\n",
    "    [0.4050, 0.8031, 0.4233],\n",
    "    [0.4184, 0.8030, 0.4122],\n",
    "    [0.4322, 0.8028, 0.4013],\n",
    "    [0.4463, 0.8024, 0.3904],\n",
    "    [0.4608, 0.8018, 0.3797],\n",
    "    [0.4753, 0.8011, 0.3691],\n",
    "    [0.4899, 0.8002, 0.3586],\n",
    "    [0.5044, 0.7993, 0.3480],\n",
    "    [0.5187, 0.7982, 0.3374],\n",
    "    [0.5329, 0.7970, 0.3267],\n",
    "    [0.5470, 0.7957, 0.3159],\n",
    "    [0.5609, 0.7943, 0.3050],\n",
    "    [0.5748, 0.7929, 0.2941],\n",
    "    [0.5886, 0.7913, 0.2833],\n",
    "    [0.6024, 0.7896, 0.2726],\n",
    "    [0.6161, 0.7878, 0.2622],\n",
    "    [0.6297, 0.7859, 0.2521],\n",
    "    [0.6433, 0.7839, 0.2423],\n",
    "    [0.6567, 0.7818, 0.2329],\n",
    "    [0.6701, 0.7796, 0.2239],\n",
    "    [0.6833, 0.7773, 0.2155],\n",
    "    [0.6963, 0.7750, 0.2075],\n",
    "    [0.7091, 0.7727, 0.1998],\n",
    "    [0.7218, 0.7703, 0.1924],\n",
    "    [0.7344, 0.7679, 0.1852],\n",
    "    [0.7468, 0.7654, 0.1782],\n",
    "    [0.7590, 0.7629, 0.1717],\n",
    "    [0.7710, 0.7604, 0.1658],\n",
    "    [0.7829, 0.7579, 0.1608],\n",
    "    [0.7945, 0.7554, 0.1570],\n",
    "    [0.8060, 0.7529, 0.1546],\n",
    "    [0.8172, 0.7505, 0.1535],\n",
    "    [0.8281, 0.7481, 0.1536],\n",
    "    [0.8389, 0.7457, 0.1546],\n",
    "    [0.8495, 0.7435, 0.1564],\n",
    "    [0.8600, 0.7413, 0.1587],\n",
    "    [0.8703, 0.7392, 0.1615],\n",
    "    [0.8804, 0.7372, 0.1650],\n",
    "    [0.8903, 0.7353, 0.1695],\n",
    "    [0.9000, 0.7336, 0.1749],\n",
    "    [0.9093, 0.7321, 0.1815],\n",
    "    [0.9184, 0.7308, 0.1890],\n",
    "    [0.9272, 0.7298, 0.1973],\n",
    "    [0.9357, 0.7290, 0.2061],\n",
    "    [0.9440, 0.7285, 0.2151],\n",
    "    [0.9523, 0.7284, 0.2237],\n",
    "    [0.9606, 0.7285, 0.2312],\n",
    "    [0.9689, 0.7292, 0.2373],\n",
    "    [0.9770, 0.7304, 0.2418],\n",
    "    [0.9842, 0.7330, 0.2446],\n",
    "    [0.9900, 0.7365, 0.2429],\n",
    "    [0.9946, 0.7407, 0.2394],\n",
    "    [0.9966, 0.7458, 0.2351],\n",
    "    [0.9971, 0.7513, 0.2309],\n",
    "    [0.9972, 0.7569, 0.2267],\n",
    "    [0.9971, 0.7626, 0.2224],\n",
    "    [0.9969, 0.7683, 0.2181],\n",
    "    [0.9966, 0.7740, 0.2138],\n",
    "    [0.9962, 0.7798, 0.2095],\n",
    "    [0.9957, 0.7856, 0.2053],\n",
    "    [0.9949, 0.7915, 0.2012],\n",
    "    [0.9938, 0.7974, 0.1974],\n",
    "    [0.9923, 0.8034, 0.1939],\n",
    "    [0.9906, 0.8095, 0.1906],\n",
    "    [0.9885, 0.8156, 0.1875],\n",
    "    [0.9861, 0.8218, 0.1846],\n",
    "    [0.9835, 0.8280, 0.1817],\n",
    "    [0.9807, 0.8342, 0.1787],\n",
    "    [0.9778, 0.8404, 0.1757],\n",
    "    [0.9748, 0.8467, 0.1726],\n",
    "    [0.9720, 0.8529, 0.1695],\n",
    "    [0.9694, 0.8591, 0.1665],\n",
    "    [0.9671, 0.8654, 0.1636],\n",
    "    [0.9651, 0.8716, 0.1608],\n",
    "    [0.9634, 0.8778, 0.1582],\n",
    "    [0.9619, 0.8840, 0.1557],\n",
    "    [0.9608, 0.8902, 0.1532],\n",
    "    [0.9601, 0.8963, 0.1507],\n",
    "    [0.9596, 0.9023, 0.1480],\n",
    "    [0.9595, 0.9084, 0.1450],\n",
    "    [0.9597, 0.9143, 0.1418],\n",
    "    [0.9601, 0.9203, 0.1382],\n",
    "    [0.9608, 0.9262, 0.1344],\n",
    "    [0.9618, 0.9320, 0.1304],\n",
    "    [0.9629, 0.9379, 0.1261],\n",
    "    [0.9642, 0.9437, 0.1216],\n",
    "    [0.9657, 0.9494, 0.1168],\n",
    "    [0.9674, 0.9552, 0.1116],\n",
    "    [0.9692, 0.9609, 0.1061],\n",
    "    [0.9711, 0.9667, 0.1001],\n",
    "    [0.9730, 0.9724, 0.0938],\n",
    "    [0.9749, 0.9782, 0.0872],\n",
    "    [0.9769, 0.9839, 0.0805]\n",
    "]\n",
    "\n",
    "parula_map = LinearSegmentedColormap.from_list('parula', cm_data)"
   ]
  },
  {
   "cell_type": "code",
   "execution_count": 65,
   "metadata": {},
   "outputs": [],
   "source": [
    "def export_csv(index, solution, plot_figure=False, plot_value=False):\n",
    "    export_name = os.path.join(csv_base, str(index) + '.csv')\n",
    "    \n",
    "    xs = []\n",
    "    ys = []\n",
    "    hs = []\n",
    "\n",
    "    with open( export_name, 'w' ) as file:\n",
    "        file.write('x,y,h,p\\n')\n",
    "\n",
    "        et = np.tile(solution[boundary_mask], ceil(darcy_grid.num_nodes / boundary_grid.num_nodes) - 1)\n",
    "        ff = np.where(darcy_grid.nodes[1, :] < 1)[0]\n",
    "        hd = darcy_real_height(et, darcy_grid.nodes[1, ff])\n",
    "        for x,y,h,p in zip( darcy_grid.nodes[0, ff], hd, solution[darcy_internal_mask], solution[darcy_internal_mask] - hd):\n",
    "            file.write(f'{x},{y},{h},{p}\\n')\n",
    "            xs.append(x)\n",
    "            ys.append(y)\n",
    "            hs.append(h)\n",
    "\n",
    "        et = np.tile(solution[boundary_mask], ceil(richards_grid.num_nodes / boundary_grid.num_nodes))\n",
    "        hd = richards_real_height(et, 1+richards_grid.nodes[1, :])\n",
    "        for x,y,h,p in zip( richards_grid.nodes[0, :], hd, solution[richards_mask], solution[richards_mask] - hd ):\n",
    "            file.write(f'{x},{y},{h},{p}\\n')\n",
    "            xs.append(x)\n",
    "            ys.append(y)\n",
    "            hs.append(h)\n",
    "    \n",
    "    xs = np.array(xs).reshape((3*N+1, 2*N+1))\n",
    "    ys = np.array(ys).reshape((3*N+1, 2*N+1))\n",
    "    hs = np.array(hs).reshape((3*N+1, 2*N+1))\n",
    "    \n",
    "    if plot_figure:\n",
    "\n",
    "        fig = plt.figure(figsize=(7, 10))\n",
    "        ax = fig.subplots(1,1)\n",
    "        \n",
    "        CS = ax.contourf(xs, ys, hs, min((3*N+1) * (2*N+1), 1000), cmap=parula_map)\n",
    "\n",
    "        cbar = fig.colorbar(CS)\n",
    "        \n",
    "        plt.show()\n",
    "\n",
    "    if plot_value:\n",
    "        index = np.argmin(np.abs(xs[0, :] - 0.05))\n",
    "\n",
    "        fig = plt.figure(figsize=(10, 5))\n",
    "        ax = fig.subplots(1,1)\n",
    "        ax.plot( ys[:, index], hs[:, index], 'o-r' )\n",
    "        ax.set_ylim(0.9, 6.5)\n",
    "\n",
    "        ax.grid()\n",
    "\n",
    "        ax.set_title('Elevation head at y=0.05 m')\n",
    "\n",
    "        plt.show()"
   ]
  },
  {
   "cell_type": "code",
   "execution_count": 66,
   "metadata": {},
   "outputs": [],
   "source": [
    "base_richards_mass = richards_mass(sol[-1][boundary_mask])\n",
    "base_darcy_mass    = darcy_mass(sol[-1][boundary_mask])"
   ]
  },
  {
   "cell_type": "code",
   "execution_count": 67,
   "id": "6036f9c2",
   "metadata": {},
   "outputs": [
    {
     "name": "stdout",
     "output_type": "stream",
     "text": [
      "Time 0.02083\n",
      "Iteration #0001, error L2 relative psi:    0.28388013474136\n"
     ]
    },
    {
     "name": "stdout",
     "output_type": "stream",
     "text": [
      "Iteration #0002, error L2 relative psi:    0.04426902760670\n",
      "Iteration #0003, error L2 relative psi:    0.03863382778443\n",
      "Iteration #0004, error L2 relative psi:    0.03346776112699\n",
      "Iteration #0005, error L2 relative psi:    0.02877424368145\n",
      "Iteration #0006, error L2 relative psi:    0.02459005032038\n",
      "Iteration #0007, error L2 relative psi:    0.02093910930264\n",
      "Iteration #0008, error L2 relative psi:    0.01781582232751\n",
      "Iteration #0009, error L2 relative psi:    0.01518538109628\n",
      "Iteration #0010, error L2 relative psi:    0.01299244076029\n",
      "Iteration #0011, error L2 relative psi:    0.01117208998201\n",
      "Iteration #0012, error L2 relative psi:    0.00965937155356\n",
      "Iteration #0013, error L2 relative psi:    0.00839564358886\n",
      "Iteration #0014, error L2 relative psi:    0.00733162289084\n",
      "Iteration #0015, error L2 relative psi:    0.00642786530948\n",
      "Iteration #0016, error L2 relative psi:    0.00565372717739\n",
      "Iteration #0017, error L2 relative psi:    0.00498571030325\n",
      "Iteration #0018, error L2 relative psi:    0.00440577634253\n",
      "Iteration #0019, error L2 relative psi:    0.00389991495806\n",
      "Iteration #0020, error L2 relative psi:    0.00345704520720\n",
      "Iteration #0021, error L2 relative psi:    0.00306822297251\n",
      "Iteration #0022, error L2 relative psi:    0.00272608873414\n",
      "Iteration #0023, error L2 relative psi:    0.00242448788601\n",
      "Iteration #0024, error L2 relative psi:    0.00215820826825\n",
      "Iteration #0025, error L2 relative psi:    0.00192279485152\n",
      "Iteration #0026, error L2 relative psi:    0.00171441461218\n",
      "Iteration #0027, error L2 relative psi:    0.00152975429525\n",
      "Iteration #0028, error L2 relative psi:    0.00136594027195\n",
      "Iteration #0029, error L2 relative psi:    0.00122047383198\n",
      "Iteration #0030, error L2 relative psi:    0.00109117776952\n",
      "Iteration #0031, error L2 relative psi:    0.00097615161612\n",
      "Iteration #0032, error L2 relative psi:    0.00087373374970\n",
      "Iteration #0033, error L2 relative psi:    0.00078246912580\n",
      "Iteration #0034, error L2 relative psi:    0.00070108169153\n",
      "Iteration #0035, error L2 relative psi:    0.00062845074314\n",
      "Iteration #0036, error L2 relative psi:    0.00056359062617\n",
      "Iteration #0037, error L2 relative psi:    0.00050563327838\n",
      "Iteration #0038, error L2 relative psi:    0.00045381319482\n",
      "Iteration #0039, error L2 relative psi:    0.00040745445935\n",
      "Iteration #0040, error L2 relative psi:    0.00036595954064\n",
      "Iteration #0041, error L2 relative psi:    0.00032879959627\n",
      "Iteration #0042, error L2 relative psi:    0.00029550606773\n",
      "Iteration #0043, error L2 relative psi:    0.00026566338133\n",
      "Iteration #0044, error L2 relative psi:    0.00023890259848\n",
      "Iteration #0045, error L2 relative psi:    0.00021489588212\n",
      "Iteration #0046, error L2 relative psi:    0.00019335166615\n",
      "Iteration #0047, error L2 relative psi:    0.00017401043145\n",
      "Iteration #0048, error L2 relative psi:    0.00015664100632\n",
      "Iteration #0049, error L2 relative psi:    0.00014103732135\n",
      "Iteration #0050, error L2 relative psi:    0.00012701555846\n",
      "Iteration #0051, error L2 relative psi:    0.00011441164296\n",
      "Iteration #0052, error L2 relative psi:    0.00010307903412\n",
      "Iteration #0053, error L2 relative psi:    0.00009288677650\n",
      "Iteration #0054, error L2 relative psi:    0.00008371777906\n",
      "Iteration #0055, error L2 relative psi:    0.00007546729364\n",
      "Iteration #0056, error L2 relative psi:    0.00006804156852\n",
      "Iteration #0057, error L2 relative psi:    0.00006135665538\n",
      "Iteration #0058, error L2 relative psi:    0.00005533735138\n",
      "Iteration #0059, error L2 relative psi:    0.00004991626026\n",
      "Iteration #0060, error L2 relative psi:    0.00004503295807\n",
      "Iteration #0061, error L2 relative psi:    0.00004063325164\n",
      "Iteration #0062, error L2 relative psi:    0.00003666851869\n",
      "Iteration #0063, error L2 relative psi:    0.00003309512028\n",
      "Iteration #0064, error L2 relative psi:    0.00002987387741\n",
      "Iteration #0065, error L2 relative psi:    0.00002696960423\n",
      "Iteration #0066, error L2 relative psi:    0.00002435069168\n",
      "\n"
     ]
    },
    {
     "data": {
      "image/png": "[encoded data removed]",
      "text/plain": [
       "<Figure size 700x1000 with 2 Axes>"
      ]
     },
     "metadata": {},
     "output_type": "display_data"
    },
    {
     "data": {
      "image/png": "[encoded data removed]",
      "text/plain": [
       "<Figure size 1000x500 with 1 Axes>"
      ]
     },
     "metadata": {},
     "output_type": "display_data"
    },
    {
     "name": "stdout",
     "output_type": "stream",
     "text": [
      "Time 0.04167\n",
      "Iteration #0001, error L2 relative psi:    0.30125968718306\n"
     ]
    },
    {
     "name": "stderr",
     "output_type": "stream",
     "text": [
      "<lambdifygenerated-1>:2: RuntimeWarning: invalid value encountered in power\n",
      "  return 0.265*(0.1699265174169*(-psi)**2.06 + 1)**(-0.514563106796116) + 0.131\n",
      "<lambdifygenerated-2>:2: RuntimeWarning: invalid value encountered in scalar power\n",
      "  return 0.0496*(1 - (1 - 1.0*(0.1699265174169*(-psi)**2.06 + 1)**(-1.0))**0.514563106796116)**2*(0.1699265174169*(-psi)**2.06 + 1)**(-0.257281553398058)\n",
      "/opt/conda/lib/python3.11/site-packages/scipy/sparse/linalg/_dsolve/linsolve.py:276: MatrixRankWarning: Matrix is exactly singular\n",
      "  warn(\"Matrix is exactly singular\", MatrixRankWarning)\n"
     ]
    },
    {
     "name": "stdout",
     "output_type": "stream",
     "text": [
      "Iteration #0002, error L2 relative psi:                 nan\n"
     ]
    },
    {
     "ename": "KeyboardInterrupt",
     "evalue": "",
     "output_type": "error",
     "traceback": [
      "\u001b[0;31m---------------------------------------------------------------------------\u001b[0m",
      "\u001b[0;31mKeyboardInterrupt\u001b[0m                         Traceback (most recent call last)",
      "\u001b[1;32m/workspaces/richards/tests/primal_test/Actual Coupling Local/hard_coupling_bezier_mon.ipynb Cell 93\u001b[0m line \u001b[0;36m2\n\u001b[1;32m     <a href='vscode-notebook-cell://dev-container%2B7b22686f737450617468223a22653a5c5c56697375616c2053747564696f20436f64655c5c7269636861726473222c226c6f63616c446f636b6572223a66616c73652c22636f6e66696746696c65223a7b22246d6964223a312c22667350617468223a22653a5c5c56697375616c2053747564696f20436f64655c5c72696368617264735c5c2e646576636f6e7461696e65725c5c646576636f6e7461696e65722e6a736f6e222c225f736570223a312c2265787465726e616c223a2266696c653a2f2f2f652533412f56697375616c25323053747564696f253230436f64652f72696368617264732f2e646576636f6e7461696e65722f646576636f6e7461696e65722e6a736f6e222c2270617468223a222f653a2f56697375616c2053747564696f20436f64652f72696368617264732f2e646576636f6e7461696e65722f646576636f6e7461696e65722e6a736f6e222c22736368656d65223a2266696c65227d7d/workspaces/richards/tests/primal_test/Actual%20Coupling%20Local/hard_coupling_bezier_mon.ipynb#Y161sdnNjb2RlLXJlbW90ZQ%3D%3D?line=15'>16</a>\u001b[0m \u001b[39mfor\u001b[39;00m k \u001b[39min\u001b[39;00m \u001b[39mrange\u001b[39m(max_iterations_per_step):\n\u001b[1;32m     <a href='vscode-notebook-cell://dev-container%2B7b22686f737450617468223a22653a5c5c56697375616c2053747564696f20436f64655c5c7269636861726473222c226c6f63616c446f636b6572223a66616c73652c22636f6e66696746696c65223a7b22246d6964223a312c22667350617468223a22653a5c5c56697375616c2053747564696f20436f64655c5c72696368617264735c5c2e646576636f6e7461696e65725c5c646576636f6e7461696e65722e6a736f6e222c225f736570223a312c2265787465726e616c223a2266696c653a2f2f2f652533412f56697375616c25323053747564696f253230436f64652f72696368617264732f2e646576636f6e7461696e65722f646576636f6e7461696e65722e6a736f6e222c2270617468223a222f653a2f56697375616c2053747564696f20436f64652f72696368617264732f2e646576636f6e7461696e65722f646576636f6e7461696e65722e6a736f6e222c22736368656d65223a2266696c65227d7d/workspaces/richards/tests/primal_test/Actual%20Coupling%20Local/hard_coupling_bezier_mon.ipynb#Y161sdnNjb2RlLXJlbW90ZQ%3D%3D?line=16'>17</a>\u001b[0m \n\u001b[1;32m     <a href='vscode-notebook-cell://dev-container%2B7b22686f737450617468223a22653a5c5c56697375616c2053747564696f20436f64655c5c7269636861726473222c226c6f63616c446f636b6572223a66616c73652c22636f6e66696746696c65223a7b22246d6964223a312c22667350617468223a22653a5c5c56697375616c2053747564696f20436f64655c5c72696368617264735c5c2e646576636f6e7461696e65725c5c646576636f6e7461696e65722e6a736f6e222c225f736570223a312c2265787465726e616c223a2266696c653a2f2f2f652533412f56697375616c25323053747564696f253230436f64652f72696368617264732f2e646576636f6e7461696e65722f646576636f6e7461696e65722e6a736f6e222c2270617468223a222f653a2f56697375616c2053747564696f20436f64652f72696368617264732f2e646576636f6e7461696e65722f646576636f6e7461696e65722e6a736f6e222c22736368656d65223a2266696c65227d7d/workspaces/richards/tests/primal_test/Actual%20Coupling%20Local/hard_coupling_bezier_mon.ipynb#Y161sdnNjb2RlLXJlbW90ZQ%3D%3D?line=17'>18</a>\u001b[0m     \u001b[39m# Prepare the rhs\u001b[39;00m\n\u001b[1;32m     <a href='vscode-notebook-cell://dev-container%2B7b22686f737450617468223a22653a5c5c56697375616c2053747564696f20436f64655c5c7269636861726473222c226c6f63616c446f636b6572223a66616c73652c22636f6e66696746696c65223a7b22246d6964223a312c22667350617468223a22653a5c5c56697375616c2053747564696f20436f64655c5c72696368617264735c5c2e646576636f6e7461696e65725c5c646576636f6e7461696e65722e6a736f6e222c225f736570223a312c2265787465726e616c223a2266696c653a2f2f2f652533412f56697375616c25323053747564696f253230436f64652f72696368617264732f2e646576636f6e7461696e65722f646576636f6e7461696e65722e6a736f6e222c2270617468223a222f653a2f56697375616c2053747564696f20436f64652f72696368617264732f2e646576636f6e7461696e65722f646576636f6e7461696e65722e6a736f6e222c22736368656d65223a2266696c65227d7d/workspaces/richards/tests/primal_test/Actual%20Coupling%20Local/hard_coupling_bezier_mon.ipynb#Y161sdnNjb2RlLXJlbW90ZQ%3D%3D?line=18'>19</a>\u001b[0m     rhs \u001b[39m=\u001b[39m time_rhs\u001b[39m.\u001b[39mcopy()\n\u001b[0;32m---> <a href='vscode-notebook-cell://dev-container%2B7b22686f737450617468223a22653a5c5c56697375616c2053747564696f20436f64655c5c7269636861726473222c226c6f63616c446f636b6572223a66616c73652c22636f6e66696746696c65223a7b22246d6964223a312c22667350617468223a22653a5c5c56697375616c2053747564696f20436f64655c5c72696368617264735c5c2e646576636f6e7461696e65725c5c646576636f6e7461696e65722e6a736f6e222c225f736570223a312c2265787465726e616c223a2266696c653a2f2f2f652533412f56697375616c25323053747564696f253230436f64652f72696368617264732f2e646576636f6e7461696e65722f646576636f6e7461696e65722e6a736f6e222c2270617468223a222f653a2f56697375616c2053747564696f20436f64652f72696368617264732f2e646576636f6e7461696e65722f646576636f6e7461696e65722e6a736f6e222c22736368656d65223a2266696c65227d7d/workspaces/richards/tests/primal_test/Actual%20Coupling%20Local/hard_coupling_bezier_mon.ipynb#Y161sdnNjb2RlLXJlbW90ZQ%3D%3D?line=20'>21</a>\u001b[0m     richards_M_h \u001b[39m=\u001b[39m richards_mass(prev[boundary_mask])\n\u001b[1;32m     <a href='vscode-notebook-cell://dev-container%2B7b22686f737450617468223a22653a5c5c56697375616c2053747564696f20436f64655c5c7269636861726473222c226c6f63616c446f636b6572223a66616c73652c22636f6e66696746696c65223a7b22246d6964223a312c22667350617468223a22653a5c5c56697375616c2053747564696f20436f64655c5c72696368617264735c5c2e646576636f6e7461696e65725c5c646576636f6e7461696e65722e6a736f6e222c225f736570223a312c2265787465726e616c223a2266696c653a2f2f2f652533412f56697375616c25323053747564696f253230436f64652f72696368617264732f2e646576636f6e7461696e65722f646576636f6e7461696e65722e6a736f6e222c2270617468223a222f653a2f56697375616c2053747564696f20436f64652f72696368617264732f2e646576636f6e7461696e65722f646576636f6e7461696e65722e6a736f6e222c22736368656d65223a2266696c65227d7d/workspaces/richards/tests/primal_test/Actual%20Coupling%20Local/hard_coupling_bezier_mon.ipynb#Y161sdnNjb2RlLXJlbW90ZQ%3D%3D?line=23'>24</a>\u001b[0m     rhs[richards_mask] \u001b[39m+\u001b[39m\u001b[39m=\u001b[39m richards_M_h \u001b[39m@\u001b[39m theta(sol[\u001b[39m-\u001b[39m\u001b[39m1\u001b[39m][richards_mask] \u001b[39m-\u001b[39m richards_real_height(np\u001b[39m.\u001b[39mtile(sol[\u001b[39m-\u001b[39m\u001b[39m1\u001b[39m][boundary_mask], ceil(richards_grid\u001b[39m.\u001b[39mnum_nodes \u001b[39m/\u001b[39m boundary_grid\u001b[39m.\u001b[39mnum_nodes)), \u001b[39m1\u001b[39m\u001b[39m+\u001b[39mrichards_grid\u001b[39m.\u001b[39mnodes[\u001b[39m1\u001b[39m, :]) ) \u001b[39m/\u001b[39m dt\n\u001b[1;32m     <a href='vscode-notebook-cell://dev-container%2B7b22686f737450617468223a22653a5c5c56697375616c2053747564696f20436f64655c5c7269636861726473222c226c6f63616c446f636b6572223a66616c73652c22636f6e66696746696c65223a7b22246d6964223a312c22667350617468223a22653a5c5c56697375616c2053747564696f20436f64655c5c72696368617264735c5c2e646576636f6e7461696e65725c5c646576636f6e7461696e65722e6a736f6e222c225f736570223a312c2265787465726e616c223a2266696c653a2f2f2f652533412f56697375616c25323053747564696f253230436f64652f72696368617264732f2e646576636f6e7461696e65722f646576636f6e7461696e65722e6a736f6e222c2270617468223a222f653a2f56697375616c2053747564696f20436f64652f72696368617264732f2e646576636f6e7461696e65722f646576636f6e7461696e65722e6a736f6e222c22736368656d65223a2266696c65227d7d/workspaces/richards/tests/primal_test/Actual%20Coupling%20Local/hard_coupling_bezier_mon.ipynb#Y161sdnNjb2RlLXJlbW90ZQ%3D%3D?line=25'>26</a>\u001b[0m     heights \u001b[39m=\u001b[39m \u001b[39mNone\u001b[39;00m\n",
      "\u001b[1;32m/workspaces/richards/tests/primal_test/Actual Coupling Local/hard_coupling_bezier_mon.ipynb Cell 93\u001b[0m line \u001b[0;36m2\n\u001b[1;32m     <a href='vscode-notebook-cell://dev-container%2B7b22686f737450617468223a22653a5c5c56697375616c2053747564696f20436f64655c5c7269636861726473222c226c6f63616c446f636b6572223a66616c73652c22636f6e66696746696c65223a7b22246d6964223a312c22667350617468223a22653a5c5c56697375616c2053747564696f20436f64655c5c72696368617264735c5c2e646576636f6e7461696e65725c5c646576636f6e7461696e65722e6a736f6e222c225f736570223a312c2265787465726e616c223a2266696c653a2f2f2f652533412f56697375616c25323053747564696f253230436f64652f72696368617264732f2e646576636f6e7461696e65722f646576636f6e7461696e65722e6a736f6e222c2270617468223a222f653a2f56697375616c2053747564696f20436f64652f72696368617264732f2e646576636f6e7461696e65722f646576636f6e7461696e65722e6a736f6e222c22736368656d65223a2266696c65227d7d/workspaces/richards/tests/primal_test/Actual%20Coupling%20Local/hard_coupling_bezier_mon.ipynb#Y161sdnNjb2RlLXJlbW90ZQ%3D%3D?line=24'>25</a>\u001b[0m eta_cell \u001b[39m=\u001b[39m np\u001b[39m.\u001b[39mmax(np\u001b[39m.\u001b[39mwhere( boundary_grid\u001b[39m.\u001b[39mnodes[\u001b[39m0\u001b[39m, :] \u001b[39m<\u001b[39m richards_grid\u001b[39m.\u001b[39mcell_centers[\u001b[39m0\u001b[39m, c] ))\n\u001b[1;32m     <a href='vscode-notebook-cell://dev-container%2B7b22686f737450617468223a22653a5c5c56697375616c2053747564696f20436f64655c5c7269636861726473222c226c6f63616c446f636b6572223a66616c73652c22636f6e66696746696c65223a7b22246d6964223a312c22667350617468223a22653a5c5c56697375616c2053747564696f20436f64655c5c72696368617264735c5c2e646576636f6e7461696e65725c5c646576636f6e7461696e65722e6a736f6e222c225f736570223a312c2265787465726e616c223a2266696c653a2f2f2f652533412f56697375616c25323053747564696f253230436f64652f72696368617264732f2e646576636f6e7461696e65722f646576636f6e7461696e65722e6a736f6e222c2270617468223a222f653a2f56697375616c2053747564696f20436f64652f72696368617264732f2e646576636f6e7461696e65722f646576636f6e7461696e65722e6a736f6e222c22736368656d65223a2266696c65227d7d/workspaces/richards/tests/primal_test/Actual%20Coupling%20Local/hard_coupling_bezier_mon.ipynb#Y161sdnNjb2RlLXJlbW90ZQ%3D%3D?line=25'>26</a>\u001b[0m coord_loc[\u001b[39m1\u001b[39m, :] \u001b[39m+\u001b[39m\u001b[39m=\u001b[39m \u001b[39m1\u001b[39m\n\u001b[0;32m---> <a href='vscode-notebook-cell://dev-container%2B7b22686f737450617468223a22653a5c5c56697375616c2053747564696f20436f64655c5c7269636861726473222c226c6f63616c446f636b6572223a66616c73652c22636f6e66696746696c65223a7b22246d6964223a312c22667350617468223a22653a5c5c56697375616c2053747564696f20436f64655c5c72696368617264735c5c2e646576636f6e7461696e65725c5c646576636f6e7461696e65722e6a736f6e222c225f736570223a312c2265787465726e616c223a2266696c653a2f2f2f652533412f56697375616c25323053747564696f253230436f64652f72696368617264732f2e646576636f6e7461696e65722f646576636f6e7461696e65722e6a736f6e222c2270617468223a222f653a2f56697375616c2053747564696f20436f64652f72696368617264732f2e646576636f6e7461696e65722f646576636f6e7461696e65722e6a736f6e222c22736368656d65223a2266696c65227d7d/workspaces/richards/tests/primal_test/Actual%20Coupling%20Local/hard_coupling_bezier_mon.ipynb#Y161sdnNjb2RlLXJlbW90ZQ%3D%3D?line=27'>28</a>\u001b[0m A \u001b[39m=\u001b[39m local_mass(coord_loc, richards_chi_x3_eta_gen, eta_dofs[eta_cell], eta_dofs[eta_cell\u001b[39m+\u001b[39m\u001b[39m1\u001b[39m], np\u001b[39m.\u001b[39mprod(sign[loc]))\n\u001b[1;32m     <a href='vscode-notebook-cell://dev-container%2B7b22686f737450617468223a22653a5c5c56697375616c2053747564696f20436f64655c5c7269636861726473222c226c6f63616c446f636b6572223a66616c73652c22636f6e66696746696c65223a7b22246d6964223a312c22667350617468223a22653a5c5c56697375616c2053747564696f20436f64655c5c72696368617264735c5c2e646576636f6e7461696e65725c5c646576636f6e7461696e65722e6a736f6e222c225f736570223a312c2265787465726e616c223a2266696c653a2f2f2f652533412f56697375616c25323053747564696f253230436f64652f72696368617264732f2e646576636f6e7461696e65722f646576636f6e7461696e65722e6a736f6e222c2270617468223a222f653a2f56697375616c2053747564696f20436f64652f72696368617264732f2e646576636f6e7461696e65722f646576636f6e7461696e65722e6a736f6e222c22736368656d65223a2266696c65227d7d/workspaces/richards/tests/primal_test/Actual%20Coupling%20Local/hard_coupling_bezier_mon.ipynb#Y161sdnNjb2RlLXJlbW90ZQ%3D%3D?line=29'>30</a>\u001b[0m \u001b[39m# Save values for stiff-H1 local matrix in the global structure\u001b[39;00m\n\u001b[1;32m     <a href='vscode-notebook-cell://dev-container%2B7b22686f737450617468223a22653a5c5c56697375616c2053747564696f20436f64655c5c7269636861726473222c226c6f63616c446f636b6572223a66616c73652c22636f6e66696746696c65223a7b22246d6964223a312c22667350617468223a22653a5c5c56697375616c2053747564696f20436f64655c5c72696368617264735c5c2e646576636f6e7461696e65725c5c646576636f6e7461696e65722e6a736f6e222c225f736570223a312c2265787465726e616c223a2266696c653a2f2f2f652533412f56697375616c25323053747564696f253230436f64652f72696368617264732f2e646576636f6e7461696e65722f646576636f6e7461696e65722e6a736f6e222c2270617468223a222f653a2f56697375616c2053747564696f20436f64652f72696368617264732f2e646576636f6e7461696e65722f646576636f6e7461696e65722e6a736f6e222c22736368656d65223a2266696c65227d7d/workspaces/richards/tests/primal_test/Actual%20Coupling%20Local/hard_coupling_bezier_mon.ipynb#Y161sdnNjb2RlLXJlbW90ZQ%3D%3D?line=30'>31</a>\u001b[0m cols \u001b[39m=\u001b[39m np\u001b[39m.\u001b[39mtile(nodes_loc, (nodes_loc\u001b[39m.\u001b[39msize, \u001b[39m1\u001b[39m))\n",
      "\u001b[1;32m/workspaces/richards/tests/primal_test/Actual Coupling Local/hard_coupling_bezier_mon.ipynb Cell 93\u001b[0m line \u001b[0;36m2\n\u001b[1;32m     <a href='vscode-notebook-cell://dev-container%2B7b22686f737450617468223a22653a5c5c56697375616c2053747564696f20436f64655c5c7269636861726473222c226c6f63616c446f636b6572223a66616c73652c22636f6e66696746696c65223a7b22246d6964223a312c22667350617468223a22653a5c5c56697375616c2053747564696f20436f64655c5c72696368617264735c5c2e646576636f6e7461696e65725c5c646576636f6e7461696e65722e6a736f6e222c225f736570223a312c2265787465726e616c223a2266696c653a2f2f2f652533412f56697375616c25323053747564696f253230436f64652f72696368617264732f2e646576636f6e7461696e65722f646576636f6e7461696e65722e6a736f6e222c2270617468223a222f653a2f56697375616c2053747564696f20436f64652f72696368617264732f2e646576636f6e7461696e65722f646576636f6e7461696e65722e6a736f6e222c22736368656d65223a2266696c65227d7d/workspaces/richards/tests/primal_test/Actual%20Coupling%20Local/hard_coupling_bezier_mon.ipynb#Y161sdnNjb2RlLXJlbW90ZQ%3D%3D?line=22'>23</a>\u001b[0m         integrand \u001b[39m=\u001b[39m \u001b[39mlambda\u001b[39;00m ys,x: np\u001b[39m.\u001b[39marray([qs[j](x,y) \u001b[39m*\u001b[39m qs[i](x,y) \u001b[39m*\u001b[39m chi_x3(x, y) \u001b[39mfor\u001b[39;00m y \u001b[39min\u001b[39;00m np\u001b[39m.\u001b[39marray(ys)])\n\u001b[1;32m     <a href='vscode-notebook-cell://dev-container%2B7b22686f737450617468223a22653a5c5c56697375616c2053747564696f20436f64655c5c7269636861726473222c226c6f63616c446f636b6572223a66616c73652c22636f6e66696746696c65223a7b22246d6964223a312c22667350617468223a22653a5c5c56697375616c2053747564696f20436f64655c5c72696368617264735c5c2e646576636f6e7461696e65725c5c646576636f6e7461696e65722e6a736f6e222c225f736570223a312c2265787465726e616c223a2266696c653a2f2f2f652533412f56697375616c25323053747564696f253230436f64652f72696368617264732f2e646576636f6e7461696e65722f646576636f6e7461696e65722e6a736f6e222c2270617468223a222f653a2f56697375616c2053747564696f20436f64652f72696368617264732f2e646576636f6e7461696e65722f646576636f6e7461696e65722e6a736f6e222c22736368656d65223a2266696c65227d7d/workspaces/richards/tests/primal_test/Actual%20Coupling%20Local/hard_coupling_bezier_mon.ipynb#Y161sdnNjb2RlLXJlbW90ZQ%3D%3D?line=23'>24</a>\u001b[0m         inside \u001b[39m=\u001b[39m \u001b[39mlambda\u001b[39;00m xs, n: np\u001b[39m.\u001b[39marray([integrate\u001b[39m.\u001b[39mfixed_quad(integrand, \u001b[39m0\u001b[39m, \u001b[39m1\u001b[39m\u001b[39m-\u001b[39mx, args\u001b[39m=\u001b[39m(x,), n\u001b[39m=\u001b[39mn)[\u001b[39m0\u001b[39m] \u001b[39mfor\u001b[39;00m x \u001b[39min\u001b[39;00m np\u001b[39m.\u001b[39marray(xs)])\n\u001b[0;32m---> <a href='vscode-notebook-cell://dev-container%2B7b22686f737450617468223a22653a5c5c56697375616c2053747564696f20436f64655c5c7269636861726473222c226c6f63616c446f636b6572223a66616c73652c22636f6e66696746696c65223a7b22246d6964223a312c22667350617468223a22653a5c5c56697375616c2053747564696f20436f64655c5c72696368617264735c5c2e646576636f6e7461696e65725c5c646576636f6e7461696e65722e6a736f6e222c225f736570223a312c2265787465726e616c223a2266696c653a2f2f2f652533412f56697375616c25323053747564696f253230436f64652f72696368617264732f2e646576636f6e7461696e65722f646576636f6e7461696e65722e6a736f6e222c2270617468223a222f653a2f56697375616c2053747564696f20436f64652f72696368617264732f2e646576636f6e7461696e65722f646576636f6e7461696e65722e6a736f6e222c22736368656d65223a2266696c65227d7d/workspaces/richards/tests/primal_test/Actual%20Coupling%20Local/hard_coupling_bezier_mon.ipynb#Y161sdnNjb2RlLXJlbW90ZQ%3D%3D?line=24'>25</a>\u001b[0m         tmp \u001b[39m=\u001b[39m integrate\u001b[39m.\u001b[39mfixed_quad(inside, \u001b[39m0\u001b[39m, \u001b[39m1\u001b[39m, n\u001b[39m=\u001b[39m\u001b[39m3\u001b[39m, args\u001b[39m=\u001b[39m(\u001b[39m3\u001b[39m,))[\u001b[39m0\u001b[39m]\n\u001b[1;32m     <a href='vscode-notebook-cell://dev-container%2B7b22686f737450617468223a22653a5c5c56697375616c2053747564696f20436f64655c5c7269636861726473222c226c6f63616c446f636b6572223a66616c73652c22636f6e66696746696c65223a7b22246d6964223a312c22667350617468223a22653a5c5c56697375616c2053747564696f20436f64655c5c72696368617264735c5c2e646576636f6e7461696e65725c5c646576636f6e7461696e65722e6a736f6e222c225f736570223a312c2265787465726e616c223a2266696c653a2f2f2f652533412f56697375616c25323053747564696f253230436f64652f72696368617264732f2e646576636f6e7461696e65722f646576636f6e7461696e65722e6a736f6e222c2270617468223a222f653a2f56697375616c2053747564696f20436f64652f72696368617264732f2e646576636f6e7461696e65722f646576636f6e7461696e65722e6a736f6e222c22736368656d65223a2266696c65227d7d/workspaces/richards/tests/primal_test/Actual%20Coupling%20Local/hard_coupling_bezier_mon.ipynb#Y161sdnNjb2RlLXJlbW90ZQ%3D%3D?line=26'>27</a>\u001b[0m         M[ ordering[i], ordering[j] ] \u001b[39m=\u001b[39m tmp \u001b[39m*\u001b[39m jacobian\n\u001b[1;32m     <a href='vscode-notebook-cell://dev-container%2B7b22686f737450617468223a22653a5c5c56697375616c2053747564696f20436f64655c5c7269636861726473222c226c6f63616c446f636b6572223a66616c73652c22636f6e66696746696c65223a7b22246d6964223a312c22667350617468223a22653a5c5c56697375616c2053747564696f20436f64655c5c72696368617264735c5c2e646576636f6e7461696e65725c5c646576636f6e7461696e65722e6a736f6e222c225f736570223a312c2265787465726e616c223a2266696c653a2f2f2f652533412f56697375616c25323053747564696f253230436f64652f72696368617264732f2e646576636f6e7461696e65722f646576636f6e7461696e65722e6a736f6e222c2270617468223a222f653a2f56697375616c2053747564696f20436f64652f72696368617264732f2e646576636f6e7461696e65722f646576636f6e7461696e65722e6a736f6e222c22736368656d65223a2266696c65227d7d/workspaces/richards/tests/primal_test/Actual%20Coupling%20Local/hard_coupling_bezier_mon.ipynb#Y161sdnNjb2RlLXJlbW90ZQ%3D%3D?line=28'>29</a>\u001b[0m \u001b[39mreturn\u001b[39;00m M\n",
      "File \u001b[0;32m/opt/conda/lib/python3.11/site-packages/scipy/integrate/_quadrature.py:151\u001b[0m, in \u001b[0;36mfixed_quad\u001b[0;34m(func, a, b, args, n)\u001b[0m\n\u001b[1;32m    149\u001b[0m x, w \u001b[39m=\u001b[39m _cached_roots_legendre(n)\n\u001b[1;32m    150\u001b[0m x \u001b[39m=\u001b[39m np\u001b[39m.\u001b[39mreal(x)\n\u001b[0;32m--> 151\u001b[0m \u001b[39mif\u001b[39;00m np\u001b[39m.\u001b[39misinf(a) \u001b[39mor\u001b[39;00m np\u001b[39m.\u001b[39misinf(b):\n\u001b[1;32m    152\u001b[0m     \u001b[39mraise\u001b[39;00m \u001b[39mValueError\u001b[39;00m(\u001b[39m\"\u001b[39m\u001b[39mGaussian quadrature is only available for \u001b[39m\u001b[39m\"\u001b[39m\n\u001b[1;32m    153\u001b[0m                      \u001b[39m\"\u001b[39m\u001b[39mfinite limits.\u001b[39m\u001b[39m\"\u001b[39m)\n\u001b[1;32m    154\u001b[0m y \u001b[39m=\u001b[39m (b\u001b[39m-\u001b[39ma)\u001b[39m*\u001b[39m(x\u001b[39m+\u001b[39m\u001b[39m1\u001b[39m)\u001b[39m/\u001b[39m\u001b[39m2.0\u001b[39m \u001b[39m+\u001b[39m a\n",
      "\u001b[0;31mKeyboardInterrupt\u001b[0m: "
     ]
    }
   ],
   "source": [
    "# Time Loop\n",
    "for i in range(1, num_steps+1):\n",
    "    current_time = i * dt\n",
    "    print('Time ' + str(round(current_time, 5)))\n",
    "\n",
    "    # Prepare the solution at the previous time step and ...\n",
    "    prev = sol[-1].copy()\n",
    "    \n",
    "    debug_savers = [pp.Exporter(darcy_grid,    str(i) + '_sol_D', folder_name=os.path.join(output_directory, 'debug')), \n",
    "                    pp.Exporter(richards_grid, str(i) + '_sol_R', folder_name=os.path.join(output_directory, 'debug'))]\n",
    "    save_step(sol[-1], debug_savers, 0)\n",
    "        \n",
    "    time_rhs = fixed_rhs.copy()\n",
    "\n",
    "    # Non-linear loop\n",
    "    for k in range(max_iterations_per_step):\n",
    "\n",
    "        # Prepare the rhs\n",
    "        rhs = time_rhs.copy()\n",
    "\n",
    "        richards_M_h = richards_mass(prev[boundary_mask])\n",
    "        \n",
    "\n",
    "        rhs[richards_mask] += richards_M_h @ theta(sol[-1][richards_mask] - richards_real_height(np.tile(sol[-1][boundary_mask], ceil(richards_grid.num_nodes / boundary_grid.num_nodes)), 1+richards_grid.nodes[1, :]) ) / dt\n",
    "\n",
    "        heights = None\n",
    "        heights = richards_real_height(np.tile(prev[boundary_mask], ceil(richards_grid.num_nodes / boundary_grid.num_nodes)), 1+richards_grid.nodes[1, :])\n",
    "\n",
    "        diag_dtheta = L * np.eye(richards_grid.num_nodes) #np.diag(dtheta(prev[richards_mask] - heights))\n",
    "        rhs[richards_mask] += richards_M_h @ (diag_dtheta @ prev[richards_mask] - theta(prev[richards_mask] - heights) ) / dt\n",
    "\n",
    "        darcy_start    = darcy_stifness(prev[boundary_mask])\n",
    "        richards_start = richards_stifness(prev[richards_mask], prev[boundary_mask]) + richards_M_h @ diag_dtheta / dt\n",
    "\n",
    "        mid_start = darcy_restrict_to_boundary @ darcy_start @ darcy_restrict_to_boundary.T + richards_restrict_to_boundary @ richards_start @ richards_restrict_to_boundary.T\n",
    "        \n",
    "\n",
    "        spp = sps.bmat([[       darcy_remove_boundary @ darcy_start @ darcy_remove_boundary.T,          darcy_remove_boundary @ darcy_start @ darcy_restrict_to_boundary.T,                                                                          None],\n",
    "                        [darcy_restrict_to_boundary @ darcy_start.T @ darcy_remove_boundary.T,                                                                   mid_start, richards_restrict_to_boundary @ richards_start.T @ richards_remove_boundary.T],\n",
    "                        [                                                                None, richards_remove_boundary @ richards_start @ richards_restrict_to_boundary.T,        richards_remove_boundary @ richards_start @ richards_remove_boundary.T]], format='csc')\n",
    "\n",
    "\n",
    "        ls = pg.LinearSystem(spp, rhs)\n",
    "        ls.flag_ess_bc(dirichlet_flag(current_time), dirichlet_value(current_time))\n",
    "\n",
    "        current = ls.solve()\n",
    "\n",
    "\n",
    "        # Compute the errors (with eta). Should I consider only psi? Should I compute the error on the \"actual\" psi values or on the dofs\n",
    "        abs_err_psi  = np.sqrt( (current - prev)[richards_mask].T @ base_richards_mass @ (current - prev)[richards_mask] + (current - prev)[darcy_mask].T @ base_darcy_mass @ (current - prev)[darcy_mask] )\n",
    "        abs_err_prev = np.sqrt( prev[richards_mask].T @ base_richards_mass @ prev[richards_mask] + prev[darcy_mask].T @ base_darcy_mass @ prev[darcy_mask] )\n",
    "\n",
    "        print('Iteration #' + format(k+1, '0' + str(ceil(log10(max_iterations_per_step)) + 1) + 'd')\n",
    "              + ', error L2 relative psi: ' + format(abs_err_psi, str(5 + ceil(log10(1 / abs_tol)) + 4)\n",
    "                                                     + '.' + str(ceil(log10(1 / abs_tol)) + 4) + 'f') )\n",
    "\n",
    "\n",
    "        save_step(current, debug_savers, k+1)\n",
    "        \n",
    "        if abs_err_psi < abs_tol + rel_tol * abs_err_prev:\n",
    "            break\n",
    "        else:\n",
    "            prev = None\n",
    "            prev = current.copy()\n",
    "\n",
    "    print('')\n",
    "\n",
    "    sol.append( current.copy() )\n",
    "    save_step(sol[-1], savers, i)\n",
    "\n",
    "    export_csv(i, sol[-1], plot_figure=True, plot_value=True)\n",
    "\n",
    "\n",
    "for saver in savers:\n",
    "    saver.write_pvd([t * dt for t in range(int(T/dt)+1)])"
   ]
  }
 ],
 "metadata": {
  "kernelspec": {
   "display_name": "Python 3 (ipykernel)",
   "language": "python",
   "name": "python3"
  },
  "language_info": {
   "codemirror_mode": {
    "name": "ipython",
    "version": 3
   },
   "file_extension": ".py",
   "mimetype": "text/x-python",
   "name": "python",
   "nbconvert_exporter": "python",
   "pygments_lexer": "ipython3",
   "version": "3.11.5"
  },
  "vscode": {
   "interpreter": {
    "hash": "e4cc1db98167c7fd7d55a1da8057731abc6cd6fe154328a2ae319df8aab4e24d"
   }
  }
 },
 "nbformat": 4,
 "nbformat_minor": 5
}
