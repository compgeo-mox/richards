{
 "cells": [
  {
   "cell_type": "code",
   "execution_count": 1,
   "metadata": {},
   "outputs": [],
   "source": [
    "import numpy as np\n",
    "import scipy.integrate as ig"
   ]
  },
  {
   "cell_type": "code",
   "execution_count": 2,
   "metadata": {},
   "outputs": [],
   "source": [
    "x, w = ig._quadrature._cached_roots_legendre(3)"
   ]
  },
  {
   "cell_type": "code",
   "execution_count": 3,
   "metadata": {},
   "outputs": [
    {
     "data": {
      "text/plain": [
       "(array([-0.77459667,  0.        ,  0.77459667]),\n",
       " array([0.55555556, 0.88888889, 0.55555556]))"
      ]
     },
     "execution_count": 3,
     "metadata": {},
     "output_type": "execute_result"
    }
   ],
   "source": [
    "x,w"
   ]
  },
  {
   "cell_type": "code",
   "execution_count": 4,
   "metadata": {},
   "outputs": [],
   "source": [
    "def fast_integration(func, x0, x1, x2, m):\n",
    "    x, weights = ig._quadrature._cached_roots_legendre(3)\n",
    "\n",
    "    res = 0\n",
    "\n",
    "    if m < 0:\n",
    "        mapped_x = (x2[0]-x0[0])/2*(1+x)+x0[0]\n",
    "        for i in range(3):\n",
    "            ls = x1[1] + (x2[1] - x1[1]) / (x2[0] - x1[0]) * (mapped_x[i] - x1[0])\n",
    "            mapped_y = (x2[1]-ls)/2*(1+x)+ls\n",
    "\n",
    "            res += np.prod([func(mapped_x[i], y)*weights[i]*w for y,w in zip(mapped_y, weights)])\n",
    "    \n",
    "    return res"
   ]
  },
  {
   "cell_type": "code",
   "execution_count": 5,
   "metadata": {},
   "outputs": [],
   "source": [
    "def exp_triangle_integration(func, quad_order, x0, x1, x2, m):\n",
    "    if m < 0:\n",
    "        integrand = lambda ys,x: np.array([func(x,y) for y in np.array(ys)])\n",
    "        inside = lambda xs, n: np.array([ig.fixed_quad(integrand, \n",
    "                                                              x1[1] + (x2[1] - x1[1]) / (x2[0] - x1[0]) * (x - x1[0]), \n",
    "                                                              x2[1], args=(x,), n=n)[0] for x in np.array(xs)])\n",
    "        \n",
    "        return ig.fixed_quad(inside, x0[0], x2[0], n=quad_order, args=(quad_order,))[0]\n",
    "    else:\n",
    "        integrand = lambda ys,x: np.array([func(x,y) for y in np.array(ys)])\n",
    "        inside = lambda xs, n: np.array([ig.fixed_quad(integrand, \n",
    "                                                              x2[1], \n",
    "                                                              x2[1] + (x1[1] - x2[1]) / (x1[0] - x2[0]) * (x - x2[0]), \n",
    "                                                              args=(x,), n=n)[0] for x in np.array(xs)])\n",
    "        \n",
    "        return ig.fixed_quad(inside, x2[0], x0[0], n=quad_order, args=(quad_order,))[0]"
   ]
  },
  {
   "cell_type": "code",
   "execution_count": 6,
   "metadata": {},
   "outputs": [],
   "source": [
    "def fix_exp_triangle_integration(func, quad_order, x0, x1, x2, m):\n",
    "    if m < 0:\n",
    "        integrand = lambda ys,x: np.array([func(x,y) for y in np.array(ys)])\n",
    "        inside = lambda xs, n: np.array([ig.fixed_quad(lambda ys: np.array([func(x,y) for y in np.array(ys)]), \n",
    "                                                              x1[1] + (x2[1] - x1[1]) / (x2[0] - x1[0]) * (x - x1[0]), \n",
    "                                                              x2[1], args=(x,), n=n)[0] for x in np.array(xs)])\n",
    "        \n",
    "        return ig.fixed_quad(lambda xs: np.array([ig.fixed_quad(lambda ys: np.array([func(x,y) for y in np.array(ys)]), \n",
    "                                                              x1[1] + (x2[1] - x1[1]) / (x2[0] - x1[0]) * (x - x1[0]), \n",
    "                                                              x2[1], n=quad_order)[0] for x in np.array(xs)]), \n",
    "                                                              x0[0], x2[0], n=quad_order)[0]\n",
    "    else:\n",
    "        integrand = lambda ys,x: np.array([func(x,y) for y in np.array(ys)])\n",
    "        inside = lambda xs, n: np.array([ig.fixed_quad(integrand, \n",
    "                                                              x2[1], \n",
    "                                                              x2[1] + (x1[1] - x2[1]) / (x1[0] - x2[0]) * (x - x2[0]), \n",
    "                                                              args=(x,), n=n)[0] for x in np.array(xs)])\n",
    "        \n",
    "        return ig.fixed_quad(inside, x2[0], x0[0], n=quad_order, args=(quad_order,))[0]"
   ]
  },
  {
   "cell_type": "code",
   "execution_count": 7,
   "metadata": {},
   "outputs": [],
   "source": [
    "def dumb_func(x, y):\n",
    "    return x*y**2+x*y"
   ]
  },
  {
   "cell_type": "code",
   "execution_count": 8,
   "metadata": {},
   "outputs": [
    {
     "data": {
      "text/plain": [
       "0.2524525182475573"
      ]
     },
     "execution_count": 8,
     "metadata": {},
     "output_type": "execute_result"
    }
   ],
   "source": [
    "fast_integration(dumb_func, np.array([0, 1]), np.array([0, 0]), np.array([1, 1]), -1)"
   ]
  },
  {
   "cell_type": "code",
   "execution_count": 9,
   "metadata": {},
   "outputs": [
    {
     "data": {
      "text/plain": [
       "0.2249999999999999"
      ]
     },
     "execution_count": 9,
     "metadata": {},
     "output_type": "execute_result"
    }
   ],
   "source": [
    "fix_exp_triangle_integration(dumb_func, 3, np.array([0, 1]), np.array([0, 0]), np.array([1, 1]), m=-1)"
   ]
  },
  {
   "cell_type": "code",
   "execution_count": 10,
   "metadata": {},
   "outputs": [
    {
     "data": {
      "text/plain": [
       "0.2249999999999999"
      ]
     },
     "execution_count": 10,
     "metadata": {},
     "output_type": "execute_result"
    }
   ],
   "source": [
    "exp_triangle_integration(dumb_func, 3, np.array([0, 1]), np.array([0, 0]), np.array([1, 1]), m=-1)"
   ]
  },
  {
   "cell_type": "code",
   "execution_count": 11,
   "metadata": {},
   "outputs": [
    {
     "name": "stdout",
     "output_type": "stream",
     "text": [
      "50.4 µs ± 1.91 µs per loop (mean ± std. dev. of 7 runs, 10,000 loops each)\n"
     ]
    }
   ],
   "source": [
    "%%timeit\n",
    "fast_integration(dumb_func, np.array([0, 1]), np.array([0, 0]), np.array([1, 1]), -1)"
   ]
  },
  {
   "cell_type": "code",
   "execution_count": 12,
   "metadata": {},
   "outputs": [
    {
     "name": "stdout",
     "output_type": "stream",
     "text": [
      "76.8 µs ± 3.16 µs per loop (mean ± std. dev. of 7 runs, 10,000 loops each)\n"
     ]
    }
   ],
   "source": [
    "%%timeit\n",
    "exp_triangle_integration(dumb_func, 3, np.array([0, 1]), np.array([0, 0]), np.array([1, 1]), m=-1)"
   ]
  },
  {
   "cell_type": "code",
   "execution_count": 13,
   "metadata": {},
   "outputs": [
    {
     "name": "stdout",
     "output_type": "stream",
     "text": [
      "75.9 µs ± 2.19 µs per loop (mean ± std. dev. of 7 runs, 10,000 loops each)\n"
     ]
    }
   ],
   "source": [
    "%%timeit\n",
    "fix_exp_triangle_integration(dumb_func, 3, np.array([0, 1]), np.array([0, 0]), np.array([1, 1]), m=-1)"
   ]
  }
 ],
 "metadata": {
  "kernelspec": {
   "display_name": "base",
   "language": "python",
   "name": "python3"
  },
  "language_info": {
   "codemirror_mode": {
    "name": "ipython",
    "version": 3
   },
   "file_extension": ".py",
   "mimetype": "text/x-python",
   "name": "python",
   "nbconvert_exporter": "python",
   "pygments_lexer": "ipython3",
   "version": "3.11.5"
  }
 },
 "nbformat": 4,
 "nbformat_minor": 2
}
