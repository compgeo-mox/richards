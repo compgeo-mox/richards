{
 "cells": [
  {
   "attachments": {},
   "cell_type": "markdown",
   "id": "essential-american",
   "metadata": {},
   "source": [
    "# Darcy equation\n",
    "\n",
    "In this tutorial we present how to solve an evolutionary Darcy equation with [PyGeoN](https://github.com/compgeo-mox/pygeon).  The unkwons are the velocity $q$ and the pressure $p$.\n",
    "\n",
    "Let $\\Omega=(0,1)^2$ with boundary $\\partial \\Omega$ and outward unit normal ${\\nu}$. Let $(0,T)$ with $10=T>0$ be the overall simulation period. Given \n",
    "$k$ the matrix permeability, we want to solve the following problem: find $({q}, p)$ such that\n",
    "$$\n",
    "\\left\\{\n",
    "\\begin{array}{ll}\n",
    "\\begin{array}{l} \n",
    "k^{-1} {q} + \\nabla p = {- \\rho g \\nabla y}\\\\\n",
    "p_t + \\nabla \\cdot {q} = f\n",
    "\\end{array}\n",
    "&\\text{in } \\Omega \\times (0,T)\n",
    "\\end{array}\n",
    "\\right.\n",
    "$$\n",
    "with boundary conditions:\n",
    "$$ p = 0 \\text{ on } \\partial_{top} \\Omega \\times (0,T] \\qquad p = \\rho g \\text{ on } \\partial_{bottom} \\Omega \\times (0,T] \\qquad \\nu \\cdot q = 0 \\text{ on } \\partial_{left} \\Omega \\cup \\partial_{right} \\Omega \\times (0,T] $$\n",
    "and initial conditions:\n",
    "$$ p|_{t=0} = (1-y) \\rho g \\text{ in } \\Omega \\qquad q|_{t=0} = 0 \\text{ in } \\Omega $$\n",
    "\n",
    "We present *step-by-step* how to create the grid, declare the problem data, and finally solve the problem."
   ]
  },
  {
   "cell_type": "markdown",
   "id": "planned-danger",
   "metadata": {},
   "source": [
    "First we import some of the standard modules, like `numpy` and `scipy.sparse`. Since PyGeoN is based on [PorePy](https://github.com/pmgbergen/porepy) we import both modules."
   ]
  },
  {
   "cell_type": "code",
   "execution_count": 1,
   "metadata": {},
   "outputs": [],
   "source": [
    "%load_ext Cython"
   ]
  },
  {
   "cell_type": "code",
   "execution_count": 2,
   "id": "dietary-perth",
   "metadata": {},
   "outputs": [
    {
     "name": "stderr",
     "output_type": "stream",
     "text": [
      "/opt/conda/lib/python3.11/site-packages/porepy/numerics/nonlinear/nonlinear_solvers.py:13: TqdmExperimentalWarning: Using `tqdm.autonotebook.tqdm` in notebook mode. Use `tqdm.tqdm` instead to force console mode (e.g. in jupyter console)\n",
      "  from tqdm.autonotebook import trange  # type: ignore\n"
     ]
    }
   ],
   "source": [
    "import shutil\n",
    "import os\n",
    "\n",
    "import numpy as np\n",
    "import scipy.sparse as sps\n",
    "import scipy.integrate as integrate\n",
    "\n",
    "import porepy as pp\n",
    "import pygeon as pg\n",
    "\n",
    "import sympy as sp\n",
    "\n",
    "from math import ceil, floor, log10, exp"
   ]
  },
  {
   "cell_type": "markdown",
   "metadata": {},
   "source": [
    "For a manual import:\n",
    "\n",
    "import sys\n",
    "sys.path.append('/path/to/repository')"
   ]
  },
  {
   "cell_type": "code",
   "execution_count": 3,
   "metadata": {},
   "outputs": [],
   "source": [
    "from utilities.assembly_utilities import find_ordering, experimental_local_A, experimental_local_Mh, transoform_nodal_func_to_physical_element\n",
    "from richards.model_params import Model_Data"
   ]
  },
  {
   "attachments": {},
   "cell_type": "markdown",
   "id": "b085b08e",
   "metadata": {},
   "source": [
    "### Parameters"
   ]
  },
  {
   "cell_type": "code",
   "execution_count": 4,
   "id": "spectacular-saturn",
   "metadata": {},
   "outputs": [],
   "source": [
    "# Set the maximum number of iterations of the non-linear solver\n",
    "K = 50\n",
    "\n",
    "# L-scheme parameter\n",
    "L = 3.501e-2 #0.1\n",
    "\n",
    "# Set the mesh refinment\n",
    "N = 10\n",
    "\n",
    "# Set the number of steps (excluding the initial condition)\n",
    "num_steps = 9\n",
    "\n",
    "quad_order = 3\n",
    "\n",
    "# Simulation time length\n",
    "T = 9/48\n",
    "\n",
    "# Time switch conditions (for the boundary condition)\n",
    "dt_D = 3/48\n",
    "\n",
    "# Fluid density\n",
    "rho = 1000\n",
    "\n",
    "# Relative and absolute tolerances for the non-linear solver\n",
    "abs_tol = 1e-10\n",
    "rel_tol = 1e-5\n",
    "\n",
    "# Domain tolerance\n",
    "domain_tolerance = 1 / (10 * N)\n",
    "\n",
    "# Output directory\n",
    "output_directory = 'lagrange_hard_coupling'"
   ]
  },
  {
   "cell_type": "code",
   "execution_count": 5,
   "metadata": {},
   "outputs": [],
   "source": [
    "def initial_h(x): return 1"
   ]
  },
  {
   "cell_type": "code",
   "execution_count": 6,
   "metadata": {},
   "outputs": [],
   "source": [
    "# Van Genuchten model parameters ( relative permeability model )\n",
    "model_data = Model_Data(theta_r=0.131, theta_s=0.396, alpha=0.423, n=2.06, K_s=4.96e-2, T=T, num_steps=num_steps)"
   ]
  },
  {
   "cell_type": "code",
   "execution_count": 7,
   "metadata": {},
   "outputs": [],
   "source": [
    "# Time step\n",
    "dt   = (T-0)/num_steps"
   ]
  },
  {
   "cell_type": "markdown",
   "metadata": {},
   "source": [
    "### Mesh"
   ]
  },
  {
   "cell_type": "code",
   "execution_count": 8,
   "id": "c7805603",
   "metadata": {},
   "outputs": [],
   "source": [
    "bottom_grid =   pp.StructuredTriangleGrid([2*N, N], [2, 1])\n",
    "bottom_grid.compute_geometry()"
   ]
  },
  {
   "cell_type": "code",
   "execution_count": 9,
   "metadata": {},
   "outputs": [],
   "source": [
    "top_grid    = pp.StructuredTriangleGrid([2*N, 2*N], [2, 2])\n",
    "top_grid.compute_geometry()"
   ]
  },
  {
   "cell_type": "code",
   "execution_count": 10,
   "id": "40da1548",
   "metadata": {},
   "outputs": [],
   "source": [
    "boundary_grid, boundary_face_map, boundary_node_map  = pp.partition.extract_subgrid(bottom_grid, \n",
    "                                                                                    bottom_grid.face_centers[1, :] == 1, \n",
    "                                                                                    faces=True)"
   ]
  },
  {
   "cell_type": "markdown",
   "metadata": {},
   "source": [
    "### Discretization"
   ]
  },
  {
   "cell_type": "code",
   "execution_count": 11,
   "id": "365807cf",
   "metadata": {},
   "outputs": [],
   "source": [
    "key = \"flow\""
   ]
  },
  {
   "cell_type": "code",
   "execution_count": 12,
   "id": "ab8743e4",
   "metadata": {},
   "outputs": [],
   "source": [
    "top_field = pg.Lagrange1(key)\n",
    "top_data = {}\n",
    "\n",
    "top_dof =  top_field.ndof( top_grid )"
   ]
  },
  {
   "cell_type": "code",
   "execution_count": 13,
   "id": "cdbbbf41",
   "metadata": {},
   "outputs": [],
   "source": [
    "bottom_field = pg.Lagrange1(key)\n",
    "bottom_data = {}\n",
    "\n",
    "bottom_dof = bottom_field.ndof( bottom_grid )"
   ]
  },
  {
   "cell_type": "code",
   "execution_count": 14,
   "id": "4ae57861",
   "metadata": {},
   "outputs": [],
   "source": [
    "boundary_field = pg.Lagrange1(key)\n",
    "boundary_data = {}\n",
    "\n",
    "boundary_dof = boundary_field.ndof( boundary_grid )"
   ]
  },
  {
   "cell_type": "markdown",
   "metadata": {},
   "source": [
    "### Restrictor Matrices"
   ]
  },
  {
   "cell_type": "code",
   "execution_count": 15,
   "metadata": {},
   "outputs": [],
   "source": [
    "bottom_delete_boundary_dof = np.zeros( shape=(bottom_dof - boundary_dof, bottom_dof) )\n",
    "bottom_delete_boundary_dof[np.arange(bottom_dof - boundary_dof), bottom_grid.nodes[1, :] < 1] = 1\n",
    "bottom_delete_boundary_dof = sps.csr_matrix(bottom_delete_boundary_dof)"
   ]
  },
  {
   "cell_type": "code",
   "execution_count": 16,
   "metadata": {},
   "outputs": [],
   "source": [
    "bottom_isolate_boundary_dof = np.zeros(shape=(boundary_dof, bottom_dof))\n",
    "bottom_isolate_boundary_dof[np.arange(boundary_dof), bottom_grid.nodes[1, :] == 1] = 1\n",
    "bottom_isolate_boundary_dof = sps.csr_matrix(bottom_isolate_boundary_dof)"
   ]
  },
  {
   "cell_type": "code",
   "execution_count": 17,
   "metadata": {},
   "outputs": [],
   "source": [
    "top_delete_boundary_dof = np.zeros( shape=(top_dof - boundary_dof, top_dof) )\n",
    "top_delete_boundary_dof[np.arange(top_dof - boundary_dof), top_grid.nodes[1, :] > 0] = 1\n",
    "top_delete_boundary_dof = sps.csr_matrix(top_delete_boundary_dof)"
   ]
  },
  {
   "cell_type": "code",
   "execution_count": 18,
   "metadata": {},
   "outputs": [],
   "source": [
    "top_isolate_boundary_dof = np.zeros(shape=(boundary_dof, top_dof))\n",
    "top_isolate_boundary_dof[np.arange(boundary_dof), top_grid.nodes[1, :] == 0] = 1\n",
    "top_isolate_boundary_dof = sps.csr_matrix(top_isolate_boundary_dof)"
   ]
  },
  {
   "cell_type": "markdown",
   "metadata": {},
   "source": [
    "### BCs"
   ]
  },
  {
   "cell_type": "code",
   "execution_count": 19,
   "metadata": {},
   "outputs": [],
   "source": [
    "bot_dirichlet_flag  = np.array(bottom_delete_boundary_dof @ np.logical_and( bottom_grid.nodes[0, :] == 2, bottom_grid.nodes[1, :] <= 1 ), dtype=bool)\n",
    "bot_dirichlet_value = np.array(bot_dirichlet_flag, dtype=float)"
   ]
  },
  {
   "cell_type": "code",
   "execution_count": 20,
   "metadata": {},
   "outputs": [],
   "source": [
    "top_dirichlet_flag  = np.array(top_delete_boundary_dof @ np.logical_and( top_grid.nodes[1, :] == 2, top_grid.nodes[0, :] <= 1 ), dtype=bool)\n",
    "top_dirichlet_value = lambda t: np.array(top_dirichlet_flag, dtype=float) * min( 3.2, 1 + 2.2 * t / dt_D )"
   ]
  },
  {
   "cell_type": "code",
   "execution_count": 21,
   "metadata": {},
   "outputs": [],
   "source": [
    "dirichlet_flag  = np.hstack(( bot_dirichlet_flag, np.zeros(shape=boundary_dof, dtype=bool), top_dirichlet_flag, np.zeros(shape=boundary_dof, dtype=bool)))\n",
    "dirichlet_value = lambda t: np.hstack(( bot_dirichlet_value, np.zeros(shape=boundary_dof), top_dirichlet_value(t), np.zeros(shape=boundary_dof, dtype=bool)))"
   ]
  },
  {
   "cell_type": "markdown",
   "metadata": {},
   "source": [
    "### Matrix Assembly"
   ]
  },
  {
   "cell_type": "markdown",
   "metadata": {},
   "source": [
    "##### Projection matrices"
   ]
  },
  {
   "cell_type": "code",
   "execution_count": 22,
   "id": "0048c319",
   "metadata": {},
   "outputs": [],
   "source": [
    "top_proj    = top_field.eval_at_cell_centers( top_grid )\n",
    "bottom_proj = bottom_field.eval_at_cell_centers( bottom_grid )"
   ]
  },
  {
   "cell_type": "markdown",
   "metadata": {},
   "source": [
    "##### Stifness"
   ]
  },
  {
   "cell_type": "code",
   "execution_count": 23,
   "metadata": {},
   "outputs": [],
   "source": [
    "def bottom_stifness_gen():\n",
    "    size = np.power(bottom_grid.dim + 1, 2) * bottom_grid.num_cells\n",
    "    rows_I = np.empty(size, dtype=int)\n",
    "    cols_J = np.empty(size, dtype=int)\n",
    "    data_IJ = np.empty(size)\n",
    "    idx = 0\n",
    "\n",
    "    _, _, _, _, _, node_coords = pp.map_geometry.map_grid(bottom_grid)\n",
    "\n",
    "    # Allocate the data to store matrix entries, that's the most efficient\n",
    "    # way to create a sparse matrix.\n",
    "\n",
    "    cell_nodes = bottom_grid.cell_nodes()\n",
    "\n",
    "    for c in np.arange(bottom_grid.num_cells):\n",
    "        # For the current cell retrieve its nodes\n",
    "        loc = slice(cell_nodes.indptr[c], cell_nodes.indptr[c + 1])\n",
    "\n",
    "        nodes_loc = cell_nodes.indices[loc]\n",
    "        coord_loc = node_coords[:, nodes_loc]\n",
    "\n",
    "        # Compute the stiff-H1 local matrix\n",
    "\n",
    "        A = experimental_local_A(coord_loc, lambda x,y: model_data.K_s * np.eye(2), quad_order)\n",
    "        \n",
    "        # Save values for stiff-H1 local matrix in the global structure\n",
    "        cols = np.tile(nodes_loc, (nodes_loc.size, 1))\n",
    "\n",
    "        loc_idx = slice(idx, idx + cols.size)\n",
    "        rows_I[loc_idx] = cols.T.ravel()\n",
    "        cols_J[loc_idx] = cols.ravel()\n",
    "        data_IJ[loc_idx] = A.ravel()\n",
    "        idx += cols.size\n",
    "\n",
    "    # Construct the global matrices\n",
    "    return sps.csc_matrix((data_IJ, (rows_I, cols_J)))"
   ]
  },
  {
   "cell_type": "code",
   "execution_count": 24,
   "metadata": {},
   "outputs": [],
   "source": [
    "def top_stifness_gen(h_dofs):\n",
    "    size = np.power(top_grid.dim + 1, 2) * top_grid.num_cells\n",
    "    rows_I = np.empty(size, dtype=int)\n",
    "    cols_J = np.empty(size, dtype=int)\n",
    "    data_IJ = np.empty(size)\n",
    "    idx = 0\n",
    "\n",
    "    _, _, _, _, _, node_coords = pp.map_geometry.map_grid(top_grid)\n",
    "\n",
    "    # Allocate the data to store matrix entries, that's the most efficient\n",
    "    # way to create a sparse matrix.\n",
    "\n",
    "    cell_nodes = top_grid.cell_nodes()\n",
    "\n",
    "    for c in np.arange(top_grid.num_cells):\n",
    "        # For the current cell retrieve its nodes\n",
    "        loc = slice(cell_nodes.indptr[c], cell_nodes.indptr[c + 1])\n",
    "\n",
    "        nodes_loc = cell_nodes.indices[loc]\n",
    "        coord_loc = node_coords[:, nodes_loc]\n",
    "\n",
    "        # Compute the stiff-H1 local matrix\n",
    "\n",
    "        h_func = transoform_nodal_func_to_physical_element(h_dofs[nodes_loc], coord_loc)\n",
    "        A = experimental_local_A(coord_loc, lambda x,y: model_data.hydraulic_conductivity_coefficient(h_func(x,y), 1+y) * np.eye(2), quad_order)\n",
    "        \n",
    "        # Save values for stiff-H1 local matrix in the global structure\n",
    "        cols = np.tile(nodes_loc, (nodes_loc.size, 1))\n",
    "\n",
    "        loc_idx = slice(idx, idx + cols.size)\n",
    "        rows_I[loc_idx] = cols.T.ravel()\n",
    "        cols_J[loc_idx] = cols.ravel()\n",
    "        data_IJ[loc_idx] = A.ravel()\n",
    "        idx += cols.size\n",
    "\n",
    "    # Construct the global matrices\n",
    "    return sps.csc_matrix((data_IJ, (rows_I, cols_J)))"
   ]
  },
  {
   "cell_type": "markdown",
   "metadata": {},
   "source": [
    "##### Mass"
   ]
  },
  {
   "cell_type": "code",
   "execution_count": 25,
   "metadata": {},
   "outputs": [],
   "source": [
    "def bottom_mass_gen():\n",
    "    size = np.power(bottom_grid.dim + 1, 2) * bottom_grid.num_cells\n",
    "    rows_I = np.empty(size, dtype=int)\n",
    "    cols_J = np.empty(size, dtype=int)\n",
    "    data_IJ = np.empty(size)\n",
    "    idx = 0\n",
    "\n",
    "    _, _, _, _, _, node_coords = pp.map_geometry.map_grid(bottom_grid)\n",
    "\n",
    "    # Allocate the data to store matrix entries, that's the most efficient\n",
    "    # way to create a sparse matrix.\n",
    "\n",
    "    cell_nodes = bottom_grid.cell_nodes()\n",
    "\n",
    "    for c in np.arange(bottom_grid.num_cells):\n",
    "        # For the current cell retrieve its nodes\n",
    "        loc = slice(cell_nodes.indptr[c], cell_nodes.indptr[c + 1])\n",
    "\n",
    "        nodes_loc = cell_nodes.indices[loc]\n",
    "        coord_loc = node_coords[:, nodes_loc]\n",
    "\n",
    "        # Compute the stiff-H1 local matrix\n",
    "        A = experimental_local_Mh(coord_loc, lambda x,y: 1, quad_order)\n",
    "\n",
    "        # Save values for stiff-H1 local matrix in the global structure\n",
    "        cols = np.tile(nodes_loc, (nodes_loc.size, 1))\n",
    "\n",
    "        loc_idx = slice(idx, idx + cols.size)\n",
    "        rows_I[loc_idx] = cols.T.ravel()\n",
    "        cols_J[loc_idx] = cols.ravel()\n",
    "        data_IJ[loc_idx] = A.ravel()\n",
    "        idx += cols.size\n",
    "\n",
    "    # Construct the global matrices\n",
    "    return sps.csc_matrix((data_IJ, (rows_I, cols_J)))"
   ]
  },
  {
   "cell_type": "code",
   "execution_count": 26,
   "metadata": {},
   "outputs": [],
   "source": [
    "def top_mass_gen():\n",
    "    size = np.power(top_grid.dim + 1, 2) * top_grid.num_cells\n",
    "    rows_I = np.empty(size, dtype=int)\n",
    "    cols_J = np.empty(size, dtype=int)\n",
    "    data_IJ = np.empty(size)\n",
    "    idx = 0\n",
    "\n",
    "    _, _, _, _, _, node_coords = pp.map_geometry.map_grid(top_grid)\n",
    "\n",
    "    # Allocate the data to store matrix entries, that's the most efficient\n",
    "    # way to create a sparse matrix.\n",
    "\n",
    "    cell_nodes = top_grid.cell_nodes()\n",
    "\n",
    "    for c in np.arange(top_grid.num_cells):\n",
    "        # For the current cell retrieve its nodes\n",
    "        loc = slice(cell_nodes.indptr[c], cell_nodes.indptr[c + 1])\n",
    "\n",
    "        nodes_loc = cell_nodes.indices[loc]\n",
    "        coord_loc = node_coords[:, nodes_loc]\n",
    "\n",
    "        # Compute the stiff-H1 local matrix\n",
    "        A = experimental_local_Mh(coord_loc, lambda x,y: 1, quad_order)\n",
    "\n",
    "        # Save values for stiff-H1 local matrix in the global structure\n",
    "        cols = np.tile(nodes_loc, (nodes_loc.size, 1))\n",
    "\n",
    "        loc_idx = slice(idx, idx + cols.size)\n",
    "        rows_I[loc_idx] = cols.T.ravel()\n",
    "        cols_J[loc_idx] = cols.ravel()\n",
    "        data_IJ[loc_idx] = A.ravel()\n",
    "        idx += cols.size\n",
    "\n",
    "    # Construct the global matrices\n",
    "    return sps.csc_matrix((data_IJ, (rows_I, cols_J)))"
   ]
  },
  {
   "cell_type": "markdown",
   "metadata": {},
   "source": [
    "### Solving stage"
   ]
  },
  {
   "cell_type": "code",
   "execution_count": 27,
   "id": "45b3ca59",
   "metadata": {},
   "outputs": [],
   "source": [
    "# assemble initial solution\n",
    "initial_solution = np.zeros(top_dof + bottom_dof)"
   ]
  },
  {
   "cell_type": "code",
   "execution_count": 28,
   "metadata": {},
   "outputs": [],
   "source": [
    "bottom_mask = np.zeros_like(initial_solution, dtype=bool)\n",
    "bottom_mask[ : (bottom_dof) ] = True\n",
    "\n",
    "internal_bottom_mask = np.zeros_like(bottom_mask, dtype=bool)\n",
    "internal_bottom_mask[ : (bottom_dof - boundary_dof)] = True\n",
    "\n",
    "top_mask = np.zeros_like(initial_solution, dtype=bool)\n",
    "top_mask[(bottom_dof - boundary_dof) : (bottom_dof + top_dof - boundary_dof)] = True\n",
    "\n",
    "internal_top_mask = np.zeros_like(bottom_mask, dtype=bool)\n",
    "internal_top_mask[ bottom_dof : (bottom_dof + top_dof - boundary_dof)] = True\n",
    "\n",
    "boundary_mask = np.zeros_like(bottom_mask, dtype=bool)\n",
    "boundary_mask[(bottom_dof - boundary_dof) : bottom_dof] = True\n",
    "\n",
    "lambda_mask = np.zeros_like(bottom_mask, dtype=bool)\n",
    "lambda_mask[(bottom_dof + top_dof - boundary_dof):] = True"
   ]
  },
  {
   "cell_type": "code",
   "execution_count": 29,
   "id": "f174d69c",
   "metadata": {},
   "outputs": [],
   "source": [
    "initial_solution[top_mask]    =    top_field.interpolate(   top_grid, lambda x: 1)\n",
    "initial_solution[bottom_mask] = bottom_field.interpolate(bottom_grid, lambda x: 1)"
   ]
  },
  {
   "cell_type": "code",
   "execution_count": 30,
   "id": "5d786595",
   "metadata": {},
   "outputs": [],
   "source": [
    "top_saver    = pp.Exporter(top_grid,    \"top_sol\", folder_name=output_directory)\n",
    "bottom_saver = pp.Exporter(bottom_grid, \"bottom_sol\", folder_name=output_directory)\n",
    "\n",
    "def save_step(current_sol, step):\n",
    "    ins = list()\n",
    "\n",
    "    ins.append((top_grid, \"cell_h\", top_proj @ current_sol[top_mask]))\n",
    "    ins.append((top_grid, \"cell_p\", top_proj @ (current_sol[top_mask] - 1 - top_grid.nodes[1, :])))\n",
    "    top_saver.write_vtu(ins, time_step=step)\n",
    "\n",
    "    ins = list()\n",
    "\n",
    "    ins.append((bottom_grid, \"cell_h\", bottom_proj @ current_sol[bottom_mask]))\n",
    "    ins.append((bottom_grid, \"cell_p\", bottom_proj @ (current_sol[bottom_mask] - bottom_grid.nodes[1, :])))\n",
    "    bottom_saver.write_vtu(ins, time_step=step)"
   ]
  },
  {
   "cell_type": "code",
   "execution_count": 31,
   "id": "cf8b64a0",
   "metadata": {},
   "outputs": [],
   "source": [
    "if os.path.exists(output_directory):\n",
    "    shutil.rmtree(output_directory)"
   ]
  },
  {
   "cell_type": "code",
   "execution_count": 32,
   "id": "subtle-wonder",
   "metadata": {},
   "outputs": [],
   "source": [
    "# solve the problem\n",
    "\n",
    "sol = [initial_solution]\n",
    "\n",
    "t = 0\n",
    "\n",
    "save_step(sol[-1], 0)"
   ]
  },
  {
   "cell_type": "code",
   "execution_count": 33,
   "metadata": {},
   "outputs": [],
   "source": [
    "csv_base = os.path.join(output_directory, 'csv')\n",
    "\n",
    "if os.path.exists(csv_base):\n",
    "    shutil.rmtree(csv_base)\n",
    "    \n",
    "os.mkdir(csv_base)"
   ]
  },
  {
   "cell_type": "code",
   "execution_count": 34,
   "metadata": {},
   "outputs": [],
   "source": [
    "def bottom_normal_continuity_matrix():\n",
    "    data = []\n",
    "    cols = []\n",
    "    rows = []\n",
    "    _, _, _, _, _, node_coords = pp.map_geometry.map_grid(bottom_grid)\n",
    "\n",
    "    # Allocate the data to store matrix entries, that's the most efficient\n",
    "    # way to create a sparse matrix.\n",
    "\n",
    "    cell_nodes = bottom_grid.cell_nodes()\n",
    "\n",
    "    for c in np.arange(bottom_grid.num_cells):\n",
    "        # For the current cell retrieve its nodes\n",
    "        loc = slice(cell_nodes.indptr[c], cell_nodes.indptr[c + 1])\n",
    "\n",
    "        nodes_loc = cell_nodes.indices[loc]\n",
    "        coord_loc = node_coords[:, nodes_loc]\n",
    "\n",
    "        if np.abs(np.max(coord_loc[1, :]) - 1) < 1e-7:\n",
    "            \n",
    "            ordering, m = find_ordering(coord_loc)\n",
    "\n",
    "            if m < 0:\n",
    "                eta_cell = np.max(np.where( boundary_grid.nodes[0, :] < bottom_grid.cell_centers[0, c] ))\n",
    "\n",
    "                ordered_coords = coord_loc[:, ordering]\n",
    "\n",
    "                x0 = ordered_coords[:, 0]\n",
    "                x1 = ordered_coords[:, 1]\n",
    "                x2 = ordered_coords[:, 2]\n",
    "                \n",
    "                q_funcs = [model_data.K_s * np.array([-1/(x2[0] - x0[0]), -1/(x1[1] - x0[1])]), \n",
    "                           model_data.K_s * np.array([                 0,  1/(x1[1] - x0[1])]), \n",
    "                           model_data.K_s * np.array([ 1/(x2[0] - x0[0]),                  0])]\n",
    "            \n",
    "                for i in range(3):\n",
    "                    rows.append(eta_cell)\n",
    "                    cols.append(nodes_loc[ ordering[i] ])\n",
    "                    data.append(q_funcs[i].T @ np.array([0, 1]) * (x2[0] - x0[0]) / 2)\n",
    "\n",
    "                    rows.append(eta_cell+1)\n",
    "                    cols.append(nodes_loc[ ordering[i] ])\n",
    "                    data.append(q_funcs[i].T @ np.array([0, 1]) * (x2[0] - x0[0]) / 2)\n",
    "\n",
    "    \n",
    "    return sps.coo_matrix((np.array(data), (np.array(rows), np.array(cols))), shape=(boundary_dof, bottom_grid.num_nodes))"
   ]
  },
  {
   "cell_type": "code",
   "execution_count": 35,
   "metadata": {},
   "outputs": [],
   "source": [
    "def top_normal_continuity_matrix(h_dofs):\n",
    "    data = []\n",
    "    cols = []\n",
    "    rows = []\n",
    "    _, _, _, _, _, node_coords = pp.map_geometry.map_grid(top_grid)\n",
    "\n",
    "    # Allocate the data to store matrix entries, that's the most efficient\n",
    "    # way to create a sparse matrix.\n",
    "\n",
    "    cell_nodes = top_grid.cell_nodes()\n",
    "\n",
    "    for c in np.arange(top_grid.num_cells):\n",
    "        # For the current cell retrieve its nodes\n",
    "        loc = slice(cell_nodes.indptr[c], cell_nodes.indptr[c + 1])\n",
    "\n",
    "        nodes_loc = cell_nodes.indices[loc]\n",
    "        coord_loc = node_coords[:, nodes_loc]\n",
    "\n",
    "        if np.abs(np.min(coord_loc[1, :]) - 0) < 1e-7:\n",
    "            ordering, m = find_ordering(coord_loc)\n",
    "\n",
    "            if m > 0:\n",
    "                eta_cell = np.max(np.where( boundary_grid.nodes[0, :] < top_grid.cell_centers[0, c] ))\n",
    "\n",
    "                ordered_coords = coord_loc[:, ordering]\n",
    "\n",
    "                h_ord = h_dofs[nodes_loc][ordering]\n",
    "\n",
    "                x0 = ordered_coords[:, 0]\n",
    "                x1 = ordered_coords[:, 1]\n",
    "                x2 = ordered_coords[:, 2]\n",
    "\n",
    "                h_mean = (h_ord[0] + h_ord[2]) / 2\n",
    "\n",
    "                q_funcs = [model_data.hydraulic_conductivity_coefficient(h_mean, 1) * np.array([-1/(x2[0] - x0[0]), -1/(x1[1] - x0[1])]), \n",
    "                           model_data.hydraulic_conductivity_coefficient(h_mean, 1) * np.array([                 0,  1/(x1[1] - x0[1])]), \n",
    "                           model_data.hydraulic_conductivity_coefficient(h_mean, 1) * np.array([ 1/(x2[0] - x0[0]),                  0])]\n",
    "            \n",
    "                for i in range(3):\n",
    "                    rows.append(eta_cell)\n",
    "                    cols.append(nodes_loc[ ordering[i] ])\n",
    "                    data.append(q_funcs[i].T @ np.array([0, 1]) * (x2[0] - x0[0]) / 2)\n",
    "\n",
    "                    rows.append(eta_cell+1)\n",
    "                    cols.append(nodes_loc[ ordering[i] ])\n",
    "                    data.append(q_funcs[i].T @ np.array([0, 1]) * (x2[0] - x0[0]) / 2)\n",
    "\n",
    "    \n",
    "    return sps.coo_matrix((np.array(data), (np.array(rows), np.array(cols))), shape=(boundary_dof, top_grid.num_nodes))"
   ]
  },
  {
   "cell_type": "code",
   "execution_count": 36,
   "metadata": {},
   "outputs": [],
   "source": [
    "top_mass = top_mass_gen()\n",
    "bottom_mass_gen = bottom_mass_gen()"
   ]
  },
  {
   "cell_type": "code",
   "execution_count": 37,
   "metadata": {},
   "outputs": [],
   "source": [
    "bottom_stifness = bottom_stifness_gen()"
   ]
  },
  {
   "cell_type": "code",
   "execution_count": 38,
   "metadata": {},
   "outputs": [],
   "source": [
    "bottom_vel = bottom_normal_continuity_matrix()"
   ]
  },
  {
   "cell_type": "code",
   "execution_count": 39,
   "metadata": {},
   "outputs": [
    {
     "name": "stdout",
     "output_type": "stream",
     "text": [
      "Time 0.02083\n",
      "Iteration #001, error L2 relative psi: 1013.71629997337436\n"
     ]
    },
    {
     "name": "stderr",
     "output_type": "stream",
     "text": [
      "<lambdifygenerated-1>:2: RuntimeWarning: invalid value encountered in power\n",
      "  return select([less(h, z),True], [0.265*(0.1699265174169*(-h + z)**2.06 + 1)**(-0.514563106796116) + 0.131,0.396], default=nan)\n",
      "<lambdifygenerated-2>:2: RuntimeWarning: invalid value encountered in scalar power\n",
      "  return select([less(h, z),True], [0.0496*(1 - (1 - 1.0*(0.1699265174169*(-h + z)**2.06 + 1)**(-1.0))**0.514563106796116)**2*(0.1699265174169*(-h + z)**2.06 + 1)**(-0.257281553398058),0.0496], default=nan)\n"
     ]
    },
    {
     "ename": "KeyboardInterrupt",
     "evalue": "",
     "output_type": "error",
     "traceback": [
      "\u001b[0;31m---------------------------------------------------------------------------\u001b[0m",
      "\u001b[0;31mKeyboardInterrupt\u001b[0m                         Traceback (most recent call last)",
      "\u001b[1;32m/workspaces/richards/tests/primal_test/Simple Coupling/Darcy-Richards/hard_coupling_lagrange.ipynb Cell 52\u001b[0m line \u001b[0;36m1\n\u001b[1;32m     <a href='vscode-notebook-cell://dev-container%2B7b22686f737450617468223a22653a5c5c56697375616c2053747564696f20436f64655c5c7269636861726473222c226c6f63616c446f636b6572223a66616c73652c22636f6e66696746696c65223a7b22246d6964223a312c22667350617468223a22653a5c5c56697375616c2053747564696f20436f64655c5c72696368617264735c5c2e646576636f6e7461696e65725c5c646576636f6e7461696e65722e6a736f6e222c225f736570223a312c2265787465726e616c223a2266696c653a2f2f2f652533412f56697375616c25323053747564696f253230436f64652f72696368617264732f2e646576636f6e7461696e65722f646576636f6e7461696e65722e6a736f6e222c2270617468223a222f653a2f56697375616c2053747564696f20436f64652f72696368617264732f2e646576636f6e7461696e65722f646576636f6e7461696e65722e6a736f6e222c22736368656d65223a2266696c65227d7d/workspaces/richards/tests/primal_test/Simple%20Coupling/Darcy-Richards/hard_coupling_lagrange.ipynb#X63sdnNjb2RlLXJlbW90ZQ%3D%3D?line=15'>16</a>\u001b[0m rhs[top_mask] \u001b[39m-\u001b[39m\u001b[39m=\u001b[39m top_mass \u001b[39m@\u001b[39m model_data\u001b[39m.\u001b[39mtheta(prev[top_mask], \u001b[39m1\u001b[39m \u001b[39m+\u001b[39m top_grid\u001b[39m.\u001b[39mnodes[\u001b[39m1\u001b[39m,:]) \u001b[39m/\u001b[39m dt\n\u001b[1;32m     <a href='vscode-notebook-cell://dev-container%2B7b22686f737450617468223a22653a5c5c56697375616c2053747564696f20436f64655c5c7269636861726473222c226c6f63616c446f636b6572223a66616c73652c22636f6e66696746696c65223a7b22246d6964223a312c22667350617468223a22653a5c5c56697375616c2053747564696f20436f64655c5c72696368617264735c5c2e646576636f6e7461696e65725c5c646576636f6e7461696e65722e6a736f6e222c225f736570223a312c2265787465726e616c223a2266696c653a2f2f2f652533412f56697375616c25323053747564696f253230436f64652f72696368617264732f2e646576636f6e7461696e65722f646576636f6e7461696e65722e6a736f6e222c2270617468223a222f653a2f56697375616c2053747564696f20436f64652f72696368617264732f2e646576636f6e7461696e65722f646576636f6e7461696e65722e6a736f6e222c22736368656d65223a2266696c65227d7d/workspaces/richards/tests/primal_test/Simple%20Coupling/Darcy-Richards/hard_coupling_lagrange.ipynb#X63sdnNjb2RlLXJlbW90ZQ%3D%3D?line=17'>18</a>\u001b[0m bottom_mat \u001b[39m=\u001b[39m bottom_stifness\n\u001b[0;32m---> <a href='vscode-notebook-cell://dev-container%2B7b22686f737450617468223a22653a5c5c56697375616c2053747564696f20436f64655c5c7269636861726473222c226c6f63616c446f636b6572223a66616c73652c22636f6e66696746696c65223a7b22246d6964223a312c22667350617468223a22653a5c5c56697375616c2053747564696f20436f64655c5c72696368617264735c5c2e646576636f6e7461696e65725c5c646576636f6e7461696e65722e6a736f6e222c225f736570223a312c2265787465726e616c223a2266696c653a2f2f2f652533412f56697375616c25323053747564696f253230436f64652f72696368617264732f2e646576636f6e7461696e65722f646576636f6e7461696e65722e6a736f6e222c2270617468223a222f653a2f56697375616c2053747564696f20436f64652f72696368617264732f2e646576636f6e7461696e65722f646576636f6e7461696e65722e6a736f6e222c22736368656d65223a2266696c65227d7d/workspaces/richards/tests/primal_test/Simple%20Coupling/Darcy-Richards/hard_coupling_lagrange.ipynb#X63sdnNjb2RlLXJlbW90ZQ%3D%3D?line=18'>19</a>\u001b[0m top_stifness \u001b[39m=\u001b[39m top_stifness_gen(prev[top_mask])\n\u001b[1;32m     <a href='vscode-notebook-cell://dev-container%2B7b22686f737450617468223a22653a5c5c56697375616c2053747564696f20436f64655c5c7269636861726473222c226c6f63616c446f636b6572223a66616c73652c22636f6e66696746696c65223a7b22246d6964223a312c22667350617468223a22653a5c5c56697375616c2053747564696f20436f64655c5c72696368617264735c5c2e646576636f6e7461696e65725c5c646576636f6e7461696e65722e6a736f6e222c225f736570223a312c2265787465726e616c223a2266696c653a2f2f2f652533412f56697375616c25323053747564696f253230436f64652f72696368617264732f2e646576636f6e7461696e65722f646576636f6e7461696e65722e6a736f6e222c2270617468223a222f653a2f56697375616c2053747564696f20436f64652f72696368617264732f2e646576636f6e7461696e65722f646576636f6e7461696e65722e6a736f6e222c22736368656d65223a2266696c65227d7d/workspaces/richards/tests/primal_test/Simple%20Coupling/Darcy-Richards/hard_coupling_lagrange.ipynb#X63sdnNjb2RlLXJlbW90ZQ%3D%3D?line=20'>21</a>\u001b[0m top_mat \u001b[39m=\u001b[39m top_stifness \u001b[39m+\u001b[39m L \u001b[39m/\u001b[39m dt \u001b[39m*\u001b[39m top_mass\n\u001b[1;32m     <a href='vscode-notebook-cell://dev-container%2B7b22686f737450617468223a22653a5c5c56697375616c2053747564696f20436f64655c5c7269636861726473222c226c6f63616c446f636b6572223a66616c73652c22636f6e66696746696c65223a7b22246d6964223a312c22667350617468223a22653a5c5c56697375616c2053747564696f20436f64655c5c72696368617264735c5c2e646576636f6e7461696e65725c5c646576636f6e7461696e65722e6a736f6e222c225f736570223a312c2265787465726e616c223a2266696c653a2f2f2f652533412f56697375616c25323053747564696f253230436f64652f72696368617264732f2e646576636f6e7461696e65722f646576636f6e7461696e65722e6a736f6e222c2270617468223a222f653a2f56697375616c2053747564696f20436f64652f72696368617264732f2e646576636f6e7461696e65722f646576636f6e7461696e65722e6a736f6e222c22736368656d65223a2266696c65227d7d/workspaces/richards/tests/primal_test/Simple%20Coupling/Darcy-Richards/hard_coupling_lagrange.ipynb#X63sdnNjb2RlLXJlbW90ZQ%3D%3D?line=21'>22</a>\u001b[0m mid_mat \u001b[39m=\u001b[39m bottom_mat[boundary_mask, :][:, boundary_mask] \u001b[39m+\u001b[39m top_mat[boundary_mask, :][:, boundary_mask]\n",
      "\u001b[1;32m/workspaces/richards/tests/primal_test/Simple Coupling/Darcy-Richards/hard_coupling_lagrange.ipynb Cell 52\u001b[0m line \u001b[0;36m2\n\u001b[1;32m     <a href='vscode-notebook-cell://dev-container%2B7b22686f737450617468223a22653a5c5c56697375616c2053747564696f20436f64655c5c7269636861726473222c226c6f63616c446f636b6572223a66616c73652c22636f6e66696746696c65223a7b22246d6964223a312c22667350617468223a22653a5c5c56697375616c2053747564696f20436f64655c5c72696368617264735c5c2e646576636f6e7461696e65725c5c646576636f6e7461696e65722e6a736f6e222c225f736570223a312c2265787465726e616c223a2266696c653a2f2f2f652533412f56697375616c25323053747564696f253230436f64652f72696368617264732f2e646576636f6e7461696e65722f646576636f6e7461696e65722e6a736f6e222c2270617468223a222f653a2f56697375616c2053747564696f20436f64652f72696368617264732f2e646576636f6e7461696e65722f646576636f6e7461696e65722e6a736f6e222c22736368656d65223a2266696c65227d7d/workspaces/richards/tests/primal_test/Simple%20Coupling/Darcy-Richards/hard_coupling_lagrange.ipynb#X63sdnNjb2RlLXJlbW90ZQ%3D%3D?line=21'>22</a>\u001b[0m \u001b[39m# Compute the stiff-H1 local matrix\u001b[39;00m\n\u001b[1;32m     <a href='vscode-notebook-cell://dev-container%2B7b22686f737450617468223a22653a5c5c56697375616c2053747564696f20436f64655c5c7269636861726473222c226c6f63616c446f636b6572223a66616c73652c22636f6e66696746696c65223a7b22246d6964223a312c22667350617468223a22653a5c5c56697375616c2053747564696f20436f64655c5c72696368617264735c5c2e646576636f6e7461696e65725c5c646576636f6e7461696e65722e6a736f6e222c225f736570223a312c2265787465726e616c223a2266696c653a2f2f2f652533412f56697375616c25323053747564696f253230436f64652f72696368617264732f2e646576636f6e7461696e65722f646576636f6e7461696e65722e6a736f6e222c2270617468223a222f653a2f56697375616c2053747564696f20436f64652f72696368617264732f2e646576636f6e7461696e65722f646576636f6e7461696e65722e6a736f6e222c22736368656d65223a2266696c65227d7d/workspaces/richards/tests/primal_test/Simple%20Coupling/Darcy-Richards/hard_coupling_lagrange.ipynb#X63sdnNjb2RlLXJlbW90ZQ%3D%3D?line=23'>24</a>\u001b[0m h_func \u001b[39m=\u001b[39m transoform_nodal_func_to_physical_element(h_dofs[nodes_loc], coord_loc)\n\u001b[0;32m---> <a href='vscode-notebook-cell://dev-container%2B7b22686f737450617468223a22653a5c5c56697375616c2053747564696f20436f64655c5c7269636861726473222c226c6f63616c446f636b6572223a66616c73652c22636f6e66696746696c65223a7b22246d6964223a312c22667350617468223a22653a5c5c56697375616c2053747564696f20436f64655c5c72696368617264735c5c2e646576636f6e7461696e65725c5c646576636f6e7461696e65722e6a736f6e222c225f736570223a312c2265787465726e616c223a2266696c653a2f2f2f652533412f56697375616c25323053747564696f253230436f64652f72696368617264732f2e646576636f6e7461696e65722f646576636f6e7461696e65722e6a736f6e222c2270617468223a222f653a2f56697375616c2053747564696f20436f64652f72696368617264732f2e646576636f6e7461696e65722f646576636f6e7461696e65722e6a736f6e222c22736368656d65223a2266696c65227d7d/workspaces/richards/tests/primal_test/Simple%20Coupling/Darcy-Richards/hard_coupling_lagrange.ipynb#X63sdnNjb2RlLXJlbW90ZQ%3D%3D?line=24'>25</a>\u001b[0m A \u001b[39m=\u001b[39m experimental_local_A(coord_loc, \u001b[39mlambda\u001b[39;00m x,y: model_data\u001b[39m.\u001b[39mhydraulic_conductivity_coefficient(h_func(x,y), \u001b[39m1\u001b[39m\u001b[39m+\u001b[39my) \u001b[39m*\u001b[39m np\u001b[39m.\u001b[39meye(\u001b[39m2\u001b[39m), quad_order)\n\u001b[1;32m     <a href='vscode-notebook-cell://dev-container%2B7b22686f737450617468223a22653a5c5c56697375616c2053747564696f20436f64655c5c7269636861726473222c226c6f63616c446f636b6572223a66616c73652c22636f6e66696746696c65223a7b22246d6964223a312c22667350617468223a22653a5c5c56697375616c2053747564696f20436f64655c5c72696368617264735c5c2e646576636f6e7461696e65725c5c646576636f6e7461696e65722e6a736f6e222c225f736570223a312c2265787465726e616c223a2266696c653a2f2f2f652533412f56697375616c25323053747564696f253230436f64652f72696368617264732f2e646576636f6e7461696e65722f646576636f6e7461696e65722e6a736f6e222c2270617468223a222f653a2f56697375616c2053747564696f20436f64652f72696368617264732f2e646576636f6e7461696e65722f646576636f6e7461696e65722e6a736f6e222c22736368656d65223a2266696c65227d7d/workspaces/richards/tests/primal_test/Simple%20Coupling/Darcy-Richards/hard_coupling_lagrange.ipynb#X63sdnNjb2RlLXJlbW90ZQ%3D%3D?line=26'>27</a>\u001b[0m \u001b[39m# Save values for stiff-H1 local matrix in the global structure\u001b[39;00m\n\u001b[1;32m     <a href='vscode-notebook-cell://dev-container%2B7b22686f737450617468223a22653a5c5c56697375616c2053747564696f20436f64655c5c7269636861726473222c226c6f63616c446f636b6572223a66616c73652c22636f6e66696746696c65223a7b22246d6964223a312c22667350617468223a22653a5c5c56697375616c2053747564696f20436f64655c5c72696368617264735c5c2e646576636f6e7461696e65725c5c646576636f6e7461696e65722e6a736f6e222c225f736570223a312c2265787465726e616c223a2266696c653a2f2f2f652533412f56697375616c25323053747564696f253230436f64652f72696368617264732f2e646576636f6e7461696e65722f646576636f6e7461696e65722e6a736f6e222c2270617468223a222f653a2f56697375616c2053747564696f20436f64652f72696368617264732f2e646576636f6e7461696e65722f646576636f6e7461696e65722e6a736f6e222c22736368656d65223a2266696c65227d7d/workspaces/richards/tests/primal_test/Simple%20Coupling/Darcy-Richards/hard_coupling_lagrange.ipynb#X63sdnNjb2RlLXJlbW90ZQ%3D%3D?line=27'>28</a>\u001b[0m cols \u001b[39m=\u001b[39m np\u001b[39m.\u001b[39mtile(nodes_loc, (nodes_loc\u001b[39m.\u001b[39msize, \u001b[39m1\u001b[39m))\n",
      "File \u001b[0;32m/workspaces/richards/utilities/assembly_utilities.py:57\u001b[0m, in \u001b[0;36mexperimental_local_A\u001b[0;34m(coord, K_local, quad_order)\u001b[0m\n\u001b[1;32m     55\u001b[0m \u001b[39mfor\u001b[39;00m i \u001b[39min\u001b[39;00m \u001b[39mrange\u001b[39m(\u001b[39m3\u001b[39m):\n\u001b[1;32m     56\u001b[0m         \u001b[39mfor\u001b[39;00m j \u001b[39min\u001b[39;00m \u001b[39mrange\u001b[39m(\u001b[39m3\u001b[39m):\n\u001b[0;32m---> 57\u001b[0m             M[ordering[i], ordering[j]] \u001b[39m=\u001b[39m exp_triangle_integration(\u001b[39mlambda\u001b[39;00m x,y: q_funcs[i]\u001b[39m.\u001b[39mT \u001b[39m@\u001b[39m K_local(x,y) \u001b[39m@\u001b[39m q_funcs[j], quad_order, x0, x1, x2, m)\n\u001b[1;32m     60\u001b[0m \u001b[39mreturn\u001b[39;00m M\n",
      "File \u001b[0;32m/workspaces/richards/utilities/triangle_integration.py:25\u001b[0m, in \u001b[0;36mexp_triangle_integration\u001b[0;34m(func, quad_order, x0, x1, x2, m)\u001b[0m\n\u001b[1;32m     19\u001b[0m integrand \u001b[39m=\u001b[39m \u001b[39mlambda\u001b[39;00m ys,x: np\u001b[39m.\u001b[39marray([func(x,y) \u001b[39mfor\u001b[39;00m y \u001b[39min\u001b[39;00m np\u001b[39m.\u001b[39marray(ys)])\n\u001b[1;32m     20\u001b[0m inside \u001b[39m=\u001b[39m \u001b[39mlambda\u001b[39;00m xs, n: np\u001b[39m.\u001b[39marray([integrate\u001b[39m.\u001b[39mfixed_quad(integrand, \n\u001b[1;32m     21\u001b[0m                                                       x2[\u001b[39m1\u001b[39m], \n\u001b[1;32m     22\u001b[0m                                                       x2[\u001b[39m1\u001b[39m] \u001b[39m+\u001b[39m (x1[\u001b[39m1\u001b[39m] \u001b[39m-\u001b[39m x2[\u001b[39m1\u001b[39m]) \u001b[39m/\u001b[39m (x1[\u001b[39m0\u001b[39m] \u001b[39m-\u001b[39m x2[\u001b[39m0\u001b[39m]) \u001b[39m*\u001b[39m (x \u001b[39m-\u001b[39m x2[\u001b[39m0\u001b[39m]), \n\u001b[1;32m     23\u001b[0m                                                       args\u001b[39m=\u001b[39m(x,), n\u001b[39m=\u001b[39mn)[\u001b[39m0\u001b[39m] \u001b[39mfor\u001b[39;00m x \u001b[39min\u001b[39;00m np\u001b[39m.\u001b[39marray(xs)])\n\u001b[0;32m---> 25\u001b[0m \u001b[39mreturn\u001b[39;00m integrate\u001b[39m.\u001b[39mfixed_quad(inside, x2[\u001b[39m0\u001b[39m], x0[\u001b[39m0\u001b[39m], n\u001b[39m=\u001b[39mquad_order, args\u001b[39m=\u001b[39m(quad_order,))[\u001b[39m0\u001b[39m]\n",
      "File \u001b[0;32m/opt/conda/lib/python3.11/site-packages/scipy/integrate/_quadrature.py:155\u001b[0m, in \u001b[0;36mfixed_quad\u001b[0;34m(func, a, b, args, n)\u001b[0m\n\u001b[1;32m    152\u001b[0m     \u001b[39mraise\u001b[39;00m \u001b[39mValueError\u001b[39;00m(\u001b[39m\"\u001b[39m\u001b[39mGaussian quadrature is only available for \u001b[39m\u001b[39m\"\u001b[39m\n\u001b[1;32m    153\u001b[0m                      \u001b[39m\"\u001b[39m\u001b[39mfinite limits.\u001b[39m\u001b[39m\"\u001b[39m)\n\u001b[1;32m    154\u001b[0m y \u001b[39m=\u001b[39m (b\u001b[39m-\u001b[39ma)\u001b[39m*\u001b[39m(x\u001b[39m+\u001b[39m\u001b[39m1\u001b[39m)\u001b[39m/\u001b[39m\u001b[39m2.0\u001b[39m \u001b[39m+\u001b[39m a\n\u001b[0;32m--> 155\u001b[0m \u001b[39mreturn\u001b[39;00m (b\u001b[39m-\u001b[39ma)\u001b[39m/\u001b[39m\u001b[39m2.0\u001b[39m \u001b[39m*\u001b[39m np\u001b[39m.\u001b[39msum(w\u001b[39m*\u001b[39mfunc(y, \u001b[39m*\u001b[39margs), axis\u001b[39m=\u001b[39m\u001b[39m-\u001b[39m\u001b[39m1\u001b[39m), \u001b[39mNone\u001b[39;00m\n",
      "File \u001b[0;32m/workspaces/richards/utilities/triangle_integration.py:20\u001b[0m, in \u001b[0;36mexp_triangle_integration.<locals>.<lambda>\u001b[0;34m(xs, n)\u001b[0m\n\u001b[1;32m     18\u001b[0m \u001b[39melse\u001b[39;00m:\n\u001b[1;32m     19\u001b[0m     integrand \u001b[39m=\u001b[39m \u001b[39mlambda\u001b[39;00m ys,x: np\u001b[39m.\u001b[39marray([func(x,y) \u001b[39mfor\u001b[39;00m y \u001b[39min\u001b[39;00m np\u001b[39m.\u001b[39marray(ys)])\n\u001b[0;32m---> 20\u001b[0m     inside \u001b[39m=\u001b[39m \u001b[39mlambda\u001b[39;00m xs, n: np\u001b[39m.\u001b[39marray([integrate\u001b[39m.\u001b[39mfixed_quad(integrand, \n\u001b[1;32m     21\u001b[0m                                                           x2[\u001b[39m1\u001b[39m], \n\u001b[1;32m     22\u001b[0m                                                           x2[\u001b[39m1\u001b[39m] \u001b[39m+\u001b[39m (x1[\u001b[39m1\u001b[39m] \u001b[39m-\u001b[39m x2[\u001b[39m1\u001b[39m]) \u001b[39m/\u001b[39m (x1[\u001b[39m0\u001b[39m] \u001b[39m-\u001b[39m x2[\u001b[39m0\u001b[39m]) \u001b[39m*\u001b[39m (x \u001b[39m-\u001b[39m x2[\u001b[39m0\u001b[39m]), \n\u001b[1;32m     23\u001b[0m                                                           args\u001b[39m=\u001b[39m(x,), n\u001b[39m=\u001b[39mn)[\u001b[39m0\u001b[39m] \u001b[39mfor\u001b[39;00m x \u001b[39min\u001b[39;00m np\u001b[39m.\u001b[39marray(xs)])\n\u001b[1;32m     25\u001b[0m     \u001b[39mreturn\u001b[39;00m integrate\u001b[39m.\u001b[39mfixed_quad(inside, x2[\u001b[39m0\u001b[39m], x0[\u001b[39m0\u001b[39m], n\u001b[39m=\u001b[39mquad_order, args\u001b[39m=\u001b[39m(quad_order,))[\u001b[39m0\u001b[39m]\n",
      "File \u001b[0;32m/workspaces/richards/utilities/triangle_integration.py:20\u001b[0m, in \u001b[0;36m<listcomp>\u001b[0;34m(.0)\u001b[0m\n\u001b[1;32m     18\u001b[0m \u001b[39melse\u001b[39;00m:\n\u001b[1;32m     19\u001b[0m     integrand \u001b[39m=\u001b[39m \u001b[39mlambda\u001b[39;00m ys,x: np\u001b[39m.\u001b[39marray([func(x,y) \u001b[39mfor\u001b[39;00m y \u001b[39min\u001b[39;00m np\u001b[39m.\u001b[39marray(ys)])\n\u001b[0;32m---> 20\u001b[0m     inside \u001b[39m=\u001b[39m \u001b[39mlambda\u001b[39;00m xs, n: np\u001b[39m.\u001b[39marray([integrate\u001b[39m.\u001b[39mfixed_quad(integrand, \n\u001b[1;32m     21\u001b[0m                                                           x2[\u001b[39m1\u001b[39m], \n\u001b[1;32m     22\u001b[0m                                                           x2[\u001b[39m1\u001b[39m] \u001b[39m+\u001b[39m (x1[\u001b[39m1\u001b[39m] \u001b[39m-\u001b[39m x2[\u001b[39m1\u001b[39m]) \u001b[39m/\u001b[39m (x1[\u001b[39m0\u001b[39m] \u001b[39m-\u001b[39m x2[\u001b[39m0\u001b[39m]) \u001b[39m*\u001b[39m (x \u001b[39m-\u001b[39m x2[\u001b[39m0\u001b[39m]), \n\u001b[1;32m     23\u001b[0m                                                           args\u001b[39m=\u001b[39m(x,), n\u001b[39m=\u001b[39mn)[\u001b[39m0\u001b[39m] \u001b[39mfor\u001b[39;00m x \u001b[39min\u001b[39;00m np\u001b[39m.\u001b[39marray(xs)])\n\u001b[1;32m     25\u001b[0m     \u001b[39mreturn\u001b[39;00m integrate\u001b[39m.\u001b[39mfixed_quad(inside, x2[\u001b[39m0\u001b[39m], x0[\u001b[39m0\u001b[39m], n\u001b[39m=\u001b[39mquad_order, args\u001b[39m=\u001b[39m(quad_order,))[\u001b[39m0\u001b[39m]\n",
      "File \u001b[0;32m/opt/conda/lib/python3.11/site-packages/scipy/integrate/_quadrature.py:155\u001b[0m, in \u001b[0;36mfixed_quad\u001b[0;34m(func, a, b, args, n)\u001b[0m\n\u001b[1;32m    152\u001b[0m     \u001b[39mraise\u001b[39;00m \u001b[39mValueError\u001b[39;00m(\u001b[39m\"\u001b[39m\u001b[39mGaussian quadrature is only available for \u001b[39m\u001b[39m\"\u001b[39m\n\u001b[1;32m    153\u001b[0m                      \u001b[39m\"\u001b[39m\u001b[39mfinite limits.\u001b[39m\u001b[39m\"\u001b[39m)\n\u001b[1;32m    154\u001b[0m y \u001b[39m=\u001b[39m (b\u001b[39m-\u001b[39ma)\u001b[39m*\u001b[39m(x\u001b[39m+\u001b[39m\u001b[39m1\u001b[39m)\u001b[39m/\u001b[39m\u001b[39m2.0\u001b[39m \u001b[39m+\u001b[39m a\n\u001b[0;32m--> 155\u001b[0m \u001b[39mreturn\u001b[39;00m (b\u001b[39m-\u001b[39ma)\u001b[39m/\u001b[39m\u001b[39m2.0\u001b[39m \u001b[39m*\u001b[39m np\u001b[39m.\u001b[39msum(w\u001b[39m*\u001b[39mfunc(y, \u001b[39m*\u001b[39margs), axis\u001b[39m=\u001b[39m\u001b[39m-\u001b[39m\u001b[39m1\u001b[39m), \u001b[39mNone\u001b[39;00m\n",
      "File \u001b[0;32m/workspaces/richards/utilities/triangle_integration.py:19\u001b[0m, in \u001b[0;36mexp_triangle_integration.<locals>.<lambda>\u001b[0;34m(ys, x)\u001b[0m\n\u001b[1;32m     17\u001b[0m     \u001b[39mreturn\u001b[39;00m integrate\u001b[39m.\u001b[39mfixed_quad(inside, x0[\u001b[39m0\u001b[39m], x2[\u001b[39m0\u001b[39m], n\u001b[39m=\u001b[39mquad_order, args\u001b[39m=\u001b[39m(quad_order,))[\u001b[39m0\u001b[39m]\n\u001b[1;32m     18\u001b[0m \u001b[39melse\u001b[39;00m:\n\u001b[0;32m---> 19\u001b[0m     integrand \u001b[39m=\u001b[39m \u001b[39mlambda\u001b[39;00m ys,x: np\u001b[39m.\u001b[39marray([func(x,y) \u001b[39mfor\u001b[39;00m y \u001b[39min\u001b[39;00m np\u001b[39m.\u001b[39marray(ys)])\n\u001b[1;32m     20\u001b[0m     inside \u001b[39m=\u001b[39m \u001b[39mlambda\u001b[39;00m xs, n: np\u001b[39m.\u001b[39marray([integrate\u001b[39m.\u001b[39mfixed_quad(integrand, \n\u001b[1;32m     21\u001b[0m                                                           x2[\u001b[39m1\u001b[39m], \n\u001b[1;32m     22\u001b[0m                                                           x2[\u001b[39m1\u001b[39m] \u001b[39m+\u001b[39m (x1[\u001b[39m1\u001b[39m] \u001b[39m-\u001b[39m x2[\u001b[39m1\u001b[39m]) \u001b[39m/\u001b[39m (x1[\u001b[39m0\u001b[39m] \u001b[39m-\u001b[39m x2[\u001b[39m0\u001b[39m]) \u001b[39m*\u001b[39m (x \u001b[39m-\u001b[39m x2[\u001b[39m0\u001b[39m]), \n\u001b[1;32m     23\u001b[0m                                                           args\u001b[39m=\u001b[39m(x,), n\u001b[39m=\u001b[39mn)[\u001b[39m0\u001b[39m] \u001b[39mfor\u001b[39;00m x \u001b[39min\u001b[39;00m np\u001b[39m.\u001b[39marray(xs)])\n\u001b[1;32m     25\u001b[0m     \u001b[39mreturn\u001b[39;00m integrate\u001b[39m.\u001b[39mfixed_quad(inside, x2[\u001b[39m0\u001b[39m], x0[\u001b[39m0\u001b[39m], n\u001b[39m=\u001b[39mquad_order, args\u001b[39m=\u001b[39m(quad_order,))[\u001b[39m0\u001b[39m]\n",
      "\u001b[0;31mKeyboardInterrupt\u001b[0m: "
     ]
    }
   ],
   "source": [
    "# Time Loop\n",
    "for step in range(1, ceil(T/dt) + 1):\n",
    "    current_time = step * dt\n",
    "    print('Time ' + str(round(current_time, 5)))\n",
    "    \n",
    "    time_rhs = np.zeros_like(sol[-1])\n",
    "\n",
    "    time_rhs[top_mask] += top_mass @ model_data.theta(sol[-1][top_mask], 1 + top_grid.nodes[1,:]) / dt\n",
    "\n",
    "    prev = sol[-1]\n",
    "\n",
    "    for k in range(K):\n",
    "        rhs = time_rhs.copy()\n",
    "\n",
    "        rhs[top_mask] += L * top_mass @ prev[top_mask] / dt\n",
    "        rhs[top_mask] -= top_mass @ model_data.theta(prev[top_mask], 1 + top_grid.nodes[1,:]) / dt\n",
    "\n",
    "        bottom_mat = bottom_stifness\n",
    "        top_stifness = top_stifness_gen(prev[top_mask])\n",
    "\n",
    "        top_mat = top_stifness + L / dt * top_mass\n",
    "        mid_mat = bottom_mat[boundary_mask, :][:, boundary_mask] + top_mat[boundary_mask, :][:, boundary_mask]\n",
    "        top_vel = top_normal_continuity_matrix(prev[top_mask])\n",
    "\n",
    "        local_bot_vel = bottom_vel @ bottom_delete_boundary_dof.T\n",
    "        local_top_vel = top_vel @ top_delete_boundary_dof.T\n",
    "\n",
    "        local_mid_vel = bottom_vel @ bottom_isolate_boundary_dof.T - top_vel @ top_isolate_boundary_dof.T\n",
    "        \n",
    "        spp = sps.bmat([[    bottom_delete_boundary_dof @ bottom_mat @ bottom_delete_boundary_dof.T, bottom_delete_boundary_dof @ bottom_mat @ bottom_isolate_boundary_dof.T,                                                             None,  local_bot_vel.T],\n",
    "                        [ bottom_isolate_boundary_dof @ bottom_mat.T @ bottom_delete_boundary_dof.T,                                                                 mid_mat, top_isolate_boundary_dof @ top_mat.T @ top_delete_boundary_dof.T,  local_mid_vel.T],\n",
    "                        [                                                                      None,          top_delete_boundary_dof @ top_mat @ top_isolate_boundary_dof.T,    top_delete_boundary_dof @ top_mat @ top_delete_boundary_dof.T, -local_top_vel.T],\n",
    "                        [                                                             local_bot_vel,                                                           local_mid_vel,                                                   -local_top_vel,             None]], \n",
    "                        format = 'csc')\n",
    "        \n",
    "        ls = pg.LinearSystem(spp, rhs)\n",
    "\n",
    "        #print(spp, rhs)\n",
    "\n",
    "        ls.flag_ess_bc(dirichlet_flag, dirichlet_value(current_time))\n",
    "\n",
    "        current = ls.solve()\n",
    "\n",
    "        # Check if we have reached convergence\n",
    "        rel_err_psi  = np.sqrt( (current - prev).T @ (current - prev) )\n",
    "        abs_err_prev = np.sqrt( prev.T @ prev )\n",
    "\n",
    "        # Log message with error and current iteration\n",
    "        print('Iteration #' + format(k+1, '0' + str(ceil(log10(K)) + 1) + 'd') + ', error L2 relative psi: ' \n",
    "              + format(rel_err_psi, str(5 + ceil(log10(1 / abs_tol)) + 4) + '.' + str(ceil(log10(1 / abs_tol)) + 4) + 'f') )\n",
    "        \n",
    "        if rel_err_psi > abs_tol + rel_tol * abs_err_prev:\n",
    "            prev = current.copy()\n",
    "        else:\n",
    "            break\n",
    "\n",
    "    sol.append( current )\n",
    "\n",
    "    save_step(sol[-1], step)\n",
    "    print('')    "
   ]
  },
  {
   "cell_type": "code",
   "execution_count": 40,
   "metadata": {},
   "outputs": [
    {
     "data": {
      "text/plain": [
       "array([  -0.70999556,   -0.7122032 ,   -0.71881556, ..., -109.39849047,\n",
       "        109.05125948, -109.60675859])"
      ]
     },
     "execution_count": 40,
     "metadata": {},
     "output_type": "execute_result"
    }
   ],
   "source": [
    "prev"
   ]
  }
 ],
 "metadata": {
  "kernelspec": {
   "display_name": "Python 3.10.2 64-bit ('3.10.2')",
   "language": "python",
   "name": "python3"
  },
  "language_info": {
   "codemirror_mode": {
    "name": "ipython",
    "version": 3
   },
   "file_extension": ".py",
   "mimetype": "text/x-python",
   "name": "python",
   "nbconvert_exporter": "python",
   "pygments_lexer": "ipython3",
   "version": "3.11.5"
  },
  "vscode": {
   "interpreter": {
    "hash": "e4cc1db98167c7fd7d55a1da8057731abc6cd6fe154328a2ae319df8aab4e24d"
   }
  }
 },
 "nbformat": 4,
 "nbformat_minor": 5
}
