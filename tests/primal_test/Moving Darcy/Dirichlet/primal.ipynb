{
 "cells": [
  {
   "cell_type": "markdown",
   "id": "essential-american",
   "metadata": {},
   "source": [
    "# Darcy equation\n",
    "\n",
    "In this tutorial we present how to solve a Darcy equation with [PyGeoN](https://github.com/compgeo-mox/pygeon) in themoving domain case (the upper boundary will move).  The unkwons are the velocity $u$, the elevation head $h$ and the height of the upper boundary $\\eta$.\n",
    "\n",
    "Let $\\Omega=(0,1)\\times(0,\\eta)$ with boundary $\\partial \\Omega$ and outward unit normal ${\\nu}$. Given \n",
    "$K$ the matrix permeability, we want to solve the following problem: find $(\\bm{u}, h)$ such that\n",
    "$$\n",
    "\\left\\{\n",
    "\\begin{array}{ll}\n",
    "\\begin{array}{l} \n",
    "K^{-1} {\\bm{u}} + \\nabla h = {0}\\\\\n",
    "S_s \\frac{\\partial{h}}{\\partial t} + \\nabla \\cdot {u} = f\n",
    "\\end{array}\n",
    "&\\text{in } \\Omega\n",
    "\\end{array}\n",
    "\\right.\n",
    "$$"
   ]
  },
  {
   "cell_type": "markdown",
   "id": "dadbb451",
   "metadata": {},
   "source": [
    "In order to solve the problem, we will perfom a change of coordinates to a reference domain $\\hat{\\Omega}=(0,1)^2$ through the (linear) trasnformation $R : \\Omega \\rightarrow \\hat{\\Omega}$ (and its inverse function $D : \\hat{\\Omega} \\rightarrow \\Omega$).\n",
    "Recall that $\\hat{\\nabla}R=(\\nabla D)^{-1}$.\n",
    "\n",
    "Let $\\hat{h}$ and $\\hat{\\bm{u}}$ be $h$ and $\\bm{u}$ respectevely in the reference domain and let $\\hat{K}$ be the transformed permeability matrix, defined as $\\hat{K}=det(\\hat{\\nabla}D) (\\hat{\\nabla} D)^{-1} K (\\hat{\\nabla} D)^{-T}$.\n",
    "\n",
    "The equation describing the motion of $\\partial_{top}\\Omega$ is:\n",
    "$$\n",
    "\n",
    "\\phi \\frac{\\partial \\eta}{\\partial t} = \\hat{u_3} + I(t)\n",
    "\n",
    "$$"
   ]
  },
  {
   "cell_type": "markdown",
   "id": "a068fac3",
   "metadata": {},
   "source": [
    "The transformed equations in $\\hat{\\Omega}$ is:\n",
    "$$\n",
    "\\left\\{\n",
    "\\begin{array}{ll}\n",
    "\\begin{array}{l} \n",
    "\\hat{K}({\\eta})^{-1} {\\hat{u}} + \\hat{\\nabla} \\hat{h} = {0}\\\\\n",
    "\\hat{S}_s \\frac{\\partial{\\hat{h}}}{\\partial t} + \\hat{\\nabla} \\cdot {\\hat{\\bm{u}}} = f\n",
    "\\end{array}\n",
    "&\\text{in } \\hat{\\Omega}\n",
    "\\end{array}\n",
    "\\right.\n",
    "$$\n",
    "with boundary conditions:\n",
    "$$ \\hat{h} = \\eta \\text{ on } \\Gamma \\qquad \\hat{h} = \\ell \\text{ on } \\Gamma_D \\qquad \\hat{\\bm{\\nu}} \\cdot \\hat{\\bm{u}} = 0 \\text{ on } \\Gamma_N$$"
   ]
  },
  {
   "cell_type": "markdown",
   "id": "47b01879",
   "metadata": {},
   "source": [
    "The weak formulation will be:\n",
    "$$\n",
    "\\left\\{\n",
    "\\begin{array}{ll}\n",
    "\\begin{array}{l} \n",
    "\\int_{\\Omega}\\hat{K}(\\eta)^{-1} {\\bm{\\hat{u}}} \\cdot \\bm{v} \\, d\\Omega - \\int_{\\Omega} h \\hat{\\nabla} \\cdot {\\hat{\\bm{v}}} \\, d\\Omega = - \\int_{\\Gamma_D} h \\bm{v} \\cdot \\bm{\\nu} \\, d\\Omega - \\int_{\\Gamma} \\eta \\bm{v} \\cdot \\bm{\\nu} \\, d\\Omega\\\\\n",
    "\\int_{\\Omega} \\hat{S}_s \\frac{\\partial{\\hat{h}}}{\\partial t} v \\, d\\Omega + \\int_{\\Omega} \\hat{\\nabla} \\cdot {\\hat{\\bm{u}}} v \\, d\\Omega = \\int_{\\Omega} fv \\, d\\Omega\\\\\n",
    "\\int_{\\Gamma} \\phi \\frac{\\partial \\eta}{\\partial t} v \\, d\\sigma = \\int_{\\Gamma} \\hat{u_3} v \\, d\\sigma + \\int_{\\Gamma} I(t) v \\, d\\sigma\n",
    "\\end{array}\n",
    "\\end{array}\n",
    "\\right.\n",
    "$$"
   ]
  },
  {
   "cell_type": "markdown",
   "id": "dcdc7603",
   "metadata": {},
   "source": [
    "For the time discretization, we will employ a backward Euler scheme:\n",
    "\n",
    "$$\n",
    "\\left\\{\n",
    "\\begin{array}{ll}\n",
    "\\begin{array}{l} \n",
    "\\int_{\\Omega}\\hat{K}(\\eta^{n+1})^{-1} {\\bm{\\hat{u}}^{n+1}} \\cdot \\bm{v} \\, d\\Omega - \\int_{\\Omega} h^{n+1} \\hat{\\nabla} \\cdot {\\hat{\\bm{v}}} \\, d\\Omega = - \\int_{\\Gamma_D} h^{n+1} \\bm{v} \\cdot \\bm{\\nu} \\, d\\Omega - \\int_{\\Gamma} \\eta^{n+1} \\bm{v} \\cdot \\bm{\\nu} \\, d\\Omega\\\\\n",
    "\\int_{\\Omega} \\hat{S}_s^{n+1} \\frac{\\hat{h}^{n+1} - \\hat{h}^{n}}{\\Delta t} v \\, d\\Omega + \\int_{\\Omega} \\hat{\\nabla} \\cdot {\\hat{\\bm{u}}^{n+1}} v \\, d\\Omega = \\int_{\\Omega} f^{n+1}v \\, d\\Omega\\\\\n",
    "\\int_{\\Gamma} \\phi \\eta^{n+1} v \\, d\\sigma = \\Delta t \\int_{\\Gamma} \\hat{\\bm{u}}^{n+1} \\cdot \\bm{\\nu} v \\, d\\sigma + \\int_{\\Gamma} \\phi \\eta^{n} v \\, d\\sigma + \\Delta t \\int_{\\Gamma} I^{n+1} v \\, d\\sigma\n",
    "\\end{array}\n",
    "\\end{array}\n",
    "\\right.\n",
    "$$"
   ]
  },
  {
   "cell_type": "markdown",
   "id": "faf928a5",
   "metadata": {},
   "source": [
    "To deal with the non-linear term, we will employ a simple Picard scheme:\n",
    "\n",
    "$$\n",
    "\\left\\{\n",
    "\\begin{array}{ll}\n",
    "\\begin{array}{l} \n",
    "\\int_{\\Omega}\\hat{K}(\\eta^{n+1}_k)^{-1} {\\bm{\\hat{u}_{k+1}^{n+1}}} \\cdot \\bm{v} \\, d\\Omega - \\int_{\\Omega} h^{n+1}_{k+1} \\hat{\\nabla} \\cdot {\\hat{\\bm{v}}} \\, d\\Omega + \\int_{\\Gamma} \\eta^{n+1}_{k+1} \\bm{v} \\cdot \\bm{\\nu} \\, d\\Omega= - \\int_{\\Gamma_D} h^{n+1} \\bm{v} \\cdot \\bm{\\nu} \\, d\\Omega\\\\\n",
    "\\Delta t \\int_{\\Omega} \\hat{\\nabla} \\cdot {\\hat{\\bm{u}}^{n+1}_{k+1}} v \\, d\\Omega + \\int_{\\Omega} \\hat{S}_s \\hat{h}^{n+1}_{k+1} v \\, d\\Omega = \\int_{\\Omega} \\hat{S}_s \\hat{h}^{n} v \\, d\\Omega + \\Delta t \\int_{\\Omega} f^{n+1}v \\, d\\Omega\\\\\n",
    "- \\Delta t \\int_{\\Gamma} \\hat{\\bm{u}}^{n+1}_{k+1} \\cdot \\bm{\\nu} v \\, d\\sigma + \\int_{\\Gamma} \\phi \\eta^{n+1}_{k+1} v \\, d\\sigma = \\int_{\\Gamma} \\phi \\eta^{n} v \\, d\\sigma + \\Delta t \\int_{\\Gamma} I^{n+1} v \\, d\\sigma\n",
    "\\end{array}\n",
    "\\end{array}\n",
    "\\right.\n",
    "$$"
   ]
  },
  {
   "cell_type": "markdown",
   "id": "615fb33d",
   "metadata": {},
   "source": [
    "The matrix formulation will be:\n",
    "\n",
    "$$\n",
    "\\left\\{\n",
    "\\begin{array}{ll}\n",
    "\\begin{array}{l} \n",
    "M_u(\\bm{\\eta}^{n+1}_{k}) \\bm{u}^{n+1}_{k+1} + B^T\\bm{h}^{n+1}_{k+1} + B_{\\Gamma}^T \\bm{\\eta}^{n+1}_{k+1}= \\bm{BC}^{n+1}\\\\\n",
    "- \\Delta t B \\hat{\\bm{u}}^{n+1}_{k+1} + S_s M_{h} \\bm{\\hat{h}^{n+1}_{k+1}} = \\Delta t \\bm{F}^{n+1} + S_s M_{h} \\bm{\\hat{h}^{n}}\\\\\n",
    "- \\Delta t B_{\\Gamma} \\hat{\\bm{u}}^{n+1}_{k+1} + \\phi M_{\\Gamma} \\bm{\\eta^{n+1}_{k+1}} = \\phi M_{\\Gamma} \\bm{\\eta^{n}} + \\Delta t \\bm{I}^{n+1}\n",
    "\\end{array}\n",
    "\\end{array}\n",
    "\\right.\n",
    "$$"
   ]
  },
  {
   "cell_type": "markdown",
   "id": "49e31d3b",
   "metadata": {},
   "source": [
    "$$\n",
    "\\left(\n",
    "\\begin{array}{cc} \n",
    "M_u(\\bm{\\eta^{n+1}_k}) & B^T & B_{\\Gamma}^T\\\\\n",
    "-\\Delta t B & S_s M_h & 0\\\\\n",
    "-\\Delta t B_{\\Gamma} & 0 & \\phi M_{\\Gamma}\n",
    "\\end{array}\n",
    "\\right)\n",
    "\\left(\n",
    "\\begin{array}{c} \n",
    "\\bm{u^{n+1}_{k+1}}\\\\ \n",
    "\\bm{h^{n+1}_{k+1}}\\\\\n",
    "\\bm{\\eta^{n+1}_{k+1}}\n",
    "\\end{array}\n",
    "\\right)\n",
    "=\\left(\n",
    "\\begin{array}{c} \n",
    "\\bm{BC}^{n+1}\\\\ \n",
    "\\Delta t \\bm{F}^{n+1} + S_s M_h \\bm{h}^n\\\\\n",
    "\\phi M_{\\Gamma} \\bm{\\eta}^n + \\Delta t \\bm{I}^{n+1}\n",
    "\\end{array}\n",
    "\\right)\n",
    "$$"
   ]
  },
  {
   "cell_type": "markdown",
   "id": "60777fa8",
   "metadata": {},
   "source": [
    "We will start to test the method in the case $M_u(\\bm{h_k}^{n+1})=\\bm{I}$"
   ]
  },
  {
   "cell_type": "code",
   "execution_count": 1,
   "id": "fa691294",
   "metadata": {},
   "outputs": [],
   "source": [
    "%load_ext Cython"
   ]
  },
  {
   "cell_type": "code",
   "execution_count": 2,
   "id": "dietary-perth",
   "metadata": {},
   "outputs": [
    {
     "name": "stderr",
     "output_type": "stream",
     "text": [
      "/opt/conda/lib/python3.11/site-packages/porepy/numerics/nonlinear/nonlinear_solvers.py:13: TqdmExperimentalWarning: Using `tqdm.autonotebook.tqdm` in notebook mode. Use `tqdm.tqdm` instead to force console mode (e.g. in jupyter console)\n",
      "  from tqdm.autonotebook import trange  # type: ignore\n"
     ]
    }
   ],
   "source": [
    "import numpy as np\n",
    "import scipy.sparse as sps\n",
    "from math import ceil, floor, log10, exp, isnan\n",
    "import os, shutil\n",
    "\n",
    "import porepy as pp\n",
    "import pygeon as pg\n",
    "import scipy.integrate as integrate\n",
    "\n",
    "import matplotlib.pyplot as plt\n",
    "\n",
    "import scipy as sc\n",
    "import sympy as sp"
   ]
  },
  {
   "cell_type": "code",
   "execution_count": 3,
   "id": "1e1342bf",
   "metadata": {},
   "outputs": [],
   "source": [
    "output_directory = 'primal'"
   ]
  },
  {
   "cell_type": "markdown",
   "id": "roman-glossary",
   "metadata": {},
   "source": [
    "### Parameters"
   ]
  },
  {
   "cell_type": "code",
   "execution_count": 4,
   "id": "9b5f484a",
   "metadata": {},
   "outputs": [],
   "source": [
    "T = 1\n",
    "dt = 0.1"
   ]
  },
  {
   "cell_type": "code",
   "execution_count": 5,
   "id": "60dbe54f",
   "metadata": {},
   "outputs": [],
   "source": [
    "infiltration_rate = 1e-3\n",
    "extraction_rate = 0.3"
   ]
  },
  {
   "cell_type": "code",
   "execution_count": 6,
   "id": "09d80195",
   "metadata": {},
   "outputs": [],
   "source": [
    "S_s = 0.1\n",
    "phi = 0.1"
   ]
  },
  {
   "cell_type": "code",
   "execution_count": 7,
   "id": "0816cee5",
   "metadata": {},
   "outputs": [],
   "source": [
    "N = 10 # 16\n",
    "quad_order = 1"
   ]
  },
  {
   "cell_type": "code",
   "execution_count": 8,
   "id": "03c363e3",
   "metadata": {},
   "outputs": [],
   "source": [
    "abs_tol = 1e-5\n",
    "rel_tol = 1e-5\n",
    "max_iterations_per_step = 100"
   ]
  },
  {
   "cell_type": "markdown",
   "id": "97631457",
   "metadata": {},
   "source": [
    "### Grid and $V_h$"
   ]
  },
  {
   "cell_type": "code",
   "execution_count": 9,
   "id": "spectacular-saturn",
   "metadata": {},
   "outputs": [],
   "source": [
    "# convert the grid into a mixed-dimensional grid\n",
    "sd = pp.StructuredTriangleGrid([N, N], [1, 1])\n",
    "sd.compute_geometry()\n",
    "pg.convert_from_pp(sd)"
   ]
  },
  {
   "cell_type": "code",
   "execution_count": 10,
   "id": "ffa231fe",
   "metadata": {},
   "outputs": [],
   "source": [
    "boundary_grid, boundary_face_map, boundary_node_map = pp.partition.extract_subgrid(sd, sd.face_centers[1, :] == 1, faces=True)"
   ]
  },
  {
   "cell_type": "code",
   "execution_count": 11,
   "id": "cb80af64",
   "metadata": {},
   "outputs": [],
   "source": [
    "mdg = pg.as_mdg(sd)"
   ]
  },
  {
   "cell_type": "code",
   "execution_count": 12,
   "id": "0869e7e2",
   "metadata": {},
   "outputs": [],
   "source": [
    "subdomain, data = mdg.subdomains( return_data=True )[0]"
   ]
  },
  {
   "cell_type": "code",
   "execution_count": 13,
   "id": "0024b7c0",
   "metadata": {},
   "outputs": [],
   "source": [
    "key = \"flow\"\n",
    "\n",
    "darcy_data = {}\n",
    "initial_pressure = []"
   ]
  },
  {
   "cell_type": "code",
   "execution_count": 14,
   "id": "88c12db7",
   "metadata": {},
   "outputs": [],
   "source": [
    "h_field     = pg.Lagrange1(key)\n",
    "gamma_field = pg.Lagrange1(key)"
   ]
  },
  {
   "cell_type": "code",
   "execution_count": 15,
   "id": "12700018",
   "metadata": {},
   "outputs": [],
   "source": [
    "subdomain, data = mdg.subdomains(return_data=True)[0]"
   ]
  },
  {
   "cell_type": "code",
   "execution_count": 16,
   "id": "e0507296",
   "metadata": {},
   "outputs": [],
   "source": [
    "def h_bc(x, t): return 1\n",
    "def initial_h_func(x): return 1\n",
    "def infiltration(x, t): return infiltration_rate"
   ]
  },
  {
   "cell_type": "code",
   "execution_count": 17,
   "id": "d5aafac3",
   "metadata": {},
   "outputs": [],
   "source": [
    "eta_mask = sd.nodes[1, :] == 1"
   ]
  },
  {
   "cell_type": "code",
   "execution_count": 18,
   "id": "1827411d",
   "metadata": {},
   "outputs": [],
   "source": [
    "dof_p = h_field.ndof(subdomain)"
   ]
  },
  {
   "cell_type": "markdown",
   "id": "9d33b2a2",
   "metadata": {},
   "source": [
    "### BC"
   ]
  },
  {
   "cell_type": "code",
   "execution_count": 19,
   "metadata": {},
   "outputs": [],
   "source": [
    "left   = sd.nodes[0, :] == 0\n",
    "right  = sd.nodes[0, :] == 1\n",
    "bottom = sd.nodes[1, :] == 0"
   ]
  },
  {
   "cell_type": "markdown",
   "id": "c0bbe30c",
   "metadata": {},
   "source": [
    "##### Dirichlet (essential)"
   ]
  },
  {
   "cell_type": "code",
   "execution_count": 20,
   "metadata": {},
   "outputs": [],
   "source": [
    "dirichlet_flag = np.logical_or(bottom, right)\n",
    "\n",
    "dirichlet_value = np.array(right, dtype=float)"
   ]
  },
  {
   "cell_type": "markdown",
   "id": "07a096f7",
   "metadata": {},
   "source": [
    "##### Neumann (natural)"
   ]
  },
  {
   "cell_type": "code",
   "execution_count": 21,
   "metadata": {},
   "outputs": [],
   "source": [
    "neumann_flag  = 0#no_flow\n",
    "neumann_value = 0#-h_field.assemble_nat_bc( sd, lambda x: extraction_rate, np.where(left)[0] )"
   ]
  },
  {
   "cell_type": "markdown",
   "metadata": {},
   "source": [
    "### Mapping"
   ]
  },
  {
   "cell_type": "code",
   "execution_count": 22,
   "metadata": {},
   "outputs": [],
   "source": [
    "A = 2\n",
    "\n",
    "eta_var = sp.Symbol('eta', negative=False)\n",
    "x3_var  = sp.Symbol('x3',  negative=False)\n",
    "chi_expr = eta_var * x3_var\n",
    "chi = sp.lambdify( [eta_var, x3_var], chi_expr.simplify(), 'numpy' )\n",
    "\n",
    "chi_x3  = sp.lambdify( [eta_var, x3_var], sp.diff(chi_expr,  x3_var).simplify(), 'numpy' )\n",
    "chi_eta = sp.lambdify( [eta_var, x3_var], sp.diff(chi_expr, eta_var).simplify(), 'numpy' )"
   ]
  },
  {
   "cell_type": "code",
   "execution_count": 23,
   "metadata": {},
   "outputs": [
    {
     "data": {
      "image/png": "[encoded data removed]",
      "text/plain": [
       "<Figure size 640x480 with 1 Axes>"
      ]
     },
     "metadata": {},
     "output_type": "display_data"
    }
   ],
   "source": [
    "fig = plt.figure()\n",
    "ax = fig.subplots(1,1)\n",
    "\n",
    "ax.plot(np.arange(0., 1., 1/1000),     chi(np.ones(shape=(1000, )), np.arange(0., 1., 1/1000)))\n",
    "ax.plot(np.arange(0., 1., 1/1000),  chi_x3(np.ones(shape=(1000, )), np.arange(0., 1., 1/1000)))\n",
    "ax.plot(np.arange(0., 1., 1/1000), chi_eta(np.ones(shape=(1000, )), np.arange(0., 1., 1/1000)))\n",
    "\n",
    "ax.legend(['$\\chi$', '$\\chi_{x_3}$', '$\\chi_{\\eta}$'])\n",
    "\n",
    "ax.grid()"
   ]
  },
  {
   "cell_type": "code",
   "execution_count": 24,
   "metadata": {},
   "outputs": [],
   "source": [
    "def convert_heights(eta_dofs, heights):\n",
    "    if len(eta_dofs) == len(heights):\n",
    "        return chi(eta_dofs, heights)\n",
    "    else:\n",
    "        return chi( np.tile(eta_dofs, ceil(len(heights) / len(eta_dofs))) , heights)"
   ]
  },
  {
   "cell_type": "code",
   "execution_count": 25,
   "metadata": {},
   "outputs": [
    {
     "data": {
      "image/png": "[encoded data removed]",
      "text/plain": [
       "<Figure size 640x480 with 1 Axes>"
      ]
     },
     "metadata": {},
     "output_type": "display_data"
    }
   ],
   "source": [
    "ax = plt.subplot(1,1,1)\n",
    "ax.plot( np.arange(0, 1, 0.01), chi(1, np.arange(0, 1, 0.01)), 'b' )\n",
    "ax.grid()"
   ]
  },
  {
   "cell_type": "markdown",
   "id": "c3b55b3f",
   "metadata": {},
   "source": [
    "### Matrix Assembly"
   ]
  },
  {
   "cell_type": "code",
   "execution_count": 26,
   "id": "ecea12f2",
   "metadata": {},
   "outputs": [],
   "source": [
    "eta_diff = gamma_field.assemble_diff_matrix( boundary_grid )\n",
    "eta_diff[0,0] = -1\n",
    "eta_diff *= N"
   ]
  },
  {
   "cell_type": "markdown",
   "id": "6a3d3988",
   "metadata": {},
   "source": [
    "#### Stifness"
   ]
  },
  {
   "cell_type": "code",
   "execution_count": 27,
   "id": "2bac2e8c",
   "metadata": {},
   "outputs": [],
   "source": [
    "%%cython\n",
    "import numpy as np\n",
    "\n",
    "def find_ordering(coord: np.array):\n",
    "    lx = np.argmin(coord[0, :])\n",
    "    rx = np.argmax(coord[0, :])\n",
    "    mx = np.setdiff1d(np.array([0,1,2]), np.array([lx, rx]))[0]\n",
    "\n",
    "    # Vertical Alignment\n",
    "    if np.abs( coord[0, lx] - coord[0, mx] ) < 1e-7:\n",
    "        # lx and mx vertical aligned, rx no\n",
    "        up =   lx if np.argmax(coord[1, np.array([lx, mx])]) == 0 else mx\n",
    "        down = lx if np.argmin(coord[1, np.array([lx, mx])]) == 0 else mx\n",
    "\n",
    "        if np.abs( coord[1, up] - coord[1, rx] ) < 1e-7:\n",
    "            return [up, down, rx]\n",
    "        else:\n",
    "            return [down, rx, up]\n",
    "    else:\n",
    "        # rx and mx vertical aligned, lx no\n",
    "        up =   rx if np.argmax(coord[1, np.array([rx, mx])]) == 0 else mx\n",
    "        down = rx if np.argmin(coord[1, np.array([rx, mx])]) == 0 else mx\n",
    "\n",
    "        if np.abs( coord[1, up] - coord[1, lx] ) < 1e-7:\n",
    "            return [up, lx, down]\n",
    "        else:\n",
    "            return [down, up, lx]"
   ]
  },
  {
   "cell_type": "code",
   "execution_count": 28,
   "metadata": {},
   "outputs": [],
   "source": [
    "def compute_eta_x3(base_height: float, element_height: float, m, ls_eta, rs_eta, x, y):\n",
    "    coord = lambda t: ((m+1) * (1-t) - (m-1) * t) / 2\n",
    "\n",
    "    return (1-coord(y)) * ls_eta + coord(y) * rs_eta, base_height + coord(x) * element_height"
   ]
  },
  {
   "cell_type": "code",
   "execution_count": 29,
   "metadata": {},
   "outputs": [],
   "source": [
    "def chi_x3_eta_gen( base_height: float, element_height: float, m, ls_eta, rs_eta, x, y ):\n",
    "    eta, x3 = compute_eta_x3(base_height, element_height, m, ls_eta, rs_eta, x, y)\n",
    "\n",
    "    return chi_x3(eta, x3), chi_eta(eta, x3)"
   ]
  },
  {
   "cell_type": "code",
   "execution_count": 30,
   "id": "6c214150",
   "metadata": {},
   "outputs": [],
   "source": [
    "def K_func_eval(base_height: float, base_width: float, element_height: float, element_width: float, m: int, ls_eta: float, rs_eta: float, grad_eta: float, x, y):\n",
    "    chi_x3, chi_eta = chi_x3_eta_gen(base_height, element_height, m, ls_eta, rs_eta, x, y)\n",
    "\n",
    "    return np.array([[             chi_x3,                            -chi_eta * grad_eta],\n",
    "                     [-chi_eta * grad_eta, (1 + np.power(chi_eta * grad_eta, 2)) / chi_x3]])\n",
    "\n",
    "    # This is the full version:\n",
    "    #return np.array([[                  chi_x3 * k11,                                                   k12 - chi_eta * grad_eta * k11],\n",
    "    #                 [k21 - chi_eta * grad_eta * k11, ( k22 + chi_eta * grad_eta * ( chi_eta * grad_eta * k11 - k12 - k21 ) ) / chi_x3]])"
   ]
  },
  {
   "cell_type": "code",
   "execution_count": 31,
   "id": "a0eb2c00",
   "metadata": {},
   "outputs": [],
   "source": [
    "def local_A(coord, sign, ls_eta, rs_eta, grad_eta):\n",
    "    M = np.zeros(shape=(3,3))\n",
    "\n",
    "    ordering = find_ordering(coord)\n",
    "\n",
    "    x0 = coord[:, ordering][:, 0]\n",
    "    x1 = coord[:, ordering][:, 1]\n",
    "    x2 = coord[:, ordering][:, 2]\n",
    "    \n",
    "    J_T_1_T = np.array([[x2[1]-x0[1], x0[1]-x1[1]],\n",
    "                        [x0[0]-x2[0], x1[0]-x0[0]]]) / ((x1[0]-x0[0]) * (x2[1]-x0[1]) - (x2[0]-x0[0]) * (x1[1]-x0[1]))\n",
    "    \n",
    "\n",
    "    q_funcs = [J_T_1_T @ np.array([-1, -1]), J_T_1_T @ np.array([ 1, 0]), J_T_1_T @ np.array([0,  1])]\n",
    "\n",
    "    base_height = np.min(coord[1,:])\n",
    "    base_width  = np.min(coord[0, :])\n",
    "\n",
    "    element_height = (np.max(coord[1, :]) - np.min(coord[1, :]))\n",
    "    element_width  = (np.max(coord[0, :]) - np.min(coord[0, :]))\n",
    "\n",
    "\n",
    "    K_local = lambda x,y: K_func_eval(base_height, base_width,\n",
    "                     element_height, element_width,\n",
    "                     np.prod(sign),\n",
    "                     ls_eta, rs_eta, grad_eta, x, y)\n",
    "    \n",
    "    area = element_height * element_width\n",
    "\n",
    "    if quad_order > 1:\n",
    "        for i in range(3):\n",
    "            for j in range(3):\n",
    "                integrand = lambda ys,x: np.array([q_funcs[j].T @ K_local(x, y) @ q_funcs[i] for y in np.array(ys)])\n",
    "                inside = lambda xs, n: np.array([integrate.fixed_quad(integrand, 0, 1-x, args=(x,), n=n)[0] for x in np.array(xs)])\n",
    "                M[ordering[i], ordering[j]] = integrate.fixed_quad(inside, 0, 1, n=quad_order, args=(quad_order,))[0] * area\n",
    "    else:\n",
    "        for i in range(3):\n",
    "            for j in range(3):\n",
    "                M[ordering[i], ordering[j]] = q_funcs[j].T @ K_local(np.mean(coord[0, :]), np.mean(coord[1, :])) @ q_funcs[i] * area / 2\n",
    "\n",
    "    return M"
   ]
  },
  {
   "cell_type": "code",
   "execution_count": 32,
   "metadata": {},
   "outputs": [
    {
     "data": {
      "text/plain": [
       "array([[ 1. , -0.5, -0.5],\n",
       "       [-0.5,  0.5,  0. ],\n",
       "       [-0.5,  0. ,  0.5]])"
      ]
     },
     "execution_count": 32,
     "metadata": {},
     "output_type": "execute_result"
    }
   ],
   "source": [
    "local_A(np.array([[0, 1, 0], [0, 0, 1]]), np.array([-1, 1, -1]), 1, 1, 0)"
   ]
  },
  {
   "cell_type": "code",
   "execution_count": 33,
   "id": "492cd687",
   "metadata": {},
   "outputs": [],
   "source": [
    "def stifness(eta_dofs):\n",
    "\n",
    "    grad_eta   = eta_diff @ eta_dofs\n",
    "\n",
    "    # Map the domain to a reference geometry (i.e. equivalent to compute\n",
    "    # surface coordinates in 1d and 2d)\n",
    "\n",
    "    _, _, sign = sps.find(subdomain.cell_faces)\n",
    "    _, _, _, _, dim, node_coords = pp.map_geometry.map_grid(sd)\n",
    "\n",
    "    # Allocate the data to store matrix entries, that's the most efficient\n",
    "    # way to create a sparse matrix.\n",
    "    size = np.power(sd.dim + 1, 2) * sd.num_cells\n",
    "    rows_I = np.empty(size, dtype=int)\n",
    "    cols_J = np.empty(size, dtype=int)\n",
    "    data_IJ = np.empty(size)\n",
    "    idx = 0\n",
    "\n",
    "    cell_nodes = sd.cell_nodes()\n",
    "\n",
    "    for c in np.arange(sd.num_cells):\n",
    "        # For the current cell retrieve its nodes\n",
    "        loc = slice(cell_nodes.indptr[c], cell_nodes.indptr[c + 1])\n",
    "\n",
    "        nodes_loc = cell_nodes.indices[loc]\n",
    "        coord_loc = node_coords[:, nodes_loc]\n",
    "\n",
    "        eta_cell = np.max(np.where( boundary_grid.nodes[0, :] < sd.cell_centers[0, c] ))\n",
    "\n",
    "        # Compute the stiff-H1 local matrix\n",
    "        A = local_A(coord_loc, sign[loc], eta_dofs[eta_cell], eta_dofs[eta_cell+1], grad_eta[eta_cell])\n",
    "\n",
    "        # Save values for stiff-H1 local matrix in the global structure\n",
    "        cols = np.tile(nodes_loc, (nodes_loc.size, 1))\n",
    "        loc_idx = slice(idx, idx + cols.size)\n",
    "        rows_I[loc_idx] = cols.T.ravel()\n",
    "        cols_J[loc_idx] = cols.ravel()\n",
    "        data_IJ[loc_idx] = A.ravel()\n",
    "        idx += cols.size\n",
    "\n",
    "    # Construct the global matrices\n",
    "    return sps.csc_matrix((data_IJ, (rows_I, cols_J)))"
   ]
  },
  {
   "cell_type": "code",
   "execution_count": 34,
   "metadata": {},
   "outputs": [
    {
     "data": {
      "text/plain": [
       "matrix([[ 1. , -0.5,  0. , ...,  0. ,  0. ,  0. ],\n",
       "        [-0.5,  2. , -0.5, ...,  0. ,  0. ,  0. ],\n",
       "        [ 0. , -0.5,  2. , ...,  0. ,  0. ,  0. ],\n",
       "        ...,\n",
       "        [ 0. ,  0. ,  0. , ...,  2. , -0.5,  0. ],\n",
       "        [ 0. ,  0. ,  0. , ..., -0.5,  2. , -0.5],\n",
       "        [ 0. ,  0. ,  0. , ...,  0. , -0.5,  1. ]])"
      ]
     },
     "execution_count": 34,
     "metadata": {},
     "output_type": "execute_result"
    }
   ],
   "source": [
    "stifness(np.ones_like(boundary_grid.nodes[1, :])).todense()"
   ]
  },
  {
   "cell_type": "markdown",
   "id": "e1e28782",
   "metadata": {},
   "source": [
    "#### Mass matrices"
   ]
  },
  {
   "cell_type": "code",
   "execution_count": 35,
   "metadata": {},
   "outputs": [],
   "source": [
    "def local_mass(coord, chi_x3_func_gen, ls_eta, rs_eta, m):\n",
    "    ordering = find_ordering(coord)\n",
    "\n",
    "    x0 = coord[:, ordering][:, 0]\n",
    "    x1 = coord[:, ordering][:, 1]\n",
    "    x2 = coord[:, ordering][:, 2]\n",
    "\n",
    "    qs = [(lambda x,y: 1-x-y), (lambda x,y: x), (lambda x,y: y)]\n",
    "    \n",
    "    J = np.array([[x1[0]-x0[0], x2[0]-x0[0]],\n",
    "                  [x1[1]-x0[1], x2[1]-x0[1]]])\n",
    "    \n",
    "    jacobian = np.linalg.det(J)\n",
    "    M = np.zeros(shape=(3,3))\n",
    "\n",
    "    base_height = np.min(coord[1, :])\n",
    "    element_height = np.max(coord[1, :]) - base_height\n",
    "\n",
    "    chi_x3 = lambda x,y: 1#chi_x3_func_gen(base_height, element_height, m, ls_eta, rs_eta, x, y)[0]\n",
    "\n",
    "    for i in range(3):\n",
    "        for j in range(3):\n",
    "            integrand = lambda ys,x: np.array([qs[j](x,y) * qs[i](x,y) * chi_x3(x, y) for y in np.array(ys)])\n",
    "            inside = lambda xs, n: np.array([integrate.fixed_quad(integrand, 0, 1-x, args=(x,), n=n)[0] for x in np.array(xs)])\n",
    "            tmp = integrate.fixed_quad(inside, 0, 1, n=3, args=(3,))[0]\n",
    "\n",
    "            M[ ordering[i], ordering[j] ] = tmp * jacobian\n",
    "\n",
    "    return M"
   ]
  },
  {
   "cell_type": "code",
   "execution_count": 36,
   "metadata": {},
   "outputs": [
    {
     "data": {
      "text/plain": [
       "array([[0.08333333, 0.04166667, 0.04166667],\n",
       "       [0.04166667, 0.08333333, 0.04166667],\n",
       "       [0.04166667, 0.04166667, 0.08333333]])"
      ]
     },
     "execution_count": 36,
     "metadata": {},
     "output_type": "execute_result"
    }
   ],
   "source": [
    "local_mass(np.array([[0, 1, 0], [0, 0, 1]]), chi_x3_eta_gen, 1, 1, 1)"
   ]
  },
  {
   "cell_type": "code",
   "execution_count": 37,
   "metadata": {},
   "outputs": [],
   "source": [
    "def global_mass(eta_dofs):\n",
    "    \n",
    "    size = np.power(subdomain.dim + 1, 2) * subdomain.num_cells\n",
    "    rows_I = np.empty(size, dtype=int)\n",
    "    cols_J = np.empty(size, dtype=int)\n",
    "    data_IJ = np.empty(size)\n",
    "    idx = 0\n",
    "\n",
    "    _, _, _, _, _, node_coords = pp.map_geometry.map_grid(subdomain)\n",
    "\n",
    "    # Allocate the data to store matrix entries, that's the most efficient\n",
    "    # way to create a sparse matrix.\n",
    "\n",
    "    cell_nodes = subdomain.cell_nodes()\n",
    "    _, _, sign = sps.find(subdomain.cell_faces)\n",
    "        \n",
    "    for c in np.arange(subdomain.num_cells):\n",
    "        # For the current cell retrieve its nodes\n",
    "        loc = slice(cell_nodes.indptr[c], cell_nodes.indptr[c + 1])\n",
    "\n",
    "        nodes_loc = cell_nodes.indices[loc]\n",
    "        coord_loc = node_coords[:, nodes_loc]\n",
    "\n",
    "        # Compute the stiff-H1 local matrix\n",
    "            \n",
    "        eta_cell = np.max(np.where( boundary_grid.nodes[0, :] < subdomain.cell_centers[0, c] ))\n",
    "\n",
    "        A = local_mass(coord_loc, chi_x3_eta_gen, eta_dofs[eta_cell], eta_dofs[eta_cell+1], np.prod(sign[loc]))\n",
    "\n",
    "        # Save values for stiff-H1 local matrix in the global structure\n",
    "        cols = np.tile(nodes_loc, (nodes_loc.size, 1))\n",
    "\n",
    "        loc_idx = slice(idx, idx + cols.size)\n",
    "        rows_I[loc_idx] = cols.T.ravel()\n",
    "        cols_J[loc_idx] = cols.ravel()\n",
    "        data_IJ[loc_idx] = A.ravel()\n",
    "        idx += cols.size\n",
    "\n",
    "    # Construct the global matrices\n",
    "    return sps.csc_matrix((data_IJ, (rows_I, cols_J)))"
   ]
  },
  {
   "cell_type": "code",
   "execution_count": 38,
   "id": "b746cf87",
   "metadata": {},
   "outputs": [],
   "source": [
    "M_gamma = gamma_field.assemble_mass_matrix( boundary_grid )\n",
    "M_h = h_field.assemble_mass_matrix(subdomain)"
   ]
  },
  {
   "cell_type": "markdown",
   "id": "75188ccc",
   "metadata": {},
   "source": [
    "#### Restrictor matrices"
   ]
  },
  {
   "cell_type": "code",
   "execution_count": 39,
   "id": "54c0b702",
   "metadata": {},
   "outputs": [],
   "source": [
    "restrict_eta = np.array(eta_mask, dtype=float)\n",
    "restrict_eta = sps.csr_matrix(np.diag(restrict_eta, k=0))"
   ]
  },
  {
   "cell_type": "code",
   "execution_count": 40,
   "id": "2133096b",
   "metadata": {},
   "outputs": [],
   "source": [
    "upscale_to_h = np.zeros(shape=(sd.num_nodes, boundary_grid.num_nodes))\n",
    "upscale_to_h[ eta_mask , np.arange(boundary_grid.num_nodes) ] = 1\n",
    "upscale_to_h = sps.csr_matrix(upscale_to_h)"
   ]
  },
  {
   "cell_type": "code",
   "execution_count": 41,
   "id": "e8b3d100",
   "metadata": {},
   "outputs": [],
   "source": [
    "proj_psi = h_field.eval_at_cell_centers(subdomain)"
   ]
  },
  {
   "cell_type": "markdown",
   "id": "04d2bceb",
   "metadata": {},
   "source": [
    "### Solve System"
   ]
  },
  {
   "cell_type": "code",
   "execution_count": 42,
   "id": "abb485ad",
   "metadata": {},
   "outputs": [],
   "source": [
    "if os.path.exists(output_directory):\n",
    "    shutil.rmtree(output_directory)"
   ]
  },
  {
   "cell_type": "code",
   "execution_count": 43,
   "id": "c91b0b90",
   "metadata": {},
   "outputs": [],
   "source": [
    "# Fixed rhs\n",
    "fixed_rhs = np.zeros(dof_p)"
   ]
  },
  {
   "cell_type": "code",
   "execution_count": 44,
   "id": "d75b1f02",
   "metadata": {},
   "outputs": [],
   "source": [
    "# Initial conditions\n",
    "sol = [h_field.interpolate(sd, initial_h_func)]"
   ]
  },
  {
   "cell_type": "code",
   "execution_count": 45,
   "id": "2f2c117b",
   "metadata": {},
   "outputs": [],
   "source": [
    "def save_step(sol, saver, i):\n",
    "    ins = list()\n",
    "\n",
    "    ins.append((sd, \"cell_h\", proj_psi @ sol))\n",
    "\n",
    "    saver.write_vtu(ins, time_step=i)"
   ]
  },
  {
   "cell_type": "code",
   "execution_count": 46,
   "id": "354f427c",
   "metadata": {},
   "outputs": [],
   "source": [
    "# Save the initial solution\n",
    "saver = pp.Exporter(mdg, 'sol', folder_name=output_directory)\n",
    "save_step(sol[-1], saver, 0)"
   ]
  },
  {
   "cell_type": "code",
   "execution_count": 47,
   "metadata": {},
   "outputs": [],
   "source": [
    "csv_base = os.path.join(output_directory, 'csv')\n",
    "os.mkdir( csv_base )"
   ]
  },
  {
   "cell_type": "code",
   "execution_count": 48,
   "id": "6036f9c2",
   "metadata": {},
   "outputs": [
    {
     "name": "stdout",
     "output_type": "stream",
     "text": [
      "Time 0.1\n",
      "Iteration #001, error L2 relative psi:    0.483097106\n",
      "Iteration #002, error L2 relative psi:    0.057074016\n",
      "Iteration #003, error L2 relative psi:    0.022771131\n",
      "Iteration #004, error L2 relative psi:    0.010935707\n",
      "Iteration #005, error L2 relative psi:    0.005709385\n",
      "Iteration #006, error L2 relative psi:    0.003099603\n",
      "Iteration #007, error L2 relative psi:    0.001717092\n",
      "Iteration #008, error L2 relative psi:    0.000961065\n",
      "Iteration #009, error L2 relative psi:    0.000540244\n",
      "Iteration #010, error L2 relative psi:    0.000303916\n",
      "Iteration #011, error L2 relative psi:    0.000170765\n",
      "Iteration #012, error L2 relative psi:    0.000095751\n",
      "Iteration #013, error L2 relative psi:    0.000053569\n",
      "Iteration #014, error L2 relative psi:    0.000029910\n",
      "Iteration #015, error L2 relative psi:    0.000016677\n",
      "Iteration #016, error L2 relative psi:    0.000009292\n",
      "\n",
      "Time 0.2\n",
      "Iteration #001, error L2 relative psi:    0.081271908\n",
      "Iteration #002, error L2 relative psi:    0.042456532\n",
      "Iteration #003, error L2 relative psi:    0.023100425\n",
      "Iteration #004, error L2 relative psi:    0.014534537\n",
      "Iteration #005, error L2 relative psi:    0.009773390\n",
      "Iteration #006, error L2 relative psi:    0.006922879\n",
      "Iteration #007, error L2 relative psi:    0.005168184\n"
     ]
    },
    {
     "name": "stdout",
     "output_type": "stream",
     "text": [
      "Iteration #008, error L2 relative psi:    0.004062500\n",
      "Iteration #009, error L2 relative psi:    0.003348993\n",
      "Iteration #010, error L2 relative psi:    0.002873826\n",
      "Iteration #011, error L2 relative psi:    0.002542078\n",
      "Iteration #012, error L2 relative psi:    0.002297189\n",
      "Iteration #013, error L2 relative psi:    0.002107031\n",
      "Iteration #014, error L2 relative psi:    0.001953186\n",
      "Iteration #015, error L2 relative psi:    0.001824484\n",
      "Iteration #016, error L2 relative psi:    0.001713774\n",
      "Iteration #017, error L2 relative psi:    0.001616330\n",
      "Iteration #018, error L2 relative psi:    0.001528969\n",
      "Iteration #019, error L2 relative psi:    0.001449505\n",
      "Iteration #020, error L2 relative psi:    0.001376404\n",
      "Iteration #021, error L2 relative psi:    0.001308561\n",
      "Iteration #022, error L2 relative psi:    0.001245159\n",
      "Iteration #023, error L2 relative psi:    0.001185576\n",
      "Iteration #024, error L2 relative psi:    0.001129332\n",
      "Iteration #025, error L2 relative psi:    0.001076052\n",
      "Iteration #026, error L2 relative psi:    0.001025441\n",
      "Iteration #027, error L2 relative psi:    0.000977262\n",
      "Iteration #028, error L2 relative psi:    0.000931329\n",
      "Iteration #029, error L2 relative psi:    0.000887491\n",
      "Iteration #030, error L2 relative psi:    0.000845624\n",
      "Iteration #031, error L2 relative psi:    0.000805627\n",
      "Iteration #032, error L2 relative psi:    0.000767413\n",
      "Iteration #033, error L2 relative psi:    0.000730906\n",
      "Iteration #034, error L2 relative psi:    0.000696040\n",
      "Iteration #035, error L2 relative psi:    0.000662753\n",
      "Iteration #036, error L2 relative psi:    0.000630986\n",
      "Iteration #037, error L2 relative psi:    0.000600684\n",
      "Iteration #038, error L2 relative psi:    0.000571794\n",
      "Iteration #039, error L2 relative psi:    0.000544263\n",
      "Iteration #040, error L2 relative psi:    0.000518039\n",
      "Iteration #041, error L2 relative psi:    0.000493072\n",
      "Iteration #042, error L2 relative psi:    0.000469312\n",
      "Iteration #043, error L2 relative psi:    0.000446708\n",
      "Iteration #044, error L2 relative psi:    0.000425212\n",
      "Iteration #045, error L2 relative psi:    0.000404776\n",
      "Iteration #046, error L2 relative psi:    0.000385354\n",
      "Iteration #047, error L2 relative psi:    0.000366899\n",
      "Iteration #048, error L2 relative psi:    0.000349368\n",
      "Iteration #049, error L2 relative psi:    0.000332717\n",
      "Iteration #050, error L2 relative psi:    0.000316904\n",
      "Iteration #051, error L2 relative psi:    0.000301889\n",
      "Iteration #052, error L2 relative psi:    0.000287632\n",
      "Iteration #053, error L2 relative psi:    0.000274097\n",
      "Iteration #054, error L2 relative psi:    0.000261248\n",
      "Iteration #055, error L2 relative psi:    0.000249049\n",
      "Iteration #056, error L2 relative psi:    0.000237468\n",
      "Iteration #057, error L2 relative psi:    0.000226473\n",
      "Iteration #058, error L2 relative psi:    0.000216035\n",
      "Iteration #059, error L2 relative psi:    0.000206123\n",
      "Iteration #060, error L2 relative psi:    0.000196712\n",
      "Iteration #061, error L2 relative psi:    0.000187775\n",
      "Iteration #062, error L2 relative psi:    0.000179287\n",
      "Iteration #063, error L2 relative psi:    0.000171224\n",
      "Iteration #064, error L2 relative psi:    0.000163565\n",
      "Iteration #065, error L2 relative psi:    0.000156287\n",
      "Iteration #066, error L2 relative psi:    0.000149372\n",
      "Iteration #067, error L2 relative psi:    0.000142799\n",
      "Iteration #068, error L2 relative psi:    0.000136550\n",
      "Iteration #069, error L2 relative psi:    0.000130610\n",
      "Iteration #070, error L2 relative psi:    0.000124960\n",
      "Iteration #071, error L2 relative psi:    0.000119587\n",
      "Iteration #072, error L2 relative psi:    0.000114474\n",
      "Iteration #073, error L2 relative psi:    0.000109610\n",
      "Iteration #074, error L2 relative psi:    0.000104980\n",
      "Iteration #075, error L2 relative psi:    0.000100572\n",
      "Iteration #076, error L2 relative psi:    0.000096375\n",
      "Iteration #077, error L2 relative psi:    0.000092377\n",
      "Iteration #078, error L2 relative psi:    0.000088569\n",
      "Iteration #079, error L2 relative psi:    0.000084940\n",
      "Iteration #080, error L2 relative psi:    0.000081481\n",
      "Iteration #081, error L2 relative psi:    0.000078183\n",
      "Iteration #082, error L2 relative psi:    0.000075038\n",
      "Iteration #083, error L2 relative psi:    0.000072038\n",
      "Iteration #084, error L2 relative psi:    0.000069176\n",
      "Iteration #085, error L2 relative psi:    0.000066444\n",
      "Iteration #086, error L2 relative psi:    0.000063836\n",
      "Iteration #087, error L2 relative psi:    0.000061346\n",
      "Iteration #088, error L2 relative psi:    0.000058967\n",
      "Iteration #089, error L2 relative psi:    0.000056695\n",
      "Iteration #090, error L2 relative psi:    0.000054523\n",
      "Iteration #091, error L2 relative psi:    0.000052447\n",
      "Iteration #092, error L2 relative psi:    0.000050462\n",
      "Iteration #093, error L2 relative psi:    0.000048564\n",
      "Iteration #094, error L2 relative psi:    0.000046747\n",
      "Iteration #095, error L2 relative psi:    0.000045009\n",
      "Iteration #096, error L2 relative psi:    0.000043345\n",
      "Iteration #097, error L2 relative psi:    0.000041752\n",
      "Iteration #098, error L2 relative psi:    0.000040227\n",
      "Iteration #099, error L2 relative psi:    0.000038765\n",
      "Iteration #100, error L2 relative psi:    0.000037364\n",
      "\n",
      "Time 0.30000000000000004\n",
      "Iteration #001, error L2 relative psi:    0.014563123\n",
      "Iteration #002, error L2 relative psi:    0.008300683\n",
      "Iteration #003, error L2 relative psi:    0.005592459\n",
      "Iteration #004, error L2 relative psi:    0.004281569\n",
      "Iteration #005, error L2 relative psi:    0.003432010\n",
      "Iteration #006, error L2 relative psi:    0.002866164\n",
      "Iteration #007, error L2 relative psi:    0.002474640\n",
      "Iteration #008, error L2 relative psi:    0.002178250\n",
      "Iteration #009, error L2 relative psi:    0.001934357\n",
      "Iteration #010, error L2 relative psi:    0.001723374\n",
      "Iteration #011, error L2 relative psi:    0.001536486\n",
      "Iteration #012, error L2 relative psi:    0.001369333\n",
      "Iteration #013, error L2 relative psi:    0.001219348\n",
      "Iteration #014, error L2 relative psi:    0.001084715\n",
      "Iteration #015, error L2 relative psi:    0.000963976\n",
      "Iteration #016, error L2 relative psi:    0.000855869\n",
      "Iteration #017, error L2 relative psi:    0.000759252\n",
      "Iteration #018, error L2 relative psi:    0.000673075\n",
      "Iteration #019, error L2 relative psi:    0.000596355\n",
      "Iteration #020, error L2 relative psi:    0.000528174\n",
      "Iteration #021, error L2 relative psi:    0.000467676\n",
      "Iteration #022, error L2 relative psi:    0.000414064\n",
      "Iteration #023, error L2 relative psi:    0.000366606\n",
      "Iteration #024, error L2 relative psi:    0.000324629\n",
      "Iteration #025, error L2 relative psi:    0.000287521\n",
      "Iteration #026, error L2 relative psi:    0.000254731\n",
      "Iteration #027, error L2 relative psi:    0.000225762\n",
      "Iteration #028, error L2 relative psi:    0.000200168\n",
      "Iteration #029, error L2 relative psi:    0.000177555\n",
      "Iteration #030, error L2 relative psi:    0.000157569\n",
      "Iteration #031, error L2 relative psi:    0.000139899\n",
      "Iteration #032, error L2 relative psi:    0.000124271\n",
      "Iteration #033, error L2 relative psi:    0.000110442\n",
      "Iteration #034, error L2 relative psi:    0.000098197\n",
      "Iteration #035, error L2 relative psi:    0.000087350\n",
      "Iteration #036, error L2 relative psi:    0.000077735\n",
      "Iteration #037, error L2 relative psi:    0.000069208\n",
      "Iteration #038, error L2 relative psi:    0.000061640\n",
      "Iteration #039, error L2 relative psi:    0.000054921\n",
      "Iteration #040, error L2 relative psi:    0.000048951\n",
      "Iteration #041, error L2 relative psi:    0.000043644\n",
      "Iteration #042, error L2 relative psi:    0.000038924\n",
      "Iteration #043, error L2 relative psi:    0.000034724\n",
      "Iteration #044, error L2 relative psi:    0.000030986\n",
      "Iteration #045, error L2 relative psi:    0.000027656\n",
      "Iteration #046, error L2 relative psi:    0.000024690\n",
      "Iteration #047, error L2 relative psi:    0.000022046\n",
      "Iteration #048, error L2 relative psi:    0.000019689\n",
      "Iteration #049, error L2 relative psi:    0.000017586\n",
      "Iteration #050, error L2 relative psi:    0.000015711\n",
      "Iteration #051, error L2 relative psi:    0.000014037\n",
      "\n",
      "Time 0.4\n",
      "Iteration #001, error L2 relative psi:    0.004761787\n",
      "Iteration #002, error L2 relative psi:    0.002513178\n",
      "Iteration #003, error L2 relative psi:    0.001692366\n",
      "Iteration #004, error L2 relative psi:    0.001255783\n",
      "Iteration #005, error L2 relative psi:    0.000941238\n",
      "Iteration #006, error L2 relative psi:    0.000717136\n",
      "Iteration #007, error L2 relative psi:    0.000557919\n",
      "Iteration #008, error L2 relative psi:    0.000440652\n",
      "Iteration #009, error L2 relative psi:    0.000351022\n",
      "Iteration #010, error L2 relative psi:    0.000280939\n",
      "Iteration #011, error L2 relative psi:    0.000225506\n",
      "Iteration #012, error L2 relative psi:    0.000181420\n",
      "Iteration #013, error L2 relative psi:    0.000146267\n",
      "Iteration #014, error L2 relative psi:    0.000118204\n",
      "Iteration #015, error L2 relative psi:    0.000095783\n",
      "Iteration #016, error L2 relative psi:    0.000077854\n",
      "Iteration #017, error L2 relative psi:    0.000063502\n",
      "Iteration #018, error L2 relative psi:    0.000051995\n",
      "Iteration #019, error L2 relative psi:    0.000042751\n",
      "Iteration #020, error L2 relative psi:    0.000035308\n",
      "Iteration #021, error L2 relative psi:    0.000029298\n",
      "Iteration #022, error L2 relative psi:    0.000024430\n",
      "Iteration #023, error L2 relative psi:    0.000020471\n",
      "Iteration #024, error L2 relative psi:    0.000017240\n",
      "Iteration #025, error L2 relative psi:    0.000014591\n",
      "\n",
      "Time 0.5\n",
      "Iteration #001, error L2 relative psi:    0.001341767\n",
      "Iteration #002, error L2 relative psi:    0.000704296\n",
      "Iteration #003, error L2 relative psi:    0.000457918\n",
      "Iteration #004, error L2 relative psi:    0.000329786\n",
      "Iteration #005, error L2 relative psi:    0.000237401\n",
      "Iteration #006, error L2 relative psi:    0.000171245\n",
      "Iteration #007, error L2 relative psi:    0.000124814\n",
      "Iteration #008, error L2 relative psi:    0.000091876\n",
      "Iteration #009, error L2 relative psi:    0.000068078\n",
      "Iteration #010, error L2 relative psi:    0.000050651\n",
      "Iteration #011, error L2 relative psi:    0.000037787\n",
      "Iteration #012, error L2 relative psi:    0.000028242\n",
      "Iteration #013, error L2 relative psi:    0.000021136\n",
      "Iteration #014, error L2 relative psi:    0.000015834\n",
      "Iteration #015, error L2 relative psi:    0.000011871\n",
      "\n",
      "Time 0.6000000000000001\n",
      "Iteration #001, error L2 relative psi:    0.000338023\n",
      "Iteration #002, error L2 relative psi:    0.000181577\n",
      "Iteration #003, error L2 relative psi:    0.000119579\n",
      "Iteration #004, error L2 relative psi:    0.000086811\n",
      "Iteration #005, error L2 relative psi:    0.000063010\n",
      "Iteration #006, error L2 relative psi:    0.000045817\n",
      "Iteration #007, error L2 relative psi:    0.000033586\n",
      "Iteration #008, error L2 relative psi:    0.000024797\n",
      "Iteration #009, error L2 relative psi:    0.000018385\n",
      "Iteration #010, error L2 relative psi:    0.000013663\n",
      "\n",
      "Time 0.7000000000000001\n",
      "Iteration #001, error L2 relative psi:    0.000088312\n",
      "Iteration #002, error L2 relative psi:    0.000049844\n",
      "Iteration #003, error L2 relative psi:    0.000033933\n",
      "Iteration #004, error L2 relative psi:    0.000024958\n",
      "Iteration #005, error L2 relative psi:    0.000018317\n",
      "Iteration #006, error L2 relative psi:    0.000013446\n",
      "\n",
      "Time 0.8\n",
      "Iteration #001, error L2 relative psi:    0.000026229\n",
      "Iteration #002, error L2 relative psi:    0.000016962\n",
      "Iteration #003, error L2 relative psi:    0.000012302\n",
      "\n",
      "Time 0.9\n",
      "Iteration #001, error L2 relative psi:    0.000012270\n",
      "\n",
      "Time 1.0\n",
      "Iteration #001, error L2 relative psi:    0.000009775\n",
      "\n"
     ]
    }
   ],
   "source": [
    "# Time Loop\n",
    "for i in range(1, int(T/dt)+1):\n",
    "    print('Time ' + str(i * dt))\n",
    "    current_time = i * dt\n",
    "\n",
    "    # Prepare the solution at the previous time step and ...\n",
    "    prev = sol[-1].copy()\n",
    "\n",
    "    # Prepare the rhs\n",
    "    time_rhs = fixed_rhs.copy()\n",
    "\n",
    "    debug_saver = pp.Exporter(mdg, str(i) + '_sol', folder_name=os.path.join(output_directory, 'debug'))\n",
    "    save_step(sol[-1], debug_saver, 0)\n",
    "\n",
    "    # Non-linear loop\n",
    "    for k in range(max_iterations_per_step):\n",
    "        A_h = stifness(prev[eta_mask])  #h_field.assemble_stiff_matrix(subdomain, data)\n",
    "\n",
    "        # Assemble the saddle point problem\n",
    "        glob_mass = global_mass(prev[eta_mask])\n",
    "        spp = sps.csr_matrix(S_s / dt * glob_mass + phi / dt * upscale_to_h @ M_gamma @ upscale_to_h.T + A_h)\n",
    "\n",
    "        # Prepare the solver\n",
    "        rhs = time_rhs.copy()\n",
    "        rhs += S_s / dt * glob_mass @ sol[-1] + phi / dt * upscale_to_h @ M_gamma @ sol[-1][eta_mask] + upscale_to_h @ M_gamma @ gamma_field.interpolate( boundary_grid, lambda x: infiltration(x, current_time) ) + neumann_value #/ prev[eta_mask][0]\n",
    "        \n",
    "        ls = pg.LinearSystem(spp, rhs)\n",
    "        ls.flag_ess_bc(dirichlet_flag, dirichlet_value)\n",
    "\n",
    "        current = ls.solve()\n",
    "\n",
    "        # Compute the errors (with eta). Should I consider only psi? Should I compute the error on the \"actual\" psi values or on the dofs\n",
    "        rel_err_psi  = np.sqrt( (current - prev).T @ M_h @ (current - prev) )\n",
    "        abs_err_prev = np.sqrt( prev.T @ M_h @ prev )\n",
    "\n",
    "        print('Iteration #' + format(k+1, '0' + str(ceil(log10(max_iterations_per_step)) + 1) + 'd')\n",
    "              + ', error L2 relative psi: ' + format(rel_err_psi, str(5 + ceil(log10(1 / abs_tol)) + 4)\n",
    "                                                     + '.' + str(ceil(log10(1 / abs_tol)) + 4) + 'f') )\n",
    "\n",
    "        save_step(current, debug_saver, k+1)\n",
    "        \n",
    "        if rel_err_psi < abs_tol + rel_tol * abs_err_prev:\n",
    "            break\n",
    "        else:\n",
    "            prev = None\n",
    "            prev = current.copy()\n",
    "\n",
    "    print('')\n",
    "    sol.append( current.copy() )\n",
    "    save_step(sol[-1], saver, i)\n",
    "\n",
    "    export_name = os.path.join(csv_base, str(i) + '.csv')\n",
    "\n",
    "    with open( export_name, 'w' ) as file:\n",
    "\n",
    "        file.write('x,y,h,p\\n')\n",
    "\n",
    "        et = np.tile(sol[-1][eta_mask], ceil(subdomain.num_nodes / boundary_grid.num_nodes))\n",
    "        for x,y,h,p in zip( subdomain.nodes[0, :], subdomain.nodes[1, :] * et, sol[-1], sol[-1] - subdomain.nodes[1, :] * et):\n",
    "            file.write(f'{x},{y},{h},{p}\\n')\n",
    "\n",
    "saver.write_pvd([t * dt for t in range(int(T/dt)+1)])"
   ]
  },
  {
   "cell_type": "code",
   "execution_count": 49,
   "id": "beb6342a",
   "metadata": {},
   "outputs": [
    {
     "name": "stderr",
     "output_type": "stream",
     "text": [
      "The PostScript backend does not support transparency; partially transparent artists will be rendered opaque.\n"
     ]
    },
    {
     "data": {
      "image/png": "[encoded data removed]",
      "text/plain": [
       "<Figure size 500x500 with 1 Axes>"
      ]
     },
     "metadata": {},
     "output_type": "display_data"
    }
   ],
   "source": [
    "fig, ax = plt.subplots(nrows=1, ncols=1, figsize=(5, 5))\n",
    "\n",
    "\n",
    "#ax.set_ylim(0.65, 1.01)\n",
    "ax.set_xlim(0, 1)\n",
    "\n",
    "ax.plot( boundary_grid.nodes[0, :],  sol[0][eta_mask], 'o-' )\n",
    "ax.plot( boundary_grid.nodes[0, :],  sol[1][eta_mask], 'o-')\n",
    "ax.plot( boundary_grid.nodes[0, :],  sol[3][eta_mask], 'o-' )\n",
    "ax.plot( boundary_grid.nodes[0, :], sol[-1][eta_mask], 'o-' )\n",
    "\n",
    "ax.set_xlabel('Distance from well')\n",
    "ax.set_ylabel('Water table height')\n",
    "\n",
    "ax.legend(['T=0.0', 'T=0.1', 'T=0.3', 'T=1.0'])\n",
    "\n",
    "ax.grid()\n",
    "plt.savefig('moving_darcy_original.eps', format='eps')"
   ]
  },
  {
   "cell_type": "code",
   "execution_count": 50,
   "metadata": {},
   "outputs": [
    {
     "data": {
      "text/plain": [
       "array([0.517312  , 0.53546013, 0.58106727, 0.64328022, 0.71109108,\n",
       "       0.77704413, 0.83740958, 0.89059691, 0.93596248, 0.97294754,\n",
       "       1.        ])"
      ]
     },
     "execution_count": 50,
     "metadata": {},
     "output_type": "execute_result"
    }
   ],
   "source": [
    "sol[1][eta_mask]"
   ]
  }
 ],
 "metadata": {
  "kernelspec": {
   "display_name": "Python 3 (ipykernel)",
   "language": "python",
   "name": "python3"
  },
  "language_info": {
   "codemirror_mode": {
    "name": "ipython",
    "version": 3
   },
   "file_extension": ".py",
   "mimetype": "text/x-python",
   "name": "python",
   "nbconvert_exporter": "python",
   "pygments_lexer": "ipython3",
   "version": "3.11.5"
  },
  "vscode": {
   "interpreter": {
    "hash": "e4cc1db98167c7fd7d55a1da8057731abc6cd6fe154328a2ae319df8aab4e24d"
   }
  }
 },
 "nbformat": 4,
 "nbformat_minor": 5
}
