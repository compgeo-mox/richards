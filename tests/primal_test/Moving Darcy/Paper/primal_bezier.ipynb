{
 "cells": [
  {
   "cell_type": "markdown",
   "id": "essential-american",
   "metadata": {},
   "source": [
    "# Darcy equation\n",
    "\n",
    "In this tutorial we present how to solve a Darcy equation with [PyGeoN](https://github.com/compgeo-mox/pygeon) in themoving domain case (the upper boundary will move).  The unkwons are the velocity $u$, the elevation head $h$ and the height of the upper boundary $\\eta$.\n",
    "\n",
    "Let $\\Omega=(0,1)\\times(0,\\eta)$ with boundary $\\partial \\Omega$ and outward unit normal ${\\nu}$. Given \n",
    "$K$ the matrix permeability, we want to solve the following problem: find $(\\bm{u}, h)$ such that\n",
    "$$\n",
    "\\left\\{\n",
    "\\begin{array}{ll}\n",
    "\\begin{array}{l} \n",
    "K^{-1} {\\bm{u}} + \\nabla h = {0}\\\\\n",
    "S_s \\frac{\\partial{h}}{\\partial t} + \\nabla \\cdot {u} = f\n",
    "\\end{array}\n",
    "&\\text{in } \\Omega\n",
    "\\end{array}\n",
    "\\right.\n",
    "$$"
   ]
  },
  {
   "cell_type": "markdown",
   "id": "dadbb451",
   "metadata": {},
   "source": [
    "In order to solve the problem, we will perfom a change of coordinates to a reference domain $\\hat{\\Omega}=(0,1)^2$ through the (linear) trasnformation $R : \\Omega \\rightarrow \\hat{\\Omega}$ (and its inverse function $D : \\hat{\\Omega} \\rightarrow \\Omega$).\n",
    "Recall that $\\hat{\\nabla}R=(\\nabla D)^{-1}$.\n",
    "\n",
    "Let $\\hat{h}$ and $\\hat{\\bm{u}}$ be $h$ and $\\bm{u}$ respectevely in the reference domain and let $\\hat{K}$ be the transformed permeability matrix, defined as $\\hat{K}=det(\\hat{\\nabla}D) (\\hat{\\nabla} D)^{-1} K (\\hat{\\nabla} D)^{-T}$.\n",
    "\n",
    "The equation describing the motion of $\\partial_{top}\\Omega$ is:\n",
    "$$\n",
    "\n",
    "\\phi \\frac{\\partial \\eta}{\\partial t} = \\hat{u_3} + I(t)\n",
    "\n",
    "$$"
   ]
  },
  {
   "cell_type": "markdown",
   "id": "a068fac3",
   "metadata": {},
   "source": [
    "The transformed equations in $\\hat{\\Omega}$ is:\n",
    "$$\n",
    "\\left\\{\n",
    "\\begin{array}{ll}\n",
    "\\begin{array}{l} \n",
    "\\hat{K}({\\eta})^{-1} {\\hat{u}} + \\hat{\\nabla} \\hat{h} = {0}\\\\\n",
    "\\hat{S}_s \\frac{\\partial{\\hat{h}}}{\\partial t} + \\hat{\\nabla} \\cdot {\\hat{\\bm{u}}} = f\n",
    "\\end{array}\n",
    "&\\text{in } \\hat{\\Omega}\n",
    "\\end{array}\n",
    "\\right.\n",
    "$$\n",
    "with boundary conditions:\n",
    "$$ \\hat{h} = \\eta \\text{ on } \\Gamma \\qquad \\hat{h} = \\ell \\text{ on } \\Gamma_D \\qquad \\hat{\\bm{\\nu}} \\cdot \\hat{\\bm{u}} = 0 \\text{ on } \\Gamma_N$$"
   ]
  },
  {
   "cell_type": "markdown",
   "id": "47b01879",
   "metadata": {},
   "source": [
    "The weak formulation will be:\n",
    "$$\n",
    "\\left\\{\n",
    "\\begin{array}{ll}\n",
    "\\begin{array}{l} \n",
    "\\int_{\\Omega}\\hat{K}(\\eta)^{-1} {\\bm{\\hat{u}}} \\cdot \\bm{v} \\, d\\Omega - \\int_{\\Omega} h \\hat{\\nabla} \\cdot {\\hat{\\bm{v}}} \\, d\\Omega = - \\int_{\\Gamma_D} h \\bm{v} \\cdot \\bm{\\nu} \\, d\\Omega - \\int_{\\Gamma} \\eta \\bm{v} \\cdot \\bm{\\nu} \\, d\\Omega\\\\\n",
    "\\int_{\\Omega} \\hat{S}_s \\frac{\\partial{\\hat{h}}}{\\partial t} v \\, d\\Omega + \\int_{\\Omega} \\hat{\\nabla} \\cdot {\\hat{\\bm{u}}} v \\, d\\Omega = \\int_{\\Omega} fv \\, d\\Omega\\\\\n",
    "\\int_{\\Gamma} \\phi \\frac{\\partial \\eta}{\\partial t} v \\, d\\sigma = \\int_{\\Gamma} \\hat{u_3} v \\, d\\sigma + \\int_{\\Gamma} I(t) v \\, d\\sigma\n",
    "\\end{array}\n",
    "\\end{array}\n",
    "\\right.\n",
    "$$"
   ]
  },
  {
   "cell_type": "markdown",
   "id": "dcdc7603",
   "metadata": {},
   "source": [
    "For the time discretization, we will employ a backward Euler scheme:\n",
    "\n",
    "$$\n",
    "\\left\\{\n",
    "\\begin{array}{ll}\n",
    "\\begin{array}{l} \n",
    "\\int_{\\Omega}\\hat{K}(\\eta^{n+1})^{-1} {\\bm{\\hat{u}}^{n+1}} \\cdot \\bm{v} \\, d\\Omega - \\int_{\\Omega} h^{n+1} \\hat{\\nabla} \\cdot {\\hat{\\bm{v}}} \\, d\\Omega = - \\int_{\\Gamma_D} h^{n+1} \\bm{v} \\cdot \\bm{\\nu} \\, d\\Omega - \\int_{\\Gamma} \\eta^{n+1} \\bm{v} \\cdot \\bm{\\nu} \\, d\\Omega\\\\\n",
    "\\int_{\\Omega} \\hat{S}_s^{n+1} \\frac{\\hat{h}^{n+1} - \\hat{h}^{n}}{\\Delta t} v \\, d\\Omega + \\int_{\\Omega} \\hat{\\nabla} \\cdot {\\hat{\\bm{u}}^{n+1}} v \\, d\\Omega = \\int_{\\Omega} f^{n+1}v \\, d\\Omega\\\\\n",
    "\\int_{\\Gamma} \\phi \\eta^{n+1} v \\, d\\sigma = \\Delta t \\int_{\\Gamma} \\hat{\\bm{u}}^{n+1} \\cdot \\bm{\\nu} v \\, d\\sigma + \\int_{\\Gamma} \\phi \\eta^{n} v \\, d\\sigma + \\Delta t \\int_{\\Gamma} I^{n+1} v \\, d\\sigma\n",
    "\\end{array}\n",
    "\\end{array}\n",
    "\\right.\n",
    "$$"
   ]
  },
  {
   "cell_type": "markdown",
   "id": "faf928a5",
   "metadata": {},
   "source": [
    "To deal with the non-linear term, we will employ a simple Picard scheme:\n",
    "\n",
    "$$\n",
    "\\left\\{\n",
    "\\begin{array}{ll}\n",
    "\\begin{array}{l} \n",
    "\\int_{\\Omega}\\hat{K}(\\eta^{n+1}_k)^{-1} {\\bm{\\hat{u}_{k+1}^{n+1}}} \\cdot \\bm{v} \\, d\\Omega - \\int_{\\Omega} h^{n+1}_{k+1} \\hat{\\nabla} \\cdot {\\hat{\\bm{v}}} \\, d\\Omega + \\int_{\\Gamma} \\eta^{n+1}_{k+1} \\bm{v} \\cdot \\bm{\\nu} \\, d\\Omega= - \\int_{\\Gamma_D} h^{n+1} \\bm{v} \\cdot \\bm{\\nu} \\, d\\Omega\\\\\n",
    "\\Delta t \\int_{\\Omega} \\hat{\\nabla} \\cdot {\\hat{\\bm{u}}^{n+1}_{k+1}} v \\, d\\Omega + \\int_{\\Omega} \\hat{S}_s \\hat{h}^{n+1}_{k+1} v \\, d\\Omega = \\int_{\\Omega} \\hat{S}_s \\hat{h}^{n} v \\, d\\Omega + \\Delta t \\int_{\\Omega} f^{n+1}v \\, d\\Omega\\\\\n",
    "- \\Delta t \\int_{\\Gamma} \\hat{\\bm{u}}^{n+1}_{k+1} \\cdot \\bm{\\nu} v \\, d\\sigma + \\int_{\\Gamma} \\phi \\eta^{n+1}_{k+1} v \\, d\\sigma = \\int_{\\Gamma} \\phi \\eta^{n} v \\, d\\sigma + \\Delta t \\int_{\\Gamma} I^{n+1} v \\, d\\sigma\n",
    "\\end{array}\n",
    "\\end{array}\n",
    "\\right.\n",
    "$$"
   ]
  },
  {
   "cell_type": "markdown",
   "id": "615fb33d",
   "metadata": {},
   "source": [
    "The matrix formulation will be:\n",
    "\n",
    "$$\n",
    "\\left\\{\n",
    "\\begin{array}{ll}\n",
    "\\begin{array}{l} \n",
    "M_u(\\bm{\\eta}^{n+1}_{k}) \\bm{u}^{n+1}_{k+1} + B^T\\bm{h}^{n+1}_{k+1} + B_{\\Gamma}^T \\bm{\\eta}^{n+1}_{k+1}= \\bm{BC}^{n+1}\\\\\n",
    "- \\Delta t B \\hat{\\bm{u}}^{n+1}_{k+1} + S_s M_{h} \\bm{\\hat{h}^{n+1}_{k+1}} = \\Delta t \\bm{F}^{n+1} + S_s M_{h} \\bm{\\hat{h}^{n}}\\\\\n",
    "- \\Delta t B_{\\Gamma} \\hat{\\bm{u}}^{n+1}_{k+1} + \\phi M_{\\Gamma} \\bm{\\eta^{n+1}_{k+1}} = \\phi M_{\\Gamma} \\bm{\\eta^{n}} + \\Delta t \\bm{I}^{n+1}\n",
    "\\end{array}\n",
    "\\end{array}\n",
    "\\right.\n",
    "$$"
   ]
  },
  {
   "cell_type": "markdown",
   "id": "49e31d3b",
   "metadata": {},
   "source": [
    "$$\n",
    "\\left(\n",
    "\\begin{array}{cc} \n",
    "M_u(\\bm{\\eta^{n+1}_k}) & B^T & B_{\\Gamma}^T\\\\\n",
    "-\\Delta t B & S_s M_h & 0\\\\\n",
    "-\\Delta t B_{\\Gamma} & 0 & \\phi M_{\\Gamma}\n",
    "\\end{array}\n",
    "\\right)\n",
    "\\left(\n",
    "\\begin{array}{c} \n",
    "\\bm{u^{n+1}_{k+1}}\\\\ \n",
    "\\bm{h^{n+1}_{k+1}}\\\\\n",
    "\\bm{\\eta^{n+1}_{k+1}}\n",
    "\\end{array}\n",
    "\\right)\n",
    "=\\left(\n",
    "\\begin{array}{c} \n",
    "\\bm{BC}^{n+1}\\\\ \n",
    "\\Delta t \\bm{F}^{n+1} + S_s M_h \\bm{h}^n\\\\\n",
    "\\phi M_{\\Gamma} \\bm{\\eta}^n + \\Delta t \\bm{I}^{n+1}\n",
    "\\end{array}\n",
    "\\right)\n",
    "$$"
   ]
  },
  {
   "cell_type": "markdown",
   "id": "60777fa8",
   "metadata": {},
   "source": [
    "We will start to test the method in the case $M_u(\\bm{h_k}^{n+1})=\\bm{I}$"
   ]
  },
  {
   "cell_type": "code",
   "execution_count": 1,
   "id": "fa691294",
   "metadata": {},
   "outputs": [],
   "source": [
    "%load_ext Cython"
   ]
  },
  {
   "cell_type": "code",
   "execution_count": 2,
   "id": "dietary-perth",
   "metadata": {},
   "outputs": [
    {
     "name": "stderr",
     "output_type": "stream",
     "text": [
      "/opt/conda/lib/python3.11/site-packages/porepy/numerics/nonlinear/nonlinear_solvers.py:13: TqdmExperimentalWarning: Using `tqdm.autonotebook.tqdm` in notebook mode. Use `tqdm.tqdm` instead to force console mode (e.g. in jupyter console)\n",
      "  from tqdm.autonotebook import trange  # type: ignore\n"
     ]
    }
   ],
   "source": [
    "import numpy as np\n",
    "import scipy.sparse as sps\n",
    "from math import ceil, floor, log10, exp, isnan\n",
    "import os, shutil\n",
    "\n",
    "import porepy as pp\n",
    "import pygeon as pg\n",
    "import scipy.integrate as integrate\n",
    "\n",
    "import matplotlib.pyplot as plt\n",
    "\n",
    "import scipy as sc\n",
    "\n",
    "import sympy as sp"
   ]
  },
  {
   "cell_type": "code",
   "execution_count": 3,
   "id": "1e1342bf",
   "metadata": {},
   "outputs": [],
   "source": [
    "output_directory = 'primal_test'"
   ]
  },
  {
   "cell_type": "markdown",
   "id": "roman-glossary",
   "metadata": {},
   "source": [
    "### Parameters"
   ]
  },
  {
   "cell_type": "code",
   "execution_count": 4,
   "id": "9b5f484a",
   "metadata": {},
   "outputs": [],
   "source": [
    "T = 1\n",
    "dt = 0.1"
   ]
  },
  {
   "cell_type": "code",
   "execution_count": 5,
   "id": "60dbe54f",
   "metadata": {},
   "outputs": [],
   "source": [
    "infiltration_rate = 1e-3\n",
    "extraction_rate = 0.3"
   ]
  },
  {
   "cell_type": "code",
   "execution_count": 6,
   "id": "09d80195",
   "metadata": {},
   "outputs": [],
   "source": [
    "S_s = 0.1\n",
    "phi = 0.1"
   ]
  },
  {
   "cell_type": "code",
   "execution_count": 7,
   "id": "0816cee5",
   "metadata": {},
   "outputs": [],
   "source": [
    "N = 10 # 16\n",
    "quad_order = 1"
   ]
  },
  {
   "cell_type": "code",
   "execution_count": 8,
   "id": "03c363e3",
   "metadata": {},
   "outputs": [],
   "source": [
    "abs_tol = 1e-5\n",
    "rel_tol = 1e-5\n",
    "max_iterations_per_step = 100"
   ]
  },
  {
   "cell_type": "markdown",
   "id": "97631457",
   "metadata": {},
   "source": [
    "### Grid and $V_h$"
   ]
  },
  {
   "cell_type": "code",
   "execution_count": 9,
   "id": "spectacular-saturn",
   "metadata": {},
   "outputs": [],
   "source": [
    "# convert the grid into a mixed-dimensional grid\n",
    "sd = pp.StructuredTriangleGrid([N, N], [1, 1])\n",
    "sd.compute_geometry()\n",
    "pg.convert_from_pp(sd)"
   ]
  },
  {
   "cell_type": "code",
   "execution_count": 10,
   "id": "ffa231fe",
   "metadata": {},
   "outputs": [],
   "source": [
    "boundary_grid, boundary_face_map, boundary_node_map = pp.partition.extract_subgrid(sd, sd.face_centers[1, :] == 1, faces=True)"
   ]
  },
  {
   "cell_type": "code",
   "execution_count": 11,
   "id": "cb80af64",
   "metadata": {},
   "outputs": [],
   "source": [
    "mdg = pg.as_mdg(sd)"
   ]
  },
  {
   "cell_type": "code",
   "execution_count": 12,
   "id": "0869e7e2",
   "metadata": {},
   "outputs": [],
   "source": [
    "subdomain, data = mdg.subdomains( return_data=True )[0]"
   ]
  },
  {
   "cell_type": "code",
   "execution_count": 13,
   "id": "0024b7c0",
   "metadata": {},
   "outputs": [],
   "source": [
    "key = \"flow\"\n",
    "\n",
    "darcy_data = {}\n",
    "initial_pressure = []"
   ]
  },
  {
   "cell_type": "code",
   "execution_count": 14,
   "id": "88c12db7",
   "metadata": {},
   "outputs": [],
   "source": [
    "h_field     = pg.Lagrange1(key)\n",
    "gamma_field = pg.Lagrange1(key)"
   ]
  },
  {
   "cell_type": "code",
   "execution_count": 15,
   "id": "12700018",
   "metadata": {},
   "outputs": [],
   "source": [
    "subdomain, data = mdg.subdomains(return_data=True)[0]"
   ]
  },
  {
   "cell_type": "code",
   "execution_count": 16,
   "id": "e0507296",
   "metadata": {},
   "outputs": [],
   "source": [
    "def h_bc(x, t): return 1\n",
    "def initial_h_func(x): return 1\n",
    "def infiltration(x, t): return infiltration_rate"
   ]
  },
  {
   "cell_type": "code",
   "execution_count": 17,
   "id": "d5aafac3",
   "metadata": {},
   "outputs": [],
   "source": [
    "eta_mask = sd.nodes[1, :] == 1"
   ]
  },
  {
   "cell_type": "code",
   "execution_count": 18,
   "id": "1827411d",
   "metadata": {},
   "outputs": [],
   "source": [
    "dof_p = h_field.ndof(subdomain)"
   ]
  },
  {
   "cell_type": "markdown",
   "id": "9d33b2a2",
   "metadata": {},
   "source": [
    "### BC"
   ]
  },
  {
   "cell_type": "markdown",
   "id": "c0bbe30c",
   "metadata": {},
   "source": [
    "##### Dirichlet (essential)"
   ]
  },
  {
   "cell_type": "code",
   "execution_count": 19,
   "metadata": {},
   "outputs": [],
   "source": [
    "dirichlet_flag = sd.nodes[0, :] == 1\n",
    "dirichlet_value = np.array(dirichlet_flag, dtype=float)"
   ]
  },
  {
   "cell_type": "markdown",
   "id": "07a096f7",
   "metadata": {},
   "source": [
    "##### Neumann (natural)"
   ]
  },
  {
   "cell_type": "code",
   "execution_count": 20,
   "metadata": {},
   "outputs": [],
   "source": [
    "left   = sd.face_centers[0, :] == 0\n",
    "bottom = sd.face_centers[1, :] == 0\n",
    "\n",
    "neumann_flag  = np.logical_or(left, bottom)\n",
    "neumann_value = -h_field.assemble_nat_bc( sd, lambda x: extraction_rate, np.where(left)[0] )"
   ]
  },
  {
   "cell_type": "markdown",
   "metadata": {},
   "source": [
    "### Mapping"
   ]
  },
  {
   "cell_type": "code",
   "execution_count": 21,
   "metadata": {},
   "outputs": [],
   "source": [
    "A = 2\n",
    "\n",
    "eta_var = sp.Symbol('eta', negative=False)\n",
    "x3_var  = sp.Symbol('x3',  negative=False)\n",
    "chi_expr = eta_var * x3_var * (1 + (1-x3_var) * eta_var * x3_var / A)\n",
    "chi = sp.lambdify( [eta_var, x3_var], chi_expr.simplify(), 'numpy' )\n",
    "\n",
    "chi_x3  = sp.lambdify( [eta_var, x3_var], sp.diff(chi_expr,  x3_var).simplify(), 'numpy' )\n",
    "chi_eta = sp.lambdify( [eta_var, x3_var], sp.diff(chi_expr, eta_var).simplify(), 'numpy' )"
   ]
  },
  {
   "cell_type": "code",
   "execution_count": 22,
   "metadata": {},
   "outputs": [
    {
     "data": {
      "image/png": "[encoded data removed]",
      "text/plain": [
       "<Figure size 640x480 with 1 Axes>"
      ]
     },
     "metadata": {},
     "output_type": "display_data"
    }
   ],
   "source": [
    "fig = plt.figure()\n",
    "ax = fig.subplots(1,1)\n",
    "\n",
    "ax.plot(np.arange(0., 1., 1/1000),     chi(np.ones(shape=(1000, )), np.arange(0., 1., 1/1000)))\n",
    "ax.plot(np.arange(0., 1., 1/1000),  chi_x3(np.ones(shape=(1000, )), np.arange(0., 1., 1/1000)))\n",
    "ax.plot(np.arange(0., 1., 1/1000), chi_eta(np.ones(shape=(1000, )), np.arange(0., 1., 1/1000)))\n",
    "\n",
    "ax.legend(['$\\chi$', '$\\chi_{x_3}$', '$\\chi_{\\eta}$'])\n",
    "\n",
    "ax.grid()"
   ]
  },
  {
   "cell_type": "code",
   "execution_count": 23,
   "metadata": {},
   "outputs": [],
   "source": [
    "def convert_heights(eta_dofs, heights):\n",
    "    if len(eta_dofs) == len(heights):\n",
    "        return chi(eta_dofs, heights)\n",
    "    else:\n",
    "        return chi( np.tile(eta_dofs, ceil(len(heights) / len(eta_dofs))) , heights)"
   ]
  },
  {
   "cell_type": "code",
   "execution_count": 24,
   "metadata": {},
   "outputs": [
    {
     "data": {
      "image/png": "[encoded data removed]",
      "text/plain": [
       "<Figure size 640x480 with 1 Axes>"
      ]
     },
     "metadata": {},
     "output_type": "display_data"
    }
   ],
   "source": [
    "ax = plt.subplot(1,1,1)\n",
    "ax.plot( np.arange(0, 1, 0.01), chi(1, np.arange(0, 1, 0.01)), 'b' )\n",
    "ax.grid()"
   ]
  },
  {
   "cell_type": "markdown",
   "id": "c3b55b3f",
   "metadata": {},
   "source": [
    "### Matrix Assembly"
   ]
  },
  {
   "cell_type": "code",
   "execution_count": 25,
   "id": "ecea12f2",
   "metadata": {},
   "outputs": [],
   "source": [
    "eta_diff = gamma_field.assemble_diff_matrix( boundary_grid )\n",
    "eta_diff[0,0] = -1\n",
    "eta_diff *= N"
   ]
  },
  {
   "cell_type": "markdown",
   "id": "6a3d3988",
   "metadata": {},
   "source": [
    "#### Stifness"
   ]
  },
  {
   "cell_type": "code",
   "execution_count": 26,
   "id": "2bac2e8c",
   "metadata": {},
   "outputs": [],
   "source": [
    "%%cython\n",
    "import numpy as np\n",
    "\n",
    "def find_ordering(coord: np.array):\n",
    "    lx = np.argmin(coord[0, :])\n",
    "    rx = np.argmax(coord[0, :])\n",
    "    mx = np.setdiff1d(np.array([0,1,2]), np.array([lx, rx]))[0]\n",
    "\n",
    "    # Vertical Alignment\n",
    "    if np.abs( coord[0, lx] - coord[0, mx] ) < 1e-7:\n",
    "        # lx and mx vertical aligned, rx no\n",
    "        up =   lx if np.argmax(coord[1, np.array([lx, mx])]) == 0 else mx\n",
    "        down = lx if np.argmin(coord[1, np.array([lx, mx])]) == 0 else mx\n",
    "\n",
    "        if np.abs( coord[1, up] - coord[1, rx] ) < 1e-7:\n",
    "            return [up, down, rx]\n",
    "        else:\n",
    "            return [down, rx, up]\n",
    "    else:\n",
    "        # rx and mx vertical aligned, lx no\n",
    "        up =   rx if np.argmax(coord[1, np.array([rx, mx])]) == 0 else mx\n",
    "        down = rx if np.argmin(coord[1, np.array([rx, mx])]) == 0 else mx\n",
    "\n",
    "        if np.abs( coord[1, up] - coord[1, lx] ) < 1e-7:\n",
    "            return [up, lx, down]\n",
    "        else:\n",
    "            return [down, up, lx]"
   ]
  },
  {
   "cell_type": "code",
   "execution_count": 27,
   "metadata": {},
   "outputs": [],
   "source": [
    "def compute_eta_x3(base_height: float, element_height: float, m, ls_eta, rs_eta, x, y):\n",
    "    coord = lambda t: ((m+1) * (1-t) - (m-1) * t) / 2\n",
    "\n",
    "    return (1-coord(y)) * ls_eta + coord(y) * rs_eta, base_height + coord(x) * element_height"
   ]
  },
  {
   "cell_type": "code",
   "execution_count": 28,
   "metadata": {},
   "outputs": [],
   "source": [
    "def chi_x3_eta_gen( base_height: float, element_height: float, m, ls_eta, rs_eta, x, y ):\n",
    "    eta, x3 = compute_eta_x3(base_height, element_height, m, ls_eta, rs_eta, x, y)\n",
    "\n",
    "    return chi_x3(eta, x3), chi_eta(eta, x3)"
   ]
  },
  {
   "cell_type": "code",
   "execution_count": 29,
   "id": "6c214150",
   "metadata": {},
   "outputs": [],
   "source": [
    "def K_func_eval(base_height: float, base_width: float, element_height: float, element_width: float, m: int, ls_eta: float, rs_eta: float, grad_eta: float, x, y):\n",
    "    chi_x3_val, chi_eta_val = chi_x3_eta_gen(base_height, element_height, m, ls_eta, rs_eta, x, y)\n",
    "\n",
    "    return np.array([[             chi_x3_val,                                -chi_eta_val * grad_eta],\n",
    "                     [-chi_eta_val * grad_eta, (1 + np.power(chi_eta_val * grad_eta, 2)) / chi_x3_val]])\n",
    "\n",
    "    # This is the full version:\n",
    "    #return np.array([[                  chi_x3 * k11,                                                   k12 - chi_eta * grad_eta * k11],\n",
    "    #                 [k21 - chi_eta * grad_eta * k11, ( k22 + chi_eta * grad_eta * ( chi_eta * grad_eta * k11 - k12 - k21 ) ) / chi_x3]])"
   ]
  },
  {
   "cell_type": "code",
   "execution_count": 30,
   "id": "a0eb2c00",
   "metadata": {},
   "outputs": [],
   "source": [
    "def local_A(coord, sign, ls_eta, rs_eta, grad_eta):\n",
    "    M = np.zeros(shape=(3,3))\n",
    "\n",
    "    ordering = find_ordering(coord)\n",
    "\n",
    "    x0 = coord[:, ordering][:, 0]\n",
    "    x1 = coord[:, ordering][:, 1]\n",
    "    x2 = coord[:, ordering][:, 2]\n",
    "    \n",
    "    J_T_1_T = np.array([[x2[1]-x0[1], x0[1]-x1[1]],\n",
    "                        [x0[0]-x2[0], x1[0]-x0[0]]]) / ((x1[0]-x0[0]) * (x2[1]-x0[1]) - (x2[0]-x0[0]) * (x1[1]-x0[1]))\n",
    "    \n",
    "\n",
    "    q_funcs = [J_T_1_T @ np.array([-1, -1]), J_T_1_T @ np.array([ 1, 0]), J_T_1_T @ np.array([0,  1])]\n",
    "\n",
    "    base_height = np.min(coord[1,:])\n",
    "    base_width  = np.min(coord[0, :])\n",
    "\n",
    "    element_height = (np.max(coord[1, :]) - np.min(coord[1, :]))\n",
    "    element_width  = (np.max(coord[0, :]) - np.min(coord[0, :]))\n",
    "\n",
    "\n",
    "    K_local = lambda x,y: K_func_eval(base_height, base_width,\n",
    "                     element_height, element_width,\n",
    "                     np.prod(sign),\n",
    "                     ls_eta, rs_eta, grad_eta, x, y)\n",
    "    \n",
    "    area = element_height * element_width\n",
    "\n",
    "    if quad_order > 1:\n",
    "        for i in range(3):\n",
    "            for j in range(3):\n",
    "                integrand = lambda ys,x: np.array([q_funcs[j].T @ K_local(x, y) @ q_funcs[i] for y in np.array(ys)])\n",
    "                inside = lambda xs, n: np.array([integrate.fixed_quad(integrand, 0, 1-x, args=(x,), n=n)[0] for x in np.array(xs)])\n",
    "                M[ordering[i], ordering[j]] = integrate.fixed_quad(inside, 0, 1, n=quad_order, args=(quad_order,))[0] * area\n",
    "    else:\n",
    "        for i in range(3):\n",
    "            for j in range(3):\n",
    "                M[ordering[i], ordering[j]] = q_funcs[j].T @ K_local(np.mean(coord[0, :]), np.mean(coord[1, :])) @ q_funcs[i] * area / 2\n",
    "\n",
    "    return M"
   ]
  },
  {
   "cell_type": "code",
   "execution_count": 31,
   "metadata": {},
   "outputs": [
    {
     "data": {
      "text/plain": [
       "array([[ 1. , -0.5, -0.5],\n",
       "       [-0.5,  0.5,  0. ],\n",
       "       [-0.5,  0. ,  0.5]])"
      ]
     },
     "execution_count": 31,
     "metadata": {},
     "output_type": "execute_result"
    }
   ],
   "source": [
    "local_A(np.array([[0, 1, 0], [0, 0, 1]]), np.array([-1, 1, -1]), 1, 1, 0)"
   ]
  },
  {
   "cell_type": "code",
   "execution_count": 32,
   "id": "492cd687",
   "metadata": {},
   "outputs": [],
   "source": [
    "def stifness(eta_dofs):\n",
    "\n",
    "    grad_eta   = eta_diff @ eta_dofs\n",
    "\n",
    "    # Map the domain to a reference geometry (i.e. equivalent to compute\n",
    "    # surface coordinates in 1d and 2d)\n",
    "\n",
    "    _, _, sign = sps.find(subdomain.cell_faces)\n",
    "    _, _, _, _, dim, node_coords = pp.map_geometry.map_grid(sd)\n",
    "\n",
    "    # Allocate the data to store matrix entries, that's the most efficient\n",
    "    # way to create a sparse matrix.\n",
    "    size = np.power(sd.dim + 1, 2) * sd.num_cells\n",
    "    rows_I = np.empty(size, dtype=int)\n",
    "    cols_J = np.empty(size, dtype=int)\n",
    "    data_IJ = np.empty(size)\n",
    "    idx = 0\n",
    "\n",
    "    cell_nodes = sd.cell_nodes()\n",
    "\n",
    "    for c in np.arange(sd.num_cells):\n",
    "        # For the current cell retrieve its nodes\n",
    "        loc = slice(cell_nodes.indptr[c], cell_nodes.indptr[c + 1])\n",
    "\n",
    "        nodes_loc = cell_nodes.indices[loc]\n",
    "        coord_loc = node_coords[:, nodes_loc]\n",
    "\n",
    "        eta_cell = np.max(np.where( boundary_grid.nodes[0, :] < sd.cell_centers[0, c] ))\n",
    "\n",
    "        # Compute the stiff-H1 local matrix\n",
    "        A = local_A(coord_loc, sign[loc], eta_dofs[eta_cell], eta_dofs[eta_cell+1], grad_eta[eta_cell])\n",
    "\n",
    "        # Save values for stiff-H1 local matrix in the global structure\n",
    "        cols = np.tile(nodes_loc, (nodes_loc.size, 1))\n",
    "        loc_idx = slice(idx, idx + cols.size)\n",
    "        rows_I[loc_idx] = cols.T.ravel()\n",
    "        cols_J[loc_idx] = cols.ravel()\n",
    "        data_IJ[loc_idx] = A.ravel()\n",
    "        idx += cols.size\n",
    "\n",
    "    # Construct the global matrices\n",
    "    return sps.csc_matrix((data_IJ, (rows_I, cols_J)))"
   ]
  },
  {
   "cell_type": "code",
   "execution_count": 33,
   "metadata": {},
   "outputs": [
    {
     "data": {
      "text/plain": [
       "matrix([[ 0.96512977, -0.5033    ,  0.        , ...,  0.        ,\n",
       "          0.        ,  0.        ],\n",
       "        [-0.5033    ,  1.97308991, -0.508125  , ...,  0.        ,\n",
       "          0.        ,  0.        ],\n",
       "        [ 0.        , -0.508125  ,  1.98116048, ...,  0.        ,\n",
       "          0.        ,  0.        ],\n",
       "        ...,\n",
       "        [ 0.        ,  0.        ,  0.        , ...,  2.32533233,\n",
       "         -0.328125  ,  0.        ],\n",
       "        [ 0.        ,  0.        ,  0.        , ..., -0.328125  ,\n",
       "          2.35705331, -0.3368    ],\n",
       "        [ 0.        ,  0.        ,  0.        , ...,  0.        ,\n",
       "         -0.3368    ,  1.32367457]])"
      ]
     },
     "execution_count": 33,
     "metadata": {},
     "output_type": "execute_result"
    }
   ],
   "source": [
    "stifness(np.ones_like(boundary_grid.nodes[1, :])).todense()"
   ]
  },
  {
   "cell_type": "markdown",
   "id": "e1e28782",
   "metadata": {},
   "source": [
    "#### Mass matrices"
   ]
  },
  {
   "cell_type": "code",
   "execution_count": 34,
   "metadata": {},
   "outputs": [],
   "source": [
    "def local_mass(coord, chi_x3_func_gen, ls_eta, rs_eta, m):\n",
    "    ordering = find_ordering(coord)\n",
    "\n",
    "    x0 = coord[:, ordering][:, 0]\n",
    "    x1 = coord[:, ordering][:, 1]\n",
    "    x2 = coord[:, ordering][:, 2]\n",
    "\n",
    "    qs = [(lambda x,y: 1-x-y), (lambda x,y: x), (lambda x,y: y)]\n",
    "    \n",
    "    J = np.array([[x1[0]-x0[0], x2[0]-x0[0]],\n",
    "                  [x1[1]-x0[1], x2[1]-x0[1]]])\n",
    "    \n",
    "    jacobian = np.linalg.det(J)\n",
    "    M = np.zeros(shape=(3,3))\n",
    "\n",
    "    base_height = np.min(coord[1, :])\n",
    "    element_height = np.max(coord[1, :]) - base_height\n",
    "\n",
    "    chi_x3 = lambda x,y: chi_x3_func_gen(base_height, element_height, m, ls_eta, rs_eta, x, y)[0]\n",
    "\n",
    "    for i in range(3):\n",
    "        for j in range(3):\n",
    "            integrand = lambda ys,x: np.array([qs[j](x,y) * qs[i](x,y) * chi_x3(x, y) for y in np.array(ys)])\n",
    "            inside = lambda xs, n: np.array([integrate.fixed_quad(integrand, 0, 1-x, args=(x,), n=n)[0] for x in np.array(xs)])\n",
    "            tmp = integrate.fixed_quad(inside, 0, 1, n=3, args=(3,))[0]\n",
    "\n",
    "            M[ ordering[i], ordering[j] ] = tmp * jacobian\n",
    "\n",
    "    return M"
   ]
  },
  {
   "cell_type": "code",
   "execution_count": 35,
   "metadata": {},
   "outputs": [
    {
     "data": {
      "text/plain": [
       "array([[0.06666667, 0.04166667, 0.03333333],\n",
       "       [0.04166667, 0.09166667, 0.04166667],\n",
       "       [0.03333333, 0.04166667, 0.06666667]])"
      ]
     },
     "execution_count": 35,
     "metadata": {},
     "output_type": "execute_result"
    }
   ],
   "source": [
    "local_mass(np.array([[0, 1, 0], [0, 0, 1]]), chi_x3_eta_gen, 1, 1, 1)"
   ]
  },
  {
   "cell_type": "code",
   "execution_count": 36,
   "metadata": {},
   "outputs": [],
   "source": [
    "def global_mass(eta_dofs):\n",
    "    \n",
    "    size = np.power(subdomain.dim + 1, 2) * subdomain.num_cells\n",
    "    rows_I = np.empty(size, dtype=int)\n",
    "    cols_J = np.empty(size, dtype=int)\n",
    "    data_IJ = np.empty(size)\n",
    "    idx = 0\n",
    "\n",
    "    _, _, _, _, _, node_coords = pp.map_geometry.map_grid(subdomain)\n",
    "\n",
    "    # Allocate the data to store matrix entries, that's the most efficient\n",
    "    # way to create a sparse matrix.\n",
    "\n",
    "    cell_nodes = subdomain.cell_nodes()\n",
    "    _, _, sign = sps.find(subdomain.cell_faces)\n",
    "        \n",
    "    for c in np.arange(subdomain.num_cells):\n",
    "        # For the current cell retrieve its nodes\n",
    "        loc = slice(cell_nodes.indptr[c], cell_nodes.indptr[c + 1])\n",
    "\n",
    "        nodes_loc = cell_nodes.indices[loc]\n",
    "        coord_loc = node_coords[:, nodes_loc]\n",
    "\n",
    "        # Compute the stiff-H1 local matrix\n",
    "            \n",
    "        eta_cell = np.max(np.where( boundary_grid.nodes[0, :] < subdomain.cell_centers[0, c] ))\n",
    "\n",
    "        A = local_mass(coord_loc, chi_x3_eta_gen, eta_dofs[eta_cell], eta_dofs[eta_cell+1], np.prod(sign[loc]))\n",
    "\n",
    "        # Save values for stiff-H1 local matrix in the global structure\n",
    "        cols = np.tile(nodes_loc, (nodes_loc.size, 1))\n",
    "\n",
    "        loc_idx = slice(idx, idx + cols.size)\n",
    "        rows_I[loc_idx] = cols.T.ravel()\n",
    "        cols_J[loc_idx] = cols.ravel()\n",
    "        data_IJ[loc_idx] = A.ravel()\n",
    "        idx += cols.size\n",
    "\n",
    "    # Construct the global matrices\n",
    "    return sps.csc_matrix((data_IJ, (rows_I, cols_J)))"
   ]
  },
  {
   "cell_type": "code",
   "execution_count": 37,
   "id": "b746cf87",
   "metadata": {},
   "outputs": [],
   "source": [
    "M_h     = h_field.assemble_mass_matrix( sd )\n",
    "M_gamma = gamma_field.assemble_mass_matrix( boundary_grid )"
   ]
  },
  {
   "cell_type": "markdown",
   "id": "75188ccc",
   "metadata": {},
   "source": [
    "#### Restrictor matrices"
   ]
  },
  {
   "cell_type": "code",
   "execution_count": 38,
   "id": "54c0b702",
   "metadata": {},
   "outputs": [],
   "source": [
    "restrict_eta = np.array(eta_mask, dtype=float)\n",
    "restrict_eta = sps.csr_matrix(np.diag(restrict_eta, k=0))"
   ]
  },
  {
   "cell_type": "code",
   "execution_count": 39,
   "id": "2133096b",
   "metadata": {},
   "outputs": [],
   "source": [
    "upscale_to_h = np.zeros(shape=(sd.num_nodes, boundary_grid.num_nodes))\n",
    "upscale_to_h[ eta_mask , np.arange(boundary_grid.num_nodes) ] = 1\n",
    "upscale_to_h = sps.csr_matrix(upscale_to_h)"
   ]
  },
  {
   "cell_type": "code",
   "execution_count": 40,
   "id": "e8b3d100",
   "metadata": {},
   "outputs": [],
   "source": [
    "proj_psi = h_field.eval_at_cell_centers(subdomain)"
   ]
  },
  {
   "cell_type": "markdown",
   "id": "04d2bceb",
   "metadata": {},
   "source": [
    "### Solve System"
   ]
  },
  {
   "cell_type": "code",
   "execution_count": 41,
   "id": "abb485ad",
   "metadata": {},
   "outputs": [],
   "source": [
    "if os.path.exists(output_directory):\n",
    "    shutil.rmtree(output_directory)"
   ]
  },
  {
   "cell_type": "code",
   "execution_count": 42,
   "id": "c91b0b90",
   "metadata": {},
   "outputs": [],
   "source": [
    "# Fixed rhs\n",
    "fixed_rhs = np.zeros(dof_p)"
   ]
  },
  {
   "cell_type": "code",
   "execution_count": 43,
   "id": "d75b1f02",
   "metadata": {},
   "outputs": [],
   "source": [
    "# Initial conditions\n",
    "sol = [h_field.interpolate(sd, initial_h_func)]"
   ]
  },
  {
   "cell_type": "code",
   "execution_count": 44,
   "id": "2f2c117b",
   "metadata": {},
   "outputs": [],
   "source": [
    "def save_step(sol, saver, i):\n",
    "    ins = list()\n",
    "\n",
    "    ins.append((sd, \"cell_h\", proj_psi @ sol))\n",
    "\n",
    "    saver.write_vtu(ins, time_step=i)"
   ]
  },
  {
   "cell_type": "code",
   "execution_count": 45,
   "id": "354f427c",
   "metadata": {},
   "outputs": [],
   "source": [
    "# Save the initial solution\n",
    "saver = pp.Exporter(mdg, 'sol', folder_name=output_directory)\n",
    "save_step(sol[-1], saver, 0)"
   ]
  },
  {
   "cell_type": "code",
   "execution_count": 46,
   "metadata": {},
   "outputs": [],
   "source": [
    "csv_base = os.path.join(output_directory, 'csv')\n",
    "os.mkdir( csv_base )"
   ]
  },
  {
   "cell_type": "code",
   "execution_count": 47,
   "id": "6036f9c2",
   "metadata": {},
   "outputs": [
    {
     "name": "stdout",
     "output_type": "stream",
     "text": [
      "Time 0.1\n",
      "Iteration #001, error L2 relative psi:    0.099288111\n",
      "Iteration #002, error L2 relative psi:    0.011456533\n",
      "Iteration #003, error L2 relative psi:    0.000374337\n",
      "Iteration #004, error L2 relative psi:    0.000105935\n",
      "Iteration #005, error L2 relative psi:    0.000017836\n",
      "\n",
      "Time 0.2\n",
      "Iteration #001, error L2 relative psi:    0.040400710\n",
      "Iteration #002, error L2 relative psi:    0.006009534\n",
      "Iteration #003, error L2 relative psi:    0.000667582\n",
      "Iteration #004, error L2 relative psi:    0.000089256\n",
      "Iteration #005, error L2 relative psi:    0.000026055\n",
      "Iteration #006, error L2 relative psi:    0.000004062\n",
      "\n",
      "Time 0.30000000000000004\n"
     ]
    },
    {
     "name": "stdout",
     "output_type": "stream",
     "text": [
      "Iteration #001, error L2 relative psi:    0.019327994\n",
      "Iteration #002, error L2 relative psi:    0.003323616\n",
      "Iteration #003, error L2 relative psi:    0.000430312\n",
      "Iteration #004, error L2 relative psi:    0.000060867\n",
      "Iteration #005, error L2 relative psi:    0.000019055\n",
      "Iteration #006, error L2 relative psi:    0.000003171\n",
      "\n",
      "Time 0.4\n",
      "Iteration #001, error L2 relative psi:    0.009560019\n",
      "Iteration #002, error L2 relative psi:    0.001746422\n",
      "Iteration #003, error L2 relative psi:    0.000238745\n",
      "Iteration #004, error L2 relative psi:    0.000035492\n",
      "Iteration #005, error L2 relative psi:    0.000011446\n",
      "\n",
      "Time 0.5\n",
      "Iteration #001, error L2 relative psi:    0.004741742\n",
      "Iteration #002, error L2 relative psi:    0.000889337\n",
      "Iteration #003, error L2 relative psi:    0.000124542\n",
      "Iteration #004, error L2 relative psi:    0.000019091\n",
      "Iteration #005, error L2 relative psi:    0.000006241\n",
      "\n",
      "Time 0.6000000000000001\n",
      "Iteration #001, error L2 relative psi:    0.002345983\n",
      "Iteration #002, error L2 relative psi:    0.000445266\n",
      "Iteration #003, error L2 relative psi:    0.000063030\n",
      "Iteration #004, error L2 relative psi:    0.000009833\n",
      "\n",
      "Time 0.7000000000000001\n",
      "Iteration #001, error L2 relative psi:    0.001156067\n",
      "Iteration #002, error L2 relative psi:    0.000220777\n",
      "Iteration #003, error L2 relative psi:    0.000031510\n",
      "Iteration #004, error L2 relative psi:    0.000004949\n",
      "\n",
      "Time 0.8\n",
      "Iteration #001, error L2 relative psi:    0.000569427\n",
      "Iteration #002, error L2 relative psi:    0.000109067\n",
      "Iteration #003, error L2 relative psi:    0.000015614\n",
      "\n",
      "Time 0.9\n",
      "Iteration #001, error L2 relative psi:    0.000279810\n",
      "Iteration #002, error L2 relative psi:    0.000053294\n",
      "Iteration #003, error L2 relative psi:    0.000007621\n",
      "\n",
      "Time 1.0\n",
      "Iteration #001, error L2 relative psi:    0.000137189\n",
      "Iteration #002, error L2 relative psi:    0.000026114\n",
      "Iteration #003, error L2 relative psi:    0.000003738\n",
      "\n"
     ]
    }
   ],
   "source": [
    "# Time Loop\n",
    "for i in range(1, int(T/dt)+1):\n",
    "    print('Time ' + str(i * dt))\n",
    "    current_time = i * dt\n",
    "\n",
    "    # Prepare the solution at the previous time step and ...\n",
    "    prev = sol[-1].copy()\n",
    "\n",
    "    # Prepare the rhs\n",
    "    time_rhs = fixed_rhs.copy()\n",
    "\n",
    "    debug_saver = pp.Exporter(mdg, str(i) + '_sol', folder_name=os.path.join(output_directory, 'debug'))\n",
    "    save_step(sol[-1], debug_saver, 0)\n",
    "\n",
    "    # Non-linear loop\n",
    "    for k in range(max_iterations_per_step):\n",
    "        A_h = stifness(prev[eta_mask])  #h_field.assemble_stiff_matrix(subdomain, data)\n",
    "\n",
    "        # Assemble the saddle point problem\n",
    "        glob_mass = global_mass(prev[eta_mask])\n",
    "        spp = sps.csr_matrix(S_s / dt * glob_mass + phi / dt * upscale_to_h @ M_gamma @ upscale_to_h.T + A_h)\n",
    "\n",
    "        # Prepare the solver\n",
    "        rhs = time_rhs.copy()\n",
    "        rhs += S_s / dt * glob_mass @ sol[-1] + phi / dt * upscale_to_h @ M_gamma @ sol[-1][eta_mask] + upscale_to_h @ M_gamma @ gamma_field.interpolate( boundary_grid, lambda x: infiltration(x, current_time) ) + neumann_value #/ prev[eta_mask][0]\n",
    "        \n",
    "        ls = pg.LinearSystem(spp, rhs)\n",
    "        ls.flag_ess_bc(dirichlet_flag, dirichlet_value)\n",
    "\n",
    "        current = ls.solve()\n",
    "\n",
    "        # Compute the errors (with eta). Should I consider only psi? Should I compute the error on the \"actual\" psi values or on the dofs\n",
    "        rel_err_psi  = np.sqrt( (current - prev).T @ M_h @ (current - prev) )\n",
    "        abs_err_prev = np.sqrt( prev.T @ M_h @ prev )\n",
    "\n",
    "        print('Iteration #' + format(k+1, '0' + str(ceil(log10(max_iterations_per_step)) + 1) + 'd')\n",
    "              + ', error L2 relative psi: ' + format(rel_err_psi, str(5 + ceil(log10(1 / abs_tol)) + 4)\n",
    "                                                     + '.' + str(ceil(log10(1 / abs_tol)) + 4) + 'f') )\n",
    "\n",
    "        save_step(current, debug_saver, k+1)\n",
    "        \n",
    "        if rel_err_psi < abs_tol + rel_tol * abs_err_prev:\n",
    "            break\n",
    "        else:\n",
    "            prev = None\n",
    "            prev = current.copy()\n",
    "\n",
    "    print('')\n",
    "    sol.append( current.copy() )\n",
    "    save_step(sol[-1], saver, i)\n",
    "\n",
    "    export_name = os.path.join(csv_base, str(i) + '.csv')\n",
    "\n",
    "    with open( export_name, 'w' ) as file:\n",
    "\n",
    "        file.write('x,y,h,p\\n')\n",
    "\n",
    "        et = np.tile(sol[-1][eta_mask], ceil(subdomain.num_nodes / boundary_grid.num_nodes))\n",
    "        hh = convert_heights(et, subdomain.nodes[1, :])\n",
    "        for x,y,h,p in zip( subdomain.nodes[0, :], hh, sol[-1], sol[-1] - hh):\n",
    "            file.write(f'{x},{y},{h},{p}\\n')\n",
    "\n",
    "saver.write_pvd([t * dt for t in range(int(T/dt)+1)])"
   ]
  },
  {
   "cell_type": "code",
   "execution_count": 48,
   "id": "beb6342a",
   "metadata": {},
   "outputs": [
    {
     "name": "stderr",
     "output_type": "stream",
     "text": [
      "The PostScript backend does not support transparency; partially transparent artists will be rendered opaque.\n"
     ]
    },
    {
     "data": {
      "image/png": "[encoded data removed]",
      "text/plain": [
       "<Figure size 500x500 with 1 Axes>"
      ]
     },
     "metadata": {},
     "output_type": "display_data"
    }
   ],
   "source": [
    "fig, ax = plt.subplots(nrows=1, ncols=1, figsize=(5, 5))\n",
    "\n",
    "\n",
    "#ax.set_ylim(0.65, 1.01)\n",
    "ax.set_xlim(0, 1)\n",
    "\n",
    "ax.plot( boundary_grid.nodes[0, :],  sol[0][eta_mask], 'x-')\n",
    "ax.plot( boundary_grid.nodes[0, :],  sol[1][eta_mask], 'x-')\n",
    "ax.plot( boundary_grid.nodes[0, :],  sol[3][eta_mask], 'x-')\n",
    "ax.plot( boundary_grid.nodes[0, :], sol[-1][eta_mask], 'x-')\n",
    "\n",
    "ax.set_xlabel('Distance from well')\n",
    "ax.set_ylabel('Water table height')\n",
    "\n",
    "ax.legend(['T=0.0', 'T=0.1', 'T=0.3', 'T=1.0'])\n",
    "\n",
    "ax.grid()\n",
    "plt.savefig('moving_darcy_bezier.eps', format='eps')"
   ]
  },
  {
   "cell_type": "code",
   "execution_count": 49,
   "metadata": {},
   "outputs": [
    {
     "data": {
      "text/plain": [
       "array([0.81081941, 0.85873431, 0.8866662 , 0.90833259, 0.92644122,\n",
       "       0.94210055, 0.95597606, 0.96850937, 0.97999159, 0.99055804,\n",
       "       1.        ])"
      ]
     },
     "execution_count": 49,
     "metadata": {},
     "output_type": "execute_result"
    }
   ],
   "source": [
    "sol[1][eta_mask]"
   ]
  }
 ],
 "metadata": {
  "kernelspec": {
   "display_name": "Python 3 (ipykernel)",
   "language": "python",
   "name": "python3"
  },
  "language_info": {
   "codemirror_mode": {
    "name": "ipython",
    "version": 3
   },
   "file_extension": ".py",
   "mimetype": "text/x-python",
   "name": "python",
   "nbconvert_exporter": "python",
   "pygments_lexer": "ipython3",
   "version": "3.11.5"
  },
  "vscode": {
   "interpreter": {
    "hash": "e4cc1db98167c7fd7d55a1da8057731abc6cd6fe154328a2ae319df8aab4e24d"
   }
  }
 },
 "nbformat": 4,
 "nbformat_minor": 5
}
