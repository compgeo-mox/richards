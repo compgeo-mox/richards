{
 "cells": [
  {
   "cell_type": "markdown",
   "id": "essential-american",
   "metadata": {},
   "source": [
    "# Darcy equation\n",
    "\n",
    "In this tutorial we present how to solve a Darcy equation with [PyGeoN](https://github.com/compgeo-mox/pygeon) in themoving domain case (the upper boundary will move).  The unkwons are the velocity $u$, the elevation head $h$ and the height of the upper boundary $\\eta$.\n",
    "\n",
    "Let $\\Omega=(0,1)\\times(0,\\eta)$ with boundary $\\partial \\Omega$ and outward unit normal ${\\nu}$. Given \n",
    "$K$ the matrix permeability, we want to solve the following problem: find $(\\bm{u}, h)$ such that\n",
    "$$\n",
    "\\left\\{\n",
    "\\begin{array}{ll}\n",
    "\\begin{array}{l} \n",
    "K^{-1} {\\bm{u}} + \\nabla h = {0}\\\\\n",
    "S_s \\frac{\\partial{h}}{\\partial t} + \\nabla \\cdot {u} = f\n",
    "\\end{array}\n",
    "&\\text{in } \\Omega\n",
    "\\end{array}\n",
    "\\right.\n",
    "$$"
   ]
  },
  {
   "cell_type": "markdown",
   "id": "dadbb451",
   "metadata": {},
   "source": [
    "In order to solve the problem, we will perfom a change of coordinates to a reference domain $\\hat{\\Omega}=(0,1)^2$ through the (linear) trasnformation $R : \\Omega \\rightarrow \\hat{\\Omega}$ (and its inverse function $D : \\hat{\\Omega} \\rightarrow \\Omega$).\n",
    "Recall that $\\hat{\\nabla}R=(\\nabla D)^{-1}$.\n",
    "\n",
    "Let $\\hat{h}$ and $\\hat{\\bm{u}}$ be $h$ and $\\bm{u}$ respectevely in the reference domain and let $\\hat{K}$ be the transformed permeability matrix, defined as $\\hat{K}=det(\\hat{\\nabla}D) (\\hat{\\nabla} D)^{-1} K (\\hat{\\nabla} D)^{-T}$.\n",
    "\n",
    "The equation describing the motion of $\\partial_{top}\\Omega$ is:\n",
    "$$\n",
    "\n",
    "\\phi \\frac{\\partial \\eta}{\\partial t} = \\hat{u_3} + I(t)\n",
    "\n",
    "$$"
   ]
  },
  {
   "cell_type": "markdown",
   "id": "a068fac3",
   "metadata": {},
   "source": [
    "The transformed equations in $\\hat{\\Omega}$ is:\n",
    "$$\n",
    "\\left\\{\n",
    "\\begin{array}{ll}\n",
    "\\begin{array}{l} \n",
    "\\hat{K}({\\eta})^{-1} {\\hat{u}} + \\hat{\\nabla} \\hat{h} = {0}\\\\\n",
    "\\hat{S}_s \\frac{\\partial{\\hat{h}}}{\\partial t} + \\hat{\\nabla} \\cdot {\\hat{\\bm{u}}} = f\n",
    "\\end{array}\n",
    "&\\text{in } \\hat{\\Omega}\n",
    "\\end{array}\n",
    "\\right.\n",
    "$$\n",
    "with boundary conditions:\n",
    "$$ \\hat{h} = \\eta \\text{ on } \\Gamma \\qquad \\hat{h} = \\ell \\text{ on } \\Gamma_D \\qquad \\hat{\\bm{\\nu}} \\cdot \\hat{\\bm{u}} = 0 \\text{ on } \\Gamma_N$$"
   ]
  },
  {
   "cell_type": "markdown",
   "id": "47b01879",
   "metadata": {},
   "source": [
    "The weak formulation will be:\n",
    "$$\n",
    "\\left\\{\n",
    "\\begin{array}{ll}\n",
    "\\begin{array}{l} \n",
    "\\int_{\\Omega}\\hat{K}(\\eta)^{-1} {\\bm{\\hat{u}}} \\cdot \\bm{v} \\, d\\Omega - \\int_{\\Omega} h \\hat{\\nabla} \\cdot {\\hat{\\bm{v}}} \\, d\\Omega = - \\int_{\\Gamma_D} h \\bm{v} \\cdot \\bm{\\nu} \\, d\\Omega - \\int_{\\Gamma} \\eta \\bm{v} \\cdot \\bm{\\nu} \\, d\\Omega\\\\\n",
    "\\int_{\\Omega} \\hat{S}_s \\frac{\\partial{\\hat{h}}}{\\partial t} v \\, d\\Omega + \\int_{\\Omega} \\hat{\\nabla} \\cdot {\\hat{\\bm{u}}} v \\, d\\Omega = \\int_{\\Omega} fv \\, d\\Omega\\\\\n",
    "\\int_{\\Gamma} \\phi \\frac{\\partial \\eta}{\\partial t} v \\, d\\sigma = \\int_{\\Gamma} \\hat{u_3} v \\, d\\sigma + \\int_{\\Gamma} I(t) v \\, d\\sigma\n",
    "\\end{array}\n",
    "\\end{array}\n",
    "\\right.\n",
    "$$"
   ]
  },
  {
   "cell_type": "markdown",
   "id": "dcdc7603",
   "metadata": {},
   "source": [
    "For the time discretization, we will employ a backward Euler scheme:\n",
    "\n",
    "$$\n",
    "\\left\\{\n",
    "\\begin{array}{ll}\n",
    "\\begin{array}{l} \n",
    "\\int_{\\Omega}\\hat{K}(\\eta^{n+1})^{-1} {\\bm{\\hat{u}}^{n+1}} \\cdot \\bm{v} \\, d\\Omega - \\int_{\\Omega} h^{n+1} \\hat{\\nabla} \\cdot {\\hat{\\bm{v}}} \\, d\\Omega = - \\int_{\\Gamma_D} h^{n+1} \\bm{v} \\cdot \\bm{\\nu} \\, d\\Omega - \\int_{\\Gamma} \\eta^{n+1} \\bm{v} \\cdot \\bm{\\nu} \\, d\\Omega\\\\\n",
    "\\int_{\\Omega} \\hat{S}_s^{n+1} \\frac{\\hat{h}^{n+1} - \\hat{h}^{n}}{\\Delta t} v \\, d\\Omega + \\int_{\\Omega} \\hat{\\nabla} \\cdot {\\hat{\\bm{u}}^{n+1}} v \\, d\\Omega = \\int_{\\Omega} f^{n+1}v \\, d\\Omega\\\\\n",
    "\\int_{\\Gamma} \\phi \\eta^{n+1} v \\, d\\sigma = \\Delta t \\int_{\\Gamma} \\hat{\\bm{u}}^{n+1} \\cdot \\bm{\\nu} v \\, d\\sigma + \\int_{\\Gamma} \\phi \\eta^{n} v \\, d\\sigma + \\Delta t \\int_{\\Gamma} I^{n+1} v \\, d\\sigma\n",
    "\\end{array}\n",
    "\\end{array}\n",
    "\\right.\n",
    "$$"
   ]
  },
  {
   "cell_type": "markdown",
   "id": "faf928a5",
   "metadata": {},
   "source": [
    "To deal with the non-linear term, we will employ a simple Picard scheme:\n",
    "\n",
    "$$\n",
    "\\left\\{\n",
    "\\begin{array}{ll}\n",
    "\\begin{array}{l} \n",
    "\\int_{\\Omega}\\hat{K}(\\eta^{n+1}_k)^{-1} {\\bm{\\hat{u}_{k+1}^{n+1}}} \\cdot \\bm{v} \\, d\\Omega - \\int_{\\Omega} h^{n+1}_{k+1} \\hat{\\nabla} \\cdot {\\hat{\\bm{v}}} \\, d\\Omega + \\int_{\\Gamma} \\eta^{n+1}_{k+1} \\bm{v} \\cdot \\bm{\\nu} \\, d\\Omega= - \\int_{\\Gamma_D} h^{n+1} \\bm{v} \\cdot \\bm{\\nu} \\, d\\Omega\\\\\n",
    "\\Delta t \\int_{\\Omega} \\hat{\\nabla} \\cdot {\\hat{\\bm{u}}^{n+1}_{k+1}} v \\, d\\Omega + \\int_{\\Omega} \\hat{S}_s \\hat{h}^{n+1}_{k+1} v \\, d\\Omega = \\int_{\\Omega} \\hat{S}_s \\hat{h}^{n} v \\, d\\Omega + \\Delta t \\int_{\\Omega} f^{n+1}v \\, d\\Omega\\\\\n",
    "- \\Delta t \\int_{\\Gamma} \\hat{\\bm{u}}^{n+1}_{k+1} \\cdot \\bm{\\nu} v \\, d\\sigma + \\int_{\\Gamma} \\phi \\eta^{n+1}_{k+1} v \\, d\\sigma = \\int_{\\Gamma} \\phi \\eta^{n} v \\, d\\sigma + \\Delta t \\int_{\\Gamma} I^{n+1} v \\, d\\sigma\n",
    "\\end{array}\n",
    "\\end{array}\n",
    "\\right.\n",
    "$$"
   ]
  },
  {
   "cell_type": "markdown",
   "id": "615fb33d",
   "metadata": {},
   "source": [
    "The matrix formulation will be:\n",
    "\n",
    "$$\n",
    "\\left\\{\n",
    "\\begin{array}{ll}\n",
    "\\begin{array}{l} \n",
    "M_u(\\bm{\\eta}^{n+1}_{k}) \\bm{u}^{n+1}_{k+1} + B^T\\bm{h}^{n+1}_{k+1} + B_{\\Gamma}^T \\bm{\\eta}^{n+1}_{k+1}= \\bm{BC}^{n+1}\\\\\n",
    "- \\Delta t B \\hat{\\bm{u}}^{n+1}_{k+1} + S_s M_{h} \\bm{\\hat{h}^{n+1}_{k+1}} = \\Delta t \\bm{F}^{n+1} + S_s M_{h} \\bm{\\hat{h}^{n}}\\\\\n",
    "- \\Delta t B_{\\Gamma} \\hat{\\bm{u}}^{n+1}_{k+1} + \\phi M_{\\Gamma} \\bm{\\eta^{n+1}_{k+1}} = \\phi M_{\\Gamma} \\bm{\\eta^{n}} + \\Delta t \\bm{I}^{n+1}\n",
    "\\end{array}\n",
    "\\end{array}\n",
    "\\right.\n",
    "$$"
   ]
  },
  {
   "cell_type": "markdown",
   "id": "49e31d3b",
   "metadata": {},
   "source": [
    "$$\n",
    "\\left(\n",
    "\\begin{array}{cc} \n",
    "M_u(\\bm{\\eta^{n+1}_k}) & B^T & B_{\\Gamma}^T\\\\\n",
    "-\\Delta t B & S_s M_h & 0\\\\\n",
    "-\\Delta t B_{\\Gamma} & 0 & \\phi M_{\\Gamma}\n",
    "\\end{array}\n",
    "\\right)\n",
    "\\left(\n",
    "\\begin{array}{c} \n",
    "\\bm{u^{n+1}_{k+1}}\\\\ \n",
    "\\bm{h^{n+1}_{k+1}}\\\\\n",
    "\\bm{\\eta^{n+1}_{k+1}}\n",
    "\\end{array}\n",
    "\\right)\n",
    "=\\left(\n",
    "\\begin{array}{c} \n",
    "\\bm{BC}^{n+1}\\\\ \n",
    "\\Delta t \\bm{F}^{n+1} + S_s M_h \\bm{h}^n\\\\\n",
    "\\phi M_{\\Gamma} \\bm{\\eta}^n + \\Delta t \\bm{I}^{n+1}\n",
    "\\end{array}\n",
    "\\right)\n",
    "$$"
   ]
  },
  {
   "cell_type": "markdown",
   "id": "60777fa8",
   "metadata": {},
   "source": [
    "We will start to test the method in the case $M_u(\\bm{h_k}^{n+1})=\\bm{I}$"
   ]
  },
  {
   "cell_type": "code",
   "execution_count": 1,
   "id": "fa691294",
   "metadata": {},
   "outputs": [],
   "source": [
    "%load_ext Cython"
   ]
  },
  {
   "cell_type": "code",
   "execution_count": 2,
   "id": "dietary-perth",
   "metadata": {},
   "outputs": [],
   "source": [
    "import numpy as np\n",
    "import scipy.sparse as sps\n",
    "from math import ceil, floor, log10, exp, isnan\n",
    "import os, shutil\n",
    "\n",
    "import porepy as pp\n",
    "import pygeon as pg\n",
    "import scipy.integrate as integrate\n",
    "\n",
    "import matplotlib.pyplot as plt\n",
    "\n",
    "import scipy as sc"
   ]
  },
  {
   "cell_type": "code",
   "execution_count": 3,
   "id": "1e1342bf",
   "metadata": {},
   "outputs": [],
   "source": [
    "output_directory = 'primal'"
   ]
  },
  {
   "cell_type": "markdown",
   "id": "roman-glossary",
   "metadata": {},
   "source": [
    "### Parameters"
   ]
  },
  {
   "cell_type": "code",
   "execution_count": 4,
   "id": "9b5f484a",
   "metadata": {},
   "outputs": [],
   "source": [
    "T = 0.1\n",
    "dt = 0.02"
   ]
  },
  {
   "cell_type": "code",
   "execution_count": 5,
   "id": "60dbe54f",
   "metadata": {},
   "outputs": [],
   "source": [
    "infiltration_rate = 1e-3*0\n",
    "extraction_rate = 0.3"
   ]
  },
  {
   "cell_type": "code",
   "execution_count": 6,
   "id": "09d80195",
   "metadata": {},
   "outputs": [],
   "source": [
    "S_s = 0.1\n",
    "phi = 0.1"
   ]
  },
  {
   "cell_type": "code",
   "execution_count": 7,
   "id": "0816cee5",
   "metadata": {},
   "outputs": [],
   "source": [
    "N = 15 # 16\n",
    "quad_order = 5"
   ]
  },
  {
   "cell_type": "code",
   "execution_count": 8,
   "id": "03c363e3",
   "metadata": {},
   "outputs": [],
   "source": [
    "abs_tol = 1e-5\n",
    "rel_tol = 1e-5\n",
    "max_iterations_per_step = 100"
   ]
  },
  {
   "cell_type": "markdown",
   "id": "97631457",
   "metadata": {},
   "source": [
    "### Grid and $V_h$"
   ]
  },
  {
   "cell_type": "code",
   "execution_count": 9,
   "id": "spectacular-saturn",
   "metadata": {},
   "outputs": [],
   "source": [
    "# convert the grid into a mixed-dimensional grid\n",
    "sd = pp.StructuredTriangleGrid([N, N], [1, 1])\n",
    "pg.convert_from_pp(sd)\n",
    "sd.compute_geometry()"
   ]
  },
  {
   "cell_type": "code",
   "execution_count": 10,
   "id": "ffa231fe",
   "metadata": {},
   "outputs": [],
   "source": [
    "boundary_grid, boundary_face_map, boundary_node_map = pp.partition.extract_subgrid(sd, sd.face_centers[1, :] == 1, faces=True)"
   ]
  },
  {
   "cell_type": "code",
   "execution_count": 11,
   "id": "cb80af64",
   "metadata": {},
   "outputs": [],
   "source": [
    "mdg = pg.as_mdg(sd)"
   ]
  },
  {
   "cell_type": "code",
   "execution_count": 12,
   "id": "0024b7c0",
   "metadata": {},
   "outputs": [],
   "source": [
    "key = \"flow\"\n",
    "\n",
    "darcy_data = {}\n",
    "initial_pressure = []"
   ]
  },
  {
   "cell_type": "code",
   "execution_count": 13,
   "id": "88c12db7",
   "metadata": {},
   "outputs": [],
   "source": [
    "h_field     = pg.Lagrange1(key)\n",
    "gamma_field = pg.Lagrange1(key)"
   ]
  },
  {
   "cell_type": "code",
   "execution_count": 14,
   "id": "12700018",
   "metadata": {},
   "outputs": [],
   "source": [
    "subdomain, data = mdg.subdomains(return_data=True)[0]"
   ]
  },
  {
   "cell_type": "code",
   "execution_count": 15,
   "id": "e0507296",
   "metadata": {},
   "outputs": [],
   "source": [
    "def h_bc(x, t): return 1\n",
    "def initial_h_func(x): return 1\n",
    "def infiltration(x, t): return infiltration_rate"
   ]
  },
  {
   "cell_type": "code",
   "execution_count": 16,
   "id": "d5aafac3",
   "metadata": {},
   "outputs": [],
   "source": [
    "eta_mask = sd.nodes[1, :] == 1"
   ]
  },
  {
   "cell_type": "code",
   "execution_count": 17,
   "id": "1827411d",
   "metadata": {},
   "outputs": [],
   "source": [
    "dof_p = h_field.ndof(subdomain)"
   ]
  },
  {
   "cell_type": "markdown",
   "id": "9d33b2a2",
   "metadata": {},
   "source": [
    "### BC"
   ]
  },
  {
   "cell_type": "markdown",
   "id": "c0bbe30c",
   "metadata": {},
   "source": [
    "##### Dirichlet (essential)"
   ]
  },
  {
   "cell_type": "code",
   "execution_count": 18,
   "metadata": {},
   "outputs": [],
   "source": [
    "dirichlet_flag = sd.nodes[0, :] == 1\n",
    "dirichlet_value = np.array(dirichlet_flag, dtype=float)"
   ]
  },
  {
   "cell_type": "markdown",
   "id": "07a096f7",
   "metadata": {},
   "source": [
    "##### Neumann (natural)"
   ]
  },
  {
   "cell_type": "code",
   "execution_count": 19,
   "metadata": {},
   "outputs": [],
   "source": [
    "left   = sd.face_centers[0, :] == 0\n",
    "bottom = sd.face_centers[1, :] == 0\n",
    "\n",
    "neumann_flag  = np.logical_or(left, bottom)\n",
    "neumann_value = -h_field.assemble_nat_bc( sd, lambda x: extraction_rate, np.where(left)[0] )"
   ]
  },
  {
   "cell_type": "markdown",
   "id": "c3b55b3f",
   "metadata": {},
   "source": [
    "### Matrix Assembly"
   ]
  },
  {
   "cell_type": "code",
   "execution_count": 20,
   "id": "ecea12f2",
   "metadata": {},
   "outputs": [],
   "source": [
    "eta_diff = gamma_field.assemble_diff_matrix( boundary_grid )\n",
    "eta_diff[0,0] = -1\n",
    "eta_diff *= N"
   ]
  },
  {
   "cell_type": "markdown",
   "id": "6a3d3988",
   "metadata": {},
   "source": [
    "#### Stifness"
   ]
  },
  {
   "cell_type": "code",
   "execution_count": 21,
   "id": "2bac2e8c",
   "metadata": {},
   "outputs": [],
   "source": [
    "%%cython\n",
    "import numpy as np\n",
    "\n",
    "def find_ordering(coord: np.array):\n",
    "    lx = np.argmin(coord[0, :])\n",
    "    rx = np.argmax(coord[0, :])\n",
    "    mx = np.setdiff1d(np.array([0,1,2]), np.array([lx, rx]))[0]\n",
    "\n",
    "    # Vertical Alignment\n",
    "    if np.abs( coord[0, lx] - coord[0, mx] ) < 1e-7:\n",
    "        # lx and mx vertical aligned, rx no\n",
    "        up =   lx if np.argmax(coord[1, np.array([lx, mx])]) == 0 else mx\n",
    "        down = lx if np.argmin(coord[1, np.array([lx, mx])]) == 0 else mx\n",
    "\n",
    "        if np.abs( coord[1, up] - coord[1, rx] ) < 1e-7:\n",
    "            return [up, down, rx]\n",
    "        else:\n",
    "            return [down, rx, up]\n",
    "    else:\n",
    "        # rx and mx vertical aligned, lx no\n",
    "        up =   rx if np.argmax(coord[1, np.array([rx, mx])]) == 0 else mx\n",
    "        down = rx if np.argmin(coord[1, np.array([rx, mx])]) == 0 else mx\n",
    "\n",
    "        if np.abs( coord[1, up] - coord[1, lx] ) < 1e-7:\n",
    "            return [up, lx, down]\n",
    "        else:\n",
    "            return [down, up, lx]"
   ]
  },
  {
   "cell_type": "code",
   "execution_count": 22,
   "id": "7268754d",
   "metadata": {},
   "outputs": [],
   "source": [
    "%%cython\n",
    "import numpy as np\n",
    "\n",
    "def q1():\n",
    "    return np.array([-1, -1])\n",
    "\n",
    "def q2():\n",
    "    return np.array([ 1, 0])\n",
    "\n",
    "def q3():\n",
    "    return np.array([0,  1])"
   ]
  },
  {
   "cell_type": "code",
   "execution_count": 23,
   "id": "6c214150",
   "metadata": {},
   "outputs": [],
   "source": [
    "%%cython\n",
    "import numpy as np\n",
    "\n",
    "def K11(x: float, y: float):\n",
    "    return 1 #4 if y>0.5 else 1\n",
    "\n",
    "def K22(x: float, y: float):\n",
    "    return 1 #4 if y>0.5 else 1\n",
    "\n",
    "def K12(x: float, y: float):\n",
    "    return 0\n",
    "\n",
    "def K21(x: float, y: float):\n",
    "    return 0\n",
    "\n",
    "\n",
    "def K_func_eval(base_height: float, base_width: float, element_height: float, element_width: float, m: int, ls_eta: float, rs_eta: float, grad_eta: float, x, y):\n",
    "    coord = lambda t: ((m+1) * (1-t) - (m-1) * t) / 2\n",
    "\n",
    "    x_real = base_width + (1 - coord(y)) * element_width\n",
    "    y_real = base_height + coord(x) * element_height\n",
    "\n",
    "    chi_x3  = (1-coord(y)) * ls_eta + coord(y) * rs_eta\n",
    "    chi_eta = y_real\n",
    "\n",
    "    K11_eval = K11(x_real, y_real)\n",
    "    K12_eval = K12(x_real, y_real)\n",
    "    K21_eval = K21(x_real, y_real)\n",
    "    K22_eval = K22(x_real, y_real)\n",
    "\n",
    "    return np.array([[                      chi_x3 * K11_eval,                                                             K12_eval - chi_eta * grad_eta * K11_eval],\n",
    "                     [K21_eval- chi_eta * grad_eta * K11_eval, ( K22_eval + chi_eta * grad_eta * ( chi_eta * grad_eta * K11_eval - K12_eval - K21_eval ) ) / chi_x3]])"
   ]
  },
  {
   "cell_type": "code",
   "execution_count": 24,
   "id": "a0eb2c00",
   "metadata": {},
   "outputs": [],
   "source": [
    "def local_A(coord, sign, ls_eta, rs_eta, grad_eta):\n",
    "    M = np.zeros(shape=(3,3))\n",
    "\n",
    "    ordering = find_ordering(coord)\n",
    "\n",
    "    q_funcs = [q1(), q2(), q3()]\n",
    "\n",
    "    base_height = np.min(coord[1,:])\n",
    "    base_width  = np.min(coord[0, :])\n",
    "\n",
    "    element_height = (np.max(coord[1, :]) - np.min(coord[1, :]))\n",
    "    element_width  = (np.max(coord[0, :]) - np.min(coord[0, :]))\n",
    "\n",
    "\n",
    "    K_local = lambda x,y: K_func_eval(base_height, base_width,\n",
    "                     element_height, element_width,\n",
    "                     np.prod(sign),\n",
    "                     ls_eta, rs_eta, grad_eta, x, y)\n",
    "\n",
    "    area = (np.max(coord[1, :]) - np.min(coord[1, :])) * (np.max(coord[0, :]) - np.min(coord[0, :])) / 2\n",
    "\n",
    "    for i in range(3):\n",
    "        for j in range(3):\n",
    "            integrand = lambda ys,x: np.array([q_funcs[j].T @ K_local(x, y) @ q_funcs[i] for y in np.array(ys)])\n",
    "            inside = lambda xs, n: np.array([integrate.fixed_quad(integrand, 0, 1-x, args=(x,), n=n)[0] for x in np.array(xs)])\n",
    "            M[ordering[i], ordering[j]] = integrate.fixed_quad(inside, 0, 1, n=quad_order, args=(quad_order,))[0] * area\n",
    "\n",
    "    return M"
   ]
  },
  {
   "cell_type": "code",
   "execution_count": 25,
   "id": "492cd687",
   "metadata": {},
   "outputs": [],
   "source": [
    "def stifness(eta_dofs):\n",
    "\n",
    "    grad_eta   = eta_diff @ eta_dofs\n",
    "\n",
    "    # Map the domain to a reference geometry (i.e. equivalent to compute\n",
    "    # surface coordinates in 1d and 2d)\n",
    "\n",
    "    _, _, sign = sps.find(subdomain.cell_faces)\n",
    "    _, _, _, _, dim, node_coords = pp.map_geometry.map_grid(sd)\n",
    "\n",
    "    # Allocate the data to store matrix entries, that's the most efficient\n",
    "    # way to create a sparse matrix.\n",
    "    size = np.power(sd.dim + 1, 2) * sd.num_cells\n",
    "    rows_I = np.empty(size, dtype=int)\n",
    "    cols_J = np.empty(size, dtype=int)\n",
    "    data_IJ = np.empty(size)\n",
    "    idx = 0\n",
    "\n",
    "    cell_nodes = sd.cell_nodes()\n",
    "\n",
    "    for c in np.arange(sd.num_cells):\n",
    "        # For the current cell retrieve its nodes\n",
    "        loc = slice(cell_nodes.indptr[c], cell_nodes.indptr[c + 1])\n",
    "\n",
    "        nodes_loc = cell_nodes.indices[loc]\n",
    "        coord_loc = node_coords[:, nodes_loc]\n",
    "\n",
    "        eta_cell = np.max(np.where( boundary_grid.nodes[0, :] < sd.cell_centers[0, c] ))\n",
    "\n",
    "        # Compute the stiff-H1 local matrix\n",
    "        A = local_A(coord_loc, sign[loc], eta_dofs[eta_cell], eta_dofs[eta_cell+1], grad_eta[eta_cell])\n",
    "\n",
    "        # Save values for stiff-H1 local matrix in the global structure\n",
    "        cols = np.tile(nodes_loc, (nodes_loc.size, 1))\n",
    "        loc_idx = slice(idx, idx + cols.size)\n",
    "        rows_I[loc_idx] = cols.T.ravel()\n",
    "        cols_J[loc_idx] = cols.ravel()\n",
    "        data_IJ[loc_idx] = A.ravel()\n",
    "        idx += cols.size\n",
    "\n",
    "    # Construct the global matrices\n",
    "    return sps.csc_matrix((data_IJ, (rows_I, cols_J)))"
   ]
  },
  {
   "cell_type": "code",
   "execution_count": 26,
   "id": "a074e8c0",
   "metadata": {},
   "outputs": [
    {
     "name": "stdout",
     "output_type": "stream",
     "text": [
      "6.07 ms ± 630 µs per loop (mean ± std. dev. of 7 runs, 100 loops each)\n"
     ]
    }
   ],
   "source": [
    "%%timeit\n",
    "local_A(np.array([[0, 1, 0], [0, 0, 1]]), np.array([-1, 1, -1]), 1, 1, 0)"
   ]
  },
  {
   "cell_type": "markdown",
   "id": "e1e28782",
   "metadata": {},
   "source": [
    "#### Mass matrices"
   ]
  },
  {
   "cell_type": "code",
   "execution_count": 27,
   "id": "b746cf87",
   "metadata": {},
   "outputs": [],
   "source": [
    "M_h = h_field.assemble_mass_matrix( sd )\n",
    "M_gamma = gamma_field.assemble_mass_matrix( boundary_grid )"
   ]
  },
  {
   "cell_type": "markdown",
   "id": "75188ccc",
   "metadata": {},
   "source": [
    "#### Restrictor matrices"
   ]
  },
  {
   "cell_type": "code",
   "execution_count": 28,
   "id": "54c0b702",
   "metadata": {},
   "outputs": [],
   "source": [
    "restrict_eta = np.array(eta_mask, dtype=float)\n",
    "restrict_eta =  sps.csr_matrix(np.diag(restrict_eta, k=0))"
   ]
  },
  {
   "cell_type": "code",
   "execution_count": 29,
   "id": "2133096b",
   "metadata": {},
   "outputs": [],
   "source": [
    "upscale_to_h = np.zeros(shape=(sd.num_nodes, boundary_grid.num_nodes))\n",
    "upscale_to_h[ eta_mask , np.arange(boundary_grid.num_nodes) ] = 1\n",
    "upscale_to_h = sps.csr_matrix(upscale_to_h)"
   ]
  },
  {
   "cell_type": "code",
   "execution_count": 30,
   "id": "e8b3d100",
   "metadata": {},
   "outputs": [],
   "source": [
    "proj_psi = h_field.eval_at_cell_centers(subdomain)"
   ]
  },
  {
   "cell_type": "markdown",
   "id": "04d2bceb",
   "metadata": {},
   "source": [
    "### Solve System"
   ]
  },
  {
   "cell_type": "code",
   "execution_count": 31,
   "id": "abb485ad",
   "metadata": {},
   "outputs": [],
   "source": [
    "if os.path.exists(output_directory):\n",
    "    shutil.rmtree(output_directory)"
   ]
  },
  {
   "cell_type": "code",
   "execution_count": 32,
   "id": "c91b0b90",
   "metadata": {},
   "outputs": [],
   "source": [
    "# Fixed rhs\n",
    "fixed_rhs = np.zeros(dof_p)"
   ]
  },
  {
   "cell_type": "code",
   "execution_count": 33,
   "id": "d75b1f02",
   "metadata": {},
   "outputs": [],
   "source": [
    "# Initial conditions\n",
    "sol = [h_field.interpolate(sd, initial_h_func)]"
   ]
  },
  {
   "cell_type": "code",
   "execution_count": 34,
   "id": "2f2c117b",
   "metadata": {},
   "outputs": [],
   "source": [
    "def save_step(sol, saver, i):\n",
    "    ins = list()\n",
    "\n",
    "    ins.append((sd, \"cell_h\", proj_psi @ sol))\n",
    "\n",
    "    saver.write_vtu(ins, time_step=i)"
   ]
  },
  {
   "cell_type": "code",
   "execution_count": 35,
   "id": "354f427c",
   "metadata": {},
   "outputs": [],
   "source": [
    "# Save the initial solution\n",
    "saver = pp.Exporter(mdg, 'sol', folder_name=output_directory)\n",
    "save_step(sol[-1], saver, 0)"
   ]
  },
  {
   "cell_type": "code",
   "execution_count": 36,
   "id": "4c9cdf49",
   "metadata": {},
   "outputs": [],
   "source": [
    "def K_temp(eta_dof, grad_eta):\n",
    "    kxx, kyy, kxy = [], [], []\n",
    "    for c in np.arange(sd.num_cells):\n",
    "\n",
    "        eta_cell = np.max(np.where( boundary_grid.nodes[0, :] < sd.cell_centers[0, c] ))\n",
    "        ls_eta = eta_dof[eta_cell]\n",
    "        rs_eta = eta_dof[eta_cell+1]\n",
    "\n",
    "        percentage = (sd.cell_centers[0, c] - boundary_grid.face_centers[0, eta_cell]) * N\n",
    "        kxx.append(ls_eta * (1-percentage) + rs_eta * percentage)\n",
    "        kyy.append( (1 + np.power(grad_eta[eta_cell] * sd.cell_centers[1, c], 2))/kxx[-1] )\n",
    "        kxy.append(-sd.cell_centers[1, c] * grad_eta[eta_cell])\n",
    "\n",
    "    return pp.SecondOrderTensor(kxx = np.array(kxx), kyy = np.array(kyy), kxy=np.array(kxy))"
   ]
  },
  {
   "cell_type": "code",
   "execution_count": 37,
   "id": "6036f9c2",
   "metadata": {},
   "outputs": [
    {
     "name": "stdout",
     "output_type": "stream",
     "text": [
      "Time 0.02\n",
      "[1 1 1 1 1 1 1 1 1 1 1 1 1 1 1 1 1 1 1 1 1 1 1 1 1 1 1 1 1 1 1 1 1 1 1 1 1\n",
      " 1 1 1 1 1 1 1 1 1 1 1 1 1 1 1 1 1 1 1 1 1 1 1 1 1 1 1 1 1 1 1 1 1 1 1 1 1\n",
      " 1 1 1 1 1 1 1 1 1 1 1 1 1 1 1 1 1 1 1 1 1 1 1 1 1 1 1 1 1 1 1 1 1 1 1 1 1\n",
      " 1 1 1 1 1 1 1 1 1 1 1 1 1 1 1 1 1 1 1 1 1 1 1 1 1 1 1 1 1 1 1 1 1 1 1 1 1\n",
      " 1 1 1 1 1 1 1 1 1 1 1 1 1 1 1 1 1 1 1 1 1 1 1 1 1 1 1 1 1 1 1 1 1 1 1 1 1\n",
      " 1 1 1 1 1 1 1 1 1 1 1 1 1 1 1 1 1 1 1 1 1 1 1 1 1 1 1 1 1 1 1 1 1 1 1 1 1\n",
      " 1 1 1 1 1 1 1 1 1 1 1 1 1 1 1 1 1 1 1 1 1 1 1 1 1 1 1 1 1 1 1 1 1 1]\n",
      "Iteration #001, error L2 relative psi:    0.791697230\n",
      "[[ 1. -0.]\n",
      " [-0.  1.]]\n",
      "Iteration #002, error L2 relative psi:    0.052052004\n",
      "[[ 0.94878527 -0.0052383 ]\n",
      " [-0.0052383   1.05400818]]\n"
     ]
    },
    {
     "name": "stdout",
     "output_type": "stream",
     "text": [
      "Iteration #003, error L2 relative psi:    0.003663123\n",
      "[[ 0.94541804 -0.0055827 ]\n",
      " [-0.0055827   1.05776612]]\n",
      "Iteration #004, error L2 relative psi:    0.000258988\n",
      "[[ 0.94518107 -0.00560694]\n",
      " [-0.00560694  1.0580316 ]]\n",
      "Iteration #005, error L2 relative psi:    0.000018317\n",
      "[[ 0.94516432 -0.00560865]\n",
      " [-0.00560865  1.05805037]]\n",
      "\n",
      "[0.93394559 0.9507719  0.96176824 0.96973021 0.97578325 0.98051497\n",
      " 0.98428568 0.98733762 0.98984324 0.99193038 0.99369692 0.99522011\n",
      " 0.99656269 0.99777727 0.99890947 1.        ]\n",
      "Time 0.04\n",
      "[0.86748042 0.88712448 0.90413499 0.91880693 0.931451   0.94235311\n",
      " 0.95176851 0.95992346 0.96701858 0.97323225 0.97872401 0.9836376\n",
      " 0.98810401 0.99224432 0.99617267 1.         0.86739691 0.88721656\n",
      " 0.9042646  0.91894075 0.93157936 0.94247243 0.95187714 0.96002058\n",
      " 0.96710382 0.97330555 0.97878546 0.9836874  0.98814237 0.99227128\n",
      " 0.99618767 1.         0.86770519 0.88756498 0.9046308  0.91930406\n",
      " 0.9319271  0.9427969  0.95217358 0.96028609 0.96733676 0.97350516\n",
      " 0.97895159 0.98382025 0.98824223 0.9923383  0.99622161 1.\n",
      " 0.86833302 0.88819961 0.90526238 0.91991764 0.9325096  0.94333846\n",
      " 0.95266728 0.96072746 0.96772324 0.97383562 0.97922586 0.98403874\n",
      " 0.98840556 0.99244704 0.99627602 1.         0.86928196 0.88914435\n",
      " 0.90618828 0.92080816 0.93334967 0.94411602 0.95337365 0.96135702\n",
      " 0.96827294 0.97430437 0.97961388 0.98434701 0.98863537 0.99259958\n",
      " 0.99635211 1.         0.87058284 0.89043486 0.90744564 0.92201049\n",
      " 0.93447801 0.94515554 0.95431394 0.96219175 0.96899913 0.97492154\n",
      " 0.98012321 0.98475059 0.98893552 0.99279841 0.99645114 1.\n",
      " 0.87228678 0.89212265 0.90908431 0.92357031 0.9359345  0.94649049\n",
      " 0.95551535 0.96325314 0.96991837 0.97569961 0.98076305 0.98525602\n",
      " 0.9893105  0.99304634 0.99657448 1.         0.87446569 0.89427833\n",
      " 0.91117047 0.92554678 0.93776975 0.9481625  0.95701103 0.96456684\n",
      " 0.97105004 0.9766529  0.9815437  0.98587055 0.98976515 0.99334634\n",
      " 0.99672355 1.         0.87721655 0.89699616 0.91379073 0.92801535\n",
      " 0.94004651 0.95022176 0.95883982 0.96616208 0.97241556 0.97779676\n",
      " 0.98247594 0.98660152 0.99030427 0.99370129 0.99689967 1.\n",
      " 0.88066907 0.90040123 0.9170575  0.93107101 0.94284102 0.95272696\n",
      " 0.96104534 0.96807037 0.97403717 0.9791465  0.98357007 0.98745568\n",
      " 0.99093212 0.99411365 0.99710399 1.         0.88499803 0.90466019\n",
      " 0.92111619 0.93483166 0.94624349 0.95574403 0.96367409 0.9703235\n",
      " 0.97593599 0.98071582 0.9848347  0.98843825 0.99165175 0.99458508\n",
      " 0.99733721 1.         0.89044352 0.9099981  0.92615476 0.93944089\n",
      " 0.95035661 0.95934282 0.96677165 0.97295013 0.97812934 0.98251467\n",
      " 0.98627522 0.98955193 0.9924643  0.99511598 0.99759944 1.\n",
      " 0.8973467  0.91672537 0.93241502 0.94506769 0.95528975 0.96358998\n",
      " 0.97037638 0.97597082 0.98062709 0.98454679 0.98789209 0.99079566\n",
      " 0.99336833 0.9957051  0.99788997 1.         0.90621921 0.9252825\n",
      " 0.94020213 0.95189688 0.96114446 0.96853609 0.97450979 0.97939148\n",
      " 0.98342733 0.98680688 0.98967907 0.99216359 0.99435906 0.99634913\n",
      " 0.99820713 1.         0.91789737 0.93631361 0.94987617 0.96009598\n",
      " 0.96798446 0.97419478 0.97916358 0.98319563 0.98651193 0.98927808\n",
      " 0.99162177 0.99364422 0.99542799 0.99704248 0.9985482  1.\n",
      " 0.93394559 0.9507719  0.96176824 0.96973021 0.97578325 0.98051497\n",
      " 0.98428568 0.98733762 0.98984324 0.99193038 0.99369692 0.99522011\n",
      " 0.99656269 0.99777727 0.99890947 1.        ]\n",
      "Iteration #001, error L2 relative psi:    0.488209337\n",
      "[[ 0.94516313 -0.00560877]\n",
      " [-0.00560877  1.0580517 ]]\n",
      "Iteration #002, error L2 relative psi:    0.044250955\n",
      "[[ 0.90053774 -0.0064635 ]\n",
      " [-0.0064635   1.11049402]]\n",
      "Iteration #003, error L2 relative psi:    0.003478500\n",
      "[[ 0.89767516 -0.00675628]\n",
      " [-0.00675628  1.11403957]]\n",
      "Iteration #004, error L2 relative psi:    0.000274590\n",
      "[[ 0.89745013 -0.0067793 ]\n",
      " [-0.0067793   1.11431925]]\n",
      "Iteration #005, error L2 relative psi:    0.000021683\n",
      "[[ 0.89743237 -0.00678112]\n",
      " [-0.00678112  1.11434133]]\n",
      "\n",
      "[0.88386845 0.90421223 0.92047473 0.93368585 0.9445908  0.95370701\n",
      " 0.96141002 0.96798445 0.97365347 0.97859683 0.98296277 0.98687637\n",
      " 0.99044562 0.993766   0.9969241  1.        ]\n",
      "Time 0.06\n",
      "[0.80646736 0.82809498 0.84804555 0.86635256 0.88309942 0.89839294\n",
      " 0.91235341 0.92510943 0.93679438 0.94754402 0.95749486 0.96678302\n",
      " 0.97554366 0.98391091 0.99201824 1.         0.80657533 0.82828427\n",
      " 0.84825176 0.8665581  0.88329751 0.89857981 0.9125265  0.92526685\n",
      " 0.93693474 0.94766636 0.95759849 0.96686749 0.97560865 0.98395603\n",
      " 0.99204255 1.         0.80718457 0.82890969 0.84887765 0.86716887\n",
      " 0.88388143 0.89912802 0.91303218 0.92572482 0.93734115 0.94801845\n",
      " 0.95789439 0.96710593 0.97578877 0.98407711 0.99210371 1.\n",
      " 0.80826996 0.82999322 0.84994456 0.86820207 0.88486527 0.90004928\n",
      " 0.91388023 0.9264914  0.93802015 0.94860553 0.95838663 0.96750148\n",
      " 0.97608646 0.98427618 0.99220351 1.         0.80984599 0.83155961\n",
      " 0.85147924 0.86968265 0.88627111 0.90136265 0.91508673 0.9275799\n",
      " 0.93898251 0.94943613 0.95908185 0.96805916 0.97650542 0.9845558\n",
      " 0.99234344 1.         0.81194649 0.83364471 0.85351758 0.8716443\n",
      " 0.88812919 0.90309437 0.91667384 0.92900859 0.94024297 0.95052187\n",
      " 0.95998897 0.96878563 0.9770504  0.98491908 0.99252507 1.\n",
      " 0.81462061 0.83629752 0.85610682 0.87413075 0.89047846 0.90527802\n",
      " 0.91866968 0.93080043 0.9418198  0.95187697 0.9611188  0.96968883\n",
      " 0.97772696 0.98536958 0.99275013 1.         0.81793307 0.83958168\n",
      " 0.85930723 0.87719691 0.89336716 0.90795458 0.92110807 0.93298255\n",
      " 0.9437343  0.95351772 0.96248348 0.97077757 0.97854117 0.98591107\n",
      " 0.99302046 1.         0.82196616 0.84357762 0.86319401 0.88091014\n",
      " 0.8968533  0.91117231 0.92402794 0.93558556 0.94600988 0.95546165\n",
      " 0.9640958  0.97206086 0.97949911 0.9865473  0.99333782 1.\n",
      " 0.82682305 0.84838568 0.86785961 0.88535152 0.90100501 0.91498634\n",
      " 0.92747247 0.9386423  0.94867094 0.95772639 0.9659682  0.97354723\n",
      " 0.98060635 0.98728162 0.99370379 1.         0.83263283 0.85413052\n",
      " 0.87341676 0.89061723 0.90590036 0.91945747 0.93148738 0.94218612\n",
      " 0.95174108 0.96032823 0.96811159 0.97524374 0.98186727 0.9881165\n",
      " 0.99411947 1.         0.83955823 0.86096776 0.8800024  0.89681956\n",
      " 0.91162627 0.92464992 0.93611825 0.94624819 0.95524084 0.96328016\n",
      " 0.9705338  0.97715487 0.98328426 0.98905312 0.99458533 1.\n",
      " 0.84780797 0.86909401 0.88778254 0.90408692 0.91827557 0.93062713\n",
      " 0.94140625 0.95085377 0.95918466 0.96658958 0.97323792 0.97928128\n",
      " 0.98485688 0.99009077 0.99510091 1.         0.85765784 0.87876288\n",
      " 0.89695763 0.91256104 0.92594035 0.93744455 0.94738187 0.9560173\n",
      " 0.9635772  0.97025561 0.97622039 0.98161859 0.98658106 0.99122645\n",
      " 0.99566464 1.         0.86948954 0.89031202 0.90776591 0.9223869\n",
      " 0.93469876 0.94513807 0.95405618 0.96173623 0.96840918 0.97426642\n",
      " 0.97946926 0.98415618 0.98844839 0.99245441 0.9962737  1.\n",
      " 0.88386845 0.90421223 0.92047473 0.93368585 0.9445908  0.95370701\n",
      " 0.96141002 0.96798445 0.97365347 0.97859683 0.98296277 0.98687637\n",
      " 0.99044562 0.993766   0.9969241  1.        ]\n",
      "Iteration #001, error L2 relative psi:    0.368381542\n",
      "[[ 0.89743097 -0.00678126]\n",
      " [-0.00678126  1.11434308]]\n",
      "Iteration #002, error L2 relative psi:    0.041576223\n",
      "[[ 0.8588356  -0.00708676]\n",
      " [-0.00708676  1.16442568]]\n",
      "Iteration #003, error L2 relative psi:    0.003608877\n",
      "[[ 0.85614604 -0.00736185]\n",
      " [-0.00736185  1.16808833]]\n",
      "Iteration #004, error L2 relative psi:    0.000314567\n",
      "[[ 0.85591258 -0.00738572]\n",
      " [-0.00738572  1.16840735]]\n",
      "Iteration #005, error L2 relative psi:    0.000027429\n",
      "[[ 0.85589223 -0.00738781]\n",
      " [-0.00738781  1.16843516]]\n",
      "\n",
      "[0.84111448 0.86327845 0.88236516 0.89887687 0.91323421 0.92578868\n",
      " 0.93683358 0.94661586 0.95534607 0.96320619 0.97035573 0.97693661\n",
      " 0.98307714 0.98889528 0.99450139 1.        ]\n",
      "Time 0.08\n",
      "[0.76469516 0.78768766 0.80933083 0.82964428 0.84868041 0.86650885\n",
      " 0.88321152 0.89888006 0.91361407 0.92751954 0.9407075  0.95329291\n",
      " 0.9653937  0.97713004 0.98862401 1.         0.76486958 0.78791693\n",
      " 0.80956965 0.82987968 0.84890684 0.86672284 0.88341042 0.89906174\n",
      " 0.9137768  0.92766193 0.94082847 0.95339161 0.96546944 0.9771822\n",
      " 0.98865158 1.         0.7655887  0.78864524 0.81029297 0.83058414\n",
      " 0.84958132 0.86735831 0.88399939 0.89959804 0.91425541 0.92807883\n",
      " 0.94118051 0.95367639 0.96568512 0.9773273  0.98872478 1.\n",
      " 0.76683678 0.78988906 0.81151682 0.83177084 0.85071489 0.86842465\n",
      " 0.88498643 0.90049571 0.91505548 0.92877477 0.94176727 0.95415011\n",
      " 0.96604295 0.97756716 0.98884518 1.         0.76862609 0.7916677\n",
      " 0.81326181 0.83345917 0.85232496 0.86993713 0.88638468 0.90176583\n",
      " 0.9161862  0.92975722 0.94259463 0.95481732 0.96654633 0.97790415\n",
      " 0.98901411 1.         0.7709829  0.79400877 0.81555563 0.83567533\n",
      " 0.85443535 0.8719168  0.88821227 0.90342368 0.91766017 0.93103631\n",
      " 0.94367058 0.95568409 0.96719967 0.97834118 0.98923306 1.\n",
      " 0.77394446 0.79694946 0.81843432 0.83845304 0.85707658 0.87439047\n",
      " 0.89049218 0.90548848 0.91949308 0.93262459 0.94500487 0.95675775\n",
      " 0.96800819 0.97888164 0.9895037  1.         0.77755891 0.80053725\n",
      " 0.82194325 0.84183423 0.86028619 0.87739079 0.89325201 0.90798302\n",
      " 0.92170333 0.93453655 0.94660862 0.95804658 0.96897773 0.97952922\n",
      " 0.98982784 1.         0.78188626 0.80483102 0.82613811 0.84586971\n",
      " 0.86410901 0.88095609 0.89652369 0.91093321 0.92431146 0.93678809\n",
      " 0.94849384 0.95955932 0.97011436 0.98028776 0.9902073  1.\n",
      " 0.78700003 0.80990266 0.83108616 0.85061989 0.86859731 0.88513017\n",
      " 0.90034285 0.91436731 0.92733933 0.93939574 0.95067271 0.96130468\n",
      " 0.97142399 0.98116089 0.99064384 1.         0.79298992 0.81583942\n",
      " 0.83686793 0.85615562 0.87381089 0.88996173 0.90474793 0.91831483\n",
      " 0.93080903 0.94237564 0.9531567  0.96329056 0.97291183 0.98215177\n",
      " 0.99113892 1.         0.79996571 0.82274739 0.84357944 0.862559\n",
      " 0.87981668 0.89550321 0.90977865 0.92280495 0.93474141 0.94574223\n",
      " 0.95595554 0.9655233  0.97458182 0.98326262 0.99169356 1.\n",
      " 0.8080635  0.83075674 0.85133515 0.86992395 0.88668765 0.90180881\n",
      " 0.91547373 0.92786431 0.93915406 0.94950665 0.9590759  0.96800663\n",
      " 0.97643587 0.98449437 0.99230811 1.         0.81745581 0.8400301\n",
      " 0.86027175 0.87835596 0.89450019 0.908931   0.92186739 0.93351393\n",
      " 0.94405888 0.95367475 0.96251991 0.97074064 0.97847324 0.98584615\n",
      " 0.99298206 1.         0.82836906 0.85077661 0.87055195 0.88796914\n",
      " 0.90332855 0.91691475 0.92898443 0.93976534 0.9494591  0.95824499\n",
      " 0.96628368 0.97372074 0.98068974 0.98731495 0.99371395 1.\n",
      " 0.84111448 0.86327845 0.88236516 0.89887687 0.91323421 0.92578868\n",
      " 0.93683358 0.94661586 0.95534607 0.96320619 0.97035573 0.97693661\n",
      " 0.98307714 0.98889528 0.99450139 1.        ]\n",
      "Iteration #001, error L2 relative psi:    0.302651943\n",
      "[[ 0.85589046 -0.00738799]\n",
      " [-0.00738799  1.16843759]]\n",
      "Iteration #002, error L2 relative psi:    0.040000502\n",
      "[[ 0.8219626  -0.00756803]\n",
      " [-0.00756803  1.21667005]]\n",
      "Iteration #003, error L2 relative psi:    0.003805487\n",
      "[[ 0.81937497 -0.0078327 ]\n",
      " [-0.0078327   1.22051732]]\n",
      "Iteration #004, error L2 relative psi:    0.000363577\n",
      "[[ 0.8191288  -0.00785788]\n",
      " [-0.00785788  1.22088461]]\n",
      "Iteration #005, error L2 relative psi:    0.000034750\n",
      "[[ 0.81910528 -0.00786028]\n",
      " [-0.00786028  1.22091972]]\n",
      "\n",
      "[0.803382   0.82696354 0.84801411 0.86687654 0.88382423 0.89910011\n",
      " 0.91292395 0.92549509 0.93699478 0.94758865 0.95742906 0.96665733\n",
      " 0.97540585 0.98379994 0.99195951 1.        ]\n",
      "Time 0.1\n",
      "[0.73178895 0.75601215 0.77906959 0.80098012 0.82178808 0.84155133\n",
      " 0.8603378  0.8782238  0.89529288 0.9116348  0.92734457 0.94252157\n",
      " 0.95726871 0.97169172 0.98589865 1.         0.73197982 0.75624587\n",
      " 0.77930994 0.80121637 0.82201536 0.84176642 0.86053812 0.87840719\n",
      " 0.8954575  0.91177913 0.92746735 0.94262177 0.95734551 0.97174438\n",
      " 0.98592622 1.         0.73270607 0.75697848 0.78003617 0.80192375\n",
      " 0.8226936  0.84240685 0.86113332 0.8789508  0.89594412 0.91220425\n",
      " 0.92782728 0.94291356 0.9575668  0.97189334 0.98600134 1.\n",
      " 0.73395511 0.7582228  0.78126081 0.80311263 0.82383154 0.84348015\n",
      " 0.8621299  0.87986018 0.89675741 0.91291404 0.92842752 0.94339941\n",
      " 0.95793454 0.97214018 0.98612532 1.         0.73573637 0.7599938\n",
      " 0.78299995 0.80479823 0.82544297 0.84499856 0.86353852 0.88114449\n",
      " 0.89790508 0.91391484 0.92927316 0.94408334 0.95845174 0.972487\n",
      " 0.98629935 1.         0.73807013 0.7623129  0.78527515 0.8070011\n",
      " 0.82754677 0.84697895 0.86537395 0.88281636 0.89939772 0.91521535\n",
      " 0.93037116 0.94497071 0.95912235 0.97293644 0.98652477 1.\n",
      " 0.74098512 0.76520881 0.78811441 0.80974766 0.83016714 0.84944289\n",
      " 0.86765495 0.88489177 0.90124864 0.9168264  0.93173011 0.94606812\n",
      " 0.95995114 0.97349162 0.98680314 1.         0.74451834 0.7687181\n",
      " 0.79155288 0.81307073 0.83333382 0.85241666 0.87040419 0.88738983\n",
      " 0.90347362 0.91876072 0.93336002 0.94738313 0.96094355 0.97415604\n",
      " 0.98713617 1.         0.74871564 0.77288589 0.79563354 0.81700998\n",
      " 0.83708238 0.85593129 0.87364809 0.89033252 0.90609055 0.92103256\n",
      " 0.93527193 0.94892404 0.96210545 0.97493346 0.9875257  1.\n",
      " 0.75363292 0.777767   0.80040814 0.82161255 0.84145441 0.86002245\n",
      " 0.87741647 0.89374425 0.90911895 0.92365718 0.9374775  0.95069944\n",
      " 0.9634429  0.97582771 0.98797358 1.         0.75933784 0.78342749\n",
      " 0.80593832 0.82693366 0.84649767 0.86473021 0.8817421  0.89765116\n",
      " 0.91257927 0.92665024 0.93998841 0.95271781 0.9649617  0.97684243\n",
      " 0.98848156 1.         0.76591252 0.78994709 0.81229728 0.83303735\n",
      " 0.85226602 0.87009847 0.8866598  0.90208024 0.91649196 0.9300269\n",
      " 0.94281565 0.95498686 0.96666705 0.9779808  0.98905114 1.\n",
      " 0.77345769 0.79742275 0.81957181 0.83999705 0.858819   0.87617388\n",
      " 0.89220512 0.90705794 0.92087621 0.93380076 0.94596862 0.95751289\n",
      " 0.96856299 0.97924521 0.98968345 1.         0.78209945 0.80597426\n",
      " 0.82786498 0.84789572 0.86622041 0.8830039  0.89841232 0.91260824\n",
      " 0.92574833 0.93798253 0.94945407 0.96029998 0.97065187 0.98063695\n",
      " 0.99037906 1.         0.7920008  0.81575372 0.83729879 0.85682438\n",
      " 0.87453536 0.8906335  0.90531137 0.91875025 0.93111976 0.94257845\n",
      " 0.95327492 0.96334912 0.97293377 0.98215583 0.99113794 1.\n",
      " 0.803382   0.82696354 0.84801411 0.86687654 0.88382423 0.89910011\n",
      " 0.91292395 0.92549509 0.93699478 0.94758865 0.95742906 0.96665733\n",
      " 0.97540585 0.98379994 0.99195951 1.        ]\n",
      "Iteration #001, error L2 relative psi:    0.260949912\n",
      "[[ 0.81910303 -0.00786051]\n",
      " [-0.00786051  1.22092307]]\n",
      "Iteration #002, error L2 relative psi:    0.038837637\n",
      "[[ 0.78891282 -0.00799614]\n",
      " [-0.00799614  1.26764822]]\n",
      "Iteration #003, error L2 relative psi:    0.004026345\n",
      "[[ 0.78640042 -0.00825311]\n",
      " [-0.00825311  1.27170343]]\n",
      "Iteration #004, error L2 relative psi:    0.000419228\n",
      "[[ 0.78613996 -0.00827975]\n",
      " [-0.00827975  1.27212533]]\n",
      "Iteration #005, error L2 relative psi:    0.000043670\n",
      "[[ 0.78611284 -0.00828252]\n",
      " [-0.00828252  1.27216927]]\n",
      "\n",
      "[0.76954439 0.79439283 0.81704726 0.83779216 0.85683622 0.87436356\n",
      " 0.89054579 0.90554509 0.91951521 0.93260223 0.94494532 0.9566776\n",
      " 0.96792707 0.97881754 0.98946941 1.        ]\n"
     ]
    }
   ],
   "source": [
    "# Time Loop\n",
    "for i in range(1, int(T/dt)+1):\n",
    "    print('Time ' + str(i * dt))\n",
    "    current_time = i * dt\n",
    "\n",
    "    # Prepare the solution at the previous time step and ...\n",
    "    prev = sol[-1].copy()\n",
    "    print(prev)\n",
    "\n",
    "    # Prepare the rhs\n",
    "    rhs = fixed_rhs.copy()\n",
    "    rhs = S_s / dt * M_h @ prev + phi / dt * upscale_to_h @ M_gamma @ prev[eta_mask] + upscale_to_h @ M_gamma @ gamma_field.interpolate( boundary_grid, lambda x: infiltration(x, current_time) )\n",
    "\n",
    "    debug_saver = pp.Exporter(mdg, str(i) + '_sol', folder_name=os.path.join(output_directory, 'debug'))\n",
    "    save_step(sol[-1], debug_saver, 0)\n",
    "\n",
    "    # Non-linear loop\n",
    "    for k in range(max_iterations_per_step):\n",
    "        #A_h = stifness( prev[eta_mask] )\n",
    "\n",
    "        # Set the conductivity tensor in data (the actual saved tensor does not matter at this stage)\n",
    "        kk =  K_temp(prev[eta_mask], eta_diff @ prev[eta_mask])\n",
    "        pp.initialize_data(subdomain, data, key, {\n",
    "            \"second_order_tensor\": kk\n",
    "        })\n",
    "\n",
    "        A_h = h_field.assemble_stiff_matrix(subdomain)\n",
    "\n",
    "        # Assemble the saddle point problem\n",
    "        spp = sps.csr_matrix(S_s / dt * M_h + phi / dt * upscale_to_h @ M_gamma @ upscale_to_h.T + A_h)\n",
    "\n",
    "        # Prepare the solver\n",
    "        rhs_loc = rhs.copy() + neumann_value / prev[eta_mask][0]\n",
    "        ls = pg.LinearSystem(spp, rhs_loc)\n",
    "        ls.flag_ess_bc(dirichlet_flag, dirichlet_value)\n",
    "\n",
    "        current = ls.solve()\n",
    "\n",
    "        # Compute the errors (with eta). Should I consider only psi? Should I compute the error on the \"actual\" psi values or on the dofs\n",
    "        abs_err_psi  = np.sqrt(np.sum(np.power(current - prev, 2)))\n",
    "        abs_err_prev = np.sqrt(np.sum(np.power(prev, 2)))\n",
    "\n",
    "        print('Iteration #' + format(k+1, '0' + str(ceil(log10(max_iterations_per_step)) + 1) + 'd')\n",
    "              + ', error L2 relative psi: ' + format(abs_err_psi, str(5 + ceil(log10(1 / abs_tol)) + 4)\n",
    "                                                     + '.' + str(ceil(log10(1 / abs_tol)) + 4) + 'f') )\n",
    "\n",
    "        save_step(current, debug_saver, k+1)\n",
    "        print(kk.values[0 : 2, 0 : 2, 0])\n",
    "\n",
    "        if abs_err_psi < abs_tol + rel_tol * abs_err_prev:\n",
    "            break\n",
    "        else:\n",
    "            prev = None\n",
    "            prev = current.copy()\n",
    "\n",
    "\n",
    "    print('')\n",
    "\n",
    "    print((current[eta_mask]))\n",
    "\n",
    "\n",
    "    sol.append( current.copy() )\n",
    "    save_step(sol[-1], saver, i)\n",
    "\n",
    "saver.write_pvd([t * dt for t in range(int(T/dt)+1)])"
   ]
  },
  {
   "cell_type": "code",
   "execution_count": 38,
   "id": "beb6342a",
   "metadata": {},
   "outputs": [
    {
     "data": {
      "image/png": "[encoded data removed]",
      "text/plain": [
       "<Figure size 500x500 with 1 Axes>"
      ]
     },
     "metadata": {},
     "output_type": "display_data"
    }
   ],
   "source": [
    "fig, ax = plt.subplots(nrows=1, ncols=1, figsize=(5, 5))\n",
    "\n",
    "\n",
    "#ax.set_ylim(0.65, 1.01)\n",
    "ax.set_xlim(0, 1)\n",
    "\n",
    "ax.plot( boundary_grid.face_centers[0],  sol[0][eta_mask] )\n",
    "ax.plot( boundary_grid.face_centers[0],  sol[1][eta_mask] )\n",
    "ax.plot( boundary_grid.face_centers[0],  sol[3][eta_mask] )\n",
    "ax.plot( boundary_grid.face_centers[0], sol[-1][eta_mask] )\n",
    "\n",
    "ax.set_xlabel('Distance from well')\n",
    "ax.set_ylabel('Water table height')\n",
    "\n",
    "ax.legend(['T=0.0', 'T=0.1', 'T=0.3', 'T=1.0'])\n",
    "\n",
    "ax.grid()"
   ]
  },
  {
   "cell_type": "code",
   "execution_count": 39,
   "id": "eee2cf79",
   "metadata": {},
   "outputs": [
    {
     "name": "stdout",
     "output_type": "stream",
     "text": [
      "[[-15  15   0   0   0   0   0   0   0   0   0   0   0   0   0   0]\n",
      " [  0 -15  15   0   0   0   0   0   0   0   0   0   0   0   0   0]\n",
      " [  0   0 -15  15   0   0   0   0   0   0   0   0   0   0   0   0]\n",
      " [  0   0   0 -15  15   0   0   0   0   0   0   0   0   0   0   0]\n",
      " [  0   0   0   0 -15  15   0   0   0   0   0   0   0   0   0   0]\n",
      " [  0   0   0   0   0 -15  15   0   0   0   0   0   0   0   0   0]\n",
      " [  0   0   0   0   0   0 -15  15   0   0   0   0   0   0   0   0]\n",
      " [  0   0   0   0   0   0   0 -15  15   0   0   0   0   0   0   0]\n",
      " [  0   0   0   0   0   0   0   0 -15  15   0   0   0   0   0   0]\n",
      " [  0   0   0   0   0   0   0   0   0 -15  15   0   0   0   0   0]\n",
      " [  0   0   0   0   0   0   0   0   0   0 -15  15   0   0   0   0]\n",
      " [  0   0   0   0   0   0   0   0   0   0   0 -15  15   0   0   0]\n",
      " [  0   0   0   0   0   0   0   0   0   0   0   0 -15  15   0   0]\n",
      " [  0   0   0   0   0   0   0   0   0   0   0   0   0 -15  15   0]\n",
      " [  0   0   0   0   0   0   0   0   0   0   0   0   0   0 -15  15]]\n",
      "(15, 16)\n",
      "[0.93394559 0.9507719  0.96176824 0.96973021 0.97578325 0.98051497\n",
      " 0.98428568 0.98733762 0.98984324 0.99193038 0.99369692 0.99522011\n",
      " 0.99656269 0.99777727 0.99890947 1.        ]\n",
      "[0.25239471 0.16494512 0.11942945 0.09079561 0.0709758  0.05656062\n",
      " 0.04577914 0.03758435 0.03130701 0.02649818 0.0228478  0.02013866\n",
      " 0.01821872 0.01698304 0.01635795]\n"
     ]
    }
   ],
   "source": [
    "print(eta_diff.todense())\n",
    "print(eta_diff.shape)\n",
    "print(sol[1][eta_mask])\n",
    "print(eta_diff@sol[1][eta_mask])"
   ]
  },
  {
   "cell_type": "code",
   "execution_count": null,
   "id": "9269fb23",
   "metadata": {},
   "outputs": [],
   "source": []
  }
 ],
 "metadata": {
  "kernelspec": {
   "display_name": "Python 3 (ipykernel)",
   "language": "python",
   "name": "python3"
  },
  "language_info": {
   "codemirror_mode": {
    "name": "ipython",
    "version": 3
   },
   "file_extension": ".py",
   "mimetype": "text/x-python",
   "name": "python",
   "nbconvert_exporter": "python",
   "pygments_lexer": "ipython3",
   "version": "3.11.1"
  },
  "vscode": {
   "interpreter": {
    "hash": "e4cc1db98167c7fd7d55a1da8057731abc6cd6fe154328a2ae319df8aab4e24d"
   }
  }
 },
 "nbformat": 4,
 "nbformat_minor": 5
}
