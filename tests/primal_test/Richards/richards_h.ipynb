{
 "cells": [
  {
   "attachments": {},
   "cell_type": "markdown",
   "metadata": {},
   "source": [
    "# Richards equation\n",
    "\n",
    "In this tutorial we present how to solve a Richards equation with [PyGeoN](https://github.com/compgeo-mox/pygeon).  The unkwons are the velocity $q$ and the pressure $p$.\n",
    "\n",
    "Let $\\Omega=(0,2)\\times(0,3)$ with boundary $\\partial \\Omega$ and outward unit normal ${\\nu}$. Given \n",
    "$K$ the matrix conductivity, we want to solve the following problem: find $({q}, \\psi)$ such that\n",
    "$$\n",
    "\\left\\{\n",
    "\\begin{array}{ll}\n",
    "\\begin{array}{l} \n",
    "K^{-1}(\\psi) {q} + \\nabla \\psi = -\\nabla z\\\\\n",
    "\\partial_t \\theta (\\psi) + \\nabla \\cdot {q} = 0\n",
    "\\end{array}\n",
    "&\\text{in } \\Omega \\times (0,T)\n",
    "\\end{array}\n",
    "\\right.\n",
    "$$\n",
    "with boundary and initial conditions:\n",
    "\n",
    "$$\n",
    "\\hat{\\psi}(t,x,z)=\n",
    "\\left\\{\n",
    "\\begin{array}{ll}\n",
    "\\begin{array}{l} \n",
    "-2+2.2 \\frac{t}{\\Delta t_D}, \\text{ on } \\Gamma_{D_1}, t\\leq\\Delta t_D\\\\\n",
    "0.2, \\text{ on } \\Gamma_{D_1}, t>\\Delta t_D\\\\\n",
    "1-z, \\text{ on } \\Gamma_{D_2}\n",
    "\\end{array}\n",
    "\\end{array}\n",
    "\\right., \\qquad \\nu \\cdot q = 0 \\text{ on } \\Gamma_N \\qquad \\psi(0,x,z) = 1-z \\text{ on } \\Omega$$\n",
    "where\n",
    "$$\n",
    "\\Gamma_{D_1} = \\left\\{ (x,z) \\in \\partial \\Omega \\:|\\: x \\in [0,1] \\wedge z=3  \\right\\},\\\\\n",
    "\\Gamma_{D_2} = \\left\\{ (x,z) \\in \\partial \\Omega \\:|\\: x = 2 \\wedge z \\in [0,1]  \\right\\},\\\\\n",
    "\\Gamma_{D} = \\Gamma_{D_1} \\cup \\Gamma_{D_2},\\\\\n",
    "\\Gamma_{N} = \\partial \\Omega \\setminus \\Gamma_D\n",
    "$$"
   ]
  },
  {
   "cell_type": "markdown",
   "metadata": {},
   "source": [
    "The water content $\\theta(\\psi)$ and the conductivity tensor $K(\\psi)$ can be modelled using the van Genuchten model:\n",
    "$$\n",
    "\\theta(\\psi) = \\theta_{R} + \\frac{\\theta_{S} - \\theta_{R}}{\\left[ 1 + \\left( -\\alpha \\psi \\right)^n \\right]^{\\frac{n-1}{n} }}\n",
    "$$\n",
    "\n",
    "$$\n",
    "K(\\psi) = \\left( \\hat{\\theta}(\\psi) \\right)^{\\frac{1}{2}} K_S \\left[ 1 - \\left( 1 - \\hat{\\theta}(\\psi)^{\\frac{n}{n-1}} \\right)^{\\frac{n-1}{n}} \\right]^2 \\underline{\\underline{\\bm{I}}}\n",
    "$$\n",
    "where $\\hat{\\theta}(\\psi) = \\frac{\\theta(\\psi) - \\theta_{R}}{\\theta_{S} - \\theta_{R}}$. Both expressions hold only if $\\psi \\leq 0$. If $\\psi > 0$ at $\\bm{x} \\in \\Omega$, the porous medium is fully saturated by the wetting fluid in that point and, thus, $\\theta(\\psi)=\\theta_S$ and $K(\\psi)=K_S \\underline{\\underline{\\bm{I}}}$."
   ]
  },
  {
   "cell_type": "markdown",
   "metadata": {},
   "source": [
    "The weak formulation of the problem will read:\n",
    "$$\n",
    "\\left\\{\n",
    "\\begin{array}{ll}\n",
    "\\begin{array}{l} \n",
    "\\left( K^{-1}(\\psi) \\bm{q}, \\bm{v} \\right)_{\\Omega} - \\left( \\psi, \\nabla \\cdot \\bm{v} \\right)_{\\Omega} = - \\left( \\bm{\\nabla} z, \\bm{v} \\right)_{\\Omega} - \\left( \\hat{\\psi}, \\bm{v} \\cdot \\nu \\right)_{\\Gamma_D} \\\\\n",
    "\\left(\\partial_t \\theta (\\psi), v \\right)_{\\Omega} + (\\nabla \\cdot \\bm{q}, v)_{\\Omega} = 0\n",
    "\\end{array}\n",
    "&\\text{in } \\Omega \\times (0,T)\n",
    "\\end{array}\n",
    "\\right.\n",
    "$$"
   ]
  },
  {
   "cell_type": "markdown",
   "metadata": {},
   "source": [
    "We will use the Backward Euler discretization scheme to discretize the equation in time:\n",
    "$$\n",
    "\\left\\{\n",
    "\\begin{array}{ll}\n",
    "\\begin{array}{l} \n",
    "\\left( K^{-1}(\\psi^{n+1}) \\bm{q}^{n+1}, \\bm{v} \\right)_{\\Omega} - \\left( \\psi^{n+1}, \\nabla \\cdot \\bm{v} \\right)_{\\Omega} = - \\left( \\bm{\\nabla} z, \\bm{v} \\right)_{\\Omega} - \\left( \\hat{\\psi}^{n+1}, \\bm{v} \\cdot \\nu \\right)_{\\Gamma_D} \\\\\n",
    "\\left(\\theta(\\psi^{n+1}) , v \\right)_{\\Omega} + \\Delta t^{n+1} (\\nabla \\cdot \\bm{q}^{n+1}, v)_{\\Omega} = \\left(\\theta(\\psi^{n}) , v \\right)_{\\Omega}\n",
    "\\end{array}\n",
    "&\\text{in } \\Omega \\times (0,T)\n",
    "\\end{array}\n",
    "\\right.\n",
    "$$"
   ]
  },
  {
   "cell_type": "markdown",
   "metadata": {},
   "source": [
    "In order to solve the problem, we will firstly have to deal with the non-linear terms. To do that, we will employ the L-scheme, obtaining:\n",
    "$$\n",
    "\\left\\{\n",
    "\\begin{array}{ll}\n",
    "\\begin{array}{l} \n",
    "\\left( K^{-1}(\\psi^{n+1}_k) \\bm{q}^{n+1}_{k+1}, \\bm{v} \\right)_{\\Omega} - \\left( \\psi^{n+1}_{k+1}, \\nabla \\cdot \\bm{v} \\right)_{\\Omega} = - \\left( \\bm{\\nabla} z, \\bm{v} \\right)_{\\Omega} - \\left( \\hat{\\psi}^{n+1}, \\bm{v} \\cdot \\nu \\right)_{\\Gamma_D} \\\\\n",
    "\\left(\\theta(\\psi^{n+1}_k) , v \\right)_{\\Omega} + L\\left( \\psi^{n+1}_{k+1} - \\psi^{n+1}_{k}, v \\right)_{\\Omega} + \\Delta t^{n+1} (\\nabla \\cdot \\bm{q}^{n+1}_{k+1}, v)_{\\Omega} = \\left(\\theta(\\psi^{n}) , v \\right)_{\\Omega}\n",
    "\\end{array}\n",
    "&\\text{in } \\Omega \\times (0,T)\n",
    "\\end{array}\n",
    "\\right.\n",
    "$$"
   ]
  },
  {
   "cell_type": "markdown",
   "metadata": {},
   "source": [
    "The space discretization is perfomed using FEM ($RT_{0}$ elements for $\\bm{q}$ and $P_0$ for $\\psi$). The resulting linear system that must be solved for each step and each iteration is:\n",
    "$$\n",
    "\\left(\n",
    "\\begin{array}{cc} \n",
    "M_u(\\bm{\\psi^{n+1}_k}) & B^T\\\\\n",
    "-\\Delta t^{n+1} B & L * M_{\\psi}\n",
    "\\end{array}\n",
    "\\right)\n",
    "\\left(\n",
    "\\begin{array}{c} \n",
    "\\bm{u^{n+1}_{k+1}}\\\\ \n",
    "\\bm{\\psi^{n+1}_{k+1}}\\\\\n",
    "\\end{array}\n",
    "\\right)\n",
    "=\\left(\n",
    "\\begin{array}{c} \n",
    "\\bm{Z} + \\bm{BC}^{n+1}\\\\ \n",
    "L * M_{\\psi} \\bm{\\psi^{n+1}_k} + \\Theta^n - \\Theta^{n+1}_k\n",
    "\\end{array}\n",
    "\\right)\n",
    "$$"
   ]
  },
  {
   "cell_type": "markdown",
   "metadata": {},
   "source": [
    "where $[M_u(\\bm{\\psi^{n+1}_k})]_{ij} = \\left(K^{-1}(\\psi^{n+1}_k) \\bm{v}_j, \\bm{v}_i \\right)_{\\Omega}$ and $M_{\\psi}$ is the $\\psi$-mass matrix.\n",
    "\n",
    "The stopping criteria for the non-linear solver is:\n",
    "$$\n",
    "|\\bm{\\psi}_{k+1}^{n+1} - \\bm{\\psi}_{k}^{n+1}| \\leq \\epsilon_{A} + \\epsilon_{R} |\\bm{\\psi}_{k}^{n+1}|\n",
    "$$"
   ]
  },
  {
   "cell_type": "markdown",
   "metadata": {},
   "source": [
    "where $\\epsilon_{A}$ and $\\epsilon_{R}$ are the absolute and relative error tolerances."
   ]
  },
  {
   "cell_type": "markdown",
   "metadata": {},
   "source": [
    "We present *step-by-step* how to create the grid, declare the problem data, and finally solve the problem."
   ]
  },
  {
   "attachments": {},
   "cell_type": "markdown",
   "metadata": {},
   "source": [
    "### Import and parameters"
   ]
  },
  {
   "cell_type": "code",
   "execution_count": 1,
   "metadata": {},
   "outputs": [
    {
     "name": "stderr",
     "output_type": "stream",
     "text": [
      "/opt/conda/lib/python3.11/site-packages/porepy/numerics/nonlinear/nonlinear_solvers.py:13: TqdmExperimentalWarning: Using `tqdm.autonotebook.tqdm` in notebook mode. Use `tqdm.tqdm` instead to force console mode (e.g. in jupyter console)\n",
      "  from tqdm.autonotebook import trange  # type: ignore\n"
     ]
    }
   ],
   "source": [
    "import shutil\n",
    "import os\n",
    "\n",
    "import numpy as np\n",
    "import scipy.sparse as sps\n",
    "from scipy.sparse import linalg\n",
    "import sympy as sp\n",
    "\n",
    "import porepy as pp\n",
    "import pygeon as pg\n",
    "\n",
    "import time\n",
    "from math import ceil, floor, log10, exp\n",
    "\n",
    "import matplotlib.pyplot as plt"
   ]
  },
  {
   "cell_type": "code",
   "execution_count": 2,
   "metadata": {},
   "outputs": [],
   "source": [
    "# Set the maximum number of iterations of the non-linear solver\n",
    "K = 1000\n",
    "\n",
    "# L-scheme parameter\n",
    "L = 3.501e-2\n",
    "\n",
    "# Set the mesh refinment\n",
    "N = 10\n",
    "\n",
    "# Set the number of steps (excluding the initial condition)\n",
    "num_steps = 100\n",
    "\n",
    "# Simulation time length\n",
    "T = 100/48\n",
    "\n",
    "# Time switch conditions (for the boundary condition)\n",
    "dt_D = 3/48\n",
    "\n",
    "# Relative and absolute tolerances for the non-linear solver\n",
    "abs_tol = 1e-10\n",
    "rel_tol = 1e-5\n",
    "\n",
    "# Domain tolerance\n",
    "domain_tolerance = 1 / (10 * N)\n",
    "\n",
    "# Output directory\n",
    "output_directory = 'dual_test'"
   ]
  },
  {
   "cell_type": "code",
   "execution_count": 3,
   "metadata": {},
   "outputs": [],
   "source": [
    "# Van Genuchten model parameters ( relative permeability model )\n",
    "theta_s = 0.396\n",
    "theta_r = 0.131\n",
    "\n",
    "alpha = 0.423\n",
    "\n",
    "n = 2.06\n",
    "K_s = 4.96e-2\n",
    "\n",
    "m = 1 - 1/n"
   ]
  },
  {
   "cell_type": "code",
   "execution_count": 4,
   "metadata": {},
   "outputs": [],
   "source": [
    "# Time step\n",
    "dt   = (T-0)/num_steps"
   ]
  },
  {
   "attachments": {},
   "cell_type": "markdown",
   "metadata": {},
   "source": [
    "### $\\theta$ and $K$"
   ]
  },
  {
   "cell_type": "markdown",
   "metadata": {},
   "source": [
    "In order to evaluate analytically both $\\theta$ and $K$, we will make use of the python package $\\textit{sympy}$, that allow us to write down a mathematical expression in symbolic form (and that can also be used to compute their derivatives)."
   ]
  },
  {
   "cell_type": "code",
   "execution_count": 5,
   "metadata": {},
   "outputs": [],
   "source": [
    "# Symbolic psi\n",
    "psi_var = sp.Symbol('psi', negative=True)\n",
    "\n",
    "# Symbolic Theta\n",
    "theta_expression = theta_r + (theta_s - theta_r) / (1 + (-alpha * psi_var) ** n) ** m\n",
    "effective_saturation = (theta_expression - theta_r) / (theta_s - theta_r)\n",
    "\n",
    "# Symbolic Conductivity K\n",
    "hydraulic_conductivity_expression = K_s * (effective_saturation ** 0.5) * ( 1 - (1 - effective_saturation ** (1 / m)) ** m ) ** 2"
   ]
  },
  {
   "cell_type": "code",
   "execution_count": 6,
   "metadata": {},
   "outputs": [],
   "source": [
    "# Theta lambda\n",
    "theta_lambda = sp.lambdify(psi_var, theta_expression, 'numpy')\n",
    "\n",
    "# Conductivity tensor lambda\n",
    "conductivity_lambda = sp.lambdify(psi_var, hydraulic_conductivity_expression, 'numpy')"
   ]
  },
  {
   "cell_type": "code",
   "execution_count": 7,
   "metadata": {},
   "outputs": [],
   "source": [
    "# Actual (and final) theta function\n",
    "def theta(psi):\n",
    "    mask = np.where(psi < 0)\n",
    "    res = np.ones_like(psi) * theta_s\n",
    "    res[mask] = theta_lambda(psi[mask])\n",
    "\n",
    "    return res"
   ]
  },
  {
   "cell_type": "code",
   "execution_count": 8,
   "metadata": {},
   "outputs": [],
   "source": [
    "# Actual (and final) theta function\n",
    "def conductivity(psi):\n",
    "    mask = np.where(psi < 0)\n",
    "    res = np.ones_like(psi) * K_s\n",
    "    res[mask] = conductivity_lambda(psi[mask])\n",
    "\n",
    "    return res"
   ]
  },
  {
   "attachments": {},
   "cell_type": "markdown",
   "metadata": {},
   "source": [
    "### Domain preparation"
   ]
  },
  {
   "cell_type": "code",
   "execution_count": 9,
   "metadata": {},
   "outputs": [],
   "source": [
    "# Prepare the domain and its mesh\n",
    "subdomain = pp.StructuredTriangleGrid([2*N, 3*N], [2,3])\n",
    "\n",
    "# Convert it to a mixed-dimensional grid\n",
    "mdg = pp.meshing.subdomains_to_mdg([subdomain])"
   ]
  },
  {
   "cell_type": "code",
   "execution_count": 10,
   "metadata": {},
   "outputs": [],
   "source": [
    "key = \"flow\"\n",
    "\n",
    "# Collection of boundary conditions\n",
    "bc_value = []\n",
    "bc_essential = []\n",
    "\n",
    "# Initial pressure\n",
    "initial_pressure = []\n",
    "\n",
    "# Discretizations for q and \\psi\n",
    "RT0 = pg.RT0(key)\n",
    "P0  = pg.PwConstants(key)"
   ]
  },
  {
   "cell_type": "code",
   "execution_count": 11,
   "metadata": {},
   "outputs": [],
   "source": [
    "# Initial pressure function\n",
    "def initial_head_func(x): \n",
    "    return 1"
   ]
  },
  {
   "cell_type": "code",
   "execution_count": 12,
   "metadata": {},
   "outputs": [],
   "source": [
    "# Fake loop to extract the grid and its data (i.e. conductivity tensor)\n",
    "for subdomain, data in mdg.subdomains(return_data=True):    \n",
    "    # Prepare the inital pressure term by interpolating initial_pressure_func into the P0 space\n",
    "    initial_pressure.append(P0.interpolate(subdomain, initial_head_func))\n",
    "        \n",
    "    # Get the boundary faces ids\n",
    "    boundary_faces_indexes = subdomain.get_boundary_faces()\n",
    "\n",
    "    # Gamma_D1 and Gamma_D2 boundary faces\n",
    "    gamma_d1 = np.logical_and(subdomain.face_centers[0, :] > 0-domain_tolerance, np.logical_and(subdomain.face_centers[0, :] < 1+domain_tolerance, subdomain.face_centers[1, :] > 3-domain_tolerance))\n",
    "    gamma_d2 = np.logical_and(subdomain.face_centers[0, :] > 2-domain_tolerance, np.logical_and(subdomain.face_centers[1, :] > 0-domain_tolerance, subdomain.face_centers[1, :] < 1+domain_tolerance))\n",
    "\n",
    "    gamma_d  = np.logical_or(gamma_d1, gamma_d2)\n",
    "\n",
    "    # Gamma_N is the remaining part of the boundary    \n",
    "    gamma_n  = gamma_d.copy()\n",
    "    gamma_n[boundary_faces_indexes] = np.logical_not(gamma_n[boundary_faces_indexes])\n",
    "    \n",
    "    # Set the initial conductivity tensor in data (the actual saved tensor does not matter at this stage)\n",
    "    pp.initialize_data(subdomain, data, key, {\n",
    "        \"second_order_tensor\": pp.SecondOrderTensor(np.ones(subdomain.num_cells)),\n",
    "    })\n",
    "    \n",
    "    # Prepare the \\hat{\\psi} function\n",
    "    def bc_gamma_d(x, t):\n",
    "        if   x[0] > 2-domain_tolerance and x[1] > 0-domain_tolerance and x[1] < 1+domain_tolerance:\n",
    "            res =  1\n",
    "        elif x[1] > 3-domain_tolerance and x[0] > 0-domain_tolerance and x[0] < 1+domain_tolerance:\n",
    "            res = min( 3.2, 1 + 2.2 * t / dt_D )\n",
    "        else:\n",
    "            res = 0\n",
    "        \n",
    "        return res\n",
    "\n",
    "    # Add a lambda function that generates for each time instant the (discretized) natural boundary conditions for the problem\n",
    "    bc_value.append(lambda t: - RT0.assemble_nat_bc(subdomain, lambda x: bc_gamma_d(x,t), gamma_d))\n",
    "\n",
    "    # Set the essential boundary conditions (they will be enforced before solving the system)\n",
    "    essential_pressure_dofs = np.zeros(P0.ndof(subdomain), dtype=bool)\n",
    "    bc_essential = np.hstack((gamma_n, essential_pressure_dofs))"
   ]
  },
  {
   "cell_type": "markdown",
   "metadata": {},
   "source": [
    "### Matrix assembly"
   ]
  },
  {
   "cell_type": "code",
   "execution_count": 13,
   "metadata": {},
   "outputs": [],
   "source": [
    "# Psi mass matrix\n",
    "M_psi = P0.assemble_mass_matrix(subdomain)\n",
    "\n",
    "# B\n",
    "B = - pg.cell_mass(mdg, P0) @ pg.div(mdg)\n",
    "\n",
    "# Psi projection\n",
    "proj_psi = P0.eval_at_cell_centers(subdomain)\n",
    "\n",
    "# q projection\n",
    "proj_q = RT0.eval_at_cell_centers(subdomain)"
   ]
  },
  {
   "cell_type": "code",
   "execution_count": 14,
   "metadata": {},
   "outputs": [
    {
     "data": {
      "text/plain": [
       "(1200, 1850)"
      ]
     },
     "execution_count": 14,
     "metadata": {},
     "output_type": "execute_result"
    }
   ],
   "source": [
    "dof_psi, dof_q = B.shape\n",
    "dof_psi, dof_q"
   ]
  },
  {
   "cell_type": "code",
   "execution_count": 15,
   "metadata": {},
   "outputs": [],
   "source": [
    "# Assemble initial solution\n",
    "initial_solution = np.zeros(dof_q + dof_psi)\n",
    "initial_solution[-dof_psi:] += np.hstack(initial_pressure)\n",
    "\n",
    "# Final solution list. Each of its elements will be the solution at a specific instant\n",
    "sol = initial_solution"
   ]
  },
  {
   "cell_type": "code",
   "execution_count": 16,
   "metadata": {},
   "outputs": [],
   "source": [
    "# Assemble the fixed part of the right hand side (rhs)\n",
    "fixed_rhs = np.zeros(dof_q + dof_psi)"
   ]
  },
  {
   "cell_type": "code",
   "execution_count": 17,
   "metadata": {},
   "outputs": [],
   "source": [
    "# Helper function to project a function evaluated in the cell center to FEM (scalar)\n",
    "def project_psi_to_fe(to_project):\n",
    "    return to_project * subdomain.cell_volumes"
   ]
  },
  {
   "cell_type": "markdown",
   "metadata": {},
   "source": [
    "### Solving stage"
   ]
  },
  {
   "cell_type": "code",
   "execution_count": 18,
   "metadata": {},
   "outputs": [],
   "source": [
    "# Delete the output directory, if it exisis\n",
    "if os.path.exists(output_directory):\n",
    "    shutil.rmtree(output_directory)"
   ]
  },
  {
   "cell_type": "code",
   "execution_count": 19,
   "metadata": {},
   "outputs": [],
   "source": [
    "# Helper function to export the current_sol to a file\n",
    "def export_solution(saver, current_sol, num_step):\n",
    "    ins = list()\n",
    "\n",
    "    ins.append((subdomain, \"cell_q\", ( proj_q @ current_sol[:dof_q] ).reshape((3, -1), order=\"F\")))\n",
    "    ins.append((subdomain, \"cell_h\", proj_psi @ current_sol[dof_q:(dof_q+dof_psi)]  ))\n",
    "    ins.append((subdomain, \"cell_p\", proj_psi @ current_sol[dof_q:(dof_q+dof_psi)] - subdomain.cell_centers[1,:] ))\n",
    "\n",
    "    saver.write_vtu(ins, time_step=num_step)"
   ]
  },
  {
   "cell_type": "code",
   "execution_count": 20,
   "metadata": {},
   "outputs": [],
   "source": [
    "# Prepare the porepy exporter and export the initial solution\n",
    "saver = pp.Exporter(mdg, 'sol', folder_name=output_directory)\n",
    "\n",
    "export_solution(saver, current_sol=sol, num_step=0)"
   ]
  },
  {
   "cell_type": "code",
   "execution_count": 21,
   "metadata": {},
   "outputs": [
    {
     "name": "stdout",
     "output_type": "stream",
     "text": [
      "Time 0.02083\n",
      "Iteration #0001, error L2 relative psi:    0.09937355882711\n",
      "Iteration #0002, error L2 relative psi:    0.01272361637981\n",
      "Iteration #0003, error L2 relative psi:    0.00112337159945\n",
      "Iteration #0004, error L2 relative psi:    0.00006697266850\n",
      "Iteration #0005, error L2 relative psi:    0.00000934346338\n",
      "\n",
      "Time 0.04167\n",
      "Iteration #0001, error L2 relative psi:    0.17733669276786\n"
     ]
    },
    {
     "name": "stdout",
     "output_type": "stream",
     "text": [
      "Iteration #0002, error L2 relative psi:    0.04845812525955\n",
      "Iteration #0003, error L2 relative psi:    0.01066106296040\n",
      "Iteration #0004, error L2 relative psi:    0.00125999750477\n",
      "Iteration #0005, error L2 relative psi:    0.00006326758782\n",
      "Iteration #0006, error L2 relative psi:    0.00001904393873\n",
      "\n",
      "Time 0.0625\n",
      "Iteration #0001, error L2 relative psi:    0.26634202508958\n",
      "Iteration #0002, error L2 relative psi:    0.09378970683039\n",
      "Iteration #0003, error L2 relative psi:    0.02959362749072\n",
      "Iteration #0004, error L2 relative psi:    0.00554303916455\n",
      "Iteration #0005, error L2 relative psi:    0.00113901916525\n",
      "Iteration #0006, error L2 relative psi:    0.00044726892980\n",
      "Iteration #0007, error L2 relative psi:    0.00007867194255\n",
      "Iteration #0008, error L2 relative psi:    0.00002541603203\n",
      "\n",
      "Time 0.08333\n",
      "Iteration #0001, error L2 relative psi:    0.18396493725417\n",
      "Iteration #0002, error L2 relative psi:    0.03020703620409\n",
      "Iteration #0003, error L2 relative psi:    0.00509228546893\n",
      "Iteration #0004, error L2 relative psi:    0.00171152083716\n",
      "Iteration #0005, error L2 relative psi:    0.00043864588765\n",
      "Iteration #0006, error L2 relative psi:    0.00007966322146\n",
      "Iteration #0007, error L2 relative psi:    0.00002488944403\n",
      "\n",
      "Time 0.10417\n",
      "Iteration #0001, error L2 relative psi:    0.14422933992813\n",
      "Iteration #0002, error L2 relative psi:    0.01598922606432\n",
      "Iteration #0003, error L2 relative psi:    0.00261181599081\n",
      "Iteration #0004, error L2 relative psi:    0.00075749457957\n",
      "Iteration #0005, error L2 relative psi:    0.00016742636969\n",
      "Iteration #0006, error L2 relative psi:    0.00002641518054\n",
      "\n",
      "Time 0.125\n",
      "Iteration #0001, error L2 relative psi:    0.11984683723536\n",
      "Iteration #0002, error L2 relative psi:    0.01089204911709\n",
      "Iteration #0003, error L2 relative psi:    0.00154655562837\n",
      "Iteration #0004, error L2 relative psi:    0.00027668434326\n",
      "Iteration #0005, error L2 relative psi:    0.00006238127581\n",
      "Iteration #0006, error L2 relative psi:    0.00001059877864\n",
      "\n",
      "Time 0.14583\n",
      "Iteration #0001, error L2 relative psi:    0.10306962654027\n",
      "Iteration #0002, error L2 relative psi:    0.00911996202631\n",
      "Iteration #0003, error L2 relative psi:    0.00146356849444\n",
      "Iteration #0004, error L2 relative psi:    0.00023857763221\n",
      "Iteration #0005, error L2 relative psi:    0.00005089307272\n",
      "Iteration #0006, error L2 relative psi:    0.00001346350800\n",
      "\n",
      "Time 0.16667\n",
      "Iteration #0001, error L2 relative psi:    0.09073306443999\n",
      "Iteration #0002, error L2 relative psi:    0.00863117586583\n",
      "Iteration #0003, error L2 relative psi:    0.00176975687722\n",
      "Iteration #0004, error L2 relative psi:    0.00045490197420\n",
      "Iteration #0005, error L2 relative psi:    0.00013518550992\n",
      "Iteration #0006, error L2 relative psi:    0.00004347135260\n",
      "Iteration #0007, error L2 relative psi:    0.00001993974587\n",
      "\n",
      "Time 0.1875\n",
      "Iteration #0001, error L2 relative psi:    0.08117625861651\n",
      "Iteration #0002, error L2 relative psi:    0.00857319473851\n",
      "Iteration #0003, error L2 relative psi:    0.00203081827701\n",
      "Iteration #0004, error L2 relative psi:    0.00061631892579\n",
      "Iteration #0005, error L2 relative psi:    0.00021047575957\n",
      "Iteration #0006, error L2 relative psi:    0.00008017867197\n",
      "Iteration #0007, error L2 relative psi:    0.00004245196147\n",
      "Iteration #0008, error L2 relative psi:    0.00003301457127\n",
      "Iteration #0009, error L2 relative psi:    0.00002972434748\n",
      "\n",
      "Time 0.20833\n",
      "Iteration #0001, error L2 relative psi:    0.07346066390290\n",
      "Iteration #0002, error L2 relative psi:    0.00874717267850\n",
      "Iteration #0003, error L2 relative psi:    0.00230382385429\n",
      "Iteration #0004, error L2 relative psi:    0.00078684960499\n",
      "Iteration #0005, error L2 relative psi:    0.00030354180765\n",
      "Iteration #0006, error L2 relative psi:    0.00013412714364\n",
      "Iteration #0007, error L2 relative psi:    0.00007997473726\n",
      "Iteration #0008, error L2 relative psi:    0.00006398755100\n",
      "Iteration #0009, error L2 relative psi:    0.00005764455182\n",
      "Iteration #0010, error L2 relative psi:    0.00005360685447\n",
      "Iteration #0011, error L2 relative psi:    0.00005034179643\n",
      "Iteration #0012, error L2 relative psi:    0.00004747736006\n",
      "Iteration #0013, error L2 relative psi:    0.00004488150593\n",
      "Iteration #0014, error L2 relative psi:    0.00004248846660\n",
      "Iteration #0015, error L2 relative psi:    0.00004025932084\n",
      "Iteration #0016, error L2 relative psi:    0.00003816908210\n",
      "Iteration #0017, error L2 relative psi:    0.00003620078275\n",
      "Iteration #0018, error L2 relative psi:    0.00003434226504\n",
      "Iteration #0019, error L2 relative psi:    0.00003258433050\n",
      "Iteration #0020, error L2 relative psi:    0.00003091964845\n",
      "\n",
      "Time 0.22917\n",
      "Iteration #0001, error L2 relative psi:    0.06709662552694\n",
      "Iteration #0002, error L2 relative psi:    0.00902740652060\n",
      "Iteration #0003, error L2 relative psi:    0.00253884835897\n",
      "Iteration #0004, error L2 relative psi:    0.00093407778452\n",
      "Iteration #0005, error L2 relative psi:    0.00039703607500\n",
      "Iteration #0006, error L2 relative psi:    0.00019744409598\n",
      "Iteration #0007, error L2 relative psi:    0.00012757083038\n",
      "Iteration #0008, error L2 relative psi:    0.00010348363085\n",
      "Iteration #0009, error L2 relative psi:    0.00009277768667\n",
      "Iteration #0010, error L2 relative psi:    0.00008592986346\n",
      "Iteration #0011, error L2 relative psi:    0.00008051480681\n",
      "Iteration #0012, error L2 relative psi:    0.00007583913955\n",
      "Iteration #0013, error L2 relative psi:    0.00007164180642\n",
      "Iteration #0014, error L2 relative psi:    0.00006779467219\n",
      "Iteration #0015, error L2 relative psi:    0.00006422394271\n",
      "Iteration #0016, error L2 relative psi:    0.00006088333713\n",
      "Iteration #0017, error L2 relative psi:    0.00005774210141\n",
      "Iteration #0018, error L2 relative psi:    0.00005477868408\n",
      "Iteration #0019, error L2 relative psi:    0.00005197714202\n",
      "Iteration #0020, error L2 relative psi:    0.00004932503474\n",
      "Iteration #0021, error L2 relative psi:    0.00004681217224\n",
      "Iteration #0022, error L2 relative psi:    0.00004442986244\n",
      "Iteration #0023, error L2 relative psi:    0.00004217045349\n",
      "Iteration #0024, error L2 relative psi:    0.00004002705133\n",
      "Iteration #0025, error L2 relative psi:    0.00003799334214\n",
      "Iteration #0026, error L2 relative psi:    0.00003606347789\n",
      "Iteration #0027, error L2 relative psi:    0.00003423200030\n",
      "Iteration #0028, error L2 relative psi:    0.00003249378837\n",
      "Iteration #0029, error L2 relative psi:    0.00003084402067\n",
      "\n",
      "Time 0.25\n",
      "Iteration #0001, error L2 relative psi:    0.06172658781040\n",
      "Iteration #0002, error L2 relative psi:    0.00939447846368\n",
      "Iteration #0003, error L2 relative psi:    0.00280411733759\n",
      "Iteration #0004, error L2 relative psi:    0.00110288424586\n",
      "Iteration #0005, error L2 relative psi:    0.00051262252536\n",
      "Iteration #0006, error L2 relative psi:    0.00028244461227\n",
      "Iteration #0007, error L2 relative psi:    0.00019467716331\n",
      "Iteration #0008, error L2 relative psi:    0.00016000248828\n",
      "Iteration #0009, error L2 relative psi:    0.00014295122915\n",
      "Iteration #0010, error L2 relative psi:    0.00013187260379\n",
      "Iteration #0011, error L2 relative psi:    0.00012325443275\n",
      "Iteration #0012, error L2 relative psi:    0.00011592993548\n",
      "Iteration #0013, error L2 relative psi:    0.00010942436618\n",
      "Iteration #0014, error L2 relative psi:    0.00010350194595\n",
      "Iteration #0015, error L2 relative psi:    0.00009802874621\n",
      "Iteration #0016, error L2 relative psi:    0.00009292230254\n",
      "Iteration #0017, error L2 relative psi:    0.00008812887008\n",
      "Iteration #0018, error L2 relative psi:    0.00008361156704\n",
      "Iteration #0019, error L2 relative psi:    0.00007934370831\n",
      "Iteration #0020, error L2 relative psi:    0.00007530492254\n",
      "Iteration #0021, error L2 relative psi:    0.00007147885039\n",
      "Iteration #0022, error L2 relative psi:    0.00006785176418\n",
      "Iteration #0023, error L2 relative psi:    0.00006441173093\n",
      "Iteration #0024, error L2 relative psi:    0.00006114809838\n",
      "Iteration #0025, error L2 relative psi:    0.00005805117403\n",
      "Iteration #0026, error L2 relative psi:    0.00005511202033\n",
      "Iteration #0027, error L2 relative psi:    0.00005232232036\n"
     ]
    },
    {
     "ename": "KeyboardInterrupt",
     "evalue": "",
     "output_type": "error",
     "traceback": [
      "\u001b[0;31m---------------------------------------------------------------------------\u001b[0m",
      "\u001b[0;31mKeyboardInterrupt\u001b[0m                         Traceback (most recent call last)",
      "\u001b[1;32m/workspaces/richards/tests/primal_test/Richards/richards_h.ipynb Cell 36\u001b[0m line \u001b[0;36m4\n\u001b[1;32m     <a href='vscode-notebook-cell://dev-container%2B7b22686f737450617468223a22653a5c5c56697375616c2053747564696f20436f64655c5c7269636861726473222c226c6f63616c446f636b6572223a66616c73652c22636f6e66696746696c65223a7b22246d6964223a312c22667350617468223a22653a5c5c56697375616c2053747564696f20436f64655c5c72696368617264735c5c2e646576636f6e7461696e65725c5c646576636f6e7461696e65722e6a736f6e222c225f736570223a312c2265787465726e616c223a2266696c653a2f2f2f652533412f56697375616c25323053747564696f253230436f64652f72696368617264732f2e646576636f6e7461696e65722f646576636f6e7461696e65722e6a736f6e222c2270617468223a222f653a2f56697375616c2053747564696f20436f64652f72696368617264732f2e646576636f6e7461696e65722f646576636f6e7461696e65722e6a736f6e222c22736368656d65223a2266696c65227d7d/workspaces/richards/tests/primal_test/Richards/richards_h.ipynb#X50sdnNjb2RlLXJlbW90ZQ%3D%3D?line=37'>38</a>\u001b[0m \u001b[39m# Set the conductivity tensor in data (the actual saved tensor does not matter at this stage)\u001b[39;00m\n\u001b[1;32m     <a href='vscode-notebook-cell://dev-container%2B7b22686f737450617468223a22653a5c5c56697375616c2053747564696f20436f64655c5c7269636861726473222c226c6f63616c446f636b6572223a66616c73652c22636f6e66696746696c65223a7b22246d6964223a312c22667350617468223a22653a5c5c56697375616c2053747564696f20436f64655c5c72696368617264735c5c2e646576636f6e7461696e65725c5c646576636f6e7461696e65722e6a736f6e222c225f736570223a312c2265787465726e616c223a2266696c653a2f2f2f652533412f56697375616c25323053747564696f253230436f64652f72696368617264732f2e646576636f6e7461696e65722f646576636f6e7461696e65722e6a736f6e222c2270617468223a222f653a2f56697375616c2053747564696f20436f64652f72696368617264732f2e646576636f6e7461696e65722f646576636f6e7461696e65722e6a736f6e222c22736368656d65223a2266696c65227d7d/workspaces/richards/tests/primal_test/Richards/richards_h.ipynb#X50sdnNjb2RlLXJlbW90ZQ%3D%3D?line=38'>39</a>\u001b[0m pp\u001b[39m.\u001b[39minitialize_data(subdomain, data, key, {\n\u001b[1;32m     <a href='vscode-notebook-cell://dev-container%2B7b22686f737450617468223a22653a5c5c56697375616c2053747564696f20436f64655c5c7269636861726473222c226c6f63616c446f636b6572223a66616c73652c22636f6e66696746696c65223a7b22246d6964223a312c22667350617468223a22653a5c5c56697375616c2053747564696f20436f64655c5c72696368617264735c5c2e646576636f6e7461696e65725c5c646576636f6e7461696e65722e6a736f6e222c225f736570223a312c2265787465726e616c223a2266696c653a2f2f2f652533412f56697375616c25323053747564696f253230436f64652f72696368617264732f2e646576636f6e7461696e65722f646576636f6e7461696e65722e6a736f6e222c2270617468223a222f653a2f56697375616c2053747564696f20436f64652f72696368617264732f2e646576636f6e7461696e65722f646576636f6e7461696e65722e6a736f6e222c22736368656d65223a2266696c65227d7d/workspaces/richards/tests/primal_test/Richards/richards_h.ipynb#X50sdnNjb2RlLXJlbW90ZQ%3D%3D?line=39'>40</a>\u001b[0m     \u001b[39m\"\u001b[39m\u001b[39msecond_order_tensor\u001b[39m\u001b[39m\"\u001b[39m: pp\u001b[39m.\u001b[39mSecondOrderTensor(\n\u001b[1;32m     <a href='vscode-notebook-cell://dev-container%2B7b22686f737450617468223a22653a5c5c56697375616c2053747564696f20436f64655c5c7269636861726473222c226c6f63616c446f636b6572223a66616c73652c22636f6e66696746696c65223a7b22246d6964223a312c22667350617468223a22653a5c5c56697375616c2053747564696f20436f64655c5c72696368617264735c5c2e646576636f6e7461696e65725c5c646576636f6e7461696e65722e6a736f6e222c225f736570223a312c2265787465726e616c223a2266696c653a2f2f2f652533412f56697375616c25323053747564696f253230436f64652f72696368617264732f2e646576636f6e7461696e65722f646576636f6e7461696e65722e6a736f6e222c2270617468223a222f653a2f56697375616c2053747564696f20436f64652f72696368617264732f2e646576636f6e7461696e65722f646576636f6e7461696e65722e6a736f6e222c22736368656d65223a2266696c65227d7d/workspaces/richards/tests/primal_test/Richards/richards_h.ipynb#X50sdnNjb2RlLXJlbW90ZQ%3D%3D?line=40'>41</a>\u001b[0m         conductivity(proj_psi \u001b[39m@\u001b[39m prev[\u001b[39m-\u001b[39mdof_psi:] \u001b[39m-\u001b[39m subdomain\u001b[39m.\u001b[39mcell_centers[\u001b[39m1\u001b[39m,:])\n\u001b[1;32m     <a href='vscode-notebook-cell://dev-container%2B7b22686f737450617468223a22653a5c5c56697375616c2053747564696f20436f64655c5c7269636861726473222c226c6f63616c446f636b6572223a66616c73652c22636f6e66696746696c65223a7b22246d6964223a312c22667350617468223a22653a5c5c56697375616c2053747564696f20436f64655c5c72696368617264735c5c2e646576636f6e7461696e65725c5c646576636f6e7461696e65722e6a736f6e222c225f736570223a312c2265787465726e616c223a2266696c653a2f2f2f652533412f56697375616c25323053747564696f253230436f64652f72696368617264732f2e646576636f6e7461696e65722f646576636f6e7461696e65722e6a736f6e222c2270617468223a222f653a2f56697375616c2053747564696f20436f64652f72696368617264732f2e646576636f6e7461696e65722f646576636f6e7461696e65722e6a736f6e222c22736368656d65223a2266696c65227d7d/workspaces/richards/tests/primal_test/Richards/richards_h.ipynb#X50sdnNjb2RlLXJlbW90ZQ%3D%3D?line=41'>42</a>\u001b[0m     ),\n\u001b[1;32m     <a href='vscode-notebook-cell://dev-container%2B7b22686f737450617468223a22653a5c5c56697375616c2053747564696f20436f64655c5c7269636861726473222c226c6f63616c446f636b6572223a66616c73652c22636f6e66696746696c65223a7b22246d6964223a312c22667350617468223a22653a5c5c56697375616c2053747564696f20436f64655c5c72696368617264735c5c2e646576636f6e7461696e65725c5c646576636f6e7461696e65722e6a736f6e222c225f736570223a312c2265787465726e616c223a2266696c653a2f2f2f652533412f56697375616c25323053747564696f253230436f64652f72696368617264732f2e646576636f6e7461696e65722f646576636f6e7461696e65722e6a736f6e222c2270617468223a222f653a2f56697375616c2053747564696f20436f64652f72696368617264732f2e646576636f6e7461696e65722f646576636f6e7461696e65722e6a736f6e222c22736368656d65223a2266696c65227d7d/workspaces/richards/tests/primal_test/Richards/richards_h.ipynb#X50sdnNjb2RlLXJlbW90ZQ%3D%3D?line=42'>43</a>\u001b[0m })\n\u001b[0;32m---> <a href='vscode-notebook-cell://dev-container%2B7b22686f737450617468223a22653a5c5c56697375616c2053747564696f20436f64655c5c7269636861726473222c226c6f63616c446f636b6572223a66616c73652c22636f6e66696746696c65223a7b22246d6964223a312c22667350617468223a22653a5c5c56697375616c2053747564696f20436f64655c5c72696368617264735c5c2e646576636f6e7461696e65725c5c646576636f6e7461696e65722e6a736f6e222c225f736570223a312c2265787465726e616c223a2266696c653a2f2f2f652533412f56697375616c25323053747564696f253230436f64652f72696368617264732f2e646576636f6e7461696e65722f646576636f6e7461696e65722e6a736f6e222c2270617468223a222f653a2f56697375616c2053747564696f20436f64652f72696368617264732f2e646576636f6e7461696e65722f646576636f6e7461696e65722e6a736f6e222c22736368656d65223a2266696c65227d7d/workspaces/richards/tests/primal_test/Richards/richards_h.ipynb#X50sdnNjb2RlLXJlbW90ZQ%3D%3D?line=44'>45</a>\u001b[0m Mass_u \u001b[39m=\u001b[39m pg\u001b[39m.\u001b[39mface_mass(mdg, RT0)\n\u001b[1;32m     <a href='vscode-notebook-cell://dev-container%2B7b22686f737450617468223a22653a5c5c56697375616c2053747564696f20436f64655c5c7269636861726473222c226c6f63616c446f636b6572223a66616c73652c22636f6e66696746696c65223a7b22246d6964223a312c22667350617468223a22653a5c5c56697375616c2053747564696f20436f64655c5c72696368617264735c5c2e646576636f6e7461696e65725c5c646576636f6e7461696e65722e6a736f6e222c225f736570223a312c2265787465726e616c223a2266696c653a2f2f2f652533412f56697375616c25323053747564696f253230436f64652f72696368617264732f2e646576636f6e7461696e65722f646576636f6e7461696e65722e6a736f6e222c2270617468223a222f653a2f56697375616c2053747564696f20436f64652f72696368617264732f2e646576636f6e7461696e65722f646576636f6e7461696e65722e6a736f6e222c22736368656d65223a2266696c65227d7d/workspaces/richards/tests/primal_test/Richards/richards_h.ipynb#X50sdnNjb2RlLXJlbW90ZQ%3D%3D?line=46'>47</a>\u001b[0m \u001b[39m# Assemble the system to be solved at time n and interation k\u001b[39;00m\n\u001b[1;32m     <a href='vscode-notebook-cell://dev-container%2B7b22686f737450617468223a22653a5c5c56697375616c2053747564696f20436f64655c5c7269636861726473222c226c6f63616c446f636b6572223a66616c73652c22636f6e66696746696c65223a7b22246d6964223a312c22667350617468223a22653a5c5c56697375616c2053747564696f20436f64655c5c72696368617264735c5c2e646576636f6e7461696e65725c5c646576636f6e7461696e65722e6a736f6e222c225f736570223a312c2265787465726e616c223a2266696c653a2f2f2f652533412f56697375616c25323053747564696f253230436f64652f72696368617264732f2e646576636f6e7461696e65722f646576636f6e7461696e65722e6a736f6e222c2270617468223a222f653a2f56697375616c2053747564696f20436f64652f72696368617264732f2e646576636f6e7461696e65722f646576636f6e7461696e65722e6a736f6e222c22736368656d65223a2266696c65227d7d/workspaces/richards/tests/primal_test/Richards/richards_h.ipynb#X50sdnNjb2RlLXJlbW90ZQ%3D%3D?line=47'>48</a>\u001b[0m spp \u001b[39m=\u001b[39m sps\u001b[39m.\u001b[39mbmat(\n\u001b[1;32m     <a href='vscode-notebook-cell://dev-container%2B7b22686f737450617468223a22653a5c5c56697375616c2053747564696f20436f64655c5c7269636861726473222c226c6f63616c446f636b6572223a66616c73652c22636f6e66696746696c65223a7b22246d6964223a312c22667350617468223a22653a5c5c56697375616c2053747564696f20436f64655c5c72696368617264735c5c2e646576636f6e7461696e65725c5c646576636f6e7461696e65722e6a736f6e222c225f736570223a312c2265787465726e616c223a2266696c653a2f2f2f652533412f56697375616c25323053747564696f253230436f64652f72696368617264732f2e646576636f6e7461696e65722f646576636f6e7461696e65722e6a736f6e222c2270617468223a222f653a2f56697375616c2053747564696f20436f64652f72696368617264732f2e646576636f6e7461696e65722f646576636f6e7461696e65722e6a736f6e222c22736368656d65223a2266696c65227d7d/workspaces/richards/tests/primal_test/Richards/richards_h.ipynb#X50sdnNjb2RlLXJlbW90ZQ%3D%3D?line=48'>49</a>\u001b[0m     [[Mass_u,        B\u001b[39m.\u001b[39mT] ,\n\u001b[1;32m     <a href='vscode-notebook-cell://dev-container%2B7b22686f737450617468223a22653a5c5c56697375616c2053747564696f20436f64655c5c7269636861726473222c226c6f63616c446f636b6572223a66616c73652c22636f6e66696746696c65223a7b22246d6964223a312c22667350617468223a22653a5c5c56697375616c2053747564696f20436f64655c5c72696368617264735c5c2e646576636f6e7461696e65725c5c646576636f6e7461696e65722e6a736f6e222c225f736570223a312c2265787465726e616c223a2266696c653a2f2f2f652533412f56697375616c25323053747564696f253230436f64652f72696368617264732f2e646576636f6e7461696e65722f646576636f6e7461696e65722e6a736f6e222c2270617468223a222f653a2f56697375616c2053747564696f20436f64652f72696368617264732f2e646576636f6e7461696e65722f646576636f6e7461696e65722e6a736f6e222c22736368656d65223a2266696c65227d7d/workspaces/richards/tests/primal_test/Richards/richards_h.ipynb#X50sdnNjb2RlLXJlbW90ZQ%3D%3D?line=49'>50</a>\u001b[0m      [\u001b[39m-\u001b[39mdt \u001b[39m*\u001b[39m B, L \u001b[39m*\u001b[39m M_psi]], \u001b[39mformat\u001b[39m\u001b[39m=\u001b[39m\u001b[39m\"\u001b[39m\u001b[39mcsc\u001b[39m\u001b[39m\"\u001b[39m\n\u001b[1;32m     <a href='vscode-notebook-cell://dev-container%2B7b22686f737450617468223a22653a5c5c56697375616c2053747564696f20436f64655c5c7269636861726473222c226c6f63616c446f636b6572223a66616c73652c22636f6e66696746696c65223a7b22246d6964223a312c22667350617468223a22653a5c5c56697375616c2053747564696f20436f64655c5c72696368617264735c5c2e646576636f6e7461696e65725c5c646576636f6e7461696e65722e6a736f6e222c225f736570223a312c2265787465726e616c223a2266696c653a2f2f2f652533412f56697375616c25323053747564696f253230436f64652f72696368617264732f2e646576636f6e7461696e65722f646576636f6e7461696e65722e6a736f6e222c2270617468223a222f653a2f56697375616c2053747564696f20436f64652f72696368617264732f2e646576636f6e7461696e65722f646576636f6e7461696e65722e6a736f6e222c22736368656d65223a2266696c65227d7d/workspaces/richards/tests/primal_test/Richards/richards_h.ipynb#X50sdnNjb2RlLXJlbW90ZQ%3D%3D?line=50'>51</a>\u001b[0m )\n",
      "File \u001b[0;32m/opt/conda/lib/python3.11/site-packages/pygeon/numerics/innerproducts.py:37\u001b[0m, in \u001b[0;36mface_mass\u001b[0;34m(mdg, discr, **kwargs)\u001b[0m\n\u001b[1;32m     25\u001b[0m \u001b[39mdef\u001b[39;00m \u001b[39mface_mass\u001b[39m(mdg, discr\u001b[39m=\u001b[39m\u001b[39mNone\u001b[39;00m, \u001b[39m*\u001b[39m\u001b[39m*\u001b[39mkwargs):\n\u001b[1;32m     26\u001b[0m \u001b[39m    \u001b[39m\u001b[39m\"\"\"\u001b[39;00m\n\u001b[1;32m     27\u001b[0m \u001b[39m    Compute the mass matrix for discretization defined on the faces of a (MD-)grid\u001b[39;00m\n\u001b[1;32m     28\u001b[0m \n\u001b[0;32m   (...)\u001b[0m\n\u001b[1;32m     34\u001b[0m \u001b[39m        sps.csc_matrix, num_faces x num_faces\u001b[39;00m\n\u001b[1;32m     35\u001b[0m \u001b[39m    \"\"\"\u001b[39;00m\n\u001b[0;32m---> 37\u001b[0m     \u001b[39mreturn\u001b[39;00m mass_matrix(mdg, \u001b[39m1\u001b[39m, discr, \u001b[39m*\u001b[39m\u001b[39m*\u001b[39mkwargs)\n",
      "File \u001b[0;32m/opt/conda/lib/python3.11/site-packages/pygeon/numerics/innerproducts.py:155\u001b[0m, in \u001b[0;36mmass_matrix\u001b[0;34m(mdg, n_minus_k, discr, local_matrix, **kwargs)\u001b[0m\n\u001b[1;32m    153\u001b[0m \u001b[39m# Local mass matrices\u001b[39;00m\n\u001b[1;32m    154\u001b[0m \u001b[39mfor\u001b[39;00m nn_sd, (sd, d_sd) \u001b[39min\u001b[39;00m \u001b[39menumerate\u001b[39m(mdg\u001b[39m.\u001b[39msubdomains(return_data\u001b[39m=\u001b[39m\u001b[39mTrue\u001b[39;00m)):\n\u001b[0;32m--> 155\u001b[0m     bmat_sd[nn_sd, nn_sd] \u001b[39m=\u001b[39m local_matrix(sd, n_minus_k, discr, d_sd, \u001b[39m*\u001b[39m\u001b[39m*\u001b[39mkwargs)\n\u001b[1;32m    156\u001b[0m     bmat_mg[nn_sd, nn_sd] \u001b[39m=\u001b[39m sps\u001b[39m.\u001b[39mcsc_matrix(bmat_sd[nn_sd, nn_sd]\u001b[39m.\u001b[39mshape)\n\u001b[1;32m    158\u001b[0m \u001b[39m# Mortar contribution\u001b[39;00m\n",
      "File \u001b[0;32m/opt/conda/lib/python3.11/site-packages/pygeon/numerics/innerproducts.py:118\u001b[0m, in \u001b[0;36mlocal_matrix\u001b[0;34m(sd, n_minus_k, discr, d_sd, **kwargs)\u001b[0m\n\u001b[1;32m    116\u001b[0m     \u001b[39mreturn\u001b[39;00m _sd_lumped_mass(sd, n_minus_k, discr, d_sd, \u001b[39m*\u001b[39m\u001b[39m*\u001b[39mkwargs)\n\u001b[1;32m    117\u001b[0m \u001b[39melif\u001b[39;00m \u001b[39misinstance\u001b[39m(sd, pp\u001b[39m.\u001b[39mGrid):\n\u001b[0;32m--> 118\u001b[0m     \u001b[39mreturn\u001b[39;00m _sd_mass_matrix(sd, n_minus_k, discr, d_sd, \u001b[39m*\u001b[39m\u001b[39m*\u001b[39mkwargs)\n",
      "File \u001b[0;32m/opt/conda/lib/python3.11/site-packages/pygeon/numerics/innerproducts.py:111\u001b[0m, in \u001b[0;36m_sd_mass_matrix\u001b[0;34m(sd, n_minus_k, discr, data, **kwargs)\u001b[0m\n\u001b[1;32m    108\u001b[0m \u001b[39mif\u001b[39;00m discr \u001b[39mis\u001b[39;00m \u001b[39mNone\u001b[39;00m:\n\u001b[1;32m    109\u001b[0m     discr \u001b[39m=\u001b[39m default_discr(sd, n_minus_k, \u001b[39m*\u001b[39m\u001b[39m*\u001b[39mkwargs)\n\u001b[0;32m--> 111\u001b[0m \u001b[39mreturn\u001b[39;00m discr\u001b[39m.\u001b[39massemble_mass_matrix(sd, data)\n",
      "File \u001b[0;32m/opt/conda/lib/python3.11/site-packages/pygeon/discretizations/fem/hdiv.py:75\u001b[0m, in \u001b[0;36mRT0.assemble_mass_matrix\u001b[0;34m(self, sd, data)\u001b[0m\n\u001b[1;32m     63\u001b[0m \u001b[39m\u001b[39m\u001b[39m\"\"\"\u001b[39;00m\n\u001b[1;32m     64\u001b[0m \u001b[39mAssembles the mass matrix\u001b[39;00m\n\u001b[1;32m     65\u001b[0m \n\u001b[0;32m   (...)\u001b[0m\n\u001b[1;32m     71\u001b[0m \u001b[39m    mass_matrix: the mass matrix.\u001b[39;00m\n\u001b[1;32m     72\u001b[0m \u001b[39m\"\"\"\u001b[39;00m\n\u001b[1;32m     74\u001b[0m data \u001b[39m=\u001b[39m \u001b[39mself\u001b[39m\u001b[39m.\u001b[39mcreate_dummy_data(sd, data)\n\u001b[0;32m---> 75\u001b[0m pp\u001b[39m.\u001b[39mRT0\u001b[39m.\u001b[39mdiscretize(\u001b[39mself\u001b[39m, sd, data)\n\u001b[1;32m     76\u001b[0m \u001b[39mreturn\u001b[39;00m data[pp\u001b[39m.\u001b[39mDISCRETIZATION_MATRICES][\u001b[39mself\u001b[39m\u001b[39m.\u001b[39mkeyword][\n\u001b[1;32m     77\u001b[0m     \u001b[39mself\u001b[39m\u001b[39m.\u001b[39mmass_matrix_key\n\u001b[1;32m     78\u001b[0m ]\u001b[39m.\u001b[39mtocsc()\n",
      "File \u001b[0;32m/opt/conda/lib/python3.11/site-packages/porepy/numerics/fem/rt0.py:130\u001b[0m, in \u001b[0;36mRT0.discretize\u001b[0;34m(self, sd, data)\u001b[0m\n\u001b[1;32m    127\u001b[0m coord_loc \u001b[39m=\u001b[39m node_coords[:, node]\n\u001b[1;32m    129\u001b[0m \u001b[39m# Compute the H_div-mass local matrix\u001b[39;00m\n\u001b[0;32m--> 130\u001b[0m A \u001b[39m=\u001b[39m RT0\u001b[39m.\u001b[39mmassHdiv(\n\u001b[1;32m    131\u001b[0m     inv_matrix(k\u001b[39m.\u001b[39mvalues[\u001b[39m0\u001b[39m : sd\u001b[39m.\u001b[39mdim, \u001b[39m0\u001b[39m : sd\u001b[39m.\u001b[39mdim, c]),\n\u001b[1;32m    132\u001b[0m     sd\u001b[39m.\u001b[39mcell_volumes[c],\n\u001b[1;32m    133\u001b[0m     coord_loc,\n\u001b[1;32m    134\u001b[0m     sign[loc],\n\u001b[1;32m    135\u001b[0m     sd\u001b[39m.\u001b[39mdim,\n\u001b[1;32m    136\u001b[0m     HB,\n\u001b[1;32m    137\u001b[0m )\n\u001b[1;32m    139\u001b[0m \u001b[39m# Compute the flux reconstruction matrix\u001b[39;00m\n\u001b[1;32m    140\u001b[0m P \u001b[39m=\u001b[39m RT0\u001b[39m.\u001b[39mfaces_to_cell(\n\u001b[1;32m    141\u001b[0m     c_centers[:, c],\n\u001b[1;32m    142\u001b[0m     coord_loc,\n\u001b[0;32m   (...)\u001b[0m\n\u001b[1;32m    146\u001b[0m     R,\n\u001b[1;32m    147\u001b[0m )\n",
      "File \u001b[0;32m/opt/conda/lib/python3.11/site-packages/porepy/numerics/fem/rt0.py:210\u001b[0m, in \u001b[0;36mRT0.massHdiv\u001b[0;34m(inv_K, c_volume, coord, sign, dim, HB)\u001b[0m\n\u001b[1;32m    201\u001b[0m inv_K_exp \u001b[39m=\u001b[39m (\n\u001b[1;32m    202\u001b[0m     ind[:, np\u001b[39m.\u001b[39mnewaxis, :, np\u001b[39m.\u001b[39mnewaxis]\n\u001b[1;32m    203\u001b[0m     \u001b[39m*\u001b[39m inv_K[np\u001b[39m.\u001b[39mnewaxis, :, np\u001b[39m.\u001b[39mnewaxis, :]\n\u001b[1;32m    204\u001b[0m     \u001b[39m/\u001b[39m c_volume\n\u001b[1;32m    205\u001b[0m )\n\u001b[1;32m    206\u001b[0m inv_K_exp\u001b[39m.\u001b[39mshape \u001b[39m=\u001b[39m (ind\u001b[39m.\u001b[39mshape[\u001b[39m0\u001b[39m] \u001b[39m*\u001b[39m inv_K\u001b[39m.\u001b[39mshape[\u001b[39m0\u001b[39m], ind\u001b[39m.\u001b[39mshape[\u001b[39m1\u001b[39m] \u001b[39m*\u001b[39m inv_K\u001b[39m.\u001b[39mshape[\u001b[39m1\u001b[39m])\n\u001b[1;32m    208\u001b[0m N \u001b[39m=\u001b[39m coord\u001b[39m.\u001b[39mflatten(\u001b[39m\"\u001b[39m\u001b[39mF\u001b[39m\u001b[39m\"\u001b[39m)\u001b[39m.\u001b[39mreshape((\u001b[39m-\u001b[39m\u001b[39m1\u001b[39m, \u001b[39m1\u001b[39m)) \u001b[39m*\u001b[39m np\u001b[39m.\u001b[39mones(\n\u001b[1;32m    209\u001b[0m     (\u001b[39m1\u001b[39m, dim \u001b[39m+\u001b[39m \u001b[39m1\u001b[39m)\n\u001b[0;32m--> 210\u001b[0m ) \u001b[39m-\u001b[39m np\u001b[39m.\u001b[39mconcatenate((dim \u001b[39m+\u001b[39m \u001b[39m1\u001b[39m) \u001b[39m*\u001b[39m [coord])\n\u001b[1;32m    211\u001b[0m C \u001b[39m=\u001b[39m np\u001b[39m.\u001b[39mdiag(sign)\n\u001b[1;32m    213\u001b[0m \u001b[39mreturn\u001b[39;00m np\u001b[39m.\u001b[39mdot(C\u001b[39m.\u001b[39mT, np\u001b[39m.\u001b[39mdot(N\u001b[39m.\u001b[39mT, np\u001b[39m.\u001b[39mdot(HB, np\u001b[39m.\u001b[39mdot(inv_K_exp, np\u001b[39m.\u001b[39mdot(N, C)))))\n",
      "File \u001b[0;32m<__array_function__ internals>:200\u001b[0m, in \u001b[0;36mconcatenate\u001b[0;34m(*args, **kwargs)\u001b[0m\n",
      "\u001b[0;31mKeyboardInterrupt\u001b[0m: "
     ]
    }
   ],
   "source": [
    "# Time loop\n",
    "for n in range(num_steps):\n",
    "    current_time = (n + 1) * dt\n",
    "    print('Time ' + str(round(current_time, 5)))\n",
    "\n",
    "    # Rhs that changes with time (but not with k)\n",
    "    time_rhs = fixed_rhs.copy()\n",
    "\n",
    "    # Add the (natural) boundary conditions\n",
    "    time_rhs[:dof_q] += np.hstack(list(cond(current_time) for cond in bc_value))\n",
    "\n",
    "    # Add \\Theta^n:\n",
    "    # 1. Convert psi DOF to cell-wise values\n",
    "    # 2. Compute theta\n",
    "    # 3. Project it to P0 elements\n",
    "    # 4. Multiply by psi-mass\n",
    "    time_rhs[-dof_psi:] += M_psi @ project_psi_to_fe( theta( proj_psi @ sol[-dof_psi:] - subdomain.cell_centers[1,:] ) )\n",
    "\n",
    "    # Solution at the previous iteration (k=0 corresponds to the solution at the previous time step)\n",
    "    prev = sol\n",
    "    current = None\n",
    "\n",
    "    debug_saver = pp.Exporter(mdg, str(current_time) + '_sol', folder_name=os.path.join(output_directory, 'debug'))\n",
    "    export_solution(debug_saver, current_sol=prev, num_step=0)\n",
    "\n",
    "    # Non-linear solver\n",
    "    for k in range(K):\n",
    "        # Actual rhs\n",
    "        rhs = time_rhs.copy()\n",
    "\n",
    "        # \\Theta^{n+1}_k, same steps as \\Theta^n\n",
    "        rhs[-dof_psi:] -= M_psi @ project_psi_to_fe( theta( proj_psi @ prev[-dof_psi:] - subdomain.cell_centers[1,:]) )\n",
    "        \n",
    "        # L-term\n",
    "        rhs[-dof_psi:] += L * M_psi @ prev[-dof_psi:]\n",
    "    \n",
    "        \n",
    "        # Set the conductivity tensor in data (the actual saved tensor does not matter at this stage)\n",
    "        pp.initialize_data(subdomain, data, key, {\n",
    "            \"second_order_tensor\": pp.SecondOrderTensor(\n",
    "                conductivity(proj_psi @ prev[-dof_psi:] - subdomain.cell_centers[1,:])\n",
    "            ),\n",
    "        })\n",
    "\n",
    "        Mass_u = pg.face_mass(mdg, RT0)\n",
    "\n",
    "        # Assemble the system to be solved at time n and interation k\n",
    "        spp = sps.bmat(\n",
    "            [[Mass_u,        B.T] ,\n",
    "             [-dt * B, L * M_psi]], format=\"csc\"\n",
    "        )\n",
    "\n",
    "        # Prepare the linear solver\n",
    "        ls = pg.LinearSystem(spp, rhs)\n",
    "\n",
    "        # Fix the essential boundary conditions\n",
    "        ls.flag_ess_bc(np.hstack(bc_essential), np.zeros(dof_q + dof_psi))\n",
    "\n",
    "        # Solve the system\n",
    "        current = ls.solve()\n",
    "        \n",
    "        export_solution(debug_saver, current_sol=current, num_step=(k+1))\n",
    "\n",
    "        # Check if we have reached convergence\n",
    "        rel_err_psi  = np.sqrt( (current[-dof_psi:] - prev[-dof_psi:]).T @ M_psi @ (current[-dof_psi:] - prev[-dof_psi:]) )\n",
    "        abs_err_prev = np.sqrt( prev[-dof_psi:] @ M_psi @ prev[-dof_psi:] )\n",
    "\n",
    "        # Log message with error and current iteration\n",
    "        print('Iteration #' + format(k+1, '0' + str(ceil(log10(K)) + 1) + 'd') + ', error L2 relative psi: ' \n",
    "              + format(rel_err_psi, str(5 + ceil(log10(1 / abs_tol)) + 4) + '.' + str(ceil(log10(1 / abs_tol)) + 4) + 'f') )\n",
    "        \n",
    "        if rel_err_psi > abs_tol + rel_tol * abs_err_prev:\n",
    "            prev = current.copy()\n",
    "        else:\n",
    "            break\n",
    "        \n",
    "    print('')    \n",
    "    sol = current\n",
    "    export_solution(saver, current_sol=sol, num_step=(n+1))\n",
    "\n",
    "saver.write_pvd([n * dt for n in range(num_steps + 1)])"
   ]
  }
 ],
 "metadata": {
  "kernelspec": {
   "display_name": ".venv",
   "language": "python",
   "name": "python3"
  },
  "language_info": {
   "codemirror_mode": {
    "name": "ipython",
    "version": 3
   },
   "file_extension": ".py",
   "mimetype": "text/x-python",
   "name": "python",
   "nbconvert_exporter": "python",
   "pygments_lexer": "ipython3",
   "version": "3.11.5"
  },
  "orig_nbformat": 4
 },
 "nbformat": 4,
 "nbformat_minor": 2
}
