{
 "cells": [
  {
   "attachments": {},
   "cell_type": "markdown",
   "metadata": {},
   "source": [
    "# Richards equation\n",
    "\n",
    "In this tutorial we present how to solve a Richards equation with [PyGeoN](https://github.com/compgeo-mox/pygeon).  The unkwons are the velocity $q$ and the pressure $p$.\n",
    "\n",
    "Let $\\Omega=(0,2)\\times(0,3)$ with boundary $\\partial \\Omega$ and outward unit normal ${\\nu}$. Given \n",
    "$K$ the matrix conductivity, we want to solve the following problem: find $({q}, \\psi)$ such that\n",
    "$$\n",
    "\\left\\{\n",
    "\\begin{array}{ll}\n",
    "\\begin{array}{l} \n",
    "K^{-1}(\\psi) {q} + \\nabla \\psi = -\\nabla z\\\\\n",
    "\\partial_t \\theta (\\psi) + \\nabla \\cdot {q} = 0\n",
    "\\end{array}\n",
    "&\\text{in } \\Omega \\times (0,T)\n",
    "\\end{array}\n",
    "\\right.\n",
    "$$\n",
    "with boundary and initial conditions:\n",
    "\n",
    "$$\n",
    "\\hat{\\psi}(t,x,z)=\n",
    "\\left\\{\n",
    "\\begin{array}{ll}\n",
    "\\begin{array}{l} \n",
    "-2+2.2 \\frac{t}{\\Delta t_D}, \\text{ on } \\Gamma_{D_1}, t\\leq\\Delta t_D\\\\\n",
    "0.2, \\text{ on } \\Gamma_{D_1}, t>\\Delta t_D\\\\\n",
    "1-z, \\text{ on } \\Gamma_{D_2}\n",
    "\\end{array}\n",
    "\\end{array}\n",
    "\\right., \\qquad \\nu \\cdot q = 0 \\text{ on } \\Gamma_N \\qquad \\psi(0,x,z) = 1-z \\text{ on } \\Omega$$\n",
    "where\n",
    "$$\n",
    "\\Gamma_{D_1} = \\left\\{ (x,z) \\in \\partial \\Omega \\:|\\: x \\in [0,1] \\wedge z=3  \\right\\},\\\\\n",
    "\\Gamma_{D_2} = \\left\\{ (x,z) \\in \\partial \\Omega \\:|\\: x = 2 \\wedge z \\in [0,1]  \\right\\},\\\\\n",
    "\\Gamma_{D} = \\Gamma_{D_1} \\cup \\Gamma_{D_2},\\\\\n",
    "\\Gamma_{N} = \\partial \\Omega \\setminus \\Gamma_D\n",
    "$$"
   ]
  },
  {
   "cell_type": "markdown",
   "metadata": {},
   "source": [
    "The water content $\\theta(\\psi)$ and the conductivity tensor $K(\\psi)$ can be modelled using the van Genuchten model:\n",
    "$$\n",
    "\\theta(\\psi) = \\theta_{R} + \\frac{\\theta_{S} - \\theta_{R}}{\\left[ 1 + \\left( -\\alpha \\psi \\right)^n \\right]^{\\frac{n-1}{n} }}\n",
    "$$\n",
    "\n",
    "$$\n",
    "K(\\psi) = \\left( \\hat{\\theta}(\\psi) \\right)^{\\frac{1}{2}} K_S \\left[ 1 - \\left( 1 - \\hat{\\theta}(\\psi)^{\\frac{n}{n-1}} \\right)^{\\frac{n-1}{n}} \\right]^2 \\underline{\\underline{\\bm{I}}}\n",
    "$$\n",
    "where $\\hat{\\theta}(\\psi) = \\frac{\\theta(\\psi) - \\theta_{R}}{\\theta_{S} - \\theta_{R}}$. Both expressions hold only if $\\psi \\leq 0$. If $\\psi > 0$ at $\\bm{x} \\in \\Omega$, the porous medium is fully saturated by the wetting fluid in that point and, thus, $\\theta(\\psi)=\\theta_S$ and $K(\\psi)=K_S \\underline{\\underline{\\bm{I}}}$."
   ]
  },
  {
   "cell_type": "markdown",
   "metadata": {},
   "source": [
    "The weak formulation of the problem will read:\n",
    "$$\n",
    "\\left\\{\n",
    "\\begin{array}{ll}\n",
    "\\begin{array}{l} \n",
    "\\left( K^{-1}(\\psi) \\bm{q}, \\bm{v} \\right)_{\\Omega} - \\left( \\psi, \\nabla \\cdot \\bm{v} \\right)_{\\Omega} = - \\left( \\bm{\\nabla} z, \\bm{v} \\right)_{\\Omega} - \\left( \\hat{\\psi}, \\bm{v} \\cdot \\nu \\right)_{\\Gamma_D} \\\\\n",
    "\\left(\\partial_t \\theta (\\psi), v \\right)_{\\Omega} + (\\nabla \\cdot \\bm{q}, v)_{\\Omega} = 0\n",
    "\\end{array}\n",
    "&\\text{in } \\Omega \\times (0,T)\n",
    "\\end{array}\n",
    "\\right.\n",
    "$$"
   ]
  },
  {
   "cell_type": "markdown",
   "metadata": {},
   "source": [
    "We will use the Backward Euler discretization scheme to discretize the equation in time:\n",
    "$$\n",
    "\\left\\{\n",
    "\\begin{array}{ll}\n",
    "\\begin{array}{l} \n",
    "\\left( K^{-1}(\\psi^{n+1}) \\bm{q}^{n+1}, \\bm{v} \\right)_{\\Omega} - \\left( \\psi^{n+1}, \\nabla \\cdot \\bm{v} \\right)_{\\Omega} = - \\left( \\bm{\\nabla} z, \\bm{v} \\right)_{\\Omega} - \\left( \\hat{\\psi}^{n+1}, \\bm{v} \\cdot \\nu \\right)_{\\Gamma_D} \\\\\n",
    "\\left(\\theta(\\psi^{n+1}) , v \\right)_{\\Omega} + \\Delta t^{n+1} (\\nabla \\cdot \\bm{q}^{n+1}, v)_{\\Omega} = \\left(\\theta(\\psi^{n}) , v \\right)_{\\Omega}\n",
    "\\end{array}\n",
    "&\\text{in } \\Omega \\times (0,T)\n",
    "\\end{array}\n",
    "\\right.\n",
    "$$"
   ]
  },
  {
   "cell_type": "markdown",
   "metadata": {},
   "source": [
    "In order to solve the problem, we will firstly have to deal with the non-linear terms. To do that, we will employ the L-scheme, obtaining:\n",
    "$$\n",
    "\\left\\{\n",
    "\\begin{array}{ll}\n",
    "\\begin{array}{l} \n",
    "\\left( K^{-1}(\\psi^{n+1}_k) \\bm{q}^{n+1}_{k+1}, \\bm{v} \\right)_{\\Omega} - \\left( \\psi^{n+1}_{k+1}, \\nabla \\cdot \\bm{v} \\right)_{\\Omega} = - \\left( \\bm{\\nabla} z, \\bm{v} \\right)_{\\Omega} - \\left( \\hat{\\psi}^{n+1}, \\bm{v} \\cdot \\nu \\right)_{\\Gamma_D} \\\\\n",
    "\\left(\\theta(\\psi^{n+1}_k) , v \\right)_{\\Omega} + L\\left( \\psi^{n+1}_{k+1} - \\psi^{n+1}_{k}, v \\right)_{\\Omega} + \\Delta t^{n+1} (\\nabla \\cdot \\bm{q}^{n+1}_{k+1}, v)_{\\Omega} = \\left(\\theta(\\psi^{n}) , v \\right)_{\\Omega}\n",
    "\\end{array}\n",
    "&\\text{in } \\Omega \\times (0,T)\n",
    "\\end{array}\n",
    "\\right.\n",
    "$$"
   ]
  },
  {
   "cell_type": "markdown",
   "metadata": {},
   "source": [
    "The space discretization is perfomed using FEM ($RT_{0}$ elements for $\\bm{q}$ and $P_0$ for $\\psi$). The resulting linear system that must be solved for each step and each iteration is:\n",
    "$$\n",
    "\\left(\n",
    "\\begin{array}{cc} \n",
    "M_u(\\bm{\\psi^{n+1}_k}) & B^T\\\\\n",
    "-\\Delta t^{n+1} B & L * M_{\\psi}\n",
    "\\end{array}\n",
    "\\right)\n",
    "\\left(\n",
    "\\begin{array}{c} \n",
    "\\bm{u^{n+1}_{k+1}}\\\\ \n",
    "\\bm{\\psi^{n+1}_{k+1}}\\\\\n",
    "\\end{array}\n",
    "\\right)\n",
    "=\\left(\n",
    "\\begin{array}{c} \n",
    "\\bm{Z} + \\bm{BC}^{n+1}\\\\ \n",
    "L * M_{\\psi} \\bm{\\psi^{n+1}_k} + \\Theta^n - \\Theta^{n+1}_k\n",
    "\\end{array}\n",
    "\\right)\n",
    "$$"
   ]
  },
  {
   "cell_type": "markdown",
   "metadata": {},
   "source": [
    "where $[M_u(\\bm{\\psi^{n+1}_k})]_{ij} = \\left(K^{-1}(\\psi^{n+1}_k) \\bm{v}_j, \\bm{v}_i \\right)_{\\Omega}$ and $M_{\\psi}$ is the $\\psi$-mass matrix.\n",
    "\n",
    "The stopping criteria for the non-linear solver is:\n",
    "$$\n",
    "|\\bm{\\psi}_{k+1}^{n+1} - \\bm{\\psi}_{k}^{n+1}| \\leq \\epsilon_{A} + \\epsilon_{R} |\\bm{\\psi}_{k}^{n+1}|\n",
    "$$"
   ]
  },
  {
   "cell_type": "markdown",
   "metadata": {},
   "source": [
    "where $\\epsilon_{A}$ and $\\epsilon_{R}$ are the absolute and relative error tolerances."
   ]
  },
  {
   "cell_type": "markdown",
   "metadata": {},
   "source": [
    "We present *step-by-step* how to create the grid, declare the problem data, and finally solve the problem."
   ]
  },
  {
   "attachments": {},
   "cell_type": "markdown",
   "metadata": {},
   "source": [
    "### Import and parameters"
   ]
  },
  {
   "cell_type": "code",
   "execution_count": 1,
   "metadata": {},
   "outputs": [
    {
     "name": "stderr",
     "output_type": "stream",
     "text": [
      "/opt/conda/lib/python3.11/site-packages/porepy/numerics/nonlinear/nonlinear_solvers.py:13: TqdmExperimentalWarning: Using `tqdm.autonotebook.tqdm` in notebook mode. Use `tqdm.tqdm` instead to force console mode (e.g. in jupyter console)\n",
      "  from tqdm.autonotebook import trange  # type: ignore\n"
     ]
    }
   ],
   "source": [
    "import shutil\n",
    "import os\n",
    "\n",
    "import numpy as np\n",
    "import scipy.sparse as sps\n",
    "from scipy.sparse import linalg\n",
    "import sympy as sp\n",
    "\n",
    "import porepy as pp\n",
    "import pygeon as pg\n",
    "\n",
    "import time\n",
    "from math import ceil, floor, log10, exp\n",
    "\n",
    "import matplotlib.pyplot as plt"
   ]
  },
  {
   "cell_type": "code",
   "execution_count": 2,
   "metadata": {},
   "outputs": [],
   "source": [
    "# Set the maximum number of iterations of the non-linear solver\n",
    "K = 50\n",
    "\n",
    "# L-scheme parameter\n",
    "L = 3.501e-2\n",
    "\n",
    "# Set the mesh refinment\n",
    "N = 15\n",
    "\n",
    "# Set the number of steps (excluding the initial condition)\n",
    "num_steps = 9\n",
    "\n",
    "# Simulation time length\n",
    "T = 9/48\n",
    "\n",
    "# Time switch conditions (for the boundary condition)\n",
    "dt_D = 3/48\n",
    "\n",
    "# Relative and absolute tolerances for the non-linear solver\n",
    "abs_tol = 1e-6\n",
    "rel_tol = 1e-6\n",
    "\n",
    "# Domain tolerance\n",
    "domain_tolerance = 1 / (10 * N)\n",
    "\n",
    "# Output directory\n",
    "output_directory = 'dual_solution'"
   ]
  },
  {
   "cell_type": "code",
   "execution_count": 3,
   "metadata": {},
   "outputs": [],
   "source": [
    "# Van Genuchten model parameters ( relative permeability model )\n",
    "theta_s = 0.396\n",
    "theta_r = 0.131\n",
    "\n",
    "alpha = 0.423\n",
    "\n",
    "n = 2.06\n",
    "K_s = 4.96e-2\n",
    "\n",
    "m = 1 - 1/n"
   ]
  },
  {
   "cell_type": "code",
   "execution_count": 4,
   "metadata": {},
   "outputs": [],
   "source": [
    "# Time step\n",
    "dt   = (T-0)/num_steps"
   ]
  },
  {
   "attachments": {},
   "cell_type": "markdown",
   "metadata": {},
   "source": [
    "### $\\theta$ and $K$"
   ]
  },
  {
   "cell_type": "markdown",
   "metadata": {},
   "source": [
    "In order to evaluate analytically both $\\theta$ and $K$, we will make use of the python package $\\textit{sympy}$, that allow us to write down a mathematical expression in symbolic form (and that can also be used to compute their derivatives)."
   ]
  },
  {
   "cell_type": "code",
   "execution_count": 5,
   "metadata": {},
   "outputs": [],
   "source": [
    "# Symbolic psi\n",
    "psi_var = sp.Symbol('psi', negative=True)\n",
    "\n",
    "# Symbolic Theta\n",
    "theta_expression = theta_r + (theta_s - theta_r) / (1 + (-alpha * psi_var) ** n) ** m\n",
    "effective_saturation = (theta_expression - theta_r) / (theta_s - theta_r)\n",
    "\n",
    "# Symbolic Conductivity K\n",
    "hydraulic_conductivity_expression = K_s * (effective_saturation ** 0.5) * ( 1 - (1 - effective_saturation ** (1 / m)) ** m ) ** 2"
   ]
  },
  {
   "cell_type": "code",
   "execution_count": 6,
   "metadata": {},
   "outputs": [],
   "source": [
    "# Theta lambda\n",
    "theta_lambda = sp.lambdify(psi_var, theta_expression, 'numpy')\n",
    "\n",
    "# Conductivity tensor lambda\n",
    "conductivity_lambda = sp.lambdify(psi_var, hydraulic_conductivity_expression, 'numpy')"
   ]
  },
  {
   "cell_type": "code",
   "execution_count": 7,
   "metadata": {},
   "outputs": [],
   "source": [
    "# Actual (and final) theta function\n",
    "def theta(psi):\n",
    "    mask = np.where(psi < 0)\n",
    "    res = np.ones_like(psi) * theta_s\n",
    "    res[mask] = theta_lambda(psi[mask])\n",
    "\n",
    "    return res"
   ]
  },
  {
   "cell_type": "code",
   "execution_count": 8,
   "metadata": {},
   "outputs": [],
   "source": [
    "# Actual (and final) theta function\n",
    "def conductivity(psi):\n",
    "    mask = np.where(psi < 0)\n",
    "    res = np.ones_like(psi) * K_s\n",
    "    res[mask] = conductivity_lambda(psi[mask])\n",
    "\n",
    "    return res"
   ]
  },
  {
   "attachments": {},
   "cell_type": "markdown",
   "metadata": {},
   "source": [
    "### Domain preparation"
   ]
  },
  {
   "cell_type": "code",
   "execution_count": 9,
   "metadata": {},
   "outputs": [],
   "source": [
    "# Prepare the domain and its mesh\n",
    "subdomain = pp.StructuredTriangleGrid([2*N, 3*N], [2,3])\n",
    "\n",
    "# Convert it to a mixed-dimensional grid\n",
    "mdg = pp.meshing.subdomains_to_mdg([subdomain])"
   ]
  },
  {
   "cell_type": "code",
   "execution_count": 10,
   "metadata": {},
   "outputs": [],
   "source": [
    "key = \"flow\"\n",
    "\n",
    "# Collection of boundary conditions\n",
    "bc_value = []\n",
    "bc_essential = []\n",
    "\n",
    "# Initial pressure\n",
    "initial_pressure = []\n",
    "\n",
    "# Discretizations for q and \\psi\n",
    "RT0 = pg.RT0(key)\n",
    "P0  = pg.PwConstants(key)"
   ]
  },
  {
   "cell_type": "code",
   "execution_count": 11,
   "metadata": {},
   "outputs": [],
   "source": [
    "# Initial pressure function\n",
    "def initial_head_func(x): \n",
    "    return 1"
   ]
  },
  {
   "cell_type": "code",
   "execution_count": 12,
   "metadata": {},
   "outputs": [],
   "source": [
    "# Fake loop to extract the grid and its data (i.e. conductivity tensor)\n",
    "for subdomain, data in mdg.subdomains(return_data=True):    \n",
    "    # Prepare the inital pressure term by interpolating initial_pressure_func into the P0 space\n",
    "    initial_pressure.append(P0.interpolate(subdomain, initial_head_func))\n",
    "        \n",
    "    # Get the boundary faces ids\n",
    "    boundary_faces_indexes = subdomain.get_boundary_faces()\n",
    "\n",
    "    # Gamma_D1 and Gamma_D2 boundary faces\n",
    "    gamma_d1 = np.logical_and(subdomain.face_centers[0, :] > 0-domain_tolerance, np.logical_and(subdomain.face_centers[0, :] < 1+domain_tolerance, subdomain.face_centers[1, :] > 3-domain_tolerance))\n",
    "    gamma_d2 = np.logical_and(subdomain.face_centers[0, :] > 2-domain_tolerance, np.logical_and(subdomain.face_centers[1, :] > 0-domain_tolerance, subdomain.face_centers[1, :] < 1+domain_tolerance))\n",
    "\n",
    "    gamma_d  = np.logical_or(gamma_d1, gamma_d2)\n",
    "\n",
    "    # Gamma_N is the remaining part of the boundary    \n",
    "    gamma_n  = gamma_d.copy()\n",
    "    gamma_n[boundary_faces_indexes] = np.logical_not(gamma_n[boundary_faces_indexes])\n",
    "    \n",
    "    # Set the initial conductivity tensor in data (the actual saved tensor does not matter at this stage)\n",
    "    pp.initialize_data(subdomain, data, key, {\n",
    "        \"second_order_tensor\": pp.SecondOrderTensor(np.ones(subdomain.num_cells)),\n",
    "    })\n",
    "    \n",
    "    # Prepare the \\hat{\\psi} function\n",
    "    def bc_gamma_d(x, t):\n",
    "        if   x[0] > 2-domain_tolerance and x[1] > 0-domain_tolerance and x[1] < 1+domain_tolerance:\n",
    "            res =  1\n",
    "        elif x[1] > 3-domain_tolerance and x[0] > 0-domain_tolerance and x[0] < 1+domain_tolerance:\n",
    "            res = min( 3.2, 1 + 2.2 * t / dt_D )\n",
    "        else:\n",
    "            res = 0\n",
    "        \n",
    "        return res\n",
    "\n",
    "    # Add a lambda function that generates for each time instant the (discretized) natural boundary conditions for the problem\n",
    "    bc_value.append(lambda t: - RT0.assemble_nat_bc(subdomain, lambda x: bc_gamma_d(x,t), gamma_d))\n",
    "\n",
    "    # Set the essential boundary conditions (they will be enforced before solving the system)\n",
    "    essential_pressure_dofs = np.zeros(P0.ndof(subdomain), dtype=bool)\n",
    "    bc_essential = np.hstack((gamma_n, essential_pressure_dofs))"
   ]
  },
  {
   "cell_type": "markdown",
   "metadata": {},
   "source": [
    "### Matrix assembly"
   ]
  },
  {
   "cell_type": "code",
   "execution_count": 13,
   "metadata": {},
   "outputs": [],
   "source": [
    "# Psi mass matrix\n",
    "M_psi = P0.assemble_mass_matrix(subdomain)\n",
    "\n",
    "# B\n",
    "B = - pg.cell_mass(mdg, P0) @ pg.div(mdg)\n",
    "\n",
    "# Psi projection\n",
    "proj_psi = P0.eval_at_cell_centers(subdomain)\n",
    "\n",
    "# q projection\n",
    "proj_q = RT0.eval_at_cell_centers(subdomain)"
   ]
  },
  {
   "cell_type": "code",
   "execution_count": 14,
   "metadata": {},
   "outputs": [
    {
     "data": {
      "text/plain": [
       "(2700, 4125)"
      ]
     },
     "execution_count": 14,
     "metadata": {},
     "output_type": "execute_result"
    }
   ],
   "source": [
    "dof_psi, dof_q = B.shape\n",
    "dof_psi, dof_q"
   ]
  },
  {
   "cell_type": "code",
   "execution_count": 15,
   "metadata": {},
   "outputs": [],
   "source": [
    "# Assemble initial solution\n",
    "initial_solution = np.zeros(dof_q + dof_psi)\n",
    "initial_solution[-dof_psi:] += np.hstack(initial_pressure)\n",
    "\n",
    "# Final solution list. Each of its elements will be the solution at a specific instant\n",
    "sol = initial_solution"
   ]
  },
  {
   "cell_type": "code",
   "execution_count": 16,
   "metadata": {},
   "outputs": [],
   "source": [
    "# Assemble the fixed part of the right hand side (rhs)\n",
    "fixed_rhs = np.zeros(dof_q + dof_psi)"
   ]
  },
  {
   "cell_type": "code",
   "execution_count": 17,
   "metadata": {},
   "outputs": [],
   "source": [
    "# Helper function to project a function evaluated in the cell center to FEM (scalar)\n",
    "def project_psi_to_fe(to_project):\n",
    "    return to_project * subdomain.cell_volumes"
   ]
  },
  {
   "cell_type": "markdown",
   "metadata": {},
   "source": [
    "### Solving stage"
   ]
  },
  {
   "cell_type": "code",
   "execution_count": 18,
   "metadata": {},
   "outputs": [],
   "source": [
    "# Delete the output directory, if it exisis\n",
    "if os.path.exists(output_directory):\n",
    "    shutil.rmtree(output_directory)"
   ]
  },
  {
   "cell_type": "code",
   "execution_count": 19,
   "metadata": {},
   "outputs": [],
   "source": [
    "# Helper function to export the current_sol to a file\n",
    "def export_solution(saver, current_sol, num_step):\n",
    "    ins = list()\n",
    "\n",
    "    ins.append((subdomain, \"cell_q\", ( proj_q @ current_sol[:dof_q] ).reshape((3, -1), order=\"F\")))\n",
    "    ins.append((subdomain, \"cell_h\", proj_psi @ current_sol[dof_q:(dof_q+dof_psi)]  ))\n",
    "    ins.append((subdomain, \"cell_p\", proj_psi @ current_sol[dof_q:(dof_q+dof_psi)] - subdomain.cell_centers[1,:] ))\n",
    "\n",
    "    saver.write_vtu(ins, time_step=num_step)"
   ]
  },
  {
   "cell_type": "code",
   "execution_count": 20,
   "metadata": {},
   "outputs": [],
   "source": [
    "# Prepare the porepy exporter and export the initial solution\n",
    "saver = pp.Exporter(mdg, 'sol', folder_name=output_directory)\n",
    "\n",
    "export_solution(saver, current_sol=sol, num_step=0)"
   ]
  },
  {
   "cell_type": "code",
   "execution_count": 21,
   "metadata": {},
   "outputs": [
    {
     "name": "stdout",
     "output_type": "stream",
     "text": [
      "Time 0.02083\n"
     ]
    },
    {
     "name": "stdout",
     "output_type": "stream",
     "text": [
      "Iteration #001, error L2 relative psi:    0.1108363264\n",
      "Iteration #002, error L2 relative psi:    0.0168823845\n",
      "Iteration #003, error L2 relative psi:    0.0015160584\n",
      "Iteration #004, error L2 relative psi:    0.0000404823\n",
      "Iteration #005, error L2 relative psi:    0.0000056460\n",
      "Iteration #006, error L2 relative psi:    0.0000013802\n",
      "\n",
      "Time 0.04167\n",
      "Iteration #001, error L2 relative psi:    0.1877773443\n",
      "Iteration #002, error L2 relative psi:    0.0508470555\n",
      "Iteration #003, error L2 relative psi:    0.0104162596\n",
      "Iteration #004, error L2 relative psi:    0.0008677055\n",
      "Iteration #005, error L2 relative psi:    0.0002682289\n",
      "Iteration #006, error L2 relative psi:    0.0000433164\n",
      "Iteration #007, error L2 relative psi:    0.0000069359\n",
      "Iteration #008, error L2 relative psi:    0.0000017898\n",
      "\n",
      "Time 0.0625\n",
      "Iteration #001, error L2 relative psi:    0.2728424859\n",
      "Iteration #002, error L2 relative psi:    0.0932222347\n",
      "Iteration #003, error L2 relative psi:    0.0265382866\n",
      "Iteration #004, error L2 relative psi:    0.0044906319\n",
      "Iteration #005, error L2 relative psi:    0.0016489854\n",
      "Iteration #006, error L2 relative psi:    0.0004673072\n",
      "Iteration #007, error L2 relative psi:    0.0000961992\n",
      "Iteration #008, error L2 relative psi:    0.0000374673\n",
      "Iteration #009, error L2 relative psi:    0.0000077271\n",
      "Iteration #010, error L2 relative psi:    0.0000025107\n",
      "\n",
      "Time 0.08333\n",
      "Iteration #001, error L2 relative psi:    0.1844523153\n",
      "Iteration #002, error L2 relative psi:    0.0298724735\n",
      "Iteration #003, error L2 relative psi:    0.0052872676\n",
      "Iteration #004, error L2 relative psi:    0.0018029742\n",
      "Iteration #005, error L2 relative psi:    0.0004299105\n",
      "Iteration #006, error L2 relative psi:    0.0000876225\n",
      "Iteration #007, error L2 relative psi:    0.0000271945\n",
      "Iteration #008, error L2 relative psi:    0.0000059286\n",
      "Iteration #009, error L2 relative psi:    0.0000013521\n",
      "\n",
      "Time 0.10417\n",
      "Iteration #001, error L2 relative psi:    0.1443810913\n",
      "Iteration #002, error L2 relative psi:    0.0160281525\n",
      "Iteration #003, error L2 relative psi:    0.0026679204\n",
      "Iteration #004, error L2 relative psi:    0.0007716116\n",
      "Iteration #005, error L2 relative psi:    0.0001704664\n",
      "Iteration #006, error L2 relative psi:    0.0000266474\n",
      "Iteration #007, error L2 relative psi:    0.0000067584\n",
      "Iteration #008, error L2 relative psi:    0.0000016743\n",
      "\n",
      "Time 0.125\n",
      "Iteration #001, error L2 relative psi:    0.1200490317\n",
      "Iteration #002, error L2 relative psi:    0.0109579216\n",
      "Iteration #003, error L2 relative psi:    0.0015317255\n",
      "Iteration #004, error L2 relative psi:    0.0002562837\n",
      "Iteration #005, error L2 relative psi:    0.0000572651\n",
      "Iteration #006, error L2 relative psi:    0.0000089632\n",
      "Iteration #007, error L2 relative psi:    0.0000027072\n",
      "\n",
      "Time 0.14583\n",
      "Iteration #001, error L2 relative psi:    0.1032941298\n",
      "Iteration #002, error L2 relative psi:    0.0091537788\n",
      "Iteration #003, error L2 relative psi:    0.0014347891\n",
      "Iteration #004, error L2 relative psi:    0.0002281740\n",
      "Iteration #005, error L2 relative psi:    0.0000485374\n",
      "Iteration #006, error L2 relative psi:    0.0000124718\n",
      "Iteration #007, error L2 relative psi:    0.0000068382\n",
      "Iteration #008, error L2 relative psi:    0.0000058581\n",
      "Iteration #009, error L2 relative psi:    0.0000053760\n",
      "Iteration #010, error L2 relative psi:    0.0000050039\n",
      "Iteration #011, error L2 relative psi:    0.0000046909\n",
      "Iteration #012, error L2 relative psi:    0.0000044173\n",
      "Iteration #013, error L2 relative psi:    0.0000041713\n",
      "Iteration #014, error L2 relative psi:    0.0000039460\n",
      "\n",
      "Time 0.16667\n",
      "Iteration #001, error L2 relative psi:    0.0908920560\n",
      "Iteration #002, error L2 relative psi:    0.0086363219\n",
      "Iteration #003, error L2 relative psi:    0.0017289836\n",
      "Iteration #004, error L2 relative psi:    0.0004354418\n",
      "Iteration #005, error L2 relative psi:    0.0001275462\n",
      "Iteration #006, error L2 relative psi:    0.0000405100\n",
      "Iteration #007, error L2 relative psi:    0.0000185126\n",
      "Iteration #008, error L2 relative psi:    0.0000140334\n",
      "Iteration #009, error L2 relative psi:    0.0000126390\n",
      "Iteration #010, error L2 relative psi:    0.0000117408\n",
      "Iteration #011, error L2 relative psi:    0.0000110052\n",
      "Iteration #012, error L2 relative psi:    0.0000103636\n",
      "Iteration #013, error L2 relative psi:    0.0000097869\n",
      "Iteration #014, error L2 relative psi:    0.0000092588\n",
      "Iteration #015, error L2 relative psi:    0.0000087691\n",
      "Iteration #016, error L2 relative psi:    0.0000083113\n",
      "Iteration #017, error L2 relative psi:    0.0000078810\n",
      "Iteration #018, error L2 relative psi:    0.0000074752\n",
      "Iteration #019, error L2 relative psi:    0.0000070917\n",
      "Iteration #020, error L2 relative psi:    0.0000067287\n",
      "Iteration #021, error L2 relative psi:    0.0000063848\n",
      "Iteration #022, error L2 relative psi:    0.0000060589\n",
      "Iteration #023, error L2 relative psi:    0.0000057499\n",
      "Iteration #024, error L2 relative psi:    0.0000054567\n",
      "Iteration #025, error L2 relative psi:    0.0000051787\n",
      "Iteration #026, error L2 relative psi:    0.0000049148\n",
      "Iteration #027, error L2 relative psi:    0.0000046645\n",
      "Iteration #028, error L2 relative psi:    0.0000044269\n",
      "Iteration #029, error L2 relative psi:    0.0000042014\n",
      "Iteration #030, error L2 relative psi:    0.0000039875\n",
      "\n",
      "Time 0.1875\n",
      "Iteration #001, error L2 relative psi:    0.0812707622\n",
      "Iteration #002, error L2 relative psi:    0.0086476968\n",
      "Iteration #003, error L2 relative psi:    0.0020686299\n",
      "Iteration #004, error L2 relative psi:    0.0006403534\n",
      "Iteration #005, error L2 relative psi:    0.0002215968\n",
      "Iteration #006, error L2 relative psi:    0.0000828098\n",
      "Iteration #007, error L2 relative psi:    0.0000397929\n",
      "Iteration #008, error L2 relative psi:    0.0000283858\n",
      "Iteration #009, error L2 relative psi:    0.0000248204\n",
      "Iteration #010, error L2 relative psi:    0.0000228593\n",
      "Iteration #011, error L2 relative psi:    0.0000213576\n",
      "Iteration #012, error L2 relative psi:    0.0000200783\n",
      "Iteration #013, error L2 relative psi:    0.0000189419\n",
      "Iteration #014, error L2 relative psi:    0.0000179085\n",
      "Iteration #015, error L2 relative psi:    0.0000169547\n",
      "Iteration #016, error L2 relative psi:    0.0000160656\n",
      "Iteration #017, error L2 relative psi:    0.0000152317\n",
      "Iteration #018, error L2 relative psi:    0.0000144462\n",
      "Iteration #019, error L2 relative psi:    0.0000137045\n",
      "Iteration #020, error L2 relative psi:    0.0000130028\n",
      "Iteration #021, error L2 relative psi:    0.0000123383\n",
      "Iteration #022, error L2 relative psi:    0.0000117086\n",
      "Iteration #023, error L2 relative psi:    0.0000111116\n",
      "Iteration #024, error L2 relative psi:    0.0000105453\n",
      "Iteration #025, error L2 relative psi:    0.0000100081\n",
      "Iteration #026, error L2 relative psi:    0.0000094985\n",
      "Iteration #027, error L2 relative psi:    0.0000090149\n",
      "Iteration #028, error L2 relative psi:    0.0000085560\n",
      "Iteration #029, error L2 relative psi:    0.0000081205\n",
      "Iteration #030, error L2 relative psi:    0.0000077072\n",
      "Iteration #031, error L2 relative psi:    0.0000073150\n",
      "Iteration #032, error L2 relative psi:    0.0000069428\n",
      "Iteration #033, error L2 relative psi:    0.0000065895\n",
      "Iteration #034, error L2 relative psi:    0.0000062542\n",
      "Iteration #035, error L2 relative psi:    0.0000059360\n",
      "Iteration #036, error L2 relative psi:    0.0000056340\n",
      "Iteration #037, error L2 relative psi:    0.0000053473\n",
      "Iteration #038, error L2 relative psi:    0.0000050752\n",
      "Iteration #039, error L2 relative psi:    0.0000048170\n",
      "Iteration #040, error L2 relative psi:    0.0000045719\n",
      "Iteration #041, error L2 relative psi:    0.0000043393\n",
      "Iteration #042, error L2 relative psi:    0.0000041185\n",
      "Iteration #043, error L2 relative psi:    0.0000039090\n",
      "\n"
     ]
    }
   ],
   "source": [
    "# Time loop\n",
    "for n in range(num_steps):\n",
    "    current_time = (n + 1) * dt\n",
    "    print('Time ' + str(round(current_time, 5)))\n",
    "\n",
    "    # Rhs that changes with time (but not with k)\n",
    "    time_rhs = fixed_rhs.copy()\n",
    "\n",
    "    # Add the (natural) boundary conditions\n",
    "    time_rhs[:dof_q] += np.hstack(list(cond(current_time) for cond in bc_value))\n",
    "\n",
    "    # Add \\Theta^n:\n",
    "    # 1. Convert psi DOF to cell-wise values\n",
    "    # 2. Compute theta\n",
    "    # 3. Project it to P0 elements\n",
    "    # 4. Multiply by psi-mass\n",
    "    time_rhs[-dof_psi:] += M_psi @ project_psi_to_fe( theta( proj_psi @ sol[-dof_psi:] - subdomain.cell_centers[1,:] ) )\n",
    "\n",
    "    # Solution at the previous iteration (k=0 corresponds to the solution at the previous time step)\n",
    "    prev = sol\n",
    "    current = None\n",
    "\n",
    "    debug_saver = pp.Exporter(mdg, str(current_time) + '_sol', folder_name=os.path.join(output_directory, 'debug'))\n",
    "    export_solution(debug_saver, current_sol=prev, num_step=0)\n",
    "\n",
    "    # Non-linear solver\n",
    "    for k in range(K):\n",
    "        # Actual rhs\n",
    "        rhs = time_rhs.copy()\n",
    "\n",
    "        # \\Theta^{n+1}_k, same steps as \\Theta^n\n",
    "        rhs[-dof_psi:] -= M_psi @ project_psi_to_fe( theta( proj_psi @ prev[-dof_psi:] - subdomain.cell_centers[1,:]) )\n",
    "        \n",
    "        # L-term\n",
    "        rhs[-dof_psi:] += L * M_psi @ prev[-dof_psi:]\n",
    "    \n",
    "        \n",
    "        # Set the conductivity tensor in data (the actual saved tensor does not matter at this stage)\n",
    "        pp.initialize_data(subdomain, data, key, {\n",
    "            \"second_order_tensor\": pp.SecondOrderTensor(\n",
    "                conductivity(proj_psi @ prev[-dof_psi:] - subdomain.cell_centers[1,:])\n",
    "            ),\n",
    "        })\n",
    "\n",
    "        Mass_u = pg.face_mass(mdg, RT0)\n",
    "\n",
    "        # Assemble the system to be solved at time n and interation k\n",
    "        spp = sps.bmat(\n",
    "            [[Mass_u,        B.T] ,\n",
    "             [-dt * B, L * M_psi]], format=\"csc\"\n",
    "        )\n",
    "\n",
    "        # Prepare the linear solver\n",
    "        ls = pg.LinearSystem(spp, rhs)\n",
    "\n",
    "        # Fix the essential boundary conditions\n",
    "        ls.flag_ess_bc(np.hstack(bc_essential), np.zeros(dof_q + dof_psi))\n",
    "\n",
    "        # Solve the system\n",
    "        current = ls.solve()\n",
    "        \n",
    "        export_solution(debug_saver, current_sol=current, num_step=(k+1))\n",
    "\n",
    "        # Check if we have reached convergence\n",
    "        rel_err_psi  = np.sqrt( (current[-dof_psi:] - prev[-dof_psi:]).T @ M_psi @ (current[-dof_psi:] - prev[-dof_psi:]) )\n",
    "        abs_err_prev = np.sqrt( prev[-dof_psi:] @ M_psi @ prev[-dof_psi:] )\n",
    "\n",
    "        # Log message with error and current iteration\n",
    "        print('Iteration #' + format(k+1, '0' + str(ceil(log10(K)) + 1) + 'd') + ', error L2 relative psi: ' \n",
    "              + format(rel_err_psi, str(5 + ceil(log10(1 / abs_tol)) + 4) + '.' + str(ceil(log10(1 / abs_tol)) + 4) + 'f') )\n",
    "        \n",
    "        if rel_err_psi > abs_tol + rel_tol * abs_err_prev:\n",
    "            prev = current.copy()\n",
    "        else:\n",
    "            break\n",
    "        \n",
    "    print('')    \n",
    "    sol = current\n",
    "    export_solution(saver, current_sol=sol, num_step=(n+1))\n",
    "\n",
    "saver.write_pvd([n * dt for n in range(num_steps + 1)])"
   ]
  }
 ],
 "metadata": {
  "kernelspec": {
   "display_name": ".venv",
   "language": "python",
   "name": "python3"
  },
  "language_info": {
   "codemirror_mode": {
    "name": "ipython",
    "version": 3
   },
   "file_extension": ".py",
   "mimetype": "text/x-python",
   "name": "python",
   "nbconvert_exporter": "python",
   "pygments_lexer": "ipython3",
   "version": "3.11.5"
  },
  "orig_nbformat": 4
 },
 "nbformat": 4,
 "nbformat_minor": 2
}
