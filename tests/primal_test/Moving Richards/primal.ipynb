{
 "cells": [
  {
   "cell_type": "markdown",
   "id": "essential-american",
   "metadata": {},
   "source": [
    "### Darcy equation\n",
    "\n",
    "In this tutorial we present how to solve a Darcy equation with [PyGeoN](https://github.com/compgeo-mox/pygeon) in themoving domain case (the upper boundary will move).  The unkwons are the velocity $u$, the elevation head $h$ and the height of the upper boundary $\\eta$.\n",
    "\n",
    "Let $\\Omega=(0,1)\\times(0,\\eta)$ with boundary $\\partial \\Omega$ and outward unit normal ${\\nu}$. Given \n",
    "$K$ the matrix permeability, we want to solve the following problem: find $(\\bm{u}, h)$ such that\n",
    "$$\n",
    "\\left\\{\n",
    "\\begin{array}{ll}\n",
    "\\begin{array}{l} \n",
    "K^{-1} {\\bm{u}} + \\nabla h = {0}\\\\\n",
    "S_s \\frac{\\partial{h}}{\\partial t} + \\nabla \\cdot {u} = f\n",
    "\\end{array}\n",
    "&\\text{in } \\Omega\n",
    "\\end{array}\n",
    "\\right.\n",
    "$$"
   ]
  },
  {
   "cell_type": "markdown",
   "id": "dadbb451",
   "metadata": {},
   "source": [
    "In order to solve the problem, we will perfom a change of coordinates to a reference domain $\\hat{\\Omega}=(0,1)^2$ through the (linear) trasnformation $R : \\Omega \\rightarrow \\hat{\\Omega}$ (and its inverse function $D : \\hat{\\Omega} \\rightarrow \\Omega$).\n",
    "Recall that $\\hat{\\nabla}R=(\\nabla D)^{-1}$.\n",
    "\n",
    "Let $\\hat{h}$ and $\\hat{\\bm{u}}$ be $h$ and $\\bm{u}$ respectevely in the reference domain and let $\\hat{K}$ be the transformed permeability matrix, defined as $\\hat{K}=det(\\hat{\\nabla}D) (\\hat{\\nabla} D)^{-1} K (\\hat{\\nabla} D)^{-T}$.\n",
    "\n",
    "The equation describing the motion of $\\partial_{top}\\Omega$ is:\n",
    "$$\n",
    "\n",
    "\\phi \\frac{\\partial \\eta}{\\partial t} = \\hat{u_3} + I(t)\n",
    "\n",
    "$$"
   ]
  },
  {
   "cell_type": "markdown",
   "id": "a068fac3",
   "metadata": {},
   "source": [
    "The transformed equations in $\\hat{\\Omega}$ is:\n",
    "$$\n",
    "\\left\\{\n",
    "\\begin{array}{ll}\n",
    "\\begin{array}{l} \n",
    "\\hat{K}({\\eta})^{-1} {\\hat{u}} + \\hat{\\nabla} \\hat{h} = {0}\\\\\n",
    "\\hat{S}_s \\frac{\\partial{\\hat{h}}}{\\partial t} + \\hat{\\nabla} \\cdot {\\hat{\\bm{u}}} = f\n",
    "\\end{array}\n",
    "&\\text{in } \\hat{\\Omega}\n",
    "\\end{array}\n",
    "\\right.\n",
    "$$\n",
    "with boundary conditions:\n",
    "$$ \\hat{h} = \\eta \\text{ on } \\Gamma \\qquad \\hat{h} = \\ell \\text{ on } \\Gamma_D \\qquad \\hat{\\bm{\\nu}} \\cdot \\hat{\\bm{u}} = 0 \\text{ on } \\Gamma_N$$"
   ]
  },
  {
   "cell_type": "markdown",
   "id": "47b01879",
   "metadata": {},
   "source": [
    "The weak formulation will be:\n",
    "$$\n",
    "\\left\\{\n",
    "\\begin{array}{ll}\n",
    "\\begin{array}{l} \n",
    "\\int_{\\Omega}\\hat{K}(\\eta)^{-1} {\\bm{\\hat{u}}} \\cdot \\bm{v} \\, d\\Omega - \\int_{\\Omega} h \\hat{\\nabla} \\cdot {\\hat{\\bm{v}}} \\, d\\Omega = - \\int_{\\Gamma_D} h \\bm{v} \\cdot \\bm{\\nu} \\, d\\Omega - \\int_{\\Gamma} \\eta \\bm{v} \\cdot \\bm{\\nu} \\, d\\Omega\\\\\n",
    "\\int_{\\Omega} \\hat{S}_s \\frac{\\partial{\\hat{h}}}{\\partial t} v \\, d\\Omega + \\int_{\\Omega} \\hat{\\nabla} \\cdot {\\hat{\\bm{u}}} v \\, d\\Omega = \\int_{\\Omega} fv \\, d\\Omega\\\\\n",
    "\\int_{\\Gamma} \\phi \\frac{\\partial \\eta}{\\partial t} v \\, d\\sigma = \\int_{\\Gamma} \\hat{u_3} v \\, d\\sigma + \\int_{\\Gamma} I(t) v \\, d\\sigma\n",
    "\\end{array}\n",
    "\\end{array}\n",
    "\\right.\n",
    "$$"
   ]
  },
  {
   "cell_type": "markdown",
   "id": "dcdc7603",
   "metadata": {},
   "source": [
    "For the time discretization, we will employ a backward Euler scheme:\n",
    "\n",
    "$$\n",
    "\\left\\{\n",
    "\\begin{array}{ll}\n",
    "\\begin{array}{l} \n",
    "\\int_{\\Omega}\\hat{K}(\\eta^{n+1})^{-1} {\\bm{\\hat{u}}^{n+1}} \\cdot \\bm{v} \\, d\\Omega - \\int_{\\Omega} h^{n+1} \\hat{\\nabla} \\cdot {\\hat{\\bm{v}}} \\, d\\Omega = - \\int_{\\Gamma_D} h^{n+1} \\bm{v} \\cdot \\bm{\\nu} \\, d\\Omega - \\int_{\\Gamma} \\eta^{n+1} \\bm{v} \\cdot \\bm{\\nu} \\, d\\Omega\\\\\n",
    "\\int_{\\Omega} \\hat{S}_s^{n+1} \\frac{\\hat{h}^{n+1} - \\hat{h}^{n}}{\\Delta t} v \\, d\\Omega + \\int_{\\Omega} \\hat{\\nabla} \\cdot {\\hat{\\bm{u}}^{n+1}} v \\, d\\Omega = \\int_{\\Omega} f^{n+1}v \\, d\\Omega\\\\\n",
    "\\int_{\\Gamma} \\phi \\eta^{n+1} v \\, d\\sigma = \\Delta t \\int_{\\Gamma} \\hat{\\bm{u}}^{n+1} \\cdot \\bm{\\nu} v \\, d\\sigma + \\int_{\\Gamma} \\phi \\eta^{n} v \\, d\\sigma + \\Delta t \\int_{\\Gamma} I^{n+1} v \\, d\\sigma\n",
    "\\end{array}\n",
    "\\end{array}\n",
    "\\right.\n",
    "$$"
   ]
  },
  {
   "cell_type": "markdown",
   "id": "faf928a5",
   "metadata": {},
   "source": [
    "To deal with the non-linear term, we will employ a simple Picard scheme:\n",
    "\n",
    "$$\n",
    "\\left\\{\n",
    "\\begin{array}{ll}\n",
    "\\begin{array}{l} \n",
    "\\int_{\\Omega}\\hat{K}(\\eta^{n+1}_k)^{-1} {\\bm{\\hat{u}_{k+1}^{n+1}}} \\cdot \\bm{v} \\, d\\Omega - \\int_{\\Omega} h^{n+1}_{k+1} \\hat{\\nabla} \\cdot {\\hat{\\bm{v}}} \\, d\\Omega + \\int_{\\Gamma} \\eta^{n+1}_{k+1} \\bm{v} \\cdot \\bm{\\nu} \\, d\\Omega= - \\int_{\\Gamma_D} h^{n+1} \\bm{v} \\cdot \\bm{\\nu} \\, d\\Omega\\\\\n",
    "\\Delta t \\int_{\\Omega} \\hat{\\nabla} \\cdot {\\hat{\\bm{u}}^{n+1}_{k+1}} v \\, d\\Omega + \\int_{\\Omega} \\hat{S}_s \\hat{h}^{n+1}_{k+1} v \\, d\\Omega = \\int_{\\Omega} \\hat{S}_s \\hat{h}^{n} v \\, d\\Omega + \\Delta t \\int_{\\Omega} f^{n+1}v \\, d\\Omega\\\\\n",
    "- \\Delta t \\int_{\\Gamma} \\hat{\\bm{u}}^{n+1}_{k+1} \\cdot \\bm{\\nu} v \\, d\\sigma + \\int_{\\Gamma} \\phi \\eta^{n+1}_{k+1} v \\, d\\sigma = \\int_{\\Gamma} \\phi \\eta^{n} v \\, d\\sigma + \\Delta t \\int_{\\Gamma} I^{n+1} v \\, d\\sigma\n",
    "\\end{array}\n",
    "\\end{array}\n",
    "\\right.\n",
    "$$"
   ]
  },
  {
   "cell_type": "markdown",
   "id": "615fb33d",
   "metadata": {},
   "source": [
    "The matrix formulation will be:\n",
    "\n",
    "$$\n",
    "\\left\\{\n",
    "\\begin{array}{ll}\n",
    "\\begin{array}{l} \n",
    "M_u(\\bm{\\eta}^{n+1}_{k}) \\bm{u}^{n+1}_{k+1} + B^T\\bm{h}^{n+1}_{k+1} + B_{\\Gamma}^T \\bm{\\eta}^{n+1}_{k+1}= \\bm{BC}^{n+1}\\\\\n",
    "- \\Delta t B \\hat{\\bm{u}}^{n+1}_{k+1} + S_s M_{h} \\bm{\\hat{h}^{n+1}_{k+1}} = \\Delta t \\bm{F}^{n+1} + S_s M_{h} \\bm{\\hat{h}^{n}}\\\\\n",
    "- \\Delta t B_{\\Gamma} \\hat{\\bm{u}}^{n+1}_{k+1} + \\phi M_{\\Gamma} \\bm{\\eta^{n+1}_{k+1}} = \\phi M_{\\Gamma} \\bm{\\eta^{n}} + \\Delta t \\bm{I}^{n+1}\n",
    "\\end{array}\n",
    "\\end{array}\n",
    "\\right.\n",
    "$$"
   ]
  },
  {
   "cell_type": "markdown",
   "id": "49e31d3b",
   "metadata": {},
   "source": [
    "$$\n",
    "\\left(\n",
    "\\begin{array}{cc} \n",
    "M_u(\\bm{\\eta^{n+1}_k}) & B^T & B_{\\Gamma}^T\\\\\n",
    "-\\Delta t B & S_s M_h & 0\\\\\n",
    "-\\Delta t B_{\\Gamma} & 0 & \\phi M_{\\Gamma}\n",
    "\\end{array}\n",
    "\\right)\n",
    "\\left(\n",
    "\\begin{array}{c} \n",
    "\\bm{u^{n+1}_{k+1}}\\\\ \n",
    "\\bm{h^{n+1}_{k+1}}\\\\\n",
    "\\bm{\\eta^{n+1}_{k+1}}\n",
    "\\end{array}\n",
    "\\right)\n",
    "=\\left(\n",
    "\\begin{array}{c} \n",
    "\\bm{BC}^{n+1}\\\\ \n",
    "\\Delta t \\bm{F}^{n+1} + S_s M_h \\bm{h}^n\\\\\n",
    "\\phi M_{\\Gamma} \\bm{\\eta}^n + \\Delta t \\bm{I}^{n+1}\n",
    "\\end{array}\n",
    "\\right)\n",
    "$$"
   ]
  },
  {
   "cell_type": "markdown",
   "id": "60777fa8",
   "metadata": {},
   "source": [
    "We will start to test the method in the case $M_u(\\bm{h_k}^{n+1})=\\bm{I}$"
   ]
  },
  {
   "cell_type": "code",
   "execution_count": 1,
   "id": "fa691294",
   "metadata": {},
   "outputs": [],
   "source": [
    "%load_ext Cython"
   ]
  },
  {
   "cell_type": "code",
   "execution_count": 2,
   "id": "dietary-perth",
   "metadata": {},
   "outputs": [
    {
     "name": "stderr",
     "output_type": "stream",
     "text": [
      "/opt/conda/lib/python3.11/site-packages/porepy/numerics/nonlinear/nonlinear_solvers.py:13: TqdmExperimentalWarning: Using `tqdm.autonotebook.tqdm` in notebook mode. Use `tqdm.tqdm` instead to force console mode (e.g. in jupyter console)\n",
      "  from tqdm.autonotebook import trange  # type: ignore\n"
     ]
    }
   ],
   "source": [
    "import numpy as np\n",
    "import scipy.sparse as sps\n",
    "from math import ceil, floor, log10, exp, isnan\n",
    "import os, shutil, sys\n",
    "\n",
    "import porepy as pp\n",
    "import pygeon as pg\n",
    "import scipy.integrate as integrate\n",
    "\n",
    "import matplotlib.pyplot as plt\n",
    "\n",
    "import scipy as sc\n",
    "import sympy as sp"
   ]
  },
  {
   "cell_type": "code",
   "execution_count": 3,
   "metadata": {},
   "outputs": [],
   "source": [
    "import utilities.chi_func as helper_chi_func\n",
    "from utilities.moving_richards.stifness_matrix import stifness, exp_stifness\n",
    "from utilities.moving_richards.mass_matrix import global_mass, exp_global_mass"
   ]
  },
  {
   "cell_type": "code",
   "execution_count": 4,
   "id": "1e1342bf",
   "metadata": {},
   "outputs": [],
   "source": [
    "output_directory = 'primal'"
   ]
  },
  {
   "cell_type": "markdown",
   "id": "roman-glossary",
   "metadata": {},
   "source": [
    "### Parameters"
   ]
  },
  {
   "cell_type": "code",
   "execution_count": 5,
   "id": "9b5f484a",
   "metadata": {},
   "outputs": [],
   "source": [
    "T = 1\n",
    "dt = 0.1"
   ]
  },
  {
   "cell_type": "code",
   "execution_count": 6,
   "id": "60dbe54f",
   "metadata": {},
   "outputs": [],
   "source": [
    "infiltration_rate = 1e-3\n",
    "extraction_rate = 0.3"
   ]
  },
  {
   "cell_type": "code",
   "execution_count": 7,
   "id": "09d80195",
   "metadata": {},
   "outputs": [],
   "source": [
    "# Van Genuchten model parameters ( relative permeability model )\n",
    "theta_s = 0.396\n",
    "theta_r = 0.131\n",
    "\n",
    "alpha = 0.423\n",
    "\n",
    "n = 2.06\n",
    "K_s = 4.96e-2\n",
    "\n",
    "m = 1 - 1/n\n",
    "\n",
    "phi = (theta_s - theta_r)"
   ]
  },
  {
   "cell_type": "code",
   "execution_count": 8,
   "id": "0816cee5",
   "metadata": {},
   "outputs": [],
   "source": [
    "N = 20 # 16\n",
    "quad_order = 3\n",
    "\n",
    "# Domain tolerance\n",
    "domain_tolerance = 1 / (10 * N)"
   ]
  },
  {
   "cell_type": "code",
   "execution_count": 9,
   "id": "03c363e3",
   "metadata": {},
   "outputs": [],
   "source": [
    "# Set the maximum number of iterations of the non-linear solver\n",
    "max_iterations_per_step = 1000\n",
    "\n",
    "# L-scheme parameter\n",
    "L   = 3.3e-2\n",
    "\n",
    "# Relative and absolute tolerances for the non-linear solver\n",
    "abs_tol = 1e-10\n",
    "rel_tol = 1e-5\n",
    "\n",
    "numeric_tol = 1e-10"
   ]
  },
  {
   "cell_type": "markdown",
   "id": "97631457",
   "metadata": {},
   "source": [
    "### Grid and $V_h$"
   ]
  },
  {
   "cell_type": "code",
   "execution_count": 10,
   "id": "spectacular-saturn",
   "metadata": {},
   "outputs": [],
   "source": [
    "# convert the grid into a mixed-dimensional grid\n",
    "sd = pp.StructuredTriangleGrid([N, N], [1, 1])\n",
    "sd.compute_geometry()\n",
    "pg.convert_from_pp(sd)"
   ]
  },
  {
   "cell_type": "code",
   "execution_count": 11,
   "id": "ffa231fe",
   "metadata": {},
   "outputs": [],
   "source": [
    "boundary_grid, boundary_face_map, boundary_node_map = pp.partition.extract_subgrid(sd, sd.face_centers[1, :] == 1, faces=True)"
   ]
  },
  {
   "cell_type": "code",
   "execution_count": 12,
   "id": "cb80af64",
   "metadata": {},
   "outputs": [],
   "source": [
    "mdg = pg.as_mdg(sd)"
   ]
  },
  {
   "cell_type": "code",
   "execution_count": 13,
   "id": "0869e7e2",
   "metadata": {},
   "outputs": [],
   "source": [
    "subdomain, data = mdg.subdomains( return_data=True )[0]"
   ]
  },
  {
   "cell_type": "code",
   "execution_count": 14,
   "id": "0024b7c0",
   "metadata": {},
   "outputs": [],
   "source": [
    "key = \"flow\"\n",
    "\n",
    "darcy_data = {}\n",
    "initial_pressure = []"
   ]
  },
  {
   "cell_type": "code",
   "execution_count": 15,
   "id": "88c12db7",
   "metadata": {},
   "outputs": [],
   "source": [
    "h_field     = pg.Lagrange1(key)\n",
    "gamma_field = pg.Lagrange1(key)"
   ]
  },
  {
   "cell_type": "code",
   "execution_count": 16,
   "id": "12700018",
   "metadata": {},
   "outputs": [],
   "source": [
    "subdomain, data = mdg.subdomains(return_data=True)[0]"
   ]
  },
  {
   "cell_type": "code",
   "execution_count": 17,
   "id": "e0507296",
   "metadata": {},
   "outputs": [],
   "source": [
    "def initial_h_func(x): return 1\n",
    "def infiltration(x, t): return 0#infiltration_rate"
   ]
  },
  {
   "cell_type": "code",
   "execution_count": 18,
   "id": "d5aafac3",
   "metadata": {},
   "outputs": [],
   "source": [
    "eta_mask = sd.nodes[1, :] == 0"
   ]
  },
  {
   "cell_type": "code",
   "execution_count": 19,
   "id": "1827411d",
   "metadata": {},
   "outputs": [],
   "source": [
    "dof_p = h_field.ndof(subdomain)"
   ]
  },
  {
   "cell_type": "markdown",
   "metadata": {},
   "source": [
    "### Mapping"
   ]
  },
  {
   "cell_type": "code",
   "execution_count": 20,
   "metadata": {},
   "outputs": [],
   "source": [
    "eta_var = sp.Symbol('eta', negative=False)\n",
    "x3_var  = sp.Symbol('x3',  negative=False)"
   ]
  },
  {
   "cell_type": "code",
   "execution_count": 21,
   "metadata": {},
   "outputs": [],
   "source": [
    "chi_expr = eta_var + (2-eta_var) * x3_var"
   ]
  },
  {
   "cell_type": "code",
   "execution_count": 22,
   "metadata": {},
   "outputs": [],
   "source": [
    "chi     = sp.lambdify([eta_var, x3_var],                   chi_expr)\n",
    "chi_x3  = sp.lambdify([eta_var, x3_var],  sp.diff(chi_expr, x3_var))\n",
    "chi_eta = sp.lambdify([eta_var, x3_var], sp.diff(chi_expr, eta_var))"
   ]
  },
  {
   "cell_type": "code",
   "execution_count": 23,
   "metadata": {},
   "outputs": [
    {
     "data": {
      "image/png": "[encoded data removed]",
      "text/plain": [
       "<Figure size 640x480 with 1 Axes>"
      ]
     },
     "metadata": {},
     "output_type": "display_data"
    }
   ],
   "source": [
    "fig = plt.figure()\n",
    "ax = fig.subplots(1,1)\n",
    "\n",
    "ax.plot(np.arange(0., 1., 1/1000), chi(np.ones(shape=(1000, )), np.arange(0., 1., 1/1000)))\n",
    "\n",
    "ax.legend(['$\\chi$', '$\\chi_{x_3}$', '$\\chi_{\\eta}$'])\n",
    "\n",
    "ax.grid()"
   ]
  },
  {
   "cell_type": "code",
   "execution_count": 24,
   "metadata": {},
   "outputs": [],
   "source": [
    "def convert_heights(eta_dofs, heights):\n",
    "    if len(eta_dofs) == len(heights):\n",
    "        return chi(eta_dofs, heights)\n",
    "    else:\n",
    "        return chi( np.tile(eta_dofs, ceil(len(heights) / len(eta_dofs))) , heights)"
   ]
  },
  {
   "cell_type": "markdown",
   "metadata": {},
   "source": [
    "### $\\theta$ and $K$"
   ]
  },
  {
   "cell_type": "code",
   "execution_count": 25,
   "metadata": {},
   "outputs": [],
   "source": [
    "# Symbolic psi\n",
    "h_var = sp.Symbol('h', negative=True)\n",
    "\n",
    "# Symbolic Theta\n",
    "theta_expression = theta_r + (theta_s - theta_r) / (1 + (-alpha * (h_var - chi_expr)) ** n) ** m\n",
    "effective_saturation = (theta_expression - theta_r) / (theta_s - theta_r)\n",
    "\n",
    "# Symbolic Conductivity K\n",
    "hydraulic_conductivity_expression = K_s * (effective_saturation ** 0.5) * ( 1 - (1 - effective_saturation ** (1 / m)) ** m ) ** 2"
   ]
  },
  {
   "cell_type": "code",
   "execution_count": 26,
   "metadata": {},
   "outputs": [],
   "source": [
    "# Theta lambda\n",
    "theta_lambda = sp.lambdify([h_var, eta_var, x3_var], sp.Piecewise(\n",
    "    (theta_expression, h_var < chi_expr),\n",
    "    (theta_s, True)\n",
    "), 'numpy')\n",
    "\n",
    "# Conductivity tensor lambda\n",
    "conductivity_lambda = sp.lambdify([h_var, eta_var, x3_var], sp.Piecewise(\n",
    "    (hydraulic_conductivity_expression, h_var < chi_expr),\n",
    "    (K_s, True)\n",
    "), 'numpy')"
   ]
  },
  {
   "cell_type": "code",
   "execution_count": 27,
   "metadata": {},
   "outputs": [],
   "source": [
    "# Actual (and final) theta function\n",
    "def theta(h, eta):\n",
    "    return theta_lambda( h, np.tile(eta, round(len(h) / len(eta))), subdomain.nodes[1, :])"
   ]
  },
  {
   "cell_type": "code",
   "execution_count": 28,
   "metadata": {},
   "outputs": [],
   "source": [
    "def conductivity(h, eta, x3):\n",
    "    return conductivity_lambda(h, eta, x3)"
   ]
  },
  {
   "cell_type": "markdown",
   "id": "9d33b2a2",
   "metadata": {},
   "source": [
    "### BC"
   ]
  },
  {
   "cell_type": "markdown",
   "id": "c0bbe30c",
   "metadata": {},
   "source": [
    "##### Dirichlet (essential)"
   ]
  },
  {
   "cell_type": "code",
   "execution_count": 29,
   "metadata": {},
   "outputs": [],
   "source": [
    "dirichlet_flag = np.logical_and(sd.nodes[0, :] == 1, sd.nodes[1, :] > 0)"
   ]
  },
  {
   "cell_type": "code",
   "execution_count": 30,
   "metadata": {},
   "outputs": [],
   "source": [
    "dirichlet_value = np.array(dirichlet_flag, dtype=float) * 0.5"
   ]
  },
  {
   "cell_type": "markdown",
   "id": "07a096f7",
   "metadata": {},
   "source": [
    "##### Neumann (natural)"
   ]
  },
  {
   "cell_type": "code",
   "execution_count": 31,
   "metadata": {},
   "outputs": [],
   "source": [
    "def neumann_cond(ls_eta):\n",
    "    rows = []\n",
    "    cols = []\n",
    "    data = []\n",
    "\n",
    "    faces = np.where(subdomain.face_centers[0, :] == 0)[0]\n",
    "    for edge_id in faces:\n",
    "        nodes = subdomain.face_nodes.indices[subdomain.face_nodes.indptr[edge_id]:subdomain.face_nodes.indptr[edge_id+1]]\n",
    "        \n",
    "        for node, func in zip(nodes, [(lambda y: 1-y), (lambda y: y)]):\n",
    "            tmp = 1/2 #integrate.fixed_quad( lambda y : chi_x3(ls_eta, subdomain.nodes[1, nodes[0]] + y) * func(y), 0, 1, n=5)[0]\n",
    "\n",
    "            rows.append(node)\n",
    "            data.append(-extraction_rate * tmp / N)\n",
    "            cols.append(0)\n",
    "    \n",
    "    return sps.coo_array((data, (rows, cols)), shape=(subdomain.num_nodes, 1), dtype=float).todense()[:, 0]"
   ]
  },
  {
   "cell_type": "markdown",
   "id": "c3b55b3f",
   "metadata": {},
   "source": [
    "### Matrix Assembly"
   ]
  },
  {
   "cell_type": "code",
   "execution_count": 32,
   "id": "ecea12f2",
   "metadata": {},
   "outputs": [],
   "source": [
    "eta_diff = gamma_field.assemble_diff_matrix( boundary_grid )\n",
    "eta_diff[0,0] = -1\n",
    "eta_diff *= N"
   ]
  },
  {
   "cell_type": "code",
   "execution_count": 33,
   "id": "b746cf87",
   "metadata": {},
   "outputs": [],
   "source": [
    "M_gamma = gamma_field.assemble_mass_matrix( boundary_grid )\n",
    "M_h = h_field.assemble_mass_matrix(subdomain)"
   ]
  },
  {
   "cell_type": "markdown",
   "id": "75188ccc",
   "metadata": {},
   "source": [
    "#### Restrictor matrices"
   ]
  },
  {
   "cell_type": "code",
   "execution_count": 34,
   "id": "54c0b702",
   "metadata": {},
   "outputs": [],
   "source": [
    "restrict_eta = np.array(eta_mask, dtype=float)\n",
    "restrict_eta = sps.csr_matrix(np.diag(restrict_eta, k=0))"
   ]
  },
  {
   "cell_type": "code",
   "execution_count": 35,
   "id": "2133096b",
   "metadata": {},
   "outputs": [],
   "source": [
    "upscale_to_h = np.zeros(shape=(sd.num_nodes, boundary_grid.num_nodes))\n",
    "upscale_to_h[ eta_mask , np.arange(boundary_grid.num_nodes) ] = 1\n",
    "upscale_to_h = sps.csr_matrix(upscale_to_h)"
   ]
  },
  {
   "cell_type": "code",
   "execution_count": 36,
   "id": "e8b3d100",
   "metadata": {},
   "outputs": [],
   "source": [
    "proj_psi = h_field.eval_at_cell_centers(subdomain)"
   ]
  },
  {
   "cell_type": "markdown",
   "id": "04d2bceb",
   "metadata": {},
   "source": [
    "### Solve System"
   ]
  },
  {
   "cell_type": "code",
   "execution_count": 37,
   "id": "abb485ad",
   "metadata": {},
   "outputs": [],
   "source": [
    "if os.path.exists(output_directory):\n",
    "    shutil.rmtree(output_directory)"
   ]
  },
  {
   "cell_type": "code",
   "execution_count": 38,
   "id": "c91b0b90",
   "metadata": {},
   "outputs": [],
   "source": [
    "# Fixed rhs\n",
    "fixed_rhs = np.zeros(dof_p)"
   ]
  },
  {
   "cell_type": "code",
   "execution_count": 39,
   "id": "d75b1f02",
   "metadata": {},
   "outputs": [],
   "source": [
    "# Initial conditions\n",
    "sol = [h_field.interpolate(sd, initial_h_func)]"
   ]
  },
  {
   "cell_type": "code",
   "execution_count": 40,
   "id": "2f2c117b",
   "metadata": {},
   "outputs": [],
   "source": [
    "def save_step(sol, saver, i):\n",
    "    ins = list()\n",
    "\n",
    "    ins.append((sd, \"cell_h\", proj_psi @ sol))\n",
    "\n",
    "    saver.write_vtu(ins, time_step=i)"
   ]
  },
  {
   "cell_type": "code",
   "execution_count": 41,
   "id": "354f427c",
   "metadata": {},
   "outputs": [],
   "source": [
    "# Save the initial solution\n",
    "saver = pp.Exporter(mdg, 'sol', folder_name=output_directory)\n",
    "save_step(sol[-1], saver, 0)"
   ]
  },
  {
   "cell_type": "code",
   "execution_count": 42,
   "metadata": {},
   "outputs": [],
   "source": [
    "csv_base = os.path.join(output_directory, 'csv')\n",
    "os.mkdir( csv_base )"
   ]
  },
  {
   "cell_type": "code",
   "execution_count": 43,
   "id": "6036f9c2",
   "metadata": {},
   "outputs": [
    {
     "name": "stdout",
     "output_type": "stream",
     "text": [
      "Time 0.1\n"
     ]
    },
    {
     "name": "stdout",
     "output_type": "stream",
     "text": [
      "Iteration #0001, error L2 relative psi:    0.17328365851591\n"
     ]
    },
    {
     "name": "stderr",
     "output_type": "stream",
     "text": [
      "<lambdifygenerated-5>:2: RuntimeWarning: invalid value encountered in scalar power\n",
      "  return select([less(h, eta + x3*(2 - eta)),True], [0.0496*(1 - (1 - 1.0*(0.1699265174169*(eta - h + x3*(2 - eta))**2.06 + 1)**(-1.0))**0.514563106796116)**2*(0.1699265174169*(eta - h + x3*(2 - eta))**2.06 + 1)**(-0.257281553398058),0.0496], default=nan)\n",
      "<lambdifygenerated-4>:2: RuntimeWarning: invalid value encountered in power\n",
      "  return select([less(h, eta + x3*(2 - eta)),True], [0.265*(0.1699265174169*(eta - h + x3*(2 - eta))**2.06 + 1)**(-0.514563106796116) + 0.131,0.396], default=nan)\n"
     ]
    },
    {
     "name": "stdout",
     "output_type": "stream",
     "text": [
      "Iteration #0002, error L2 relative psi:    2.30301262353109\n",
      "Iteration #0003, error L2 relative psi:    2.38779404472696\n",
      "Iteration #0004, error L2 relative psi:    0.29537587047055\n"
     ]
    },
    {
     "ename": "KeyboardInterrupt",
     "evalue": "",
     "output_type": "error",
     "traceback": [
      "\u001b[0;31m---------------------------------------------------------------------------\u001b[0m",
      "\u001b[0;31mKeyboardInterrupt\u001b[0m                         Traceback (most recent call last)",
      "\u001b[1;32m/workspaces/richards/tests/primal_test/Moving Richards/primal.ipynb Cell 62\u001b[0m line \u001b[0;36m1\n\u001b[1;32m     <a href='vscode-notebook-cell://dev-container%2B7b22686f737450617468223a22653a5c5c56697375616c2053747564696f20436f64655c5c7269636861726473222c226c6f63616c446f636b6572223a66616c73652c22636f6e66696746696c65223a7b22246d6964223a312c22667350617468223a22653a5c5c56697375616c2053747564696f20436f64655c5c72696368617264735c5c2e646576636f6e7461696e65725c5c646576636f6e7461696e65722e6a736f6e222c225f736570223a312c2265787465726e616c223a2266696c653a2f2f2f652533412f56697375616c25323053747564696f253230436f64652f72696368617264732f2e646576636f6e7461696e65722f646576636f6e7461696e65722e6a736f6e222c2270617468223a222f653a2f56697375616c2053747564696f20436f64652f72696368617264732f2e646576636f6e7461696e65722f646576636f6e7461696e65722e6a736f6e222c22736368656d65223a2266696c65227d7d/workspaces/richards/tests/primal_test/Moving%20Richards/primal.ipynb#Y115sdnNjb2RlLXJlbW90ZQ%3D%3D?line=16'>17</a>\u001b[0m \u001b[39m# Non-linear loop\u001b[39;00m\n\u001b[1;32m     <a href='vscode-notebook-cell://dev-container%2B7b22686f737450617468223a22653a5c5c56697375616c2053747564696f20436f64655c5c7269636861726473222c226c6f63616c446f636b6572223a66616c73652c22636f6e66696746696c65223a7b22246d6964223a312c22667350617468223a22653a5c5c56697375616c2053747564696f20436f64655c5c72696368617264735c5c2e646576636f6e7461696e65725c5c646576636f6e7461696e65722e6a736f6e222c225f736570223a312c2265787465726e616c223a2266696c653a2f2f2f652533412f56697375616c25323053747564696f253230436f64652f72696368617264732f2e646576636f6e7461696e65722f646576636f6e7461696e65722e6a736f6e222c2270617468223a222f653a2f56697375616c2053747564696f20436f64652f72696368617264732f2e646576636f6e7461696e65722f646576636f6e7461696e65722e6a736f6e222c22736368656d65223a2266696c65227d7d/workspaces/richards/tests/primal_test/Moving%20Richards/primal.ipynb#Y115sdnNjb2RlLXJlbW90ZQ%3D%3D?line=17'>18</a>\u001b[0m \u001b[39mfor\u001b[39;00m k \u001b[39min\u001b[39;00m \u001b[39mrange\u001b[39m(max_iterations_per_step):\n\u001b[0;32m---> <a href='vscode-notebook-cell://dev-container%2B7b22686f737450617468223a22653a5c5c56697375616c2053747564696f20436f64655c5c7269636861726473222c226c6f63616c446f636b6572223a66616c73652c22636f6e66696746696c65223a7b22246d6964223a312c22667350617468223a22653a5c5c56697375616c2053747564696f20436f64655c5c72696368617264735c5c2e646576636f6e7461696e65725c5c646576636f6e7461696e65722e6a736f6e222c225f736570223a312c2265787465726e616c223a2266696c653a2f2f2f652533412f56697375616c25323053747564696f253230436f64652f72696368617264732f2e646576636f6e7461696e65722f646576636f6e7461696e65722e6a736f6e222c2270617468223a222f653a2f56697375616c2053747564696f20436f64652f72696368617264732f2e646576636f6e7461696e65722f646576636f6e7461696e65722e6a736f6e222c22736368656d65223a2266696c65227d7d/workspaces/richards/tests/primal_test/Moving%20Richards/primal.ipynb#Y115sdnNjb2RlLXJlbW90ZQ%3D%3D?line=18'>19</a>\u001b[0m     A_h \u001b[39m=\u001b[39m exp_stifness(eta_diff, subdomain, boundary_grid, \n\u001b[1;32m     <a href='vscode-notebook-cell://dev-container%2B7b22686f737450617468223a22653a5c5c56697375616c2053747564696f20436f64655c5c7269636861726473222c226c6f63616c446f636b6572223a66616c73652c22636f6e66696746696c65223a7b22246d6964223a312c22667350617468223a22653a5c5c56697375616c2053747564696f20436f64655c5c72696368617264735c5c2e646576636f6e7461696e65725c5c646576636f6e7461696e65722e6a736f6e222c225f736570223a312c2265787465726e616c223a2266696c653a2f2f2f652533412f56697375616c25323053747564696f253230436f64652f72696368617264732f2e646576636f6e7461696e65722f646576636f6e7461696e65722e6a736f6e222c2270617468223a222f653a2f56697375616c2053747564696f20436f64652f72696368617264732f2e646576636f6e7461696e65722f646576636f6e7461696e65722e6a736f6e222c22736368656d65223a2266696c65227d7d/workspaces/richards/tests/primal_test/Moving%20Richards/primal.ipynb#Y115sdnNjb2RlLXJlbW90ZQ%3D%3D?line=19'>20</a>\u001b[0m                        prev[eta_mask],\n\u001b[1;32m     <a href='vscode-notebook-cell://dev-container%2B7b22686f737450617468223a22653a5c5c56697375616c2053747564696f20436f64655c5c7269636861726473222c226c6f63616c446f636b6572223a66616c73652c22636f6e66696746696c65223a7b22246d6964223a312c22667350617468223a22653a5c5c56697375616c2053747564696f20436f64655c5c72696368617264735c5c2e646576636f6e7461696e65725c5c646576636f6e7461696e65722e6a736f6e222c225f736570223a312c2265787465726e616c223a2266696c653a2f2f2f652533412f56697375616c25323053747564696f253230436f64652f72696368617264732f2e646576636f6e7461696e65722f646576636f6e7461696e65722e6a736f6e222c2270617468223a222f653a2f56697375616c2053747564696f20436f64652f72696368617264732f2e646576636f6e7461696e65722f646576636f6e7461696e65722e6a736f6e222c22736368656d65223a2266696c65227d7d/workspaces/richards/tests/primal_test/Moving%20Richards/primal.ipynb#Y115sdnNjb2RlLXJlbW90ZQ%3D%3D?line=20'>21</a>\u001b[0m                        quad_order, chi_x3, chi_eta,\n\u001b[1;32m     <a href='vscode-notebook-cell://dev-container%2B7b22686f737450617468223a22653a5c5c56697375616c2053747564696f20436f64655c5c7269636861726473222c226c6f63616c446f636b6572223a66616c73652c22636f6e66696746696c65223a7b22246d6964223a312c22667350617468223a22653a5c5c56697375616c2053747564696f20436f64655c5c72696368617264735c5c2e646576636f6e7461696e65725c5c646576636f6e7461696e65722e6a736f6e222c225f736570223a312c2265787465726e616c223a2266696c653a2f2f2f652533412f56697375616c25323053747564696f253230436f64652f72696368617264732f2e646576636f6e7461696e65722f646576636f6e7461696e65722e6a736f6e222c2270617468223a222f653a2f56697375616c2053747564696f20436f64652f72696368617264732f2e646576636f6e7461696e65722f646576636f6e7461696e65722e6a736f6e222c22736368656d65223a2266696c65227d7d/workspaces/richards/tests/primal_test/Moving%20Richards/primal.ipynb#Y115sdnNjb2RlLXJlbW90ZQ%3D%3D?line=21'>22</a>\u001b[0m                        prev, conductivity)\n\u001b[1;32m     <a href='vscode-notebook-cell://dev-container%2B7b22686f737450617468223a22653a5c5c56697375616c2053747564696f20436f64655c5c7269636861726473222c226c6f63616c446f636b6572223a66616c73652c22636f6e66696746696c65223a7b22246d6964223a312c22667350617468223a22653a5c5c56697375616c2053747564696f20436f64655c5c72696368617264735c5c2e646576636f6e7461696e65725c5c646576636f6e7461696e65722e6a736f6e222c225f736570223a312c2265787465726e616c223a2266696c653a2f2f2f652533412f56697375616c25323053747564696f253230436f64652f72696368617264732f2e646576636f6e7461696e65722f646576636f6e7461696e65722e6a736f6e222c2270617468223a222f653a2f56697375616c2053747564696f20436f64652f72696368617264732f2e646576636f6e7461696e65722f646576636f6e7461696e65722e6a736f6e222c22736368656d65223a2266696c65227d7d/workspaces/richards/tests/primal_test/Moving%20Richards/primal.ipynb#Y115sdnNjb2RlLXJlbW90ZQ%3D%3D?line=23'>24</a>\u001b[0m     \u001b[39m# Assemble the saddle point problem\u001b[39;00m\n\u001b[1;32m     <a href='vscode-notebook-cell://dev-container%2B7b22686f737450617468223a22653a5c5c56697375616c2053747564696f20436f64655c5c7269636861726473222c226c6f63616c446f636b6572223a66616c73652c22636f6e66696746696c65223a7b22246d6964223a312c22667350617468223a22653a5c5c56697375616c2053747564696f20436f64655c5c72696368617264735c5c2e646576636f6e7461696e65725c5c646576636f6e7461696e65722e6a736f6e222c225f736570223a312c2265787465726e616c223a2266696c653a2f2f2f652533412f56697375616c25323053747564696f253230436f64652f72696368617264732f2e646576636f6e7461696e65722f646576636f6e7461696e65722e6a736f6e222c2270617468223a222f653a2f56697375616c2053747564696f20436f64652f72696368617264732f2e646576636f6e7461696e65722f646576636f6e7461696e65722e6a736f6e222c22736368656d65223a2266696c65227d7d/workspaces/richards/tests/primal_test/Moving%20Richards/primal.ipynb#Y115sdnNjb2RlLXJlbW90ZQ%3D%3D?line=24'>25</a>\u001b[0m     glob_mass \u001b[39m=\u001b[39m exp_global_mass(subdomain, boundary_grid, prev[eta_mask], quad_order, chi_x3)\n",
      "File \u001b[0;32m/workspaces/richards/utilities/moving_richards/stifness_matrix.py:139\u001b[0m, in \u001b[0;36mexp_stifness\u001b[0;34m(eta_diff, sd, boundary_grid, eta_dofs, quad_order, chi_x3, chi_eta, h_dofs, conductivity_func)\u001b[0m\n\u001b[1;32m    132\u001b[0m h_func \u001b[39m=\u001b[39m \u001b[39mlambda\u001b[39;00m x,y: h_local[\u001b[39m0\u001b[39m] \u001b[39m+\u001b[39m (h_local[\u001b[39m2\u001b[39m] \u001b[39m-\u001b[39m h_local[\u001b[39m0\u001b[39m]) \u001b[39m*\u001b[39m (x \u001b[39m-\u001b[39m ordered_coord[\u001b[39m0\u001b[39m,\u001b[39m0\u001b[39m]) \u001b[39m/\u001b[39m (ordered_coord[\u001b[39m0\u001b[39m,\u001b[39m2\u001b[39m] \u001b[39m-\u001b[39m ordered_coord[\u001b[39m0\u001b[39m,\u001b[39m0\u001b[39m]) \u001b[39m+\u001b[39m (h_local[\u001b[39m1\u001b[39m] \u001b[39m-\u001b[39m h_local[\u001b[39m0\u001b[39m]) \u001b[39m*\u001b[39m (y \u001b[39m-\u001b[39m ordered_coord[\u001b[39m1\u001b[39m,\u001b[39m0\u001b[39m]) \u001b[39m/\u001b[39m (ordered_coord[\u001b[39m1\u001b[39m,\u001b[39m1\u001b[39m] \u001b[39m-\u001b[39m ordered_coord[\u001b[39m1\u001b[39m,\u001b[39m0\u001b[39m])\n\u001b[1;32m    134\u001b[0m K_loc \u001b[39m=\u001b[39m \u001b[39mlambda\u001b[39;00m x,y: quick_K_func_eval( chi_x3(eta(x), y), \n\u001b[1;32m    135\u001b[0m                                        chi_eta(eta(x), y), \n\u001b[1;32m    136\u001b[0m                                        grad_eta[eta_cell], \n\u001b[1;32m    137\u001b[0m                                        conductivity_func(h_func(x,y), eta(x), y))\n\u001b[0;32m--> 139\u001b[0m A \u001b[39m=\u001b[39m experimental_local_A(coord_loc, K_loc, quad_order, m)\n\u001b[1;32m    141\u001b[0m \u001b[39m# Save values for stiff-H1 local matrix in the global structure\u001b[39;00m\n\u001b[1;32m    142\u001b[0m cols \u001b[39m=\u001b[39m np\u001b[39m.\u001b[39mtile(nodes_loc, (nodes_loc\u001b[39m.\u001b[39msize, \u001b[39m1\u001b[39m))\n",
      "File \u001b[0;32m/workspaces/richards/utilities/assembly_utilities.py:72\u001b[0m, in \u001b[0;36mexperimental_local_A\u001b[0;34m(coord, K_local, quad_order, m)\u001b[0m\n\u001b[1;32m     70\u001b[0m \u001b[39mfor\u001b[39;00m i \u001b[39min\u001b[39;00m \u001b[39mrange\u001b[39m(\u001b[39m3\u001b[39m):\n\u001b[1;32m     71\u001b[0m         \u001b[39mfor\u001b[39;00m j \u001b[39min\u001b[39;00m \u001b[39mrange\u001b[39m(\u001b[39m3\u001b[39m):\n\u001b[0;32m---> 72\u001b[0m             M[ordering[i], ordering[j]] \u001b[39m=\u001b[39m exp_triangle_integration(\u001b[39mlambda\u001b[39;00m x,y: q_funcs[i]\u001b[39m.\u001b[39mT \u001b[39m@\u001b[39m K_local(x,y) \u001b[39m@\u001b[39m q_funcs[j], quad_order, x0, x1, x2, m)\n\u001b[1;32m     74\u001b[0m \u001b[39mreturn\u001b[39;00m M\n",
      "File \u001b[0;32m/workspaces/richards/utilities/triangle_integration.py:22\u001b[0m, in \u001b[0;36mexp_triangle_integration\u001b[0;34m(func, quad_order, x0, x1, x2, m)\u001b[0m\n\u001b[1;32m     18\u001b[0m integrand \u001b[39m=\u001b[39m \u001b[39mlambda\u001b[39;00m ys,x: np\u001b[39m.\u001b[39marray([func(x,y) \u001b[39mfor\u001b[39;00m y \u001b[39min\u001b[39;00m np\u001b[39m.\u001b[39marray(ys)])\n\u001b[1;32m     19\u001b[0m inside \u001b[39m=\u001b[39m \u001b[39mlambda\u001b[39;00m xs, n: np\u001b[39m.\u001b[39marray([integrate\u001b[39m.\u001b[39mfixed_quad(integrand, \n\u001b[1;32m     20\u001b[0m                                                       x2[\u001b[39m1\u001b[39m], \n\u001b[1;32m     21\u001b[0m                                                       x2[\u001b[39m1\u001b[39m] \u001b[39m+\u001b[39m (x1[\u001b[39m1\u001b[39m] \u001b[39m-\u001b[39m x2[\u001b[39m1\u001b[39m]) \u001b[39m/\u001b[39m (x1[\u001b[39m0\u001b[39m] \u001b[39m-\u001b[39m x2[\u001b[39m0\u001b[39m]) \u001b[39m*\u001b[39m (x \u001b[39m-\u001b[39m x2[\u001b[39m0\u001b[39m]), args\u001b[39m=\u001b[39m(x,), n\u001b[39m=\u001b[39mn)[\u001b[39m0\u001b[39m] \u001b[39mfor\u001b[39;00m x \u001b[39min\u001b[39;00m np\u001b[39m.\u001b[39marray(xs)])\n\u001b[0;32m---> 22\u001b[0m \u001b[39mreturn\u001b[39;00m integrate\u001b[39m.\u001b[39mfixed_quad(inside, x2[\u001b[39m0\u001b[39m], x0[\u001b[39m0\u001b[39m], n\u001b[39m=\u001b[39mquad_order, args\u001b[39m=\u001b[39m(quad_order,))[\u001b[39m0\u001b[39m]\n",
      "File \u001b[0;32m/opt/conda/lib/python3.11/site-packages/scipy/integrate/_quadrature.py:155\u001b[0m, in \u001b[0;36mfixed_quad\u001b[0;34m(func, a, b, args, n)\u001b[0m\n\u001b[1;32m    152\u001b[0m     \u001b[39mraise\u001b[39;00m \u001b[39mValueError\u001b[39;00m(\u001b[39m\"\u001b[39m\u001b[39mGaussian quadrature is only available for \u001b[39m\u001b[39m\"\u001b[39m\n\u001b[1;32m    153\u001b[0m                      \u001b[39m\"\u001b[39m\u001b[39mfinite limits.\u001b[39m\u001b[39m\"\u001b[39m)\n\u001b[1;32m    154\u001b[0m y \u001b[39m=\u001b[39m (b\u001b[39m-\u001b[39ma)\u001b[39m*\u001b[39m(x\u001b[39m+\u001b[39m\u001b[39m1\u001b[39m)\u001b[39m/\u001b[39m\u001b[39m2.0\u001b[39m \u001b[39m+\u001b[39m a\n\u001b[0;32m--> 155\u001b[0m \u001b[39mreturn\u001b[39;00m (b\u001b[39m-\u001b[39ma)\u001b[39m/\u001b[39m\u001b[39m2.0\u001b[39m \u001b[39m*\u001b[39m np\u001b[39m.\u001b[39msum(w\u001b[39m*\u001b[39mfunc(y, \u001b[39m*\u001b[39margs), axis\u001b[39m=\u001b[39m\u001b[39m-\u001b[39m\u001b[39m1\u001b[39m), \u001b[39mNone\u001b[39;00m\n",
      "File \u001b[0;32m/workspaces/richards/utilities/triangle_integration.py:19\u001b[0m, in \u001b[0;36mexp_triangle_integration.<locals>.<lambda>\u001b[0;34m(xs, n)\u001b[0m\n\u001b[1;32m     17\u001b[0m \u001b[39melse\u001b[39;00m:\n\u001b[1;32m     18\u001b[0m     integrand \u001b[39m=\u001b[39m \u001b[39mlambda\u001b[39;00m ys,x: np\u001b[39m.\u001b[39marray([func(x,y) \u001b[39mfor\u001b[39;00m y \u001b[39min\u001b[39;00m np\u001b[39m.\u001b[39marray(ys)])\n\u001b[0;32m---> 19\u001b[0m     inside \u001b[39m=\u001b[39m \u001b[39mlambda\u001b[39;00m xs, n: np\u001b[39m.\u001b[39marray([integrate\u001b[39m.\u001b[39mfixed_quad(integrand, \n\u001b[1;32m     20\u001b[0m                                                           x2[\u001b[39m1\u001b[39m], \n\u001b[1;32m     21\u001b[0m                                                           x2[\u001b[39m1\u001b[39m] \u001b[39m+\u001b[39m (x1[\u001b[39m1\u001b[39m] \u001b[39m-\u001b[39m x2[\u001b[39m1\u001b[39m]) \u001b[39m/\u001b[39m (x1[\u001b[39m0\u001b[39m] \u001b[39m-\u001b[39m x2[\u001b[39m0\u001b[39m]) \u001b[39m*\u001b[39m (x \u001b[39m-\u001b[39m x2[\u001b[39m0\u001b[39m]), args\u001b[39m=\u001b[39m(x,), n\u001b[39m=\u001b[39mn)[\u001b[39m0\u001b[39m] \u001b[39mfor\u001b[39;00m x \u001b[39min\u001b[39;00m np\u001b[39m.\u001b[39marray(xs)])\n\u001b[1;32m     22\u001b[0m     \u001b[39mreturn\u001b[39;00m integrate\u001b[39m.\u001b[39mfixed_quad(inside, x2[\u001b[39m0\u001b[39m], x0[\u001b[39m0\u001b[39m], n\u001b[39m=\u001b[39mquad_order, args\u001b[39m=\u001b[39m(quad_order,))[\u001b[39m0\u001b[39m]\n",
      "File \u001b[0;32m/workspaces/richards/utilities/triangle_integration.py:19\u001b[0m, in \u001b[0;36m<listcomp>\u001b[0;34m(.0)\u001b[0m\n\u001b[1;32m     17\u001b[0m \u001b[39melse\u001b[39;00m:\n\u001b[1;32m     18\u001b[0m     integrand \u001b[39m=\u001b[39m \u001b[39mlambda\u001b[39;00m ys,x: np\u001b[39m.\u001b[39marray([func(x,y) \u001b[39mfor\u001b[39;00m y \u001b[39min\u001b[39;00m np\u001b[39m.\u001b[39marray(ys)])\n\u001b[0;32m---> 19\u001b[0m     inside \u001b[39m=\u001b[39m \u001b[39mlambda\u001b[39;00m xs, n: np\u001b[39m.\u001b[39marray([integrate\u001b[39m.\u001b[39mfixed_quad(integrand, \n\u001b[1;32m     20\u001b[0m                                                           x2[\u001b[39m1\u001b[39m], \n\u001b[1;32m     21\u001b[0m                                                           x2[\u001b[39m1\u001b[39m] \u001b[39m+\u001b[39m (x1[\u001b[39m1\u001b[39m] \u001b[39m-\u001b[39m x2[\u001b[39m1\u001b[39m]) \u001b[39m/\u001b[39m (x1[\u001b[39m0\u001b[39m] \u001b[39m-\u001b[39m x2[\u001b[39m0\u001b[39m]) \u001b[39m*\u001b[39m (x \u001b[39m-\u001b[39m x2[\u001b[39m0\u001b[39m]), args\u001b[39m=\u001b[39m(x,), n\u001b[39m=\u001b[39mn)[\u001b[39m0\u001b[39m] \u001b[39mfor\u001b[39;00m x \u001b[39min\u001b[39;00m np\u001b[39m.\u001b[39marray(xs)])\n\u001b[1;32m     22\u001b[0m     \u001b[39mreturn\u001b[39;00m integrate\u001b[39m.\u001b[39mfixed_quad(inside, x2[\u001b[39m0\u001b[39m], x0[\u001b[39m0\u001b[39m], n\u001b[39m=\u001b[39mquad_order, args\u001b[39m=\u001b[39m(quad_order,))[\u001b[39m0\u001b[39m]\n",
      "File \u001b[0;32m/opt/conda/lib/python3.11/site-packages/scipy/integrate/_quadrature.py:155\u001b[0m, in \u001b[0;36mfixed_quad\u001b[0;34m(func, a, b, args, n)\u001b[0m\n\u001b[1;32m    152\u001b[0m     \u001b[39mraise\u001b[39;00m \u001b[39mValueError\u001b[39;00m(\u001b[39m\"\u001b[39m\u001b[39mGaussian quadrature is only available for \u001b[39m\u001b[39m\"\u001b[39m\n\u001b[1;32m    153\u001b[0m                      \u001b[39m\"\u001b[39m\u001b[39mfinite limits.\u001b[39m\u001b[39m\"\u001b[39m)\n\u001b[1;32m    154\u001b[0m y \u001b[39m=\u001b[39m (b\u001b[39m-\u001b[39ma)\u001b[39m*\u001b[39m(x\u001b[39m+\u001b[39m\u001b[39m1\u001b[39m)\u001b[39m/\u001b[39m\u001b[39m2.0\u001b[39m \u001b[39m+\u001b[39m a\n\u001b[0;32m--> 155\u001b[0m \u001b[39mreturn\u001b[39;00m (b\u001b[39m-\u001b[39ma)\u001b[39m/\u001b[39m\u001b[39m2.0\u001b[39m \u001b[39m*\u001b[39m np\u001b[39m.\u001b[39msum(w\u001b[39m*\u001b[39mfunc(y, \u001b[39m*\u001b[39margs), axis\u001b[39m=\u001b[39m\u001b[39m-\u001b[39m\u001b[39m1\u001b[39m), \u001b[39mNone\u001b[39;00m\n",
      "File \u001b[0;32m/workspaces/richards/utilities/triangle_integration.py:18\u001b[0m, in \u001b[0;36mexp_triangle_integration.<locals>.<lambda>\u001b[0;34m(ys, x)\u001b[0m\n\u001b[1;32m     16\u001b[0m     \u001b[39mreturn\u001b[39;00m integrate\u001b[39m.\u001b[39mfixed_quad(inside, x0[\u001b[39m0\u001b[39m], x2[\u001b[39m0\u001b[39m], n\u001b[39m=\u001b[39mquad_order, args\u001b[39m=\u001b[39m(quad_order,))[\u001b[39m0\u001b[39m]\n\u001b[1;32m     17\u001b[0m \u001b[39melse\u001b[39;00m:\n\u001b[0;32m---> 18\u001b[0m     integrand \u001b[39m=\u001b[39m \u001b[39mlambda\u001b[39;00m ys,x: np\u001b[39m.\u001b[39marray([func(x,y) \u001b[39mfor\u001b[39;00m y \u001b[39min\u001b[39;00m np\u001b[39m.\u001b[39marray(ys)])\n\u001b[1;32m     19\u001b[0m     inside \u001b[39m=\u001b[39m \u001b[39mlambda\u001b[39;00m xs, n: np\u001b[39m.\u001b[39marray([integrate\u001b[39m.\u001b[39mfixed_quad(integrand, \n\u001b[1;32m     20\u001b[0m                                                           x2[\u001b[39m1\u001b[39m], \n\u001b[1;32m     21\u001b[0m                                                           x2[\u001b[39m1\u001b[39m] \u001b[39m+\u001b[39m (x1[\u001b[39m1\u001b[39m] \u001b[39m-\u001b[39m x2[\u001b[39m1\u001b[39m]) \u001b[39m/\u001b[39m (x1[\u001b[39m0\u001b[39m] \u001b[39m-\u001b[39m x2[\u001b[39m0\u001b[39m]) \u001b[39m*\u001b[39m (x \u001b[39m-\u001b[39m x2[\u001b[39m0\u001b[39m]), args\u001b[39m=\u001b[39m(x,), n\u001b[39m=\u001b[39mn)[\u001b[39m0\u001b[39m] \u001b[39mfor\u001b[39;00m x \u001b[39min\u001b[39;00m np\u001b[39m.\u001b[39marray(xs)])\n\u001b[1;32m     22\u001b[0m     \u001b[39mreturn\u001b[39;00m integrate\u001b[39m.\u001b[39mfixed_quad(inside, x2[\u001b[39m0\u001b[39m], x0[\u001b[39m0\u001b[39m], n\u001b[39m=\u001b[39mquad_order, args\u001b[39m=\u001b[39m(quad_order,))[\u001b[39m0\u001b[39m]\n",
      "File \u001b[0;32m/workspaces/richards/utilities/triangle_integration.py:18\u001b[0m, in \u001b[0;36m<listcomp>\u001b[0;34m(.0)\u001b[0m\n\u001b[1;32m     16\u001b[0m     \u001b[39mreturn\u001b[39;00m integrate\u001b[39m.\u001b[39mfixed_quad(inside, x0[\u001b[39m0\u001b[39m], x2[\u001b[39m0\u001b[39m], n\u001b[39m=\u001b[39mquad_order, args\u001b[39m=\u001b[39m(quad_order,))[\u001b[39m0\u001b[39m]\n\u001b[1;32m     17\u001b[0m \u001b[39melse\u001b[39;00m:\n\u001b[0;32m---> 18\u001b[0m     integrand \u001b[39m=\u001b[39m \u001b[39mlambda\u001b[39;00m ys,x: np\u001b[39m.\u001b[39marray([func(x,y) \u001b[39mfor\u001b[39;00m y \u001b[39min\u001b[39;00m np\u001b[39m.\u001b[39marray(ys)])\n\u001b[1;32m     19\u001b[0m     inside \u001b[39m=\u001b[39m \u001b[39mlambda\u001b[39;00m xs, n: np\u001b[39m.\u001b[39marray([integrate\u001b[39m.\u001b[39mfixed_quad(integrand, \n\u001b[1;32m     20\u001b[0m                                                           x2[\u001b[39m1\u001b[39m], \n\u001b[1;32m     21\u001b[0m                                                           x2[\u001b[39m1\u001b[39m] \u001b[39m+\u001b[39m (x1[\u001b[39m1\u001b[39m] \u001b[39m-\u001b[39m x2[\u001b[39m1\u001b[39m]) \u001b[39m/\u001b[39m (x1[\u001b[39m0\u001b[39m] \u001b[39m-\u001b[39m x2[\u001b[39m0\u001b[39m]) \u001b[39m*\u001b[39m (x \u001b[39m-\u001b[39m x2[\u001b[39m0\u001b[39m]), args\u001b[39m=\u001b[39m(x,), n\u001b[39m=\u001b[39mn)[\u001b[39m0\u001b[39m] \u001b[39mfor\u001b[39;00m x \u001b[39min\u001b[39;00m np\u001b[39m.\u001b[39marray(xs)])\n\u001b[1;32m     22\u001b[0m     \u001b[39mreturn\u001b[39;00m integrate\u001b[39m.\u001b[39mfixed_quad(inside, x2[\u001b[39m0\u001b[39m], x0[\u001b[39m0\u001b[39m], n\u001b[39m=\u001b[39mquad_order, args\u001b[39m=\u001b[39m(quad_order,))[\u001b[39m0\u001b[39m]\n",
      "File \u001b[0;32m/workspaces/richards/utilities/assembly_utilities.py:72\u001b[0m, in \u001b[0;36mexperimental_local_A.<locals>.<lambda>\u001b[0;34m(x, y)\u001b[0m\n\u001b[1;32m     70\u001b[0m \u001b[39mfor\u001b[39;00m i \u001b[39min\u001b[39;00m \u001b[39mrange\u001b[39m(\u001b[39m3\u001b[39m):\n\u001b[1;32m     71\u001b[0m         \u001b[39mfor\u001b[39;00m j \u001b[39min\u001b[39;00m \u001b[39mrange\u001b[39m(\u001b[39m3\u001b[39m):\n\u001b[0;32m---> 72\u001b[0m             M[ordering[i], ordering[j]] \u001b[39m=\u001b[39m exp_triangle_integration(\u001b[39mlambda\u001b[39;00m x,y: q_funcs[i]\u001b[39m.\u001b[39mT \u001b[39m@\u001b[39m K_local(x,y) \u001b[39m@\u001b[39m q_funcs[j], quad_order, x0, x1, x2, m)\n\u001b[1;32m     74\u001b[0m \u001b[39mreturn\u001b[39;00m M\n",
      "File \u001b[0;32m/workspaces/richards/utilities/moving_richards/stifness_matrix.py:137\u001b[0m, in \u001b[0;36mexp_stifness.<locals>.<lambda>\u001b[0;34m(x, y)\u001b[0m\n\u001b[1;32m    130\u001b[0m ordered_coord \u001b[39m=\u001b[39m coord_loc[:, ordering]\n\u001b[1;32m    132\u001b[0m h_func \u001b[39m=\u001b[39m \u001b[39mlambda\u001b[39;00m x,y: h_local[\u001b[39m0\u001b[39m] \u001b[39m+\u001b[39m (h_local[\u001b[39m2\u001b[39m] \u001b[39m-\u001b[39m h_local[\u001b[39m0\u001b[39m]) \u001b[39m*\u001b[39m (x \u001b[39m-\u001b[39m ordered_coord[\u001b[39m0\u001b[39m,\u001b[39m0\u001b[39m]) \u001b[39m/\u001b[39m (ordered_coord[\u001b[39m0\u001b[39m,\u001b[39m2\u001b[39m] \u001b[39m-\u001b[39m ordered_coord[\u001b[39m0\u001b[39m,\u001b[39m0\u001b[39m]) \u001b[39m+\u001b[39m (h_local[\u001b[39m1\u001b[39m] \u001b[39m-\u001b[39m h_local[\u001b[39m0\u001b[39m]) \u001b[39m*\u001b[39m (y \u001b[39m-\u001b[39m ordered_coord[\u001b[39m1\u001b[39m,\u001b[39m0\u001b[39m]) \u001b[39m/\u001b[39m (ordered_coord[\u001b[39m1\u001b[39m,\u001b[39m1\u001b[39m] \u001b[39m-\u001b[39m ordered_coord[\u001b[39m1\u001b[39m,\u001b[39m0\u001b[39m])\n\u001b[1;32m    134\u001b[0m K_loc \u001b[39m=\u001b[39m \u001b[39mlambda\u001b[39;00m x,y: quick_K_func_eval( chi_x3(eta(x), y), \n\u001b[1;32m    135\u001b[0m                                        chi_eta(eta(x), y), \n\u001b[1;32m    136\u001b[0m                                        grad_eta[eta_cell], \n\u001b[0;32m--> 137\u001b[0m                                        conductivity_func(h_func(x,y), eta(x), y))\n\u001b[1;32m    139\u001b[0m A \u001b[39m=\u001b[39m experimental_local_A(coord_loc, K_loc, quad_order, m)\n\u001b[1;32m    141\u001b[0m \u001b[39m# Save values for stiff-H1 local matrix in the global structure\u001b[39;00m\n",
      "\u001b[1;32m/workspaces/richards/tests/primal_test/Moving Richards/primal.ipynb Cell 62\u001b[0m line \u001b[0;36m2\n\u001b[1;32m      <a href='vscode-notebook-cell://dev-container%2B7b22686f737450617468223a22653a5c5c56697375616c2053747564696f20436f64655c5c7269636861726473222c226c6f63616c446f636b6572223a66616c73652c22636f6e66696746696c65223a7b22246d6964223a312c22667350617468223a22653a5c5c56697375616c2053747564696f20436f64655c5c72696368617264735c5c2e646576636f6e7461696e65725c5c646576636f6e7461696e65722e6a736f6e222c225f736570223a312c2265787465726e616c223a2266696c653a2f2f2f652533412f56697375616c25323053747564696f253230436f64652f72696368617264732f2e646576636f6e7461696e65722f646576636f6e7461696e65722e6a736f6e222c2270617468223a222f653a2f56697375616c2053747564696f20436f64652f72696368617264732f2e646576636f6e7461696e65722f646576636f6e7461696e65722e6a736f6e222c22736368656d65223a2266696c65227d7d/workspaces/richards/tests/primal_test/Moving%20Richards/primal.ipynb#Y115sdnNjb2RlLXJlbW90ZQ%3D%3D?line=0'>1</a>\u001b[0m \u001b[39mdef\u001b[39;00m \u001b[39mconductivity\u001b[39m(h, eta, x3):\n\u001b[0;32m----> <a href='vscode-notebook-cell://dev-container%2B7b22686f737450617468223a22653a5c5c56697375616c2053747564696f20436f64655c5c7269636861726473222c226c6f63616c446f636b6572223a66616c73652c22636f6e66696746696c65223a7b22246d6964223a312c22667350617468223a22653a5c5c56697375616c2053747564696f20436f64655c5c72696368617264735c5c2e646576636f6e7461696e65725c5c646576636f6e7461696e65722e6a736f6e222c225f736570223a312c2265787465726e616c223a2266696c653a2f2f2f652533412f56697375616c25323053747564696f253230436f64652f72696368617264732f2e646576636f6e7461696e65722f646576636f6e7461696e65722e6a736f6e222c2270617468223a222f653a2f56697375616c2053747564696f20436f64652f72696368617264732f2e646576636f6e7461696e65722f646576636f6e7461696e65722e6a736f6e222c22736368656d65223a2266696c65227d7d/workspaces/richards/tests/primal_test/Moving%20Richards/primal.ipynb#Y115sdnNjb2RlLXJlbW90ZQ%3D%3D?line=1'>2</a>\u001b[0m     \u001b[39mreturn\u001b[39;00m conductivity_lambda(h, eta, x3)\n",
      "File \u001b[0;32m<lambdifygenerated-5>:2\u001b[0m, in \u001b[0;36m_lambdifygenerated\u001b[0;34m(h, eta, x3)\u001b[0m\n\u001b[1;32m      1\u001b[0m \u001b[39mdef\u001b[39;00m \u001b[39m_lambdifygenerated\u001b[39m(h, eta, x3):\n\u001b[0;32m----> 2\u001b[0m     \u001b[39mreturn\u001b[39;00m select([less(h, eta \u001b[39m+\u001b[39m x3\u001b[39m*\u001b[39m(\u001b[39m2\u001b[39m \u001b[39m-\u001b[39m eta)),\u001b[39mTrue\u001b[39;00m], [\u001b[39m0.0496\u001b[39m\u001b[39m*\u001b[39m(\u001b[39m1\u001b[39m \u001b[39m-\u001b[39m (\u001b[39m1\u001b[39m \u001b[39m-\u001b[39m \u001b[39m1.0\u001b[39m\u001b[39m*\u001b[39m(\u001b[39m0.1699265174169\u001b[39m\u001b[39m*\u001b[39m(eta \u001b[39m-\u001b[39m h \u001b[39m+\u001b[39m x3\u001b[39m*\u001b[39m(\u001b[39m2\u001b[39m \u001b[39m-\u001b[39m eta))\u001b[39m*\u001b[39m\u001b[39m*\u001b[39m\u001b[39m2.06\u001b[39m \u001b[39m+\u001b[39m \u001b[39m1\u001b[39m)\u001b[39m*\u001b[39m\u001b[39m*\u001b[39m(\u001b[39m-\u001b[39m\u001b[39m1.0\u001b[39m))\u001b[39m*\u001b[39m\u001b[39m*\u001b[39m\u001b[39m0.514563106796116\u001b[39m)\u001b[39m*\u001b[39m\u001b[39m*\u001b[39m\u001b[39m2\u001b[39m\u001b[39m*\u001b[39m(\u001b[39m0.1699265174169\u001b[39m\u001b[39m*\u001b[39m(eta \u001b[39m-\u001b[39m h \u001b[39m+\u001b[39m x3\u001b[39m*\u001b[39m(\u001b[39m2\u001b[39m \u001b[39m-\u001b[39m eta))\u001b[39m*\u001b[39m\u001b[39m*\u001b[39m\u001b[39m2.06\u001b[39m \u001b[39m+\u001b[39m \u001b[39m1\u001b[39m)\u001b[39m*\u001b[39m\u001b[39m*\u001b[39m(\u001b[39m-\u001b[39m\u001b[39m0.257281553398058\u001b[39m),\u001b[39m0.0496\u001b[39m], default\u001b[39m=\u001b[39mnan)\n",
      "File \u001b[0;32m<__array_function__ internals>:200\u001b[0m, in \u001b[0;36mselect\u001b[0;34m(*args, **kwargs)\u001b[0m\n",
      "File \u001b[0;32m/opt/conda/lib/python3.11/site-packages/numpy/lib/function_base.py:839\u001b[0m, in \u001b[0;36mselect\u001b[0;34m(condlist, choicelist, default)\u001b[0m\n\u001b[1;32m    834\u001b[0m     \u001b[39mraise\u001b[39;00m \u001b[39mTypeError\u001b[39;00m(msg) \u001b[39mfrom\u001b[39;00m \u001b[39mNone\u001b[39;00m\n\u001b[1;32m    836\u001b[0m \u001b[39m# Convert conditions to arrays and broadcast conditions and choices\u001b[39;00m\n\u001b[1;32m    837\u001b[0m \u001b[39m# as the shape is needed for the result. Doing it separately optimizes\u001b[39;00m\n\u001b[1;32m    838\u001b[0m \u001b[39m# for example when all choices are scalars.\u001b[39;00m\n\u001b[0;32m--> 839\u001b[0m condlist \u001b[39m=\u001b[39m np\u001b[39m.\u001b[39mbroadcast_arrays(\u001b[39m*\u001b[39mcondlist)\n\u001b[1;32m    840\u001b[0m choicelist \u001b[39m=\u001b[39m np\u001b[39m.\u001b[39mbroadcast_arrays(\u001b[39m*\u001b[39mchoicelist)\n\u001b[1;32m    842\u001b[0m \u001b[39m# If cond array is not an ndarray in boolean format or scalar bool, abort.\u001b[39;00m\n",
      "File \u001b[0;32m<__array_function__ internals>:200\u001b[0m, in \u001b[0;36mbroadcast_arrays\u001b[0;34m(*args, **kwargs)\u001b[0m\n",
      "File \u001b[0;32m/opt/conda/lib/python3.11/site-packages/numpy/lib/stride_tricks.py:538\u001b[0m, in \u001b[0;36mbroadcast_arrays\u001b[0;34m(subok, *args)\u001b[0m\n\u001b[1;32m    482\u001b[0m \u001b[39m\u001b[39m\u001b[39m\"\"\"\u001b[39;00m\n\u001b[1;32m    483\u001b[0m \u001b[39mBroadcast any number of arrays against each other.\u001b[39;00m\n\u001b[1;32m    484\u001b[0m \n\u001b[0;32m   (...)\u001b[0m\n\u001b[1;32m    531\u001b[0m \n\u001b[1;32m    532\u001b[0m \u001b[39m\"\"\"\u001b[39;00m\n\u001b[1;32m    533\u001b[0m \u001b[39m# nditer is not used here to avoid the limit of 32 arrays.\u001b[39;00m\n\u001b[1;32m    534\u001b[0m \u001b[39m# Otherwise, something like the following one-liner would suffice:\u001b[39;00m\n\u001b[1;32m    535\u001b[0m \u001b[39m# return np.nditer(args, flags=['multi_index', 'zerosize_ok'],\u001b[39;00m\n\u001b[1;32m    536\u001b[0m \u001b[39m#                  order='C').itviews\u001b[39;00m\n\u001b[0;32m--> 538\u001b[0m args \u001b[39m=\u001b[39m [np\u001b[39m.\u001b[39marray(_m, copy\u001b[39m=\u001b[39m\u001b[39mFalse\u001b[39;00m, subok\u001b[39m=\u001b[39msubok) \u001b[39mfor\u001b[39;00m _m \u001b[39min\u001b[39;00m args]\n\u001b[1;32m    540\u001b[0m shape \u001b[39m=\u001b[39m _broadcast_shape(\u001b[39m*\u001b[39margs)\n\u001b[1;32m    542\u001b[0m \u001b[39mif\u001b[39;00m \u001b[39mall\u001b[39m(array\u001b[39m.\u001b[39mshape \u001b[39m==\u001b[39m shape \u001b[39mfor\u001b[39;00m array \u001b[39min\u001b[39;00m args):\n\u001b[1;32m    543\u001b[0m     \u001b[39m# Common case where nothing needs to be broadcasted.\u001b[39;00m\n",
      "File \u001b[0;32m/opt/conda/lib/python3.11/site-packages/numpy/lib/stride_tricks.py:538\u001b[0m, in \u001b[0;36m<listcomp>\u001b[0;34m(.0)\u001b[0m\n\u001b[1;32m    482\u001b[0m \u001b[39m\u001b[39m\u001b[39m\"\"\"\u001b[39;00m\n\u001b[1;32m    483\u001b[0m \u001b[39mBroadcast any number of arrays against each other.\u001b[39;00m\n\u001b[1;32m    484\u001b[0m \n\u001b[0;32m   (...)\u001b[0m\n\u001b[1;32m    531\u001b[0m \n\u001b[1;32m    532\u001b[0m \u001b[39m\"\"\"\u001b[39;00m\n\u001b[1;32m    533\u001b[0m \u001b[39m# nditer is not used here to avoid the limit of 32 arrays.\u001b[39;00m\n\u001b[1;32m    534\u001b[0m \u001b[39m# Otherwise, something like the following one-liner would suffice:\u001b[39;00m\n\u001b[1;32m    535\u001b[0m \u001b[39m# return np.nditer(args, flags=['multi_index', 'zerosize_ok'],\u001b[39;00m\n\u001b[1;32m    536\u001b[0m \u001b[39m#                  order='C').itviews\u001b[39;00m\n\u001b[0;32m--> 538\u001b[0m args \u001b[39m=\u001b[39m [np\u001b[39m.\u001b[39marray(_m, copy\u001b[39m=\u001b[39m\u001b[39mFalse\u001b[39;00m, subok\u001b[39m=\u001b[39msubok) \u001b[39mfor\u001b[39;00m _m \u001b[39min\u001b[39;00m args]\n\u001b[1;32m    540\u001b[0m shape \u001b[39m=\u001b[39m _broadcast_shape(\u001b[39m*\u001b[39margs)\n\u001b[1;32m    542\u001b[0m \u001b[39mif\u001b[39;00m \u001b[39mall\u001b[39m(array\u001b[39m.\u001b[39mshape \u001b[39m==\u001b[39m shape \u001b[39mfor\u001b[39;00m array \u001b[39min\u001b[39;00m args):\n\u001b[1;32m    543\u001b[0m     \u001b[39m# Common case where nothing needs to be broadcasted.\u001b[39;00m\n",
      "\u001b[0;31mKeyboardInterrupt\u001b[0m: "
     ]
    }
   ],
   "source": [
    "# Time Loop\n",
    "for i in range(1, int(T/dt)+1):\n",
    "    print('Time ' + str(i * dt))\n",
    "    current_time = i * dt\n",
    "\n",
    "    # Prepare the solution at the previous time step and ...\n",
    "    prev = sol[-1].copy()\n",
    "\n",
    "    # Prepare the rhs\n",
    "    time_rhs = fixed_rhs.copy()\n",
    "\n",
    "    debug_saver = pp.Exporter(mdg, str(i) + '_sol', folder_name=os.path.join(output_directory, 'debug'))\n",
    "    save_step(sol[-1], debug_saver, 0)\n",
    "    \n",
    "    time_rhs -= phi / dt * upscale_to_h @ M_gamma @ sol[-1][eta_mask] #/ prev[eta_mask][0]\n",
    "    \n",
    "    # Non-linear loop\n",
    "    for k in range(max_iterations_per_step):\n",
    "        A_h = exp_stifness(eta_diff, subdomain, boundary_grid, \n",
    "                           prev[eta_mask],\n",
    "                           quad_order, chi_x3, chi_eta,\n",
    "                           prev, conductivity)\n",
    "        \n",
    "        # Assemble the saddle point problem\n",
    "        glob_mass = exp_global_mass(subdomain, boundary_grid, prev[eta_mask], quad_order, chi_x3)\n",
    "        spp = sps.csr_matrix(L * glob_mass / dt - phi / dt * upscale_to_h @ M_gamma @ upscale_to_h.T + A_h)\n",
    "\n",
    "        # Prepare the solver\n",
    "        rhs = time_rhs.copy()\n",
    "        rhs += L / dt * glob_mass @ prev\n",
    "\n",
    "        rhs += glob_mass @ (theta(sol[-1], sol[-1][eta_mask]) - theta(prev, prev[eta_mask])) / dt\n",
    "\n",
    "        #rhs += upscale_to_h @ M_gamma @ gamma_field.interpolate( boundary_grid, lambda x: infiltration(x, current_time))\n",
    "        #rhs -= neumann_cond(prev[eta_mask][0])\n",
    "\n",
    "        ls = pg.LinearSystem(spp, rhs)\n",
    "        ls.flag_ess_bc(dirichlet_flag, dirichlet_value)\n",
    "\n",
    "        current = ls.solve()\n",
    "\n",
    "        # Compute the errors (with eta). Should I consider only psi? Should I compute the error on the \"actual\" psi values or on the dofs\n",
    "        rel_err_psi  = np.sqrt( (current - prev).T @ M_h @ (current - prev) )\n",
    "        abs_err_prev = np.sqrt( prev.T @ M_h @ prev )\n",
    "\n",
    "        print('Iteration #' + format(k+1, '0' + str(ceil(log10(max_iterations_per_step)) + 1) + 'd')\n",
    "              + ', error L2 relative psi: ' + format(rel_err_psi, str(5 + ceil(log10(1 / abs_tol)) + 4)\n",
    "                                                     + '.' + str(ceil(log10(1 / abs_tol)) + 4) + 'f') )\n",
    "\n",
    "        save_step(current, debug_saver, k+1)\n",
    "        \n",
    "        if rel_err_psi < abs_tol + rel_tol * abs_err_prev:\n",
    "            break\n",
    "        else:\n",
    "            prev = None\n",
    "            prev = current.copy()\n",
    "\n",
    "    print('')\n",
    "    sol.append( current.copy() )\n",
    "    save_step(sol[-1], saver, i)\n",
    "\n",
    "    export_name = os.path.join(csv_base, str(i) + '.csv')\n",
    "\n",
    "    with open( export_name, 'w' ) as file:\n",
    "\n",
    "        file.write('x,y,h,p\\n')\n",
    "\n",
    "        et = np.tile(sol[-1][eta_mask], ceil(subdomain.num_nodes / boundary_grid.num_nodes))\n",
    "        for x,y,h,p in zip( subdomain.nodes[0, :], subdomain.nodes[1, :] * et, sol[-1], sol[-1] - subdomain.nodes[1, :] * et):\n",
    "            file.write(f'{x},{y},{h},{p}\\n')\n",
    "\n",
    "saver.write_pvd([t * dt for t in range(int(T/dt)+1)])"
   ]
  },
  {
   "cell_type": "code",
   "execution_count": null,
   "id": "beb6342a",
   "metadata": {},
   "outputs": [
    {
     "name": "stderr",
     "output_type": "stream",
     "text": [
      "The PostScript backend does not support transparency; partially transparent artists will be rendered opaque.\n"
     ]
    },
    {
     "data": {
      "image/png": "[encoded data removed]",
      "text/plain": [
       "<Figure size 500x500 with 1 Axes>"
      ]
     },
     "metadata": {},
     "output_type": "display_data"
    }
   ],
   "source": [
    "fig, ax = plt.subplots(nrows=1, ncols=1, figsize=(5, 5))\n",
    "\n",
    "\n",
    "#ax.set_ylim(0.65, 1.01)\n",
    "ax.set_xlim(0, 1)\n",
    "\n",
    "ax.plot( boundary_grid.nodes[0, :],  sol[0][eta_mask], 'o-')\n",
    "ax.plot( boundary_grid.nodes[0, :],  sol[1][eta_mask], 'o-')\n",
    "ax.plot( boundary_grid.nodes[0, :],  sol[3][eta_mask], 'o-')\n",
    "ax.plot( boundary_grid.nodes[0, :], sol[-1][eta_mask], 'o-')\n",
    "\n",
    "ax.set_xlabel('Distance from well')\n",
    "ax.set_ylabel('Water table height')\n",
    "\n",
    "ax.legend(['T=0.0', 'T=0.1', 'T=0.3', 'T=1.0'])\n",
    "\n",
    "ax.grid()\n",
    "plt.savefig('moving_darcy_original.eps', format='eps')"
   ]
  },
  {
   "cell_type": "code",
   "execution_count": null,
   "metadata": {},
   "outputs": [
    {
     "data": {
      "text/plain": [
       "array([0.99346955, 0.99303027, 0.99185554, 0.98967599, 0.98603983,\n",
       "       0.97997964, 0.9686157 , 0.9406805 , 0.85664889, 0.67286984,\n",
       "       0.5       ])"
      ]
     },
     "execution_count": 45,
     "metadata": {},
     "output_type": "execute_result"
    }
   ],
   "source": [
    "sol[3][eta_mask]"
   ]
  }
 ],
 "metadata": {
  "kernelspec": {
   "display_name": "Python 3 (ipykernel)",
   "language": "python",
   "name": "python3"
  },
  "language_info": {
   "codemirror_mode": {
    "name": "ipython",
    "version": 3
   },
   "file_extension": ".py",
   "mimetype": "text/x-python",
   "name": "python",
   "nbconvert_exporter": "python",
   "pygments_lexer": "ipython3",
   "version": "3.11.5"
  },
  "vscode": {
   "interpreter": {
    "hash": "e4cc1db98167c7fd7d55a1da8057731abc6cd6fe154328a2ae319df8aab4e24d"
   }
  }
 },
 "nbformat": 4,
 "nbformat_minor": 5
}
