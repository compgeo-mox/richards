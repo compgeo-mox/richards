{
 "cells": [
  {
   "attachments": {},
   "cell_type": "markdown",
   "id": "essential-american",
   "metadata": {},
   "source": [
    "# Darcy equation\n",
    "\n",
    "In this tutorial we present how to solve an evolutionary Darcy equation with [PyGeoN](https://github.com/compgeo-mox/pygeon).  The unkwons are the velocity $q$ and the pressure $p$.\n",
    "\n",
    "Let $\\Omega=(0,1)^2$ with boundary $\\partial \\Omega$ and outward unit normal ${\\nu}$. Let $(0,T)$ with $10=T>0$ be the overall simulation period. Given \n",
    "$k$ the matrix permeability, we want to solve the following problem: find $({q}, p)$ such that\n",
    "$$\n",
    "\\left\\{\n",
    "\\begin{array}{ll}\n",
    "\\begin{array}{l} \n",
    "k^{-1} {q} + \\nabla p = {- \\rho g \\nabla y}\\\\\n",
    "p_t + \\nabla \\cdot {q} = f\n",
    "\\end{array}\n",
    "&\\text{in } \\Omega \\times (0,T)\n",
    "\\end{array}\n",
    "\\right.\n",
    "$$\n",
    "with boundary conditions:\n",
    "$$ p = 0 \\text{ on } \\partial_{top} \\Omega \\times (0,T] \\qquad p = \\rho g \\text{ on } \\partial_{bottom} \\Omega \\times (0,T] \\qquad \\nu \\cdot q = 0 \\text{ on } \\partial_{left} \\Omega \\cup \\partial_{right} \\Omega \\times (0,T] $$\n",
    "and initial conditions:\n",
    "$$ p|_{t=0} = (1-y) \\rho g \\text{ in } \\Omega \\qquad q|_{t=0} = 0 \\text{ in } \\Omega $$\n",
    "\n",
    "We present *step-by-step* how to create the grid, declare the problem data, and finally solve the problem."
   ]
  },
  {
   "cell_type": "markdown",
   "id": "planned-danger",
   "metadata": {},
   "source": [
    "First we import some of the standard modules, like `numpy` and `scipy.sparse`. Since PyGeoN is based on [PorePy](https://github.com/pmgbergen/porepy) we import both modules."
   ]
  },
  {
   "cell_type": "code",
   "execution_count": 1,
   "id": "dietary-perth",
   "metadata": {},
   "outputs": [
    {
     "name": "stderr",
     "output_type": "stream",
     "text": [
      "/opt/conda/lib/python3.11/site-packages/porepy/numerics/nonlinear/nonlinear_solvers.py:13: TqdmExperimentalWarning: Using `tqdm.autonotebook.tqdm` in notebook mode. Use `tqdm.tqdm` instead to force console mode (e.g. in jupyter console)\n",
      "  from tqdm.autonotebook import trange  # type: ignore\n"
     ]
    }
   ],
   "source": [
    "import shutil\n",
    "import os\n",
    "\n",
    "import numpy as np\n",
    "import scipy.sparse as sps\n",
    "\n",
    "import porepy as pp\n",
    "import pygeon as pg\n",
    "\n",
    "from math import ceil"
   ]
  },
  {
   "attachments": {},
   "cell_type": "markdown",
   "id": "b085b08e",
   "metadata": {},
   "source": [
    "### Initial parameters definition"
   ]
  },
  {
   "cell_type": "code",
   "execution_count": 2,
   "id": "spectacular-saturn",
   "metadata": {},
   "outputs": [],
   "source": [
    "N = 20\n",
    "dt = 1\n",
    "\n",
    "T = 10\n",
    "\n",
    "output_directory = 'output_time'"
   ]
  },
  {
   "cell_type": "code",
   "execution_count": 3,
   "id": "36271117",
   "metadata": {},
   "outputs": [],
   "source": [
    "initial_h = lambda x: 1"
   ]
  },
  {
   "cell_type": "code",
   "execution_count": 4,
   "id": "b9713a60",
   "metadata": {},
   "outputs": [],
   "source": [
    "S_s = 0.1\n",
    "extraction_rate = 0.3"
   ]
  },
  {
   "cell_type": "code",
   "execution_count": 5,
   "id": "0e347059",
   "metadata": {},
   "outputs": [],
   "source": [
    "num_steps = ceil(T/dt)+1"
   ]
  },
  {
   "cell_type": "markdown",
   "id": "c9d68043",
   "metadata": {},
   "source": [
    "### Mesh and $V_h$"
   ]
  },
  {
   "cell_type": "code",
   "execution_count": 6,
   "id": "365807cf",
   "metadata": {},
   "outputs": [],
   "source": [
    "key = \"flow\""
   ]
  },
  {
   "cell_type": "code",
   "execution_count": 7,
   "id": "53935516",
   "metadata": {},
   "outputs": [],
   "source": [
    "subdomain = pp.StructuredTriangleGrid([N] * 2, [1] * 2)\n",
    "# convert the grid into a mixed-dimensional grid\n",
    "mdg = pp.meshing.subdomains_to_mdg([subdomain])"
   ]
  },
  {
   "cell_type": "code",
   "execution_count": 8,
   "id": "f679a8f7",
   "metadata": {},
   "outputs": [],
   "source": [
    "h_field = pg.PwConstants(key)\n",
    "q_field = pg.RT0(key)"
   ]
  },
  {
   "cell_type": "code",
   "execution_count": 9,
   "id": "8afe3603",
   "metadata": {},
   "outputs": [],
   "source": [
    "dof_p = dof_h = h_field.ndof(subdomain)\n",
    "dof_q = q_field.ndof( subdomain )"
   ]
  },
  {
   "cell_type": "markdown",
   "id": "3b22cbb0",
   "metadata": {},
   "source": [
    "### BC"
   ]
  },
  {
   "cell_type": "markdown",
   "id": "7639cc0e",
   "metadata": {},
   "source": [
    "#### Dirichlet (natural)"
   ]
  },
  {
   "cell_type": "code",
   "execution_count": 10,
   "id": "spare-person",
   "metadata": {},
   "outputs": [],
   "source": [
    "left   = subdomain.face_centers[0, :] == 0\n",
    "\n",
    "dirichlet_flag  = left\n",
    "dirichlet_value = -q_field.assemble_nat_bc( subdomain, lambda x: 1, dirichlet_flag )"
   ]
  },
  {
   "cell_type": "markdown",
   "id": "e0a7ec31",
   "metadata": {},
   "source": [
    "#### Neumann (essential)"
   ]
  },
  {
   "cell_type": "code",
   "execution_count": 11,
   "id": "e6f7f08b",
   "metadata": {},
   "outputs": [],
   "source": [
    "def assemble_bc_ess_val(t: float):\n",
    "    data = []\n",
    "    row = []\n",
    "    col = []\n",
    "\n",
    "    if t <= 10:\n",
    "\n",
    "        face, _, sign = sps.find(subdomain.cell_faces)\n",
    "\n",
    "        face_ids = np.where(subdomain.face_centers[0, :] == 1)[0]\n",
    "\n",
    "        for face_id in face_ids:\n",
    "            s = sign[ np.where(face == face_id) ][0]\n",
    "\n",
    "            row.append(face_id)\n",
    "            col.append(0)\n",
    "            data.append( s * extraction_rate / N)\n",
    "\n",
    "    return sps.coo_array( (data, (row, col)), shape=(dof_q + dof_p,1) ).todense().flatten()"
   ]
  },
  {
   "cell_type": "code",
   "execution_count": 12,
   "id": "21790e60",
   "metadata": {},
   "outputs": [],
   "source": [
    "top    = subdomain.face_centers[1, :] == 1\n",
    "right  = subdomain.face_centers[0, :] == 1\n",
    "bottom = subdomain.face_centers[1, :] == 0\n",
    "\n",
    "neumann_flag  = np.hstack((np.logical_or(top, np.logical_or(bottom, right)), np.zeros(dof_p, dtype=bool)))\n",
    "neumann_value = assemble_bc_ess_val"
   ]
  },
  {
   "cell_type": "markdown",
   "id": "3bebe214",
   "metadata": {},
   "source": [
    "### Matrix Assembly"
   ]
  },
  {
   "cell_type": "code",
   "execution_count": 13,
   "id": "romance-findings",
   "metadata": {},
   "outputs": [],
   "source": [
    "# construct the local matrices\n",
    "mass_q = q_field.assemble_mass_matrix(subdomain)\n",
    "mass_p = h_field.assemble_mass_matrix(subdomain)\n",
    "\n",
    "B = - mass_p * pg.div(mdg)"
   ]
  },
  {
   "cell_type": "code",
   "execution_count": 14,
   "id": "46887fe5",
   "metadata": {},
   "outputs": [],
   "source": [
    "proj_q = q_field.eval_at_cell_centers(subdomain)\n",
    "proj_p = h_field.eval_at_cell_centers(subdomain)"
   ]
  },
  {
   "cell_type": "markdown",
   "id": "f7df1769",
   "metadata": {},
   "source": [
    "### Solve system"
   ]
  },
  {
   "cell_type": "markdown",
   "id": "4a59c0ea",
   "metadata": {},
   "source": [
    "if os.path.exists(output_directory):\n",
    "    shutil.rmtree(output_directory)"
   ]
  },
  {
   "cell_type": "code",
   "execution_count": 15,
   "id": "3ba6d019",
   "metadata": {},
   "outputs": [],
   "source": [
    "def save_step(saver, current_sol, step):\n",
    "    ins = list()\n",
    "\n",
    "    ins.append((subdomain, \"cell_q\", ( proj_q @ current_sol[:dof_q] ).reshape((3, -1), order=\"F\")))\n",
    "    ins.append((subdomain, \"cell_p\", proj_p @ current_sol[-dof_p:]))\n",
    "\n",
    "    saver.write_vtu(ins, time_step=step)"
   ]
  },
  {
   "cell_type": "code",
   "execution_count": 16,
   "id": "45b3ca59",
   "metadata": {},
   "outputs": [],
   "source": [
    "# assemble initial solution\n",
    "initial_solution = np.zeros(dof_p + dof_q)\n",
    "initial_solution[-dof_p:] += h_field.interpolate(subdomain, initial_h)"
   ]
  },
  {
   "cell_type": "code",
   "execution_count": 17,
   "id": "subtle-wonder",
   "metadata": {},
   "outputs": [],
   "source": [
    "# solve the problem\n",
    "\n",
    "sol = [initial_solution]\n",
    "\n",
    "t = 0\n",
    "\n",
    "if os.path.exists(output_directory):\n",
    "    shutil.rmtree(output_directory)\n",
    "\n",
    "save = pp.Exporter(mdg, \"sol\", folder_name=output_directory)\n",
    "save_step(save, sol[-1], 0)"
   ]
  },
  {
   "cell_type": "code",
   "execution_count": 18,
   "id": "32be2c79",
   "metadata": {},
   "outputs": [],
   "source": [
    "# Time Loop\n",
    "for step in range(1, ceil(T/dt) + 1):\n",
    "    spp = sps.bmat([[mass_q,             B.T], \n",
    "                    [ -dt*B,    S_s * mass_p]], format=\"csc\")\n",
    "    \n",
    "    rhs = np.zeros(shape=(dof_h + dof_q))\n",
    "    rhs[:dof_q] += dirichlet_value\n",
    "    rhs[(-dof_p):] += S_s * mass_p @ sol[-1][-dof_h:]\n",
    "    \n",
    "    ls = pg.LinearSystem(spp, rhs)\n",
    "    ls.flag_ess_bc(neumann_flag, neumann_value(step * dt))\n",
    "\n",
    "    sol.append( ls.solve() )\n",
    "\n",
    "    save_step(save, sol[-1], step)\n",
    "\n",
    "save.write_pvd(np.array(range(0, ceil(T/dt) + 1)) * dt)"
   ]
  }
 ],
 "metadata": {
  "kernelspec": {
   "display_name": "Python 3.10.2 64-bit ('3.10.2')",
   "language": "python",
   "name": "python3"
  },
  "language_info": {
   "codemirror_mode": {
    "name": "ipython",
    "version": 3
   },
   "file_extension": ".py",
   "mimetype": "text/x-python",
   "name": "python",
   "nbconvert_exporter": "python",
   "pygments_lexer": "ipython3",
   "version": "3.11.5"
  },
  "vscode": {
   "interpreter": {
    "hash": "e4cc1db98167c7fd7d55a1da8057731abc6cd6fe154328a2ae319df8aab4e24d"
   }
  }
 },
 "nbformat": 4,
 "nbformat_minor": 5
}
