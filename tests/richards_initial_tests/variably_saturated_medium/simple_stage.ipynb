{
 "cells": [
  {
   "attachments": {},
   "cell_type": "markdown",
   "metadata": {},
   "source": [
    "# Richards equation\n",
    "\n",
    "In this tutorial we present how to solve a Richards equation with [PyGeoN](https://github.com/compgeo-mox/pygeon).  The unkwons are the velocity $q$ and the pressure $p$.\n",
    "\n",
    "Let $\\Omega=\\Omega_1 \\cup \\Omega_2$, with $\\Omega_1=(0,1)\\times(0, 1/4)$ and $\\Omega_2=(0,1)\\times(1/4,1)$. Given \n",
    "$k$ the matrix permeability, we want to solve the following problem: find $({q}, \\psi)$ such that\n",
    "$$\n",
    "\\left\\{\n",
    "\\begin{array}{ll}\n",
    "\\begin{array}{l} \n",
    "K^{-1}(\\psi) {q} + \\nabla \\psi = -\\nabla z\\\\\n",
    "\\partial_t \\theta (\\psi) + \\nabla \\cdot {q} = f\n",
    "\\end{array}\n",
    "&\\text{in } \\Omega \\times (0,T)\n",
    "\\end{array}\n",
    "\\right.\n",
    "$$\n",
    "with boundary conditions:\n",
    "\n",
    "$$\n",
    "\\psi(0,x,z)=\n",
    "\\left\\{\n",
    "\\begin{array}{ll}\n",
    "\\begin{array}{l} \n",
    "-z+1/4, (x,z) \\in \\Omega_1\\\\\n",
    "-3, (x,z) \\in \\Omega_2\n",
    "\\end{array}\n",
    "\\end{array}\n",
    "\\right., \n",
    "\\qquad \\nu \\cdot q = 0 \\text{ on } \\Gamma_N,\n",
    "\\qquad \\psi(t,x,z) = -4 \\text{ on } \\Gamma_D,\n",
    "\\qquad f = \n",
    "\\left\\{\n",
    "\\begin{array}{ll}\n",
    "\\begin{array}{l} \n",
    "0, (x,z) \\in \\Omega_1\\\\\n",
    "0.006 \\cos(\\frac{4}{3}\\pi (z-1)) \\sin(2\\pi x), (x,z) \\in \\Omega_2\n",
    "\\end{array}\n",
    "\\end{array}\n",
    "\\right.\n",
    "$$\n",
    "and\n",
    "$$\n",
    "\\Gamma_{D} = (0,1) \\times \\{1\\},\\\\\n",
    "\\Gamma_{N} = \\partial \\Omega \\setminus \\Gamma_D\n",
    "$$\n",
    "\n",
    "We present *step-by-step* how to create the grid, declare the problem data, and finally solve the problem."
   ]
  },
  {
   "attachments": {},
   "cell_type": "markdown",
   "metadata": {},
   "source": [
    "### Import and parameters"
   ]
  },
  {
   "cell_type": "code",
   "execution_count": 1,
   "metadata": {},
   "outputs": [
    {
     "name": "stderr",
     "output_type": "stream",
     "text": [
      "/opt/conda/lib/python3.11/site-packages/porepy/numerics/nonlinear/nonlinear_solvers.py:13: TqdmExperimentalWarning: Using `tqdm.autonotebook.tqdm` in notebook mode. Use `tqdm.tqdm` instead to force console mode (e.g. in jupyter console)\n",
      "  from tqdm.autonotebook import trange  # type: ignore\n"
     ]
    }
   ],
   "source": [
    "import shutil\n",
    "import os\n",
    "\n",
    "import numpy as np\n",
    "import scipy.sparse as sps\n",
    "from scipy.sparse import linalg\n",
    "import sympy as sp\n",
    "\n",
    "import porepy as pp\n",
    "import pygeon as pg\n",
    "\n",
    "import time\n",
    "from math import ceil, floor, log10, exp\n",
    "\n",
    "import matplotlib.pyplot as plt"
   ]
  },
  {
   "cell_type": "code",
   "execution_count": 2,
   "metadata": {},
   "outputs": [],
   "source": [
    "import sys\n",
    "sys.path.insert(0, \"/workspaces/richards/\")\n",
    "\n",
    "from richards.model_params import Model_Data\n",
    "from richards.matrix_computer import Matrix_Computer\n",
    "\n",
    "\n",
    "from richards.solver import Solver\n",
    "from richards.solver_params import Solver_Data, Solver_Enum"
   ]
  },
  {
   "cell_type": "code",
   "execution_count": 3,
   "metadata": {},
   "outputs": [],
   "source": [
    "K = 1000\n",
    "N = 40\n",
    "num_steps = 1\n",
    "\n",
    "eps_psi_abs = 1e-7\n",
    "eps_psi_rel = 0\n",
    "\n",
    "domain_tolerance = 1 / (100 * N)\n",
    "\n",
    "output_directory = 'output_evolutionary'"
   ]
  },
  {
   "cell_type": "code",
   "execution_count": 4,
   "metadata": {},
   "outputs": [],
   "source": [
    "rho = 1000\n",
    "g = pp.GRAVITY_ACCELERATION"
   ]
  },
  {
   "cell_type": "code",
   "execution_count": 5,
   "metadata": {},
   "outputs": [],
   "source": [
    "theta_r = 0.026\n",
    "theta_s = 0.42\n",
    "\n",
    "alpha = 0.95\n",
    "\n",
    "n = 2.9\n",
    "K_s = 0.12\n",
    "\n",
    "T    = 0.01"
   ]
  },
  {
   "cell_type": "code",
   "execution_count": 6,
   "metadata": {},
   "outputs": [],
   "source": [
    "h_s = 0\n",
    "theta_m = theta_s\n",
    "m = 1 - 1/n"
   ]
  },
  {
   "cell_type": "code",
   "execution_count": 7,
   "metadata": {},
   "outputs": [],
   "source": [
    "dt   = (T-0)/num_steps"
   ]
  },
  {
   "cell_type": "code",
   "execution_count": 8,
   "metadata": {},
   "outputs": [],
   "source": [
    "model_data = Model_Data(theta_r=theta_r, theta_s=theta_s, alpha=alpha, n=n, K_s=K_s, T=T, num_steps=num_steps)"
   ]
  },
  {
   "attachments": {},
   "cell_type": "markdown",
   "metadata": {},
   "source": [
    "### Domain preparation"
   ]
  },
  {
   "cell_type": "code",
   "execution_count": 9,
   "metadata": {},
   "outputs": [],
   "source": [
    "subdomain = pp.StructuredTriangleGrid([N, N], [1,1])\n",
    "# convert the grid into a mixed-dimensional grid\n",
    "mdg = pp.meshing.subdomains_to_mdg([subdomain])"
   ]
  },
  {
   "cell_type": "code",
   "execution_count": 10,
   "metadata": {},
   "outputs": [],
   "source": [
    "key = \"flow\""
   ]
  },
  {
   "cell_type": "code",
   "execution_count": 11,
   "metadata": {},
   "outputs": [],
   "source": [
    "def g_func(x,t): \n",
    "    return np.array([0, -1, -1])"
   ]
  },
  {
   "cell_type": "code",
   "execution_count": 12,
   "metadata": {},
   "outputs": [],
   "source": [
    "def initial_pressure_func(x):\n",
    "    if x[1] > 1/4 + domain_tolerance:\n",
    "        return -3+x[1]\n",
    "    else:\n",
    "        return 1/4"
   ]
  },
  {
   "cell_type": "code",
   "execution_count": 13,
   "metadata": {},
   "outputs": [],
   "source": [
    "def f(x,t):\n",
    "    res = 0\n",
    "    if x[1] > 1/4 + domain_tolerance:\n",
    "        res = 0.006*np.cos(4/3*np.pi*(x[1]-1))*np.sin(2*np.pi*x[0])\n",
    "\n",
    "    return res"
   ]
  },
  {
   "cell_type": "code",
   "execution_count": 14,
   "metadata": {},
   "outputs": [],
   "source": [
    "for subdomain, data in mdg.subdomains(return_data=True):\n",
    "    # with the following steps we identify the portions of the boundary\n",
    "    # to impose the boundary conditions\n",
    "    gamma_d  = subdomain.nodes[1, :] > 1-domain_tolerance\n",
    "    \n",
    "    bc_essential_value = -3 * np.array(gamma_d, dtype=bool)"
   ]
  },
  {
   "attachments": {},
   "cell_type": "markdown",
   "metadata": {},
   "source": [
    "### Method"
   ]
  },
  {
   "attachments": {},
   "cell_type": "markdown",
   "metadata": {},
   "source": [
    "A quick recap:\n",
    "$$\n",
    "\\left\\{\n",
    "\\begin{array}{ll}\n",
    "\\begin{array}{l} \n",
    "K^{-1}(\\psi) {q} + \\nabla \\psi = -\\nabla z\\\\\n",
    "\\partial_t \\theta (\\psi) + \\nabla \\cdot {q} = f\n",
    "\\end{array}\n",
    "&\\text{in } \\Omega \\times (0,T)\n",
    "\\end{array}\n",
    "\\right.\n",
    "$$\n",
    "becames, with the time discretization:"
   ]
  },
  {
   "attachments": {},
   "cell_type": "markdown",
   "metadata": {},
   "source": [
    "$$\n",
    "\\left\\{\n",
    "\\begin{array}{ll}\n",
    "\\begin{array}{l} \n",
    "K^{-1}(\\psi^{n+1}_k) {q^{n+1}_{k+1}} + \\nabla \\psi^{n+1}_{k+1} = -\\nabla z\\\\\n",
    "\\frac{\\partial \\theta(\\psi_k^{n+1})}{\\partial \\psi} \\frac{\\psi_{k+1}^{n+1}}{\\Delta t} + \\nabla \\cdot {q^{n+1}_{k+1}} = \\frac{\\partial \\theta(\\psi_k^{n+1})}{\\partial \\psi} \\frac{\\psi_{k}^{n+1}}{\\Delta t} + \\frac{\\theta (\\psi^{n}) - \\theta (\\psi^{n+1}_k)}{\\Delta t} + f^{n+1}\n",
    "\\end{array}\n",
    "&\\text{in } \\Omega \\times (0,T)\n",
    "\\end{array}\n",
    "\\right.\n",
    "$$"
   ]
  },
  {
   "cell_type": "code",
   "execution_count": 15,
   "metadata": {},
   "outputs": [],
   "source": [
    "if os.path.exists(output_directory):\n",
    "    shutil.rmtree(output_directory)"
   ]
  },
  {
   "cell_type": "code",
   "execution_count": 16,
   "metadata": {},
   "outputs": [],
   "source": [
    "# assemble initial solution\n",
    "cp = Matrix_Computer(mdg)"
   ]
  },
  {
   "cell_type": "code",
   "execution_count": 17,
   "metadata": {},
   "outputs": [],
   "source": [
    "solver_data = Solver_Data(mdg=mdg, initial_solution=cp.P1.interpolate(subdomain, initial_pressure_func), \n",
    "                          scheme=Solver_Enum.PICARD, \n",
    "                          bc_essential = lambda t: gamma_d,\n",
    "                          bc_essential_value= lambda t: bc_essential_value,\n",
    "                          eps_psi_abs=eps_psi_abs, eps_psi_rel=eps_psi_rel, \n",
    "                          max_iterations_per_step=K, primal=True,\n",
    "                          output_directory=output_directory, \n",
    "                          L_Scheme_value=0.2341, report_name='saturated')\n",
    "\n",
    "solver_data.set_rhs_function_h(f)"
   ]
  },
  {
   "cell_type": "code",
   "execution_count": 18,
   "metadata": {},
   "outputs": [],
   "source": [
    "solver = Solver(model_data=model_data, solver_data=solver_data)"
   ]
  },
  {
   "cell_type": "code",
   "execution_count": 19,
   "metadata": {},
   "outputs": [
    {
     "name": "stdout",
     "output_type": "stream",
     "text": [
      "Time 0.01\n"
     ]
    },
    {
     "name": "stderr",
     "output_type": "stream",
     "text": [
      "<lambdifygenerated-1>:2: RuntimeWarning: invalid value encountered in power\n",
      "  return select([less(h, z),True], [0.394*(0.861784056913403*(-h + z)**2.9 + 1)**(-0.655172413793103) + 0.026,0.42], default=nan)\n",
      "<lambdifygenerated-2>:2: RuntimeWarning: invalid value encountered in power\n",
      "  return select([less(h, z),True], [0.645131545005374*(-h + z)**1.9*(0.861784056913403*(-h + z)**2.9 + 1)**(-1.6551724137931),0], default=nan)\n"
     ]
    },
    {
     "name": "stderr",
     "output_type": "stream",
     "text": [
      "<lambdifygenerated-3>:2: RuntimeWarning: invalid value encountered in power\n",
      "  return select([less(h, z),True], [0.12*(1 - (1 - 1.0*(0.861784056913403*(-h + z)**2.9 + 1)**(-1.0))**0.655172413793103)**2*(0.861784056913403*(-h + z)**2.9 + 1)**(-0.327586206896552),0.12], default=nan)\n"
     ]
    },
    {
     "name": "stdout",
     "output_type": "stream",
     "text": [
      "Iteration #0001, error L2 relative psi:    0.63729543354\n",
      "Iteration #0002, error L2 relative psi:    0.34263592086\n",
      "Iteration #0003, error L2 relative psi:    0.07747036350\n",
      "Iteration #0004, error L2 relative psi:    0.03756743358\n",
      "Iteration #0005, error L2 relative psi:    0.03935246417\n",
      "Iteration #0006, error L2 relative psi:    0.04530597591\n",
      "Iteration #0007, error L2 relative psi:    0.05540537964\n"
     ]
    },
    {
     "ename": "KeyboardInterrupt",
     "evalue": "",
     "output_type": "error",
     "traceback": [
      "\u001b[0;31m---------------------------------------------------------------------------\u001b[0m",
      "\u001b[0;31mKeyboardInterrupt\u001b[0m                         Traceback (most recent call last)",
      "\u001b[1;32m/workspaces/richards/tests/richards_initial_tests/variably_saturated_medium/simple_stage.ipynb Cell 25\u001b[0m line \u001b[0;36m2\n\u001b[1;32m      <a href='vscode-notebook-cell://dev-container%2B7b22686f737450617468223a22653a5c5c56697375616c2053747564696f20436f64655c5c7269636861726473222c226c6f63616c446f636b6572223a66616c73652c22636f6e66696746696c65223a7b22246d6964223a312c22667350617468223a22653a5c5c56697375616c2053747564696f20436f64655c5c72696368617264735c5c2e646576636f6e7461696e65725c5c646576636f6e7461696e65722e6a736f6e222c225f736570223a312c2265787465726e616c223a2266696c653a2f2f2f652533412f56697375616c25323053747564696f253230436f64652f72696368617264732f2e646576636f6e7461696e65722f646576636f6e7461696e65722e6a736f6e222c2270617468223a222f653a2f56697375616c2053747564696f20436f64652f72696368617264732f2e646576636f6e7461696e65722f646576636f6e7461696e65722e6a736f6e222c22736368656d65223a2266696c65227d7d/workspaces/richards/tests/richards_initial_tests/variably_saturated_medium/simple_stage.ipynb#X36sdnNjb2RlLXJlbW90ZQ%3D%3D?line=0'>1</a>\u001b[0m start \u001b[39m=\u001b[39m time\u001b[39m.\u001b[39mtime()\n\u001b[0;32m----> <a href='vscode-notebook-cell://dev-container%2B7b22686f737450617468223a22653a5c5c56697375616c2053747564696f20436f64655c5c7269636861726473222c226c6f63616c446f636b6572223a66616c73652c22636f6e66696746696c65223a7b22246d6964223a312c22667350617468223a22653a5c5c56697375616c2053747564696f20436f64655c5c72696368617264735c5c2e646576636f6e7461696e65725c5c646576636f6e7461696e65722e6a736f6e222c225f736570223a312c2265787465726e616c223a2266696c653a2f2f2f652533412f56697375616c25323053747564696f253230436f64652f72696368617264732f2e646576636f6e7461696e65722f646576636f6e7461696e65722e6a736f6e222c2270617468223a222f653a2f56697375616c2053747564696f20436f64652f72696368617264732f2e646576636f6e7461696e65722f646576636f6e7461696e65722e6a736f6e222c22736368656d65223a2266696c65227d7d/workspaces/richards/tests/richards_initial_tests/variably_saturated_medium/simple_stage.ipynb#X36sdnNjb2RlLXJlbW90ZQ%3D%3D?line=1'>2</a>\u001b[0m solver\u001b[39m.\u001b[39msolve()\n\u001b[1;32m      <a href='vscode-notebook-cell://dev-container%2B7b22686f737450617468223a22653a5c5c56697375616c2053747564696f20436f64655c5c7269636861726473222c226c6f63616c446f636b6572223a66616c73652c22636f6e66696746696c65223a7b22246d6964223a312c22667350617468223a22653a5c5c56697375616c2053747564696f20436f64655c5c72696368617264735c5c2e646576636f6e7461696e65725c5c646576636f6e7461696e65722e6a736f6e222c225f736570223a312c2265787465726e616c223a2266696c653a2f2f2f652533412f56697375616c25323053747564696f253230436f64652f72696368617264732f2e646576636f6e7461696e65722f646576636f6e7461696e65722e6a736f6e222c2270617468223a222f653a2f56697375616c2053747564696f20436f64652f72696368617264732f2e646576636f6e7461696e65722f646576636f6e7461696e65722e6a736f6e222c22736368656d65223a2266696c65227d7d/workspaces/richards/tests/richards_initial_tests/variably_saturated_medium/simple_stage.ipynb#X36sdnNjb2RlLXJlbW90ZQ%3D%3D?line=2'>3</a>\u001b[0m end \u001b[39m=\u001b[39m time\u001b[39m.\u001b[39mtime()\n\u001b[1;32m      <a href='vscode-notebook-cell://dev-container%2B7b22686f737450617468223a22653a5c5c56697375616c2053747564696f20436f64655c5c7269636861726473222c226c6f63616c446f636b6572223a66616c73652c22636f6e66696746696c65223a7b22246d6964223a312c22667350617468223a22653a5c5c56697375616c2053747564696f20436f64655c5c72696368617264735c5c2e646576636f6e7461696e65725c5c646576636f6e7461696e65722e6a736f6e222c225f736570223a312c2265787465726e616c223a2266696c653a2f2f2f652533412f56697375616c25323053747564696f253230436f64652f72696368617264732f2e646576636f6e7461696e65722f646576636f6e7461696e65722e6a736f6e222c2270617468223a222f653a2f56697375616c2053747564696f20436f64652f72696368617264732f2e646576636f6e7461696e65722f646576636f6e7461696e65722e6a736f6e222c22736368656d65223a2266696c65227d7d/workspaces/richards/tests/richards_initial_tests/variably_saturated_medium/simple_stage.ipynb#X36sdnNjb2RlLXJlbW90ZQ%3D%3D?line=4'>5</a>\u001b[0m \u001b[39mprint\u001b[39m(\u001b[39m'\u001b[39m\u001b[39m'\u001b[39m)\n",
      "File \u001b[0;32m/workspaces/richards/richards/solver.py:98\u001b[0m, in \u001b[0;36mSolver.solve\u001b[0;34m(self, max_iterations_per_step_override)\u001b[0m\n\u001b[1;32m     95\u001b[0m     \u001b[39mprint\u001b[39m(\u001b[39m'\u001b[39m\u001b[39mTime \u001b[39m\u001b[39m'\u001b[39m \u001b[39m+\u001b[39m \u001b[39mstr\u001b[39m(\u001b[39mround\u001b[39m(instant, \u001b[39m5\u001b[39m)))\n\u001b[1;32m     97\u001b[0m \u001b[39mif\u001b[39;00m \u001b[39mself\u001b[39m\u001b[39m.\u001b[39msolver_data\u001b[39m.\u001b[39mstep_output_allowed:\n\u001b[0;32m---> 98\u001b[0m     sol\u001b[39m.\u001b[39mappend( method(sol[\u001b[39m-\u001b[39m\u001b[39m1\u001b[39m], instant, \u001b[39mself\u001b[39m\u001b[39m.\u001b[39msolver_data\u001b[39m.\u001b[39meps_psi_abs, \u001b[39mself\u001b[39m\u001b[39m.\u001b[39msolver_data\u001b[39m.\u001b[39meps_psi_rel, csv_exporter) )\n\u001b[1;32m     99\u001b[0m     step_exporter\u001b[39m.\u001b[39mexport(sol[\u001b[39m-\u001b[39m\u001b[39m1\u001b[39m])\n\u001b[1;32m    100\u001b[0m     \u001b[39mself\u001b[39m\u001b[39m.\u001b[39m__export_solution_csv(sol[\u001b[39m-\u001b[39m\u001b[39m1\u001b[39m], \u001b[39mstr\u001b[39m(step))\n",
      "File \u001b[0;32m/workspaces/richards/richards/solver.py:447\u001b[0m, in \u001b[0;36mSolver._modified_picard\u001b[0;34m(self, sol_n, t_n_1, abs_tol, rel_tol, exporter, id_solver)\u001b[0m\n\u001b[1;32m    445\u001b[0m \u001b[39mdef\u001b[39;00m \u001b[39m_modified_picard\u001b[39m(\u001b[39mself\u001b[39m, sol_n, t_n_1, abs_tol, rel_tol, exporter, id_solver\u001b[39m=\u001b[39m\u001b[39m0\u001b[39m):\n\u001b[1;32m    446\u001b[0m     \u001b[39mif\u001b[39;00m \u001b[39mself\u001b[39m\u001b[39m.\u001b[39msolver_data\u001b[39m.\u001b[39mprimal:\n\u001b[0;32m--> 447\u001b[0m         \u001b[39mreturn\u001b[39;00m \u001b[39mself\u001b[39m\u001b[39m.\u001b[39m_generic_step_solver(sol_n, t_n_1, abs_tol, rel_tol, exporter, \u001b[39mself\u001b[39m\u001b[39m.\u001b[39m_modified_picard_preparation, \u001b[39mself\u001b[39m\u001b[39m.\u001b[39m_primal_modified_picard_method_step, id_solver)\n\u001b[1;32m    448\u001b[0m     \u001b[39melse\u001b[39;00m:\n\u001b[1;32m    449\u001b[0m         \u001b[39mreturn\u001b[39;00m \u001b[39mself\u001b[39m\u001b[39m.\u001b[39m_generic_step_solver(sol_n, t_n_1, abs_tol, rel_tol, exporter, \u001b[39mself\u001b[39m\u001b[39m.\u001b[39m_modified_picard_preparation, \u001b[39mself\u001b[39m\u001b[39m.\u001b[39m_dual_modified_picard_method_step, id_solver)\n",
      "File \u001b[0;32m/workspaces/richards/richards/solver.py:247\u001b[0m, in \u001b[0;36mSolver._generic_step_solver\u001b[0;34m(self, sol_n, t_n_1, abs_tol, rel_tol, exporter, method_prepare, method_step, id_solver)\u001b[0m\n\u001b[1;32m    245\u001b[0m \u001b[39mfor\u001b[39;00m k \u001b[39min\u001b[39;00m \u001b[39mrange\u001b[39m(\u001b[39mself\u001b[39m\u001b[39m.\u001b[39msolver_data\u001b[39m.\u001b[39mmax_iterations_per_step):\n\u001b[1;32m    246\u001b[0m     current \u001b[39m=\u001b[39m \u001b[39mNone\u001b[39;00m\n\u001b[0;32m--> 247\u001b[0m     current \u001b[39m=\u001b[39m method_step(preparation, k, prev)\n\u001b[1;32m    249\u001b[0m     \u001b[39mif\u001b[39;00m \u001b[39mself\u001b[39m\u001b[39m.\u001b[39msolver_data\u001b[39m.\u001b[39mstep_output_allowed:\n\u001b[1;32m    250\u001b[0m         save_debug\u001b[39m.\u001b[39mexport( current )\n",
      "File \u001b[0;32m/workspaces/richards/richards/solver.py:499\u001b[0m, in \u001b[0;36mSolver._primal_modified_picard_method_step\u001b[0;34m(self, preparation, k, prev)\u001b[0m\n\u001b[1;32m    496\u001b[0m \u001b[39mdef\u001b[39;00m \u001b[39m_primal_modified_picard_method_step\u001b[39m(\u001b[39mself\u001b[39m, preparation, k, prev):\n\u001b[1;32m    497\u001b[0m     dt \u001b[39m=\u001b[39m \u001b[39mself\u001b[39m\u001b[39m.\u001b[39mmodel_data\u001b[39m.\u001b[39mdt\n\u001b[0;32m--> 499\u001b[0m     N \u001b[39m=\u001b[39m \u001b[39mself\u001b[39m\u001b[39m.\u001b[39mcomputer\u001b[39m.\u001b[39mmass_matrix_P1_dtheta(\u001b[39mself\u001b[39m\u001b[39m.\u001b[39mmodel_data, prev, \u001b[39mself\u001b[39m\u001b[39m.\u001b[39msolver_data\u001b[39m.\u001b[39mintegration_order)\n\u001b[1;32m    500\u001b[0m     rhs \u001b[39m=\u001b[39m preparation[\u001b[39m'\u001b[39m\u001b[39mfixed_rhs\u001b[39m\u001b[39m'\u001b[39m]\u001b[39m.\u001b[39mcopy()\n\u001b[1;32m    502\u001b[0m     \u001b[39m# Theta^{n+1}_k\u001b[39;00m\n",
      "File \u001b[0;32m/workspaces/richards/richards/matrix_computer.py:214\u001b[0m, in \u001b[0;36mMatrix_Computer.mass_matrix_P1_dtheta\u001b[0;34m(self, model_data, h, quad_order)\u001b[0m\n\u001b[1;32m    211\u001b[0m coord_loc \u001b[39m=\u001b[39m node_coords[:, nodes_loc]\n\u001b[1;32m    213\u001b[0m \u001b[39m# Compute the stiff-H1 local matrix\u001b[39;00m\n\u001b[0;32m--> 214\u001b[0m A \u001b[39m=\u001b[39m local_mass(model_data, coord_loc, h[nodes_loc], quad_order)\n\u001b[1;32m    216\u001b[0m \u001b[39m# Save values for stiff-H1 local matrix in the global structure\u001b[39;00m\n\u001b[1;32m    217\u001b[0m cols \u001b[39m=\u001b[39m np\u001b[39m.\u001b[39mtile(nodes_loc, (nodes_loc\u001b[39m.\u001b[39msize, \u001b[39m1\u001b[39m))\n",
      "File \u001b[0;32m/workspaces/richards/richards/matrix_computer.py:179\u001b[0m, in \u001b[0;36mMatrix_Computer.__quick_local_mass_dtheta\u001b[0;34m(self, model_data, coord, h, quad)\u001b[0m\n\u001b[1;32m    176\u001b[0m width  \u001b[39m=\u001b[39m np\u001b[39m.\u001b[39mmax(coord[\u001b[39m0\u001b[39m, :]) \u001b[39m-\u001b[39m np\u001b[39m.\u001b[39mmin(coord[\u001b[39m0\u001b[39m, :])\n\u001b[1;32m    177\u001b[0m height \u001b[39m=\u001b[39m np\u001b[39m.\u001b[39mmax(coord[\u001b[39m1\u001b[39m, :]) \u001b[39m-\u001b[39m np\u001b[39m.\u001b[39mmin(coord[\u001b[39m1\u001b[39m, :])\n\u001b[0;32m--> 179\u001b[0m \u001b[39mreturn\u001b[39;00m \u001b[39mself\u001b[39m\u001b[39m.\u001b[39mP1\u001b[39m.\u001b[39mlocal_mass(width \u001b[39m*\u001b[39m height \u001b[39m/\u001b[39m \u001b[39m2\u001b[39m, \u001b[39m2\u001b[39m) \u001b[39m*\u001b[39m model_data\u001b[39m.\u001b[39mtheta(np\u001b[39m.\u001b[39marray([np\u001b[39m.\u001b[39mmean(h)]), \n\u001b[1;32m    180\u001b[0m                                                                     np\u001b[39m.\u001b[39marray([np\u001b[39m.\u001b[39mmean(coord[\u001b[39m1\u001b[39m, :])]), \u001b[39m1\u001b[39m)[\u001b[39m0\u001b[39m]\n",
      "\u001b[0;31mKeyboardInterrupt\u001b[0m: "
     ]
    }
   ],
   "source": [
    "start = time.time()\n",
    "solver.solve()\n",
    "end = time.time()\n",
    "\n",
    "print('')\n",
    "print(end - start)"
   ]
  }
 ],
 "metadata": {
  "kernelspec": {
   "display_name": ".venv",
   "language": "python",
   "name": "python3"
  },
  "language_info": {
   "codemirror_mode": {
    "name": "ipython",
    "version": 3
   },
   "file_extension": ".py",
   "mimetype": "text/x-python",
   "name": "python",
   "nbconvert_exporter": "python",
   "pygments_lexer": "ipython3",
   "version": "3.11.5"
  },
  "orig_nbformat": 4
 },
 "nbformat": 4,
 "nbformat_minor": 2
}
