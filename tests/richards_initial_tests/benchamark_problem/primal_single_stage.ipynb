{
 "cells": [
  {
   "attachments": {},
   "cell_type": "markdown",
   "metadata": {},
   "source": [
    "# Richards equation\n",
    "\n",
    "In this tutorial we present how to solve a Richards equation with [PyGeoN](https://github.com/compgeo-mox/pygeon).  The unkwons are the velocity $q$ and the pressure $p$.\n",
    "\n",
    "Let $\\Omega=(0,2)\\times(0,3)$ with boundary $\\partial \\Omega$ and outward unit normal ${\\nu}$. Given \n",
    "$k$ the matrix permeability, we want to solve the following problem: find $({q}, h)$ such that\n",
    "$$\n",
    "\\left\\{\n",
    "\\begin{array}{ll}\n",
    "\\begin{array}{l} \n",
    "K^{-1}(h) {q} + \\nabla h = -\\nabla z\\\\\n",
    "\\partial_t \\theta (\\psi) + \\nabla \\cdot {q} = 0\n",
    "\\end{array}\n",
    "&\\text{in } \\Omega \\times (0,T)\n",
    "\\end{array}\n",
    "\\right.\n",
    "$$\n",
    "with boundary conditions:\n",
    "\n",
    "$$\n",
    "\\psi(t,x,z)=\n",
    "\\left\\{\n",
    "\\begin{array}{ll}\n",
    "\\begin{array}{l} \n",
    "-2+2.2 \\frac{t}{\\Delta t_D}, \\text{ on } \\Gamma_{D_1}, t\\leq\\Delta t_D\\\\\n",
    "0.2, \\text{ on } \\Gamma_{D_1}, t>\\Delta t_D\\\\\n",
    "1-z, \\text{ on } \\Gamma_{D_2}\n",
    "\\end{array}\n",
    "\\end{array}\n",
    "\\right., \\qquad \\nu \\cdot q = 0 \\text{ on } \\Gamma_N \\qquad \\psi(0,x,z) = 1-z \\text{ on } \\Omega$$\n",
    "and\n",
    "$$\n",
    "\\Gamma_{D_1} = \\left\\{ (x,z) \\in \\partial \\Omega \\:|\\: x \\in [0,1] \\wedge z=3  \\right\\},\\\\\n",
    "\\Gamma_{D_2} = \\left\\{ (x,z) \\in \\partial \\Omega \\:|\\: x = 2 \\wedge z \\in [0,1]  \\right\\},\\\\\n",
    "\\Gamma_{D} = \\Gamma_{D_1} \\cup \\Gamma_{D_2},\\\\\n",
    "\\Gamma_{N} = \\partial \\Omega \\setminus \\Gamma_D\n",
    "$$\n",
    "\n",
    "We present *step-by-step* how to create the grid, declare the problem data, and finally solve the problem."
   ]
  },
  {
   "attachments": {},
   "cell_type": "markdown",
   "metadata": {},
   "source": [
    "### Import and parameters"
   ]
  },
  {
   "cell_type": "code",
   "execution_count": 1,
   "metadata": {},
   "outputs": [
    {
     "name": "stderr",
     "output_type": "stream",
     "text": [
      "/opt/conda/lib/python3.11/site-packages/porepy/numerics/nonlinear/nonlinear_solvers.py:13: TqdmExperimentalWarning: Using `tqdm.autonotebook.tqdm` in notebook mode. Use `tqdm.tqdm` instead to force console mode (e.g. in jupyter console)\n",
      "  from tqdm.autonotebook import trange  # type: ignore\n"
     ]
    }
   ],
   "source": [
    "import shutil\n",
    "import os\n",
    "\n",
    "import numpy as np\n",
    "import scipy.sparse as sps\n",
    "from scipy.sparse import linalg\n",
    "import sympy as sp\n",
    "\n",
    "import porepy as pp\n",
    "import pygeon as pg\n",
    "\n",
    "import time\n",
    "from math import ceil, floor, log10, exp\n",
    "\n",
    "import matplotlib.pyplot as plt"
   ]
  },
  {
   "cell_type": "code",
   "execution_count": 2,
   "metadata": {},
   "outputs": [],
   "source": [
    "import sys\n",
    "sys.path.insert(0, \"/workspaces/richards/\")\n",
    "\n",
    "from richards.model_params import Model_Data\n",
    "from richards.matrix_computer import Matrix_Computer\n",
    "\n",
    "from richards.solver import Solver\n",
    "from richards.solver_params import Solver_Data, Solver_Enum, Norm_Error"
   ]
  },
  {
   "cell_type": "code",
   "execution_count": 3,
   "metadata": {},
   "outputs": [],
   "source": [
    "# Set the maximum number of iterations of the non-linear solver\n",
    "K = 500\n",
    "\n",
    "# L-scheme parameter\n",
    "L = 3.501e-2\n",
    "\n",
    "# Set the mesh refinment\n",
    "N = 10\n",
    "\n",
    "# Set the number of steps (excluding the initial condition)\n",
    "num_steps = 9\n",
    "\n",
    "# Simulation time length\n",
    "T = num_steps/48\n",
    "\n",
    "# Time switch conditions (for the boundary condition)\n",
    "dt_D = 1/16\n",
    "\n",
    "# Relative and absolute tolerances for the non-linear solver\n",
    "abs_tol = 1e-5\n",
    "rel_tol = 1e-5\n",
    "\n",
    "# Domain tolerance\n",
    "domain_tolerance = 1 / (10 * N)\n",
    "\n",
    "# Output directory\n",
    "output_directory = 'single_stage_primal'"
   ]
  },
  {
   "cell_type": "code",
   "execution_count": 4,
   "metadata": {},
   "outputs": [],
   "source": [
    "# Van Genuchten model parameters ( relative permeability model )\n",
    "theta_s = 0.396\n",
    "theta_r = 0.131\n",
    "\n",
    "alpha = 0.423\n",
    "\n",
    "n = 2.06\n",
    "K_s = 4.96e-2\n",
    "\n",
    "m = 1 - 1/n"
   ]
  },
  {
   "cell_type": "code",
   "execution_count": 5,
   "metadata": {},
   "outputs": [],
   "source": [
    "# Time step\n",
    "dt   = (T-0)/num_steps"
   ]
  },
  {
   "cell_type": "code",
   "execution_count": 6,
   "metadata": {},
   "outputs": [],
   "source": [
    "model_data = Model_Data(theta_r=theta_r, theta_s=theta_s, alpha=alpha, n=n, K_s=K_s, T=T, num_steps=num_steps)"
   ]
  },
  {
   "attachments": {},
   "cell_type": "markdown",
   "metadata": {},
   "source": [
    "### Domain preparation"
   ]
  },
  {
   "cell_type": "code",
   "execution_count": 7,
   "metadata": {},
   "outputs": [],
   "source": [
    "# Prepare the domain and its mesh\n",
    "subdomain = pp.StructuredTriangleGrid([2*N, 3*N], [2,3])\n",
    "pg.convert_from_pp(subdomain)\n",
    "\n",
    "# Convert it to a mixed-dimensional grid\n",
    "mdg = pg.as_mdg(subdomain)"
   ]
  },
  {
   "cell_type": "code",
   "execution_count": 8,
   "metadata": {},
   "outputs": [],
   "source": [
    "key = \"flow\"\n",
    "\n",
    "# Collection of boundary conditions\n",
    "bc_value = []\n",
    "bc_essential = []\n",
    "\n",
    "# Initial pressure\n",
    "initial_pressure = []"
   ]
  },
  {
   "cell_type": "code",
   "execution_count": 9,
   "metadata": {},
   "outputs": [],
   "source": [
    "# Initial pressure function\n",
    "def initial_pressure_func(x): \n",
    "    return 1"
   ]
  },
  {
   "cell_type": "code",
   "execution_count": 10,
   "metadata": {},
   "outputs": [],
   "source": [
    "# Fake loop to extract the grid and its data (i.e. conductivity tensor)\n",
    "subdomain, data = mdg.subdomains(return_data=True)[0]\n",
    "\n",
    "# Gamma_D1 and Gamma_D2 boundary faces\n",
    "gamma_d1 = np.logical_and(subdomain.nodes[0, :] > 0-domain_tolerance, np.logical_and(subdomain.nodes[0, :] < 1+domain_tolerance, subdomain.nodes[1, :] > 3-domain_tolerance))\n",
    "gamma_d2 = np.logical_and(subdomain.nodes[0, :] > 2-domain_tolerance, np.logical_and(subdomain.nodes[1, :] > 0-domain_tolerance, subdomain.nodes[1, :] < 1+domain_tolerance))\n",
    "\n",
    "gamma_d  = np.logical_or(gamma_d1, gamma_d2)\n",
    "bc_essential = gamma_d\n",
    "\n",
    "# Add a lambda function that generates for each time instant the (discretized) natural boundary conditions for the problem\n",
    "bc_value = lambda t: np.array(gamma_d2, dtype=float) + np.array(gamma_d1, dtype=float) * min(3.2, 1 + 2.2 * t / dt_D)"
   ]
  },
  {
   "attachments": {},
   "cell_type": "markdown",
   "metadata": {},
   "source": [
    "### Method"
   ]
  },
  {
   "attachments": {},
   "cell_type": "markdown",
   "metadata": {},
   "source": [
    "A quick recap:\n",
    "$$\n",
    "\\left\\{\n",
    "\\begin{array}{ll}\n",
    "\\begin{array}{l} \n",
    "K^{-1}(h) {q} + \\nabla h = 0\\\\\n",
    "\\partial_t \\theta (h) + \\nabla \\cdot {q} = 0\n",
    "\\end{array}\n",
    "&\\text{in } \\Omega \\times (0,T)\n",
    "\\end{array}\n",
    "\\right.\n",
    "$$\n",
    "becames, with the time discretization:"
   ]
  },
  {
   "attachments": {},
   "cell_type": "markdown",
   "metadata": {},
   "source": [
    "$$\n",
    "\\left\\{\n",
    "\\begin{array}{ll}\n",
    "\\begin{array}{l} \n",
    "K^{-1}(h^{n+1}_k) {q^{n+1}_{k+1}} + \\nabla h^{n+1}_{k+1} = -\\nabla z\\\\\n",
    "\\frac{\\partial \\theta(h_k^{n+1})}{\\partial h} \\frac{h_{k+1}^{n+1}}{\\Delta t} + \\nabla \\cdot {q^{n+1}} = \\frac{\\partial \\theta(h_k^{n+1})}{\\partial h} \\frac{h_{k}^{n+1}}{\\Delta t} + \\frac{\\theta (h^{n}) - \\theta (h^{n+1}_k)}{\\Delta t} \n",
    "\\end{array}\n",
    "&\\text{in } \\Omega \\times (0,T)\n",
    "\\end{array}\n",
    "\\right.\n",
    "$$"
   ]
  },
  {
   "cell_type": "code",
   "execution_count": 11,
   "metadata": {},
   "outputs": [],
   "source": [
    "if os.path.exists(output_directory):\n",
    "    shutil.rmtree(output_directory)"
   ]
  },
  {
   "cell_type": "code",
   "execution_count": 12,
   "metadata": {},
   "outputs": [],
   "source": [
    "# assemble initial solution\n",
    "cp = Matrix_Computer(mdg)"
   ]
  },
  {
   "cell_type": "code",
   "execution_count": 13,
   "metadata": {},
   "outputs": [],
   "source": [
    "solver_data = Solver_Data(mdg=mdg, initial_solution=cp.P1.interpolate(subdomain, initial_pressure_func), \n",
    "                          scheme=Solver_Enum.NEWTON, \n",
    "                          bc_essential=lambda t: bc_essential, bc_essential_value=bc_value,\n",
    "                          eps_psi_rel=rel_tol, eps_psi_abs=abs_tol,\n",
    "                          max_iterations_per_step=K, L_Scheme_value=L,\n",
    "                          output_directory=output_directory, report_name='primal',\n",
    "                          primal=True, integration_order=2, prepare_plots=False, \n",
    "                          step_output_allowed=True,\n",
    "                          shape_x=2*N+1, shape_y=3*N+1, norm_error=Norm_Error.EUCLIDIAN)"
   ]
  },
  {
   "cell_type": "code",
   "execution_count": 14,
   "metadata": {},
   "outputs": [],
   "source": [
    "solver = Solver(model_data=model_data, solver_data=solver_data)"
   ]
  },
  {
   "cell_type": "code",
   "execution_count": 15,
   "metadata": {},
   "outputs": [
    {
     "name": "stdout",
     "output_type": "stream",
     "text": [
      "Csv_Exporter: A file with name primal_NEWTON_richards_solver.csv is detected. I'll delete it\n",
      "Time 0.02083\n"
     ]
    },
    {
     "name": "stderr",
     "output_type": "stream",
     "text": [
      "<lambdifygenerated-1>:2: RuntimeWarning: invalid value encountered in power\n",
      "  return select([less(h, z),True], [0.265*(0.1699265174169*(-h + z)**2.06 + 1)**(-0.514563106796116) + 0.131,0.396], default=nan)\n",
      "<lambdifygenerated-3>:2: RuntimeWarning: invalid value encountered in power\n",
      "  return select([less(h, z),True], [0.00446702828985547*(1 - (1 - 1.0*(0.1699265174169*(-h + z)**2.06 + 1)**(-1.0))**0.514563106796116)**2*(-h + z)**1.06*(0.1699265174169*(-h + z)**2.06 + 1)**(-1.25728155339806) + 0.0178681131594219*(1 - (1 - 1.0*(0.1699265174169*(-h + z)**2.06 + 1)**(-1.0))**0.514563106796116)*(1 - 1.0*(0.1699265174169*(-h + z)**2.06 + 1)**(-1.0))**(-0.485436893203884)*(-h + z)**1.06*(0.1699265174169*(-h + z)**2.06 + 1)**(-2.25728155339806),0], default=nan)\n",
      "<lambdifygenerated-4>:2: RuntimeWarning: invalid value encountered in scalar power\n",
      "  return select([less(h, z),True], [0.0477323587424072*(-h + z)**1.06*(0.1699265174169*(-h + z)**2.06 + 1)**(-1.51456310679612),0], default=nan)\n",
      "<lambdifygenerated-2>:2: RuntimeWarning: invalid value encountered in scalar power\n",
      "  return select([less(h, z),True], [0.0496*(1 - (1 - 1.0*(0.1699265174169*(-h + z)**2.06 + 1)**(-1.0))**0.514563106796116)**2*(0.1699265174169*(-h + z)**2.06 + 1)**(-0.257281553398058),0.0496], default=nan)\n"
     ]
    },
    {
     "name": "stdout",
     "output_type": "stream",
     "text": [
      "Iteration #0001, relative norm of the error:    0.095819356\n",
      "Iteration #0002, relative norm of the error:    0.012325289\n",
      "Iteration #0003, relative norm of the error:    0.000456582\n",
      "Iteration #0004, relative norm of the error:    0.000003171\n",
      "\n",
      "Time 0.04167\n",
      "Iteration #0001, relative norm of the error:    0.110289686\n",
      "Iteration #0002, relative norm of the error:    0.018469827\n",
      "Iteration #0003, relative norm of the error:    0.001015298\n",
      "Iteration #0004, relative norm of the error:    0.000022434\n",
      "Iteration #0005, relative norm of the error:    0.000000572\n",
      "\n",
      "Time 0.0625\n",
      "Iteration #0001, relative norm of the error:    0.147315619\n",
      "Iteration #0002, relative norm of the error:    0.022621540\n",
      "Iteration #0003, relative norm of the error:    0.001202320\n",
      "Iteration #0004, relative norm of the error:    0.000037321\n",
      "Iteration #0005, relative norm of the error:    0.000000650\n",
      "\n",
      "Time 0.08333\n",
      "Iteration #0001, relative norm of the error:    0.074686801\n",
      "Iteration #0002, relative norm of the error:    0.005042374\n",
      "Iteration #0003, relative norm of the error:    0.000086160\n",
      "Iteration #0004, relative norm of the error:    0.000002240\n",
      "\n",
      "Time 0.10417\n",
      "Iteration #0001, relative norm of the error:    0.053865050\n",
      "Iteration #0002, relative norm of the error:    0.002322663\n",
      "Iteration #0003, relative norm of the error:    0.000042972\n",
      "Iteration #0004, relative norm of the error:    0.000001642\n",
      "\n",
      "Time 0.125\n",
      "Iteration #0001, relative norm of the error:    0.042898505\n",
      "Iteration #0002, relative norm of the error:    0.001587926\n",
      "Iteration #0003, relative norm of the error:    0.000011601\n",
      "Iteration #0004, relative norm of the error:    0.000000166\n",
      "\n",
      "Time 0.14583\n",
      "Iteration #0001, relative norm of the error:    0.036164752\n",
      "Iteration #0002, relative norm of the error:    0.001190284\n",
      "Iteration #0003, relative norm of the error:    0.000004987\n",
      "\n",
      "Time 0.16667\n",
      "Iteration #0001, relative norm of the error:    0.031490321\n",
      "Iteration #0002, relative norm of the error:    0.000953367\n",
      "Iteration #0003, relative norm of the error:    0.000007271\n",
      "\n",
      "Time 0.1875\n",
      "Iteration #0001, relative norm of the error:    0.027996133\n",
      "Iteration #0002, relative norm of the error:    0.000852020\n",
      "Iteration #0003, relative norm of the error:    0.000003416\n",
      "\n",
      "Time 0.20833\n",
      "Iteration #0001, relative norm of the error:    0.025335971\n",
      "Iteration #0002, relative norm of the error:    0.000765417\n"
     ]
    },
    {
     "ename": "KeyboardInterrupt",
     "evalue": "",
     "output_type": "error",
     "traceback": [
      "\u001b[0;31m---------------------------------------------------------------------------\u001b[0m",
      "\u001b[0;31mKeyboardInterrupt\u001b[0m                         Traceback (most recent call last)",
      "\u001b[1;32m/workspaces/richards/tests/richards_initial_tests/benchamark_problem/primal_single_stage.ipynb Cell 21\u001b[0m line \u001b[0;36m2\n\u001b[1;32m      <a href='vscode-notebook-cell://dev-container%2B7b22686f737450617468223a22653a5c5c56697375616c2053747564696f20436f64655c5c7269636861726473222c226c6f63616c446f636b6572223a66616c73652c22636f6e66696746696c65223a7b22246d6964223a312c22667350617468223a22653a5c5c56697375616c2053747564696f20436f64655c5c72696368617264735c5c2e646576636f6e7461696e65725c5c646576636f6e7461696e65722e6a736f6e222c225f736570223a312c2265787465726e616c223a2266696c653a2f2f2f652533412f56697375616c25323053747564696f253230436f64652f72696368617264732f2e646576636f6e7461696e65722f646576636f6e7461696e65722e6a736f6e222c2270617468223a222f653a2f56697375616c2053747564696f20436f64652f72696368617264732f2e646576636f6e7461696e65722f646576636f6e7461696e65722e6a736f6e222c22736368656d65223a2266696c65227d7d/workspaces/richards/tests/richards_initial_tests/benchamark_problem/primal_single_stage.ipynb#X26sdnNjb2RlLXJlbW90ZQ%3D%3D?line=0'>1</a>\u001b[0m start \u001b[39m=\u001b[39m time\u001b[39m.\u001b[39mtime()\n\u001b[0;32m----> <a href='vscode-notebook-cell://dev-container%2B7b22686f737450617468223a22653a5c5c56697375616c2053747564696f20436f64655c5c7269636861726473222c226c6f63616c446f636b6572223a66616c73652c22636f6e66696746696c65223a7b22246d6964223a312c22667350617468223a22653a5c5c56697375616c2053747564696f20436f64655c5c72696368617264735c5c2e646576636f6e7461696e65725c5c646576636f6e7461696e65722e6a736f6e222c225f736570223a312c2265787465726e616c223a2266696c653a2f2f2f652533412f56697375616c25323053747564696f253230436f64652f72696368617264732f2e646576636f6e7461696e65722f646576636f6e7461696e65722e6a736f6e222c2270617468223a222f653a2f56697375616c2053747564696f20436f64652f72696368617264732f2e646576636f6e7461696e65722f646576636f6e7461696e65722e6a736f6e222c22736368656d65223a2266696c65227d7d/workspaces/richards/tests/richards_initial_tests/benchamark_problem/primal_single_stage.ipynb#X26sdnNjb2RlLXJlbW90ZQ%3D%3D?line=1'>2</a>\u001b[0m solver\u001b[39m.\u001b[39msolve()\n\u001b[1;32m      <a href='vscode-notebook-cell://dev-container%2B7b22686f737450617468223a22653a5c5c56697375616c2053747564696f20436f64655c5c7269636861726473222c226c6f63616c446f636b6572223a66616c73652c22636f6e66696746696c65223a7b22246d6964223a312c22667350617468223a22653a5c5c56697375616c2053747564696f20436f64655c5c72696368617264735c5c2e646576636f6e7461696e65725c5c646576636f6e7461696e65722e6a736f6e222c225f736570223a312c2265787465726e616c223a2266696c653a2f2f2f652533412f56697375616c25323053747564696f253230436f64652f72696368617264732f2e646576636f6e7461696e65722f646576636f6e7461696e65722e6a736f6e222c2270617468223a222f653a2f56697375616c2053747564696f20436f64652f72696368617264732f2e646576636f6e7461696e65722f646576636f6e7461696e65722e6a736f6e222c22736368656d65223a2266696c65227d7d/workspaces/richards/tests/richards_initial_tests/benchamark_problem/primal_single_stage.ipynb#X26sdnNjb2RlLXJlbW90ZQ%3D%3D?line=2'>3</a>\u001b[0m end \u001b[39m=\u001b[39m time\u001b[39m.\u001b[39mtime()\n\u001b[1;32m      <a href='vscode-notebook-cell://dev-container%2B7b22686f737450617468223a22653a5c5c56697375616c2053747564696f20436f64655c5c7269636861726473222c226c6f63616c446f636b6572223a66616c73652c22636f6e66696746696c65223a7b22246d6964223a312c22667350617468223a22653a5c5c56697375616c2053747564696f20436f64655c5c72696368617264735c5c2e646576636f6e7461696e65725c5c646576636f6e7461696e65722e6a736f6e222c225f736570223a312c2265787465726e616c223a2266696c653a2f2f2f652533412f56697375616c25323053747564696f253230436f64652f72696368617264732f2e646576636f6e7461696e65722f646576636f6e7461696e65722e6a736f6e222c2270617468223a222f653a2f56697375616c2053747564696f20436f64652f72696368617264732f2e646576636f6e7461696e65722f646576636f6e7461696e65722e6a736f6e222c22736368656d65223a2266696c65227d7d/workspaces/richards/tests/richards_initial_tests/benchamark_problem/primal_single_stage.ipynb#X26sdnNjb2RlLXJlbW90ZQ%3D%3D?line=4'>5</a>\u001b[0m \u001b[39mprint\u001b[39m(\u001b[39m'\u001b[39m\u001b[39m'\u001b[39m)\n",
      "File \u001b[0;32m/workspaces/richards/richards/solver.py:99\u001b[0m, in \u001b[0;36mSolver.solve\u001b[0;34m(self, max_iterations_per_step_override)\u001b[0m\n\u001b[1;32m     96\u001b[0m     \u001b[39mprint\u001b[39m(\u001b[39m'\u001b[39m\u001b[39mTime \u001b[39m\u001b[39m'\u001b[39m \u001b[39m+\u001b[39m \u001b[39mstr\u001b[39m(\u001b[39mround\u001b[39m(instant, \u001b[39m5\u001b[39m)))\n\u001b[1;32m     98\u001b[0m \u001b[39mif\u001b[39;00m \u001b[39mself\u001b[39m\u001b[39m.\u001b[39msolver_data\u001b[39m.\u001b[39mstep_output_allowed:\n\u001b[0;32m---> 99\u001b[0m     sol\u001b[39m.\u001b[39mappend( method(sol[\u001b[39m-\u001b[39m\u001b[39m1\u001b[39m], instant, \u001b[39mself\u001b[39m\u001b[39m.\u001b[39msolver_data\u001b[39m.\u001b[39meps_psi_abs, \u001b[39mself\u001b[39m\u001b[39m.\u001b[39msolver_data\u001b[39m.\u001b[39meps_psi_rel, csv_exporter) )\n\u001b[1;32m    100\u001b[0m     step_exporter\u001b[39m.\u001b[39mexport(sol[\u001b[39m-\u001b[39m\u001b[39m1\u001b[39m])\n\u001b[1;32m    101\u001b[0m     \u001b[39mself\u001b[39m\u001b[39m.\u001b[39m__export_solution_csv(sol[\u001b[39m-\u001b[39m\u001b[39m1\u001b[39m], \u001b[39mstr\u001b[39m(step))\n",
      "File \u001b[0;32m/workspaces/richards/richards/solver.py:394\u001b[0m, in \u001b[0;36mSolver._newton\u001b[0;34m(self, sol_n, t_n_1, abs_tol, rel_tol, exporter, id_solver, prev)\u001b[0m\n\u001b[1;32m    391\u001b[0m     prev \u001b[39m=\u001b[39m sol_n\n\u001b[1;32m    393\u001b[0m \u001b[39mif\u001b[39;00m \u001b[39mself\u001b[39m\u001b[39m.\u001b[39msolver_data\u001b[39m.\u001b[39mprimal:\n\u001b[0;32m--> 394\u001b[0m     \u001b[39mreturn\u001b[39;00m \u001b[39mself\u001b[39m\u001b[39m.\u001b[39m_generic_step_solver(sol_n, prev, t_n_1, abs_tol, rel_tol, exporter, \u001b[39mself\u001b[39m\u001b[39m.\u001b[39m_newton_preparation, \u001b[39mself\u001b[39m\u001b[39m.\u001b[39m_primal_newton_method_step, id_solver)\n\u001b[1;32m    395\u001b[0m \u001b[39melse\u001b[39;00m:\n\u001b[1;32m    396\u001b[0m     \u001b[39mreturn\u001b[39;00m \u001b[39mself\u001b[39m\u001b[39m.\u001b[39m_generic_step_solver(sol_n, prev, t_n_1, abs_tol, rel_tol, exporter, \u001b[39mself\u001b[39m\u001b[39m.\u001b[39m_newton_preparation, \u001b[39mself\u001b[39m\u001b[39m.\u001b[39m_dual_newton_method_step, id_solver)\n",
      "File \u001b[0;32m/workspaces/richards/richards/solver.py:264\u001b[0m, in \u001b[0;36mSolver._generic_step_solver\u001b[0;34m(self, sol_n, prev, t_n_1, abs_tol, rel_tol, exporter, method_prepare, method_step, id_solver)\u001b[0m\n\u001b[1;32m    262\u001b[0m \u001b[39mfor\u001b[39;00m k \u001b[39min\u001b[39;00m \u001b[39mrange\u001b[39m(\u001b[39mself\u001b[39m\u001b[39m.\u001b[39msolver_data\u001b[39m.\u001b[39mmax_iterations_per_step):\n\u001b[1;32m    263\u001b[0m     current \u001b[39m=\u001b[39m \u001b[39mNone\u001b[39;00m\n\u001b[0;32m--> 264\u001b[0m     current \u001b[39m=\u001b[39m method_step(preparation, k, prev)\n\u001b[1;32m    266\u001b[0m     \u001b[39mif\u001b[39;00m \u001b[39mself\u001b[39m\u001b[39m.\u001b[39msolver_data\u001b[39m.\u001b[39mstep_output_allowed:\n\u001b[1;32m    267\u001b[0m         save_debug\u001b[39m.\u001b[39mexport( current )\n",
      "File \u001b[0;32m/workspaces/richards/richards/solver.py:451\u001b[0m, in \u001b[0;36mSolver._primal_newton_method_step\u001b[0;34m(self, preparation, k, prev)\u001b[0m\n\u001b[1;32m    448\u001b[0m rhs \u001b[39m=\u001b[39m preparation[\u001b[39m'\u001b[39m\u001b[39mfixed_rhs\u001b[39m\u001b[39m'\u001b[39m]\u001b[39m.\u001b[39mcopy()\n\u001b[1;32m    450\u001b[0m C \u001b[39m=\u001b[39m \u001b[39mself\u001b[39m\u001b[39m.\u001b[39mcomputer\u001b[39m.\u001b[39mprimal_C(\u001b[39mself\u001b[39m\u001b[39m.\u001b[39mmodel_data, prev)\n\u001b[0;32m--> 451\u001b[0m D \u001b[39m=\u001b[39m \u001b[39mself\u001b[39m\u001b[39m.\u001b[39mcomputer\u001b[39m.\u001b[39mmass_matrix_P1_dtheta(\u001b[39mself\u001b[39m\u001b[39m.\u001b[39mmodel_data, prev, \u001b[39mself\u001b[39m\u001b[39m.\u001b[39msolver_data\u001b[39m.\u001b[39mintegration_order)\n\u001b[1;32m    453\u001b[0m \u001b[39m# Theta^{n+1}_k\u001b[39;00m\n\u001b[1;32m    454\u001b[0m rhs \u001b[39m-\u001b[39m\u001b[39m=\u001b[39m \u001b[39mself\u001b[39m\u001b[39m.\u001b[39mcomputer\u001b[39m.\u001b[39mmass_matrix_P1() \u001b[39m@\u001b[39m \u001b[39mself\u001b[39m\u001b[39m.\u001b[39mcomputer\u001b[39m.\u001b[39mproject_function_to_P1(\u001b[39mself\u001b[39m\u001b[39m.\u001b[39mmodel_data\u001b[39m.\u001b[39mtheta( prev, \u001b[39mself\u001b[39m\u001b[39m.\u001b[39msubdomain\u001b[39m.\u001b[39mnodes[\u001b[39m1\u001b[39m, :] )) \u001b[39m/\u001b[39m dt\n",
      "File \u001b[0;32m/workspaces/richards/richards/matrix_computer.py:213\u001b[0m, in \u001b[0;36mMatrix_Computer.mass_matrix_P1_dtheta\u001b[0;34m(self, model_data, h, quad_order)\u001b[0m\n\u001b[1;32m    210\u001b[0m coord_loc \u001b[39m=\u001b[39m node_coords[:, nodes_loc]\n\u001b[1;32m    212\u001b[0m \u001b[39m# Compute the stiff-H1 local matrix\u001b[39;00m\n\u001b[0;32m--> 213\u001b[0m A \u001b[39m=\u001b[39m local_mass(model_data, coord_loc, h[nodes_loc], quad_order)\n\u001b[1;32m    215\u001b[0m \u001b[39m# Save values for stiff-H1 local matrix in the global structure\u001b[39;00m\n\u001b[1;32m    216\u001b[0m cols \u001b[39m=\u001b[39m np\u001b[39m.\u001b[39mtile(nodes_loc, (nodes_loc\u001b[39m.\u001b[39msize, \u001b[39m1\u001b[39m))\n",
      "File \u001b[0;32m/workspaces/richards/richards/matrix_computer.py:166\u001b[0m, in \u001b[0;36mMatrix_Computer.__integrate_local_mass_dtheta\u001b[0;34m(self, model_data, coord, in_h, quad)\u001b[0m\n\u001b[1;32m    164\u001b[0m \u001b[39mdef\u001b[39;00m \u001b[39m__integrate_local_mass_dtheta\u001b[39m(\u001b[39mself\u001b[39m, model_data, coord, in_h, quad):\n\u001b[0;32m--> 166\u001b[0m     h_func \u001b[39m=\u001b[39m transoform_nodal_func_to_physical_element(in_h, coord)\n\u001b[1;32m    167\u001b[0m     func \u001b[39m=\u001b[39m \u001b[39mlambda\u001b[39;00m x,y: model_data\u001b[39m.\u001b[39mtheta( h_func(x,y), y, \u001b[39m1\u001b[39m)\n\u001b[1;32m    169\u001b[0m     \u001b[39mreturn\u001b[39;00m local_Mh(\n\u001b[1;32m    170\u001b[0m         coord,\n\u001b[1;32m    171\u001b[0m         func,\n\u001b[1;32m    172\u001b[0m         quad\n\u001b[1;32m    173\u001b[0m     )\n",
      "File \u001b[0;32m/workspaces/richards/utilities/assembly_utilities.py:31\u001b[0m, in \u001b[0;36mtransoform_nodal_func_to_physical_element\u001b[0;34m(nodal_values, coord)\u001b[0m\n\u001b[1;32m     30\u001b[0m \u001b[39mdef\u001b[39;00m \u001b[39mtransoform_nodal_func_to_physical_element\u001b[39m(nodal_values, coord):\n\u001b[0;32m---> 31\u001b[0m     ordering, _ \u001b[39m=\u001b[39m find_ordering(coord)\n\u001b[1;32m     33\u001b[0m     ordered_values \u001b[39m=\u001b[39m nodal_values[ordering]\n\u001b[1;32m     34\u001b[0m     ordered_coords \u001b[39m=\u001b[39m coord[:, ordering]\n",
      "File \u001b[0;32m/workspaces/richards/utilities/assembly_utilities.py:8\u001b[0m, in \u001b[0;36mfind_ordering\u001b[0;34m(coord, tolerance)\u001b[0m\n\u001b[1;32m      6\u001b[0m lx \u001b[39m=\u001b[39m np\u001b[39m.\u001b[39margmin(coord[\u001b[39m0\u001b[39m, :])\n\u001b[1;32m      7\u001b[0m rx \u001b[39m=\u001b[39m np\u001b[39m.\u001b[39margmax(coord[\u001b[39m0\u001b[39m, :])\n\u001b[0;32m----> 8\u001b[0m mx \u001b[39m=\u001b[39m np\u001b[39m.\u001b[39msetdiff1d(np\u001b[39m.\u001b[39marray([\u001b[39m0\u001b[39m,\u001b[39m1\u001b[39m,\u001b[39m2\u001b[39m]), np\u001b[39m.\u001b[39marray([lx, rx]))[\u001b[39m0\u001b[39m]\n\u001b[1;32m     10\u001b[0m \u001b[39m# Vertical Alignment\u001b[39;00m\n\u001b[1;32m     11\u001b[0m \u001b[39mif\u001b[39;00m np\u001b[39m.\u001b[39mabs( coord[\u001b[39m0\u001b[39m, lx] \u001b[39m-\u001b[39m coord[\u001b[39m0\u001b[39m, mx] ) \u001b[39m<\u001b[39m tolerance:\n\u001b[1;32m     12\u001b[0m     \u001b[39m# lx and mx vertical aligned, rx no\u001b[39;00m\n",
      "File \u001b[0;32m<__array_function__ internals>:200\u001b[0m, in \u001b[0;36msetdiff1d\u001b[0;34m(*args, **kwargs)\u001b[0m\n",
      "File \u001b[0;32m/opt/conda/lib/python3.11/site-packages/numpy/lib/arraysetops.py:981\u001b[0m, in \u001b[0;36msetdiff1d\u001b[0;34m(ar1, ar2, assume_unique)\u001b[0m\n\u001b[1;32m    979\u001b[0m     ar1 \u001b[39m=\u001b[39m unique(ar1)\n\u001b[1;32m    980\u001b[0m     ar2 \u001b[39m=\u001b[39m unique(ar2)\n\u001b[0;32m--> 981\u001b[0m \u001b[39mreturn\u001b[39;00m ar1[in1d(ar1, ar2, assume_unique\u001b[39m=\u001b[39m\u001b[39mTrue\u001b[39;00m, invert\u001b[39m=\u001b[39m\u001b[39mTrue\u001b[39;00m)]\n",
      "File \u001b[0;32m<__array_function__ internals>:200\u001b[0m, in \u001b[0;36min1d\u001b[0;34m(*args, **kwargs)\u001b[0m\n",
      "File \u001b[0;32m/opt/conda/lib/python3.11/site-packages/numpy/lib/arraysetops.py:685\u001b[0m, in \u001b[0;36min1d\u001b[0;34m(ar1, ar2, assume_unique, invert, kind)\u001b[0m\n\u001b[1;32m    679\u001b[0m \u001b[39mif\u001b[39;00m (\n\u001b[1;32m    680\u001b[0m     range_safe_from_overflow \u001b[39mand\u001b[39;00m \n\u001b[1;32m    681\u001b[0m     (below_memory_constraint \u001b[39mor\u001b[39;00m kind \u001b[39m==\u001b[39m \u001b[39m'\u001b[39m\u001b[39mtable\u001b[39m\u001b[39m'\u001b[39m)\n\u001b[1;32m    682\u001b[0m ):\n\u001b[1;32m    684\u001b[0m     \u001b[39mif\u001b[39;00m invert:\n\u001b[0;32m--> 685\u001b[0m         outgoing_array \u001b[39m=\u001b[39m np\u001b[39m.\u001b[39mones_like(ar1, dtype\u001b[39m=\u001b[39m\u001b[39mbool\u001b[39m)\n\u001b[1;32m    686\u001b[0m     \u001b[39melse\u001b[39;00m:\n\u001b[1;32m    687\u001b[0m         outgoing_array \u001b[39m=\u001b[39m np\u001b[39m.\u001b[39mzeros_like(ar1, dtype\u001b[39m=\u001b[39m\u001b[39mbool\u001b[39m)\n",
      "File \u001b[0;32m<__array_function__ internals>:200\u001b[0m, in \u001b[0;36mones_like\u001b[0;34m(*args, **kwargs)\u001b[0m\n",
      "File \u001b[0;32m/opt/conda/lib/python3.11/site-packages/numpy/core/numeric.py:281\u001b[0m, in \u001b[0;36mones_like\u001b[0;34m(a, dtype, order, subok, shape)\u001b[0m\n\u001b[1;32m    219\u001b[0m \u001b[39m@array_function_dispatch\u001b[39m(_ones_like_dispatcher)\n\u001b[1;32m    220\u001b[0m \u001b[39mdef\u001b[39;00m \u001b[39mones_like\u001b[39m(a, dtype\u001b[39m=\u001b[39m\u001b[39mNone\u001b[39;00m, order\u001b[39m=\u001b[39m\u001b[39m'\u001b[39m\u001b[39mK\u001b[39m\u001b[39m'\u001b[39m, subok\u001b[39m=\u001b[39m\u001b[39mTrue\u001b[39;00m, shape\u001b[39m=\u001b[39m\u001b[39mNone\u001b[39;00m):\n\u001b[1;32m    221\u001b[0m \u001b[39m    \u001b[39m\u001b[39m\"\"\"\u001b[39;00m\n\u001b[1;32m    222\u001b[0m \u001b[39m    Return an array of ones with the same shape and type as a given array.\u001b[39;00m\n\u001b[1;32m    223\u001b[0m \n\u001b[0;32m   (...)\u001b[0m\n\u001b[1;32m    279\u001b[0m \n\u001b[1;32m    280\u001b[0m \u001b[39m    \"\"\"\u001b[39;00m\n\u001b[0;32m--> 281\u001b[0m     res \u001b[39m=\u001b[39m empty_like(a, dtype\u001b[39m=\u001b[39mdtype, order\u001b[39m=\u001b[39morder, subok\u001b[39m=\u001b[39msubok, shape\u001b[39m=\u001b[39mshape)\n\u001b[1;32m    282\u001b[0m     multiarray\u001b[39m.\u001b[39mcopyto(res, \u001b[39m1\u001b[39m, casting\u001b[39m=\u001b[39m\u001b[39m'\u001b[39m\u001b[39munsafe\u001b[39m\u001b[39m'\u001b[39m)\n\u001b[1;32m    283\u001b[0m     \u001b[39mreturn\u001b[39;00m res\n",
      "File \u001b[0;32m<__array_function__ internals>:200\u001b[0m, in \u001b[0;36mempty_like\u001b[0;34m(*args, **kwargs)\u001b[0m\n",
      "\u001b[0;31mKeyboardInterrupt\u001b[0m: "
     ]
    }
   ],
   "source": [
    "start = time.time()\n",
    "solver.solve()\n",
    "end = time.time()\n",
    "\n",
    "print('')\n",
    "print(end - start)"
   ]
  }
 ],
 "metadata": {
  "kernelspec": {
   "display_name": ".venv",
   "language": "python",
   "name": "python3"
  },
  "language_info": {
   "codemirror_mode": {
    "name": "ipython",
    "version": 3
   },
   "file_extension": ".py",
   "mimetype": "text/x-python",
   "name": "python",
   "nbconvert_exporter": "python",
   "pygments_lexer": "ipython3",
   "version": "3.11.5"
  },
  "orig_nbformat": 4
 },
 "nbformat": 4,
 "nbformat_minor": 2
}
