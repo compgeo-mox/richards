{
 "cells": [
  {
   "attachments": {},
   "cell_type": "markdown",
   "metadata": {},
   "source": [
    "# Richards equation\n",
    "\n",
    "In this tutorial we present how to solve a Richards equation with [PyGeoN](https://github.com/compgeo-mox/pygeon).  The unkwons are the velocity $q$ and the pressure $p$.\n",
    "\n",
    "Let $\\Omega=(0,2)\\times(0,3)$ with boundary $\\partial \\Omega$ and outward unit normal ${\\nu}$. Given \n",
    "$k$ the matrix permeability, we want to solve the following problem: find $({q}, \\psi)$ such that\n",
    "$$\n",
    "\\left\\{\n",
    "\\begin{array}{ll}\n",
    "\\begin{array}{l} \n",
    "K^{-1}(\\psi) {q} + \\nabla \\psi = -\\nabla z\\\\\n",
    "\\partial_t \\theta (\\psi) + \\nabla \\cdot {q} = 0\n",
    "\\end{array}\n",
    "&\\text{in } \\Omega \\times (0,T)\n",
    "\\end{array}\n",
    "\\right.\n",
    "$$\n",
    "with boundary conditions:\n",
    "\n",
    "$$\n",
    "\\psi(t,x,z)=\n",
    "\\left\\{\n",
    "\\begin{array}{ll}\n",
    "\\begin{array}{l} \n",
    "-2+2.2 \\frac{t}{\\Delta t_D}, \\text{ on } \\Gamma_{D_1}, t\\leq\\Delta t_D\\\\\n",
    "0.2, \\text{ on } \\Gamma_{D_1}, t>\\Delta t_D\\\\\n",
    "1-z, \\text{ on } \\Gamma_{D_2}\n",
    "\\end{array}\n",
    "\\end{array}\n",
    "\\right., \\qquad \\nu \\cdot q = 0 \\text{ on } \\Gamma_N \\qquad \\psi(0,x,z) = 1-z \\text{ on } \\Omega$$\n",
    "and\n",
    "$$\n",
    "\\Gamma_{D_1} = \\left\\{ (x,z) \\in \\partial \\Omega \\:|\\: x \\in [0,1] \\wedge z=3  \\right\\},\\\\\n",
    "\\Gamma_{D_2} = \\left\\{ (x,z) \\in \\partial \\Omega \\:|\\: x = 2 \\wedge z \\in [0,1]  \\right\\},\\\\\n",
    "\\Gamma_{D} = \\Gamma_{D_1} \\cup \\Gamma_{D_2},\\\\\n",
    "\\Gamma_{N} = \\partial \\Omega \\setminus \\Gamma_D\n",
    "$$\n",
    "\n",
    "We present *step-by-step* how to create the grid, declare the problem data, and finally solve the problem."
   ]
  },
  {
   "attachments": {},
   "cell_type": "markdown",
   "metadata": {},
   "source": [
    "### Import and parameters"
   ]
  },
  {
   "cell_type": "code",
   "execution_count": 1,
   "metadata": {},
   "outputs": [
    {
     "name": "stderr",
     "output_type": "stream",
     "text": [
      "/opt/conda/lib/python3.11/site-packages/porepy/numerics/nonlinear/nonlinear_solvers.py:13: TqdmExperimentalWarning: Using `tqdm.autonotebook.tqdm` in notebook mode. Use `tqdm.tqdm` instead to force console mode (e.g. in jupyter console)\n",
      "  from tqdm.autonotebook import trange  # type: ignore\n"
     ]
    }
   ],
   "source": [
    "import shutil\n",
    "import os\n",
    "\n",
    "import numpy as np\n",
    "import scipy.sparse as sps\n",
    "from scipy.sparse import linalg\n",
    "import sympy as sp\n",
    "\n",
    "import porepy as pp\n",
    "import pygeon as pg\n",
    "\n",
    "import time\n",
    "from math import ceil, floor, log10, exp\n",
    "\n",
    "import matplotlib.pyplot as plt"
   ]
  },
  {
   "cell_type": "code",
   "execution_count": 2,
   "metadata": {},
   "outputs": [],
   "source": [
    "import sys\n",
    "sys.path.insert(0, \"/workspaces/richards/\")\n",
    "\n",
    "from richards.model_params import Model_Data\n",
    "from richards.matrix_computer import Matrix_Computer\n",
    "\n",
    "from richards.solver import Solver\n",
    "from richards.solver_params import Solver_Data, Solver_Enum"
   ]
  },
  {
   "cell_type": "code",
   "execution_count": 3,
   "metadata": {},
   "outputs": [],
   "source": [
    "# Set the maximum number of iterations of the non-linear solver\n",
    "K = 50\n",
    "\n",
    "# L-scheme parameter\n",
    "L = 3.3e-2\n",
    "\n",
    "# Set the mesh refinment\n",
    "N = 10\n",
    "\n",
    "# Set the number of steps (excluding the initial condition)\n",
    "num_steps = 9\n",
    "\n",
    "# Simulation time length\n",
    "T = num_steps/48\n",
    "\n",
    "# Time switch conditions (for the boundary condition)\n",
    "dt_D = 3/48\n",
    "\n",
    "# Fluid density\n",
    "rho = 1000\n",
    "\n",
    "# Relative and absolute tolerances for the non-linear solver\n",
    "abs_tol = 1e-5\n",
    "rel_tol = 1e-5\n",
    "\n",
    "# Domain tolerance\n",
    "domain_tolerance = 1 / (10 * N)\n",
    "\n",
    "# Output directory\n",
    "output_directory = 'output_evolutionary_single_stage'"
   ]
  },
  {
   "cell_type": "code",
   "execution_count": 4,
   "metadata": {},
   "outputs": [],
   "source": [
    "# Van Genuchten model parameters ( relative permeability model )\n",
    "theta_s = 0.396\n",
    "theta_r = 0.131\n",
    "\n",
    "alpha = 0.423\n",
    "\n",
    "n = 2.06\n",
    "K_s = 4.96e-2\n",
    "\n",
    "m = 1 - 1/n"
   ]
  },
  {
   "cell_type": "code",
   "execution_count": 5,
   "metadata": {},
   "outputs": [],
   "source": [
    "# Time step\n",
    "dt   = (T-0)/num_steps"
   ]
  },
  {
   "cell_type": "code",
   "execution_count": 6,
   "metadata": {},
   "outputs": [],
   "source": [
    "model_data = Model_Data(theta_r=theta_r, theta_s=theta_s, alpha=alpha, n=n, K_s=K_s, T=T, num_steps=num_steps)"
   ]
  },
  {
   "attachments": {},
   "cell_type": "markdown",
   "metadata": {},
   "source": [
    "### Domain preparation"
   ]
  },
  {
   "cell_type": "code",
   "execution_count": 7,
   "metadata": {},
   "outputs": [],
   "source": [
    "# Prepare the domain and its mesh\n",
    "subdomain = pp.StructuredTriangleGrid([2*N, 3*N], [2,3])\n",
    "\n",
    "# Convert it to a mixed-dimensional grid\n",
    "mdg = pp.meshing.subdomains_to_mdg([subdomain])"
   ]
  },
  {
   "cell_type": "code",
   "execution_count": 8,
   "metadata": {},
   "outputs": [],
   "source": [
    "key = \"flow\"\n",
    "\n",
    "# Collection of boundary conditions\n",
    "bc_value = []\n",
    "bc_essential = []\n",
    "\n",
    "# Initial pressure\n",
    "initial_pressure = []\n",
    "\n",
    "# Discretizations for q and \\psi\n",
    "RT0 = pg.RT0(key)\n",
    "P0  = pg.PwConstants(key)"
   ]
  },
  {
   "cell_type": "code",
   "execution_count": 9,
   "metadata": {},
   "outputs": [],
   "source": [
    "# Initial pressure function\n",
    "def initial_pressure_func(x): \n",
    "    return 1"
   ]
  },
  {
   "cell_type": "code",
   "execution_count": 10,
   "metadata": {},
   "outputs": [],
   "source": [
    "# Fake loop to extract the grid and its data (i.e. conductivity tensor)\n",
    "for subdomain, data in mdg.subdomains(return_data=True):\n",
    "    # Prepare the inital pressure term by interpolating initial_pressure_func into the P0 space\n",
    "    initial_pressure.append(P0.interpolate(subdomain, initial_pressure_func))\n",
    "        \n",
    "    # Get the boundary faces ids\n",
    "    boundary_faces_indexes = subdomain.get_boundary_faces()\n",
    "\n",
    "    # Gamma_D1 and Gamma_D2 boundary faces\n",
    "    gamma_d1 = np.logical_and(subdomain.face_centers[0, :] > 0-domain_tolerance, np.logical_and(subdomain.face_centers[0, :] < 1+domain_tolerance, subdomain.face_centers[1, :] > 3-domain_tolerance))\n",
    "    gamma_d2 = np.logical_and(subdomain.face_centers[0, :] > 2-domain_tolerance, np.logical_and(subdomain.face_centers[1, :] > 0-domain_tolerance, subdomain.face_centers[1, :] < 1+domain_tolerance))\n",
    "\n",
    "    gamma_d  = np.logical_or(gamma_d1, gamma_d2)\n",
    "\n",
    "    # Gamma_N is the remaining part of the boundary    \n",
    "    gamma_n  = gamma_d.copy()\n",
    "    gamma_n[boundary_faces_indexes] = np.logical_not(gamma_n[boundary_faces_indexes])\n",
    "    \n",
    "    # Set the initial conductivity tensor in data (the actual saved tensor does not matter at this stage)\n",
    "    pp.initialize_data(subdomain, data, key, {\n",
    "        \"second_order_tensor\": pp.SecondOrderTensor(np.ones(subdomain.num_cells)),\n",
    "    })\n",
    "    \n",
    "    # Prepare the \\hat{\\psi} function\n",
    "    def bc_gamma_d(x, t):\n",
    "        if   x[0] > 2-domain_tolerance and x[1] > 0-domain_tolerance and x[1] < 1+domain_tolerance:\n",
    "            res =  1\n",
    "        elif x[1] > 3-domain_tolerance and x[0] > 0-domain_tolerance and x[0] < 1+domain_tolerance:\n",
    "            res = min( 3.2, 1 + 2.2 * t / dt_D )\n",
    "        else:\n",
    "            res = 0\n",
    "        \n",
    "        return res\n",
    "\n",
    "    # Add a lambda function that generates for each time instant the (discretized) natural boundary conditions for the problem\n",
    "    bc_value.append(lambda t: - RT0.assemble_nat_bc(subdomain, lambda x: bc_gamma_d(x,t), gamma_d))\n",
    "\n",
    "    # Set the essential boundary conditions (they will be enforced before solving the system)\n",
    "    essential_pressure_dofs = np.zeros(P0.ndof(subdomain), dtype=bool)\n",
    "    bc_essential = np.hstack((gamma_n, essential_pressure_dofs))"
   ]
  },
  {
   "attachments": {},
   "cell_type": "markdown",
   "metadata": {},
   "source": [
    "### Method"
   ]
  },
  {
   "attachments": {},
   "cell_type": "markdown",
   "metadata": {},
   "source": [
    "A quick recap:\n",
    "$$\n",
    "\\left\\{\n",
    "\\begin{array}{ll}\n",
    "\\begin{array}{l} \n",
    "K^{-1}(\\psi) {q} + \\nabla \\psi = -\\nabla z\\\\\n",
    "\\partial_t \\theta (\\psi) + \\nabla \\cdot {q} = 0\n",
    "\\end{array}\n",
    "&\\text{in } \\Omega \\times (0,T)\n",
    "\\end{array}\n",
    "\\right.\n",
    "$$\n",
    "becames, with the time discretization:"
   ]
  },
  {
   "attachments": {},
   "cell_type": "markdown",
   "metadata": {},
   "source": [
    "$$\n",
    "\\left\\{\n",
    "\\begin{array}{ll}\n",
    "\\begin{array}{l} \n",
    "K^{-1}(\\psi^{n+1}_k) {q^{n+1}_{k+1}} + \\nabla \\psi^{n+1}_{k+1} = -\\nabla z\\\\\n",
    "\\frac{\\partial \\theta(\\psi_k^{n+1})}{\\partial \\psi} \\frac{\\psi_{k+1}^{n+1}}{\\Delta t} + \\nabla \\cdot {q^{n+1}} = \\frac{\\partial \\theta(\\psi_k^{n+1})}{\\partial \\psi} \\frac{\\psi_{k}^{n+1}}{\\Delta t} + \\frac{\\theta (\\psi^{n}) - \\theta (\\psi^{n+1}_k)}{\\Delta t} \n",
    "\\end{array}\n",
    "&\\text{in } \\Omega \\times (0,T)\n",
    "\\end{array}\n",
    "\\right.\n",
    "$$"
   ]
  },
  {
   "cell_type": "code",
   "execution_count": 11,
   "metadata": {},
   "outputs": [],
   "source": [
    "if os.path.exists(output_directory):\n",
    "    shutil.rmtree(output_directory)"
   ]
  },
  {
   "cell_type": "code",
   "execution_count": 12,
   "metadata": {},
   "outputs": [],
   "source": [
    "# assemble initial solution\n",
    "cp = Matrix_Computer(mdg)\n",
    "initial_solution = np.zeros(cp.dof_RT0 + cp.dof_P0)\n",
    "initial_solution[-cp.dof_P0:] += np.hstack(initial_pressure)"
   ]
  },
  {
   "cell_type": "code",
   "execution_count": 13,
   "metadata": {},
   "outputs": [],
   "source": [
    "solver_data = Solver_Data(mdg=mdg, initial_solution=initial_solution, scheme=Solver_Enum.NEWTON, \n",
    "                          bc_essential=lambda t: bc_essential, eps_psi_abs=abs_tol, \n",
    "                          eps_psi_rel=rel_tol, max_iterations_per_step=K,   \n",
    "                          output_directory=output_directory, L_Scheme_value=L, report_name='dual')\n",
    "\n",
    "solver_data.set_rhs_vector_q(lambda t: np.hstack(list(cond(t) for cond in bc_value)))"
   ]
  },
  {
   "cell_type": "code",
   "execution_count": 14,
   "metadata": {},
   "outputs": [],
   "source": [
    "solver = Solver(model_data=model_data, solver_data=solver_data)"
   ]
  },
  {
   "cell_type": "code",
   "execution_count": 15,
   "metadata": {},
   "outputs": [
    {
     "name": "stdout",
     "output_type": "stream",
     "text": [
      "Csv_Exporter: A file with name dual_NEWTON_richards_solver.csv is detected. I'll delete it\n",
      "Time 0.02083\n",
      "Iteration #001, error L2 relative psi:    0.089603516\n",
      "Iteration #002, error L2 relative psi:    0.022469471\n",
      "Iteration #003, error L2 relative psi:    0.002211413\n",
      "Iteration #004, error L2 relative psi:    0.000106333\n",
      "Iteration #005, error L2 relative psi:    0.000003760\n",
      "\n",
      "Time 0.04167\n",
      "Iteration #001, error L2 relative psi:    0.185972977\n",
      "Iteration #002, error L2 relative psi:    0.049110303\n",
      "Iteration #003, error L2 relative psi:    0.006722957\n",
      "Iteration #004, error L2 relative psi:    0.000391856\n",
      "Iteration #005, error L2 relative psi:    0.000020857\n",
      "\n",
      "Time 0.0625\n",
      "Iteration #001, error L2 relative psi:    0.316418507\n",
      "Iteration #002, error L2 relative psi:    0.079453771\n",
      "Iteration #003, error L2 relative psi:    0.011985648\n",
      "Iteration #004, error L2 relative psi:    0.000998057\n",
      "Iteration #005, error L2 relative psi:    0.000121241\n",
      "Iteration #006, error L2 relative psi:    0.000013079\n",
      "\n",
      "Time 0.08333\n",
      "Iteration #001, error L2 relative psi:    0.200132316\n",
      "Iteration #002, error L2 relative psi:    0.021966186\n",
      "Iteration #003, error L2 relative psi:    0.001757387\n",
      "Iteration #004, error L2 relative psi:    0.000173788\n",
      "Iteration #005, error L2 relative psi:    0.000017167\n",
      "\n",
      "Time 0.10417\n",
      "Iteration #001, error L2 relative psi:    0.150415840\n",
      "Iteration #002, error L2 relative psi:    0.012153916\n",
      "Iteration #003, error L2 relative psi:    0.000794558\n",
      "Iteration #004, error L2 relative psi:    0.000068883\n",
      "Iteration #005, error L2 relative psi:    0.000006528\n",
      "\n",
      "Time 0.125\n",
      "Iteration #001, error L2 relative psi:    0.123648272\n",
      "Iteration #002, error L2 relative psi:    0.008223652\n",
      "Iteration #003, error L2 relative psi:    0.000484524\n",
      "Iteration #004, error L2 relative psi:    0.000039135\n",
      "\n",
      "Time 0.14583\n",
      "Iteration #001, error L2 relative psi:    0.106841867\n",
      "Iteration #002, error L2 relative psi:    0.006226458\n",
      "Iteration #003, error L2 relative psi:    0.000343205\n",
      "Iteration #004, error L2 relative psi:    0.000026839\n",
      "\n",
      "Time 0.16667\n",
      "Iteration #001, error L2 relative psi:    0.095021891\n",
      "Iteration #002, error L2 relative psi:    0.005024767\n",
      "Iteration #003, error L2 relative psi:    0.000261269\n",
      "Iteration #004, error L2 relative psi:    0.000019818\n",
      "\n",
      "Time 0.1875\n",
      "Iteration #001, error L2 relative psi:    0.086131082\n",
      "Iteration #002, error L2 relative psi:    0.004235995\n",
      "Iteration #003, error L2 relative psi:    0.000211334\n",
      "Iteration #004, error L2 relative psi:    0.000015596\n",
      "\n",
      "\n",
      "41.51641917228699\n"
     ]
    }
   ],
   "source": [
    "start = time.time()\n",
    "solver.solve()\n",
    "end = time.time()\n",
    "\n",
    "print('')\n",
    "print(end - start)"
   ]
  }
 ],
 "metadata": {
  "kernelspec": {
   "display_name": ".venv",
   "language": "python",
   "name": "python3"
  },
  "language_info": {
   "codemirror_mode": {
    "name": "ipython",
    "version": 3
   },
   "file_extension": ".py",
   "mimetype": "text/x-python",
   "name": "python",
   "nbconvert_exporter": "python",
   "pygments_lexer": "ipython3",
   "version": "3.11.5"
  },
  "orig_nbformat": 4
 },
 "nbformat": 4,
 "nbformat_minor": 2
}
