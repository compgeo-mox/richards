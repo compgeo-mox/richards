{
 "cells": [
  {
   "attachments": {},
   "cell_type": "markdown",
   "metadata": {},
   "source": [
    "# Richards equation\n",
    "\n",
    "In this tutorial we present how to solve a Richards equation with [PyGeoN](https://github.com/compgeo-mox/pygeon).  The unkwons are the velocity $q$ and the pressure $p$.\n",
    "\n",
    "Let $\\Omega=(0,2)\\times(0,3)$ with boundary $\\partial \\Omega$ and outward unit normal ${\\nu}$. Given \n",
    "$k$ the matrix permeability, we want to solve the following problem: find $({q}, \\psi)$ such that\n",
    "$$\n",
    "\\left\\{\n",
    "\\begin{array}{ll}\n",
    "\\begin{array}{l} \n",
    "K^{-1}(\\psi) {q} + \\nabla \\psi = -\\nabla z\\\\\n",
    "\\partial_t \\theta (\\psi) + \\nabla \\cdot {q} = 0\n",
    "\\end{array}\n",
    "&\\text{in } \\Omega \\times (0,T)\n",
    "\\end{array}\n",
    "\\right.\n",
    "$$\n",
    "with boundary conditions:\n",
    "\n",
    "$$\n",
    "\\psi(t,x,z)=\n",
    "\\left\\{\n",
    "\\begin{array}{ll}\n",
    "\\begin{array}{l} \n",
    "-2+2.2 \\frac{t}{\\Delta t_D}, \\text{ on } \\Gamma_{D_1}, t\\leq\\Delta t_D\\\\\n",
    "0.2, \\text{ on } \\Gamma_{D_1}, t>\\Delta t_D\\\\\n",
    "1-z, \\text{ on } \\Gamma_{D_2}\n",
    "\\end{array}\n",
    "\\end{array}\n",
    "\\right., \\qquad \\nu \\cdot q = 0 \\text{ on } \\Gamma_N \\qquad \\psi(0,x,z) = 1-z \\text{ on } \\Omega$$\n",
    "and\n",
    "$$\n",
    "\\Gamma_{D_1} = \\left\\{ (x,z) \\in \\partial \\Omega \\:|\\: x \\in [0,1] \\wedge z=3  \\right\\},\\\\\n",
    "\\Gamma_{D_2} = \\left\\{ (x,z) \\in \\partial \\Omega \\:|\\: x = 2 \\wedge z \\in [0,1]  \\right\\},\\\\\n",
    "\\Gamma_{D} = \\Gamma_{D_1} \\cup \\Gamma_{D_2},\\\\\n",
    "\\Gamma_{N} = \\partial \\Omega \\setminus \\Gamma_D\n",
    "$$\n",
    "\n",
    "We present *step-by-step* how to create the grid, declare the problem data, and finally solve the problem."
   ]
  },
  {
   "attachments": {},
   "cell_type": "markdown",
   "metadata": {},
   "source": [
    "### Import and parameters"
   ]
  },
  {
   "cell_type": "code",
   "execution_count": 1,
   "metadata": {},
   "outputs": [
    {
     "name": "stderr",
     "output_type": "stream",
     "text": [
      "/opt/conda/lib/python3.11/site-packages/porepy/numerics/nonlinear/nonlinear_solvers.py:13: TqdmExperimentalWarning: Using `tqdm.autonotebook.tqdm` in notebook mode. Use `tqdm.tqdm` instead to force console mode (e.g. in jupyter console)\n",
      "  from tqdm.autonotebook import trange  # type: ignore\n"
     ]
    }
   ],
   "source": [
    "import shutil\n",
    "import os\n",
    "\n",
    "import numpy as np\n",
    "import scipy.sparse as sps\n",
    "from scipy.sparse import linalg\n",
    "import sympy as sp\n",
    "\n",
    "import porepy as pp\n",
    "import pygeon as pg\n",
    "\n",
    "import time\n",
    "from math import ceil, floor, log10, exp\n",
    "\n",
    "import matplotlib.pyplot as plt"
   ]
  },
  {
   "cell_type": "code",
   "execution_count": 2,
   "metadata": {},
   "outputs": [],
   "source": [
    "import sys\n",
    "sys.path.insert(0, \"/workspaces/richards/\")\n",
    "\n",
    "from richards.model_params import Model_Data\n",
    "from richards.matrix_computer import Matrix_Computer\n",
    "\n",
    "from richards.solver import Solver\n",
    "from richards.solver_params import Solver_Data, Solver_Enum, Norm_Error"
   ]
  },
  {
   "cell_type": "code",
   "execution_count": 3,
   "metadata": {},
   "outputs": [],
   "source": [
    "# Set the maximum number of iterations of the non-linear solver\n",
    "K = 50\n",
    "\n",
    "# L-scheme parameter\n",
    "L = 3.501e-2\n",
    "\n",
    "# Set the mesh refinment\n",
    "N = 40\n",
    "\n",
    "# Set the number of steps (excluding the initial condition)\n",
    "num_steps = 9\n",
    "\n",
    "# Simulation time length\n",
    "T = num_steps/48\n",
    "\n",
    "# Time switch conditions (for the boundary condition)\n",
    "dt_D = 3/48\n",
    "\n",
    "# Fluid density\n",
    "rho = 1000\n",
    "\n",
    "# Relative and absolute tolerances for the non-linear solver\n",
    "abs_tol = 1e-5\n",
    "rel_tol = 1e-5\n",
    "\n",
    "# Domain tolerance\n",
    "domain_tolerance = 1 / (10 * N)\n",
    "\n",
    "# Output directory\n",
    "output_directory = 'dual_single_stage'"
   ]
  },
  {
   "cell_type": "code",
   "execution_count": 4,
   "metadata": {},
   "outputs": [],
   "source": [
    "# Van Genuchten model parameters ( relative permeability model )\n",
    "theta_s = 0.396\n",
    "theta_r = 0.131\n",
    "\n",
    "alpha = 0.423\n",
    "\n",
    "n = 2.06\n",
    "K_s = 4.96e-2\n",
    "\n",
    "m = 1 - 1/n"
   ]
  },
  {
   "cell_type": "code",
   "execution_count": 5,
   "metadata": {},
   "outputs": [],
   "source": [
    "# Time step\n",
    "dt   = (T-0)/num_steps"
   ]
  },
  {
   "cell_type": "code",
   "execution_count": 6,
   "metadata": {},
   "outputs": [],
   "source": [
    "model_data = Model_Data(theta_r=theta_r, theta_s=theta_s, alpha=alpha, n=n, K_s=K_s, T=T, num_steps=num_steps)"
   ]
  },
  {
   "attachments": {},
   "cell_type": "markdown",
   "metadata": {},
   "source": [
    "### Domain preparation"
   ]
  },
  {
   "cell_type": "code",
   "execution_count": 7,
   "metadata": {},
   "outputs": [],
   "source": [
    "# Prepare the domain and its mesh\n",
    "subdomain = pp.StructuredTriangleGrid([2*N, 3*N], [2,3])\n",
    "\n",
    "# Convert it to a mixed-dimensional grid\n",
    "mdg = pp.meshing.subdomains_to_mdg([subdomain])"
   ]
  },
  {
   "cell_type": "code",
   "execution_count": 8,
   "metadata": {},
   "outputs": [],
   "source": [
    "key = \"flow\"\n",
    "\n",
    "# Collection of boundary conditions\n",
    "bc_value = []\n",
    "bc_essential = []\n",
    "\n",
    "# Initial pressure\n",
    "initial_pressure = []\n",
    "\n",
    "# Discretizations for q and \\psi\n",
    "RT0 = pg.RT0(key)\n",
    "P0  = pg.PwConstants(key)"
   ]
  },
  {
   "cell_type": "code",
   "execution_count": 9,
   "metadata": {},
   "outputs": [],
   "source": [
    "# Initial pressure function\n",
    "def initial_pressure_func(x): \n",
    "    return 1"
   ]
  },
  {
   "cell_type": "code",
   "execution_count": 10,
   "metadata": {},
   "outputs": [],
   "source": [
    "# Fake loop to extract the grid and its data (i.e. conductivity tensor)\n",
    "for subdomain, data in mdg.subdomains(return_data=True):\n",
    "    # Prepare the inital pressure term by interpolating initial_pressure_func into the P0 space\n",
    "    initial_pressure.append(P0.interpolate(subdomain, initial_pressure_func))\n",
    "        \n",
    "    # Get the boundary faces ids\n",
    "    boundary_faces_indexes = subdomain.get_boundary_faces()\n",
    "\n",
    "    # Gamma_D1 and Gamma_D2 boundary faces\n",
    "    gamma_d1 = np.logical_and(subdomain.face_centers[0, :] > 0-domain_tolerance, np.logical_and(subdomain.face_centers[0, :] < 1+domain_tolerance, subdomain.face_centers[1, :] > 3-domain_tolerance))\n",
    "    gamma_d2 = np.logical_and(subdomain.face_centers[0, :] > 2-domain_tolerance, np.logical_and(subdomain.face_centers[1, :] > 0-domain_tolerance, subdomain.face_centers[1, :] < 1+domain_tolerance))\n",
    "\n",
    "    gamma_d  = np.logical_or(gamma_d1, gamma_d2)\n",
    "\n",
    "    # Gamma_N is the remaining part of the boundary    \n",
    "    gamma_n  = gamma_d.copy()\n",
    "    gamma_n[boundary_faces_indexes] = np.logical_not(gamma_n[boundary_faces_indexes])\n",
    "    \n",
    "    # Set the initial conductivity tensor in data (the actual saved tensor does not matter at this stage)\n",
    "    pp.initialize_data(subdomain, data, key, {\n",
    "        \"second_order_tensor\": pp.SecondOrderTensor(np.ones(subdomain.num_cells)),\n",
    "    })\n",
    "    \n",
    "    # Prepare the \\hat{\\psi} function\n",
    "    def bc_gamma_d(x, t):\n",
    "        if   x[0] > 2-domain_tolerance and x[1] > 0-domain_tolerance and x[1] < 1+domain_tolerance:\n",
    "            res =  1\n",
    "        elif x[1] > 3-domain_tolerance and x[0] > 0-domain_tolerance and x[0] < 1+domain_tolerance:\n",
    "            res = min( 3.2, 1 + 2.2 * t / dt_D )\n",
    "        else:\n",
    "            res = 0\n",
    "        \n",
    "        return res\n",
    "\n",
    "    # Add a lambda function that generates for each time instant the (discretized) natural boundary conditions for the problem\n",
    "    bc_value.append(lambda t: - RT0.assemble_nat_bc(subdomain, lambda x: bc_gamma_d(x,t), gamma_d))\n",
    "\n",
    "    # Set the essential boundary conditions (they will be enforced before solving the system)\n",
    "    essential_pressure_dofs = np.zeros(P0.ndof(subdomain), dtype=bool)\n",
    "    bc_essential = np.hstack((gamma_n, essential_pressure_dofs))"
   ]
  },
  {
   "attachments": {},
   "cell_type": "markdown",
   "metadata": {},
   "source": [
    "### Method"
   ]
  },
  {
   "attachments": {},
   "cell_type": "markdown",
   "metadata": {},
   "source": [
    "A quick recap:\n",
    "$$\n",
    "\\left\\{\n",
    "\\begin{array}{ll}\n",
    "\\begin{array}{l} \n",
    "K^{-1}(\\psi) {q} + \\nabla \\psi = -\\nabla z\\\\\n",
    "\\partial_t \\theta (\\psi) + \\nabla \\cdot {q} = 0\n",
    "\\end{array}\n",
    "&\\text{in } \\Omega \\times (0,T)\n",
    "\\end{array}\n",
    "\\right.\n",
    "$$\n",
    "becames, with the time discretization:"
   ]
  },
  {
   "attachments": {},
   "cell_type": "markdown",
   "metadata": {},
   "source": [
    "$$\n",
    "\\left\\{\n",
    "\\begin{array}{ll}\n",
    "\\begin{array}{l} \n",
    "K^{-1}(\\psi^{n+1}_k) {q^{n+1}_{k+1}} + \\nabla \\psi^{n+1}_{k+1} = -\\nabla z\\\\\n",
    "\\frac{\\partial \\theta(\\psi_k^{n+1})}{\\partial \\psi} \\frac{\\psi_{k+1}^{n+1}}{\\Delta t} + \\nabla \\cdot {q^{n+1}} = \\frac{\\partial \\theta(\\psi_k^{n+1})}{\\partial \\psi} \\frac{\\psi_{k}^{n+1}}{\\Delta t} + \\frac{\\theta (\\psi^{n}) - \\theta (\\psi^{n+1}_k)}{\\Delta t} \n",
    "\\end{array}\n",
    "&\\text{in } \\Omega \\times (0,T)\n",
    "\\end{array}\n",
    "\\right.\n",
    "$$"
   ]
  },
  {
   "cell_type": "code",
   "execution_count": 11,
   "metadata": {},
   "outputs": [],
   "source": [
    "if os.path.exists(output_directory):\n",
    "    shutil.rmtree(output_directory)"
   ]
  },
  {
   "cell_type": "code",
   "execution_count": 12,
   "metadata": {},
   "outputs": [],
   "source": [
    "# assemble initial solution\n",
    "cp = Matrix_Computer(mdg)\n",
    "initial_solution = np.zeros(cp.dof_RT0 + cp.dof_P0)\n",
    "initial_solution[-cp.dof_P0:] += np.hstack(initial_pressure)"
   ]
  },
  {
   "cell_type": "code",
   "execution_count": 13,
   "metadata": {},
   "outputs": [],
   "source": [
    "solver_data = Solver_Data(mdg=mdg, initial_solution=initial_solution, scheme=Solver_Enum.NEWTON, \n",
    "                          bc_essential=lambda t: bc_essential, eps_psi_abs=abs_tol, \n",
    "                          eps_psi_rel=rel_tol, max_iterations_per_step=K,   \n",
    "                          output_directory=output_directory, L_Scheme_value=L, \n",
    "                          step_output_allowed=False,\n",
    "                          report_name='dual', norm_error=Norm_Error.L2)\n",
    "\n",
    "solver_data.set_rhs_vector_q(lambda t: np.hstack(list(cond(t) for cond in bc_value)))"
   ]
  },
  {
   "cell_type": "code",
   "execution_count": 14,
   "metadata": {},
   "outputs": [],
   "source": [
    "solver = Solver(model_data=model_data, solver_data=solver_data)"
   ]
  },
  {
   "cell_type": "code",
   "execution_count": 15,
   "metadata": {},
   "outputs": [
    {
     "name": "stdout",
     "output_type": "stream",
     "text": [
      "Csv_Exporter: A file with name dual_NEWTON_richards_solver.csv is detected. I'll delete it\n",
      "Time 0.02083\n"
     ]
    },
    {
     "name": "stderr",
     "output_type": "stream",
     "text": [
      "<lambdifygenerated-1>:2: RuntimeWarning: invalid value encountered in power\n",
      "  return select([less(h, z),True], [0.265*(0.1699265174169*(-h + z)**2.06 + 1)**(-0.514563106796116) + 0.131,0.396], default=nan)\n"
     ]
    },
    {
     "name": "stderr",
     "output_type": "stream",
     "text": [
      "<lambdifygenerated-3>:2: RuntimeWarning: invalid value encountered in power\n",
      "  return select([less(h, z),True], [-1.81574706110801*(-h + z)**1.06*(0.1699265174169*(-h + z)**2.06 + 1)**(-0.742718446601942)/(1 - (1 - 1.0*(0.1699265174169*(-h + z)**2.06 + 1)**(-1.0))**0.514563106796116)**2 - 7.26298824443202*(1 - 1.0*(0.1699265174169*(-h + z)**2.06 + 1)**(-1.0))**(-0.485436893203884)*(-h + z)**1.06*(0.1699265174169*(-h + z)**2.06 + 1)**(-1.74271844660194)/(1 - (1 - 1.0*(0.1699265174169*(-h + z)**2.06 + 1)**(-1.0))**0.514563106796116)**3,0], default=nan)\n",
      "<lambdifygenerated-4>:2: RuntimeWarning: invalid value encountered in power\n",
      "  return select([less(h, z),True], [0.0477323587424072*(-h + z)**1.06*(0.1699265174169*(-h + z)**2.06 + 1)**(-1.51456310679612),0], default=nan)\n",
      "<lambdifygenerated-5>:2: RuntimeWarning: invalid value encountered in power\n",
      "  return select([less(h, z),True], [0.0496*(1 - (1 - 1.0*(0.1699265174169*(-h + z)**2.06 + 1)**(-1.0))**0.514563106796116)**2*(0.1699265174169*(-h + z)**2.06 + 1)**(-0.257281553398058),0.0496], default=nan)\n"
     ]
    },
    {
     "name": "stdout",
     "output_type": "stream",
     "text": [
      "Iteration #001, error L2 relative psi:    0.114885927\n",
      "Iteration #002, error L2 relative psi:    0.029506011\n",
      "Iteration #003, error L2 relative psi:    0.002520961\n",
      "Iteration #004, error L2 relative psi:    0.000072286\n",
      "Iteration #005, error L2 relative psi:    0.000001997\n",
      "\n",
      "Time 0.04167\n",
      "Iteration #001, error L2 relative psi:    0.206441052\n",
      "Iteration #002, error L2 relative psi:    0.047784322\n",
      "Iteration #003, error L2 relative psi:    0.005483822\n",
      "Iteration #004, error L2 relative psi:    0.000297785\n",
      "Iteration #005, error L2 relative psi:    0.000026319\n",
      "\n",
      "Time 0.0625\n",
      "Iteration #001, error L2 relative psi:    0.320441777\n",
      "Iteration #002, error L2 relative psi:    0.071682248\n",
      "Iteration #003, error L2 relative psi:    0.009777887\n",
      "Iteration #004, error L2 relative psi:    0.000870249\n",
      "Iteration #005, error L2 relative psi:    0.000113379\n",
      "Iteration #006, error L2 relative psi:    0.000013810\n",
      "\n",
      "Time 0.08333\n",
      "Iteration #001, error L2 relative psi:    0.198913295\n",
      "Iteration #002, error L2 relative psi:    0.020525624\n",
      "Iteration #003, error L2 relative psi:    0.001651833\n",
      "Iteration #004, error L2 relative psi:    0.000158200\n",
      "Iteration #005, error L2 relative psi:    0.000017156\n",
      "\n",
      "Time 0.10417\n",
      "Iteration #001, error L2 relative psi:    0.150346190\n",
      "Iteration #002, error L2 relative psi:    0.011650929\n",
      "Iteration #003, error L2 relative psi:    0.000766617\n",
      "Iteration #004, error L2 relative psi:    0.000068570\n"
     ]
    },
    {
     "ename": "KeyboardInterrupt",
     "evalue": "",
     "output_type": "error",
     "traceback": [
      "\u001b[0;31m---------------------------------------------------------------------------\u001b[0m",
      "\u001b[0;31mKeyboardInterrupt\u001b[0m                         Traceback (most recent call last)",
      "\u001b[1;32m/workspaces/richards/tests/richards_initial_tests/benchamark_problem/dual_single_stage.ipynb Cell 21\u001b[0m line \u001b[0;36m2\n\u001b[1;32m      <a href='vscode-notebook-cell://dev-container%2B7b22686f737450617468223a22653a5c5c56697375616c2053747564696f20436f64655c5c7269636861726473222c226c6f63616c446f636b6572223a66616c73652c22636f6e66696746696c65223a7b22246d6964223a312c22667350617468223a22653a5c5c56697375616c2053747564696f20436f64655c5c72696368617264735c5c2e646576636f6e7461696e65725c5c646576636f6e7461696e65722e6a736f6e222c225f736570223a312c2265787465726e616c223a2266696c653a2f2f2f652533412f56697375616c25323053747564696f253230436f64652f72696368617264732f2e646576636f6e7461696e65722f646576636f6e7461696e65722e6a736f6e222c2270617468223a222f653a2f56697375616c2053747564696f20436f64652f72696368617264732f2e646576636f6e7461696e65722f646576636f6e7461696e65722e6a736f6e222c22736368656d65223a2266696c65227d7d/workspaces/richards/tests/richards_initial_tests/benchamark_problem/dual_single_stage.ipynb#X26sdnNjb2RlLXJlbW90ZQ%3D%3D?line=0'>1</a>\u001b[0m start \u001b[39m=\u001b[39m time\u001b[39m.\u001b[39mtime()\n\u001b[0;32m----> <a href='vscode-notebook-cell://dev-container%2B7b22686f737450617468223a22653a5c5c56697375616c2053747564696f20436f64655c5c7269636861726473222c226c6f63616c446f636b6572223a66616c73652c22636f6e66696746696c65223a7b22246d6964223a312c22667350617468223a22653a5c5c56697375616c2053747564696f20436f64655c5c72696368617264735c5c2e646576636f6e7461696e65725c5c646576636f6e7461696e65722e6a736f6e222c225f736570223a312c2265787465726e616c223a2266696c653a2f2f2f652533412f56697375616c25323053747564696f253230436f64652f72696368617264732f2e646576636f6e7461696e65722f646576636f6e7461696e65722e6a736f6e222c2270617468223a222f653a2f56697375616c2053747564696f20436f64652f72696368617264732f2e646576636f6e7461696e65722f646576636f6e7461696e65722e6a736f6e222c22736368656d65223a2266696c65227d7d/workspaces/richards/tests/richards_initial_tests/benchamark_problem/dual_single_stage.ipynb#X26sdnNjb2RlLXJlbW90ZQ%3D%3D?line=1'>2</a>\u001b[0m solver\u001b[39m.\u001b[39msolve()\n\u001b[1;32m      <a href='vscode-notebook-cell://dev-container%2B7b22686f737450617468223a22653a5c5c56697375616c2053747564696f20436f64655c5c7269636861726473222c226c6f63616c446f636b6572223a66616c73652c22636f6e66696746696c65223a7b22246d6964223a312c22667350617468223a22653a5c5c56697375616c2053747564696f20436f64655c5c72696368617264735c5c2e646576636f6e7461696e65725c5c646576636f6e7461696e65722e6a736f6e222c225f736570223a312c2265787465726e616c223a2266696c653a2f2f2f652533412f56697375616c25323053747564696f253230436f64652f72696368617264732f2e646576636f6e7461696e65722f646576636f6e7461696e65722e6a736f6e222c2270617468223a222f653a2f56697375616c2053747564696f20436f64652f72696368617264732f2e646576636f6e7461696e65722f646576636f6e7461696e65722e6a736f6e222c22736368656d65223a2266696c65227d7d/workspaces/richards/tests/richards_initial_tests/benchamark_problem/dual_single_stage.ipynb#X26sdnNjb2RlLXJlbW90ZQ%3D%3D?line=2'>3</a>\u001b[0m end \u001b[39m=\u001b[39m time\u001b[39m.\u001b[39mtime()\n\u001b[1;32m      <a href='vscode-notebook-cell://dev-container%2B7b22686f737450617468223a22653a5c5c56697375616c2053747564696f20436f64655c5c7269636861726473222c226c6f63616c446f636b6572223a66616c73652c22636f6e66696746696c65223a7b22246d6964223a312c22667350617468223a22653a5c5c56697375616c2053747564696f20436f64655c5c72696368617264735c5c2e646576636f6e7461696e65725c5c646576636f6e7461696e65722e6a736f6e222c225f736570223a312c2265787465726e616c223a2266696c653a2f2f2f652533412f56697375616c25323053747564696f253230436f64652f72696368617264732f2e646576636f6e7461696e65722f646576636f6e7461696e65722e6a736f6e222c2270617468223a222f653a2f56697375616c2053747564696f20436f64652f72696368617264732f2e646576636f6e7461696e65722f646576636f6e7461696e65722e6a736f6e222c22736368656d65223a2266696c65227d7d/workspaces/richards/tests/richards_initial_tests/benchamark_problem/dual_single_stage.ipynb#X26sdnNjb2RlLXJlbW90ZQ%3D%3D?line=4'>5</a>\u001b[0m \u001b[39mprint\u001b[39m(\u001b[39m'\u001b[39m\u001b[39m'\u001b[39m)\n",
      "File \u001b[0;32m/workspaces/richards/richards/solver.py:106\u001b[0m, in \u001b[0;36mSolver.solve\u001b[0;34m(self, max_iterations_per_step_override)\u001b[0m\n\u001b[1;32m    104\u001b[0m         \u001b[39mself\u001b[39m\u001b[39m.\u001b[39m__export_plot(sol[\u001b[39m-\u001b[39m\u001b[39m1\u001b[39m], \u001b[39mstr\u001b[39m(step))\n\u001b[1;32m    105\u001b[0m \u001b[39melse\u001b[39;00m:\n\u001b[0;32m--> 106\u001b[0m     sol \u001b[39m=\u001b[39m method(sol, instant, \u001b[39mself\u001b[39m\u001b[39m.\u001b[39msolver_data\u001b[39m.\u001b[39meps_psi_abs, \u001b[39mself\u001b[39m\u001b[39m.\u001b[39msolver_data\u001b[39m.\u001b[39meps_psi_rel, csv_exporter)\n\u001b[1;32m    108\u001b[0m     \u001b[39mif\u001b[39;00m \u001b[39mself\u001b[39m\u001b[39m.\u001b[39msolver_data\u001b[39m.\u001b[39mprepare_plots:\n\u001b[1;32m    109\u001b[0m         \u001b[39mself\u001b[39m\u001b[39m.\u001b[39m__export_plot(sol, \u001b[39mstr\u001b[39m(step))\n",
      "File \u001b[0;32m/workspaces/richards/richards/solver.py:396\u001b[0m, in \u001b[0;36mSolver._newton\u001b[0;34m(self, sol_n, t_n_1, abs_tol, rel_tol, exporter, id_solver, prev)\u001b[0m\n\u001b[1;32m    394\u001b[0m     \u001b[39mreturn\u001b[39;00m \u001b[39mself\u001b[39m\u001b[39m.\u001b[39m_generic_step_solver(sol_n, prev, t_n_1, abs_tol, rel_tol, exporter, \u001b[39mself\u001b[39m\u001b[39m.\u001b[39m_newton_preparation, \u001b[39mself\u001b[39m\u001b[39m.\u001b[39m_primal_newton_method_step, id_solver)\n\u001b[1;32m    395\u001b[0m \u001b[39melse\u001b[39;00m:\n\u001b[0;32m--> 396\u001b[0m     \u001b[39mreturn\u001b[39;00m \u001b[39mself\u001b[39m\u001b[39m.\u001b[39m_generic_step_solver(sol_n, prev, t_n_1, abs_tol, rel_tol, exporter, \u001b[39mself\u001b[39m\u001b[39m.\u001b[39m_newton_preparation, \u001b[39mself\u001b[39m\u001b[39m.\u001b[39m_dual_newton_method_step, id_solver)\n",
      "File \u001b[0;32m/workspaces/richards/richards/solver.py:264\u001b[0m, in \u001b[0;36mSolver._generic_step_solver\u001b[0;34m(self, sol_n, prev, t_n_1, abs_tol, rel_tol, exporter, method_prepare, method_step, id_solver)\u001b[0m\n\u001b[1;32m    262\u001b[0m \u001b[39mfor\u001b[39;00m k \u001b[39min\u001b[39;00m \u001b[39mrange\u001b[39m(\u001b[39mself\u001b[39m\u001b[39m.\u001b[39msolver_data\u001b[39m.\u001b[39mmax_iterations_per_step):\n\u001b[1;32m    263\u001b[0m     current \u001b[39m=\u001b[39m \u001b[39mNone\u001b[39;00m\n\u001b[0;32m--> 264\u001b[0m     current \u001b[39m=\u001b[39m method_step(preparation, k, prev)\n\u001b[1;32m    266\u001b[0m     \u001b[39mif\u001b[39;00m \u001b[39mself\u001b[39m\u001b[39m.\u001b[39msolver_data\u001b[39m.\u001b[39mstep_output_allowed:\n\u001b[1;32m    267\u001b[0m         save_debug\u001b[39m.\u001b[39mexport( current )\n",
      "File \u001b[0;32m/workspaces/richards/richards/solver.py:436\u001b[0m, in \u001b[0;36mSolver._dual_newton_method_step\u001b[0;34m(self, preparation, k, prev)\u001b[0m\n\u001b[1;32m    432\u001b[0m rhs[\u001b[39m-\u001b[39mdof_h:] \u001b[39m+\u001b[39m\u001b[39m=\u001b[39m D \u001b[39m@\u001b[39m h \u001b[39m/\u001b[39m dt\n\u001b[1;32m    434\u001b[0m \u001b[39m# construct the local matrices\u001b[39;00m\n\u001b[1;32m    435\u001b[0m \u001b[39m#cond = self.model_data.hydraulic_conductivity_coefficient(self.computer.project_P0_to_solution( h ), self.subdomain.cell_centers[1, :])\u001b[39;00m\n\u001b[0;32m--> 436\u001b[0m M_k_n_1 \u001b[39m=\u001b[39m \u001b[39mself\u001b[39m\u001b[39m.\u001b[39mcomputer\u001b[39m.\u001b[39mmass_matrix_RT0_conductivity(pp\u001b[39m.\u001b[39mSecondOrderTensor(\u001b[39mself\u001b[39m\u001b[39m.\u001b[39mmodel_data\u001b[39m.\u001b[39mhydraulic_conductivity_coefficient(\u001b[39mself\u001b[39m\u001b[39m.\u001b[39mcomputer\u001b[39m.\u001b[39mproject_P0_to_solution( h ), \u001b[39mself\u001b[39m\u001b[39m.\u001b[39msubdomain\u001b[39m.\u001b[39mcell_centers[\u001b[39m1\u001b[39m, :])))\n\u001b[1;32m    437\u001b[0m \u001b[39m#M_k_n_1 = self.computer.mass_matrix_RT0_conductivity(pp.SecondOrderTensor(kxx=3*cond, kxy=2*cond, kyy=3*cond))\u001b[39;00m\n\u001b[1;32m    439\u001b[0m spp \u001b[39m=\u001b[39m sps\u001b[39m.\u001b[39mbmat([[M_k_n_1, B\u001b[39m.\u001b[39mT \u001b[39m+\u001b[39m C], \n\u001b[1;32m    440\u001b[0m                 [     \u001b[39m-\u001b[39mB,  D \u001b[39m/\u001b[39m dt]], \u001b[39mformat\u001b[39m\u001b[39m=\u001b[39m\u001b[39m\"\u001b[39m\u001b[39mcsc\u001b[39m\u001b[39m\"\u001b[39m)\n",
      "File \u001b[0;32m/workspaces/richards/richards/matrix_computer.py:341\u001b[0m, in \u001b[0;36mMatrix_Computer.mass_matrix_RT0_conductivity\u001b[0;34m(self, tensor)\u001b[0m\n\u001b[1;32m    338\u001b[0m _, data \u001b[39m=\u001b[39m \u001b[39mself\u001b[39m\u001b[39m.\u001b[39mmdg\u001b[39m.\u001b[39msubdomains(return_data\u001b[39m=\u001b[39m\u001b[39mTrue\u001b[39;00m)[\u001b[39m0\u001b[39m]\n\u001b[1;32m    339\u001b[0m data[pp\u001b[39m.\u001b[39mPARAMETERS][\u001b[39mself\u001b[39m\u001b[39m.\u001b[39mkey]\u001b[39m.\u001b[39mupdate({\u001b[39m\"\u001b[39m\u001b[39msecond_order_tensor\u001b[39m\u001b[39m\"\u001b[39m: tensor})\n\u001b[0;32m--> 341\u001b[0m \u001b[39mreturn\u001b[39;00m pg\u001b[39m.\u001b[39mface_mass(\u001b[39mself\u001b[39m\u001b[39m.\u001b[39mmdg, \u001b[39mself\u001b[39m\u001b[39m.\u001b[39mRT0, keyword\u001b[39m=\u001b[39m\u001b[39mself\u001b[39m\u001b[39m.\u001b[39mkey)\n",
      "File \u001b[0;32m/opt/conda/lib/python3.11/site-packages/pygeon/numerics/innerproducts.py:37\u001b[0m, in \u001b[0;36mface_mass\u001b[0;34m(mdg, discr, **kwargs)\u001b[0m\n\u001b[1;32m     25\u001b[0m \u001b[39mdef\u001b[39;00m \u001b[39mface_mass\u001b[39m(mdg, discr\u001b[39m=\u001b[39m\u001b[39mNone\u001b[39;00m, \u001b[39m*\u001b[39m\u001b[39m*\u001b[39mkwargs):\n\u001b[1;32m     26\u001b[0m \u001b[39m    \u001b[39m\u001b[39m\"\"\"\u001b[39;00m\n\u001b[1;32m     27\u001b[0m \u001b[39m    Compute the mass matrix for discretization defined on the faces of a (MD-)grid\u001b[39;00m\n\u001b[1;32m     28\u001b[0m \n\u001b[0;32m   (...)\u001b[0m\n\u001b[1;32m     34\u001b[0m \u001b[39m        sps.csc_matrix, num_faces x num_faces\u001b[39;00m\n\u001b[1;32m     35\u001b[0m \u001b[39m    \"\"\"\u001b[39;00m\n\u001b[0;32m---> 37\u001b[0m     \u001b[39mreturn\u001b[39;00m mass_matrix(mdg, \u001b[39m1\u001b[39m, discr, \u001b[39m*\u001b[39m\u001b[39m*\u001b[39mkwargs)\n",
      "File \u001b[0;32m/opt/conda/lib/python3.11/site-packages/pygeon/numerics/innerproducts.py:155\u001b[0m, in \u001b[0;36mmass_matrix\u001b[0;34m(mdg, n_minus_k, discr, local_matrix, **kwargs)\u001b[0m\n\u001b[1;32m    153\u001b[0m \u001b[39m# Local mass matrices\u001b[39;00m\n\u001b[1;32m    154\u001b[0m \u001b[39mfor\u001b[39;00m nn_sd, (sd, d_sd) \u001b[39min\u001b[39;00m \u001b[39menumerate\u001b[39m(mdg\u001b[39m.\u001b[39msubdomains(return_data\u001b[39m=\u001b[39m\u001b[39mTrue\u001b[39;00m)):\n\u001b[0;32m--> 155\u001b[0m     bmat_sd[nn_sd, nn_sd] \u001b[39m=\u001b[39m local_matrix(sd, n_minus_k, discr, d_sd, \u001b[39m*\u001b[39m\u001b[39m*\u001b[39mkwargs)\n\u001b[1;32m    156\u001b[0m     bmat_mg[nn_sd, nn_sd] \u001b[39m=\u001b[39m sps\u001b[39m.\u001b[39mcsc_matrix(bmat_sd[nn_sd, nn_sd]\u001b[39m.\u001b[39mshape)\n\u001b[1;32m    158\u001b[0m \u001b[39m# Mortar contribution\u001b[39;00m\n",
      "File \u001b[0;32m/opt/conda/lib/python3.11/site-packages/pygeon/numerics/innerproducts.py:118\u001b[0m, in \u001b[0;36mlocal_matrix\u001b[0;34m(sd, n_minus_k, discr, d_sd, **kwargs)\u001b[0m\n\u001b[1;32m    116\u001b[0m     \u001b[39mreturn\u001b[39;00m _sd_lumped_mass(sd, n_minus_k, discr, d_sd, \u001b[39m*\u001b[39m\u001b[39m*\u001b[39mkwargs)\n\u001b[1;32m    117\u001b[0m \u001b[39melif\u001b[39;00m \u001b[39misinstance\u001b[39m(sd, pp\u001b[39m.\u001b[39mGrid):\n\u001b[0;32m--> 118\u001b[0m     \u001b[39mreturn\u001b[39;00m _sd_mass_matrix(sd, n_minus_k, discr, d_sd, \u001b[39m*\u001b[39m\u001b[39m*\u001b[39mkwargs)\n",
      "File \u001b[0;32m/opt/conda/lib/python3.11/site-packages/pygeon/numerics/innerproducts.py:111\u001b[0m, in \u001b[0;36m_sd_mass_matrix\u001b[0;34m(sd, n_minus_k, discr, data, **kwargs)\u001b[0m\n\u001b[1;32m    108\u001b[0m \u001b[39mif\u001b[39;00m discr \u001b[39mis\u001b[39;00m \u001b[39mNone\u001b[39;00m:\n\u001b[1;32m    109\u001b[0m     discr \u001b[39m=\u001b[39m default_discr(sd, n_minus_k, \u001b[39m*\u001b[39m\u001b[39m*\u001b[39mkwargs)\n\u001b[0;32m--> 111\u001b[0m \u001b[39mreturn\u001b[39;00m discr\u001b[39m.\u001b[39massemble_mass_matrix(sd, data)\n",
      "File \u001b[0;32m/opt/conda/lib/python3.11/site-packages/pygeon/discretizations/fem/hdiv.py:75\u001b[0m, in \u001b[0;36mRT0.assemble_mass_matrix\u001b[0;34m(self, sd, data)\u001b[0m\n\u001b[1;32m     63\u001b[0m \u001b[39m\u001b[39m\u001b[39m\"\"\"\u001b[39;00m\n\u001b[1;32m     64\u001b[0m \u001b[39mAssembles the mass matrix\u001b[39;00m\n\u001b[1;32m     65\u001b[0m \n\u001b[0;32m   (...)\u001b[0m\n\u001b[1;32m     71\u001b[0m \u001b[39m    mass_matrix: the mass matrix.\u001b[39;00m\n\u001b[1;32m     72\u001b[0m \u001b[39m\"\"\"\u001b[39;00m\n\u001b[1;32m     74\u001b[0m data \u001b[39m=\u001b[39m \u001b[39mself\u001b[39m\u001b[39m.\u001b[39mcreate_dummy_data(sd, data)\n\u001b[0;32m---> 75\u001b[0m pp\u001b[39m.\u001b[39mRT0\u001b[39m.\u001b[39mdiscretize(\u001b[39mself\u001b[39m, sd, data)\n\u001b[1;32m     76\u001b[0m \u001b[39mreturn\u001b[39;00m data[pp\u001b[39m.\u001b[39mDISCRETIZATION_MATRICES][\u001b[39mself\u001b[39m\u001b[39m.\u001b[39mkeyword][\n\u001b[1;32m     77\u001b[0m     \u001b[39mself\u001b[39m\u001b[39m.\u001b[39mmass_matrix_key\n\u001b[1;32m     78\u001b[0m ]\u001b[39m.\u001b[39mtocsc()\n",
      "File \u001b[0;32m/opt/conda/lib/python3.11/site-packages/porepy/numerics/fem/rt0.py:160\u001b[0m, in \u001b[0;36mRT0.discretize\u001b[0;34m(self, sd, data)\u001b[0m\n\u001b[1;32m    158\u001b[0m loc_idx \u001b[39m=\u001b[39m \u001b[39mslice\u001b[39m(idx_P, idx_P \u001b[39m+\u001b[39m P\u001b[39m.\u001b[39msize)\n\u001b[1;32m    159\u001b[0m cols_P[loc_idx] \u001b[39m=\u001b[39m np\u001b[39m.\u001b[39mconcatenate(\u001b[39m3\u001b[39m \u001b[39m*\u001b[39m [[faces_loc]])\u001b[39m.\u001b[39mravel()\n\u001b[0;32m--> 160\u001b[0m rows_P[loc_idx] \u001b[39m=\u001b[39m np\u001b[39m.\u001b[39mrepeat(np\u001b[39m.\u001b[39marange(\u001b[39m3\u001b[39m), faces_loc\u001b[39m.\u001b[39msize) \u001b[39m+\u001b[39m idx_row_P\n\u001b[1;32m    161\u001b[0m data_P[loc_idx] \u001b[39m=\u001b[39m P\u001b[39m.\u001b[39mravel()\n\u001b[1;32m    162\u001b[0m idx_P \u001b[39m+\u001b[39m\u001b[39m=\u001b[39m P\u001b[39m.\u001b[39msize\n",
      "File \u001b[0;32m<__array_function__ internals>:180\u001b[0m, in \u001b[0;36mrepeat\u001b[0;34m(*args, **kwargs)\u001b[0m\n",
      "File \u001b[0;32m/opt/conda/lib/python3.11/site-packages/numpy/core/fromnumeric.py:432\u001b[0m, in \u001b[0;36m_repeat_dispatcher\u001b[0;34m(a, repeats, axis)\u001b[0m\n\u001b[1;32m    309\u001b[0m \u001b[39m    \u001b[39m\u001b[39m\"\"\"\u001b[39;00m\n\u001b[1;32m    310\u001b[0m \u001b[39m    Construct an array from an index array and a list of arrays to choose from.\u001b[39;00m\n\u001b[1;32m    311\u001b[0m \n\u001b[0;32m   (...)\u001b[0m\n\u001b[1;32m    427\u001b[0m \n\u001b[1;32m    428\u001b[0m \u001b[39m    \"\"\"\u001b[39;00m\n\u001b[1;32m    429\u001b[0m     \u001b[39mreturn\u001b[39;00m _wrapfunc(a, \u001b[39m'\u001b[39m\u001b[39mchoose\u001b[39m\u001b[39m'\u001b[39m, choices, out\u001b[39m=\u001b[39mout, mode\u001b[39m=\u001b[39mmode)\n\u001b[0;32m--> 432\u001b[0m \u001b[39mdef\u001b[39;00m \u001b[39m_repeat_dispatcher\u001b[39m(a, repeats, axis\u001b[39m=\u001b[39m\u001b[39mNone\u001b[39;00m):\n\u001b[1;32m    433\u001b[0m     \u001b[39mreturn\u001b[39;00m (a,)\n\u001b[1;32m    436\u001b[0m \u001b[39m@array_function_dispatch\u001b[39m(_repeat_dispatcher)\n\u001b[1;32m    437\u001b[0m \u001b[39mdef\u001b[39;00m \u001b[39mrepeat\u001b[39m(a, repeats, axis\u001b[39m=\u001b[39m\u001b[39mNone\u001b[39;00m):\n",
      "\u001b[0;31mKeyboardInterrupt\u001b[0m: "
     ]
    }
   ],
   "source": [
    "start = time.time()\n",
    "solver.solve()\n",
    "end = time.time()\n",
    "\n",
    "print('')\n",
    "print(end - start)"
   ]
  }
 ],
 "metadata": {
  "kernelspec": {
   "display_name": ".venv",
   "language": "python",
   "name": "python3"
  },
  "language_info": {
   "codemirror_mode": {
    "name": "ipython",
    "version": 3
   },
   "file_extension": ".py",
   "mimetype": "text/x-python",
   "name": "python",
   "nbconvert_exporter": "python",
   "pygments_lexer": "ipython3",
   "version": "3.11.5"
  },
  "orig_nbformat": 4
 },
 "nbformat": 4,
 "nbformat_minor": 2
}
