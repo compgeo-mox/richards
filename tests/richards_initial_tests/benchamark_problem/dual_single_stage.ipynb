{
 "cells": [
  {
   "attachments": {},
   "cell_type": "markdown",
   "metadata": {},
   "source": [
    "# Richards equation\n",
    "\n",
    "In this tutorial we present how to solve a Richards equation with [PyGeoN](https://github.com/compgeo-mox/pygeon).  The unkwons are the velocity $q$ and the pressure $p$.\n",
    "\n",
    "Let $\\Omega=(0,2)\\times(0,3)$ with boundary $\\partial \\Omega$ and outward unit normal ${\\nu}$. Given \n",
    "$k$ the matrix permeability, we want to solve the following problem: find $({q}, \\psi)$ such that\n",
    "$$\n",
    "\\left\\{\n",
    "\\begin{array}{ll}\n",
    "\\begin{array}{l} \n",
    "K^{-1}(\\psi) {q} + \\nabla \\psi = -\\nabla z\\\\\n",
    "\\partial_t \\theta (\\psi) + \\nabla \\cdot {q} = 0\n",
    "\\end{array}\n",
    "&\\text{in } \\Omega \\times (0,T)\n",
    "\\end{array}\n",
    "\\right.\n",
    "$$\n",
    "with boundary conditions:\n",
    "\n",
    "$$\n",
    "\\psi(t,x,z)=\n",
    "\\left\\{\n",
    "\\begin{array}{ll}\n",
    "\\begin{array}{l} \n",
    "-2+2.2 \\frac{t}{\\Delta t_D}, \\text{ on } \\Gamma_{D_1}, t\\leq\\Delta t_D\\\\\n",
    "0.2, \\text{ on } \\Gamma_{D_1}, t>\\Delta t_D\\\\\n",
    "1-z, \\text{ on } \\Gamma_{D_2}\n",
    "\\end{array}\n",
    "\\end{array}\n",
    "\\right., \\qquad \\nu \\cdot q = 0 \\text{ on } \\Gamma_N \\qquad \\psi(0,x,z) = 1-z \\text{ on } \\Omega$$\n",
    "and\n",
    "$$\n",
    "\\Gamma_{D_1} = \\left\\{ (x,z) \\in \\partial \\Omega \\:|\\: x \\in [0,1] \\wedge z=3  \\right\\},\\\\\n",
    "\\Gamma_{D_2} = \\left\\{ (x,z) \\in \\partial \\Omega \\:|\\: x = 2 \\wedge z \\in [0,1]  \\right\\},\\\\\n",
    "\\Gamma_{D} = \\Gamma_{D_1} \\cup \\Gamma_{D_2},\\\\\n",
    "\\Gamma_{N} = \\partial \\Omega \\setminus \\Gamma_D\n",
    "$$\n",
    "\n",
    "We present *step-by-step* how to create the grid, declare the problem data, and finally solve the problem."
   ]
  },
  {
   "attachments": {},
   "cell_type": "markdown",
   "metadata": {},
   "source": [
    "### Import and parameters"
   ]
  },
  {
   "cell_type": "code",
   "execution_count": 1,
   "metadata": {},
   "outputs": [
    {
     "name": "stderr",
     "output_type": "stream",
     "text": [
      "/opt/conda/lib/python3.11/site-packages/porepy/numerics/nonlinear/nonlinear_solvers.py:13: TqdmExperimentalWarning: Using `tqdm.autonotebook.tqdm` in notebook mode. Use `tqdm.tqdm` instead to force console mode (e.g. in jupyter console)\n",
      "  from tqdm.autonotebook import trange  # type: ignore\n"
     ]
    }
   ],
   "source": [
    "import shutil\n",
    "import os\n",
    "\n",
    "import numpy as np\n",
    "import scipy.sparse as sps\n",
    "from scipy.sparse import linalg\n",
    "import sympy as sp\n",
    "\n",
    "import porepy as pp\n",
    "import pygeon as pg\n",
    "\n",
    "import time\n",
    "from math import ceil, floor, log10, exp\n",
    "\n",
    "import matplotlib.pyplot as plt"
   ]
  },
  {
   "cell_type": "code",
   "execution_count": 2,
   "metadata": {},
   "outputs": [],
   "source": [
    "import sys\n",
    "sys.path.insert(0, \"/workspaces/richards/\")\n",
    "\n",
    "from richards.model_params import Model_Data\n",
    "from richards.matrix_computer import Matrix_Computer\n",
    "\n",
    "from richards.solver import Solver\n",
    "from richards.solver_params import Solver_Data, Solver_Enum, Norm_Error"
   ]
  },
  {
   "cell_type": "code",
   "execution_count": 3,
   "metadata": {},
   "outputs": [],
   "source": [
    "# Set the maximum number of iterations of the non-linear solver\n",
    "K = 50\n",
    "\n",
    "# L-scheme parameter\n",
    "L = 3.501e-2\n",
    "\n",
    "# Set the mesh refinment\n",
    "N = 20\n",
    "\n",
    "# Set the number of steps (excluding the initial condition)\n",
    "num_steps = 9\n",
    "\n",
    "# Simulation time length\n",
    "T = num_steps/48\n",
    "\n",
    "# Time switch conditions (for the boundary condition)\n",
    "dt_D = 3/48\n",
    "\n",
    "# Fluid density\n",
    "rho = 1000\n",
    "\n",
    "# Relative and absolute tolerances for the non-linear solver\n",
    "abs_tol = 1e-6\n",
    "rel_tol = 1e-6\n",
    "\n",
    "# Domain tolerance\n",
    "domain_tolerance = 1 / (10 * N)\n",
    "\n",
    "# Output directory\n",
    "output_directory = 'dual_single_stage'"
   ]
  },
  {
   "cell_type": "code",
   "execution_count": 4,
   "metadata": {},
   "outputs": [],
   "source": [
    "# Van Genuchten model parameters ( relative permeability model )\n",
    "theta_s = 0.396\n",
    "theta_r = 0.131\n",
    "\n",
    "alpha = 0.423\n",
    "\n",
    "n = 2.06\n",
    "K_s = 4.96e-2\n",
    "\n",
    "m = 1 - 1/n"
   ]
  },
  {
   "cell_type": "code",
   "execution_count": 5,
   "metadata": {},
   "outputs": [],
   "source": [
    "# Time step\n",
    "dt   = (T-0)/num_steps"
   ]
  },
  {
   "cell_type": "code",
   "execution_count": 6,
   "metadata": {},
   "outputs": [],
   "source": [
    "model_data = Model_Data(theta_r=theta_r, theta_s=theta_s, alpha=alpha, n=n, K_s=K_s, T=T, num_steps=num_steps)"
   ]
  },
  {
   "attachments": {},
   "cell_type": "markdown",
   "metadata": {},
   "source": [
    "### Domain preparation"
   ]
  },
  {
   "cell_type": "code",
   "execution_count": 7,
   "metadata": {},
   "outputs": [],
   "source": [
    "# Prepare the domain and its mesh\n",
    "subdomain = pp.StructuredTriangleGrid([2*N, 3*N], [2,3])\n",
    "\n",
    "# Convert it to a mixed-dimensional grid\n",
    "mdg = pp.meshing.subdomains_to_mdg([subdomain])"
   ]
  },
  {
   "cell_type": "code",
   "execution_count": 8,
   "metadata": {},
   "outputs": [],
   "source": [
    "key = \"flow\"\n",
    "\n",
    "# Collection of boundary conditions\n",
    "bc_value = []\n",
    "bc_essential = []\n",
    "\n",
    "# Initial pressure\n",
    "initial_pressure = []\n",
    "\n",
    "# Discretizations for q and \\psi\n",
    "RT0 = pg.RT0(key)\n",
    "P0  = pg.PwConstants(key)"
   ]
  },
  {
   "cell_type": "code",
   "execution_count": 9,
   "metadata": {},
   "outputs": [],
   "source": [
    "# Initial pressure function\n",
    "def initial_pressure_func(x): \n",
    "    return 1"
   ]
  },
  {
   "cell_type": "code",
   "execution_count": 10,
   "metadata": {},
   "outputs": [],
   "source": [
    "# Fake loop to extract the grid and its data (i.e. conductivity tensor)\n",
    "for subdomain, data in mdg.subdomains(return_data=True):\n",
    "    # Prepare the inital pressure term by interpolating initial_pressure_func into the P0 space\n",
    "    initial_pressure.append(P0.interpolate(subdomain, initial_pressure_func))\n",
    "        \n",
    "    # Get the boundary faces ids\n",
    "    boundary_faces_indexes = subdomain.get_boundary_faces()\n",
    "\n",
    "    # Gamma_D1 and Gamma_D2 boundary faces\n",
    "    gamma_d1 = np.logical_and(subdomain.face_centers[0, :] > 0-domain_tolerance, np.logical_and(subdomain.face_centers[0, :] < 1+domain_tolerance, subdomain.face_centers[1, :] > 3-domain_tolerance))\n",
    "    gamma_d2 = np.logical_and(subdomain.face_centers[0, :] > 2-domain_tolerance, np.logical_and(subdomain.face_centers[1, :] > 0-domain_tolerance, subdomain.face_centers[1, :] < 1+domain_tolerance))\n",
    "\n",
    "    gamma_d  = np.logical_or(gamma_d1, gamma_d2)\n",
    "\n",
    "    # Gamma_N is the remaining part of the boundary    \n",
    "    gamma_n  = gamma_d.copy()\n",
    "    gamma_n[boundary_faces_indexes] = np.logical_not(gamma_n[boundary_faces_indexes])\n",
    "    \n",
    "    # Set the initial conductivity tensor in data (the actual saved tensor does not matter at this stage)\n",
    "    pp.initialize_data(subdomain, data, key, {\n",
    "        \"second_order_tensor\": pp.SecondOrderTensor(np.ones(subdomain.num_cells)),\n",
    "    })\n",
    "    \n",
    "    # Prepare the \\hat{\\psi} function\n",
    "    def bc_gamma_d(x, t):\n",
    "        if   x[0] > 2-domain_tolerance and x[1] > 0-domain_tolerance and x[1] < 1+domain_tolerance:\n",
    "            res =  1\n",
    "        elif x[1] > 3-domain_tolerance and x[0] > 0-domain_tolerance and x[0] < 1+domain_tolerance:\n",
    "            res = min( 3.2, 1 + 2.2 * t / dt_D )\n",
    "        else:\n",
    "            res = 0\n",
    "        \n",
    "        return res\n",
    "\n",
    "    # Add a lambda function that generates for each time instant the (discretized) natural boundary conditions for the problem\n",
    "    bc_value.append(lambda t: - RT0.assemble_nat_bc(subdomain, lambda x: bc_gamma_d(x,t), gamma_d))\n",
    "\n",
    "    # Set the essential boundary conditions (they will be enforced before solving the system)\n",
    "    essential_pressure_dofs = np.zeros(P0.ndof(subdomain), dtype=bool)\n",
    "    bc_essential = np.hstack((gamma_n, essential_pressure_dofs))"
   ]
  },
  {
   "attachments": {},
   "cell_type": "markdown",
   "metadata": {},
   "source": [
    "### Method"
   ]
  },
  {
   "attachments": {},
   "cell_type": "markdown",
   "metadata": {},
   "source": [
    "A quick recap:\n",
    "$$\n",
    "\\left\\{\n",
    "\\begin{array}{ll}\n",
    "\\begin{array}{l} \n",
    "K^{-1}(\\psi) {q} + \\nabla \\psi = -\\nabla z\\\\\n",
    "\\partial_t \\theta (\\psi) + \\nabla \\cdot {q} = 0\n",
    "\\end{array}\n",
    "&\\text{in } \\Omega \\times (0,T)\n",
    "\\end{array}\n",
    "\\right.\n",
    "$$\n",
    "becames, with the time discretization:"
   ]
  },
  {
   "attachments": {},
   "cell_type": "markdown",
   "metadata": {},
   "source": [
    "$$\n",
    "\\left\\{\n",
    "\\begin{array}{ll}\n",
    "\\begin{array}{l} \n",
    "K^{-1}(\\psi^{n+1}_k) {q^{n+1}_{k+1}} + \\nabla \\psi^{n+1}_{k+1} = -\\nabla z\\\\\n",
    "\\frac{\\partial \\theta(\\psi_k^{n+1})}{\\partial \\psi} \\frac{\\psi_{k+1}^{n+1}}{\\Delta t} + \\nabla \\cdot {q^{n+1}} = \\frac{\\partial \\theta(\\psi_k^{n+1})}{\\partial \\psi} \\frac{\\psi_{k}^{n+1}}{\\Delta t} + \\frac{\\theta (\\psi^{n}) - \\theta (\\psi^{n+1}_k)}{\\Delta t} \n",
    "\\end{array}\n",
    "&\\text{in } \\Omega \\times (0,T)\n",
    "\\end{array}\n",
    "\\right.\n",
    "$$"
   ]
  },
  {
   "cell_type": "code",
   "execution_count": 11,
   "metadata": {},
   "outputs": [],
   "source": [
    "if os.path.exists(output_directory):\n",
    "    shutil.rmtree(output_directory)"
   ]
  },
  {
   "cell_type": "code",
   "execution_count": 12,
   "metadata": {},
   "outputs": [],
   "source": [
    "# assemble initial solution\n",
    "cp = Matrix_Computer(mdg)\n",
    "initial_solution = np.zeros(cp.dof_RT0 + cp.dof_P0)\n",
    "initial_solution[-cp.dof_P0:] += np.hstack(initial_pressure)"
   ]
  },
  {
   "cell_type": "code",
   "execution_count": 13,
   "metadata": {},
   "outputs": [],
   "source": [
    "solver_data = Solver_Data(mdg=mdg, initial_solution=initial_solution, scheme=Solver_Enum.LSCHEME, \n",
    "                          bc_essential=lambda t: bc_essential, eps_psi_abs=abs_tol, \n",
    "                          eps_psi_rel=rel_tol, max_iterations_per_step=K,   \n",
    "                          output_directory=output_directory, L_Scheme_value=L, \n",
    "                          step_output_allowed=True,\n",
    "                          report_name='dual', \n",
    "                          norm_error=Norm_Error.EUCLIDIAN)\n",
    "\n",
    "solver_data.set_rhs_vector_q(lambda t: np.hstack(list(cond(t) for cond in bc_value)))"
   ]
  },
  {
   "cell_type": "code",
   "execution_count": 14,
   "metadata": {},
   "outputs": [],
   "source": [
    "solver = Solver(model_data=model_data, solver_data=solver_data)"
   ]
  },
  {
   "cell_type": "code",
   "execution_count": 15,
   "metadata": {},
   "outputs": [
    {
     "name": "stdout",
     "output_type": "stream",
     "text": [
      "Csv_Exporter: A file with name dual_LSCHEME_richards_solver.csv is detected. I'll delete it\n",
      "Time 0.02083\n"
     ]
    },
    {
     "name": "stderr",
     "output_type": "stream",
     "text": [
      "<lambdifygenerated-1>:2: RuntimeWarning: invalid value encountered in power\n",
      "  return select([less(h, z),True], [0.265*(0.1699265174169*(-h + z)**2.06 + 1)**(-0.514563106796116) + 0.131,0.396], default=nan)\n",
      "<lambdifygenerated-2>:2: RuntimeWarning: invalid value encountered in power\n",
      "  return select([less(h, z),True], [0.0496*(1 - (1 - 1.0*(0.1699265174169*(-h + z)**2.06 + 1)**(-1.0))**0.514563106796116)**2*(0.1699265174169*(-h + z)**2.06 + 1)**(-0.257281553398058),0.0496], default=nan)\n"
     ]
    },
    {
     "name": "stdout",
     "output_type": "stream",
     "text": [
      "Iteration #001, relative norm of the error:    0.0474419297, norm of the error:    0.0041085916\n",
      "Iteration #002, relative norm of the error:    0.0075023512, norm of the error:    0.0006550160\n",
      "Iteration #003, relative norm of the error:    0.0006438590, norm of the error:    0.0000563016\n",
      "Iteration #004, relative norm of the error:    0.0000169274, norm of the error:    0.0000014804\n",
      "Iteration #005, relative norm of the error:    0.0000030343, norm of the error:    0.0000002654\n",
      "\n",
      "Time 0.04167\n",
      "Iteration #001, relative norm of the error:    0.0773742999, norm of the error:    0.0067668639\n",
      "Iteration #002, relative norm of the error:    0.0204367854, norm of the error:    0.0018252942\n",
      "Iteration #003, relative norm of the error:    0.0040091383, norm of the error:    0.0003603291\n",
      "Iteration #004, relative norm of the error:    0.0003727337, norm of the error:    0.0000335383\n",
      "Iteration #005, relative norm of the error:    0.0001368136, norm of the error:    0.0000123099\n",
      "Iteration #006, relative norm of the error:    0.0000176018, norm of the error:    0.0000015837\n",
      "Iteration #007, relative norm of the error:    0.0000047871, norm of the error:    0.0000004307\n",
      "\n",
      "Time 0.0625\n",
      "Iteration #001, relative norm of the error:    0.1081961328, norm of the error:    0.0097346431\n",
      "Iteration #002, relative norm of the error:    0.0347053129, norm of the error:    0.0032600043\n",
      "Iteration #003, relative norm of the error:    0.0095588931, norm of the error:    0.0009107898\n",
      "Iteration #004, relative norm of the error:    0.0016124988, norm of the error:    0.0001541097\n",
      "Iteration #005, relative norm of the error:    0.0006066760, norm of the error:    0.0000579770\n",
      "Iteration #006, relative norm of the error:    0.0001584311, norm of the error:    0.0000151372\n",
      "Iteration #007, relative norm of the error:    0.0000376554, norm of the error:    0.0000035976\n",
      "Iteration #008, relative norm of the error:    0.0000131779, norm of the error:    0.0000012590\n",
      "Iteration #009, relative norm of the error:    0.0000027625, norm of the error:    0.0000002639\n",
      "\n",
      "Time 0.08333\n",
      "Iteration #001, relative norm of the error:    0.0683879650, norm of the error:    0.0065339677\n",
      "Iteration #002, relative norm of the error:    0.0107577327, norm of the error:    0.0010606579\n",
      "Iteration #003, relative norm of the error:    0.0019415219, norm of the error:    0.0001920258\n",
      "Iteration #004, relative norm of the error:    0.0006748472, norm of the error:    0.0000667283\n",
      "Iteration #005, relative norm of the error:    0.0001606694, norm of the error:    0.0000158824\n",
      "Iteration #006, relative norm of the error:    0.0000332732, norm of the error:    0.0000032890\n",
      "Iteration #007, relative norm of the error:    0.0000103581, norm of the error:    0.0000010239\n",
      "\n",
      "Time 0.10417\n",
      "Iteration #001, relative norm of the error:    0.0517336855, norm of the error:    0.0051138778\n",
      "Iteration #002, relative norm of the error:    0.0055857081, norm of the error:    0.0005661566\n",
      "Iteration #003, relative norm of the error:    0.0009359093, norm of the error:    0.0000949878\n",
      "Iteration #004, relative norm of the error:    0.0002705717, norm of the error:    0.0000274565\n",
      "Iteration #005, relative norm of the error:    0.0000587533, norm of the error:    0.0000059613\n",
      "Iteration #006, relative norm of the error:    0.0000093604, norm of the error:    0.0000009497\n",
      "\n",
      "Time 0.125\n",
      "Iteration #001, relative norm of the error:    0.0418910835, norm of the error:    0.0042504083\n",
      "Iteration #002, relative norm of the error:    0.0037217382, norm of the error:    0.0003856886\n",
      "Iteration #003, relative norm of the error:    0.0005161723, norm of the error:    0.0000535363\n",
      "Iteration #004, relative norm of the error:    0.0000897124, norm of the error:    0.0000093051\n",
      "Iteration #005, relative norm of the error:    0.0000200116, norm of the error:    0.0000020756\n",
      "Iteration #006, relative norm of the error:    0.0000030384, norm of the error:    0.0000003151\n",
      "\n",
      "Time 0.14583\n",
      "Iteration #001, relative norm of the error:    0.0352424494, norm of the error:    0.0036552537\n",
      "Iteration #002, relative norm of the error:    0.0030718653, norm of the error:    0.0003245207\n",
      "Iteration #003, relative norm of the error:    0.0004866002, norm of the error:    0.0000514446\n",
      "Iteration #004, relative norm of the error:    0.0000812860, norm of the error:    0.0000085955\n",
      "Iteration #005, relative norm of the error:    0.0000183076, norm of the error:    0.0000019359\n",
      "Iteration #006, relative norm of the error:    0.0000047283, norm of the error:    0.0000005000\n",
      "\n",
      "Time 0.16667\n",
      "Iteration #001, relative norm of the error:    0.0304233432, norm of the error:    0.0032171771\n",
      "Iteration #002, relative norm of the error:    0.0028593771, norm of the error:    0.0003073547\n",
      "Iteration #003, relative norm of the error:    0.0005774856, norm of the error:    0.0000621236\n",
      "Iteration #004, relative norm of the error:    0.0001472692, norm of the error:    0.0000158475\n",
      "Iteration #005, relative norm of the error:    0.0000433373, norm of the error:    0.0000046638\n",
      "Iteration #006, relative norm of the error:    0.0000138053, norm of the error:    0.0000014857\n",
      "Iteration #007, relative norm of the error:    0.0000064364, norm of the error:    0.0000006927\n",
      "\n",
      "Time 0.1875\n",
      "Iteration #001, relative norm of the error:    0.0267346005, norm of the error:    0.0028771884\n",
      "Iteration #002, relative norm of the error:    0.0028115584, norm of the error:    0.0003070769\n",
      "Iteration #003, relative norm of the error:    0.0006697853, norm of the error:    0.0000732193\n",
      "Iteration #004, relative norm of the error:    0.0002062873, norm of the error:    0.0000225597\n",
      "Iteration #005, relative norm of the error:    0.0000712180, norm of the error:    0.0000077893\n",
      "Iteration #006, relative norm of the error:    0.0000271694, norm of the error:    0.0000029717\n",
      "Iteration #007, relative norm of the error:    0.0000141529, norm of the error:    0.0000015480\n",
      "Iteration #008, relative norm of the error:    0.0000108581, norm of the error:    0.0000011877\n",
      "Iteration #009, relative norm of the error:    0.0000097407, norm of the error:    0.0000010655\n",
      "\n",
      "\n",
      "48.89094090461731\n"
     ]
    }
   ],
   "source": [
    "start = time.time()\n",
    "solver.solve()\n",
    "end = time.time()\n",
    "\n",
    "print('')\n",
    "print(end - start)"
   ]
  }
 ],
 "metadata": {
  "kernelspec": {
   "display_name": ".venv",
   "language": "python",
   "name": "python3"
  },
  "language_info": {
   "codemirror_mode": {
    "name": "ipython",
    "version": 3
   },
   "file_extension": ".py",
   "mimetype": "text/x-python",
   "name": "python",
   "nbconvert_exporter": "python",
   "pygments_lexer": "ipython3",
   "version": "3.11.5"
  },
  "orig_nbformat": 4
 },
 "nbformat": 4,
 "nbformat_minor": 2
}
