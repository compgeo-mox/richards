{
 "cells": [
  {
   "attachments": {},
   "cell_type": "markdown",
   "id": "essential-american",
   "metadata": {},
   "source": [
    "# Darcy equation\n",
    "\n",
    "In this tutorial we present how to solve an evolutionary Darcy equation with [PyGeoN](https://github.com/compgeo-mox/pygeon).  The unkwons are the velocity $q$ and the pressure $p$.\n",
    "\n",
    "Let $\\Omega=(0,1)^2$ with boundary $\\partial \\Omega$ and outward unit normal ${\\nu}$. Let $(0,T)$ with $10=T>0$ be the overall simulation period. Given \n",
    "$k$ the matrix permeability, we want to solve the following problem: find $({q}, p)$ such that\n",
    "$$\n",
    "\\left\\{\n",
    "\\begin{array}{ll}\n",
    "\\begin{array}{l} \n",
    "k^{-1} {q} + \\nabla p = {- \\rho g \\nabla y}\\\\\n",
    "p_t + \\nabla \\cdot {q} = f\n",
    "\\end{array}\n",
    "&\\text{in } \\Omega \\times (0,T)\n",
    "\\end{array}\n",
    "\\right.\n",
    "$$\n",
    "with boundary conditions:\n",
    "$$ p = 0 \\text{ on } \\partial_{top} \\Omega \\times (0,T] \\qquad p = \\rho g \\text{ on } \\partial_{bottom} \\Omega \\times (0,T] \\qquad \\nu \\cdot q = 0 \\text{ on } \\partial_{left} \\Omega \\cup \\partial_{right} \\Omega \\times (0,T] $$\n",
    "and initial conditions:\n",
    "$$ p|_{t=0} = (1-y) \\rho g \\text{ in } \\Omega \\qquad q|_{t=0} = 0 \\text{ in } \\Omega $$\n",
    "\n",
    "We present *step-by-step* how to create the grid, declare the problem data, and finally solve the problem."
   ]
  },
  {
   "cell_type": "markdown",
   "id": "planned-danger",
   "metadata": {},
   "source": [
    "First we import some of the standard modules, like `numpy` and `scipy.sparse`. Since PyGeoN is based on [PorePy](https://github.com/pmgbergen/porepy) we import both modules."
   ]
  },
  {
   "cell_type": "code",
   "execution_count": 1,
   "id": "dietary-perth",
   "metadata": {},
   "outputs": [
    {
     "name": "stderr",
     "output_type": "stream",
     "text": [
      "/opt/conda/lib/python3.11/site-packages/porepy/numerics/nonlinear/nonlinear_solvers.py:13: TqdmExperimentalWarning: Using `tqdm.autonotebook.tqdm` in notebook mode. Use `tqdm.tqdm` instead to force console mode (e.g. in jupyter console)\n",
      "  from tqdm.autonotebook import trange  # type: ignore\n"
     ]
    }
   ],
   "source": [
    "import shutil\n",
    "import os\n",
    "\n",
    "import numpy as np\n",
    "import scipy.sparse as sps\n",
    "\n",
    "import porepy as pp\n",
    "import pygeon as pg\n",
    "\n",
    "from math import ceil"
   ]
  },
  {
   "attachments": {},
   "cell_type": "markdown",
   "id": "b085b08e",
   "metadata": {},
   "source": [
    "Initial parameters definition"
   ]
  },
  {
   "cell_type": "code",
   "execution_count": 2,
   "id": "spectacular-saturn",
   "metadata": {},
   "outputs": [],
   "source": [
    "N = 10\n",
    "dt = 0.1\n",
    "\n",
    "T = 3\n",
    "\n",
    "output_directory = 'lagrange_multiplier'"
   ]
  },
  {
   "attachments": {},
   "cell_type": "markdown",
   "id": "f5a76633",
   "metadata": {},
   "source": [
    "Mass generation term and initial pressure"
   ]
  },
  {
   "attachments": {},
   "cell_type": "markdown",
   "id": "c4376e6c",
   "metadata": {},
   "source": [
    "We create now the grid, since we will use a Raviart-Thomas approximation for ${q}$ we are restricted to simplices. In this example we consider a 2-dimensional structured grid, but the presented code will work also in 1d and 3d. PyGeoN works with mixed-dimensional grids, so we need to convert the grid."
   ]
  },
  {
   "cell_type": "markdown",
   "id": "b9713a60",
   "metadata": {},
   "source": [
    "subdomain = pp.StructuredTriangleGrid([N, 2*N], [1, 2])\n",
    "# convert the grid into a mixed-dimensional grid\n",
    "mdg = pp.meshing.subdomains_to_mdg([subdomain])"
   ]
  },
  {
   "cell_type": "markdown",
   "id": "c7805603",
   "metadata": {},
   "source": [
    "bottom_grid, bottom_face_map, bottom_boundary_node_map  = pp.partition.extract_subgrid(subdomain, subdomain.cell_centers[1, :] < 1, faces=False)\n",
    "top_grid, top_face_map, top_boundary_node_map           = pp.partition.extract_subgrid(subdomain, subdomain.cell_centers[1, :] > 1, faces=False)"
   ]
  },
  {
   "cell_type": "code",
   "execution_count": 3,
   "id": "70e25e1f",
   "metadata": {},
   "outputs": [],
   "source": [
    "top_grid = pp.StructuredTriangleGrid([N, N], [1,1])\n",
    "top_grid.compute_geometry()\n",
    "\n",
    "bottom_grid = pp.StructuredTriangleGrid([N, 2*N], [1,1])\n",
    "bottom_grid.compute_geometry()"
   ]
  },
  {
   "cell_type": "code",
   "execution_count": 4,
   "id": "40da1548",
   "metadata": {},
   "outputs": [],
   "source": [
    "boundary_grid, boundary_face_map, boundary_node_map  = pp.partition.extract_subgrid(top_grid, \n",
    "                                                                                    top_grid.face_centers[1, :] == np.min(top_grid.face_centers[1, :]), \n",
    "                                                                                    faces=True)"
   ]
  },
  {
   "cell_type": "markdown",
   "id": "precious-belle",
   "metadata": {},
   "source": [
    "With the following code we set the data, in particular the permeability tensor and the boundary conditions. Since we need to identify each side of $\\partial \\Omega$ we need few steps."
   ]
  },
  {
   "cell_type": "code",
   "execution_count": 5,
   "id": "365807cf",
   "metadata": {},
   "outputs": [],
   "source": [
    "key = \"flow\""
   ]
  },
  {
   "cell_type": "code",
   "execution_count": 6,
   "id": "ab8743e4",
   "metadata": {},
   "outputs": [],
   "source": [
    "top_RT0 = pg.RT0(key)\n",
    "top_P0 = pg.PwConstants(key)\n",
    "top_data = {}\n",
    "\n",
    "top_dof_h =  top_P0.ndof( top_grid )\n",
    "top_dof_q = top_RT0.ndof( top_grid )"
   ]
  },
  {
   "cell_type": "code",
   "execution_count": 7,
   "id": "cdbbbf41",
   "metadata": {},
   "outputs": [],
   "source": [
    "bottom_RT0 = pg.RT0(key)\n",
    "bottom_P0 = pg.PwConstants(key)\n",
    "bottom_data = {}\n",
    "\n",
    "bottom_dof_h = bottom_P0.ndof( bottom_grid )\n",
    "bottom_dof_q = bottom_RT0.ndof( bottom_grid )"
   ]
  },
  {
   "cell_type": "code",
   "execution_count": 8,
   "id": "4ae57861",
   "metadata": {},
   "outputs": [],
   "source": [
    "gamma_lagrange = pg.PwConstants(key)\n",
    "gamma_data = {}\n",
    "\n",
    "gamma_dof = gamma_lagrange.ndof( boundary_grid )"
   ]
  },
  {
   "cell_type": "code",
   "execution_count": 9,
   "id": "d3a1bc28",
   "metadata": {},
   "outputs": [
    {
     "data": {
      "text/plain": [
       "{'discretization_matrices': {'flow': {}},\n",
       " 'parameters': Data object for physical processes flow\n",
       " The keyword \"flow\" has the following parameters specified: second_order_tensor}"
      ]
     },
     "execution_count": 9,
     "metadata": {},
     "output_type": "execute_result"
    }
   ],
   "source": [
    "# permeability tensor\n",
    "pp.initialize_data(bottom_grid, bottom_data, key, { \"second_order_tensor\": pp.SecondOrderTensor(np.ones(bottom_grid.num_cells)),})\n",
    "pp.initialize_data(   top_grid,    top_data, key, { \"second_order_tensor\": pp.SecondOrderTensor(np.ones(top_grid.num_cells)),})"
   ]
  },
  {
   "cell_type": "code",
   "execution_count": 10,
   "id": "6e4a17e5",
   "metadata": {},
   "outputs": [],
   "source": [
    "dirichlet_bottom_flag = bottom_grid.face_centers[1, :] == np.min( bottom_grid.face_centers[1,:] )\n",
    "dirichlet_bottom_value = lambda t: - bottom_RT0.assemble_nat_bc(bottom_grid, lambda x: 2, dirichlet_bottom_flag)\n",
    "\n",
    "neumann_bottom_flag  = np.hstack((np.array(np.logical_or( bottom_grid.face_centers[0, :] == np.min(bottom_grid.face_centers[0, :]), \n",
    "                                                          bottom_grid.face_centers[0, :] == np.max(bottom_grid.face_centers[0, :])  ), dtype=bool), \n",
    "                                 np.zeros(shape=bottom_dof_h, dtype=bool)))\n",
    "neumann_bottom_value = np.zeros(shape=(bottom_dof_h + bottom_dof_q))"
   ]
  },
  {
   "cell_type": "code",
   "execution_count": 11,
   "id": "4b848d8b",
   "metadata": {},
   "outputs": [],
   "source": [
    "dirichlet_top_flag  = top_grid.face_centers[1, :] == np.max(top_grid.face_centers[1,:])\n",
    "dirichlet_top_value = lambda t: - top_RT0.assemble_nat_bc(top_grid, lambda x: max(2 - t, 1), dirichlet_top_flag)\n",
    "\n",
    "neumann_top_flag  = np.hstack((np.logical_or( top_grid.face_centers[0, :] == np.min(top_grid.face_centers[0, :]), \n",
    "                                             top_grid.face_centers[0, :] == np.max(top_grid.face_centers[0, :]) ), \n",
    "                                            np.zeros(shape=top_dof_h, dtype=bool)))\n",
    "neumann_top_value = np.zeros(shape=(top_dof_h + top_dof_q))"
   ]
  },
  {
   "cell_type": "code",
   "execution_count": 12,
   "id": "feac7ff7",
   "metadata": {},
   "outputs": [],
   "source": [
    "neumann_flag = np.hstack( (neumann_bottom_flag, neumann_top_flag, np.zeros(shape=(gamma_dof), dtype=bool)) )\n",
    "neumann_value = np.hstack( (neumann_bottom_value, neumann_top_value, np.zeros(shape=(gamma_dof))) )"
   ]
  },
  {
   "attachments": {},
   "cell_type": "markdown",
   "id": "secure-flesh",
   "metadata": {},
   "source": [
    "Once the data are assigned to the mixed-dimensional grid, we construct the matrices. In particular, the linear system associated with the equation at every timestep is given as\n",
    "$$\n",
    "\\left(\n",
    "\\begin{array}{cc} \n",
    "M_K &     B^\\top\\\\\n",
    "-\\Delta t B  & M_p\n",
    "\\end{array}\n",
    "\\right)\n",
    "\\left(\n",
    "\\begin{array}{c} \n",
    "q^{n+1}\\\\ \n",
    "p^{n+1}\n",
    "\\end{array}\n",
    "\\right)\n",
    "=\\left(\n",
    "\\begin{array}{c} \n",
    "p_{\\partial} + M_p g\\\\ \n",
    "M_p p^n + \\Delta t M_p f^{n+1}\n",
    "\\end{array}\n",
    "\\right)\n",
    "$$<br>\n",
    "where $p_{\\partial}$ is the vector associated to the pressure boundary contions, $(\\cdot)^n$ is a generic variable at the n-th time instant. We can now construct the initial building blocks of the monolithic matrix:"
   ]
  },
  {
   "cell_type": "code",
   "execution_count": 13,
   "id": "2d07f0c8",
   "metadata": {},
   "outputs": [],
   "source": [
    "top_mass_h =  top_P0.assemble_mass_matrix(top_grid, top_data)\n",
    "top_mass_q = top_RT0.assemble_mass_matrix(top_grid, top_data)\n",
    "top_B = - top_mass_h @ pg.div( top_grid )"
   ]
  },
  {
   "cell_type": "code",
   "execution_count": 14,
   "id": "7ad63e60",
   "metadata": {},
   "outputs": [],
   "source": [
    "bottom_mass_h =  bottom_P0.assemble_mass_matrix( bottom_grid, bottom_data )\n",
    "bottom_mass_q = bottom_RT0.assemble_mass_matrix( bottom_grid, bottom_data )\n",
    "bottom_B = - bottom_mass_h @ pg.div( bottom_grid )"
   ]
  },
  {
   "cell_type": "code",
   "execution_count": 15,
   "id": "0048c319",
   "metadata": {},
   "outputs": [],
   "source": [
    "top_proj_q = top_RT0.eval_at_cell_centers( top_grid )\n",
    "top_proj_h = top_P0.eval_at_cell_centers( top_grid )\n",
    "\n",
    "bottom_proj_q = bottom_RT0.eval_at_cell_centers( bottom_grid )\n",
    "bottom_proj_h = bottom_P0.eval_at_cell_centers( bottom_grid )"
   ]
  },
  {
   "cell_type": "code",
   "execution_count": 16,
   "id": "45b3ca59",
   "metadata": {},
   "outputs": [],
   "source": [
    "# assemble initial solution\n",
    "initial_solution = np.zeros(top_dof_q + top_dof_h + bottom_dof_q + gamma_dof + bottom_dof_h)"
   ]
  },
  {
   "cell_type": "code",
   "execution_count": 17,
   "id": "ade8d79b",
   "metadata": {},
   "outputs": [],
   "source": [
    "bottom_q_mask = np.zeros_like(initial_solution, dtype=bool)\n",
    "bottom_q_mask[:(bottom_dof_q)] = True\n",
    "\n",
    "bottom_h_mask = np.zeros_like(initial_solution, dtype=bool)\n",
    "bottom_h_mask[ (bottom_dof_q) : (bottom_dof_q  + bottom_dof_h) ] = True\n",
    "\n",
    "top_q_mask = np.zeros_like(initial_solution, dtype=bool)\n",
    "top_q_mask[(bottom_dof_q + bottom_dof_h):(bottom_dof_q + bottom_dof_h + top_dof_q)] = True\n",
    "\n",
    "top_h_mask = np.zeros_like(initial_solution, dtype=bool)\n",
    "top_h_mask[ (bottom_dof_q + bottom_dof_h + top_dof_q) : (bottom_dof_q + bottom_dof_h + top_dof_q + top_dof_h) ] = True\n",
    "\n",
    "gamma_multipler = np.zeros_like(initial_solution, dtype=bool)\n",
    "gamma_multipler[-(gamma_dof):] = True"
   ]
  },
  {
   "cell_type": "code",
   "execution_count": 18,
   "id": "f174d69c",
   "metadata": {},
   "outputs": [],
   "source": [
    "initial_solution[top_h_mask]    =    top_P0.interpolate(   top_grid, lambda x: 2)\n",
    "initial_solution[bottom_h_mask] = bottom_P0.interpolate(bottom_grid, lambda x: 2)"
   ]
  },
  {
   "cell_type": "code",
   "execution_count": 19,
   "id": "5d786595",
   "metadata": {},
   "outputs": [],
   "source": [
    "top_saver    = pp.Exporter(top_grid,    \"top_sol\", folder_name=output_directory)\n",
    "bottom_saver = pp.Exporter(bottom_grid, \"bottom_sol\", folder_name=output_directory)\n",
    "\n",
    "def save_step(current_sol, step):\n",
    "    ins = list()\n",
    "\n",
    "    ins.append((top_grid, \"cell_q\", ( top_proj_q @ current_sol[top_q_mask] ).reshape((3, -1), order=\"F\")))\n",
    "    ins.append((top_grid, \"cell_h\", top_proj_h @ current_sol[top_h_mask]))\n",
    "\n",
    "    top_saver.write_vtu(ins, time_step=step)\n",
    "\n",
    "    ins = list()\n",
    "\n",
    "    ins.append((bottom_grid, \"cell_q\", ( bottom_proj_q @ current_sol[bottom_q_mask] ).reshape((3, -1), order=\"F\")))\n",
    "    ins.append((bottom_grid, \"cell_h\", bottom_proj_h @ current_sol[bottom_h_mask]))\n",
    "\n",
    "    bottom_saver.write_vtu(ins, time_step=step)"
   ]
  },
  {
   "cell_type": "code",
   "execution_count": 20,
   "id": "cf8b64a0",
   "metadata": {},
   "outputs": [],
   "source": [
    "if os.path.exists(output_directory):\n",
    "    shutil.rmtree(output_directory)"
   ]
  },
  {
   "cell_type": "code",
   "execution_count": 21,
   "id": "subtle-wonder",
   "metadata": {},
   "outputs": [],
   "source": [
    "# solve the problem\n",
    "\n",
    "sol = [initial_solution]\n",
    "\n",
    "t = 0\n",
    "\n",
    "save_step(sol[-1], 0)"
   ]
  },
  {
   "attachments": {},
   "cell_type": "markdown",
   "id": "bc8c2ecb",
   "metadata": {},
   "source": [
    "We need to solve the linear system, PyGeoN provides a framework for that. The actual imposition of essential boundary conditions (flux boundary conditions) might change the symmetry of the global system, the class `pg.LinearSystem` preserves this structure by internally eliminating these degrees of freedom. Once the problem is solved, we extract the two solutions $q$ and $p$."
   ]
  },
  {
   "cell_type": "code",
   "execution_count": 22,
   "id": "72aba6ad",
   "metadata": {},
   "outputs": [],
   "source": [
    "top_boundary_restrictor = np.zeros(shape=(gamma_dof, top_dof_q))\n",
    "top_boundary_restrictor[list(range(gamma_dof)), np.where( top_grid.face_centers[1,:] == np.min(top_grid.face_centers[1,:]) )] = 1\n",
    "top_boundary_restrictor = sps.csr_matrix(top_boundary_restrictor)"
   ]
  },
  {
   "cell_type": "code",
   "execution_count": 23,
   "id": "fcebfb53",
   "metadata": {},
   "outputs": [],
   "source": [
    "bottom_boundary_restrictor = np.zeros(shape=(gamma_dof, bottom_dof_q))\n",
    "bottom_boundary_restrictor[list(range(gamma_dof)), np.where( bottom_grid.face_centers[1,:] == np.max(bottom_grid.face_centers[1,:]) )] = 1\n",
    "bottom_boundary_restrictor = sps.csr_matrix(bottom_boundary_restrictor)"
   ]
  },
  {
   "cell_type": "code",
   "execution_count": 24,
   "id": "f69af83b",
   "metadata": {},
   "outputs": [],
   "source": [
    "gamma_M = gamma_lagrange.assemble_mass_matrix( boundary_grid ) / N"
   ]
  },
  {
   "cell_type": "code",
   "execution_count": 25,
   "id": "32be2c79",
   "metadata": {},
   "outputs": [
    {
     "name": "stdout",
     "output_type": "stream",
     "text": [
      "[1.99577514 1.99577233 1.9957697  1.99576727 1.99576498 1.99576274\n",
      " 1.99576045 1.99575801 1.99575538 1.99575257]\n",
      "[1.98489867 1.9848928  1.98488715 1.98488179 1.98487662 1.98487153\n",
      " 1.98486636 1.98486099 1.98485534 1.98484947]\n",
      "[1.96715572 1.96714775 1.96713995 1.96713241 1.96712507 1.96711779\n",
      " 1.96711044 1.9671029  1.96709509 1.96708713]\n",
      "[1.94332424 1.9433151  1.94330606 1.94329723 1.94328857 1.94327997\n",
      " 1.94327131 1.94326248 1.94325344 1.9432443 ]\n",
      "[1.91441029 1.91440055 1.91439089 1.9143814  1.91437206 1.91436277\n",
      " 1.91435343 1.91434395 1.91433429 1.91432455]\n",
      "[1.88135492 1.88134491 1.88133497 1.8813252  1.88131556 1.88130596\n",
      " 1.88129632 1.88128655 1.88127661 1.8812666 ]\n",
      "[1.84495706 1.84494695 1.84493691 1.84492704 1.8449173  1.8449076\n",
      " 1.84489786 1.84488799 1.84487795 1.84486783]\n",
      "[1.80587159 1.80586144 1.80585139 1.80584152 1.80583177 1.80582207\n",
      " 1.80581233 1.80580246 1.80579241 1.80578227]\n",
      "[1.76462817 1.76461804 1.76460802 1.76459818 1.76458847 1.76457882\n",
      " 1.76456911 1.76455927 1.76454925 1.76453912]\n",
      "[1.72165308 1.72164297 1.72163299 1.7216232  1.72161355 1.72160394\n",
      " 1.72159429 1.7215845  1.72157452 1.72156441]\n",
      "[1.68151351 1.68150623 1.68149892 1.68149161 1.6814843  1.681477\n",
      " 1.68146969 1.68146239 1.68145508 1.68144781]\n",
      "[1.64691094 1.64690675 1.6469025  1.64689817 1.64689379 1.64688939\n",
      " 1.646885   1.64688068 1.64687643 1.64687225]\n",
      "[1.6182807  1.61827863 1.61827656 1.61827445 1.6182723  1.61827012\n",
      " 1.61826796 1.61826585 1.61826379 1.61826172]\n",
      "[1.59502168 1.59502081 1.59502001 1.59501921 1.5950184  1.59501759\n",
      " 1.59501678 1.59501599 1.59501519 1.59501432]\n",
      "[1.57626968 1.57626943 1.57626927 1.57626916 1.57626906 1.57626897\n",
      " 1.57626887 1.57626876 1.5762686  1.57626835]\n",
      "[1.56119748 1.56119751 1.56119765 1.56119785 1.56119808 1.56119831\n",
      " 1.56119854 1.56119874 1.56119888 1.56119891]\n",
      "[1.54909744 1.54909758 1.54909784 1.54909816 1.5490985  1.54909886\n",
      " 1.54909921 1.54909952 1.54909978 1.54909992]\n",
      "[1.53938794 1.53938811 1.53938839 1.53938873 1.53938909 1.53938947\n",
      " 1.53938983 1.53939017 1.53939045 1.53939062]\n",
      "[1.53159804 1.53159821 1.53159847 1.53159878 1.53159912 1.53159947\n",
      " 1.53159981 1.53160012 1.53160038 1.53160055]\n",
      "[1.52534863 1.52534878 1.52534901 1.52534929 1.52534958 1.52534988\n",
      " 1.52535018 1.52535045 1.52535068 1.52535083]\n",
      "[1.52033519 1.52033532 1.52033551 1.52033574 1.52033599 1.52033625\n",
      " 1.52033649 1.52033672 1.52033692 1.52033705]\n",
      "[1.5163133  1.51631341 1.51631357 1.51631376 1.51631396 1.51631417\n",
      " 1.51631438 1.51631457 1.51631473 1.51631484]\n",
      "[1.51308686 1.51308695 1.51308708 1.51308723 1.5130874  1.51308758\n",
      " 1.51308774 1.5130879  1.51308803 1.51308812]\n",
      "[1.51049854 1.51049862 1.51049872 1.51049885 1.51049899 1.51049913\n",
      " 1.51049926 1.51049939 1.5104995  1.51049957]\n",
      "[1.50842215 1.50842221 1.50842229 1.5084224  1.50842251 1.50842262\n",
      " 1.50842273 1.50842283 1.50842292 1.50842298]\n",
      "[1.50675642 1.50675647 1.50675654 1.50675662 1.50675671 1.5067568\n",
      " 1.50675689 1.50675697 1.50675704 1.50675709]\n",
      "[1.50542014 1.50542018 1.50542024 1.5054203  1.50542037 1.50542045\n",
      " 1.50542052 1.50542059 1.50542064 1.50542068]\n",
      "[1.50434815 1.50434818 1.50434823 1.50434828 1.50434834 1.5043484\n",
      " 1.50434845 1.50434851 1.50434855 1.50434858]\n",
      "[1.50348818 1.5034882  1.50348824 1.50348828 1.50348833 1.50348838\n",
      " 1.50348842 1.50348846 1.5034885  1.50348853]\n",
      "[1.50279829 1.50279831 1.50279834 1.50279837 1.50279841 1.50279845\n",
      " 1.50279848 1.50279852 1.50279855 1.50279857]\n"
     ]
    }
   ],
   "source": [
    "# Time Loop\n",
    "for step in range(1, ceil(T/dt) + 1):\n",
    "    current_time = step * dt\n",
    "    \n",
    "    rhs = np.zeros_like(sol[-1])\n",
    "    rhs[top_q_mask]    += dirichlet_top_value(current_time)\n",
    "    rhs[bottom_q_mask] += dirichlet_bottom_value(current_time)\n",
    "\n",
    "    rhs[top_h_mask]    +=    top_mass_h @ sol[-1][top_h_mask]\n",
    "    rhs[bottom_h_mask] += bottom_mass_h @ sol[-1][bottom_h_mask]\n",
    "\n",
    "\n",
    "    spp = sps.bmat(\n",
    "        [[                           bottom_mass_q,    bottom_B.T,                              None,       None, -(gamma_M @ bottom_boundary_restrictor).T],\n",
    "         [                          -dt * bottom_B, bottom_mass_h,                              None,       None,                                      None],\n",
    "         [                                    None,          None,                        top_mass_q,    top_B.T,     (gamma_M @ top_boundary_restrictor).T],\n",
    "         [                                    None,          None,                       -dt * top_B, top_mass_h,                                      None],\n",
    "         [   -gamma_M @ bottom_boundary_restrictor,          None, gamma_M @ top_boundary_restrictor,       None,                                      None]], format = 'csc')\n",
    "     \n",
    "    ls = pg.LinearSystem(spp, rhs)\n",
    "    ls.flag_ess_bc(neumann_flag, neumann_value)\n",
    "\n",
    "    sol.append( ls.solve() )\n",
    "\n",
    "    print( sol[-1][-gamma_dof:] )\n",
    "\n",
    "    save_step(sol[-1], step)"
   ]
  }
 ],
 "metadata": {
  "kernelspec": {
   "display_name": "Python 3.10.2 64-bit ('3.10.2')",
   "language": "python",
   "name": "python3"
  },
  "language_info": {
   "codemirror_mode": {
    "name": "ipython",
    "version": 3
   },
   "file_extension": ".py",
   "mimetype": "text/x-python",
   "name": "python",
   "nbconvert_exporter": "python",
   "pygments_lexer": "ipython3",
   "version": "3.11.3"
  },
  "vscode": {
   "interpreter": {
    "hash": "e4cc1db98167c7fd7d55a1da8057731abc6cd6fe154328a2ae319df8aab4e24d"
   }
  }
 },
 "nbformat": 4,
 "nbformat_minor": 5
}
