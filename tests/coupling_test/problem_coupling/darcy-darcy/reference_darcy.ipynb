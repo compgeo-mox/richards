{
 "cells": [
  {
   "attachments": {},
   "cell_type": "markdown",
   "id": "essential-american",
   "metadata": {},
   "source": [
    "# Darcy equation\n",
    "\n",
    "In this tutorial we present how to solve an evolutionary Darcy equation with [PyGeoN](https://github.com/compgeo-mox/pygeon).  The unkwons are the velocity $q$ and the pressure $p$.\n",
    "\n",
    "Let $\\Omega=(0,1)^2$ with boundary $\\partial \\Omega$ and outward unit normal ${\\nu}$. Let $(0,T)$ with $10=T>0$ be the overall simulation period. Given \n",
    "$k$ the matrix permeability, we want to solve the following problem: find $({q}, p)$ such that\n",
    "$$\n",
    "\\left\\{\n",
    "\\begin{array}{ll}\n",
    "\\begin{array}{l} \n",
    "k^{-1} {q} + \\nabla p = {- \\rho g \\nabla y}\\\\\n",
    "p_t + \\nabla \\cdot {q} = f\n",
    "\\end{array}\n",
    "&\\text{in } \\Omega \\times (0,T)\n",
    "\\end{array}\n",
    "\\right.\n",
    "$$\n",
    "with boundary conditions:\n",
    "$$ p = 0 \\text{ on } \\partial_{top} \\Omega \\times (0,T] \\qquad p = \\rho g \\text{ on } \\partial_{bottom} \\Omega \\times (0,T] \\qquad \\nu \\cdot q = 0 \\text{ on } \\partial_{left} \\Omega \\cup \\partial_{right} \\Omega \\times (0,T] $$\n",
    "and initial conditions:\n",
    "$$ p|_{t=0} = (1-y) \\rho g \\text{ in } \\Omega \\qquad q|_{t=0} = 0 \\text{ in } \\Omega $$\n",
    "\n",
    "We present *step-by-step* how to create the grid, declare the problem data, and finally solve the problem."
   ]
  },
  {
   "cell_type": "markdown",
   "id": "planned-danger",
   "metadata": {},
   "source": [
    "First we import some of the standard modules, like `numpy` and `scipy.sparse`. Since PyGeoN is based on [PorePy](https://github.com/pmgbergen/porepy) we import both modules."
   ]
  },
  {
   "cell_type": "code",
   "execution_count": 1,
   "id": "dietary-perth",
   "metadata": {},
   "outputs": [
    {
     "name": "stderr",
     "output_type": "stream",
     "text": [
      "/opt/conda/lib/python3.11/site-packages/porepy/numerics/nonlinear/nonlinear_solvers.py:13: TqdmExperimentalWarning: Using `tqdm.autonotebook.tqdm` in notebook mode. Use `tqdm.tqdm` instead to force console mode (e.g. in jupyter console)\n",
      "  from tqdm.autonotebook import trange  # type: ignore\n"
     ]
    }
   ],
   "source": [
    "import shutil\n",
    "import os\n",
    "\n",
    "import numpy as np\n",
    "import scipy.sparse as sps\n",
    "\n",
    "import porepy as pp\n",
    "import pygeon as pg\n",
    "\n",
    "from math import ceil"
   ]
  },
  {
   "attachments": {},
   "cell_type": "markdown",
   "id": "b085b08e",
   "metadata": {},
   "source": [
    "Initial parameters definition"
   ]
  },
  {
   "cell_type": "code",
   "execution_count": 2,
   "id": "spectacular-saturn",
   "metadata": {},
   "outputs": [],
   "source": [
    "N = 10\n",
    "dt = 0.1\n",
    "\n",
    "T = 3\n",
    "\n",
    "output_directory = 'reference_darcy'"
   ]
  },
  {
   "attachments": {},
   "cell_type": "markdown",
   "id": "f5a76633",
   "metadata": {},
   "source": [
    "Mass generation term and initial pressure"
   ]
  },
  {
   "attachments": {},
   "cell_type": "markdown",
   "id": "c4376e6c",
   "metadata": {},
   "source": [
    "We create now the grid, since we will use a Raviart-Thomas approximation for ${q}$ we are restricted to simplices. In this example we consider a 2-dimensional structured grid, but the presented code will work also in 1d and 3d. PyGeoN works with mixed-dimensional grids, so we need to convert the grid."
   ]
  },
  {
   "cell_type": "code",
   "execution_count": 3,
   "id": "b9713a60",
   "metadata": {},
   "outputs": [],
   "source": [
    "subdomain = pp.StructuredTriangleGrid([N, 2*N], [1, 2])\n",
    "# convert the grid into a mixed-dimensional grid\n",
    "mdg = pp.meshing.subdomains_to_mdg([subdomain])"
   ]
  },
  {
   "cell_type": "markdown",
   "id": "precious-belle",
   "metadata": {},
   "source": [
    "With the following code we set the data, in particular the permeability tensor and the boundary conditions. Since we need to identify each side of $\\partial \\Omega$ we need few steps."
   ]
  },
  {
   "cell_type": "code",
   "execution_count": 4,
   "id": "365807cf",
   "metadata": {},
   "outputs": [],
   "source": [
    "key = \"flow\"\n",
    "\n",
    "bc_value = []\n",
    "bc_essential = []\n",
    "\n",
    "gravity = []\n",
    "initial_pressure = []\n",
    "tmp_discrete_f = []\n",
    "\n",
    "RT0 = pg.RT0(key)\n",
    "P0 = pg.PwConstants(key)"
   ]
  },
  {
   "cell_type": "code",
   "execution_count": 5,
   "id": "d3a1bc28",
   "metadata": {},
   "outputs": [],
   "source": [
    "subdomain, data = mdg.subdomains(return_data=True)[0]\n",
    "\n",
    "# permeability tensor\n",
    "perm = pp.SecondOrderTensor(np.ones(subdomain.num_cells))\n",
    "parameters = {\n",
    "    \"second_order_tensor\": perm,\n",
    "}\n",
    "pp.initialize_data(subdomain, data, key, parameters)\n",
    "        \n",
    "# with the following steps we identify the portions of the boundary\n",
    "# to impose the boundary conditions\n",
    "left_right = np.logical_or(subdomain.face_centers[0, :] == 0,  subdomain.face_centers[0, :] == 1)\n",
    "\n",
    "bottom = subdomain.face_centers[1, :] == 0\n",
    "top    = subdomain.face_centers[1, :] == 2\n",
    "    \n",
    "bc_value = lambda t: - RT0.assemble_nat_bc(subdomain, lambda x: max(2 - t, 1), top) - RT0.assemble_nat_bc(subdomain, lambda x: 2, bottom)\n",
    "\n",
    "essential_pressure_dofs = np.zeros(P0.ndof(subdomain), dtype=bool)\n",
    "bc_essential = np.hstack((left_right, essential_pressure_dofs))\n",
    "\n",
    "initial_pressure = P0.interpolate(subdomain, lambda x: 2)"
   ]
  },
  {
   "attachments": {},
   "cell_type": "markdown",
   "id": "secure-flesh",
   "metadata": {},
   "source": [
    "Once the data are assigned to the mixed-dimensional grid, we construct the matrices. In particular, the linear system associated with the equation at every timestep is given as\n",
    "$$\n",
    "\\left(\n",
    "\\begin{array}{cc} \n",
    "M_K &     B^\\top\\\\\n",
    "-\\Delta t B  & M_p\n",
    "\\end{array}\n",
    "\\right)\n",
    "\\left(\n",
    "\\begin{array}{c} \n",
    "q^{n+1}\\\\ \n",
    "p^{n+1}\n",
    "\\end{array}\n",
    "\\right)\n",
    "=\\left(\n",
    "\\begin{array}{c} \n",
    "p_{\\partial} + M_p g\\\\ \n",
    "M_p p^n + \\Delta t M_p f^{n+1}\n",
    "\\end{array}\n",
    "\\right)\n",
    "$$<br>\n",
    "where $p_{\\partial}$ is the vector associated to the pressure boundary contions, $(\\cdot)^n$ is a generic variable at the n-th time instant. We can now construct the initial building blocks of the monolithic matrix:"
   ]
  },
  {
   "cell_type": "code",
   "execution_count": 6,
   "id": "romance-findings",
   "metadata": {},
   "outputs": [],
   "source": [
    "# construct the local matrices\n",
    "mass_q = pg.face_mass(mdg)\n",
    "mass_p = pg.cell_mass(mdg)\n",
    "\n",
    "B = - mass_p * pg.div(mdg)\n",
    "\n",
    "# get the degrees of freedom for each variable\n",
    "dof_p, dof_q = B.shape"
   ]
  },
  {
   "attachments": {},
   "cell_type": "markdown",
   "id": "a1d269aa",
   "metadata": {},
   "source": [
    "Here, a simple function to construct the right hand side (rhs) at every time instant is defined"
   ]
  },
  {
   "cell_type": "code",
   "execution_count": 7,
   "metadata": {},
   "outputs": [],
   "source": [
    "# assemble the right-hand side\n",
    "fixed_rhs = np.zeros(dof_p + dof_q)\n",
    "\n",
    "\n",
    "\n",
    "def assemple_rhs(previous_solution, time) -> np.array:\n",
    "    rhs = fixed_rhs.copy()\n",
    "    rhs[:dof_q] += bc_value(time)\n",
    "    rhs[-dof_p:] += (mass_p @ previous_solution[-dof_p:])\n",
    "\n",
    "    return rhs"
   ]
  },
  {
   "attachments": {},
   "cell_type": "markdown",
   "id": "mobile-nirvana",
   "metadata": {},
   "source": [
    "Here, we prepare a simple function to export the solution at every instant"
   ]
  },
  {
   "cell_type": "code",
   "execution_count": 8,
   "id": "46887fe5",
   "metadata": {},
   "outputs": [],
   "source": [
    "proj_q = RT0.eval_at_cell_centers(subdomain)\n",
    "proj_p =  P0.eval_at_cell_centers(subdomain)"
   ]
  },
  {
   "cell_type": "code",
   "execution_count": 9,
   "id": "3ba6d019",
   "metadata": {},
   "outputs": [],
   "source": [
    "def save_step(saver, current_sol, step):\n",
    "    ins = list()\n",
    "\n",
    "    ins.append((subdomain, \"cell_q\", ( proj_q @ current_sol[:dof_q] ).reshape((3, -1), order=\"F\")))\n",
    "    ins.append((subdomain, \"cell_p\", proj_p @ current_sol[-dof_p:]))\n",
    "\n",
    "    saver.write_vtu(ins, time_step=step)"
   ]
  },
  {
   "cell_type": "code",
   "execution_count": 10,
   "id": "45b3ca59",
   "metadata": {},
   "outputs": [],
   "source": [
    "# assemble initial solution\n",
    "initial_solution = np.zeros(dof_p + dof_q)\n",
    "initial_solution[-dof_p:] += initial_pressure"
   ]
  },
  {
   "cell_type": "code",
   "execution_count": 11,
   "id": "subtle-wonder",
   "metadata": {},
   "outputs": [],
   "source": [
    "# solve the problem\n",
    "\n",
    "sol = [initial_solution]\n",
    "\n",
    "t = 0\n",
    "\n",
    "if os.path.exists(output_directory):\n",
    "    shutil.rmtree(output_directory)\n",
    "\n",
    "save = pp.Exporter(mdg, \"sol\", folder_name=output_directory)\n",
    "save_step(save, sol[-1], 0)"
   ]
  },
  {
   "attachments": {},
   "cell_type": "markdown",
   "id": "bc8c2ecb",
   "metadata": {},
   "source": [
    "We need to solve the linear system, PyGeoN provides a framework for that. The actual imposition of essential boundary conditions (flux boundary conditions) might change the symmetry of the global system, the class `pg.LinearSystem` preserves this structure by internally eliminating these degrees of freedom. Once the problem is solved, we extract the two solutions $q$ and $p$."
   ]
  },
  {
   "cell_type": "code",
   "execution_count": 12,
   "id": "32be2c79",
   "metadata": {},
   "outputs": [],
   "source": [
    "# Time Loop\n",
    "for step in range(1, ceil(T/dt) + 1):\n",
    "    spp = sps.bmat([[mass_q,       B.T], \n",
    "                    [ -dt*B,    mass_p]], format=\"csc\")\n",
    "    \n",
    "    ls = pg.LinearSystem(spp, assemple_rhs(sol[-1], step*dt))\n",
    "    ls.flag_ess_bc(bc_essential, np.zeros(dof_q + dof_p))\n",
    "\n",
    "    sol.append( ls.solve() )\n",
    "\n",
    "    save_step(save, sol[-1], step)\n",
    "\n",
    "save.write_pvd(np.array(range(0, ceil(T/dt) + 1)) * dt)"
   ]
  }
 ],
 "metadata": {
  "kernelspec": {
   "display_name": "Python 3.10.2 64-bit ('3.10.2')",
   "language": "python",
   "name": "python3"
  },
  "language_info": {
   "codemirror_mode": {
    "name": "ipython",
    "version": 3
   },
   "file_extension": ".py",
   "mimetype": "text/x-python",
   "name": "python",
   "nbconvert_exporter": "python",
   "pygments_lexer": "ipython3",
   "version": "3.11.3"
  },
  "vscode": {
   "interpreter": {
    "hash": "e4cc1db98167c7fd7d55a1da8057731abc6cd6fe154328a2ae319df8aab4e24d"
   }
  }
 },
 "nbformat": 4,
 "nbformat_minor": 5
}
