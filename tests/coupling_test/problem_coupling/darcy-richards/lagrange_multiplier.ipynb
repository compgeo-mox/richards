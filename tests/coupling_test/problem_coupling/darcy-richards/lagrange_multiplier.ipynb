{
 "cells": [
  {
   "attachments": {},
   "cell_type": "markdown",
   "id": "essential-american",
   "metadata": {},
   "source": [
    "# Darcy equation\n",
    "\n",
    "In this tutorial we present how to solve an evolutionary Darcy equation with [PyGeoN](https://github.com/compgeo-mox/pygeon).  The unkwons are the velocity $q$ and the pressure $p$.\n",
    "\n",
    "Let $\\Omega=(0,1)^2$ with boundary $\\partial \\Omega$ and outward unit normal ${\\nu}$. Let $(0,T)$ with $10=T>0$ be the overall simulation period. Given \n",
    "$k$ the matrix permeability, we want to solve the following problem: find $({q}, p)$ such that\n",
    "$$\n",
    "\\left\\{\n",
    "\\begin{array}{ll}\n",
    "\\begin{array}{l} \n",
    "k^{-1} {q} + \\nabla p = {- \\rho g \\nabla y}\\\\\n",
    "p_t + \\nabla \\cdot {q} = f\n",
    "\\end{array}\n",
    "&\\text{in } \\Omega \\times (0,T)\n",
    "\\end{array}\n",
    "\\right.\n",
    "$$\n",
    "with boundary conditions:\n",
    "$$ p = 0 \\text{ on } \\partial_{top} \\Omega \\times (0,T] \\qquad p = \\rho g \\text{ on } \\partial_{bottom} \\Omega \\times (0,T] \\qquad \\nu \\cdot q = 0 \\text{ on } \\partial_{left} \\Omega \\cup \\partial_{right} \\Omega \\times (0,T] $$\n",
    "and initial conditions:\n",
    "$$ p|_{t=0} = (1-y) \\rho g \\text{ in } \\Omega \\qquad q|_{t=0} = 0 \\text{ in } \\Omega $$\n",
    "\n",
    "We present *step-by-step* how to create the grid, declare the problem data, and finally solve the problem."
   ]
  },
  {
   "cell_type": "markdown",
   "id": "planned-danger",
   "metadata": {},
   "source": [
    "First we import some of the standard modules, like `numpy` and `scipy.sparse`. Since PyGeoN is based on [PorePy](https://github.com/pmgbergen/porepy) we import both modules."
   ]
  },
  {
   "cell_type": "code",
   "execution_count": 1,
   "id": "28083838",
   "metadata": {},
   "outputs": [],
   "source": [
    "%load_ext Cython"
   ]
  },
  {
   "cell_type": "code",
   "execution_count": 2,
   "id": "dietary-perth",
   "metadata": {},
   "outputs": [
    {
     "name": "stderr",
     "output_type": "stream",
     "text": [
      "/opt/conda/lib/python3.11/site-packages/porepy/numerics/nonlinear/nonlinear_solvers.py:13: TqdmExperimentalWarning: Using `tqdm.autonotebook.tqdm` in notebook mode. Use `tqdm.tqdm` instead to force console mode (e.g. in jupyter console)\n",
      "  from tqdm.autonotebook import trange  # type: ignore\n"
     ]
    }
   ],
   "source": [
    "import shutil\n",
    "import os\n",
    "\n",
    "import numpy as np\n",
    "import scipy.sparse as sps\n",
    "from scipy.sparse import linalg\n",
    "import scipy.integrate as integrate\n",
    "import sympy as sp\n",
    "\n",
    "import porepy as pp\n",
    "import pygeon as pg\n",
    "\n",
    "import time\n",
    "from math import ceil, floor, log10, exp\n",
    "\n",
    "import matplotlib.pyplot as plt"
   ]
  },
  {
   "attachments": {},
   "cell_type": "markdown",
   "id": "b085b08e",
   "metadata": {},
   "source": [
    "Initial parameters definition"
   ]
  },
  {
   "cell_type": "code",
   "execution_count": 3,
   "id": "spectacular-saturn",
   "metadata": {},
   "outputs": [],
   "source": [
    "N = 10\n",
    "dt = 0.1\n",
    "\n",
    "T = 3\n",
    "\n",
    "output_directory = 'lagrange_multiplier'"
   ]
  },
  {
   "cell_type": "code",
   "execution_count": 4,
   "id": "d7306a19",
   "metadata": {},
   "outputs": [],
   "source": [
    "# Van Genuchten model parameters ( relative permeability model )\n",
    "theta_s = 0.396\n",
    "theta_r = 0.131\n",
    "\n",
    "alpha = 0.423\n",
    "\n",
    "n = 2.06\n",
    "K_s = 4.96e-2\n",
    "S_s = 0.1\n",
    "\n",
    "L = 3.5e-3\n",
    "\n",
    "m = 1 - 1/n"
   ]
  },
  {
   "cell_type": "code",
   "execution_count": 5,
   "id": "4ca26546",
   "metadata": {},
   "outputs": [],
   "source": [
    "# Relative and absolute tolerances for the non-linear solver\n",
    "abs_tol = 1e-6\n",
    "rel_tol = 1e-6\n",
    "\n",
    "# Order for the quadrature formulae\n",
    "quad_order = 5"
   ]
  },
  {
   "cell_type": "markdown",
   "id": "1e2aa57c",
   "metadata": {},
   "source": [
    "### $\\theta$ and $K$"
   ]
  },
  {
   "cell_type": "code",
   "execution_count": 6,
   "id": "e0789088",
   "metadata": {},
   "outputs": [],
   "source": [
    "# Symbolic psi\n",
    "psi_var = sp.Symbol('psi', negative=True)\n",
    "\n",
    "# Symbolic Theta\n",
    "theta_expression = theta_r + (theta_s - theta_r) / (1 + (-alpha * psi_var) ** n) ** m\n",
    "effective_saturation = (theta_expression - theta_r) / (theta_s - theta_r)\n",
    "\n",
    "# Symbolic Conductivity K\n",
    "hydraulic_conductivity_expression = K_s * (effective_saturation ** 0.5) * ( 1 - (1 - effective_saturation ** (1 / m)) ** m ) ** 2"
   ]
  },
  {
   "cell_type": "code",
   "execution_count": 7,
   "id": "ce3a166f",
   "metadata": {},
   "outputs": [],
   "source": [
    "# Theta lambda\n",
    "theta_lambda = sp.lambdify(psi_var, theta_expression, 'numpy')\n",
    "\n",
    "# Conductivity tensor lambda\n",
    "conductivity_lambda = sp.lambdify(psi_var, hydraulic_conductivity_expression, 'numpy')"
   ]
  },
  {
   "cell_type": "code",
   "execution_count": 8,
   "id": "7be4995a",
   "metadata": {},
   "outputs": [],
   "source": [
    "# Actual (and final) theta function\n",
    "def theta(psi):\n",
    "    mask = np.where(psi < 0)\n",
    "    res = np.ones_like(psi) * theta_s\n",
    "    res[mask] = theta_lambda(psi[mask])\n",
    "\n",
    "    return res"
   ]
  },
  {
   "cell_type": "code",
   "execution_count": 9,
   "id": "4a30c295",
   "metadata": {},
   "outputs": [],
   "source": [
    "%%cython\n",
    "\n",
    "theta_s = 0.396\n",
    "theta_r = 0.131\n",
    "\n",
    "alpha = 0.423\n",
    "\n",
    "n = 2.06\n",
    "K_s = 4.96e-2\n",
    "\n",
    "m = 1 - 1/n\n",
    "\n",
    "def R_effective_saturation(psi):\n",
    "    return ((theta_r + (theta_s - theta_r) / (1 + (-alpha * psi) ** n) ** m) - theta_r) / (theta_s - theta_r)\n",
    "\n",
    "\n",
    "def R_K11(x, y, psi):\n",
    "    if psi >= 0:\n",
    "        return K_s\n",
    "    tmp = R_effective_saturation(psi)\n",
    "    return K_s * (tmp ** 0.5) * ( 1 - (1 - tmp ** (1 / m)) ** m ) ** 2\n",
    "\n",
    "def R_K12(x, y, psi):\n",
    "    return 0\n",
    "\n",
    "def R_K21(x, y, psi):\n",
    "    return 0\n",
    "\n",
    "def R_K22(x, y, psi):\n",
    "    if psi >= 0:\n",
    "        return K_s\n",
    "    tmp = R_effective_saturation(psi)\n",
    "    return K_s * (tmp ** 0.5) * ( 1 - (1 - tmp ** (1 / m)) ** m ) ** 2"
   ]
  },
  {
   "cell_type": "markdown",
   "id": "8f7f47a4",
   "metadata": {},
   "source": [
    "### Domain preparation and boundary conditions"
   ]
  },
  {
   "cell_type": "code",
   "execution_count": 10,
   "id": "70e25e1f",
   "metadata": {},
   "outputs": [],
   "source": [
    "top_grid = pp.StructuredTriangleGrid([N, N], [1,1])\n",
    "top_grid.compute_geometry()\n",
    "\n",
    "bottom_grid = pp.StructuredTriangleGrid([N, N], [1,1])\n",
    "bottom_grid.compute_geometry()"
   ]
  },
  {
   "cell_type": "code",
   "execution_count": 11,
   "id": "40da1548",
   "metadata": {},
   "outputs": [],
   "source": [
    "boundary_grid, boundary_face_map, boundary_node_map  = pp.partition.extract_subgrid(top_grid, \n",
    "                                                                                    top_grid.face_centers[1, :] == np.min(top_grid.face_centers[1, :]), \n",
    "                                                                                    faces=True)"
   ]
  },
  {
   "cell_type": "markdown",
   "id": "precious-belle",
   "metadata": {},
   "source": [
    "With the following code we set the data, in particular the permeability tensor and the boundary conditions. Since we need to identify each side of $\\partial \\Omega$ we need few steps."
   ]
  },
  {
   "cell_type": "code",
   "execution_count": 12,
   "id": "365807cf",
   "metadata": {},
   "outputs": [],
   "source": [
    "key = \"flow\""
   ]
  },
  {
   "cell_type": "code",
   "execution_count": 13,
   "id": "ab8743e4",
   "metadata": {},
   "outputs": [],
   "source": [
    "top_RT0 = pg.RT0(key)\n",
    "top_P0 = pg.PwConstants(key)\n",
    "top_data = {}\n",
    "\n",
    "top_dof_h =  top_P0.ndof( top_grid )\n",
    "top_dof_q = top_RT0.ndof( top_grid )"
   ]
  },
  {
   "cell_type": "code",
   "execution_count": 14,
   "id": "cdbbbf41",
   "metadata": {},
   "outputs": [],
   "source": [
    "bottom_RT0 = pg.RT0(key)\n",
    "bottom_P0 = pg.PwConstants(key)\n",
    "bottom_data = {}\n",
    "\n",
    "bottom_dof_h = bottom_P0.ndof( bottom_grid )\n",
    "bottom_dof_q = bottom_RT0.ndof( bottom_grid )"
   ]
  },
  {
   "cell_type": "code",
   "execution_count": 15,
   "id": "4ae57861",
   "metadata": {},
   "outputs": [],
   "source": [
    "gamma_lagrange = pg.PwConstants(key)\n",
    "gamma_data = {}\n",
    "\n",
    "gamma_dof = gamma_lagrange.ndof( boundary_grid )"
   ]
  },
  {
   "cell_type": "code",
   "execution_count": 16,
   "id": "d3a1bc28",
   "metadata": {},
   "outputs": [
    {
     "data": {
      "text/plain": [
       "{'discretization_matrices': {'flow': {}},\n",
       " 'parameters': Data object for physical processes flow\n",
       " The keyword \"flow\" has the following parameters specified: second_order_tensor}"
      ]
     },
     "execution_count": 16,
     "metadata": {},
     "output_type": "execute_result"
    }
   ],
   "source": [
    "# permeability tensor\n",
    "pp.initialize_data(bottom_grid, bottom_data, key, { \"second_order_tensor\": pp.SecondOrderTensor(np.ones(bottom_grid.num_cells)),})\n",
    "pp.initialize_data(   top_grid,    top_data, key, { \"second_order_tensor\": pp.SecondOrderTensor(np.ones(top_grid.num_cells)),})"
   ]
  },
  {
   "cell_type": "code",
   "execution_count": 17,
   "id": "6e4a17e5",
   "metadata": {},
   "outputs": [],
   "source": [
    "dirichlet_bottom_flag = bottom_grid.face_centers[0, :] == np.max( bottom_grid.face_centers[0,:] )\n",
    "dirichlet_bottom_value = lambda t: - bottom_RT0.assemble_nat_bc(bottom_grid, lambda x: 1, dirichlet_bottom_flag)\n",
    "\n",
    "neumann_bottom_flag  = np.hstack((np.array(np.logical_or( bottom_grid.face_centers[0, :] == np.min(bottom_grid.face_centers[0, :]), \n",
    "                                                          bottom_grid.face_centers[1, :] == np.min(bottom_grid.face_centers[0, :])  ), dtype=bool), \n",
    "                                 np.zeros(shape=bottom_dof_h, dtype=bool)))\n",
    "neumann_bottom_value = np.zeros(shape=(bottom_dof_h + bottom_dof_q))"
   ]
  },
  {
   "cell_type": "code",
   "execution_count": 18,
   "id": "62eabc54",
   "metadata": {},
   "outputs": [
    {
     "data": {
      "text/plain": [
       "(10, 20)"
      ]
     },
     "execution_count": 18,
     "metadata": {},
     "output_type": "execute_result"
    }
   ],
   "source": [
    "dirichlet_bottom_flag.sum(), neumann_bottom_flag.sum()"
   ]
  },
  {
   "cell_type": "code",
   "execution_count": 19,
   "id": "4b848d8b",
   "metadata": {},
   "outputs": [],
   "source": [
    "dirichlet_top_flag  = top_grid.face_centers[1, :] == np.max(top_grid.face_centers[1,:])\n",
    "dirichlet_top_value = lambda t: - top_RT0.assemble_nat_bc(top_grid, lambda x: min(1 + t, 2), dirichlet_top_flag)\n",
    "\n",
    "neumann_top_flag  = np.hstack((np.logical_or( top_grid.face_centers[0, :] == np.min(top_grid.face_centers[0, :]), \n",
    "                                             top_grid.face_centers[0, :] == np.max(top_grid.face_centers[0, :]) ), \n",
    "                                            np.zeros(shape=top_dof_h, dtype=bool)))\n",
    "neumann_top_value = np.zeros(shape=(top_dof_h + top_dof_q))"
   ]
  },
  {
   "cell_type": "code",
   "execution_count": 20,
   "id": "ce183ed3",
   "metadata": {},
   "outputs": [
    {
     "data": {
      "text/plain": [
       "(10, 20)"
      ]
     },
     "execution_count": 20,
     "metadata": {},
     "output_type": "execute_result"
    }
   ],
   "source": [
    "dirichlet_top_flag.sum(), neumann_top_flag.sum()"
   ]
  },
  {
   "cell_type": "code",
   "execution_count": 21,
   "id": "feac7ff7",
   "metadata": {},
   "outputs": [],
   "source": [
    "neumann_flag = np.hstack( (neumann_bottom_flag, neumann_top_flag, np.zeros(shape=(gamma_dof), dtype=bool)) )\n",
    "neumann_value = np.hstack( (neumann_bottom_value, neumann_top_value, np.zeros(shape=(gamma_dof))) )"
   ]
  },
  {
   "attachments": {},
   "cell_type": "markdown",
   "id": "secure-flesh",
   "metadata": {},
   "source": [
    "Once the data are assigned to the mixed-dimensional grid, we construct the matrices. In particular, the linear system associated with the equation at every timestep is given as\n",
    "$$\n",
    "\\left(\n",
    "\\begin{array}{cc} \n",
    "M_K &     B^\\top\\\\\n",
    "-\\Delta t B  & M_p\n",
    "\\end{array}\n",
    "\\right)\n",
    "\\left(\n",
    "\\begin{array}{c} \n",
    "q^{n+1}\\\\ \n",
    "p^{n+1}\n",
    "\\end{array}\n",
    "\\right)\n",
    "=\\left(\n",
    "\\begin{array}{c} \n",
    "p_{\\partial} + M_p g\\\\ \n",
    "M_p p^n + \\Delta t M_p f^{n+1}\n",
    "\\end{array}\n",
    "\\right)\n",
    "$$<br>\n",
    "where $p_{\\partial}$ is the vector associated to the pressure boundary contions, $(\\cdot)^n$ is a generic variable at the n-th time instant. We can now construct the initial building blocks of the monolithic matrix:"
   ]
  },
  {
   "cell_type": "code",
   "execution_count": 22,
   "id": "2d07f0c8",
   "metadata": {},
   "outputs": [],
   "source": [
    "top_mass_h =  top_P0.assemble_mass_matrix(top_grid, top_data)\n",
    "top_B = - top_mass_h @ pg.div( top_grid )"
   ]
  },
  {
   "cell_type": "code",
   "execution_count": 23,
   "id": "7ad63e60",
   "metadata": {},
   "outputs": [],
   "source": [
    "bottom_mass_h =  bottom_P0.assemble_mass_matrix( bottom_grid, bottom_data )\n",
    "bottom_mass_q = bottom_RT0.assemble_mass_matrix( bottom_grid, bottom_data ) * K_s\n",
    "bottom_B = - bottom_mass_h @ pg.div( bottom_grid )"
   ]
  },
  {
   "cell_type": "code",
   "execution_count": 24,
   "id": "0048c319",
   "metadata": {},
   "outputs": [],
   "source": [
    "top_proj_q = top_RT0.eval_at_cell_centers( top_grid )\n",
    "top_proj_h = top_P0.eval_at_cell_centers( top_grid )\n",
    "\n",
    "bottom_proj_q = bottom_RT0.eval_at_cell_centers( bottom_grid )\n",
    "bottom_proj_h = bottom_P0.eval_at_cell_centers( bottom_grid )"
   ]
  },
  {
   "cell_type": "code",
   "execution_count": 25,
   "id": "45b3ca59",
   "metadata": {},
   "outputs": [],
   "source": [
    "# assemble initial solution\n",
    "initial_solution = np.zeros(top_dof_q + top_dof_h + bottom_dof_q + gamma_dof + bottom_dof_h)"
   ]
  },
  {
   "cell_type": "code",
   "execution_count": 26,
   "id": "ade8d79b",
   "metadata": {},
   "outputs": [],
   "source": [
    "bottom_q_mask = np.zeros_like(initial_solution, dtype=bool)\n",
    "bottom_q_mask[:(bottom_dof_q)] = True\n",
    "\n",
    "bottom_h_mask = np.zeros_like(initial_solution, dtype=bool)\n",
    "bottom_h_mask[ (bottom_dof_q) : (bottom_dof_q  + bottom_dof_h) ] = True\n",
    "\n",
    "top_q_mask = np.zeros_like(initial_solution, dtype=bool)\n",
    "top_q_mask[(bottom_dof_q + bottom_dof_h):(bottom_dof_q + bottom_dof_h + top_dof_q)] = True\n",
    "\n",
    "top_h_mask = np.zeros_like(initial_solution, dtype=bool)\n",
    "top_h_mask[ (bottom_dof_q + bottom_dof_h + top_dof_q) : (bottom_dof_q + bottom_dof_h + top_dof_q + top_dof_h) ] = True\n",
    "\n",
    "gamma_multipler = np.zeros_like(initial_solution, dtype=bool)\n",
    "gamma_multipler[-(gamma_dof):] = True"
   ]
  },
  {
   "cell_type": "code",
   "execution_count": 27,
   "id": "f174d69c",
   "metadata": {},
   "outputs": [],
   "source": [
    "initial_solution[top_h_mask]    =    top_P0.interpolate(   top_grid, lambda x: 1)\n",
    "initial_solution[bottom_h_mask] = bottom_P0.interpolate(bottom_grid, lambda x: 1)"
   ]
  },
  {
   "cell_type": "code",
   "execution_count": 28,
   "id": "5d786595",
   "metadata": {},
   "outputs": [],
   "source": [
    "top_saver    = pp.Exporter(top_grid,    \"top_sol\", folder_name=output_directory)\n",
    "bottom_saver = pp.Exporter(bottom_grid, \"bottom_sol\", folder_name=output_directory)\n",
    "\n",
    "def save_step(current_sol, step):\n",
    "    ins = list()\n",
    "\n",
    "    ins.append((top_grid, \"cell_q\", ( top_proj_q @ current_sol[top_q_mask] ).reshape((3, -1), order=\"F\")))\n",
    "    ins.append((top_grid, \"cell_h\", top_proj_h @ current_sol[top_h_mask]))\n",
    "\n",
    "    top_saver.write_vtu(ins, time_step=step)\n",
    "\n",
    "    ins = list()\n",
    "\n",
    "    ins.append((bottom_grid, \"cell_q\", ( bottom_proj_q @ current_sol[bottom_q_mask] ).reshape((3, -1), order=\"F\")))\n",
    "    ins.append((bottom_grid, \"cell_h\", bottom_proj_h @ current_sol[bottom_h_mask]))\n",
    "\n",
    "    bottom_saver.write_vtu(ins, time_step=step)"
   ]
  },
  {
   "cell_type": "code",
   "execution_count": 29,
   "id": "cf8b64a0",
   "metadata": {},
   "outputs": [],
   "source": [
    "if os.path.exists(output_directory):\n",
    "    shutil.rmtree(output_directory)"
   ]
  },
  {
   "cell_type": "code",
   "execution_count": 30,
   "id": "97ea3419",
   "metadata": {},
   "outputs": [],
   "source": [
    "%%cython\n",
    "import numpy as np\n",
    "\n",
    "def q1(x: float, y: float):\n",
    "    return np.array([-x, -y])\n",
    "\n",
    "def q2(x: float, y: float):\n",
    "    return np.array([x-1, y])\n",
    "\n",
    "def q3(x: float, y: float):\n",
    "    return np.array([-x, 1-y])\n",
    "\n",
    "def find_ordering(coord: np.array, N):\n",
    "    lx = np.argmin(coord[0, :])\n",
    "    rx = np.argmax(coord[0, :])\n",
    "    mx = np.setdiff1d(np.array([0,1,2]), np.array([lx, rx]))[0]\n",
    "\n",
    "    # Vertical Alignment\n",
    "    if np.abs( coord[0, lx] - coord[0, mx] ) < 1 / (2 * N):\n",
    "        # lx and mx vertical aligned, rx no\n",
    "        up =   lx if np.argmax(coord[1, np.array([lx, mx])]) == 0 else mx\n",
    "        down = lx if np.argmin(coord[1, np.array([lx, mx])]) == 0 else mx\n",
    "\n",
    "        if np.abs( coord[1, up] - coord[1, rx] ) < 1 / (2 * N):\n",
    "            return [up, down, rx]\n",
    "        else:\n",
    "            return [down, rx, up]\n",
    "    else:\n",
    "        # rx and mx vertical aligned, lx no\n",
    "        up =   rx if np.argmax(coord[1, np.array([rx, mx])]) == 0 else mx\n",
    "        down = rx if np.argmin(coord[1, np.array([rx, mx])]) == 0 else mx\n",
    "\n",
    "        if np.abs( coord[1, up] - coord[1, lx] ) < 1 / (2 * N):\n",
    "            return [up, lx, down]\n",
    "        else:\n",
    "            return [down, up, lx]"
   ]
  },
  {
   "cell_type": "code",
   "execution_count": 31,
   "id": "a73b352e",
   "metadata": {},
   "outputs": [],
   "source": [
    "%%cython\n",
    "import numpy as np\n",
    "\n",
    "\n",
    "def Richards_K_func(psi: float, K11, K12, K21, K22):\n",
    "    return lambda x,y: np.array( [[K11(psi,x,y), K12(psi,x,y)],\n",
    "                                  [K21(psi,x,y), K22(psi,x,y)]] )"
   ]
  },
  {
   "cell_type": "code",
   "execution_count": 32,
   "id": "d2f238a8",
   "metadata": {},
   "outputs": [],
   "source": [
    "def Richards_local_q(coord, sign, psi):\n",
    "    M = np.zeros(shape=(3,3))\n",
    "\n",
    "    ordering = find_ordering(coord, boundary_grid.num_nodes-1)\n",
    "    orientation = [-1, 1, -1] * sign[ordering]\n",
    "\n",
    "    q_funcs = [q1, q2, q3]\n",
    "\n",
    "    K_local = Richards_K_func(psi, R_K11, R_K12, R_K21, R_K22)\n",
    "\n",
    "\n",
    "    for i in range(3):\n",
    "        for j in range(3):\n",
    "            integrand = lambda ys,x: np.array([q_funcs[j](x,y).T @ K_local(x, y) @ q_funcs[i](x,y) for y in np.array(ys)])\n",
    "            inside = lambda xs, n: np.array([integrate.fixed_quad(integrand, 0, 1-x, args=(x,), n=n)[0] for x in np.array(xs)])\n",
    "            M[ordering[i], ordering[j]] = orientation[j] * orientation[i] * integrate.fixed_quad(inside, 0, 1, n=quad_order, args=(quad_order,))[0]\n",
    "    \n",
    "    return M"
   ]
  },
  {
   "cell_type": "code",
   "execution_count": 33,
   "id": "94efa08c",
   "metadata": {},
   "outputs": [
    {
     "name": "stdout",
     "output_type": "stream",
     "text": [
      "2.44 ms ± 87 µs per loop (mean ± std. dev. of 7 runs, 100 loops each)\n"
     ]
    }
   ],
   "source": [
    "%%timeit\n",
    "Richards_local_q(np.array([[0, 1, 0], [0, 0, 1]]), np.array([-1, -1, 1]), 0.75)"
   ]
  },
  {
   "cell_type": "code",
   "execution_count": 34,
   "id": "f260205d",
   "metadata": {},
   "outputs": [],
   "source": [
    "def mass_q(h_dofs):\n",
    "    faces, _, sign = sps.find(top_grid.cell_faces)\n",
    "\n",
    "    _, _, _, _, _, node_coords = pp.map_geometry.map_grid(\n",
    "            top_grid, top_data.get(\"deviation_from_plane_tol\", 1e-5)\n",
    "        )\n",
    "    \n",
    "    dim = top_grid.dim\n",
    "    \n",
    "    node_coords = node_coords[: dim, :]\n",
    "\n",
    "    top_RT0._compute_cell_face_to_opposite_node(top_grid, top_data)\n",
    "    cell_face_to_opposite_node = top_data[top_RT0.cell_face_to_opposite_node]\n",
    "    \n",
    "    size_A = np.power(top_grid.dim + 1, 2) * top_grid.num_cells\n",
    "    rows_A = np.empty(size_A, dtype=int)\n",
    "    cols_A = np.empty(size_A, dtype=int)\n",
    "    data_A = np.empty(size_A)\n",
    "    idx_A = 0\n",
    "\n",
    "    for c in range(top_grid.num_cells):\n",
    "        # For the current cell retrieve its faces\n",
    "        loc = slice(top_grid.cell_faces.indptr[c], top_grid.cell_faces.indptr[c + 1])\n",
    "        faces_loc = faces[loc]\n",
    "    \n",
    "        node = np.flip(np.sort(cell_face_to_opposite_node[c, :]))\n",
    "\n",
    "        coord_loc = node_coords[:, node]\n",
    "\n",
    "        local = Richards_local_q(coord_loc, sign[loc], h_dofs[c]-1-top_grid.cell_centers[1,c])\n",
    "\n",
    "        # Save values for Hdiv-mass local matrix in the global structure\n",
    "        cols = np.concatenate(faces_loc.size * [[faces_loc]])\n",
    "        loc_idx = slice(idx_A, idx_A + local.size)\n",
    "        rows_A[loc_idx] = cols.T.ravel()\n",
    "        cols_A[loc_idx] = cols.ravel()\n",
    "        data_A[loc_idx] = local.ravel()\n",
    "        idx_A += local.size\n",
    "\n",
    "        #print('')\n",
    "    \n",
    "    return sps.coo_matrix((data_A, (rows_A, cols_A))).tocsr()"
   ]
  },
  {
   "cell_type": "code",
   "execution_count": 35,
   "id": "subtle-wonder",
   "metadata": {},
   "outputs": [],
   "source": [
    "# solve the problem\n",
    "\n",
    "sol = [initial_solution]\n",
    "\n",
    "t = 0\n",
    "\n",
    "save_step(sol[-1], 0)"
   ]
  },
  {
   "cell_type": "code",
   "execution_count": 36,
   "id": "72aba6ad",
   "metadata": {},
   "outputs": [],
   "source": [
    "top_boundary_restrictor = np.zeros(shape=(gamma_dof, top_dof_q))\n",
    "top_boundary_restrictor[list(range(gamma_dof)), np.where( top_grid.face_centers[1,:] == np.min(top_grid.face_centers[1,:]) )] = 1\n",
    "top_boundary_restrictor = sps.csr_matrix(top_boundary_restrictor)"
   ]
  },
  {
   "cell_type": "code",
   "execution_count": 37,
   "id": "fcebfb53",
   "metadata": {},
   "outputs": [],
   "source": [
    "bottom_boundary_restrictor = np.zeros(shape=(gamma_dof, bottom_dof_q))\n",
    "bottom_boundary_restrictor[list(range(gamma_dof)), np.where( bottom_grid.face_centers[1,:] == np.max(bottom_grid.face_centers[1,:]) )] = 1\n",
    "bottom_boundary_restrictor = sps.csr_matrix(bottom_boundary_restrictor)"
   ]
  },
  {
   "cell_type": "code",
   "execution_count": 38,
   "id": "da148d96",
   "metadata": {},
   "outputs": [],
   "source": [
    "# Helper function to project a function evaluated in the cell center to FEM (scalar)\n",
    "def project_psi_to_fe(to_project):\n",
    "    return to_project * top_grid.cell_volumes"
   ]
  },
  {
   "cell_type": "code",
   "execution_count": 39,
   "id": "32be2c79",
   "metadata": {},
   "outputs": [
    {
     "name": "stdout",
     "output_type": "stream",
     "text": [
      "[1.04132601 1.0409242  1.04011067 1.03886409 1.03714791 1.03490294\n",
      " 1.03203255 1.02837136 1.02361197 1.01711221]\n",
      "[1.08304631 1.08223607 1.08059588 1.07808318 1.07462506 1.07010331\n",
      " 1.06432482 1.05695888 1.04739028 1.03433309]\n",
      "[1.12477096 1.12355221 1.12108519 1.11730614 1.11210575 1.10530683\n",
      " 1.09661981 1.08554862 1.07117025 1.05155502]\n",
      "[1.16649529 1.16486804 1.16157421 1.15652883 1.14958622 1.14051016\n",
      " 1.12891465 1.11413823 1.09495013 1.06877689]\n",
      "[1.20821883 1.20618309 1.20206248 1.19575081 1.18706602 1.17571289\n",
      " 1.16120895 1.14272741 1.11872967 1.08599853]\n",
      "[1.24994127 1.24749706 1.2425497  1.23497178 1.22454488 1.21091476\n",
      " 1.19350249 1.17131592 1.14250866 1.10321979]\n",
      "[1.29166219 1.28880952 1.28303544 1.27419134 1.2620224  1.24611537\n",
      " 1.22579488 1.19990343 1.16628684 1.12044045]\n",
      "[1.33338099 1.3301199  1.32351915 1.31340892 1.29949803 1.28131422\n",
      " 1.25808566 1.22848951 1.19006382 1.13766026]\n",
      "[1.37509707 1.37142757 1.36400021 1.35262394 1.33697121 1.31651077\n",
      " 1.29037433 1.25707372 1.21383925 1.15487893]\n",
      "[1.41681009 1.41273221 1.40447829 1.39183607 1.37444162 1.35170471\n",
      " 1.32266059 1.28565579 1.2376129  1.17209631]\n",
      "[1.4171049  1.41302141 1.40475636 1.39209767 1.37468165 1.35191838\n",
      " 1.3228435  1.28580395 1.23772264 1.17216393]\n",
      "[1.41710859 1.41302502 1.40475982 1.39210092 1.37468461 1.35192099\n",
      " 1.32284572 1.28580573 1.23772395 1.17216473]\n",
      "[1.41710864 1.41302507 1.40475987 1.39210096 1.37468465 1.35192103\n",
      " 1.32284575 1.28580575 1.23772397 1.17216475]\n",
      "[1.41710864 1.41302508 1.40475987 1.39210096 1.37468465 1.35192103\n",
      " 1.32284575 1.28580575 1.23772397 1.17216475]\n",
      "[1.41710864 1.41302508 1.40475987 1.39210096 1.37468465 1.35192103\n",
      " 1.32284575 1.28580575 1.23772397 1.17216475]\n",
      "[1.41710864 1.41302508 1.40475987 1.39210096 1.37468465 1.35192103\n",
      " 1.32284575 1.28580575 1.23772397 1.17216475]\n",
      "[1.41710864 1.41302508 1.40475987 1.39210096 1.37468465 1.35192103\n",
      " 1.32284575 1.28580575 1.23772397 1.17216475]\n",
      "[1.41710864 1.41302508 1.40475987 1.39210096 1.37468465 1.35192103\n",
      " 1.32284575 1.28580575 1.23772397 1.17216475]\n",
      "[1.41710864 1.41302508 1.40475987 1.39210096 1.37468465 1.35192103\n",
      " 1.32284575 1.28580575 1.23772397 1.17216475]\n",
      "[1.41710864 1.41302508 1.40475987 1.39210096 1.37468465 1.35192103\n",
      " 1.32284575 1.28580575 1.23772397 1.17216475]\n",
      "[1.41710864 1.41302508 1.40475987 1.39210096 1.37468465 1.35192103\n",
      " 1.32284575 1.28580575 1.23772397 1.17216475]\n",
      "[1.41710864 1.41302508 1.40475987 1.39210096 1.37468465 1.35192103\n",
      " 1.32284575 1.28580575 1.23772397 1.17216475]\n",
      "[1.41710864 1.41302508 1.40475987 1.39210096 1.37468465 1.35192103\n",
      " 1.32284575 1.28580575 1.23772397 1.17216475]\n",
      "[1.41710864 1.41302508 1.40475987 1.39210096 1.37468465 1.35192103\n",
      " 1.32284575 1.28580575 1.23772397 1.17216475]\n",
      "[1.41710864 1.41302508 1.40475987 1.39210096 1.37468465 1.35192103\n",
      " 1.32284575 1.28580575 1.23772397 1.17216475]\n",
      "[1.41710864 1.41302508 1.40475987 1.39210096 1.37468465 1.35192103\n",
      " 1.32284575 1.28580575 1.23772397 1.17216475]\n",
      "[1.41710864 1.41302508 1.40475987 1.39210096 1.37468465 1.35192103\n",
      " 1.32284575 1.28580575 1.23772397 1.17216475]\n",
      "[1.41710864 1.41302508 1.40475987 1.39210096 1.37468465 1.35192103\n",
      " 1.32284575 1.28580575 1.23772397 1.17216475]\n",
      "[1.41710864 1.41302508 1.40475987 1.39210096 1.37468465 1.35192103\n",
      " 1.32284575 1.28580575 1.23772397 1.17216475]\n",
      "[1.41710864 1.41302508 1.40475987 1.39210096 1.37468465 1.35192103\n",
      " 1.32284575 1.28580575 1.23772397 1.17216475]\n"
     ]
    }
   ],
   "source": [
    "# Time Loop\n",
    "for step in range(1, ceil(T/dt) + 1):\n",
    "    current_time = step * dt\n",
    "    \n",
    "    time_rhs = np.zeros_like(sol[-1])\n",
    "    time_rhs[top_q_mask]    += dirichlet_top_value(current_time)\n",
    "    time_rhs[bottom_q_mask] += dirichlet_bottom_value(current_time)\n",
    "\n",
    "    time_rhs[bottom_h_mask] += S_s * bottom_mass_h @ sol[-1][bottom_h_mask]\n",
    "\n",
    "\n",
    "    prev = sol[-1]\n",
    "    for k in range(50):    \n",
    "        rhs = time_rhs.copy()\n",
    "        rhs[top_h_mask] += top_mass_h @ ( L * prev[top_h_mask] \n",
    "                                         + project_psi_to_fe( theta( top_proj_h @ sol[-1][top_h_mask] - 1 - top_grid.cell_centers[1, :] ) ) \n",
    "                                         - project_psi_to_fe( theta( top_proj_h @ prev[top_h_mask] - 1 - top_grid.cell_centers[1, :] ) ) )\n",
    "        \n",
    "\n",
    "        top_mass_q = mass_q(prev[top_h_mask])\n",
    "\n",
    "        spp = sps.bmat(\n",
    "            [[              bottom_mass_q,          bottom_B.T,                    None,         None, -bottom_boundary_restrictor.T],\n",
    "            [              -dt * bottom_B, S_s * bottom_mass_h,                    None,         None,                          None],\n",
    "            [                        None,                None,              top_mass_q,      top_B.T,     top_boundary_restrictor.T],\n",
    "            [                        None,                None,             -dt * top_B, L*top_mass_h,                          None],\n",
    "            [ -bottom_boundary_restrictor,                None, top_boundary_restrictor,         None,                          None]], format = 'csc')\n",
    "        \n",
    "        ls = pg.LinearSystem(spp, rhs)\n",
    "        ls.flag_ess_bc(neumann_flag, neumann_value)\n",
    "\n",
    "        current = ls.solve()\n",
    "\n",
    "        err = np.sqrt( np.sum(np.power(current[top_h_mask] - prev[top_h_mask], 2) + np.power(current[bottom_h_mask] - prev[bottom_h_mask], 2))  )\n",
    "        base = np.sqrt( np.sum(np.power(prev[top_h_mask], 2) + np.power(prev[bottom_h_mask], 2)) )\n",
    "\n",
    "\n",
    "        if err < abs_tol + rel_tol * base:\n",
    "            sol.append( current )\n",
    "            break\n",
    "        else:\n",
    "            prev = current\n",
    "\n",
    "\n",
    "    print( sol[-1][-gamma_dof:] )\n",
    "\n",
    "    save_step(sol[-1], step)"
   ]
  }
 ],
 "metadata": {
  "kernelspec": {
   "display_name": "Python 3.10.2 64-bit ('3.10.2')",
   "language": "python",
   "name": "python3"
  },
  "language_info": {
   "codemirror_mode": {
    "name": "ipython",
    "version": 3
   },
   "file_extension": ".py",
   "mimetype": "text/x-python",
   "name": "python",
   "nbconvert_exporter": "python",
   "pygments_lexer": "ipython3",
   "version": "3.11.5"
  },
  "vscode": {
   "interpreter": {
    "hash": "e4cc1db98167c7fd7d55a1da8057731abc6cd6fe154328a2ae319df8aab4e24d"
   }
  }
 },
 "nbformat": 4,
 "nbformat_minor": 5
}
