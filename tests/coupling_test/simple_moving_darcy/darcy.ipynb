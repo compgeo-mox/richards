{
 "cells": [
  {
   "cell_type": "markdown",
   "id": "essential-american",
   "metadata": {},
   "source": [
    "# Darcy equation\n",
    "\n",
    "In this tutorial we present how to solve a Darcy equation with [PyGeoN](https://github.com/compgeo-mox/pygeon) in themoving domain case (the upper boundary will move).  The unkwons are the velocity $u$, the elevation head $h$ and the height of the upper boundary $\\eta$.\n",
    "\n",
    "Let $\\Omega=(0,1)\\times(0,\\eta)$ with boundary $\\partial \\Omega$ and outward unit normal ${\\nu}$. Given \n",
    "$K$ the matrix permeability, we want to solve the following problem: find $(\\bm{u}, h)$ such that\n",
    "$$\n",
    "\\left\\{\n",
    "\\begin{array}{ll}\n",
    "\\begin{array}{l} \n",
    "K^{-1} {\\bm{u}} + \\nabla h = {0}\\\\\n",
    "S_s \\frac{\\partial{h}}{\\partial t} + \\nabla \\cdot {u} = f\n",
    "\\end{array}\n",
    "&\\text{in } \\Omega\n",
    "\\end{array}\n",
    "\\right.\n",
    "$$\n",
    "\n",
    "In order to solve the problem, we will perfom a change of coordinates to a reference domain $\\hat{\\Omega}=(0,1)^2$ through the (linear) trasnformation $R : \\Omega \\rightarrow \\hat{\\Omega}$ (and its inverse function $D : \\hat{\\Omega} \\rightarrow \\Omega$).\n",
    "Recall that $\\hat{\\nabla}R=(\\nabla D)^{-1}$.\n",
    "\n",
    "Let $\\hat{h}$ and $\\hat{\\bm{u}}$ be $h$ and $\\bm{u}$ respectevely in the reference domain and let $\\hat{K}$ be the transformed permeability matrix, defined as $\\hat{K}=det(\\hat{\\nabla}D) (\\hat{\\nabla} D)^{-1} K (\\hat{\\nabla} D)^{-T}$.\n",
    "\n",
    "The equation describing the motion of $\\partial_{top}\\Omega$ is:\n",
    "$$\n",
    "\n",
    "\\phi \\frac{\\partial \\eta}{\\partial t} = \\hat{u_3}\n",
    "\n",
    "$$\n",
    "\n",
    "The transformed equations in $\\hat{\\Omega}$ is:\n",
    "$$\n",
    "\\left\\{\n",
    "\\begin{array}{ll}\n",
    "\\begin{array}{l} \n",
    "\\hat{K}(\\hat{h})^{-1} {\\hat{u}} + \\hat{\\nabla} \\hat{h} = {0}\\\\\n",
    "\\hat{S}_s \\frac{\\partial{\\hat{h}}}{\\partial t} + \\hat{\\nabla} \\cdot {\\hat{\\bm{u}}} = f\n",
    "\\end{array}\n",
    "&\\text{in } \\hat{\\Omega}\n",
    "\\end{array}\n",
    "\\right.\n",
    "$$\n",
    "with boundary conditions:\n",
    "$$ \\hat{h} = \\eta \\text{ on } \\Gamma \\qquad \\hat{h} = \\ell \\text{ on } \\Gamma_D \\qquad \\hat{\\bm{\\nu}} \\cdot \\hat{\\bm{u}} = 0 \\text{ on } \\Gamma_N$$\n",
    "\n",
    "The weak formulation will be:\n",
    "$$\n",
    "\\left\\{\n",
    "\\begin{array}{ll}\n",
    "\\begin{array}{l} \n",
    "\\int_{\\Omega}\\hat{K}(\\hat{h})^{-1} {\\bm{\\hat{u}}} \\cdot \\bm{v} \\, d\\Omega + \\int_{\\Omega} \\hat{\\bm{\\nabla}} \\hat{h} \\cdot \\bm{v} \\, d\\Omega = {0}\\\\\n",
    "\\int_{\\Omega} \\hat{S}_s \\frac{\\partial{\\hat{h}}}{\\partial t} v \\, d\\Omega - \\int_{\\Omega} \\bm{\\hat{u}} \\cdot \\bm{\\nabla} v \\, d\\Omega = \\int_{\\Omega} fv \\, d\\Omega - \\int_{\\partial\\Omega} v \\bm{u} \\cdot \\bm{\\nu} d\\sigma\\\\\n",
    "\\int_{\\Gamma} \\phi \\frac{\\partial \\eta}{\\partial t} v \\, d\\sigma = \\int_{\\Gamma} \\hat{u_3} v \\, d\\sigma\n",
    "\\end{array}\n",
    "\\end{array}\n",
    "\\right.\n",
    "$$\n",
    "\n",
    "In order to reduce the number of required equations, we can observe that $\\eta = \\hat{h} |_{\\Gamma}$. \n",
    "Thus, we can reduce the problem to solve:\n",
    "\n",
    "$$\n",
    "\\left\\{\n",
    "\\begin{array}{ll}\n",
    "\\begin{array}{l} \n",
    "\\int_{\\Omega}\\hat{K}(\\hat{h})^{-1} {\\bm{\\hat{u}}} \\cdot \\bm{v} \\, d\\Omega + \\int_{\\Omega} \\hat{\\bm{\\nabla}} \\hat{h} \\cdot \\bm{v} \\, d\\Omega = {0}\\\\\n",
    "\\int_{\\Omega} \\hat{S}_s \\frac{\\partial{\\hat{h}}}{\\partial t} v \\, d\\Omega - \\int_{\\Omega} \\bm{\\hat{u}} \\cdot \\bm{\\nabla} v \\, d\\Omega = \\int_{\\Omega} fv \\, d\\Omega - \\int_{\\Gamma} \\phi \\frac{\\partial\\hat{h}}{\\partial t} v d\\sigma\\\\\n",
    "\\hat{h}=\\ell \\quad \\text{on } \\Gamma_D\n",
    "\\end{array}\n",
    "\\end{array}\n",
    "\\right.\n",
    "$$"
   ]
  },
  {
   "cell_type": "code",
   "execution_count": 1,
   "id": "dietary-perth",
   "metadata": {},
   "outputs": [],
   "source": [
    "import numpy as np\n",
    "import scipy.sparse as sps\n",
    "import os \n",
    "import shutil\n",
    "\n",
    "import porepy as pp\n",
    "import pygeon as pg"
   ]
  },
  {
   "cell_type": "code",
   "execution_count": 2,
   "id": "1e1342bf",
   "metadata": {},
   "outputs": [],
   "source": [
    "output_directory = 'output'"
   ]
  },
  {
   "cell_type": "markdown",
   "id": "roman-glossary",
   "metadata": {},
   "source": [
    "We create now the grid, since we will use a Raviart-Thomas approximation for ${q}$ we are restricted to simplices. In this example we consider a 2-dimensional structured grid, but the presented code will work also in 1d and 3d. PyGeoN works with mixed-dimensional grids, so we need to convert the grid."
   ]
  },
  {
   "cell_type": "code",
   "execution_count": 3,
   "id": "spectacular-saturn",
   "metadata": {},
   "outputs": [],
   "source": [
    "N = 5\n",
    "sd = pp.StructuredTriangleGrid([N] * 2, [1] * 2)\n",
    "# convert the grid into a mixed-dimensional grid\n",
    "mdg = pp.meshing.subdomains_to_mdg([sd])"
   ]
  },
  {
   "cell_type": "markdown",
   "id": "precious-belle",
   "metadata": {},
   "source": [
    "With the following code we set the data, in particular the permeability tensor and the boundary conditions. Since we need to identify each side of $\\partial \\Omega$ we need few steps."
   ]
  },
  {
   "cell_type": "code",
   "execution_count": 4,
   "id": "spare-person",
   "metadata": {},
   "outputs": [],
   "source": [
    "key = \"flow\"\n",
    "bc_val = []\n",
    "bc_ess = []\n",
    "\n",
    "velocity_discretization_field = pg.RT0(key)\n",
    "pressure_discretization_field = pg.PwConstants(key)\n",
    "\n",
    "for sd, data in mdg.subdomains(return_data=True):\n",
    "    # permeability tensor\n",
    "    perm = pp.SecondOrderTensor(np.ones(sd.num_cells))\n",
    "    parameters = {\n",
    "        \"second_order_tensor\": perm,\n",
    "    }\n",
    "    pp.initialize_data(sd, data, key, parameters)\n",
    "    \n",
    "    # with the following steps we identify the portions of the boundary\n",
    "    # to impose the boundary conditions\n",
    "    left_right = np.logical_or(sd.face_centers[0, :] == 0,  sd.face_centers[0, :] == 1)\n",
    "\n",
    "    bottom = sd.face_centers[1, :] == 0\n",
    "    top    = sd.face_centers[1, :] == 1\n",
    "\n",
    "    ess_p_dofs = np.zeros(pressure_discretization_field.ndof(sd), dtype=bool)\n",
    "\n",
    "    def h_bc(x): return 1\n",
    "\n",
    "    bc_val.append(-velocity_discretization_field.assemble_nat_bc(sd, h_bc, bottom))\n",
    "    bc_ess.append(np.hstack((left_right, ess_p_dofs)))"
   ]
  },
  {
   "cell_type": "markdown",
   "id": "secure-flesh",
   "metadata": {},
   "source": [
    "Once the data are assigned to the mixed-dimensional grid, we construct the matrices. In particular, the linear system associated with the equation is given as\n",
    "$$\n",
    "\\left(\n",
    "\\begin{array}{cc} \n",
    "M & B^\\top\\\\\n",
    "B & 0\n",
    "\\end{array}\n",
    "\\right)\n",
    "\\left(\n",
    "\\begin{array}{c} \n",
    "q\\\\ \n",
    "p\n",
    "\\end{array}\n",
    "\\right)\n",
    "=\\left(\n",
    "\\begin{array}{c} \n",
    "p_{\\partial}\\\\ \n",
    "0\n",
    "\\end{array}\n",
    "\\right)\n",
    "$$<br>\n",
    "where $p_{\\partial}$ is the vector associated to the pressure boundary contions. To construct the saddle-point problem, we rely on the `scipy.sparse` function `bmat`. Once the matrix is created, we also construct the right-hand side containing the boundary conditions."
   ]
  },
  {
   "cell_type": "code",
   "execution_count": 5,
   "id": "romance-findings",
   "metadata": {},
   "outputs": [],
   "source": [
    "# construct the local matrices\n",
    "mass = pg.face_mass(mdg)\n",
    "div = pg.cell_mass(mdg, pressure_discretization_field) * pg.div(mdg)\n",
    "\n",
    "# assemble the saddle point problem\n",
    "spp = sps.bmat([[mass, -div.T], \n",
    "                [ div,  None]], format=\"csc\")\n",
    "\n",
    "# get the degrees of freedom for each variable\n",
    "dof_p, dof_q = div.shape\n",
    "\n",
    "# assemble the right-hand side\n",
    "rhs = np.zeros(dof_p + dof_q)\n",
    "rhs[:dof_q] += np.hstack(bc_val)"
   ]
  },
  {
   "cell_type": "code",
   "execution_count": 9,
   "id": "5d51705e",
   "metadata": {},
   "outputs": [
    {
     "data": {
      "text/plain": [
       "(50, 85)"
      ]
     },
     "execution_count": 9,
     "metadata": {},
     "output_type": "execute_result"
    }
   ],
   "source": [
    "dof_p, dof_q"
   ]
  },
  {
   "cell_type": "markdown",
   "id": "mobile-nirvana",
   "metadata": {},
   "source": [
    "We need to solve the linear system, PyGeoN provides a framework for that. The actual imposition of essential boundary conditions (flux boundary conditions) might change the symmetry of the global system, the class `pg.LinearSystem` preserves this structure by internally eliminating these degrees of freedom. Once the problem is solved, we extract the two solutions $q$ and $p$."
   ]
  },
  {
   "cell_type": "code",
   "execution_count": 6,
   "id": "subtle-wonder",
   "metadata": {},
   "outputs": [],
   "source": [
    "# solve the problem\n",
    "ls = pg.LinearSystem(spp, rhs)\n",
    "ls.flag_ess_bc(np.hstack(bc_ess), np.zeros(dof_q + dof_p))\n",
    "x = ls.solve()\n",
    "\n",
    "# extract the variables\n",
    "q = x[:dof_q]\n",
    "p = x[-dof_p:]"
   ]
  },
  {
   "cell_type": "markdown",
   "id": "pacific-alpha",
   "metadata": {},
   "source": [
    "Since the computed $q$ is one value per facet of the grid, for visualization purposes we project the flux in each cell center as vector. We finally export the solution to be visualized by [ParaView](https://www.paraview.org/)."
   ]
  },
  {
   "cell_type": "code",
   "execution_count": 7,
   "id": "b1c62c99",
   "metadata": {},
   "outputs": [],
   "source": [
    "if os.path.exists(output_directory):\n",
    "    shutil.rmtree(output_directory)"
   ]
  },
  {
   "cell_type": "code",
   "execution_count": 8,
   "id": "satisfactory-jerusalem",
   "metadata": {},
   "outputs": [
    {
     "ename": "NameError",
     "evalue": "name 'RT0' is not defined",
     "output_type": "error",
     "traceback": [
      "\u001b[0;31m---------------------------------------------------------------------------\u001b[0m",
      "\u001b[0;31mNameError\u001b[0m                                 Traceback (most recent call last)",
      "Cell \u001b[0;32mIn[8], line 2\u001b[0m\n\u001b[1;32m      1\u001b[0m \u001b[39m# post process variables\u001b[39;00m\n\u001b[0;32m----> 2\u001b[0m proj_q \u001b[39m=\u001b[39m RT0\u001b[39m.\u001b[39meval_at_cell_centers(sd)\n\u001b[1;32m      3\u001b[0m cell_q \u001b[39m=\u001b[39m (proj_q \u001b[39m*\u001b[39m q)\u001b[39m.\u001b[39mreshape((\u001b[39m3\u001b[39m, \u001b[39m-\u001b[39m\u001b[39m1\u001b[39m), order\u001b[39m=\u001b[39m\u001b[39m\"\u001b[39m\u001b[39mF\u001b[39m\u001b[39m\"\u001b[39m)\n\u001b[1;32m      4\u001b[0m cell_p \u001b[39m=\u001b[39m P0\u001b[39m.\u001b[39meval_at_cell_centers(sd) \u001b[39m*\u001b[39m p\n",
      "\u001b[0;31mNameError\u001b[0m: name 'RT0' is not defined"
     ]
    }
   ],
   "source": [
    "# post process variables\n",
    "proj_q = velocity_discretization_field.eval_at_cell_centers(sd)\n",
    "cell_q = (proj_q * q).reshape((3, -1), order=\"F\")\n",
    "cell_p = pressure_discretization_field.eval_at_cell_centers(sd) * p\n",
    "\n",
    "for _, data in mdg.subdomains(return_data=True):\n",
    "    data[pp.STATE] = {\"cell_q\": cell_q, \"cell_p\": cell_p}\n",
    "\n",
    "save = pp.Exporter(mdg, \"sol\", output_directory)\n",
    "save.write_vtu([\"cell_q\", \"cell_p\"])"
   ]
  }
 ],
 "metadata": {
  "kernelspec": {
   "display_name": "Python 3 (ipykernel)",
   "language": "python",
   "name": "python3"
  },
  "language_info": {
   "codemirror_mode": {
    "name": "ipython",
    "version": 3
   },
   "file_extension": ".py",
   "mimetype": "text/x-python",
   "name": "python",
   "nbconvert_exporter": "python",
   "pygments_lexer": "ipython3",
   "version": "3.10.9"
  },
  "vscode": {
   "interpreter": {
    "hash": "e4cc1db98167c7fd7d55a1da8057731abc6cd6fe154328a2ae319df8aab4e24d"
   }
  }
 },
 "nbformat": 4,
 "nbformat_minor": 5
}
