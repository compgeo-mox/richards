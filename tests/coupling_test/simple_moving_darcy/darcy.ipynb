{
 "cells": [
  {
   "cell_type": "markdown",
   "id": "essential-american",
   "metadata": {},
   "source": [
    "# Darcy equation\n",
    "\n",
    "In this tutorial we present how to solve a Darcy equation with [PyGeoN](https://github.com/compgeo-mox/pygeon) in themoving domain case (the upper boundary will move).  The unkwons are the velocity $u$, the elevation head $h$ and the height of the upper boundary $\\eta$.\n",
    "\n",
    "Let $\\Omega=(0,1)\\times(0,\\eta)$ with boundary $\\partial \\Omega$ and outward unit normal ${\\nu}$. Given \n",
    "$K$ the matrix permeability, we want to solve the following problem: find $(\\bm{u}, h)$ such that\n",
    "$$\n",
    "\\left\\{\n",
    "\\begin{array}{ll}\n",
    "\\begin{array}{l} \n",
    "K^{-1} {\\bm{u}} + \\nabla h = {0}\\\\\n",
    "S_s \\frac{\\partial{h}}{\\partial t} + \\nabla \\cdot {u} = f\n",
    "\\end{array}\n",
    "&\\text{in } \\Omega\n",
    "\\end{array}\n",
    "\\right.\n",
    "$$"
   ]
  },
  {
   "cell_type": "markdown",
   "id": "dadbb451",
   "metadata": {},
   "source": [
    "In order to solve the problem, we will perfom a change of coordinates to a reference domain $\\hat{\\Omega}=(0,1)^2$ through the (linear) trasnformation $R : \\Omega \\rightarrow \\hat{\\Omega}$ (and its inverse function $D : \\hat{\\Omega} \\rightarrow \\Omega$).\n",
    "Recall that $\\hat{\\nabla}R=(\\nabla D)^{-1}$.\n",
    "\n",
    "Let $\\hat{h}$ and $\\hat{\\bm{u}}$ be $h$ and $\\bm{u}$ respectevely in the reference domain and let $\\hat{K}$ be the transformed permeability matrix, defined as $\\hat{K}=det(\\hat{\\nabla}D) (\\hat{\\nabla} D)^{-1} K (\\hat{\\nabla} D)^{-T}$.\n",
    "\n",
    "The equation describing the motion of $\\partial_{top}\\Omega$ is:\n",
    "$$\n",
    "\n",
    "\\phi \\frac{\\partial \\eta}{\\partial t} = \\hat{u_3} + I(t)\n",
    "\n",
    "$$"
   ]
  },
  {
   "cell_type": "markdown",
   "id": "a068fac3",
   "metadata": {},
   "source": [
    "The transformed equations in $\\hat{\\Omega}$ is:\n",
    "$$\n",
    "\\left\\{\n",
    "\\begin{array}{ll}\n",
    "\\begin{array}{l} \n",
    "\\hat{K}({\\eta})^{-1} {\\hat{u}} + \\hat{\\nabla} \\hat{h} = {0}\\\\\n",
    "\\hat{S}_s \\frac{\\partial{\\hat{h}}}{\\partial t} + \\hat{\\nabla} \\cdot {\\hat{\\bm{u}}} = f\n",
    "\\end{array}\n",
    "&\\text{in } \\hat{\\Omega}\n",
    "\\end{array}\n",
    "\\right.\n",
    "$$\n",
    "with boundary conditions:\n",
    "$$ \\hat{h} = \\eta \\text{ on } \\Gamma \\qquad \\hat{h} = \\ell \\text{ on } \\Gamma_D \\qquad \\hat{\\bm{\\nu}} \\cdot \\hat{\\bm{u}} = 0 \\text{ on } \\Gamma_N$$"
   ]
  },
  {
   "cell_type": "markdown",
   "id": "47b01879",
   "metadata": {},
   "source": [
    "The weak formulation will be:\n",
    "$$\n",
    "\\left\\{\n",
    "\\begin{array}{ll}\n",
    "\\begin{array}{l} \n",
    "\\int_{\\Omega}\\hat{K}(\\eta)^{-1} {\\bm{\\hat{u}}} \\cdot \\bm{v} \\, d\\Omega - \\int_{\\Omega} h \\hat{\\nabla} \\cdot {\\hat{\\bm{v}}} \\, d\\Omega = - \\int_{\\Gamma_D} h \\bm{v} \\cdot \\bm{\\nu} \\, d\\Omega - \\int_{\\Gamma} \\eta \\bm{v} \\cdot \\bm{\\nu} \\, d\\Omega\\\\\n",
    "\\int_{\\Omega} \\hat{S}_s \\frac{\\partial{\\hat{h}}}{\\partial t} v \\, d\\Omega + \\int_{\\Omega} \\hat{\\nabla} \\cdot {\\hat{\\bm{u}}} v \\, d\\Omega = \\int_{\\Omega} fv \\, d\\Omega\\\\\n",
    "\\int_{\\Gamma} \\phi \\frac{\\partial \\eta}{\\partial t} v \\, d\\sigma = \\int_{\\Gamma} \\hat{u_3} v \\, d\\sigma + \\int_{\\Gamma} I(t) v \\, d\\sigma\n",
    "\\end{array}\n",
    "\\end{array}\n",
    "\\right.\n",
    "$$"
   ]
  },
  {
   "cell_type": "markdown",
   "id": "dcdc7603",
   "metadata": {},
   "source": [
    "For the time discretization, we will employ a backward Euler scheme:\n",
    "\n",
    "$$\n",
    "\\left\\{\n",
    "\\begin{array}{ll}\n",
    "\\begin{array}{l} \n",
    "\\int_{\\Omega}\\hat{K}(\\eta^{n+1})^{-1} {\\bm{\\hat{u}}^{n+1}} \\cdot \\bm{v} \\, d\\Omega - \\int_{\\Omega} h^{n+1} \\hat{\\nabla} \\cdot {\\hat{\\bm{v}}} \\, d\\Omega = - \\int_{\\Gamma_D} h^{n+1} \\bm{v} \\cdot \\bm{\\nu} \\, d\\Omega - \\int_{\\Gamma} \\eta^{n+1} \\bm{v} \\cdot \\bm{\\nu} \\, d\\Omega\\\\\n",
    "\\int_{\\Omega} \\hat{S}_s^{n+1} \\frac{\\hat{h}^{n+1} - \\hat{h}^{n}}{\\Delta t} v \\, d\\Omega + \\int_{\\Omega} \\hat{\\nabla} \\cdot {\\hat{\\bm{u}}^{n+1}} v \\, d\\Omega = \\int_{\\Omega} f^{n+1}v \\, d\\Omega\\\\\n",
    "\\int_{\\Gamma} \\phi \\eta^{n+1} v \\, d\\sigma = \\Delta t \\int_{\\Gamma} \\hat{\\bm{u}}^{n+1} \\cdot \\bm{\\nu} v \\, d\\sigma + \\int_{\\Gamma} \\phi \\eta^{n} v \\, d\\sigma + \\Delta t \\int_{\\Gamma} I^{n+1} v \\, d\\sigma\n",
    "\\end{array}\n",
    "\\end{array}\n",
    "\\right.\n",
    "$$"
   ]
  },
  {
   "cell_type": "markdown",
   "id": "faf928a5",
   "metadata": {},
   "source": [
    "To deal with the non-linear term, we will employ a simple Picard scheme:\n",
    "\n",
    "$$\n",
    "\\left\\{\n",
    "\\begin{array}{ll}\n",
    "\\begin{array}{l} \n",
    "\\int_{\\Omega}\\hat{K}(\\eta^{n+1}_k)^{-1} {\\bm{\\hat{u}_{k+1}^{n+1}}} \\cdot \\bm{v} \\, d\\Omega - \\int_{\\Omega} h^{n+1}_{k+1} \\hat{\\nabla} \\cdot {\\hat{\\bm{v}}} \\, d\\Omega + \\int_{\\Gamma} \\eta^{n+1}_{k+1} \\bm{v} \\cdot \\bm{\\nu} \\, d\\Omega= - \\int_{\\Gamma_D} h^{n+1} \\bm{v} \\cdot \\bm{\\nu} \\, d\\Omega\\\\\n",
    "\\Delta t \\int_{\\Omega} \\hat{\\nabla} \\cdot {\\hat{\\bm{u}}^{n+1}_{k+1}} v \\, d\\Omega + \\int_{\\Omega} \\hat{S}_s \\hat{h}^{n+1}_{k+1} v \\, d\\Omega = \\int_{\\Omega} \\hat{S}_s \\hat{h}^{n} v \\, d\\Omega + \\Delta t \\int_{\\Omega} f^{n+1}v \\, d\\Omega\\\\\n",
    "- \\Delta t \\int_{\\Gamma} \\hat{\\bm{u}}^{n+1}_{k+1} \\cdot \\bm{\\nu} v \\, d\\sigma + \\int_{\\Gamma} \\phi \\eta^{n+1}_{k+1} v \\, d\\sigma = \\int_{\\Gamma} \\phi \\eta^{n} v \\, d\\sigma + \\Delta t \\int_{\\Gamma} I^{n+1} v \\, d\\sigma\n",
    "\\end{array}\n",
    "\\end{array}\n",
    "\\right.\n",
    "$$"
   ]
  },
  {
   "cell_type": "markdown",
   "id": "615fb33d",
   "metadata": {},
   "source": [
    "The matrix formulation will be:\n",
    "\n",
    "$$\n",
    "\\left\\{\n",
    "\\begin{array}{ll}\n",
    "\\begin{array}{l} \n",
    "M_u(\\bm{\\eta}^{n+1}_{k}) \\bm{u}^{n+1}_{k+1} + B^T\\bm{h}^{n+1}_{k+1} + B_{\\Gamma} \\bm{\\eta}^{n+1}_{k+1}= \\bm{BC}^{n+1}\\\\\n",
    "- \\Delta t B \\hat{\\bm{u}}^{n+1}_{k+1} + S_s M_{h} \\bm{\\hat{h}^{n+1}_{k+1}} = \\Delta t \\bm{F}^{n+1} + S_s M_{h} \\bm{\\hat{h}^{n}}\\\\\n",
    "- \\Delta t B_{\\Gamma}^T \\hat{\\bm{u}}^{n+1}_{k+1} + \\phi M_{\\Gamma} \\bm{\\eta^{n+1}_{k+1}} = \\phi M_{\\Gamma} \\bm{\\eta^{n}} + \\Delta t \\bm{I}^{n+1}\n",
    "\\end{array}\n",
    "\\end{array}\n",
    "\\right.\n",
    "$$"
   ]
  },
  {
   "cell_type": "markdown",
   "id": "49e31d3b",
   "metadata": {},
   "source": [
    "$$\n",
    "\\left(\n",
    "\\begin{array}{cc} \n",
    "M_u(\\bm{\\eta^{n+1}_k}) & B^T & B_{\\Gamma}\\\\\n",
    "-\\Delta t B & S_s M_h & 0\\\\\n",
    "-\\Delta t B^T_{\\Gamma} & 0 & \\phi M_{\\Gamma}\n",
    "\\end{array}\n",
    "\\right)\n",
    "\\left(\n",
    "\\begin{array}{c} \n",
    "\\bm{u^{n+1}_{k+1}}\\\\ \n",
    "\\bm{h^{n+1}_{k+1}}\\\\\n",
    "\\bm{\\eta^{n+1}_{k+1}}\n",
    "\\end{array}\n",
    "\\right)\n",
    "=\\left(\n",
    "\\begin{array}{c} \n",
    "\\bm{BC}^{n+1}\\\\ \n",
    "\\Delta t \\bm{F}^{n+1} + S_s M_h \\bm{h}^n\\\\\n",
    "\\phi M_{\\Gamma} \\bm{\\eta}^n + \\Delta t \\bm{I}^{n+1}\n",
    "\\end{array}\n",
    "\\right)\n",
    "$$"
   ]
  },
  {
   "cell_type": "markdown",
   "id": "60777fa8",
   "metadata": {},
   "source": [
    "We will start to test the method in the case $M_u(\\bm{h_k}^{n+1})=\\bm{I}$"
   ]
  },
  {
   "cell_type": "code",
   "execution_count": 1,
   "id": "dietary-perth",
   "metadata": {},
   "outputs": [],
   "source": [
    "import numpy as np\n",
    "import scipy.sparse as sps\n",
    "from math import ceil, floor, log10, exp, isnan\n",
    "import os, shutil\n",
    "\n",
    "import porepy as pp\n",
    "import pygeon as pg\n",
    "import scipy.integrate as integrate\n",
    "from scipy.linalg import norm as matrix_norm"
   ]
  },
  {
   "cell_type": "code",
   "execution_count": 2,
   "id": "1e1342bf",
   "metadata": {},
   "outputs": [],
   "source": [
    "output_directory = 'output'"
   ]
  },
  {
   "cell_type": "markdown",
   "id": "roman-glossary",
   "metadata": {},
   "source": [
    "We create now the grid, since we will use a Raviart-Thomas approximation for ${q}$ we are restricted to simplices. In this example we consider a 2-dimensional structured grid, but the presented code will work also in 1d and 3d. PyGeoN works with mixed-dimensional grids, so we need to convert the grid."
   ]
  },
  {
   "cell_type": "code",
   "execution_count": 3,
   "id": "0816cee5",
   "metadata": {},
   "outputs": [],
   "source": [
    "dt = 0.1\n",
    "T = 1\n",
    "S_s = 0.1\n",
    "phi = 0.1\n",
    "N = 2 # 16\n",
    "infiltration_rate = 0"
   ]
  },
  {
   "cell_type": "code",
   "execution_count": 4,
   "id": "03c363e3",
   "metadata": {},
   "outputs": [],
   "source": [
    "abs_tol = 1e-6\n",
    "rel_tol = 1e-6\n",
    "max_iterations_per_step = 100"
   ]
  },
  {
   "cell_type": "code",
   "execution_count": 5,
   "id": "spectacular-saturn",
   "metadata": {},
   "outputs": [],
   "source": [
    "# convert the grid into a mixed-dimensional grid\n",
    "sd = pp.StructuredTriangleGrid([N, N], [1, 1])\n",
    "sd.compute_geometry()"
   ]
  },
  {
   "cell_type": "code",
   "execution_count": 6,
   "id": "ffa231fe",
   "metadata": {},
   "outputs": [],
   "source": [
    "boundary_grid, boundary_face_map, boundary_node_map = pp.partition.extract_subgrid(sd, sd.face_centers[1, :] == 1, faces=True)"
   ]
  },
  {
   "cell_type": "code",
   "execution_count": 7,
   "id": "cb80af64",
   "metadata": {},
   "outputs": [],
   "source": [
    "mdg = pp.meshing.subdomains_to_mdg([sd])"
   ]
  },
  {
   "cell_type": "code",
   "execution_count": 8,
   "id": "9e96a9ae",
   "metadata": {},
   "outputs": [
    {
     "name": "stderr",
     "output_type": "stream",
     "text": [
      "/opt/conda/lib/python3.10/site-packages/porepy/viz/plot_grid.py:198: UserWarning: Attempting to set identical low and high zlims makes transformation singular; automatically expanding.\n",
      "  ax.set_zlim3d(z)\n"
     ]
    },
    {
     "data": {
      "image/png": "[encoded data removed]",
      "text/plain": [
       "<Figure size 3000x2400 with 2 Axes>"
      ]
     },
     "metadata": {},
     "output_type": "display_data"
    }
   ],
   "source": [
    "cell_id = np.arange(sd.num_cells)\n",
    "pp.plot_grid(\n",
    "    sd,\n",
    "    cell_value=cell_id,\n",
    "    info=\"nf\",\n",
    "    alpha=0.5,\n",
    "    figsize=(30, 24),\n",
    ")"
   ]
  },
  {
   "cell_type": "markdown",
   "id": "precious-belle",
   "metadata": {},
   "source": [
    "With the following code we set the data, in particular the permeability tensor and the boundary conditions. Since we need to identify each side of $\\partial \\Omega$ we need few steps."
   ]
  },
  {
   "cell_type": "code",
   "execution_count": 9,
   "id": "spare-person",
   "metadata": {},
   "outputs": [],
   "source": [
    "key = \"flow\"\n",
    "\n",
    "darcy_data = {}\n",
    "richards_data = {}\n",
    "\n",
    "bc_val = []\n",
    "bc_ess = []\n",
    "initial_pressure = []"
   ]
  },
  {
   "cell_type": "code",
   "execution_count": 10,
   "id": "ffd8b2c6",
   "metadata": {},
   "outputs": [],
   "source": [
    "q_field     = pg.RT0(key)\n",
    "gamma_field = pg.Lagrange1(key)\n",
    "h_field     = pg.PwConstants(key)"
   ]
  },
  {
   "cell_type": "code",
   "execution_count": 11,
   "id": "1e5c3610",
   "metadata": {},
   "outputs": [],
   "source": [
    "subdomain, data = mdg.subdomains(return_data=True)[0]"
   ]
  },
  {
   "cell_type": "code",
   "execution_count": 12,
   "id": "a6fa7931",
   "metadata": {},
   "outputs": [
    {
     "data": {
      "text/plain": [
       "{'discretization_matrices': {'flow': {}},\n",
       " 'parameters': Data object for physical processes flow\n",
       " The keyword \"flow\" has the following parameters specified: second_order_tensor}"
      ]
     },
     "execution_count": 12,
     "metadata": {},
     "output_type": "execute_result"
    }
   ],
   "source": [
    "pp.initialize_data(subdomain, data, key, {\n",
    "    \"second_order_tensor\": pp.SecondOrderTensor(np.ones(subdomain.num_cells)),\n",
    "})"
   ]
  },
  {
   "cell_type": "code",
   "execution_count": 13,
   "id": "0f7432b4",
   "metadata": {},
   "outputs": [],
   "source": [
    "# Usual BC (no slip on the left and right, fixed unitary head on the bottom. No condition on the top boundary)\n",
    "left_right = np.logical_or(sd.face_centers[0, :] == 0,  sd.face_centers[0, :] == 1)\n",
    "\n",
    "bottom = sd.face_centers[1, :] == 0\n",
    "\n",
    "ess_p_dofs = np.zeros(h_field.ndof(sd), dtype=bool)\n",
    "\n",
    "def h_bc(x, t): return 1\n",
    "def initial_h_func(x): return 1\n",
    "def infiltration(x): return infiltration_rate\n",
    "\n",
    "bc_val = lambda t: -q_field.assemble_nat_bc(sd, lambda x: h_bc(x,t), bottom)\n",
    "bc_ess.append(np.hstack((left_right, ess_p_dofs, np.zeros(N+1, dtype=bool))))"
   ]
  },
  {
   "cell_type": "markdown",
   "id": "7a30f6e9",
   "metadata": {},
   "source": [
    "The $RT_0$ elements are constructed in such a wat that, on the non-diagonal faces, $\\bm{v} \\cdot \\nu = 0$. Then, since $\\Gamma$ is made by one of the two catheti of each boundary facing element, the only non-zero terms will be associated to the basis functions associated to the ``boundary'' cathetus. Then:"
   ]
  },
  {
   "cell_type": "markdown",
   "id": "9017a58d",
   "metadata": {},
   "source": [
    "$$\n",
    "\\begin{bmatrix} -x \\\\ -y \\end{bmatrix} \\cdot \\begin{bmatrix}-1 \\\\ 0 \\end{bmatrix} = 0 \\text{ on } \\Gamma\n",
    "$$"
   ]
  },
  {
   "cell_type": "markdown",
   "id": "50e5715f",
   "metadata": {},
   "source": [
    "$$\n",
    "\\begin{bmatrix} -x \\\\ 1-y \\end{bmatrix} \\cdot \\begin{bmatrix}-1 \\\\ 0 \\end{bmatrix} = 0 \\text{ on } \\Gamma\n",
    "$$"
   ]
  },
  {
   "cell_type": "markdown",
   "id": "3db926ed",
   "metadata": {},
   "source": [
    "$$\n",
    "\\begin{bmatrix} x-1 \\\\ y \\end{bmatrix} \\cdot \\begin{bmatrix}-1 \\\\ 0 \\end{bmatrix} \\neq 0 \\text{ on } \\Gamma\n",
    "$$"
   ]
  },
  {
   "cell_type": "markdown",
   "id": "341b9875",
   "metadata": {},
   "source": [
    "$$\n",
    "\\int_0^1 \\left| \\bm{x}_1 - \\bm{x}_0 \\right| \\begin{bmatrix} -1 \\\\ s \\end{bmatrix} \\cdot \\begin{bmatrix}-1 \\\\ 0 \\end{bmatrix} s ds = \\int_0^1 \\left| \\bm{x}_1 - \\bm{x}_0 \\right| \\begin{bmatrix} -1 \\\\ s \\end{bmatrix} \\cdot \\begin{bmatrix}-1 \\\\ 0 \\end{bmatrix} (1-s) ds = \\frac{\\left| \\bm{x}_1 - \\bm{x}_0 \\right|}{2}\n",
    "$$"
   ]
  },
  {
   "cell_type": "code",
   "execution_count": 14,
   "id": "aee36a8d",
   "metadata": {},
   "outputs": [],
   "source": [
    "def assemble_B_gamma():\n",
    "    data = []\n",
    "    row = []\n",
    "    col = []\n",
    "\n",
    "    # Take the x-coordinate of each face center\n",
    "    faces_center_pos = sd.face_centers[0,:]\n",
    "\n",
    "    # Look for the boundary faces ids\n",
    "    index_up_face = np.where(sd.face_centers[1, :] == 1)[0]\n",
    "\n",
    "    # Loop thorough the boundary faces\n",
    "    for i in range(N):\n",
    "        # s-element\n",
    "        col.append(index_up_face[i])\n",
    "        row.append(i)\n",
    "        data.append( np.abs(faces_center_pos[i] - faces_center_pos[i+1]) / 2 )\n",
    "        \n",
    "        # (1-s)-element\n",
    "        col.append(index_up_face[i])\n",
    "        row.append(i+1)\n",
    "        data.append( np.abs(faces_center_pos[i] - faces_center_pos[i+1]) / 2 )\n",
    "    \n",
    "    return sps.coo_matrix( (data, (row, col)), shape=(N+1, sd.num_faces) )"
   ]
  },
  {
   "cell_type": "code",
   "execution_count": 15,
   "id": "dc2f1d6f",
   "metadata": {},
   "outputs": [],
   "source": [
    "B_gamma = assemble_B_gamma()\n",
    "M_gamma = gamma_field.assemble_mass_matrix( boundary_grid )\n",
    "M_h = h_field.assemble_mass_matrix( subdomain )"
   ]
  },
  {
   "cell_type": "markdown",
   "id": "225b6345",
   "metadata": {},
   "source": [
    "$$\n",
    "\\left(\n",
    "\\begin{array}{cc} \n",
    "M_u(\\bm{\\eta_k^{n+1}}) & B^T & B_{\\Gamma}\\\\\n",
    "-\\Delta t B & S_s M_h & 0\\\\\n",
    "-\\Delta t B^T_{\\Gamma} & 0 & \\phi M_{\\Gamma}\n",
    "\\end{array}\n",
    "\\right)\n",
    "\\left(\n",
    "\\begin{array}{c} \n",
    "\\bm{u^{n+1}_{k+1}}\\\\ \n",
    "\\bm{h^{n+1}_{k+1}}\\\\\n",
    "\\bm{\\eta^{n+1}_{k+1}}\n",
    "\\end{array}\n",
    "\\right)\n",
    "=\\left(\n",
    "\\begin{array}{c} \n",
    "\\bm{BC}^{n+1}\\\\ \n",
    "\\Delta t \\bm{F}^{n+1} + S_s M_h \\bm{h}^n\\\\\n",
    "\\phi M_{\\Gamma} \\bm{\\eta}^n + \\Delta t \\bm{I}^{n+1}\n",
    "\\end{array}\n",
    "\\right)\n",
    "$$"
   ]
  },
  {
   "cell_type": "code",
   "execution_count": 16,
   "id": "74185040",
   "metadata": {},
   "outputs": [
    {
     "data": {
      "text/plain": [
       "((8, 16), (3, 16))"
      ]
     },
     "execution_count": 16,
     "metadata": {},
     "output_type": "execute_result"
    }
   ],
   "source": [
    "# B matrix\n",
    "B = - pg.cell_mass(mdg, h_field) @ pg.div(mdg)\n",
    "\n",
    "dof_p, dof_q = B.shape\n",
    "dof_eta = B_gamma.shape[0]\n",
    "\n",
    "B.shape, B_gamma.shape"
   ]
  },
  {
   "cell_type": "code",
   "execution_count": 17,
   "id": "3283a37e",
   "metadata": {},
   "outputs": [],
   "source": [
    "def vertical_projection_matrix():\n",
    "\n",
    "    data = []\n",
    "    row = []\n",
    "    col = []\n",
    "\n",
    "    for c in range(subdomain.num_cells):\n",
    "        x_center = subdomain.cell_centers[:, c]\n",
    "        id = np.max(np.where( boundary_grid.nodes[0, :] < x_center[0] ))\n",
    "\n",
    "        data.append(1)\n",
    "        row.append(c)\n",
    "        col.append(id)\n",
    "\n",
    "    return sps.coo_matrix( (data, (row, col)), shape=(subdomain.num_cells, boundary_grid.num_cells) )"
   ]
  },
  {
   "cell_type": "code",
   "execution_count": 18,
   "id": "551da31d",
   "metadata": {},
   "outputs": [],
   "source": [
    "cell_proj_eta = vertical_projection_matrix()\n",
    "\n",
    "# Helper function to save the given solution to a VTU file\n",
    "def save_step(sol, proj_q, proj_psi, proj_eta, saver, i):\n",
    "    ins = list()\n",
    "\n",
    "    ins.append((sd, \"cell_q\", ( proj_q @ sol[:dof_q] ).reshape((3, -1), order=\"F\")))\n",
    "    ins.append((sd, \"cell_h\", proj_psi @ sol[dof_q:(dof_q+dof_p)]))\n",
    "    ins.append((sd, \"cell_eta\", cell_proj_eta @proj_eta @ sol[-dof_eta:]))\n",
    "    # print( cell_proj_eta @ proj_eta @ sol[-1][-dof_eta:] )\n",
    "\n",
    "    saver.write_vtu(ins, time_step=i)"
   ]
  },
  {
   "cell_type": "code",
   "execution_count": 19,
   "id": "3cd1d372",
   "metadata": {},
   "outputs": [],
   "source": [
    "if os.path.exists(output_directory):\n",
    "    shutil.rmtree(output_directory)"
   ]
  },
  {
   "cell_type": "code",
   "execution_count": 20,
   "id": "d88812b0",
   "metadata": {},
   "outputs": [],
   "source": [
    "# Initial conditions\n",
    "\n",
    "sol = [np.zeros(dof_p + dof_q + dof_eta)]\n",
    "sol[-1][dof_q:(dof_q+dof_p)] = h_field.interpolate(sd, initial_h_func)\n",
    "sol[-1][-dof_eta:] = gamma_field.interpolate(boundary_grid, lambda x: 1)"
   ]
  },
  {
   "cell_type": "code",
   "execution_count": 21,
   "id": "8cfd1a18",
   "metadata": {},
   "outputs": [],
   "source": [
    "# Prepare helper matrices\n",
    "\n",
    "proj_q = q_field.eval_at_cell_centers(sd)\n",
    "proj_psi = h_field.eval_at_cell_centers(sd)\n",
    "proj_eta = gamma_field.eval_at_cell_centers(boundary_grid)\n",
    "\n",
    "eta_diff = gamma_field.assemble_diff_matrix(boundary_grid)"
   ]
  },
  {
   "cell_type": "code",
   "execution_count": 22,
   "id": "d7b9af8f",
   "metadata": {},
   "outputs": [],
   "source": [
    "# Save the initial solution\n",
    "\n",
    "saver = pp.Exporter(mdg, 'sol', folder_name=output_directory)\n",
    "save_step(sol[-1], proj_q, proj_psi, proj_eta, saver, 0)"
   ]
  },
  {
   "cell_type": "code",
   "execution_count": 23,
   "id": "e05b3ae9",
   "metadata": {},
   "outputs": [],
   "source": [
    "data[pp.PARAMETERS][key].update({\"second_order_tensor\": pp.SecondOrderTensor(np.ones(subdomain.num_cells))})"
   ]
  },
  {
   "cell_type": "code",
   "execution_count": 24,
   "id": "9d6460c2",
   "metadata": {},
   "outputs": [],
   "source": [
    "# Fixed rhs\n",
    "fixed_rhs = np.zeros(dof_p + dof_q + dof_eta)"
   ]
  },
  {
   "cell_type": "code",
   "execution_count": 25,
   "id": "74cb2df1",
   "metadata": {},
   "outputs": [],
   "source": [
    "def generate_K_func(base_height, element_height, m, ls_eta, rs_eta, grad_eta):\n",
    "    scaling  = lambda x: (m+1) * (1-x) / 2 - (m-1) * x / 2\n",
    "    eta_func = lambda x: (1-x) * ls_eta + x * rs_eta\n",
    "\n",
    "    eta = lambda y: eta_func(scaling(y))\n",
    "    x_3 = lambda x: base_height + (1-scaling(x)) * element_height\n",
    "\n",
    "    k11 = lambda x, y: (1 + np.power(x_3(x) * grad_eta, 2)) / eta(y)\n",
    "    k12 = lambda x, y: x_3(x) * grad_eta\n",
    "    k22 = lambda x, y: eta(y)\n",
    "\n",
    "    return lambda x, y: np.array([[k11(x,y), k12(x,y)], \n",
    "                                  [k12(x,y), k22(x,y)]])"
   ]
  },
  {
   "cell_type": "code",
   "execution_count": 26,
   "id": "f645ad92",
   "metadata": {},
   "outputs": [],
   "source": [
    "def local_q(coord, sign, ls_eta, rs_eta, grad_eta):\n",
    "    M = np.zeros(shape=(3,3))\n",
    "\n",
    "    lx = np.argmin(coord[0, :])\n",
    "    rx = np.argmax(coord[0, :])\n",
    "    mx = np.setdiff1d(np.array([0,1,2]), np.array([lx, rx]))[0]\n",
    "\n",
    "    # Vertical Alignment\n",
    "    if np.abs( coord[0, lx] - coord[0, mx] ) < 1 / (2 * N):\n",
    "        # lx and mx vertical aligned, rx no\n",
    "        up =   lx if np.argmax(coord[1, np.array([lx, mx])]) == 0 else mx\n",
    "        down = lx if np.argmin(coord[1, np.array([lx, mx])]) == 0 else mx\n",
    "\n",
    "        if np.abs( coord[1, up] - coord[1, rx] ) < 1 / (2 * N):\n",
    "            ordering = [up, down, rx]\n",
    "        else:\n",
    "            ordering = [down, rx, up]\n",
    "    else:\n",
    "        # rx and mx vertical aligned, lx no\n",
    "        up =   rx if np.argmax(coord[1, np.array([rx, mx])]) == 0 else mx\n",
    "        down = rx if np.argmin(coord[1, np.array([rx, mx])]) == 0 else mx\n",
    "\n",
    "        if np.abs( coord[1, up] - coord[1, lx] ) < 1 / (2 * N):\n",
    "            ordering = [up, lx, down]\n",
    "        else:\n",
    "            ordering = [down, up, lx]\n",
    "\n",
    "\n",
    "    orientation = [-1, 1, -1] * sign[ordering]\n",
    "\n",
    "    print( 'Ordering: ' + str(ordering) + ', Orientation: ' + str(orientation) )\n",
    "\n",
    "    q_funcs = [lambda x, y:  np.array([-x, -y]), lambda x, y: np.array([x-1, y]), lambda x, y: np.array([-x, 1-y])]\n",
    "\n",
    "    vol = (coord[0, rx] - coord[0, lx]) * (coord[1, up] - coord[1, down])\n",
    "\n",
    "    #K_local = generate_K_func(base_height=np.min(coord[1,:]), element_height=max(np.abs(x_2[1] - x_0[1]), np.abs(x_1[1] - x_0[1])), \n",
    "    #                          m=type, ls_eta=ls_eta, rs_eta=rs_eta, grad_eta=grad_eta)\n",
    "\n",
    "    K_local = lambda x, y: np.eye(N=2)\n",
    "\n",
    "    for i in range(3):\n",
    "        for j in range(3):\n",
    "            M[ordering[i], ordering[j]] = integrate.dblquad(lambda y,x: np.dot( np.dot( K_local(x, y), orientation[i] * q_funcs[i](x,y) ), \n",
    "                                                          orientation[j] * q_funcs[j](x,y)), \n",
    "                                       0, 1, \n",
    "                                       0, lambda x: 1-x)[0]  #* vol\n",
    "    \n",
    "    print(M)\n",
    "    \n",
    "    return M"
   ]
  },
  {
   "cell_type": "code",
   "execution_count": 27,
   "id": "c5ab8ab8",
   "metadata": {},
   "outputs": [],
   "source": [
    "def mass_q(eta_dofs):\n",
    "\n",
    "    # Gradient of eta and pointwise value\n",
    "    grad_eta   = eta_diff @ eta_dofs\n",
    "\n",
    "    faces, cells, sign = sps.find(subdomain.cell_faces)\n",
    "\n",
    "\n",
    "    _, _, _, _, _, node_coords = pp.map_geometry.map_grid(\n",
    "            subdomain, data.get(\"deviation_from_plane_tol\", 1e-5)\n",
    "        )\n",
    "    \n",
    "    dim = subdomain.dim\n",
    "    \n",
    "    node_coords = node_coords[: dim, :]\n",
    "\n",
    "    q_field._compute_cell_face_to_opposite_node(subdomain, data)\n",
    "    cell_face_to_opposite_node = data[q_field.cell_face_to_opposite_node]\n",
    "    \n",
    "    size_A = np.power(subdomain.dim + 1, 2) * subdomain.num_cells\n",
    "    rows_A = np.empty(size_A, dtype=int)\n",
    "    cols_A = np.empty(size_A, dtype=int)\n",
    "    data_A = np.empty(size_A)\n",
    "    idx_A = 0\n",
    "\n",
    "    for c in range(subdomain.num_cells):\n",
    "        # For the current cell retrieve its faces\n",
    "        loc = slice(subdomain.cell_faces.indptr[c], subdomain.cell_faces.indptr[c + 1])\n",
    "        faces_loc = faces[loc]\n",
    "    \n",
    "        eta_cell = np.max(np.where( boundary_grid.nodes[0, :] < sd.cell_centers[0, c] ))\n",
    "\n",
    "\n",
    "        # Get the opposite node id for each face (BUGGED)\n",
    "        # node = cell_face_to_opposite_node[c, :]\n",
    "        node = cell_face_to_opposite_node[c, :] # np.flip(np.sort(cell_face_to_opposite_node[c, :]))\n",
    "\n",
    "        coord_loc = node_coords[:, node]\n",
    "\n",
    "        print( 'Face: ' + str(faces_loc) + ', Sign: ' + str(sign[loc]) + ', Node: ' + str(node))\n",
    "        print(coord_loc)\n",
    "\n",
    "        A = local_q(coord_loc, sign[loc], eta_dofs[eta_cell], eta_dofs[eta_cell+1], grad_eta[eta_cell])\n",
    "\n",
    "        # Save values for Hdiv-mass local matrix in the global structure\n",
    "        cols = np.concatenate(faces_loc.size * [[faces_loc]])\n",
    "        loc_idx = slice(idx_A, idx_A + A.size)\n",
    "        rows_A[loc_idx] = cols.T.ravel()\n",
    "        cols_A[loc_idx] = cols.ravel()\n",
    "        data_A[loc_idx] = A.ravel()\n",
    "        idx_A += A.size\n",
    "\n",
    "        print('')\n",
    "    \n",
    "    return sps.coo_matrix((data_A, (rows_A, cols_A)))"
   ]
  },
  {
   "cell_type": "code",
   "execution_count": 28,
   "id": "471bf238",
   "metadata": {},
   "outputs": [
    {
     "name": "stdout",
     "output_type": "stream",
     "text": [
      "Face: [0 2 4], Sign: [ 1. -1.  1.], Node: [4 1 0]\n",
      "[[0.5 0.5 0. ]\n",
      " [0.5 0.  0. ]]\n",
      "Ordering: [1, 0, 2], Orientation: [ 1.  1. -1.]\n",
      "[[ 3.33333333e-01 -6.93889390e-18 -1.66666667e-01]\n",
      " [-6.93889390e-18  1.66666667e-01  8.67361738e-19]\n",
      " [-1.66666667e-01  8.67361738e-19  3.33333333e-01]]\n",
      "\n",
      "Face: [1 2 7], Sign: [-1.  1. -1.], Node: [4 3 0]\n",
      "[[0.5 0.  0. ]\n",
      " [0.5 0.5 0. ]]\n",
      "Ordering: [1, 2, 0], Orientation: [-1. -1.  1.]\n",
      "[[ 3.33333333e-01  8.67361738e-19 -1.66666667e-01]\n",
      " [ 8.67361738e-19  1.66666667e-01 -6.93889390e-18]\n",
      " [-1.66666667e-01 -6.93889390e-18  3.33333333e-01]]\n",
      "\n",
      "Face: [3 5 6], Sign: [ 1. -1.  1.], Node: [5 2 1]\n",
      "[[1.  1.  0.5]\n",
      " [0.5 0.  0. ]]\n",
      "Ordering: [1, 0, 2], Orientation: [ 1.  1. -1.]\n",
      "[[ 3.33333333e-01 -6.93889390e-18 -1.66666667e-01]\n",
      " [-6.93889390e-18  1.66666667e-01  8.67361738e-19]\n",
      " [-1.66666667e-01  8.67361738e-19  3.33333333e-01]]\n",
      "\n",
      "Face: [ 4  5 10], Sign: [-1.  1. -1.], Node: [4 1 5]\n",
      "[[0.5 0.5 1. ]\n",
      " [0.5 0.  0.5]]\n",
      "Ordering: [0, 1, 2], Orientation: [1. 1. 1.]\n",
      "[[ 1.66666667e-01 -6.93889390e-18 -8.67361738e-19]\n",
      " [-6.93889390e-18  3.33333333e-01  1.66666667e-01]\n",
      " [-8.67361738e-19  1.66666667e-01  3.33333333e-01]]\n",
      "\n",
      "Face: [ 7  9 11], Sign: [ 1. -1.  1.], Node: [7 4 3]\n",
      "[[0.5 0.5 0. ]\n",
      " [1.  0.5 0.5]]\n",
      "Ordering: [1, 0, 2], Orientation: [ 1.  1. -1.]\n",
      "[[ 3.33333333e-01 -6.93889390e-18 -1.66666667e-01]\n",
      " [-6.93889390e-18  1.66666667e-01  8.67361738e-19]\n",
      " [-1.66666667e-01  8.67361738e-19  3.33333333e-01]]\n",
      "\n",
      "Face: [ 8  9 14], Sign: [-1.  1. -1.], Node: [7 6 3]\n",
      "[[0.5 0.  0. ]\n",
      " [1.  1.  0.5]]\n",
      "Ordering: [1, 2, 0], Orientation: [-1. -1.  1.]\n",
      "[[ 3.33333333e-01  8.67361738e-19 -1.66666667e-01]\n",
      " [ 8.67361738e-19  1.66666667e-01 -6.93889390e-18]\n",
      " [-1.66666667e-01 -6.93889390e-18  3.33333333e-01]]\n",
      "\n",
      "Face: [10 12 13], Sign: [ 1. -1.  1.], Node: [8 5 4]\n",
      "[[1.  1.  0.5]\n",
      " [1.  0.5 0.5]]\n",
      "Ordering: [1, 0, 2], Orientation: [ 1.  1. -1.]\n",
      "[[ 3.33333333e-01 -6.93889390e-18 -1.66666667e-01]\n",
      " [-6.93889390e-18  1.66666667e-01  8.67361738e-19]\n",
      " [-1.66666667e-01  8.67361738e-19  3.33333333e-01]]\n",
      "\n",
      "Face: [11 12 15], Sign: [-1.  1. -1.], Node: [7 8 4]\n",
      "[[0.5 1.  0.5]\n",
      " [1.  1.  0.5]]\n",
      "Ordering: [0, 2, 1], Orientation: [ 1. -1. -1.]\n",
      "[[1.66666667e-01 8.67361738e-19 6.93889390e-18]\n",
      " [8.67361738e-19 3.33333333e-01 1.66666667e-01]\n",
      " [6.93889390e-18 1.66666667e-01 3.33333333e-01]]\n",
      "\n"
     ]
    }
   ],
   "source": [
    "mass_q_original = q_field.assemble_mass_matrix(subdomain).todense()\n",
    "mass_q_homemade = mass_q(np.zeros(shape=(N+1))).todense()"
   ]
  },
  {
   "cell_type": "code",
   "execution_count": 29,
   "id": "0c07eb5b",
   "metadata": {},
   "outputs": [],
   "source": [
    "dif = np.abs( mass_q_original - mass_q_homemade )"
   ]
  },
  {
   "cell_type": "code",
   "execution_count": 30,
   "id": "bebf0d0a",
   "metadata": {},
   "outputs": [
    {
     "data": {
      "text/plain": [
       "matrix([[ 3.33333333e-01,  0.00000000e+00, -6.93889390e-18,\n",
       "          0.00000000e+00, -1.66666667e-01,  0.00000000e+00,\n",
       "          0.00000000e+00,  0.00000000e+00,  0.00000000e+00,\n",
       "          0.00000000e+00,  0.00000000e+00,  0.00000000e+00,\n",
       "          0.00000000e+00,  0.00000000e+00,  0.00000000e+00,\n",
       "          0.00000000e+00],\n",
       "        [ 0.00000000e+00,  3.33333333e-01,  8.67361738e-19,\n",
       "          0.00000000e+00,  0.00000000e+00,  0.00000000e+00,\n",
       "          0.00000000e+00, -1.66666667e-01,  0.00000000e+00,\n",
       "          0.00000000e+00,  0.00000000e+00,  0.00000000e+00,\n",
       "          0.00000000e+00,  0.00000000e+00,  0.00000000e+00,\n",
       "          0.00000000e+00],\n",
       "        [-6.93889390e-18,  8.67361738e-19,  3.33333333e-01,\n",
       "          0.00000000e+00,  8.67361738e-19,  0.00000000e+00,\n",
       "          0.00000000e+00, -6.93889390e-18,  0.00000000e+00,\n",
       "          0.00000000e+00,  0.00000000e+00,  0.00000000e+00,\n",
       "          0.00000000e+00,  0.00000000e+00,  0.00000000e+00,\n",
       "          0.00000000e+00],\n",
       "        [ 0.00000000e+00,  0.00000000e+00,  0.00000000e+00,\n",
       "          3.33333333e-01,  0.00000000e+00, -6.93889390e-18,\n",
       "         -1.66666667e-01,  0.00000000e+00,  0.00000000e+00,\n",
       "          0.00000000e+00,  0.00000000e+00,  0.00000000e+00,\n",
       "          0.00000000e+00,  0.00000000e+00,  0.00000000e+00,\n",
       "          0.00000000e+00],\n",
       "        [-1.66666667e-01,  0.00000000e+00,  8.67361738e-19,\n",
       "          0.00000000e+00,  5.00000000e-01, -6.93889390e-18,\n",
       "          0.00000000e+00,  0.00000000e+00,  0.00000000e+00,\n",
       "          0.00000000e+00, -8.67361738e-19,  0.00000000e+00,\n",
       "          0.00000000e+00,  0.00000000e+00,  0.00000000e+00,\n",
       "          0.00000000e+00],\n",
       "        [ 0.00000000e+00,  0.00000000e+00,  0.00000000e+00,\n",
       "         -6.93889390e-18, -6.93889390e-18,  5.00000000e-01,\n",
       "          8.67361738e-19,  0.00000000e+00,  0.00000000e+00,\n",
       "          0.00000000e+00,  1.66666667e-01,  0.00000000e+00,\n",
       "          0.00000000e+00,  0.00000000e+00,  0.00000000e+00,\n",
       "          0.00000000e+00],\n",
       "        [ 0.00000000e+00,  0.00000000e+00,  0.00000000e+00,\n",
       "         -1.66666667e-01,  0.00000000e+00,  8.67361738e-19,\n",
       "          3.33333333e-01,  0.00000000e+00,  0.00000000e+00,\n",
       "          0.00000000e+00,  0.00000000e+00,  0.00000000e+00,\n",
       "          0.00000000e+00,  0.00000000e+00,  0.00000000e+00,\n",
       "          0.00000000e+00],\n",
       "        [ 0.00000000e+00, -1.66666667e-01, -6.93889390e-18,\n",
       "          0.00000000e+00,  0.00000000e+00,  0.00000000e+00,\n",
       "          0.00000000e+00,  6.66666667e-01,  0.00000000e+00,\n",
       "         -6.93889390e-18,  0.00000000e+00, -1.66666667e-01,\n",
       "          0.00000000e+00,  0.00000000e+00,  0.00000000e+00,\n",
       "          0.00000000e+00],\n",
       "        [ 0.00000000e+00,  0.00000000e+00,  0.00000000e+00,\n",
       "          0.00000000e+00,  0.00000000e+00,  0.00000000e+00,\n",
       "          0.00000000e+00,  0.00000000e+00,  3.33333333e-01,\n",
       "          8.67361738e-19,  0.00000000e+00,  0.00000000e+00,\n",
       "          0.00000000e+00,  0.00000000e+00, -1.66666667e-01,\n",
       "          0.00000000e+00],\n",
       "        [ 0.00000000e+00,  0.00000000e+00,  0.00000000e+00,\n",
       "          0.00000000e+00,  0.00000000e+00,  0.00000000e+00,\n",
       "          0.00000000e+00, -6.93889390e-18,  8.67361738e-19,\n",
       "          3.33333333e-01,  0.00000000e+00,  8.67361738e-19,\n",
       "          0.00000000e+00,  0.00000000e+00, -6.93889390e-18,\n",
       "          0.00000000e+00],\n",
       "        [ 0.00000000e+00,  0.00000000e+00,  0.00000000e+00,\n",
       "          0.00000000e+00, -8.67361738e-19,  1.66666667e-01,\n",
       "          0.00000000e+00,  0.00000000e+00,  0.00000000e+00,\n",
       "          0.00000000e+00,  6.66666667e-01,  0.00000000e+00,\n",
       "         -6.93889390e-18, -1.66666667e-01,  0.00000000e+00,\n",
       "          0.00000000e+00],\n",
       "        [ 0.00000000e+00,  0.00000000e+00,  0.00000000e+00,\n",
       "          0.00000000e+00,  0.00000000e+00,  0.00000000e+00,\n",
       "          0.00000000e+00, -1.66666667e-01,  0.00000000e+00,\n",
       "          8.67361738e-19,  0.00000000e+00,  5.00000000e-01,\n",
       "          8.67361738e-19,  0.00000000e+00,  0.00000000e+00,\n",
       "          6.93889390e-18],\n",
       "        [ 0.00000000e+00,  0.00000000e+00,  0.00000000e+00,\n",
       "          0.00000000e+00,  0.00000000e+00,  0.00000000e+00,\n",
       "          0.00000000e+00,  0.00000000e+00,  0.00000000e+00,\n",
       "          0.00000000e+00, -6.93889390e-18,  8.67361738e-19,\n",
       "          5.00000000e-01,  8.67361738e-19,  0.00000000e+00,\n",
       "          1.66666667e-01],\n",
       "        [ 0.00000000e+00,  0.00000000e+00,  0.00000000e+00,\n",
       "          0.00000000e+00,  0.00000000e+00,  0.00000000e+00,\n",
       "          0.00000000e+00,  0.00000000e+00,  0.00000000e+00,\n",
       "          0.00000000e+00, -1.66666667e-01,  0.00000000e+00,\n",
       "          8.67361738e-19,  3.33333333e-01,  0.00000000e+00,\n",
       "          0.00000000e+00],\n",
       "        [ 0.00000000e+00,  0.00000000e+00,  0.00000000e+00,\n",
       "          0.00000000e+00,  0.00000000e+00,  0.00000000e+00,\n",
       "          0.00000000e+00,  0.00000000e+00, -1.66666667e-01,\n",
       "         -6.93889390e-18,  0.00000000e+00,  0.00000000e+00,\n",
       "          0.00000000e+00,  0.00000000e+00,  3.33333333e-01,\n",
       "          0.00000000e+00],\n",
       "        [ 0.00000000e+00,  0.00000000e+00,  0.00000000e+00,\n",
       "          0.00000000e+00,  0.00000000e+00,  0.00000000e+00,\n",
       "          0.00000000e+00,  0.00000000e+00,  0.00000000e+00,\n",
       "          0.00000000e+00,  0.00000000e+00,  6.93889390e-18,\n",
       "          1.66666667e-01,  0.00000000e+00,  0.00000000e+00,\n",
       "          3.33333333e-01]])"
      ]
     },
     "execution_count": 30,
     "metadata": {},
     "output_type": "execute_result"
    }
   ],
   "source": [
    "mass_q_homemade"
   ]
  },
  {
   "cell_type": "code",
   "execution_count": 31,
   "id": "bbca1fb0",
   "metadata": {},
   "outputs": [
    {
     "data": {
      "text/plain": [
       "matrix([[ 0.33333333,  0.        ,  0.        ,  0.        , -0.16666667,\n",
       "          0.        ,  0.        ,  0.        ,  0.        ,  0.        ,\n",
       "          0.        ,  0.        ,  0.        ,  0.        ,  0.        ,\n",
       "          0.        ],\n",
       "        [ 0.        ,  0.33333333,  0.        ,  0.        ,  0.        ,\n",
       "          0.        ,  0.        , -0.16666667,  0.        ,  0.        ,\n",
       "          0.        ,  0.        ,  0.        ,  0.        ,  0.        ,\n",
       "          0.        ],\n",
       "        [ 0.        ,  0.        ,  0.33333333,  0.        ,  0.        ,\n",
       "          0.        ,  0.        ,  0.        ,  0.        ,  0.        ,\n",
       "          0.        ,  0.        ,  0.        ,  0.        ,  0.        ,\n",
       "          0.        ],\n",
       "        [ 0.        ,  0.        ,  0.        ,  0.33333333,  0.        ,\n",
       "          0.        , -0.16666667,  0.        ,  0.        ,  0.        ,\n",
       "          0.        ,  0.        ,  0.        ,  0.        ,  0.        ,\n",
       "          0.        ],\n",
       "        [-0.16666667,  0.        ,  0.        ,  0.        ,  0.66666667,\n",
       "          0.        ,  0.        ,  0.        ,  0.        ,  0.        ,\n",
       "         -0.16666667,  0.        ,  0.        ,  0.        ,  0.        ,\n",
       "          0.        ],\n",
       "        [ 0.        ,  0.        ,  0.        ,  0.        ,  0.        ,\n",
       "          0.33333333,  0.        ,  0.        ,  0.        ,  0.        ,\n",
       "          0.        ,  0.        ,  0.        ,  0.        ,  0.        ,\n",
       "          0.        ],\n",
       "        [ 0.        ,  0.        ,  0.        , -0.16666667,  0.        ,\n",
       "          0.        ,  0.33333333,  0.        ,  0.        ,  0.        ,\n",
       "          0.        ,  0.        ,  0.        ,  0.        ,  0.        ,\n",
       "          0.        ],\n",
       "        [ 0.        , -0.16666667,  0.        ,  0.        ,  0.        ,\n",
       "          0.        ,  0.        ,  0.66666667,  0.        ,  0.        ,\n",
       "          0.        , -0.16666667,  0.        ,  0.        ,  0.        ,\n",
       "          0.        ],\n",
       "        [ 0.        ,  0.        ,  0.        ,  0.        ,  0.        ,\n",
       "          0.        ,  0.        ,  0.        ,  0.33333333,  0.        ,\n",
       "          0.        ,  0.        ,  0.        ,  0.        , -0.16666667,\n",
       "          0.        ],\n",
       "        [ 0.        ,  0.        ,  0.        ,  0.        ,  0.        ,\n",
       "          0.        ,  0.        ,  0.        ,  0.        ,  0.33333333,\n",
       "          0.        ,  0.        ,  0.        ,  0.        ,  0.        ,\n",
       "          0.        ],\n",
       "        [ 0.        ,  0.        ,  0.        ,  0.        , -0.16666667,\n",
       "          0.        ,  0.        ,  0.        ,  0.        ,  0.        ,\n",
       "          0.66666667,  0.        ,  0.        , -0.16666667,  0.        ,\n",
       "          0.        ],\n",
       "        [ 0.        ,  0.        ,  0.        ,  0.        ,  0.        ,\n",
       "          0.        ,  0.        , -0.16666667,  0.        ,  0.        ,\n",
       "          0.        ,  0.66666667,  0.        ,  0.        ,  0.        ,\n",
       "         -0.16666667],\n",
       "        [ 0.        ,  0.        ,  0.        ,  0.        ,  0.        ,\n",
       "          0.        ,  0.        ,  0.        ,  0.        ,  0.        ,\n",
       "          0.        ,  0.        ,  0.33333333,  0.        ,  0.        ,\n",
       "          0.        ],\n",
       "        [ 0.        ,  0.        ,  0.        ,  0.        ,  0.        ,\n",
       "          0.        ,  0.        ,  0.        ,  0.        ,  0.        ,\n",
       "         -0.16666667,  0.        ,  0.        ,  0.33333333,  0.        ,\n",
       "          0.        ],\n",
       "        [ 0.        ,  0.        ,  0.        ,  0.        ,  0.        ,\n",
       "          0.        ,  0.        ,  0.        , -0.16666667,  0.        ,\n",
       "          0.        ,  0.        ,  0.        ,  0.        ,  0.33333333,\n",
       "          0.        ],\n",
       "        [ 0.        ,  0.        ,  0.        ,  0.        ,  0.        ,\n",
       "          0.        ,  0.        ,  0.        ,  0.        ,  0.        ,\n",
       "          0.        , -0.16666667,  0.        ,  0.        ,  0.        ,\n",
       "          0.33333333]])"
      ]
     },
     "execution_count": 31,
     "metadata": {},
     "output_type": "execute_result"
    }
   ],
   "source": [
    "mass_q_original"
   ]
  },
  {
   "cell_type": "code",
   "execution_count": 32,
   "id": "95a584ec",
   "metadata": {},
   "outputs": [],
   "source": [
    "idx = np.argmax(dif)\n",
    "sh = dif.shape[0]"
   ]
  },
  {
   "cell_type": "code",
   "execution_count": 33,
   "id": "ab3d27d6",
   "metadata": {},
   "outputs": [
    {
     "data": {
      "text/plain": [
       "(5, 5)"
      ]
     },
     "execution_count": 33,
     "metadata": {},
     "output_type": "execute_result"
    }
   ],
   "source": [
    "row = floor(idx / sh)\n",
    "col = np.mod(idx, sh)\n",
    "\n",
    "row, col"
   ]
  },
  {
   "cell_type": "code",
   "execution_count": 34,
   "id": "6ea10e8d",
   "metadata": {},
   "outputs": [
    {
     "data": {
      "text/plain": [
       "0.33333333333333337"
      ]
     },
     "execution_count": 34,
     "metadata": {},
     "output_type": "execute_result"
    }
   ],
   "source": [
    "matrix_norm(dif, ord=np.inf)"
   ]
  },
  {
   "cell_type": "markdown",
   "id": "6036f9c2",
   "metadata": {},
   "source": [
    "# Time Loop\n",
    "for i in range(1, int(T/dt)+1):\n",
    "    print('Time ' + str(i * dt))\n",
    "\n",
    "    # Prepare the solution at the previous time step and ...\n",
    "    prev = sol[-1].copy()\n",
    "\n",
    "    # Prepare the rhs\n",
    "    rhs = fixed_rhs.copy()\n",
    "    rhs[:dof_q] += bc_val(i*dt)\n",
    "    rhs[dof_q:(dof_q+dof_p)] += S_s / dt * M_h @ prev[dof_q:(dof_q+dof_p)]\n",
    "    rhs[-dof_eta:] += (phi / dt * M_gamma @ prev[-dof_eta:] + M_gamma @ gamma_field.interpolate(boundary_grid, infiltration))\n",
    "\n",
    "    debug_saver = pp.Exporter(mdg, str(i) + '_sol', folder_name=os.path.join(output_directory, 'debug'))\n",
    "    save_step(sol[-1], proj_q, proj_psi, proj_eta, debug_saver, 0)\n",
    "    \n",
    "    # Non-linear loop\n",
    "    for k in range(max_iterations_per_step):\n",
    "\n",
    "        # Assemble the saddle point problem\n",
    "        spp = sps.bmat([[mass_q(prev[-dof_eta:]),            B.T,          B_gamma.T], \n",
    "                        [                     -B, S_s / dt * M_h,               None],\n",
    "                        [               -B_gamma,           None, phi / dt * M_gamma]], format=\"csc\")\n",
    "        \n",
    "        # Prepare the solver\n",
    "        ls = pg.LinearSystem(spp, rhs)\n",
    "        ls.flag_ess_bc(np.hstack(bc_ess), np.zeros(dof_q + dof_p + dof_eta))\n",
    "\n",
    "        current = ls.solve()\n",
    "\n",
    "        # Compute the errors (with eta). Should I consider only psi? Should I compute the error on the \"actual\" psi values or on the dofs\n",
    "        abs_err_psi  = np.sqrt(np.sum(np.power(current[dof_q:] - prev[dof_q:], 2)))\n",
    "        abs_err_prev = np.sqrt(np.sum(np.power(prev[dof_q:], 2)))\n",
    "\n",
    "        print('Iteration #' + format(k+1, '0' + str(ceil(log10(max_iterations_per_step)) + 1) + 'd') \n",
    "              + ', error L2 relative psi: ' + format(abs_err_psi, str(5 + ceil(log10(1 / abs_tol)) + 4) \n",
    "                                                     + '.' + str(ceil(log10(1 / abs_tol)) + 4) + 'f') )\n",
    "        \n",
    "        save_step(current, proj_q, proj_psi, proj_eta, debug_saver, k+1)\n",
    "\n",
    "        if abs_err_psi < abs_tol + rel_tol * abs_err_prev:\n",
    "            break\n",
    "        else:\n",
    "            prev = None\n",
    "            prev = current.copy()\n",
    "\n",
    "    print('')        \n",
    "\n",
    "    sol.append( current.copy() )\n",
    "\n",
    "    save_step(sol[-1], proj_q, proj_psi, proj_eta, saver, i)\n",
    "\n",
    "saver.write_pvd([t * dt for t in range(int(T/dt)+1)])"
   ]
  }
 ],
 "metadata": {
  "kernelspec": {
   "display_name": "Python 3 (ipykernel)",
   "language": "python",
   "name": "python3"
  },
  "language_info": {
   "codemirror_mode": {
    "name": "ipython",
    "version": 3
   },
   "file_extension": ".py",
   "mimetype": "text/x-python",
   "name": "python",
   "nbconvert_exporter": "python",
   "pygments_lexer": "ipython3",
   "version": "3.10.9"
  },
  "vscode": {
   "interpreter": {
    "hash": "e4cc1db98167c7fd7d55a1da8057731abc6cd6fe154328a2ae319df8aab4e24d"
   }
  }
 },
 "nbformat": 4,
 "nbformat_minor": 5
}
