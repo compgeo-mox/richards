{
 "cells": [
  {
   "attachments": {},
   "cell_type": "markdown",
   "metadata": {},
   "source": [
    "# Richards equation\n",
    "\n",
    "In this tutorial we present how to solve a Richards equation with [PyGeoN](https://github.com/compgeo-mox/pygeon).  The unkwons are the velocity $q$ and the pressure $p$.\n",
    "\n",
    "Let $\\Omega=\\Omega_1 \\cup \\Omega_2$, with $\\Omega_1=(0,1)\\times(0, 1/4]$ and $\\Omega_2=(0,1)\\times(1/4,1)$. Given \n",
    "$k$ the matrix permeability, we want to solve the following problem: find $({q}, \\psi)$ such that\n",
    "$$\n",
    "\\left\\{\n",
    "\\begin{array}{ll}\n",
    "\\begin{array}{l} \n",
    "K^{-1}(\\psi) {q} + \\nabla \\psi = -\\nabla z\\\\\n",
    "\\partial_t \\theta (\\psi) + \\nabla \\cdot {q} = f\n",
    "\\end{array}\n",
    "&\\text{in } \\Omega \\times (0,T)\n",
    "\\end{array}\n",
    "\\right.\n",
    "$$\n",
    "with boundary conditions:\n",
    "\n",
    "$$\n",
    "\\psi(0,x,z)=\n",
    "\\left\\{\n",
    "\\begin{array}{ll}\n",
    "\\begin{array}{l} \n",
    "-z-1/4, (x,z) \\in \\Omega_1\\\\\n",
    "-4, (x,z) \\in \\Omega_2\n",
    "\\end{array}\n",
    "\\end{array}\n",
    "\\right., \n",
    "\\qquad \\nu \\cdot q = 0 \\text{ on } \\Gamma_N,\n",
    "\\qquad \\psi(t,x,z) = -4 \\text{ on } \\Gamma_D,\n",
    "\\qquad f = \n",
    "\\left\\{\n",
    "\\begin{array}{ll}\n",
    "\\begin{array}{l} \n",
    "0, (x,z) \\in \\Omega_1\\\\\n",
    "0.06 \\cos(\\frac{4}{3}\\pi z) \\sin(x), (x,z) \\in \\Omega_2\n",
    "\\end{array}\n",
    "\\end{array}\n",
    "\\right.\n",
    "$$\n",
    "and\n",
    "$$\n",
    "\\Gamma_{D} = (0,1) \\times \\{1\\},\\\\\n",
    "\\Gamma_{N} = \\partial \\Omega \\setminus \\Gamma_D\n",
    "$$\n",
    "\n",
    "We present *step-by-step* how to create the grid, declare the problem data, and finally solve the problem."
   ]
  },
  {
   "attachments": {},
   "cell_type": "markdown",
   "metadata": {},
   "source": [
    "### Import and parameters"
   ]
  },
  {
   "cell_type": "code",
   "execution_count": 1,
   "metadata": {},
   "outputs": [],
   "source": [
    "import shutil\n",
    "import os\n",
    "\n",
    "import numpy as np\n",
    "import scipy.sparse as sps\n",
    "from scipy.sparse import linalg\n",
    "import sympy as sp\n",
    "\n",
    "import porepy as pp\n",
    "import pygeon as pg\n",
    "\n",
    "import time\n",
    "from math import ceil, floor, log10, exp\n",
    "\n",
    "import matplotlib.pyplot as plt"
   ]
  },
  {
   "cell_type": "code",
   "execution_count": 2,
   "metadata": {},
   "outputs": [],
   "source": [
    "import sys\n",
    "sys.path.insert(0, \"/workspaces/richards/\")\n",
    "\n",
    "from richards.model_params import Model_Data\n",
    "from richards.matrix_computer import Matrix_Computer\n",
    "\n",
    "from richards.solver import Solver\n",
    "from richards.solver_params import Solver_Data, Solver_Enum"
   ]
  },
  {
   "cell_type": "code",
   "execution_count": 3,
   "metadata": {},
   "outputs": [],
   "source": [
    "upper_bound = -2"
   ]
  },
  {
   "cell_type": "code",
   "execution_count": 4,
   "metadata": {},
   "outputs": [],
   "source": [
    "K = 10000\n",
    "N = 80\n",
    "num_steps = 1\n",
    "\n",
    "eps_psi_abs = 1e-7\n",
    "eps_psi_rel = 0\n",
    "\n",
    "domain_tolerance = 1 / (100 * N)\n",
    "\n",
    "output_directory = 'output_evolutionary'"
   ]
  },
  {
   "cell_type": "code",
   "execution_count": 5,
   "metadata": {},
   "outputs": [],
   "source": [
    "rho = 1000\n",
    "g = pp.GRAVITY_ACCELERATION"
   ]
  },
  {
   "cell_type": "code",
   "execution_count": 6,
   "metadata": {},
   "outputs": [],
   "source": [
    "theta_r = 0.026\n",
    "theta_s = 0.42\n",
    "\n",
    "alpha = 0.551\n",
    "\n",
    "n = 2.9\n",
    "K_s = 0.12\n",
    "\n",
    "T    = 1"
   ]
  },
  {
   "cell_type": "code",
   "execution_count": 7,
   "metadata": {},
   "outputs": [],
   "source": [
    "h_s = 0\n",
    "theta_m = theta_s\n",
    "m = 1 - 1/n"
   ]
  },
  {
   "cell_type": "code",
   "execution_count": 8,
   "metadata": {},
   "outputs": [],
   "source": [
    "dt   = (T-0)/num_steps"
   ]
  },
  {
   "cell_type": "code",
   "execution_count": 9,
   "metadata": {},
   "outputs": [],
   "source": [
    "model_data = Model_Data(theta_r=theta_r, theta_s=theta_s, alpha=alpha, n=n, K_s=K_s, T=T, num_steps=num_steps, richards_psi_starting_dof=N)"
   ]
  },
  {
   "attachments": {},
   "cell_type": "markdown",
   "metadata": {},
   "source": [
    "### Domain preparation"
   ]
  },
  {
   "cell_type": "code",
   "execution_count": 10,
   "metadata": {},
   "outputs": [],
   "source": [
    "subdomain = pp.StructuredTriangleGrid([N, 2*N], [1, 2])\n",
    "# convert the grid into a mixed-dimensional grid\n",
    "mdg = pp.meshing.subdomains_to_mdg([subdomain])"
   ]
  },
  {
   "cell_type": "code",
   "execution_count": 11,
   "metadata": {},
   "outputs": [],
   "source": [
    "key = \"flow\"\n",
    "\n",
    "bc_value = []\n",
    "bc_essential = []\n",
    "initial_pressure = []\n",
    "initial_velocity = []\n",
    "\n",
    "gravity = []"
   ]
  },
  {
   "cell_type": "code",
   "execution_count": 12,
   "metadata": {},
   "outputs": [],
   "source": [
    "RT0 = pg.RT0(key)\n",
    "P0  = pg.PwConstants(key)"
   ]
  },
  {
   "cell_type": "code",
   "execution_count": 13,
   "metadata": {},
   "outputs": [],
   "source": [
    "def g_func(x,t): \n",
    "    return np.array([0, -1, 0])"
   ]
  },
  {
   "cell_type": "code",
   "execution_count": 14,
   "metadata": {},
   "outputs": [],
   "source": [
    "def initial_pressure_func(x):\n",
    "    if x[1] > 1 + 1/4 + domain_tolerance:\n",
    "        return upper_bound\n",
    "    else:\n",
    "        return - (x[1]-1) - 1/4"
   ]
  },
  {
   "cell_type": "code",
   "execution_count": 15,
   "metadata": {},
   "outputs": [],
   "source": [
    "def initial_velocity_func(x):\n",
    "    if x[1] > 1 + 1/4 + domain_tolerance:\n",
    "        return - model_data.hydraulic_conductivity_coefficient(np.array([upper_bound])) * np.array([0,1,1])\n",
    "    else:\n",
    "        return np.zeros(shape=3)"
   ]
  },
  {
   "cell_type": "code",
   "execution_count": 16,
   "metadata": {},
   "outputs": [],
   "source": [
    "def f(x,t):\n",
    "    res = 0\n",
    "    if x[1] > 1 + 1/4 + domain_tolerance:\n",
    "        res = 0.06*np.cos(4/3*np.pi*(x[1] - 1))*np.sin(x[0])\n",
    "\n",
    "    return res"
   ]
  },
  {
   "cell_type": "code",
   "execution_count": 17,
   "metadata": {},
   "outputs": [],
   "source": [
    "for subdomain, data in mdg.subdomains(return_data=True):\n",
    "    g_proj = RT0.interpolate(subdomain, lambda x: g_func(x,0))\n",
    "    gravity.append(RT0.assemble_mass_matrix(subdomain) @ g_proj)\n",
    "    \n",
    "    initial_pressure.append( P0.interpolate(subdomain, initial_pressure_func))\n",
    "    initial_velocity.append(RT0.interpolate(subdomain, initial_velocity_func))\n",
    "        \n",
    "    # with the following steps we identify the portions of the boundary\n",
    "    # to impose the boundary conditions\n",
    "    boundary_faces_indexes = subdomain.get_boundary_faces()\n",
    "\n",
    "    gamma_d  = subdomain.face_centers[1, :] > 1+1-domain_tolerance\n",
    "    gamma_n  = gamma_d.copy()\n",
    "    \n",
    "    gamma_n[boundary_faces_indexes] = np.logical_not(gamma_n[boundary_faces_indexes])\n",
    "    \n",
    "\n",
    "    pp.initialize_data(subdomain, data, key, {\n",
    "        \"second_order_tensor\": pp.SecondOrderTensor(np.ones(subdomain.num_cells)),\n",
    "    })\n",
    "    \n",
    "    def bc_gamma_d(x): return upper_bound\n",
    "\n",
    "    bc_value.append(lambda t: - RT0.assemble_nat_bc(subdomain, bc_gamma_d, gamma_d))\n",
    "\n",
    "    essential_pressure_dofs = np.zeros(P0.ndof(subdomain), dtype=bool) # No essential BC for pressure\n",
    "    bc_essential.append(np.hstack((gamma_n, essential_pressure_dofs))) # Essential BC for velocity on gamma_n"
   ]
  },
  {
   "cell_type": "code",
   "execution_count": 18,
   "metadata": {},
   "outputs": [
    {
     "data": {
      "text/plain": [
       "(80, 400)"
      ]
     },
     "execution_count": 18,
     "metadata": {},
     "output_type": "execute_result"
    }
   ],
   "source": [
    "gamma_d.sum(), gamma_n.sum()"
   ]
  },
  {
   "attachments": {},
   "cell_type": "markdown",
   "metadata": {},
   "source": [
    "### Method"
   ]
  },
  {
   "attachments": {},
   "cell_type": "markdown",
   "metadata": {},
   "source": [
    "A quick recap:\n",
    "$$\n",
    "\\left\\{\n",
    "\\begin{array}{ll}\n",
    "\\begin{array}{l} \n",
    "K^{-1}(\\psi) {q} + \\nabla \\psi = -\\nabla z\\\\\n",
    "\\partial_t \\theta (\\psi) + \\nabla \\cdot {q} = f\n",
    "\\end{array}\n",
    "&\\text{in } \\Omega \\times (0,T)\n",
    "\\end{array}\n",
    "\\right.\n",
    "$$\n",
    "becames, with the time discretization:"
   ]
  },
  {
   "attachments": {},
   "cell_type": "markdown",
   "metadata": {},
   "source": [
    "$$\n",
    "\\left\\{\n",
    "\\begin{array}{ll}\n",
    "\\begin{array}{l} \n",
    "K^{-1}(\\psi^{n+1}_k) {q^{n+1}_{k+1}} + \\nabla \\psi^{n+1}_{k+1} = -\\nabla z\\\\\n",
    "\\frac{\\partial \\theta(\\psi_k^{n+1})}{\\partial \\psi} \\frac{\\psi_{k+1}^{n+1}}{\\Delta t} + \\nabla \\cdot {q^{n+1}_{k+1}} = \\frac{\\partial \\theta(\\psi_k^{n+1})}{\\partial \\psi} \\frac{\\psi_{k}^{n+1}}{\\Delta t} + \\frac{\\theta (\\psi^{n}) - \\theta (\\psi^{n+1}_k)}{\\Delta t} + f^{n+1}\n",
    "\\end{array}\n",
    "&\\text{in } \\Omega \\times (0,T)\n",
    "\\end{array}\n",
    "\\right.\n",
    "$$"
   ]
  },
  {
   "cell_type": "code",
   "execution_count": 19,
   "metadata": {},
   "outputs": [],
   "source": [
    "if os.path.exists(output_directory):\n",
    "    shutil.rmtree(output_directory)"
   ]
  },
  {
   "cell_type": "code",
   "execution_count": 20,
   "metadata": {},
   "outputs": [],
   "source": [
    "# assemble initial solution\n",
    "cp = Matrix_Computer(mdg)\n",
    "initial_solution = np.zeros(cp.dof_q[0] + cp.dof_psi[0])\n",
    "initial_solution[-cp.dof_psi[0]:] += np.hstack(initial_pressure)"
   ]
  },
  {
   "cell_type": "code",
   "execution_count": 21,
   "metadata": {},
   "outputs": [],
   "source": [
    "solver_data = Solver_Data(mdg=mdg, initial_solution=initial_solution, scheme=Solver_Enum.NEWTON, bc_essential=lambda t: bc_essential, eps_psi_abs=eps_psi_abs, eps_psi_rel=eps_psi_rel, max_iterations_per_step=K, output_directory=output_directory, L_Scheme_value=0.136, report_name='unsaturated')\n",
    "\n",
    "solver_data.set_rhs_vector_q(lambda t: np.hstack(list(cond(t) for cond in bc_value)))\n",
    "solver_data.set_rhs_function_q(g_func)\n",
    "solver_data.set_rhs_function_psi(f)"
   ]
  },
  {
   "cell_type": "code",
   "execution_count": 22,
   "metadata": {},
   "outputs": [],
   "source": [
    "solver = Solver(model_data=model_data, solver_data=solver_data)"
   ]
  },
  {
   "cell_type": "code",
   "execution_count": 23,
   "metadata": {},
   "outputs": [
    {
     "name": "stdout",
     "output_type": "stream",
     "text": [
      "Csv_Exporter: A file with the same name is detected. I'll delete it\n",
      "Time 1.0\n",
      "Iteration #00001, error L2 relative psi:    0.01065783215\n",
      "Iteration #00002, error L2 relative psi:    0.00324986624\n",
      "Iteration #00003, error L2 relative psi:    0.00051567704\n",
      "Iteration #00004, error L2 relative psi:    0.00001015882\n",
      "Iteration #00005, error L2 relative psi:    0.00000001351\n",
      "\n",
      "\n",
      "31.024176597595215\n"
     ]
    }
   ],
   "source": [
    "start = time.time()\n",
    "solver.solve()\n",
    "end = time.time()\n",
    "\n",
    "print('')\n",
    "print(end - start)"
   ]
  }
 ],
 "metadata": {
  "kernelspec": {
   "display_name": ".venv",
   "language": "python",
   "name": "python3"
  },
  "language_info": {
   "codemirror_mode": {
    "name": "ipython",
    "version": 3
   },
   "file_extension": ".py",
   "mimetype": "text/x-python",
   "name": "python",
   "nbconvert_exporter": "python",
   "pygments_lexer": "ipython3",
   "version": "3.10.9"
  },
  "orig_nbformat": 4
 },
 "nbformat": 4,
 "nbformat_minor": 2
}
