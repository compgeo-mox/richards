{
 "cells": [
  {
   "cell_type": "markdown",
   "id": "essential-american",
   "metadata": {},
   "source": [
    "# Darcy equation\n",
    "\n",
    "In this tutorial we present how to solve a Darcy equation with [PyGeoN](https://github.com/compgeo-mox/pygeon) in themoving domain case (the upper boundary will move).  The unkwons are the velocity $u$, the elevation head $h$ and the height of the upper boundary $\\eta$.\n",
    "\n",
    "Let $\\Omega=(0,1)\\times(0,\\eta)$ with boundary $\\partial \\Omega$ and outward unit normal ${\\nu}$. Given \n",
    "$K$ the matrix permeability, we want to solve the following problem: find $(\\bm{u}, h)$ such that\n",
    "$$\n",
    "\\left\\{\n",
    "\\begin{array}{ll}\n",
    "\\begin{array}{l} \n",
    "K^{-1} {\\bm{u}} + \\nabla h = {0}\\\\\n",
    "S_s \\frac{\\partial{h}}{\\partial t} + \\nabla \\cdot {u} = f\n",
    "\\end{array}\n",
    "&\\text{in } \\Omega\n",
    "\\end{array}\n",
    "\\right.\n",
    "$$"
   ]
  },
  {
   "cell_type": "markdown",
   "id": "dadbb451",
   "metadata": {},
   "source": [
    "In order to solve the problem, we will perfom a change of coordinates to a reference domain $\\hat{\\Omega}=(0,1)^2$ through the (linear) trasnformation $R : \\Omega \\rightarrow \\hat{\\Omega}$ (and its inverse function $D : \\hat{\\Omega} \\rightarrow \\Omega$).\n",
    "Recall that $\\hat{\\nabla}R=(\\nabla D)^{-1}$.\n",
    "\n",
    "Let $\\hat{h}$ and $\\hat{\\bm{u}}$ be $h$ and $\\bm{u}$ respectevely in the reference domain and let $\\hat{K}$ be the transformed permeability matrix, defined as $\\hat{K}=det(\\hat{\\nabla}D) (\\hat{\\nabla} D)^{-1} K (\\hat{\\nabla} D)^{-T}$.\n",
    "\n",
    "The equation describing the motion of $\\partial_{top}\\Omega$ is:\n",
    "$$\n",
    "\n",
    "\\phi \\frac{\\partial \\eta}{\\partial t} = \\hat{u_3}\n",
    "\n",
    "$$"
   ]
  },
  {
   "cell_type": "markdown",
   "id": "a068fac3",
   "metadata": {},
   "source": [
    "The transformed equations in $\\hat{\\Omega}$ is:\n",
    "$$\n",
    "\\left\\{\n",
    "\\begin{array}{ll}\n",
    "\\begin{array}{l} \n",
    "\\hat{K}(\\hat{h})^{-1} {\\hat{u}} + \\hat{\\nabla} \\hat{h} = {0}\\\\\n",
    "\\hat{S}_s \\frac{\\partial{\\hat{h}}}{\\partial t} + \\hat{\\nabla} \\cdot {\\hat{\\bm{u}}} = f\n",
    "\\end{array}\n",
    "&\\text{in } \\hat{\\Omega}\n",
    "\\end{array}\n",
    "\\right.\n",
    "$$\n",
    "with boundary conditions:\n",
    "$$ \\hat{h} = \\eta \\text{ on } \\Gamma \\qquad \\hat{h} = \\ell \\text{ on } \\Gamma_D \\qquad \\hat{\\bm{\\nu}} \\cdot \\hat{\\bm{u}} = 0 \\text{ on } \\Gamma_N$$"
   ]
  },
  {
   "cell_type": "markdown",
   "id": "47b01879",
   "metadata": {},
   "source": [
    "The weak formulation will be:\n",
    "$$\n",
    "\\left\\{\n",
    "\\begin{array}{ll}\n",
    "\\begin{array}{l} \n",
    "\\int_{\\Omega}\\hat{K}(\\hat{h})^{-1} {\\bm{\\hat{u}}} \\cdot \\bm{v} \\, d\\Omega - \\int_{\\Omega} h \\hat{\\nabla} \\cdot {\\hat{\\bm{v}}} \\, d\\Omega = - \\int_{\\Gamma_D} h \\bm{v} \\cdot \\bm{\\nu} \\, d\\Omega - \\int_{\\Gamma} \\eta \\bm{v} \\cdot \\bm{\\nu} \\, d\\Omega\\\\\n",
    "\\int_{\\Omega} \\hat{S}_s \\frac{\\partial{\\hat{h}}}{\\partial t} v \\, d\\Omega + \\int_{\\Omega} \\hat{\\nabla} \\cdot {\\hat{\\bm{u}}} v \\, d\\Omega = \\int_{\\Omega} fv \\, d\\Omega\\\\\n",
    "\\int_{\\Gamma} \\phi \\frac{\\partial \\eta}{\\partial t} v \\, d\\sigma = \\int_{\\Gamma} \\hat{u_3} v \\, d\\sigma\n",
    "\\end{array}\n",
    "\\end{array}\n",
    "\\right.\n",
    "$$"
   ]
  },
  {
   "cell_type": "markdown",
   "id": "dcdc7603",
   "metadata": {},
   "source": [
    "For the time discretization, we will employ a backward Euler scheme:\n",
    "\n",
    "$$\n",
    "\\left\\{\n",
    "\\begin{array}{ll}\n",
    "\\begin{array}{l} \n",
    "\\int_{\\Omega}\\hat{K}(\\hat{h}^{n+1})^{-1} {\\bm{\\hat{u}}^{n+1}} \\cdot \\bm{v} \\, d\\Omega - \\int_{\\Omega} h^{n+1} \\hat{\\nabla} \\cdot {\\hat{\\bm{v}}} \\, d\\Omega = - \\int_{\\Gamma_D} h^{n+1} \\bm{v} \\cdot \\bm{\\nu} \\, d\\Omega - \\int_{\\Gamma} \\eta^{n+1} \\bm{v} \\cdot \\bm{\\nu} \\, d\\Omega\\\\\n",
    "\\int_{\\Omega} \\hat{S}_s^{n+1} \\frac{\\hat{h}^{n+1} - \\hat{h}^{n}}{\\Delta t} v \\, d\\Omega + \\int_{\\Omega} \\hat{\\nabla} \\cdot {\\hat{\\bm{u}}^{n+1}} v \\, d\\Omega = \\int_{\\Omega} f^{n+1}v \\, d\\Omega\\\\\n",
    "\\int_{\\Gamma} \\phi \\eta^{n+1} v \\, d\\sigma = \\Delta t \\int_{\\Gamma} \\hat{\\bm{u}}^{n+1} \\cdot \\bm{\\nu} v \\, d\\sigma + \\int_{\\Gamma} \\phi \\eta^{n} v \\, d\\sigma\n",
    "\\end{array}\n",
    "\\end{array}\n",
    "\\right.\n",
    "$$"
   ]
  },
  {
   "cell_type": "markdown",
   "id": "faf928a5",
   "metadata": {},
   "source": [
    "To deal with the non-linear term, we will employ a simple Picard scheme:\n",
    "\n",
    "$$\n",
    "\\left\\{\n",
    "\\begin{array}{ll}\n",
    "\\begin{array}{l} \n",
    "\\int_{\\Omega}\\hat{K}(\\hat{h}^{n+1}_k)^{-1} {\\bm{\\hat{u}_{k+1}^{n+1}}} \\cdot \\bm{v} \\, d\\Omega - \\int_{\\Omega} h^{n+1}_{k+1} \\hat{\\nabla} \\cdot {\\hat{\\bm{v}}} \\, d\\Omega + \\int_{\\Gamma} \\eta^{n+1}_{k+1} \\bm{v} \\cdot \\bm{\\nu} \\, d\\Omega= - \\int_{\\Gamma_D} h^{n+1} \\bm{v} \\cdot \\bm{\\nu} \\, d\\Omega\\\\\n",
    "\\Delta t \\int_{\\Omega} \\hat{\\nabla} \\cdot {\\hat{\\bm{u}}^{n+1}_{k+1}} v \\, d\\Omega + \\int_{\\Omega} \\hat{S}_s \\hat{h}^{n+1}_{k+1} v \\, d\\Omega = \\int_{\\Omega} \\hat{S}_s \\hat{h}^{n} v \\, d\\Omega + \\Delta t \\int_{\\Omega} f^{n+1}v \\, d\\Omega\\\\\n",
    "- \\Delta t \\int_{\\Gamma} \\hat{\\bm{u}}^{n+1}_{k+1} \\cdot \\bm{\\nu} v \\, d\\sigma + \\int_{\\Gamma} \\phi \\eta^{n+1}_{k+1} v \\, d\\sigma = \\int_{\\Gamma} \\phi \\eta^{n} v \\, d\\sigma\n",
    "\\end{array}\n",
    "\\end{array}\n",
    "\\right.\n",
    "$$"
   ]
  },
  {
   "cell_type": "markdown",
   "id": "615fb33d",
   "metadata": {},
   "source": [
    "The matrix formulation will be:\n",
    "\n",
    "$$\n",
    "\\left\\{\n",
    "\\begin{array}{ll}\n",
    "\\begin{array}{l} \n",
    "M_u(\\bm{h}^{n+1}_{k+1}) \\bm{u}^{n+1}_{k+1} + B^T\\bm{h}^{n+1}_{k+1} + B_{\\Gamma} \\bm{\\eta}^{n+1}_{k+1}= \\bm{BC}^{n+1}\\\\\n",
    "- \\Delta t B \\hat{\\bm{u}}^{n+1}_{k+1} + S_s M_{h} \\bm{\\hat{h}^{n+1}_{k+1}} = \\Delta t \\bm{F}^{n+1} + S_s M_{h} \\bm{\\hat{h}^{n}}\\\\\n",
    "- \\Delta t B_{\\Gamma}^T \\hat{\\bm{u}}^{n+1}_{k+1} + \\phi M_{\\Gamma} \\bm{\\eta^{n+1}_{k+1}} = \\phi M_{\\Gamma} \\bm{\\eta^{n}}\n",
    "\\end{array}\n",
    "\\end{array}\n",
    "\\right.\n",
    "$$"
   ]
  },
  {
   "cell_type": "markdown",
   "id": "49e31d3b",
   "metadata": {},
   "source": [
    "$$\n",
    "\\left(\n",
    "\\begin{array}{cc} \n",
    "M_u(\\bm{h^{n+1}_k}) & B^T & B_{\\Gamma}\\\\\n",
    "-\\Delta t B & S_s M_h & 0\\\\\n",
    "-\\Delta t B^T_{\\Gamma} & 0 & \\phi M_{\\Gamma}\n",
    "\\end{array}\n",
    "\\right)\n",
    "\\left(\n",
    "\\begin{array}{c} \n",
    "\\bm{u^{n+1}_{k+1}}\\\\ \n",
    "\\bm{h^{n+1}_{k+1}}\\\\\n",
    "\\bm{\\eta^{n+1}_{k+1}}\n",
    "\\end{array}\n",
    "\\right)\n",
    "=\\left(\n",
    "\\begin{array}{c} \n",
    "\\bm{BC}^{n+1}\\\\ \n",
    "\\Delta t \\bm{F}^{n+1} + S_s M_h \\bm{h}^n\\\\\n",
    "\\phi M_{\\Gamma} \\bm{\\eta}^n\n",
    "\\end{array}\n",
    "\\right)\n",
    "$$"
   ]
  },
  {
   "cell_type": "markdown",
   "id": "60777fa8",
   "metadata": {},
   "source": [
    "We will start to test the method in the case $M_u(\\bm{h_k}^{n+1})=\\bm{I}$"
   ]
  },
  {
   "cell_type": "code",
   "execution_count": 1,
   "id": "dietary-perth",
   "metadata": {},
   "outputs": [],
   "source": [
    "import numpy as np\n",
    "import scipy.sparse as sps\n",
    "import os, shutil\n",
    "\n",
    "import porepy as pp\n",
    "import pygeon as pg"
   ]
  },
  {
   "cell_type": "code",
   "execution_count": 2,
   "id": "1e1342bf",
   "metadata": {},
   "outputs": [],
   "source": [
    "output_directory = 'output'"
   ]
  },
  {
   "cell_type": "markdown",
   "id": "roman-glossary",
   "metadata": {},
   "source": [
    "We create now the grid, since we will use a Raviart-Thomas approximation for ${q}$ we are restricted to simplices. In this example we consider a 2-dimensional structured grid, but the presented code will work also in 1d and 3d. PyGeoN works with mixed-dimensional grids, so we need to convert the grid."
   ]
  },
  {
   "cell_type": "code",
   "execution_count": 3,
   "id": "0816cee5",
   "metadata": {},
   "outputs": [],
   "source": [
    "dt = 0.1\n",
    "T = 10\n",
    "S_s = 0.3\n",
    "phi = 0.1\n",
    "N = 5"
   ]
  },
  {
   "cell_type": "code",
   "execution_count": 4,
   "id": "spectacular-saturn",
   "metadata": {},
   "outputs": [],
   "source": [
    "# convert the grid into a mixed-dimensional grid\n",
    "sd = pp.StructuredTriangleGrid([N, 2*N], [1, 2])\n",
    "sd.compute_geometry()"
   ]
  },
  {
   "cell_type": "code",
   "execution_count": 5,
   "id": "b7e69cf0",
   "metadata": {},
   "outputs": [],
   "source": [
    "grid_status = pp.partition.partition(sd, 2)"
   ]
  },
  {
   "cell_type": "code",
   "execution_count": 6,
   "id": "c4dbe581",
   "metadata": {},
   "outputs": [],
   "source": [
    "darcy_grid, darcy_face_map, darcy_node_map = pp.partition.extract_subgrid( sd, grid_status == 0 )\n",
    "richard_grid, richards_face_map, richards_node_map = pp.partition.extract_subgrid(sd, grid_status == 1)"
   ]
  },
  {
   "cell_type": "code",
   "execution_count": 7,
   "id": "7d6f7767",
   "metadata": {},
   "outputs": [],
   "source": [
    "faces = np.zeros(shape=(sd.num_faces,), dtype=bool)\n",
    "faces[ np.intersect1d(darcy_face_map, richards_face_map) ] = True"
   ]
  },
  {
   "cell_type": "code",
   "execution_count": 8,
   "id": "ffa231fe",
   "metadata": {},
   "outputs": [],
   "source": [
    "boundary_grid, boundary_face_map, boundary_node_map = pp.partition.extract_subgrid(sd, faces, faces=True)"
   ]
  },
  {
   "cell_type": "markdown",
   "id": "precious-belle",
   "metadata": {},
   "source": [
    "With the following code we set the data, in particular the permeability tensor and the boundary conditions. Since we need to identify each side of $\\partial \\Omega$ we need few steps."
   ]
  },
  {
   "cell_type": "code",
   "execution_count": null,
   "id": "da7905f4",
   "metadata": {},
   "outputs": [],
   "source": []
  },
  {
   "cell_type": "code",
   "execution_count": 9,
   "id": "spare-person",
   "metadata": {},
   "outputs": [],
   "source": [
    "key = \"flow\"\n",
    "\n",
    "darcy_data = {}\n",
    "richards_data = {}\n",
    "\n",
    "bc_val = []\n",
    "bc_ess = []\n",
    "initial_pressure = []"
   ]
  },
  {
   "cell_type": "code",
   "execution_count": 10,
   "id": "ffd8b2c6",
   "metadata": {},
   "outputs": [],
   "source": [
    "velocity_discretization_field = pg.RT0(key)\n",
    "boundary_discretization_field = pg.Lagrange1('flow')\n",
    "head_discretization_field     = pg.PwConstants(key)"
   ]
  },
  {
   "cell_type": "code",
   "execution_count": 13,
   "id": "d6b6f40f",
   "metadata": {},
   "outputs": [],
   "source": [
    "# permeability tensor\n",
    "perm = pp.SecondOrderTensor(np.ones(sd.num_cells))"
   ]
  },
  {
   "cell_type": "code",
   "execution_count": 14,
   "id": "a6fa7931",
   "metadata": {},
   "outputs": [
    {
     "data": {
      "text/plain": [
       "{'discretization_matrices': {'flow': {}},\n",
       " 'parameters': Data object for physical processes flow\n",
       " The keyword \"flow\" has the following parameters specified: second_order_tensor}"
      ]
     },
     "execution_count": 14,
     "metadata": {},
     "output_type": "execute_result"
    }
   ],
   "source": [
    "pp.initialize_data(darcy_grid, darcy_data, key, { \"second_order_tensor\": perm })\n",
    "pp.initialize_data(richard_grid, richards_data, key, { \"second_order_tensor\": perm })"
   ]
  },
  {
   "cell_type": "code",
   "execution_count": null,
   "id": "0f7432b4",
   "metadata": {},
   "outputs": [],
   "source": [
    "# with the following steps we identify the portions of the boundary\n",
    "# to impose the boundary conditions\n",
    "left_right = np.logical_or(sd.face_centers[0, :] == 0,  sd.face_centers[0, :] == 1)\n",
    "\n",
    "bottom = sd.face_centers[1, :] == 0\n",
    "top    = sd.face_centers[1, :] == 1\n",
    "\n",
    "ess_p_dofs = np.zeros(head_discretization_field.ndof(sd), dtype=bool)\n",
    "\n",
    "def h_bc(x): return 1\n",
    "def initial_h_func(x): return 1-x[1]\n",
    "\n",
    "bc_val.append(-velocity_discretization_field.assemble_nat_bc(sd, h_bc, bottom))\n",
    "\n",
    "bc_ess.append(np.hstack((left_right, ess_p_dofs, np.zeros(N+1, dtype=bool))))"
   ]
  },
  {
   "cell_type": "code",
   "execution_count": 14,
   "id": "aee36a8d",
   "metadata": {},
   "outputs": [],
   "source": [
    "def assemble_B_gamma():\n",
    "    data = []\n",
    "    row = []\n",
    "    col = []\n",
    "\n",
    "    faces_center_pos = sd.face_centers[0,:]\n",
    "    index_up_face = np.where(sd.face_centers[1, :] == 1)[0]\n",
    "\n",
    "    for i in range(N):\n",
    "        col.append(index_up_face[i])\n",
    "        row.append(i)\n",
    "        data.append( np.abs(faces_center_pos[i] - faces_center_pos[i+1]) / 2 )\n",
    "        \n",
    "        col.append(index_up_face[i])\n",
    "        row.append(i+1)\n",
    "        data.append( np.abs(faces_center_pos[i] - faces_center_pos[i+1]) / 2 )\n",
    "    \n",
    "    return sps.coo_matrix( (data, (row, col)) )"
   ]
  },
  {
   "cell_type": "code",
   "execution_count": 18,
   "id": "dc2f1d6f",
   "metadata": {},
   "outputs": [
    {
     "data": {
      "text/plain": [
       "matrix([[0.  , 0.  , 0.  , 0.  , 0.  , 0.  , 0.  , 0.  , 0.  , 0.  ,\n",
       "         0.  , 0.  , 0.  , 0.  , 0.  , 0.  , 0.  , 0.  , 0.  , 0.  ,\n",
       "         0.  , 0.  , 0.  , 0.  , 0.  , 0.  , 0.  , 0.  , 0.  , 0.  ,\n",
       "         0.  , 0.  , 0.  , 0.  , 0.  , 0.  , 0.  , 0.  , 0.  , 0.  ,\n",
       "         0.  , 0.  , 0.  , 0.  , 0.  , 0.  , 0.  , 0.  , 0.  , 0.  ,\n",
       "         0.  , 0.  , 0.  , 0.  , 0.  , 0.  , 0.  , 0.  , 0.  , 0.  ,\n",
       "         0.  , 0.  , 0.  , 0.  , 0.  , 0.  , 0.  , 0.  , 0.  , 0.  ,\n",
       "         0.  , 0.  , 0.  , 0.  , 0.  , 0.  , 0.  , 0.  , 0.  , 0.  ,\n",
       "         0.05, 0.  , 0.  , 0.  , 0.  ],\n",
       "        [0.  , 0.  , 0.  , 0.  , 0.  , 0.  , 0.  , 0.  , 0.  , 0.  ,\n",
       "         0.  , 0.  , 0.  , 0.  , 0.  , 0.  , 0.  , 0.  , 0.  , 0.  ,\n",
       "         0.  , 0.  , 0.  , 0.  , 0.  , 0.  , 0.  , 0.  , 0.  , 0.  ,\n",
       "         0.  , 0.  , 0.  , 0.  , 0.  , 0.  , 0.  , 0.  , 0.  , 0.  ,\n",
       "         0.  , 0.  , 0.  , 0.  , 0.  , 0.  , 0.  , 0.  , 0.  , 0.  ,\n",
       "         0.  , 0.  , 0.  , 0.  , 0.  , 0.  , 0.  , 0.  , 0.  , 0.  ,\n",
       "         0.  , 0.  , 0.  , 0.  , 0.  , 0.  , 0.  , 0.  , 0.  , 0.  ,\n",
       "         0.  , 0.  , 0.  , 0.  , 0.  , 0.  , 0.  , 0.  , 0.  , 0.  ,\n",
       "         0.05, 0.05, 0.  , 0.  , 0.  ],\n",
       "        [0.  , 0.  , 0.  , 0.  , 0.  , 0.  , 0.  , 0.  , 0.  , 0.  ,\n",
       "         0.  , 0.  , 0.  , 0.  , 0.  , 0.  , 0.  , 0.  , 0.  , 0.  ,\n",
       "         0.  , 0.  , 0.  , 0.  , 0.  , 0.  , 0.  , 0.  , 0.  , 0.  ,\n",
       "         0.  , 0.  , 0.  , 0.  , 0.  , 0.  , 0.  , 0.  , 0.  , 0.  ,\n",
       "         0.  , 0.  , 0.  , 0.  , 0.  , 0.  , 0.  , 0.  , 0.  , 0.  ,\n",
       "         0.  , 0.  , 0.  , 0.  , 0.  , 0.  , 0.  , 0.  , 0.  , 0.  ,\n",
       "         0.  , 0.  , 0.  , 0.  , 0.  , 0.  , 0.  , 0.  , 0.  , 0.  ,\n",
       "         0.  , 0.  , 0.  , 0.  , 0.  , 0.  , 0.  , 0.  , 0.  , 0.  ,\n",
       "         0.  , 0.05, 0.1 , 0.  , 0.  ],\n",
       "        [0.  , 0.  , 0.  , 0.  , 0.  , 0.  , 0.  , 0.  , 0.  , 0.  ,\n",
       "         0.  , 0.  , 0.  , 0.  , 0.  , 0.  , 0.  , 0.  , 0.  , 0.  ,\n",
       "         0.  , 0.  , 0.  , 0.  , 0.  , 0.  , 0.  , 0.  , 0.  , 0.  ,\n",
       "         0.  , 0.  , 0.  , 0.  , 0.  , 0.  , 0.  , 0.  , 0.  , 0.  ,\n",
       "         0.  , 0.  , 0.  , 0.  , 0.  , 0.  , 0.  , 0.  , 0.  , 0.  ,\n",
       "         0.  , 0.  , 0.  , 0.  , 0.  , 0.  , 0.  , 0.  , 0.  , 0.  ,\n",
       "         0.  , 0.  , 0.  , 0.  , 0.  , 0.  , 0.  , 0.  , 0.  , 0.  ,\n",
       "         0.  , 0.  , 0.  , 0.  , 0.  , 0.  , 0.  , 0.  , 0.  , 0.  ,\n",
       "         0.  , 0.  , 0.1 , 0.05, 0.  ],\n",
       "        [0.  , 0.  , 0.  , 0.  , 0.  , 0.  , 0.  , 0.  , 0.  , 0.  ,\n",
       "         0.  , 0.  , 0.  , 0.  , 0.  , 0.  , 0.  , 0.  , 0.  , 0.  ,\n",
       "         0.  , 0.  , 0.  , 0.  , 0.  , 0.  , 0.  , 0.  , 0.  , 0.  ,\n",
       "         0.  , 0.  , 0.  , 0.  , 0.  , 0.  , 0.  , 0.  , 0.  , 0.  ,\n",
       "         0.  , 0.  , 0.  , 0.  , 0.  , 0.  , 0.  , 0.  , 0.  , 0.  ,\n",
       "         0.  , 0.  , 0.  , 0.  , 0.  , 0.  , 0.  , 0.  , 0.  , 0.  ,\n",
       "         0.  , 0.  , 0.  , 0.  , 0.  , 0.  , 0.  , 0.  , 0.  , 0.  ,\n",
       "         0.  , 0.  , 0.  , 0.  , 0.  , 0.  , 0.  , 0.  , 0.  , 0.  ,\n",
       "         0.  , 0.  , 0.  , 0.05, 0.05],\n",
       "        [0.  , 0.  , 0.  , 0.  , 0.  , 0.  , 0.  , 0.  , 0.  , 0.  ,\n",
       "         0.  , 0.  , 0.  , 0.  , 0.  , 0.  , 0.  , 0.  , 0.  , 0.  ,\n",
       "         0.  , 0.  , 0.  , 0.  , 0.  , 0.  , 0.  , 0.  , 0.  , 0.  ,\n",
       "         0.  , 0.  , 0.  , 0.  , 0.  , 0.  , 0.  , 0.  , 0.  , 0.  ,\n",
       "         0.  , 0.  , 0.  , 0.  , 0.  , 0.  , 0.  , 0.  , 0.  , 0.  ,\n",
       "         0.  , 0.  , 0.  , 0.  , 0.  , 0.  , 0.  , 0.  , 0.  , 0.  ,\n",
       "         0.  , 0.  , 0.  , 0.  , 0.  , 0.  , 0.  , 0.  , 0.  , 0.  ,\n",
       "         0.  , 0.  , 0.  , 0.  , 0.  , 0.  , 0.  , 0.  , 0.  , 0.  ,\n",
       "         0.  , 0.  , 0.  , 0.  , 0.05]])"
      ]
     },
     "execution_count": 18,
     "metadata": {},
     "output_type": "execute_result"
    }
   ],
   "source": [
    "B_gamma = assemble_B_gamma()\n",
    "B_gamma.todense()"
   ]
  },
  {
   "cell_type": "markdown",
   "id": "225b6345",
   "metadata": {},
   "source": [
    "$$\n",
    "\\left(\n",
    "\\begin{array}{cc} \n",
    "M_u(\\bm{h^{n+1}_k}) & B^T & B_{\\Gamma}\\\\\n",
    "-\\Delta t B & S_s M_h & 0\\\\\n",
    "-\\Delta t B^T_{\\Gamma} & 0 & \\phi M_{\\Gamma}\n",
    "\\end{array}\n",
    "\\right)\n",
    "\\left(\n",
    "\\begin{array}{c} \n",
    "\\bm{u^{n+1}_{k+1}}\\\\ \n",
    "\\bm{h^{n+1}_{k+1}}\\\\\n",
    "\\bm{\\eta^{n+1}_{k+1}}\n",
    "\\end{array}\n",
    "\\right)\n",
    "=\\left(\n",
    "\\begin{array}{c} \n",
    "\\bm{BC}^{n+1}\\\\ \n",
    "\\Delta t \\bm{F}^{n+1} + S_s M_h \\bm{h}^n\\\\\n",
    "\\phi M_{\\Gamma} \\bm{\\eta}^n\n",
    "\\end{array}\n",
    "\\right)\n",
    "$$"
   ]
  },
  {
   "cell_type": "code",
   "execution_count": 18,
   "id": "74185040",
   "metadata": {},
   "outputs": [
    {
     "data": {
      "text/plain": [
       "((170, 170), (100, 170), (6, 85))"
      ]
     },
     "execution_count": 18,
     "metadata": {},
     "output_type": "execute_result"
    }
   ],
   "source": [
    "# construct the local matrices\n",
    "mass = pg.face_mass(mdg)\n",
    "div = - pg.cell_mass(mdg, head_discretization_field) @ pg.div(mdg)\n",
    "\n",
    "# get the degrees of freedom for each variable\n",
    "dof_p, dof_q = div.shape\n",
    "dof_eta = B_gamma.shape[0]\n",
    "\n",
    "mass.shape, div.shape, B_gamma.shape"
   ]
  },
  {
   "cell_type": "code",
   "execution_count": 19,
   "id": "8bf327d0",
   "metadata": {},
   "outputs": [
    {
     "ename": "ValueError",
     "evalue": "operands could not be broadcast together with shapes (170,) (85,) (170,) ",
     "output_type": "error",
     "traceback": [
      "\u001b[0;31m---------------------------------------------------------------------------\u001b[0m",
      "\u001b[0;31mValueError\u001b[0m                                Traceback (most recent call last)",
      "\u001b[1;32m/workspaces/richards/tests/coupling_test/simple_moving_darcy/darcy.ipynb Cell 31\u001b[0m line \u001b[0;36m3\n\u001b[1;32m      <a href='vscode-notebook-cell://dev-container%2B7b22686f737450617468223a225c5c5c5c77736c2e6c6f63616c686f73745c5c5562756e74755c5c686f6d655c5c6661636375735c5c7269636861726473222c22636f6e66696746696c65223a7b22246d6964223a312c2270617468223a222f686f6d652f6661636375732f72696368617264732f2e646576636f6e7461696e65722f646576636f6e7461696e65722e6a736f6e222c22736368656d65223a227673636f64652d66696c65486f7374227d7d/workspaces/richards/tests/coupling_test/simple_moving_darcy/darcy.ipynb#X42sdnNjb2RlLXJlbW90ZQ%3D%3D?line=0'>1</a>\u001b[0m \u001b[39m# assemble the right-hand side\u001b[39;00m\n\u001b[1;32m      <a href='vscode-notebook-cell://dev-container%2B7b22686f737450617468223a225c5c5c5c77736c2e6c6f63616c686f73745c5c5562756e74755c5c686f6d655c5c6661636375735c5c7269636861726473222c22636f6e66696746696c65223a7b22246d6964223a312c2270617468223a222f686f6d652f6661636375732f72696368617264732f2e646576636f6e7461696e65722f646576636f6e7461696e65722e6a736f6e222c22736368656d65223a227673636f64652d66696c65486f7374227d7d/workspaces/richards/tests/coupling_test/simple_moving_darcy/darcy.ipynb#X42sdnNjb2RlLXJlbW90ZQ%3D%3D?line=1'>2</a>\u001b[0m fixex_rhs \u001b[39m=\u001b[39m np\u001b[39m.\u001b[39mzeros(dof_p \u001b[39m+\u001b[39m dof_q \u001b[39m+\u001b[39m dof_eta)\n\u001b[0;32m----> <a href='vscode-notebook-cell://dev-container%2B7b22686f737450617468223a225c5c5c5c77736c2e6c6f63616c686f73745c5c5562756e74755c5c686f6d655c5c6661636375735c5c7269636861726473222c22636f6e66696746696c65223a7b22246d6964223a312c2270617468223a222f686f6d652f6661636375732f72696368617264732f2e646576636f6e7461696e65722f646576636f6e7461696e65722e6a736f6e222c22736368656d65223a227673636f64652d66696c65486f7374227d7d/workspaces/richards/tests/coupling_test/simple_moving_darcy/darcy.ipynb#X42sdnNjb2RlLXJlbW90ZQ%3D%3D?line=2'>3</a>\u001b[0m fixex_rhs[:dof_q] \u001b[39m+\u001b[39m\u001b[39m=\u001b[39m np\u001b[39m.\u001b[39mhstack(bc_val)\n",
      "\u001b[0;31mValueError\u001b[0m: operands could not be broadcast together with shapes (170,) (85,) (170,) "
     ]
    }
   ],
   "source": [
    "# assemble the right-hand side\n",
    "fixex_rhs = np.zeros(dof_p + dof_q + dof_eta)\n",
    "fixex_rhs[:dof_q] += np.hstack(bc_val)"
   ]
  },
  {
   "cell_type": "code",
   "execution_count": null,
   "id": "romance-findings",
   "metadata": {},
   "outputs": [],
   "source": [
    "# assemble the saddle point problem\n",
    "spp = sps.bmat([[    mass,                                                         div.T,          B_gamma.T], \n",
    "                [    -div, S_s / dt * head_discretization_field.assemble_mass_matrix(sd),               None],\n",
    "                [-B_gamma,                                                          None, phi / dt * M_gamma]], format=\"csc\")"
   ]
  },
  {
   "cell_type": "code",
   "execution_count": null,
   "id": "551da31d",
   "metadata": {},
   "outputs": [],
   "source": [
    "def save_step(sol, proj_q, proj_psi, saver, i):\n",
    "    ins = list()\n",
    "\n",
    "    ins.append((sd, \"cell_q\", ( proj_q @ sol[-1][:dof_q] ).reshape((3, -1), order=\"F\")))\n",
    "    ins.append((sd, \"cell_p\", proj_psi @ sol[-1][dof_q:(dof_q+dof_p)]))\n",
    "    print( sol[-1][-dof_eta:] )\n",
    "    \n",
    "    saver.write_vtu(ins, time_step=i)"
   ]
  },
  {
   "cell_type": "code",
   "execution_count": null,
   "id": "3cd1d372",
   "metadata": {},
   "outputs": [],
   "source": [
    "if os.path.exists(output_directory):\n",
    "    shutil.rmtree(output_directory)"
   ]
  },
  {
   "cell_type": "code",
   "execution_count": null,
   "id": "8cfd1a18",
   "metadata": {},
   "outputs": [
    {
     "name": "stdout",
     "output_type": "stream",
     "text": [
      "[1. 1. 1. 1. 1. 1.]\n"
     ]
    }
   ],
   "source": [
    "sol = [np.zeros(dof_p + dof_q + dof_eta)]\n",
    "sol[-1][dof_q:(dof_q+dof_p)] = head_discretization_field.interpolate(sd, initial_h_func)\n",
    "sol[-1][-dof_eta:] = np.ones_like(sol[-1][-dof_eta:])\n",
    "\n",
    "proj_q = velocity_discretization_field.eval_at_cell_centers(sd)\n",
    "proj_psi = head_discretization_field.eval_at_cell_centers(sd)\n",
    "\n",
    "saver = pp.Exporter(mdg, 'sol', folder_name=output_directory)\n",
    "save_step(sol, proj_q, proj_psi, saver, 0)"
   ]
  },
  {
   "cell_type": "code",
   "execution_count": null,
   "id": "6036f9c2",
   "metadata": {},
   "outputs": [
    {
     "name": "stdout",
     "output_type": "stream",
     "text": [
      "[0.763295   0.80359696 0.72148976 0.72150015 0.80369302 0.76345592]\n",
      "Time 0.1\n",
      "[0.54784718 0.6148363  0.48444954 0.48445889 0.61489478 0.54793609]\n",
      "Time 0.2\n",
      "[0.33999455 0.42135253 0.26971739 0.26972309 0.421381   0.34003442]\n",
      "Time 0.30000000000000004\n",
      "[0.13809515 0.22255788 0.07290736 0.07290945 0.22256172 0.13809656]\n",
      "Time 0.4\n",
      "[-0.05801891  0.01924008 -0.10842141 -0.10842266  0.01922197 -0.05805139]\n",
      "Time 0.5\n",
      "[-0.24827896 -0.18766347 -0.27613179 -0.27613614 -0.18770175 -0.24834246]\n",
      "Time 0.6000000000000001\n",
      "[-0.43260832 -0.39728308 -0.4317902  -0.43179744 -0.39734002 -0.43270046]\n",
      "Time 0.7000000000000001\n",
      "[-0.61096542 -0.60885144 -0.57675037 -0.57676032 -0.60892567 -0.61108403]\n",
      "Time 0.8\n",
      "[-0.78334746 -0.82170031 -0.71219138 -0.71220386 -0.82179053 -0.78349048]\n",
      "Time 0.9\n",
      "[-0.94978606 -1.03525009 -0.83914282 -0.83915765 -1.03535508 -0.94995153]\n",
      "Time 1.0\n",
      "[-1.11034167 -1.24899889 -0.95850475 -0.95852179 -1.24911749 -1.11052776]\n",
      "Time 1.1\n",
      "[-1.26509851 -1.46251271 -1.07106472 -1.07108382 -1.46264384 -1.26530346]\n",
      "Time 1.2000000000000002\n",
      "[-1.41416    -1.67541677 -1.17751239 -1.17753341 -1.67555938 -1.41438214]\n",
      "Time 1.3\n",
      "[-1.5576449  -1.8873879  -1.27845221 -1.27847502 -1.88754101 -1.55788269]\n",
      "Time 1.4000000000000001\n",
      "[-1.69568406 -2.09814794 -1.3744145  -1.37443897 -2.09831064 -1.69593603]\n",
      "Time 1.5\n",
      "[-1.82841756 -2.30745806 -1.46586497 -1.46589099 -2.30762947 -1.82868231]\n",
      "Time 1.6\n",
      "[-1.95599233 -2.51511367 -1.5532131  -1.55324056 -2.51529299 -1.95626857]\n",
      "Time 1.7000000000000002\n",
      "[-2.07856013 -2.72094014 -1.63681937 -1.63684816 -2.72112658 -2.07884664]\n",
      "Time 1.8\n",
      "[-2.19627587 -2.92478895 -1.71700153 -1.71703156 -2.9249818  -2.1965715 ]\n",
      "Time 1.9000000000000001\n",
      "[-2.30929612 -3.12653439 -1.79404011 -1.79407127 -3.12673297 -2.3095998 ]\n",
      "Time 2.0\n",
      "[-2.41777797 -3.32607072 -1.86818313 -1.86821533 -3.32627439 -2.4180887 ]\n",
      "Time 2.1\n",
      "[-2.521878   -3.5233096  -1.93965028 -1.93968343 -3.52351776 -2.52219485]\n",
      "Time 2.2\n",
      "[-2.62175144 -3.71817792 -2.00863648 -2.00867052 -3.71839001 -2.62207354]\n",
      "Time 2.3000000000000003\n",
      "[-2.71755155 -3.91061588 -2.07531506 -2.07534988 -3.91083139 -2.71787808]\n",
      "Time 2.4000000000000004\n",
      "[-2.80942899 -4.10057535 -2.1398404  -2.13987595 -4.10079378 -2.80975921]\n",
      "Time 2.5\n",
      "[-2.89753145 -4.28801836 -2.2023504  -2.20238659 -4.28823925 -2.89786465]\n",
      "Time 2.6\n",
      "[-2.98200325 -4.47291584 -2.26296844 -2.26300521 -4.47313877 -2.98233878]\n",
      "Time 2.7\n",
      "[-3.06298511 -4.65524655 -2.32180524 -2.32184254 -4.65547112 -3.06332237]\n",
      "Time 2.8000000000000003\n",
      "[-3.14061392 -4.83499605 -2.37896042 -2.37899817 -4.83522188 -3.14095234]\n",
      "Time 2.9000000000000004\n",
      "[-3.21502259 -5.01215585 -2.43452381 -2.43456195 -5.0123826  -3.21536167]\n",
      "Time 3.0\n",
      "[-3.28633998 -5.1867227  -2.48857668 -2.48861517 -5.18695006 -3.28667924]\n",
      "Time 3.1\n",
      "[-3.35469082 -5.35869791 -2.54119278 -2.54123155 -5.35892557 -3.35502981]\n",
      "Time 3.2\n",
      "[-3.42019569 -5.52808678 -2.59243918 -2.59247819 -5.52831447 -3.42053402]\n",
      "Time 3.3000000000000003\n",
      "[-3.48297103 -5.6948981  -2.64237712 -2.64241633 -5.69512556 -3.48330833]\n",
      "Time 3.4000000000000004\n",
      "[-3.54312917 -5.8591437  -2.69106266 -2.69110202 -5.85937069 -3.54346509]\n",
      "Time 3.5\n",
      "[-3.60077835 -6.02083805 -2.7385473  -2.73858676 -6.02106436 -3.60111259]\n",
      "Time 3.6\n",
      "[-3.65602284 -6.17999797 -2.78487846 -2.78491798 -6.18022339 -3.65635512]\n",
      "Time 3.7\n",
      "[-3.70896296 -6.33664226 -2.83009998 -2.83013952 -6.33686661 -3.70929301]\n",
      "Time 3.8000000000000003\n",
      "[-3.75969519 -6.49079149 -2.87425249 -2.87429203 -6.49101459 -3.76002277]\n",
      "Time 3.9000000000000004\n",
      "[-3.80831225 -6.64246773 -2.9173738  -2.91741329 -6.64268943 -3.80863716]\n",
      "Time 4.0\n",
      "[-3.85490323 -6.79169437 -2.95949914 -2.95953855 -6.79191452 -3.85522528]\n",
      "Time 4.1000000000000005\n",
      "[-3.89955365 -6.9384959  -3.00066146 -3.00070078 -6.93871438 -3.89987267]\n",
      "Time 4.2\n",
      "[-3.94234562 -7.08289782 -3.04089171 -3.04093089 -7.0831145  -3.94266144]\n",
      "Time 4.3\n",
      "[-3.9833579  -7.22492642 -3.08021896 -3.08025798 -7.22514119 -3.98367039]\n",
      "Time 4.4\n",
      "[-4.02266603 -7.36460868 -3.11867063 -3.11870946 -7.36482145 -4.02297507]\n",
      "Time 4.5\n",
      "[-4.06034245 -7.50197219 -3.15627265 -3.15631128 -7.50218287 -4.06064792]\n",
      "Time 4.6000000000000005\n",
      "[-4.09645657 -7.637045   -3.19304961 -3.19308801 -7.63725351 -4.09675839]\n",
      "Time 4.7\n",
      "[-4.13107495 -7.76985557 -3.22902482 -3.22906297 -7.77006184 -4.13137303]\n",
      "Time 4.800000000000001\n",
      "[-4.16426133 -7.90043268 -3.2642205  -3.26425839 -7.90063664 -4.1645556 ]\n",
      "Time 4.9\n",
      "[-4.19607678 -8.02880534 -3.29865784 -3.29869544 -8.02900694 -4.19636718]\n",
      "Time 5.0\n",
      "[-4.22657978 -8.15500275 -3.33235706 -3.33239436 -8.15520195 -4.22686627]\n",
      "Time 5.1000000000000005\n",
      "[-4.25582636 -8.27905426 -3.36533754 -3.36537453 -8.27925101 -4.25610889]\n",
      "Time 5.2\n",
      "[-4.28387014 -8.40098927 -3.39761784 -3.3976545  -8.40118353 -4.28414868]\n",
      "Time 5.300000000000001\n",
      "[-4.31076247 -8.52083722 -3.42921578 -3.42925211 -8.52102896 -4.31103699]\n",
      "Time 5.4\n",
      "[-4.33655248 -8.63862756 -3.46014851 -3.46018448 -8.63881676 -4.33682297]\n",
      "Time 5.5\n",
      "[-4.36128723 -8.75438969 -3.49043253 -3.49046814 -8.75457632 -4.36155367]\n",
      "Time 5.6000000000000005\n",
      "[-4.38501174 -8.86815292 -3.52008372 -3.52011896 -8.86833698 -4.38527413]\n",
      "Time 5.7\n",
      "[-4.40776909 -8.9799465  -3.54911743 -3.54915229 -8.98012796 -4.40802744]\n",
      "Time 5.800000000000001\n",
      "[-4.42960053 -9.08979951 -3.57754849 -3.57758296 -9.08997837 -4.42985483]\n",
      "Time 5.9\n",
      "[-4.4505455  -9.1977409  -3.6053912  -3.60542528 -9.19791715 -4.45079577]\n",
      "Time 6.0\n",
      "[-4.47064175 -9.30379945 -3.63265943 -3.63269311 -9.30397309 -4.47088801]\n",
      "Time 6.1000000000000005\n",
      "[-4.48992542 -9.40800374 -3.65936661 -3.65939988 -9.40817479 -4.49016768]\n",
      "Time 6.2\n",
      "[-4.50843106 -9.51038218 -3.68552573 -3.68555859 -9.51055062 -4.50866935]\n",
      "Time 6.300000000000001\n",
      "[-4.52619174 -9.6109629  -3.7111494  -3.71118185 -9.61112876 -4.52642608]\n",
      "Time 6.4\n",
      "[-4.54323908 -9.70977386 -3.73624985 -3.73628189 -9.70993713 -4.5434695 ]\n",
      "Time 6.5\n",
      "[-4.55960336 -9.80684274 -3.76083897 -3.76087059 -9.80700344 -4.5598299 ]\n",
      "Time 6.6000000000000005\n",
      "[-4.57531352 -9.90219697 -3.78492829 -3.78495949 -9.90235511 -4.5755362 ]\n",
      "Time 6.7\n",
      "[-4.59039726 -9.99586371 -3.80852902 -3.8085598  -9.99601931 -4.59061613]\n",
      "Time 6.800000000000001\n",
      "[ -4.60488109 -10.08786988  -3.83165206  -3.83168241 -10.08802296\n",
      "  -4.60509618]\n",
      "Time 6.9\n",
      "[ -4.61879034 -10.17824208  -3.85430801  -3.85433794 -10.17839265\n",
      "  -4.61900169]\n",
      "Time 7.0\n",
      "[ -4.63214927 -10.26700665  -3.87650718  -3.87653668 -10.26715474\n",
      "  -4.63235693]\n",
      "Time 7.1000000000000005\n",
      "[ -4.64498108 -10.35418963  -3.89825961  -3.89828869 -10.35433526\n",
      "  -4.64518508]\n",
      "Time 7.2\n",
      "[ -4.65730796 -10.43981677  -3.91957507  -3.91960373 -10.43995996\n",
      "  -4.65750835]\n",
      "Time 7.300000000000001\n",
      "[ -4.66915114 -10.52391352  -3.94046309  -3.94049133 -10.52405429\n",
      "  -4.66934797]\n",
      "Time 7.4\n",
      "[ -4.68053093 -10.60650502  -3.96093294  -3.96096076 -10.6066434\n",
      "  -4.68072425]\n",
      "Time 7.5\n",
      "[ -4.69146677 -10.68761611  -3.98099365  -3.98102105 -10.68775213\n",
      "  -4.69165662]\n",
      "Time 7.6000000000000005\n",
      "[ -4.70197726 -10.76727132  -4.00065403  -4.00068102 -10.76740501\n",
      "  -4.70216368]\n",
      "Time 7.7\n",
      "[ -4.71208016 -10.84549489  -4.01992268  -4.01994925 -10.84562626\n",
      "  -4.71226321]\n",
      "Time 7.800000000000001\n",
      "[ -4.72179251 -10.9223107   -4.03880795  -4.03883411 -10.9224398\n",
      "  -4.72197224]\n",
      "Time 7.9\n",
      "[ -4.73113058 -10.99774238  -4.05731803  -4.05734378 -10.99786922\n",
      "  -4.73130703]\n",
      "Time 8.0\n",
      "[ -4.74010996 -11.07181319  -4.07546087  -4.07548621 -11.07193781\n",
      "  -4.74028318]\n",
      "Time 8.1\n",
      "[ -4.74874554 -11.14454612  -4.09324425  -4.09326919 -11.14466855\n",
      "  -4.74891558]\n",
      "Time 8.200000000000001\n",
      "[ -4.7570516  -11.21596383  -4.11067576  -4.1107003  -11.21608409\n",
      "  -4.7572185 ]\n",
      "Time 8.3\n",
      "[ -4.76504177 -11.28608865  -4.12776281  -4.12778695 -11.28620678\n",
      "  -4.76520559]\n",
      "Time 8.4\n",
      "[ -4.77272911 -11.35494264  -4.14451261  -4.14453636 -11.35505866\n",
      "  -4.7728899 ]\n",
      "Time 8.5\n",
      "[ -4.78012613 -11.4225475   -4.16093223  -4.16095559 -11.42266145\n",
      "  -4.78028394]\n",
      "Time 8.6\n",
      "[ -4.78724478 -11.48892467  -4.17702855  -4.17705153 -11.48903656\n",
      "  -4.78739965]\n",
      "Time 8.700000000000001\n",
      "[ -4.7940965  -11.55409523  -4.19280832  -4.19283091 -11.55420511\n",
      "  -4.79424848]\n",
      "Time 8.8\n",
      "[ -4.80069224 -11.61808     -4.20827809  -4.2083003  -11.6181879\n",
      "  -4.80084139]\n",
      "Time 8.9\n",
      "[ -4.8070425  -11.68089946  -4.22344429  -4.22346613 -11.6810054\n",
      "  -4.80718885]\n",
      "Time 9.0\n",
      "[ -4.81315729 -11.74257381  -4.2383132   -4.23833467 -11.74267782\n",
      "  -4.8133009 ]\n",
      "Time 9.1\n",
      "[ -4.81904623 -11.80312292  -4.25289094  -4.25291205 -11.80322504\n",
      "  -4.81918714]\n",
      "Time 9.200000000000001\n",
      "[ -4.8247185  -11.8625664   -4.2671835   -4.26720425 -11.86266665\n",
      "  -4.82485676]\n",
      "Time 9.3\n",
      "[ -4.8301829  -11.92092352  -4.28119673  -4.28121713 -11.92102194\n",
      "  -4.83031856]\n",
      "Time 9.4\n",
      "[ -4.83544786 -11.97821329  -4.29493637  -4.29495641 -11.9783099\n",
      "  -4.83558095]\n",
      "Time 9.5\n",
      "[ -4.84052144 -12.03445441  -4.30840799  -4.30842768 -12.03454924\n",
      "  -4.84065201]\n",
      "Time 9.600000000000001\n",
      "[ -4.84541135 -12.08966528  -4.32161706  -4.32163642 -12.08975837\n",
      "  -4.84553945]\n",
      "Time 9.700000000000001\n",
      "[ -4.85012498 -12.14386405  -4.33456893  -4.33458795 -12.14395542\n",
      "  -4.85025066]\n",
      "Time 9.8\n",
      "[ -4.85466941 -12.19706855  -4.34726883  -4.34728752 -12.19715823\n",
      "  -4.85479271]\n",
      "Time 9.9\n",
      "[ -4.85905142 -12.24929633  -4.35972187  -4.35974023 -12.24938435\n",
      "  -4.85917238]\n",
      "Time 10.0\n"
     ]
    }
   ],
   "source": [
    "for i in range(1, int(T/dt)+1):\n",
    "    rhs = fixex_rhs.copy()\n",
    "    rhs[dof_q:(dof_q+dof_p)] += S_s / dt * head_discretization_field.assemble_mass_matrix(sd) @ sol[-1][dof_q:(dof_q+dof_p)]\n",
    "    rhs[-dof_eta:] += phi / dt * M_gamma @ sol[-1][-dof_eta:]\n",
    "    \n",
    "    ls = pg.LinearSystem(spp, rhs)\n",
    "    ls.flag_ess_bc(np.hstack(bc_ess), np.zeros(dof_q + dof_p + dof_eta))\n",
    "    sol.append( ls.solve() )\n",
    "\n",
    "    save_step(sol, proj_q, proj_psi, saver, i)\n",
    "\n",
    "    print('Time ' + str(dt * i) )\n",
    "\n",
    "saver.write_pvd([t * dt for t in range(int(T/dt)+1)])"
   ]
  }
 ],
 "metadata": {
  "kernelspec": {
   "display_name": "Python 3 (ipykernel)",
   "language": "python",
   "name": "python3"
  },
  "language_info": {
   "codemirror_mode": {
    "name": "ipython",
    "version": 3
   },
   "file_extension": ".py",
   "mimetype": "text/x-python",
   "name": "python",
   "nbconvert_exporter": "python",
   "pygments_lexer": "ipython3",
   "version": "3.10.9"
  },
  "vscode": {
   "interpreter": {
    "hash": "e4cc1db98167c7fd7d55a1da8057731abc6cd6fe154328a2ae319df8aab4e24d"
   }
  }
 },
 "nbformat": 4,
 "nbformat_minor": 5
}
