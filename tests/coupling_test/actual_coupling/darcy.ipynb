{
 "cells": [
  {
   "cell_type": "markdown",
   "id": "essential-american",
   "metadata": {},
   "source": [
    "# Darcy equation\n",
    "\n",
    "In this tutorial we present how to solve a Darcy equation with [PyGeoN](https://github.com/compgeo-mox/pygeon) in themoving domain case (the upper boundary will move).  The unkwons are the velocity $u$, the elevation head $h$ and the height of the upper boundary $\\eta$.\n",
    "\n",
    "Let $\\Omega=(0,1)\\times(0,\\eta)$ with boundary $\\partial \\Omega$ and outward unit normal ${\\nu}$. Given \n",
    "$K$ the matrix permeability, we want to solve the following problem: find $(\\bm{u}, h)$ such that\n",
    "$$\n",
    "\\left\\{\n",
    "\\begin{array}{ll}\n",
    "\\begin{array}{l} \n",
    "K^{-1} {\\bm{u}} + \\nabla h = {0}\\\\\n",
    "S_s \\frac{\\partial{h}}{\\partial t} + \\nabla \\cdot {u} = f\n",
    "\\end{array}\n",
    "&\\text{in } \\Omega\n",
    "\\end{array}\n",
    "\\right.\n",
    "$$"
   ]
  },
  {
   "cell_type": "markdown",
   "id": "dadbb451",
   "metadata": {},
   "source": [
    "In order to solve the problem, we will perfom a change of coordinates to a reference domain $\\hat{\\Omega}=(0,1)^2$ through the (linear) trasnformation $R : \\Omega \\rightarrow \\hat{\\Omega}$ (and its inverse function $D : \\hat{\\Omega} \\rightarrow \\Omega$).\n",
    "Recall that $\\hat{\\nabla}R=(\\nabla D)^{-1}$.\n",
    "\n",
    "Let $\\hat{h}$ and $\\hat{\\bm{u}}$ be $h$ and $\\bm{u}$ respectevely in the reference domain and let $\\hat{K}$ be the transformed permeability matrix, defined as $\\hat{K}=det(\\hat{\\nabla}D) (\\hat{\\nabla} D)^{-1} K (\\hat{\\nabla} D)^{-T}$.\n",
    "\n",
    "The equation describing the motion of $\\partial_{top}\\Omega$ is:\n",
    "$$\n",
    "\n",
    "\\phi \\frac{\\partial \\eta}{\\partial t} = \\hat{u_3} + I(t)\n",
    "\n",
    "$$"
   ]
  },
  {
   "cell_type": "markdown",
   "id": "a068fac3",
   "metadata": {},
   "source": [
    "The transformed equations in $\\hat{\\Omega}$ is:\n",
    "$$\n",
    "\\left\\{\n",
    "\\begin{array}{ll}\n",
    "\\begin{array}{l} \n",
    "\\hat{K}({\\eta})^{-1} {\\hat{u}} + \\hat{\\nabla} \\hat{h} = {0}\\\\\n",
    "\\hat{S}_s \\frac{\\partial{\\hat{h}}}{\\partial t} + \\hat{\\nabla} \\cdot {\\hat{\\bm{u}}} = f\n",
    "\\end{array}\n",
    "&\\text{in } \\hat{\\Omega}\n",
    "\\end{array}\n",
    "\\right.\n",
    "$$\n",
    "with boundary conditions:\n",
    "$$ \\hat{h} = \\eta \\text{ on } \\Gamma \\qquad \\hat{h} = \\ell \\text{ on } \\Gamma_D \\qquad \\hat{\\bm{\\nu}} \\cdot \\hat{\\bm{u}} = 0 \\text{ on } \\Gamma_N$$"
   ]
  },
  {
   "cell_type": "markdown",
   "id": "47b01879",
   "metadata": {},
   "source": [
    "The weak formulation will be:\n",
    "$$\n",
    "\\left\\{\n",
    "\\begin{array}{ll}\n",
    "\\begin{array}{l} \n",
    "\\int_{\\Omega}\\hat{K}(\\eta)^{-1} {\\bm{\\hat{u}}} \\cdot \\bm{v} \\, d\\Omega - \\int_{\\Omega} h \\hat{\\nabla} \\cdot {\\hat{\\bm{v}}} \\, d\\Omega = - \\int_{\\Gamma_D} h \\bm{v} \\cdot \\bm{\\nu} \\, d\\Omega - \\int_{\\Gamma} \\eta \\bm{v} \\cdot \\bm{\\nu} \\, d\\Omega\\\\\n",
    "\\int_{\\Omega} \\hat{S}_s \\frac{\\partial{\\hat{h}}}{\\partial t} v \\, d\\Omega + \\int_{\\Omega} \\hat{\\nabla} \\cdot {\\hat{\\bm{u}}} v \\, d\\Omega = \\int_{\\Omega} fv \\, d\\Omega\\\\\n",
    "\\int_{\\Gamma} \\phi \\frac{\\partial \\eta}{\\partial t} v \\, d\\sigma = \\int_{\\Gamma} \\hat{u_3} v \\, d\\sigma + \\int_{\\Gamma} I(t) v \\, d\\sigma\n",
    "\\end{array}\n",
    "\\end{array}\n",
    "\\right.\n",
    "$$"
   ]
  },
  {
   "cell_type": "markdown",
   "id": "dcdc7603",
   "metadata": {},
   "source": [
    "For the time discretization, we will employ a backward Euler scheme:\n",
    "\n",
    "$$\n",
    "\\left\\{\n",
    "\\begin{array}{ll}\n",
    "\\begin{array}{l} \n",
    "\\int_{\\Omega}\\hat{K}(\\eta^{n+1})^{-1} {\\bm{\\hat{u}}^{n+1}} \\cdot \\bm{v} \\, d\\Omega - \\int_{\\Omega} h^{n+1} \\hat{\\nabla} \\cdot {\\hat{\\bm{v}}} \\, d\\Omega = - \\int_{\\Gamma_D} h^{n+1} \\bm{v} \\cdot \\bm{\\nu} \\, d\\Omega - \\int_{\\Gamma} \\eta^{n+1} \\bm{v} \\cdot \\bm{\\nu} \\, d\\Omega\\\\\n",
    "\\int_{\\Omega} \\hat{S}_s^{n+1} \\frac{\\hat{h}^{n+1} - \\hat{h}^{n}}{\\Delta t} v \\, d\\Omega + \\int_{\\Omega} \\hat{\\nabla} \\cdot {\\hat{\\bm{u}}^{n+1}} v \\, d\\Omega = \\int_{\\Omega} f^{n+1}v \\, d\\Omega\\\\\n",
    "\\int_{\\Gamma} \\phi \\eta^{n+1} v \\, d\\sigma = \\Delta t \\int_{\\Gamma} \\hat{\\bm{u}}^{n+1} \\cdot \\bm{\\nu} v \\, d\\sigma + \\int_{\\Gamma} \\phi \\eta^{n} v \\, d\\sigma + \\Delta t \\int_{\\Gamma} I^{n+1} v \\, d\\sigma\n",
    "\\end{array}\n",
    "\\end{array}\n",
    "\\right.\n",
    "$$"
   ]
  },
  {
   "cell_type": "markdown",
   "id": "faf928a5",
   "metadata": {},
   "source": [
    "To deal with the non-linear term, we will employ a simple Picard scheme:\n",
    "\n",
    "$$\n",
    "\\left\\{\n",
    "\\begin{array}{ll}\n",
    "\\begin{array}{l} \n",
    "\\int_{\\Omega}\\hat{K}(\\eta^{n+1}_k)^{-1} {\\bm{\\hat{u}_{k+1}^{n+1}}} \\cdot \\bm{v} \\, d\\Omega - \\int_{\\Omega} h^{n+1}_{k+1} \\hat{\\nabla} \\cdot {\\hat{\\bm{v}}} \\, d\\Omega + \\int_{\\Gamma} \\eta^{n+1}_{k+1} \\bm{v} \\cdot \\bm{\\nu} \\, d\\Omega= - \\int_{\\Gamma_D} h^{n+1} \\bm{v} \\cdot \\bm{\\nu} \\, d\\Omega\\\\\n",
    "\\Delta t \\int_{\\Omega} \\hat{\\nabla} \\cdot {\\hat{\\bm{u}}^{n+1}_{k+1}} v \\, d\\Omega + \\int_{\\Omega} \\hat{S}_s \\hat{h}^{n+1}_{k+1} v \\, d\\Omega = \\int_{\\Omega} \\hat{S}_s \\hat{h}^{n} v \\, d\\Omega + \\Delta t \\int_{\\Omega} f^{n+1}v \\, d\\Omega\\\\\n",
    "- \\Delta t \\int_{\\Gamma} \\hat{\\bm{u}}^{n+1}_{k+1} \\cdot \\bm{\\nu} v \\, d\\sigma + \\int_{\\Gamma} \\phi \\eta^{n+1}_{k+1} v \\, d\\sigma = \\int_{\\Gamma} \\phi \\eta^{n} v \\, d\\sigma + \\Delta t \\int_{\\Gamma} I^{n+1} v \\, d\\sigma\n",
    "\\end{array}\n",
    "\\end{array}\n",
    "\\right.\n",
    "$$"
   ]
  },
  {
   "cell_type": "markdown",
   "id": "615fb33d",
   "metadata": {},
   "source": [
    "The matrix formulation will be:\n",
    "\n",
    "$$\n",
    "\\left\\{\n",
    "\\begin{array}{ll}\n",
    "\\begin{array}{l} \n",
    "M_u(\\bm{\\eta}^{n+1}_{k}) \\bm{u}^{n+1}_{k+1} + B^T\\bm{h}^{n+1}_{k+1} + B_{\\Gamma}^T \\bm{\\eta}^{n+1}_{k+1}= \\bm{BC}^{n+1}\\\\\n",
    "- \\Delta t B \\hat{\\bm{u}}^{n+1}_{k+1} + S_s M_{h} \\bm{\\hat{h}^{n+1}_{k+1}} = \\Delta t \\bm{F}^{n+1} + S_s M_{h} \\bm{\\hat{h}^{n}}\\\\\n",
    "- \\Delta t B_{\\Gamma} \\hat{\\bm{u}}^{n+1}_{k+1} + \\phi M_{\\Gamma} \\bm{\\eta^{n+1}_{k+1}} = \\phi M_{\\Gamma} \\bm{\\eta^{n}} + \\Delta t \\bm{I}^{n+1}\n",
    "\\end{array}\n",
    "\\end{array}\n",
    "\\right.\n",
    "$$"
   ]
  },
  {
   "cell_type": "markdown",
   "id": "49e31d3b",
   "metadata": {},
   "source": [
    "$$\n",
    "\\left(\n",
    "\\begin{array}{cc} \n",
    "M_u(\\bm{\\eta^{n+1}_k}) & B^T & B_{\\Gamma}^T\\\\\n",
    "-\\Delta t B & S_s M_h & 0\\\\\n",
    "-\\Delta t B_{\\Gamma} & 0 & \\phi M_{\\Gamma}\n",
    "\\end{array}\n",
    "\\right)\n",
    "\\left(\n",
    "\\begin{array}{c} \n",
    "\\bm{u^{n+1}_{k+1}}\\\\ \n",
    "\\bm{h^{n+1}_{k+1}}\\\\\n",
    "\\bm{\\eta^{n+1}_{k+1}}\n",
    "\\end{array}\n",
    "\\right)\n",
    "=\\left(\n",
    "\\begin{array}{c} \n",
    "\\bm{BC}^{n+1}\\\\ \n",
    "\\Delta t \\bm{F}^{n+1} + S_s M_h \\bm{h}^n\\\\\n",
    "\\phi M_{\\Gamma} \\bm{\\eta}^n + \\Delta t \\bm{I}^{n+1}\n",
    "\\end{array}\n",
    "\\right)\n",
    "$$"
   ]
  },
  {
   "cell_type": "markdown",
   "id": "60777fa8",
   "metadata": {},
   "source": [
    "We will start to test the method in the case $M_u(\\bm{h_k}^{n+1})=\\bm{I}$"
   ]
  },
  {
   "cell_type": "code",
   "execution_count": 1,
   "id": "fa691294",
   "metadata": {},
   "outputs": [],
   "source": [
    "%load_ext Cython"
   ]
  },
  {
   "cell_type": "code",
   "execution_count": 2,
   "id": "dietary-perth",
   "metadata": {},
   "outputs": [
    {
     "name": "stderr",
     "output_type": "stream",
     "text": [
      "/opt/conda/lib/python3.11/site-packages/porepy/numerics/nonlinear/nonlinear_solvers.py:13: TqdmExperimentalWarning: Using `tqdm.autonotebook.tqdm` in notebook mode. Use `tqdm.tqdm` instead to force console mode (e.g. in jupyter console)\n",
      "  from tqdm.autonotebook import trange  # type: ignore\n"
     ]
    }
   ],
   "source": [
    "import shutil\n",
    "import os\n",
    "\n",
    "import numpy as np\n",
    "import scipy.sparse as sps\n",
    "from scipy.sparse import linalg\n",
    "import scipy.integrate as integrate\n",
    "import sympy as sp\n",
    "\n",
    "import porepy as pp\n",
    "import pygeon as pg\n",
    "\n",
    "import time\n",
    "from math import ceil, floor, log10, exp\n",
    "\n",
    "import matplotlib.pyplot as plt"
   ]
  },
  {
   "cell_type": "code",
   "execution_count": 3,
   "id": "1e1342bf",
   "metadata": {},
   "outputs": [],
   "source": [
    "output_directory = 'output_std'"
   ]
  },
  {
   "cell_type": "markdown",
   "id": "roman-glossary",
   "metadata": {},
   "source": [
    "We create now the grid, since we will use a Raviart-Thomas approximation for ${q}$ we are restricted to simplices. In this example we consider a 2-dimensional structured grid, but the presented code will work also in 1d and 3d. PyGeoN works with mixed-dimensional grids, so we need to convert the grid."
   ]
  },
  {
   "cell_type": "code",
   "execution_count": 4,
   "id": "0816cee5",
   "metadata": {},
   "outputs": [],
   "source": [
    "# Set the maximum number of iterations of the non-linear solver\n",
    "K = 50\n",
    "\n",
    "# L-scheme parameter\n",
    "L = 3.501e-2\n",
    "\n",
    "# Porosity\n",
    "phi = 0.1\n",
    "\n",
    "# Real domain height\n",
    "A = 3\n",
    "\n",
    "# Initial water table height\n",
    "def init_eta(x): return 1\n",
    "\n",
    "# Set the mesh refinment\n",
    "N = 20\n",
    "\n",
    "# Order for the quadrature formulae\n",
    "quad_order = 5\n",
    "\n",
    "# Set the number of steps (excluding the initial condition)\n",
    "num_steps = 9\n",
    "\n",
    "# Simulation time length\n",
    "T = 9/48\n",
    "\n",
    "# Time switch conditions (for the boundary condition)\n",
    "dt_D = 1/16\n",
    "\n",
    "# Fluid density\n",
    "rho = 1000\n",
    "\n",
    "# Relative and absolute tolerances for the non-linear solver\n",
    "abs_tol = 1e-6\n",
    "rel_tol = 1e-6\n",
    "\n",
    "# Domain tolerance\n",
    "domain_tolerance = 1 / (10 * N)\n",
    "\n",
    "# Output directory\n",
    "output_directory = 'output_evolutionary'"
   ]
  },
  {
   "cell_type": "code",
   "execution_count": 5,
   "id": "34d3f48b",
   "metadata": {},
   "outputs": [],
   "source": [
    "# Time step\n",
    "dt   = (T-0)/num_steps"
   ]
  },
  {
   "cell_type": "code",
   "execution_count": 6,
   "id": "c3de940c",
   "metadata": {},
   "outputs": [],
   "source": [
    "# Van Genuchten model parameters ( relative permeability model )\n",
    "theta_s = 0.396\n",
    "theta_r = 0.131\n",
    "\n",
    "alpha = 0.423\n",
    "\n",
    "n = 2.06\n",
    "K_s = 4.96e-2\n",
    "\n",
    "m = 1 - 1/n"
   ]
  },
  {
   "cell_type": "markdown",
   "id": "4d5c76f6",
   "metadata": {},
   "source": [
    "### $\\theta$ and $K$"
   ]
  },
  {
   "cell_type": "markdown",
   "id": "28247c86",
   "metadata": {},
   "source": [
    "In order to evaluate analytically both $\\theta$ and $K$, we will make use of the python package $\\textit{sympy}$, that allow us to write down a mathematical expression in symbolic form (and that can also be used to compute their derivatives)."
   ]
  },
  {
   "cell_type": "code",
   "execution_count": 7,
   "id": "bc5f1756",
   "metadata": {},
   "outputs": [],
   "source": [
    "# Symbolic psi\n",
    "psi_var = sp.Symbol('psi', negative=True)\n",
    "\n",
    "# Symbolic Theta\n",
    "theta_expression = theta_r + (theta_s - theta_r) / (1 + (-alpha * psi_var) ** n) ** m\n",
    "effective_saturation = (theta_expression - theta_r) / (theta_s - theta_r)\n",
    "\n",
    "# Symbolic Conductivity K\n",
    "hydraulic_conductivity_expression = K_s * (effective_saturation ** 0.5) * ( 1 - (1 - effective_saturation ** (1 / m)) ** m ) ** 2"
   ]
  },
  {
   "cell_type": "code",
   "execution_count": 8,
   "id": "a74adae2",
   "metadata": {},
   "outputs": [],
   "source": [
    "# Theta lambda\n",
    "theta_lambda = sp.lambdify(psi_var, theta_expression, 'numpy')\n",
    "\n",
    "# Conductivity tensor lambda\n",
    "conductivity_lambda = sp.lambdify(psi_var, hydraulic_conductivity_expression, 'numpy')"
   ]
  },
  {
   "cell_type": "code",
   "execution_count": 9,
   "id": "def9c4e7",
   "metadata": {},
   "outputs": [],
   "source": [
    "# Actual (and final) theta function\n",
    "def theta(psi):\n",
    "    mask = np.where(psi < 0)\n",
    "    res = np.ones_like(psi) * theta_s\n",
    "    res[mask] = theta_lambda(psi[mask])\n",
    "\n",
    "    return res"
   ]
  },
  {
   "cell_type": "code",
   "execution_count": 10,
   "id": "0c251acf",
   "metadata": {},
   "outputs": [],
   "source": [
    "def D_K11(x, y):\n",
    "    return K_s\n",
    "\n",
    "def D_K12(x, y):\n",
    "    return 0\n",
    "\n",
    "def D_K21(x, y):\n",
    "    return 0\n",
    "\n",
    "def D_K22(x, y):\n",
    "    return K_s"
   ]
  },
  {
   "cell_type": "code",
   "execution_count": 11,
   "id": "85d2dcc3",
   "metadata": {},
   "outputs": [],
   "source": [
    "def R_K11(x, y, psi):\n",
    "    return conductivity_lambda(psi) if psi < 0 else K_s\n",
    "\n",
    "def R_K12(x, y, psi):\n",
    "    return 0\n",
    "\n",
    "def R_K21(x, y, psi):\n",
    "    return 0\n",
    "\n",
    "def R_K22(x, y, psi):\n",
    "    return conductivity_lambda(psi) if psi < 0 else K_s"
   ]
  },
  {
   "cell_type": "markdown",
   "id": "49d33b8f",
   "metadata": {},
   "source": [
    "### Domain preparation and boundary conditions"
   ]
  },
  {
   "cell_type": "code",
   "execution_count": 12,
   "id": "spectacular-saturn",
   "metadata": {},
   "outputs": [],
   "source": [
    "# Prepare the domain and its mesh\n",
    "subdomain = pp.StructuredTriangleGrid([2*N, 2*N], [2, 2])\n",
    "\n",
    "# Convert it to a mixed-dimensional grid\n",
    "mdg = pp.meshing.subdomains_to_mdg([subdomain])\n",
    "mdg.compute_geometry()"
   ]
  },
  {
   "cell_type": "code",
   "execution_count": 13,
   "metadata": {},
   "outputs": [],
   "source": [
    "darcy_grid, darcy_face_map, darcy_boundary_node_map          = pp.partition.extract_subgrid(subdomain, subdomain.cell_centers[1, :] < 1, faces=False)\n",
    "richards_grid, richards_face_map, richards_boundary_node_map = pp.partition.extract_subgrid(subdomain, subdomain.cell_centers[1, :] > 1, faces=False)"
   ]
  },
  {
   "cell_type": "code",
   "execution_count": 14,
   "id": "ffa231fe",
   "metadata": {},
   "outputs": [],
   "source": [
    "boundary_grid, boundary_face_map, boundary_node_map  = pp.partition.extract_subgrid(subdomain, \n",
    "                                                                                    subdomain.face_centers[1, :] == np.max(subdomain.face_centers[1, darcy_face_map]), \n",
    "                                                                                    faces=True)"
   ]
  },
  {
   "cell_type": "code",
   "execution_count": 15,
   "id": "79280626",
   "metadata": {},
   "outputs": [],
   "source": [
    "key = \"flow\"\n",
    "\n",
    "# Collection of boundary conditions for the Darcy problem\n",
    "bc_value = []\n",
    "bc_essential = []\n",
    "\n",
    "# Initial pressure\n",
    "initial_pressure = []"
   ]
  },
  {
   "cell_type": "code",
   "execution_count": 16,
   "id": "ffd8b2c6",
   "metadata": {},
   "outputs": [],
   "source": [
    "q_field     = pg.RT0(key)\n",
    "gamma_field = pg.Lagrange1(key)\n",
    "h_field     = pg.PwConstants(key)"
   ]
  },
  {
   "cell_type": "code",
   "execution_count": 17,
   "id": "1e5c3610",
   "metadata": {},
   "outputs": [],
   "source": [
    "subdomain, data = mdg.subdomains(return_data=True)[0]"
   ]
  },
  {
   "cell_type": "code",
   "execution_count": 18,
   "id": "f9103404",
   "metadata": {},
   "outputs": [],
   "source": [
    "darcy_q    = q_field.ndof( darcy_grid )\n",
    "darcy_h    = h_field.ndof( darcy_grid )\n",
    "\n",
    "richards_q = q_field.ndof( richards_grid )\n",
    "richards_h = h_field.ndof( richards_grid )\n",
    "\n",
    "dof_eta = gamma_field.ndof( boundary_grid )"
   ]
  },
  {
   "cell_type": "code",
   "execution_count": 19,
   "id": "c612e221",
   "metadata": {},
   "outputs": [],
   "source": [
    "darcy_restrictor = np.zeros(shape=(darcy_q - (dof_eta-1), darcy_q))\n",
    "darcy_restrictor[np.array( list(range(darcy_q - (dof_eta-1))) ), darcy_grid.face_centers[1, :] < 1-domain_tolerance] = 1"
   ]
  },
  {
   "cell_type": "code",
   "execution_count": 20,
   "id": "4bbe753a",
   "metadata": {},
   "outputs": [],
   "source": [
    "def initial_h_func(x): return 1"
   ]
  },
  {
   "cell_type": "code",
   "execution_count": 21,
   "id": "a6fa7931",
   "metadata": {},
   "outputs": [
    {
     "data": {
      "text/plain": [
       "{'discretization_matrices': {'flow': {}},\n",
       " 'parameters': Data object for physical processes flow\n",
       " The keyword \"flow\" has the following parameters specified: second_order_tensor}"
      ]
     },
     "execution_count": 21,
     "metadata": {},
     "output_type": "execute_result"
    }
   ],
   "source": [
    "pp.initialize_data(subdomain, data, key, {\n",
    "    \"second_order_tensor\": pp.SecondOrderTensor(np.ones(subdomain.num_cells)),\n",
    "})"
   ]
  },
  {
   "cell_type": "code",
   "execution_count": 22,
   "id": "117f0f8b",
   "metadata": {},
   "outputs": [],
   "source": [
    "darcy_bc_dirichlet = darcy_grid.face_centers[0, :] > 2-domain_tolerance\n",
    "darcy_bc_val       = - q_field.assemble_nat_bc(darcy_grid, lambda x: 1, darcy_bc_dirichlet)\n",
    "\n",
    "darcy_bc_neumann   = np.hstack(( np.array(darcy_restrictor @ np.logical_or( darcy_grid.face_centers[0, :] < 0+domain_tolerance, darcy_grid.face_centers[1, :] < 0+domain_tolerance ), dtype=bool), np.zeros(shape=(darcy_h), dtype=bool) ), dtype=bool)\n",
    "darcy_ess_neumann  = np.hstack(( np.array(darcy_restrictor @ np.zeros(shape=(darcy_q)), dtype=bool), np.zeros(shape=(darcy_h), dtype=bool)))"
   ]
  },
  {
   "cell_type": "code",
   "execution_count": 23,
   "id": "4dbb9489",
   "metadata": {},
   "outputs": [],
   "source": [
    "richards_bc_dirichlet = np.logical_and(richards_grid.face_centers[0, :] < 1+domain_tolerance, richards_grid.face_centers[1, :] > 2-domain_tolerance)\n",
    "richards_bc_val       = lambda t: - q_field.assemble_nat_bc(darcy_grid, lambda x: min( 0.2, -2 + 2.2 * t / dt_D ) + 3, richards_bc_dirichlet)\n",
    "\n",
    "richards_bc_neumann   = np.hstack(( \n",
    "        np.logical_or( richards_grid.face_centers[0, :] < 0+domain_tolerance, \n",
    "        np.logical_or( richards_grid.face_centers[0, :] > 2-domain_tolerance, \n",
    "                       np.logical_and(richards_grid.face_centers[1, :] > 2-domain_tolerance, \n",
    "                                      richards_grid.face_centers[0, :] > 1-domain_tolerance)) ), \n",
    "    np.zeros(shape=(richards_h), dtype=bool) ), dtype=bool)\n",
    "richards_ess_neumann  = np.zeros(shape=(richards_q + richards_h))"
   ]
  },
  {
   "cell_type": "code",
   "execution_count": 24,
   "id": "92dd086f",
   "metadata": {},
   "outputs": [],
   "source": [
    "bc_ess_flag = np.hstack( (darcy_bc_neumann,  richards_bc_neumann,  np.zeros(shape=(dof_eta,), dtype=bool)), dtype=bool )\n",
    "bc_ess_val  = np.hstack( (darcy_ess_neumann, richards_ess_neumann, np.zeros(shape=(dof_eta,))) ) "
   ]
  },
  {
   "cell_type": "markdown",
   "id": "8360df83",
   "metadata": {},
   "source": [
    "### Matrix assembly"
   ]
  },
  {
   "cell_type": "markdown",
   "id": "7a30f6e9",
   "metadata": {},
   "source": [
    "The $RT_0$ elements are constructed in such a wat that, on the non-diagonal faces, $\\bm{v} \\cdot \\nu = 0$. Then, since $\\Gamma$ is made by one of the two catheti of each boundary facing element, the only non-zero terms will be associated to the basis functions associated to the ``boundary'' cathetus. Then:"
   ]
  },
  {
   "cell_type": "code",
   "execution_count": 25,
   "id": "aee36a8d",
   "metadata": {},
   "outputs": [],
   "source": [
    "def assemble_B_gamma(domain):\n",
    "    data = []\n",
    "    row = []\n",
    "    col = []\n",
    "\n",
    "    face, _, sign = sps.find(domain.cell_faces)\n",
    "\n",
    "    # Look for the boundary faces ids\n",
    "    index_up_face = np.where(np.logical_and(1-domain_tolerance < domain.face_centers[1, :], domain.face_centers[1, :] < 1+domain_tolerance))[0]\n",
    "\n",
    "    # Loop thorough the boundary faces\n",
    "    for i in range( boundary_grid.num_cells ):\n",
    "        s = sign[ np.where(face == index_up_face[i]) ][0]\n",
    "\n",
    "        # s-element\n",
    "        col.append(index_up_face[i])\n",
    "        row.append(i)\n",
    "        data.append( s / 2 )\n",
    "\n",
    "        # (1-s)-element\n",
    "        col.append(index_up_face[i])\n",
    "        row.append(i+1)\n",
    "        data.append( s / 2 )\n",
    "\n",
    "    return sps.coo_matrix( (data, (row, col)), shape=(boundary_grid.num_nodes, domain.num_faces) )"
   ]
  },
  {
   "cell_type": "code",
   "execution_count": 26,
   "id": "84c3ecbb",
   "metadata": {},
   "outputs": [],
   "source": [
    "eta_diff = gamma_field.assemble_diff_matrix(boundary_grid)\n",
    "eta_diff[0,0] = -1"
   ]
  },
  {
   "cell_type": "code",
   "execution_count": 27,
   "id": "dc2f1d6f",
   "metadata": {},
   "outputs": [],
   "source": [
    "darcy_B_gamma    = assemble_B_gamma(darcy_grid)\n",
    "richards_B_gamma = assemble_B_gamma(richards_grid)\n",
    "\n",
    "M_gamma = gamma_field.assemble_mass_matrix( boundary_grid )"
   ]
  },
  {
   "cell_type": "code",
   "execution_count": 28,
   "id": "6d6157d9",
   "metadata": {},
   "outputs": [],
   "source": [
    "darcy_M_h    = h_field.assemble_mass_matrix( darcy_grid )\n",
    "richards_M_h = h_field.assemble_mass_matrix( richards_grid )"
   ]
  },
  {
   "cell_type": "code",
   "execution_count": 29,
   "id": "74185040",
   "metadata": {},
   "outputs": [],
   "source": [
    "# B matrix\n",
    "darcy_B    = - h_field.assemble_mass_matrix(darcy_grid)    @ pg.div(darcy_grid)\n",
    "richards_B = - h_field.assemble_mass_matrix(richards_grid) @ pg.div(richards_grid)"
   ]
  },
  {
   "cell_type": "code",
   "execution_count": 30,
   "id": "3283a37e",
   "metadata": {},
   "outputs": [],
   "source": [
    "def vertical_projection_matrix(domain):\n",
    "    data = []\n",
    "    row = []\n",
    "    col = []\n",
    "\n",
    "    for c in range(domain.num_cells):\n",
    "        x_center = domain.cell_centers[:, c]\n",
    "        id = np.max(np.where( boundary_grid.nodes[0, :] < x_center[0] ))\n",
    "\n",
    "        data.append(1)\n",
    "        row.append(c)\n",
    "        col.append(id)\n",
    "\n",
    "    return sps.coo_matrix( (data, (row, col)), shape=(domain.num_cells, boundary_grid.num_cells) )"
   ]
  },
  {
   "cell_type": "markdown",
   "id": "6abc31d8",
   "metadata": {},
   "source": [
    "### Solving stage"
   ]
  },
  {
   "cell_type": "code",
   "execution_count": 31,
   "id": "232fff3f",
   "metadata": {},
   "outputs": [],
   "source": [
    "richards_restrictor = np.zeros(shape=(richards_q, richards_q))\n",
    "rest = richards_grid.face_centers[1, :] > 1+domain_tolerance\n",
    "richards_restrictor[rest, rest] = 1"
   ]
  },
  {
   "cell_type": "code",
   "execution_count": 32,
   "id": "1da61526",
   "metadata": {},
   "outputs": [],
   "source": [
    "false_mask = np.zeros(shape=(darcy_h + darcy_q-(dof_eta-1) + dof_eta + richards_h + richards_q), dtype=bool)\n",
    "\n",
    "darcy_q_mask = false_mask.copy()\n",
    "darcy_q_mask[:(darcy_q-(dof_eta-1))] = True\n",
    "darcy_q_mask[(darcy_q-(dof_eta-1) + darcy_h) + np.where(richards_grid.face_centers[1, :] < 1+domain_tolerance)[0]] = True\n",
    "darcy_q_mask = np.where(darcy_q_mask)\n",
    "\n",
    "darcy_h_mask = false_mask.copy()\n",
    "darcy_h_mask[(darcy_q-(dof_eta-1)):(darcy_q-(dof_eta-1) + darcy_h)] = True\n",
    "darcy_h_mask = np.where(darcy_h_mask)\n",
    "\n",
    "richards_q_mask = false_mask.copy()\n",
    "richards_q_mask[(darcy_q-(dof_eta-1) + darcy_h):(darcy_q-(dof_eta-1) + darcy_h + richards_q)] = True\n",
    "richards_q_mask = np.where(richards_q_mask)\n",
    "\n",
    "richards_h_mask = false_mask.copy()\n",
    "richards_h_mask[(darcy_q-(dof_eta-1) + darcy_h + richards_q):(darcy_q-(dof_eta-1) + darcy_h + richards_q + richards_h)] = True\n",
    "richards_h_mask = np.where(richards_h_mask)\n",
    "\n",
    "gamma_mask = false_mask.copy()\n",
    "gamma_mask[-dof_eta:] = True\n",
    "gamma_mask = np.where(gamma_mask)"
   ]
  },
  {
   "cell_type": "code",
   "execution_count": 33,
   "id": "551da31d",
   "metadata": {},
   "outputs": [],
   "source": [
    "cell_proj_eta = [vertical_projection_matrix(darcy_grid), vertical_projection_matrix(richards_grid)]\n",
    "\n",
    "# Helper function to save the given solution to a VTU file\n",
    "def save_step(sol, proj_q, proj_h, proj_eta, saver, i):\n",
    "    for sav, actual_proj_q, actual_proj_h, actual_cell_proj_eta, dom, q_mask, h_mask in zip(saver, proj_q, proj_h, cell_proj_eta, [darcy_grid, richards_grid], [darcy_q_mask, richards_q_mask], [darcy_h_mask, richards_h_mask]):\n",
    "        ins = list()\n",
    "\n",
    "        ins.append((dom, \"cell_q\", ( actual_proj_q @ sol[q_mask] ).reshape((3, -1), order=\"F\")))\n",
    "        ins.append((dom, \"cell_h\",   actual_proj_h @ sol[h_mask]))\n",
    "        ins.append((dom, \"cell_p\",   actual_proj_h @ sol[h_mask] - dom.cell_centers[1,:]))\n",
    "        \n",
    "        ins.append((dom, \"cell_eta\", actual_cell_proj_eta @ proj_eta @ sol[gamma_mask]))\n",
    "\n",
    "        sav.write_vtu(ins, time_step=i)  "
   ]
  },
  {
   "cell_type": "code",
   "execution_count": 34,
   "id": "3cd1d372",
   "metadata": {},
   "outputs": [],
   "source": [
    "if os.path.exists(output_directory):\n",
    "    shutil.rmtree(output_directory)"
   ]
  },
  {
   "cell_type": "code",
   "execution_count": 35,
   "id": "d88812b0",
   "metadata": {},
   "outputs": [],
   "source": [
    "# Initial conditions\n",
    "sol = [np.zeros(shape=(darcy_h + darcy_q + dof_eta + richards_h + richards_q,))]\n",
    "\n",
    "sol[-1][darcy_h_mask]    = h_field.interpolate(   darcy_grid, initial_h_func)\n",
    "sol[-1][richards_h_mask] = h_field.interpolate(richards_grid, initial_h_func)\n",
    "\n",
    "sol[-1][gamma_mask] = gamma_field.interpolate(boundary_grid, init_eta)"
   ]
  },
  {
   "cell_type": "code",
   "execution_count": 36,
   "id": "8cfd1a18",
   "metadata": {},
   "outputs": [],
   "source": [
    "# Prepare helper matrices\n",
    "proj_q   = [q_field.eval_at_cell_centers(darcy_grid), q_field.eval_at_cell_centers(richards_grid)]\n",
    "proj_h   = [h_field.eval_at_cell_centers(darcy_grid), h_field.eval_at_cell_centers(richards_grid)]\n",
    "proj_eta = gamma_field.eval_at_cell_centers(boundary_grid)"
   ]
  },
  {
   "cell_type": "code",
   "execution_count": 37,
   "id": "d7b9af8f",
   "metadata": {},
   "outputs": [],
   "source": [
    "# Save the initial solution\n",
    "saver = [pp.Exporter(darcy_grid, 'sol_D', folder_name=output_directory), pp.Exporter(richards_grid, 'sol_R', folder_name=output_directory)]\n",
    "save_step(sol[-1], proj_q, proj_h, proj_eta, saver, 0)"
   ]
  },
  {
   "cell_type": "code",
   "execution_count": 38,
   "id": "e05b3ae9",
   "metadata": {},
   "outputs": [],
   "source": [
    "data[pp.PARAMETERS][key].update({\"second_order_tensor\": pp.SecondOrderTensor(np.ones(subdomain.num_cells))})"
   ]
  },
  {
   "cell_type": "code",
   "execution_count": 39,
   "id": "9d6460c2",
   "metadata": {},
   "outputs": [],
   "source": [
    "# Fixed rhs\n",
    "fixed_rhs = np.zeros(shape=(darcy_h + darcy_q + richards_h + richards_q + dof_eta - (dof_eta-1),))"
   ]
  },
  {
   "cell_type": "code",
   "execution_count": 40,
   "id": "2bac2e8c",
   "metadata": {},
   "outputs": [],
   "source": [
    "%%cython\n",
    "import numpy as np\n",
    "\n",
    "def q1(x: float, y: float):\n",
    "    return np.array([-x, -y])\n",
    "\n",
    "def q2(x: float, y: float):\n",
    "    return np.array([x-1, y])\n",
    "\n",
    "def q3(x: float, y: float):\n",
    "    return np.array([-x, 1-y])\n",
    "\n",
    "def find_ordering(coord: np.array, N):\n",
    "    lx = np.argmin(coord[0, :])\n",
    "    rx = np.argmax(coord[0, :])\n",
    "    mx = np.setdiff1d(np.array([0,1,2]), np.array([lx, rx]))[0]\n",
    "\n",
    "    # Vertical Alignment\n",
    "    if np.abs( coord[0, lx] - coord[0, mx] ) < 1 / (2 * N):\n",
    "        # lx and mx vertical aligned, rx no\n",
    "        up =   lx if np.argmax(coord[1, np.array([lx, mx])]) == 0 else mx\n",
    "        down = lx if np.argmin(coord[1, np.array([lx, mx])]) == 0 else mx\n",
    "\n",
    "        if np.abs( coord[1, up] - coord[1, rx] ) < 1 / (2 * N):\n",
    "            return [up, down, rx]\n",
    "        else:\n",
    "            return [down, rx, up]\n",
    "    else:\n",
    "        # rx and mx vertical aligned, lx no\n",
    "        up =   rx if np.argmax(coord[1, np.array([rx, mx])]) == 0 else mx\n",
    "        down = rx if np.argmin(coord[1, np.array([rx, mx])]) == 0 else mx\n",
    "\n",
    "        if np.abs( coord[1, up] - coord[1, lx] ) < 1 / (2 * N):\n",
    "            return [up, lx, down]\n",
    "        else:\n",
    "            return [down, up, lx]\n",
    "\n",
    "\n",
    "\n",
    "def Darcy_K_func(base_height: float, element_height: float, m: int, ls_eta: float, rs_eta: float, grad_eta: float, K11, K12, K21, K22):\n",
    "    eta = lambda x,y: (1-((m+1) * (1-y) / 2 - (m-1) * y / 2)) * ls_eta + ((m+1) * (1-y) / 2 - (m-1) * y / 2) * rs_eta\n",
    "    x_3 = lambda x,y: base_height + (1-((m+1) * (1-x) / 2 - (m-1) * x / 2)) * element_height\n",
    "     \n",
    "    k11 = lambda x,y: ( K22(x,y) + x_3(x,y) * grad_eta * ( x_3(x,y) * grad_eta * K11(x,y) - K12(x,y) - K21(x,y) ) ) / eta(x,y)\n",
    "    k12 = lambda x,y: x_3(x,y) * grad_eta * K11(x,y) - K12(x,y)\n",
    "    k21 = lambda x,y: x_3(x,y) * grad_eta * K11(x,y) - K21(x,y)\n",
    "    k22 = lambda x,y: eta(x,y) * K11(x,y)\n",
    "\n",
    "    return lambda x,y: np.array([[k11(x,y), k12(x,y)],\n",
    "                                 [k21(x,y), k22(x,y)]]) / ( K11(x,y) * K22(x,y) - K12(x,y) * K21(x,y) )\n",
    "\n",
    "                                 \n",
    "\n",
    "def Richards_K_func(base_height: float, element_height: float, m: int, ls_eta: float, rs_eta: float, grad_eta: float, psi: float, K11, K12, K21, K22, A):\n",
    "    eta = lambda x,y: (1-((m+1) * (1-y) / 2 - (m-1) * y / 2)) * ls_eta + ((m+1) * (1-y) / 2 - (m-1) * y / 2) * rs_eta\n",
    "    x_3 = lambda x,y: base_height + (1-((m+1) * (1-x) / 2 - (m-1) * x / 2)) * element_height\n",
    "     \n",
    "    k11 = lambda x,y: ( K22(x,y,psi) + (2-x_3(x,y)) * grad_eta * ( (2-x_3(x,y)) * grad_eta * K11(x,y,psi) - K12(x,y,psi) - K21(x,y,psi) ) ) / (A - eta(x,y))\n",
    "    k12 = lambda x,y: (2-x_3(x,y)) * grad_eta * K11(x,y,psi) - K12(x,y,psi)\n",
    "    k21 = lambda x,y: (2-x_3(x,y)) * grad_eta * K11(x,y,psi) - K21(x,y,psi)\n",
    "    k22 = lambda x,y: (A-eta(x,y)) * K11(x,y,psi)\n",
    "\n",
    "    return lambda x,y: np.array([[k11(x,y), k12(x,y)],\n",
    "                                 [k21(x,y), k22(x,y)]]) / ( K11(x,y,psi) * K22(x,y,psi) - K12(x,y,psi) * K21(x,y,psi) )"
   ]
  },
  {
   "cell_type": "code",
   "execution_count": 41,
   "id": "494b1f36",
   "metadata": {},
   "outputs": [],
   "source": [
    "def Darcy_local_q(coord, sign, ls_eta, rs_eta, grad_eta):\n",
    "    M = np.zeros(shape=(3,3))\n",
    "\n",
    "    ordering = find_ordering(coord, boundary_grid.num_nodes-1)\n",
    "    orientation = [-1, 1, -1] * sign[ordering]\n",
    "\n",
    "    q_funcs = [q1, q2, q3]\n",
    "\n",
    "    K_local = Darcy_K_func(np.min(coord[1,:]), (np.max(coord[1, :]) - np.min(coord[1, :])), np.prod(sign), ls_eta, rs_eta, grad_eta, D_K11, D_K12, D_K21, D_K22)\n",
    "\n",
    "    for i in range(3):\n",
    "        for j in range(3):\n",
    "            integrand = lambda ys,x: np.array([q_funcs[j](x,y).T @ K_local(x, y) @ q_funcs[i](x,y) for y in np.array(ys)])\n",
    "            inside = lambda xs, n: np.array([integrate.fixed_quad(integrand, 0, 1-x, args=(x,), n=n)[0] for x in np.array(xs)])\n",
    "            M[ordering[i], ordering[j]] = orientation[j] * orientation[i] * integrate.fixed_quad(inside, 0, 1, n=quad_order, args=(quad_order,))[0]\n",
    "    \n",
    "    return M"
   ]
  },
  {
   "cell_type": "code",
   "execution_count": 42,
   "id": "6f6cc0ab",
   "metadata": {},
   "outputs": [],
   "source": [
    "def Richards_local_q(coord, sign, ls_eta, rs_eta, grad_eta, psi):\n",
    "    M = np.zeros(shape=(3,3))\n",
    "\n",
    "    ordering = find_ordering(coord, boundary_grid.num_nodes-1)\n",
    "    orientation = [-1, 1, -1] * sign[ordering]\n",
    "\n",
    "    q_funcs = [q1, q2, q3]\n",
    "\n",
    "    K_local = Richards_K_func(np.min(coord[1,:]), (np.max(coord[1, :]) - np.min(coord[1, :])), np.prod(sign), ls_eta, rs_eta, grad_eta, psi, R_K11, R_K12, R_K21, R_K22, A)\n",
    "\n",
    "    for i in range(3):\n",
    "        for j in range(3):\n",
    "            integrand = lambda ys,x: np.array([q_funcs[j](x,y).T @ K_local(x, y) @ q_funcs[i](x,y) for y in np.array(ys)])\n",
    "            inside = lambda xs, n: np.array([integrate.fixed_quad(integrand, 0, 1-x, args=(x,), n=n)[0] for x in np.array(xs)])\n",
    "            M[ordering[i], ordering[j]] = orientation[j] * orientation[i] * integrate.fixed_quad(inside, 0, 1, n=quad_order, args=(quad_order,))[0]\n",
    "    \n",
    "    return M"
   ]
  },
  {
   "cell_type": "code",
   "execution_count": 43,
   "id": "8fd6c597",
   "metadata": {},
   "outputs": [
    {
     "name": "stdout",
     "output_type": "stream",
     "text": [
      "4.86 ms ± 144 µs per loop (mean ± std. dev. of 7 runs, 100 loops each)\n"
     ]
    }
   ],
   "source": [
    "%%timeit\n",
    "Darcy_local_q(np.array([[0, 1, 0], [0, 0, 1]]), np.array([-1, -1, 1]), 2, 1, -1)"
   ]
  },
  {
   "cell_type": "code",
   "execution_count": 44,
   "id": "7f57e2a1",
   "metadata": {},
   "outputs": [
    {
     "name": "stdout",
     "output_type": "stream",
     "text": [
      "4.98 ms ± 41.4 µs per loop (mean ± std. dev. of 7 runs, 100 loops each)\n"
     ]
    }
   ],
   "source": [
    "%%timeit\n",
    "Richards_local_q(np.array([[0, 1, 0], [0, 0, 1]]), np.array([-1, -1, 1]), 2, 1, -1, 0.75)"
   ]
  },
  {
   "cell_type": "code",
   "execution_count": 45,
   "id": "c5ab8ab8",
   "metadata": {},
   "outputs": [],
   "source": [
    "def mass_q(eta_dofs, h_dofs, darcy: bool = True):\n",
    "\n",
    "    if darcy:\n",
    "        int_subdomain = darcy_grid\n",
    "    else:\n",
    "        int_subdomain = richards_grid\n",
    "\n",
    "\n",
    "    # Gradient of eta and pointwise value\n",
    "    grad_eta   = eta_diff @ eta_dofs\n",
    "\n",
    "    faces, cells, sign = sps.find(int_subdomain.cell_faces)\n",
    "\n",
    "\n",
    "    _, _, _, _, _, node_coords = pp.map_geometry.map_grid(\n",
    "            int_subdomain, data.get(\"deviation_from_plane_tol\", 1e-5)\n",
    "        )\n",
    "    \n",
    "    dim = int_subdomain.dim\n",
    "    \n",
    "    node_coords = node_coords[: dim, :]\n",
    "\n",
    "    q_field._compute_cell_face_to_opposite_node(int_subdomain, data)\n",
    "    cell_face_to_opposite_node = data[q_field.cell_face_to_opposite_node]\n",
    "    \n",
    "    size_A = np.power(int_subdomain.dim + 1, 2) * int_subdomain.num_cells\n",
    "    rows_A = np.empty(size_A, dtype=int)\n",
    "    cols_A = np.empty(size_A, dtype=int)\n",
    "    data_A = np.empty(size_A)\n",
    "    idx_A = 0\n",
    "\n",
    "    for c in range(int_subdomain.num_cells):\n",
    "        # For the current cell retrieve its faces\n",
    "        loc = slice(int_subdomain.cell_faces.indptr[c], int_subdomain.cell_faces.indptr[c + 1])\n",
    "        faces_loc = faces[loc]\n",
    "    \n",
    "        eta_cell = np.max(np.where( boundary_grid.nodes[0, :] < int_subdomain.cell_centers[0, c] ))\n",
    "\n",
    "        node = np.flip(np.sort(cell_face_to_opposite_node[c, :]))\n",
    "\n",
    "        coord_loc = node_coords[:, node]\n",
    "\n",
    "        if darcy:\n",
    "            local = Darcy_local_q(coord_loc, sign[loc], eta_dofs[eta_cell], eta_dofs[eta_cell+1], grad_eta[eta_cell])\n",
    "        else:\n",
    "            local = Richards_local_q(coord_loc, sign[loc], eta_dofs[eta_cell], eta_dofs[eta_cell+1], grad_eta[eta_cell], h_dofs[c]-int_subdomain.cell_centers[1, c])\n",
    "\n",
    "        # Save values for Hdiv-mass local matrix in the global structure\n",
    "        cols = np.concatenate(faces_loc.size * [[faces_loc]])\n",
    "        loc_idx = slice(idx_A, idx_A + local.size)\n",
    "        rows_A[loc_idx] = cols.T.ravel()\n",
    "        cols_A[loc_idx] = cols.ravel()\n",
    "        data_A[loc_idx] = local.ravel()\n",
    "        idx_A += local.size\n",
    "\n",
    "        #print('')\n",
    "    \n",
    "    return sps.coo_matrix((data_A, (rows_A, cols_A)))"
   ]
  },
  {
   "cell_type": "code",
   "execution_count": 46,
   "id": "842ff4d3",
   "metadata": {},
   "outputs": [],
   "source": [
    "# Helper function to project a function evaluated in the cell center to FEM (scalar)\n",
    "def project_psi_to_fe(to_project, region):\n",
    "    return to_project * region.cell_volumes"
   ]
  },
  {
   "cell_type": "code",
   "execution_count": 47,
   "id": "6036f9c2",
   "metadata": {},
   "outputs": [
    {
     "name": "stdout",
     "output_type": "stream",
     "text": [
      "Time 0.020833333333333332\n"
     ]
    },
    {
     "name": "stdout",
     "output_type": "stream",
     "text": [
      "Iteration #001, error L2 relative psi:    0.0076422002\n",
      "Iteration #002, error L2 relative psi:    0.0018768623\n",
      "Iteration #003, error L2 relative psi:    0.0012257519\n",
      "Iteration #004, error L2 relative psi:    0.0006701148\n",
      "Iteration #005, error L2 relative psi:    0.0003290138\n",
      "Iteration #006, error L2 relative psi:    0.0001520750\n",
      "Iteration #007, error L2 relative psi:    0.0000679454\n",
      "Iteration #008, error L2 relative psi:    0.0000297869\n",
      "Iteration #009, error L2 relative psi:    0.0000129223\n",
      "Iteration #010, error L2 relative psi:    0.0000055740\n",
      "\n",
      "Time 0.041666666666666664\n",
      "Iteration #001, error L2 relative psi:    0.0120221398\n",
      "Iteration #002, error L2 relative psi:    0.0063165771\n",
      "Iteration #003, error L2 relative psi:    0.0048928347\n",
      "Iteration #004, error L2 relative psi:    0.0035000475\n",
      "Iteration #005, error L2 relative psi:    0.0023695711\n",
      "Iteration #006, error L2 relative psi:    0.0015526075\n",
      "Iteration #007, error L2 relative psi:    0.0009970552\n",
      "Iteration #008, error L2 relative psi:    0.0006321595\n",
      "Iteration #009, error L2 relative psi:    0.0003975064\n",
      "Iteration #010, error L2 relative psi:    0.0002486133\n",
      "Iteration #011, error L2 relative psi:    0.0001549475\n",
      "Iteration #012, error L2 relative psi:    0.0000963523\n",
      "Iteration #013, error L2 relative psi:    0.0000598288\n",
      "Iteration #014, error L2 relative psi:    0.0000371161\n",
      "Iteration #015, error L2 relative psi:    0.0000230128\n",
      "Iteration #016, error L2 relative psi:    0.0000142636\n",
      "Iteration #017, error L2 relative psi:    0.0000088389\n",
      "Iteration #018, error L2 relative psi:    0.0000054768\n",
      "\n",
      "Time 0.0625\n",
      "Iteration #001, error L2 relative psi:    0.0266782385\n",
      "Iteration #002, error L2 relative psi:    0.0131624133\n",
      "Iteration #003, error L2 relative psi:    0.0124066542\n",
      "Iteration #004, error L2 relative psi:    0.0114463725\n",
      "Iteration #005, error L2 relative psi:    0.0099903908\n",
      "Iteration #006, error L2 relative psi:    0.0083109609\n",
      "Iteration #007, error L2 relative psi:    0.0066832712\n",
      "Iteration #008, error L2 relative psi:    0.0052555510\n",
      "Iteration #009, error L2 relative psi:    0.0040740726\n",
      "Iteration #010, error L2 relative psi:    0.0031297825\n",
      "Iteration #011, error L2 relative psi:    0.0023907371\n",
      "Iteration #012, error L2 relative psi:    0.0018197085\n",
      "Iteration #013, error L2 relative psi:    0.0013819849\n",
      "Iteration #014, error L2 relative psi:    0.0010480827\n",
      "Iteration #015, error L2 relative psi:    0.0007941487\n",
      "Iteration #016, error L2 relative psi:    0.0006013960\n",
      "Iteration #017, error L2 relative psi:    0.0004552590\n",
      "Iteration #018, error L2 relative psi:    0.0003445488\n",
      "Iteration #019, error L2 relative psi:    0.0002607190\n",
      "Iteration #020, error L2 relative psi:    0.0001972636\n",
      "Iteration #021, error L2 relative psi:    0.0001492410\n",
      "Iteration #022, error L2 relative psi:    0.0001129033\n",
      "Iteration #023, error L2 relative psi:    0.0000854100\n",
      "Iteration #024, error L2 relative psi:    0.0000646098\n",
      "Iteration #025, error L2 relative psi:    0.0000488742\n",
      "Iteration #026, error L2 relative psi:    0.0000369703\n",
      "Iteration #027, error L2 relative psi:    0.0000279655\n",
      "Iteration #028, error L2 relative psi:    0.0000211538\n",
      "Iteration #029, error L2 relative psi:    0.0000160011\n",
      "Iteration #030, error L2 relative psi:    0.0000121034\n",
      "Iteration #031, error L2 relative psi:    0.0000091552\n",
      "Iteration #032, error L2 relative psi:    0.0000069250\n",
      "\n",
      "Time 0.08333333333333333\n",
      "Iteration #001, error L2 relative psi:    0.0753046068\n",
      "Iteration #002, error L2 relative psi:    0.0099986049\n",
      "Iteration #003, error L2 relative psi:    0.0052686910\n",
      "Iteration #004, error L2 relative psi:    0.0038619792\n",
      "Iteration #005, error L2 relative psi:    0.0029151910\n",
      "Iteration #006, error L2 relative psi:    0.0022097959\n",
      "Iteration #007, error L2 relative psi:    0.0016765090\n",
      "Iteration #008, error L2 relative psi:    0.0012722641\n",
      "Iteration #009, error L2 relative psi:    0.0009656633\n",
      "Iteration #010, error L2 relative psi:    0.0007330716\n",
      "Iteration #011, error L2 relative psi:    0.0005565920\n",
      "Iteration #012, error L2 relative psi:    0.0004226603\n",
      "Iteration #013, error L2 relative psi:    0.0003209980\n",
      "Iteration #014, error L2 relative psi:    0.0002438155\n",
      "Iteration #015, error L2 relative psi:    0.0001852081\n",
      "Iteration #016, error L2 relative psi:    0.0001406987\n",
      "Iteration #017, error L2 relative psi:    0.0001068918\n",
      "Iteration #018, error L2 relative psi:    0.0000812114\n",
      "Iteration #019, error L2 relative psi:    0.0000617025\n",
      "Iteration #020, error L2 relative psi:    0.0000468810\n",
      "Iteration #021, error L2 relative psi:    0.0000356204\n",
      "Iteration #022, error L2 relative psi:    0.0000270647\n",
      "Iteration #023, error L2 relative psi:    0.0000205641\n",
      "Iteration #024, error L2 relative psi:    0.0000156249\n",
      "Iteration #025, error L2 relative psi:    0.0000118721\n",
      "Iteration #026, error L2 relative psi:    0.0000090206\n",
      "Iteration #027, error L2 relative psi:    0.0000068539\n",
      "\n",
      "Time 0.10416666666666666\n",
      "Iteration #001, error L2 relative psi:    0.0886374698\n",
      "Iteration #002, error L2 relative psi:    0.0080754793\n",
      "Iteration #003, error L2 relative psi:    0.0025864375\n",
      "Iteration #004, error L2 relative psi:    0.0016509712\n",
      "Iteration #005, error L2 relative psi:    0.0011791662\n",
      "Iteration #006, error L2 relative psi:    0.0008698758\n",
      "Iteration #007, error L2 relative psi:    0.0006508988\n",
      "Iteration #008, error L2 relative psi:    0.0004906939\n",
      "Iteration #009, error L2 relative psi:    0.0003715000\n",
      "Iteration #010, error L2 relative psi:    0.0002819822\n",
      "Iteration #011, error L2 relative psi:    0.0002143788\n",
      "Iteration #012, error L2 relative psi:    0.0001631507\n",
      "Iteration #013, error L2 relative psi:    0.0001242470\n",
      "Iteration #014, error L2 relative psi:    0.0000946608\n",
      "Iteration #015, error L2 relative psi:    0.0000721394\n",
      "Iteration #016, error L2 relative psi:    0.0000549852\n",
      "Iteration #017, error L2 relative psi:    0.0000419139\n",
      "Iteration #018, error L2 relative psi:    0.0000319511\n",
      "Iteration #019, error L2 relative psi:    0.0000243564\n",
      "Iteration #020, error L2 relative psi:    0.0000185664\n",
      "Iteration #021, error L2 relative psi:    0.0000141523\n",
      "Iteration #022, error L2 relative psi:    0.0000107871\n",
      "Iteration #023, error L2 relative psi:    0.0000082216\n",
      "Iteration #024, error L2 relative psi:    0.0000062658\n",
      "\n",
      "Time 0.125\n",
      "Iteration #001, error L2 relative psi:    0.0927517925\n",
      "Iteration #002, error L2 relative psi:    0.0081418608\n",
      "Iteration #003, error L2 relative psi:    0.0022192671\n",
      "Iteration #004, error L2 relative psi:    0.0013267582\n",
      "Iteration #005, error L2 relative psi:    0.0009231924\n",
      "Iteration #006, error L2 relative psi:    0.0006730372\n",
      "Iteration #007, error L2 relative psi:    0.0005012110\n",
      "Iteration #008, error L2 relative psi:    0.0003775343\n",
      "Iteration #009, error L2 relative psi:    0.0002862351\n",
      "Iteration #010, error L2 relative psi:    0.0002178457\n",
      "Iteration #011, error L2 relative psi:    0.0001661716\n",
      "Iteration #012, error L2 relative psi:    0.0001269234\n",
      "Iteration #013, error L2 relative psi:    0.0000970195\n",
      "Iteration #014, error L2 relative psi:    0.0000741920\n",
      "Iteration #015, error L2 relative psi:    0.0000567469\n",
      "Iteration #016, error L2 relative psi:    0.0000434066\n",
      "Iteration #017, error L2 relative psi:    0.0000332018\n",
      "Iteration #018, error L2 relative psi:    0.0000253943\n",
      "Iteration #019, error L2 relative psi:    0.0000194208\n",
      "Iteration #020, error L2 relative psi:    0.0000148507\n",
      "Iteration #021, error L2 relative psi:    0.0000113546\n",
      "Iteration #022, error L2 relative psi:    0.0000086804\n",
      "Iteration #023, error L2 relative psi:    0.0000066352\n",
      "\n",
      "Time 0.14583333333333331\n",
      "Iteration #001, error L2 relative psi:    0.0956938120\n",
      "Iteration #002, error L2 relative psi:    0.0083419610\n",
      "Iteration #003, error L2 relative psi:    0.0020886382\n",
      "Iteration #004, error L2 relative psi:    0.0012011835\n",
      "Iteration #005, error L2 relative psi:    0.0008243795\n",
      "Iteration #006, error L2 relative psi:    0.0005976736\n",
      "Iteration #007, error L2 relative psi:    0.0004442236\n",
      "Iteration #008, error L2 relative psi:    0.0003346467\n",
      "Iteration #009, error L2 relative psi:    0.0002540789\n",
      "Iteration #010, error L2 relative psi:    0.0001938094\n",
      "Iteration #011, error L2 relative psi:    0.0001482495\n",
      "Iteration #012, error L2 relative psi:    0.0001135874\n",
      "Iteration #013, error L2 relative psi:    0.0000871126\n",
      "Iteration #014, error L2 relative psi:    0.0000668433\n",
      "Iteration #015, error L2 relative psi:    0.0000513030\n",
      "Iteration #016, error L2 relative psi:    0.0000393788\n",
      "Iteration #017, error L2 relative psi:    0.0000302254\n",
      "Iteration #018, error L2 relative psi:    0.0000231976\n",
      "Iteration #019, error L2 relative psi:    0.0000178017\n",
      "Iteration #020, error L2 relative psi:    0.0000136589\n",
      "Iteration #021, error L2 relative psi:    0.0000104787\n",
      "Iteration #022, error L2 relative psi:    0.0000080377\n",
      "Iteration #023, error L2 relative psi:    0.0000061643\n",
      "\n",
      "Time 0.16666666666666666\n",
      "Iteration #001, error L2 relative psi:    0.0981343290\n",
      "Iteration #002, error L2 relative psi:    0.0085617656\n",
      "Iteration #003, error L2 relative psi:    0.0020239031\n",
      "Iteration #004, error L2 relative psi:    0.0011304474\n",
      "Iteration #005, error L2 relative psi:    0.0007694055\n",
      "Iteration #006, error L2 relative psi:    0.0005570008\n",
      "Iteration #007, error L2 relative psi:    0.0004143469\n",
      "Iteration #008, error L2 relative psi:    0.0003127209\n",
      "Iteration #009, error L2 relative psi:    0.0002380154\n",
      "Iteration #010, error L2 relative psi:    0.0001820790\n",
      "Iteration #011, error L2 relative psi:    0.0001397214\n",
      "Iteration #012, error L2 relative psi:    0.0001074206\n",
      "Iteration #013, error L2 relative psi:    0.0000826810\n",
      "Iteration #014, error L2 relative psi:    0.0000636809\n",
      "Iteration #015, error L2 relative psi:    0.0000490644\n",
      "Iteration #016, error L2 relative psi:    0.0000378090\n",
      "Iteration #017, error L2 relative psi:    0.0000291368\n",
      "Iteration #018, error L2 relative psi:    0.0000224529\n",
      "Iteration #019, error L2 relative psi:    0.0000173009\n",
      "Iteration #020, error L2 relative psi:    0.0000133296\n",
      "Iteration #021, error L2 relative psi:    0.0000102686\n",
      "Iteration #022, error L2 relative psi:    0.0000079095\n",
      "\n",
      "Time 0.1875\n",
      "Iteration #001, error L2 relative psi:    0.1002520302\n",
      "Iteration #002, error L2 relative psi:    0.0087798638\n",
      "Iteration #003, error L2 relative psi:    0.0019849922\n",
      "Iteration #004, error L2 relative psi:    0.0010776954\n",
      "Iteration #005, error L2 relative psi:    0.0007266589\n",
      "Iteration #006, error L2 relative psi:    0.0005251927\n",
      "Iteration #007, error L2 relative psi:    0.0003911470\n",
      "Iteration #008, error L2 relative psi:    0.0002958874\n",
      "Iteration #009, error L2 relative psi:    0.0002258406\n",
      "Iteration #010, error L2 relative psi:    0.0001733148\n",
      "Iteration #011, error L2 relative psi:    0.0001334557\n",
      "Iteration #012, error L2 relative psi:    0.0001029826\n",
      "Iteration #013, error L2 relative psi:    0.0000795749\n",
      "Iteration #014, error L2 relative psi:    0.0000615398\n",
      "Iteration #015, error L2 relative psi:    0.0000476172\n",
      "Iteration #016, error L2 relative psi:    0.0000368560\n",
      "Iteration #017, error L2 relative psi:    0.0000285319\n",
      "Iteration #018, error L2 relative psi:    0.0000220897\n",
      "Iteration #019, error L2 relative psi:    0.0000171025\n",
      "Iteration #020, error L2 relative psi:    0.0000132412\n",
      "Iteration #021, error L2 relative psi:    0.0000102513\n",
      "Iteration #022, error L2 relative psi:    0.0000079361\n",
      "\n"
     ]
    }
   ],
   "source": [
    "# Time Loop\n",
    "for i in range(1, int(T/dt)+1):\n",
    "    print('Time ' + str(i * dt))\n",
    "    current_time = i * dt\n",
    "\n",
    "    # Prepare the solution at the previous time step and ...\n",
    "    prev = sol[-1].copy()\n",
    "\n",
    "    # Prepare the rhs\n",
    "    time_rhs = fixed_rhs.copy()\n",
    "    \n",
    "    time_rhs[darcy_q_mask]    += darcy_bc_val\n",
    "    time_rhs[richards_q_mask] += richards_bc_val(current_time)\n",
    "\n",
    "    time_rhs[gamma_mask] += (phi / dt * M_gamma @ prev[gamma_mask])\n",
    "\n",
    "    debug_saver = [pp.Exporter(darcy_grid, str(i) + '_sol_D', folder_name=os.path.join(output_directory, 'debug')), pp.Exporter(richards_grid, str(i) + '_sol_R', folder_name=os.path.join(output_directory, 'debug'))]\n",
    "    save_step(sol[-1], proj_q, proj_h, proj_eta, debug_saver, 0)\n",
    "    \n",
    "    # Non-linear loop\n",
    "    for k in range(K):\n",
    "        rhs = time_rhs.copy()\n",
    "        rhs[richards_h_mask] += richards_M_h @ (L * prev[richards_h_mask] \n",
    "                                                + project_psi_to_fe( theta(proj_h[1] @ sol[-1][richards_h_mask] - richards_grid.cell_centers[1,:]), richards_grid ) \n",
    "                                                - project_psi_to_fe( theta(proj_h[1] @ prev[richards_h_mask]    - richards_grid.cell_centers[1,:]), richards_grid ) ) / dt\n",
    "\n",
    "        darcy_M_u    = mass_q(prev[gamma_mask], prev[darcy_h_mask]) # pg.face_mass(mdg, q_field)\n",
    "        richards_M_u = mass_q(prev[gamma_mask], prev[richards_h_mask]) # pg.face_mass(mdg, q_field)\n",
    "\n",
    "        # Assemble the saddle point problem\n",
    "        spp = sps.bmat( [[darcy_restrictor @ darcy_M_u @ darcy_restrictor.T, darcy_restrictor @ darcy_B.T, darcy_restrictor @ darcy_M_u @ (np.eye(richards_q)-richards_restrictor.T),              None, darcy_restrictor @ darcy_B_gamma.T],\n",
    "                         [                    -darcy_B @ darcy_restrictor.T,                         None,                     -darcy_B @ (np.eye(richards_q)-richards_restrictor.T),              None,                               None],\n",
    "                         [                                             None,                         None,                                                              richards_M_u,      richards_B.T,                 richards_B_gamma.T],\n",
    "                         [                                             None,                         None,                                                               -richards_B, L/dt*richards_M_h,                               None],\n",
    "                         [                                             None,                         None,                                                         -richards_B_gamma,              None,                     phi/dt*M_gamma]], format=\"csc\" )\n",
    "        \n",
    "        # Prepare the solver\n",
    "        ls = pg.LinearSystem(spp, rhs)\n",
    "        ls.flag_ess_bc(bc_ess_flag, bc_ess_val)\n",
    "\n",
    "        current = ls.solve()\n",
    "\n",
    "        # Compute the errors (with eta). Should I consider only psi? Should I compute the error on the \"actual\" psi values or on the dofs\n",
    "        abs_err_psi  = np.sqrt(np.sum(np.power(current[darcy_h_mask] - prev[darcy_h_mask], 2)) + np.sum(np.power(current[richards_h_mask] - prev[richards_h_mask], 2)) + np.sum(np.power(current[gamma_mask] - prev[gamma_mask], 2)))\n",
    "        abs_err_prev = np.sqrt(np.sum(np.power(prev[darcy_h_mask], 2)) + np.sum(np.power(prev[richards_h_mask], 2)) + np.sum(np.power(prev[gamma_mask], 2)))\n",
    "\n",
    "        print('Iteration #' + format(k+1, '0' + str(ceil(log10(K)) + 1) + 'd') \n",
    "              + ', error L2 relative psi: ' + format(abs_err_psi, str(5 + ceil(log10(1 / abs_tol)) + 4) \n",
    "                                                     + '.' + str(ceil(log10(1 / abs_tol)) + 4) + 'f') )\n",
    "        \n",
    "        save_step(current, proj_q, proj_h, proj_eta, debug_saver, k+1)\n",
    "\n",
    "        if abs_err_psi < abs_tol + rel_tol * abs_err_prev:\n",
    "            break\n",
    "        else:\n",
    "            prev = None\n",
    "            prev = current.copy()\n",
    "\n",
    "    print('')        \n",
    "\n",
    "    sol.append( current.copy() )\n",
    "\n",
    "    save_step(sol[-1], proj_q, proj_h, proj_eta, saver, i)\n",
    "\n",
    "for s in saver:\n",
    "    s.write_pvd([t * dt for t in range(int(T/dt)+1)])"
   ]
  }
 ],
 "metadata": {
  "kernelspec": {
   "display_name": "Python 3 (ipykernel)",
   "language": "python",
   "name": "python3"
  },
  "language_info": {
   "codemirror_mode": {
    "name": "ipython",
    "version": 3
   },
   "file_extension": ".py",
   "mimetype": "text/x-python",
   "name": "python",
   "nbconvert_exporter": "python",
   "pygments_lexer": "ipython3",
   "version": "3.11.3"
  },
  "vscode": {
   "interpreter": {
    "hash": "e4cc1db98167c7fd7d55a1da8057731abc6cd6fe154328a2ae319df8aab4e24d"
   }
  }
 },
 "nbformat": 4,
 "nbformat_minor": 5
}
