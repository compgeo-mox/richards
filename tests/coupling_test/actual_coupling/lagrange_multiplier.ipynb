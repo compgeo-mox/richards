{
 "cells": [
  {
   "cell_type": "markdown",
   "id": "essential-american",
   "metadata": {},
   "source": [
    "# Darcy equation\n",
    "\n",
    "In this tutorial we present how to solve a Darcy equation with [PyGeoN](https://github.com/compgeo-mox/pygeon) in themoving domain case (the upper boundary will move).  The unkwons are the velocity $u$, the elevation head $h$ and the height of the upper boundary $\\eta$.\n",
    "\n",
    "Let $\\Omega=(0,1)\\times(0,\\eta)$ with boundary $\\partial \\Omega$ and outward unit normal ${\\nu}$. Given \n",
    "$K$ the matrix permeability, we want to solve the following problem: find $(\\bm{u}, h)$ such that\n",
    "$$\n",
    "\\left\\{\n",
    "\\begin{array}{ll}\n",
    "\\begin{array}{l} \n",
    "K^{-1} {\\bm{u}} + \\nabla h = {0}\\\\\n",
    "S_s \\frac{\\partial{h}}{\\partial t} + \\nabla \\cdot {u} = f\n",
    "\\end{array}\n",
    "&\\text{in } \\Omega\n",
    "\\end{array}\n",
    "\\right.\n",
    "$$"
   ]
  },
  {
   "cell_type": "markdown",
   "id": "dadbb451",
   "metadata": {},
   "source": [
    "In order to solve the problem, we will perfom a change of coordinates to a reference domain $\\hat{\\Omega}=(0,1)^2$ through the (linear) trasnformation $R : \\Omega \\rightarrow \\hat{\\Omega}$ (and its inverse function $D : \\hat{\\Omega} \\rightarrow \\Omega$).\n",
    "Recall that $\\hat{\\nabla}R=(\\nabla D)^{-1}$.\n",
    "\n",
    "Let $\\hat{h}$ and $\\hat{\\bm{u}}$ be $h$ and $\\bm{u}$ respectevely in the reference domain and let $\\hat{K}$ be the transformed permeability matrix, defined as $\\hat{K}=det(\\hat{\\nabla}D) (\\hat{\\nabla} D)^{-1} K (\\hat{\\nabla} D)^{-T}$.\n",
    "\n",
    "The equation describing the motion of $\\partial_{top}\\Omega$ is:\n",
    "$$\n",
    "\n",
    "\\phi \\frac{\\partial \\eta}{\\partial t} = \\hat{u_3} + I(t)\n",
    "\n",
    "$$"
   ]
  },
  {
   "cell_type": "markdown",
   "id": "a068fac3",
   "metadata": {},
   "source": [
    "The transformed equations in $\\hat{\\Omega}$ is:\n",
    "$$\n",
    "\\left\\{\n",
    "\\begin{array}{ll}\n",
    "\\begin{array}{l} \n",
    "\\hat{K}({\\eta})^{-1} {\\hat{u}} + \\hat{\\nabla} \\hat{h} = {0}\\\\\n",
    "\\hat{S}_s \\frac{\\partial{\\hat{h}}}{\\partial t} + \\hat{\\nabla} \\cdot {\\hat{\\bm{u}}} = f\n",
    "\\end{array}\n",
    "&\\text{in } \\hat{\\Omega}\n",
    "\\end{array}\n",
    "\\right.\n",
    "$$\n",
    "with boundary conditions:\n",
    "$$ \\hat{h} = \\eta \\text{ on } \\Gamma \\qquad \\hat{h} = \\ell \\text{ on } \\Gamma_D \\qquad \\hat{\\bm{\\nu}} \\cdot \\hat{\\bm{u}} = 0 \\text{ on } \\Gamma_N$$"
   ]
  },
  {
   "cell_type": "markdown",
   "id": "47b01879",
   "metadata": {},
   "source": [
    "The weak formulation will be:\n",
    "$$\n",
    "\\left\\{\n",
    "\\begin{array}{ll}\n",
    "\\begin{array}{l} \n",
    "\\int_{\\Omega}\\hat{K}(\\eta)^{-1} {\\bm{\\hat{u}}} \\cdot \\bm{v} \\, d\\Omega - \\int_{\\Omega} h \\hat{\\nabla} \\cdot {\\hat{\\bm{v}}} \\, d\\Omega = - \\int_{\\Gamma_D} h \\bm{v} \\cdot \\bm{\\nu} \\, d\\Omega - \\int_{\\Gamma} \\eta \\bm{v} \\cdot \\bm{\\nu} \\, d\\Omega\\\\\n",
    "\\int_{\\Omega} \\hat{S}_s \\frac{\\partial{\\hat{h}}}{\\partial t} v \\, d\\Omega + \\int_{\\Omega} \\hat{\\nabla} \\cdot {\\hat{\\bm{u}}} v \\, d\\Omega = \\int_{\\Omega} fv \\, d\\Omega\\\\\n",
    "\\int_{\\Gamma} \\phi \\frac{\\partial \\eta}{\\partial t} v \\, d\\sigma = \\int_{\\Gamma} \\hat{u_3} v \\, d\\sigma + \\int_{\\Gamma} I(t) v \\, d\\sigma\n",
    "\\end{array}\n",
    "\\end{array}\n",
    "\\right.\n",
    "$$"
   ]
  },
  {
   "cell_type": "markdown",
   "id": "dcdc7603",
   "metadata": {},
   "source": [
    "For the time discretization, we will employ a backward Euler scheme:\n",
    "\n",
    "$$\n",
    "\\left\\{\n",
    "\\begin{array}{ll}\n",
    "\\begin{array}{l} \n",
    "\\int_{\\Omega}\\hat{K}(\\eta^{n+1})^{-1} {\\bm{\\hat{u}}^{n+1}} \\cdot \\bm{v} \\, d\\Omega - \\int_{\\Omega} h^{n+1} \\hat{\\nabla} \\cdot {\\hat{\\bm{v}}} \\, d\\Omega = - \\int_{\\Gamma_D} h^{n+1} \\bm{v} \\cdot \\bm{\\nu} \\, d\\Omega - \\int_{\\Gamma} \\eta^{n+1} \\bm{v} \\cdot \\bm{\\nu} \\, d\\Omega\\\\\n",
    "\\int_{\\Omega} \\hat{S}_s^{n+1} \\frac{\\hat{h}^{n+1} - \\hat{h}^{n}}{\\Delta t} v \\, d\\Omega + \\int_{\\Omega} \\hat{\\nabla} \\cdot {\\hat{\\bm{u}}^{n+1}} v \\, d\\Omega = \\int_{\\Omega} f^{n+1}v \\, d\\Omega\\\\\n",
    "\\int_{\\Gamma} \\phi \\eta^{n+1} v \\, d\\sigma = \\Delta t \\int_{\\Gamma} \\hat{\\bm{u}}^{n+1} \\cdot \\bm{\\nu} v \\, d\\sigma + \\int_{\\Gamma} \\phi \\eta^{n} v \\, d\\sigma + \\Delta t \\int_{\\Gamma} I^{n+1} v \\, d\\sigma\n",
    "\\end{array}\n",
    "\\end{array}\n",
    "\\right.\n",
    "$$"
   ]
  },
  {
   "cell_type": "markdown",
   "id": "faf928a5",
   "metadata": {},
   "source": [
    "To deal with the non-linear term, we will employ a simple Picard scheme:\n",
    "\n",
    "$$\n",
    "\\left\\{\n",
    "\\begin{array}{ll}\n",
    "\\begin{array}{l} \n",
    "\\int_{\\Omega}\\hat{K}(\\eta^{n+1}_k)^{-1} {\\bm{\\hat{u}_{k+1}^{n+1}}} \\cdot \\bm{v} \\, d\\Omega - \\int_{\\Omega} h^{n+1}_{k+1} \\hat{\\nabla} \\cdot {\\hat{\\bm{v}}} \\, d\\Omega + \\int_{\\Gamma} \\eta^{n+1}_{k+1} \\bm{v} \\cdot \\bm{\\nu} \\, d\\Omega= - \\int_{\\Gamma_D} h^{n+1} \\bm{v} \\cdot \\bm{\\nu} \\, d\\Omega\\\\\n",
    "\\Delta t \\int_{\\Omega} \\hat{\\nabla} \\cdot {\\hat{\\bm{u}}^{n+1}_{k+1}} v \\, d\\Omega + \\int_{\\Omega} \\hat{S}_s \\hat{h}^{n+1}_{k+1} v \\, d\\Omega = \\int_{\\Omega} \\hat{S}_s \\hat{h}^{n} v \\, d\\Omega + \\Delta t \\int_{\\Omega} f^{n+1}v \\, d\\Omega\\\\\n",
    "- \\Delta t \\int_{\\Gamma} \\hat{\\bm{u}}^{n+1}_{k+1} \\cdot \\bm{\\nu} v \\, d\\sigma + \\int_{\\Gamma} \\phi \\eta^{n+1}_{k+1} v \\, d\\sigma = \\int_{\\Gamma} \\phi \\eta^{n} v \\, d\\sigma + \\Delta t \\int_{\\Gamma} I^{n+1} v \\, d\\sigma\n",
    "\\end{array}\n",
    "\\end{array}\n",
    "\\right.\n",
    "$$"
   ]
  },
  {
   "cell_type": "markdown",
   "id": "615fb33d",
   "metadata": {},
   "source": [
    "The matrix formulation will be:\n",
    "\n",
    "$$\n",
    "\\left\\{\n",
    "\\begin{array}{ll}\n",
    "\\begin{array}{l} \n",
    "M_u(\\bm{\\eta}^{n+1}_{k}) \\bm{u}^{n+1}_{k+1} + B^T\\bm{h}^{n+1}_{k+1} + B_{\\Gamma}^T \\bm{\\eta}^{n+1}_{k+1}= \\bm{BC}^{n+1}\\\\\n",
    "- \\Delta t B \\hat{\\bm{u}}^{n+1}_{k+1} + S_s M_{h} \\bm{\\hat{h}^{n+1}_{k+1}} = \\Delta t \\bm{F}^{n+1} + S_s M_{h} \\bm{\\hat{h}^{n}}\\\\\n",
    "- \\Delta t B_{\\Gamma} \\hat{\\bm{u}}^{n+1}_{k+1} + \\phi M_{\\Gamma} \\bm{\\eta^{n+1}_{k+1}} = \\phi M_{\\Gamma} \\bm{\\eta^{n}} + \\Delta t \\bm{I}^{n+1}\n",
    "\\end{array}\n",
    "\\end{array}\n",
    "\\right.\n",
    "$$"
   ]
  },
  {
   "cell_type": "markdown",
   "id": "49e31d3b",
   "metadata": {},
   "source": [
    "$$\n",
    "\\left(\n",
    "\\begin{array}{cc} \n",
    "M_u(\\bm{\\eta^{n+1}_k}) & B^T & B_{\\Gamma}^T\\\\\n",
    "-\\Delta t B & S_s M_h & 0\\\\\n",
    "-\\Delta t B_{\\Gamma} & 0 & \\phi M_{\\Gamma}\n",
    "\\end{array}\n",
    "\\right)\n",
    "\\left(\n",
    "\\begin{array}{c} \n",
    "\\bm{u^{n+1}_{k+1}}\\\\ \n",
    "\\bm{h^{n+1}_{k+1}}\\\\\n",
    "\\bm{\\eta^{n+1}_{k+1}}\n",
    "\\end{array}\n",
    "\\right)\n",
    "=\\left(\n",
    "\\begin{array}{c} \n",
    "\\bm{BC}^{n+1}\\\\ \n",
    "\\Delta t \\bm{F}^{n+1} + S_s M_h \\bm{h}^n\\\\\n",
    "\\phi M_{\\Gamma} \\bm{\\eta}^n + \\Delta t \\bm{I}^{n+1}\n",
    "\\end{array}\n",
    "\\right)\n",
    "$$"
   ]
  },
  {
   "cell_type": "markdown",
   "id": "60777fa8",
   "metadata": {},
   "source": [
    "We will start to test the method in the case $M_u(\\bm{h_k}^{n+1})=\\bm{I}$"
   ]
  },
  {
   "cell_type": "code",
   "execution_count": 1,
   "id": "fa691294",
   "metadata": {},
   "outputs": [],
   "source": [
    "%load_ext Cython"
   ]
  },
  {
   "cell_type": "code",
   "execution_count": 2,
   "id": "dietary-perth",
   "metadata": {},
   "outputs": [
    {
     "name": "stderr",
     "output_type": "stream",
     "text": [
      "/opt/conda/lib/python3.11/site-packages/porepy/numerics/nonlinear/nonlinear_solvers.py:13: TqdmExperimentalWarning: Using `tqdm.autonotebook.tqdm` in notebook mode. Use `tqdm.tqdm` instead to force console mode (e.g. in jupyter console)\n",
      "  from tqdm.autonotebook import trange  # type: ignore\n"
     ]
    }
   ],
   "source": [
    "import shutil\n",
    "import os\n",
    "\n",
    "import numpy as np\n",
    "import scipy.sparse as sps\n",
    "from scipy.sparse import linalg\n",
    "import scipy.integrate as integrate\n",
    "import sympy as sp\n",
    "\n",
    "import porepy as pp\n",
    "import pygeon as pg\n",
    "\n",
    "import time\n",
    "from math import ceil, floor, log10, exp\n",
    "\n",
    "import matplotlib.pyplot as plt"
   ]
  },
  {
   "cell_type": "markdown",
   "id": "roman-glossary",
   "metadata": {},
   "source": [
    "We create now the grid, since we will use a Raviart-Thomas approximation for ${q}$ we are restricted to simplices. In this example we consider a 2-dimensional structured grid, but the presented code will work also in 1d and 3d. PyGeoN works with mixed-dimensional grids, so we need to convert the grid."
   ]
  },
  {
   "cell_type": "code",
   "execution_count": 3,
   "id": "0816cee5",
   "metadata": {},
   "outputs": [],
   "source": [
    "# Set the maximum number of iterations of the non-linear solver\n",
    "K = 50\n",
    "\n",
    "# L-scheme parameter\n",
    "L = 3.501e-2\n",
    "\n",
    "# Porosity\n",
    "phi = 0.1\n",
    "\n",
    "# Real domain dimensions\n",
    "A = 3 # Height\n",
    "B = 2 # Domain\n",
    "\n",
    "# Initial water table height\n",
    "def init_eta(x): return 1\n",
    "\n",
    "# Set the mesh refinment\n",
    "N = 10\n",
    "\n",
    "# Order for the quadrature formulae\n",
    "quad_order = 5\n",
    "\n",
    "# Set the number of steps (excluding the initial condition)\n",
    "num_steps = 9\n",
    "\n",
    "# Simulation time length\n",
    "T = 9/48\n",
    "\n",
    "# Time switch conditions (for the boundary condition)\n",
    "dt_D = 1/16\n",
    "\n",
    "# Fluid density\n",
    "rho = 1000\n",
    "\n",
    "# Relative and absolute tolerances for the non-linear solver\n",
    "abs_tol = 1e-6\n",
    "rel_tol = 1e-6\n",
    "\n",
    "# Domain tolerance\n",
    "domain_tolerance = 1 / (10 * N)\n",
    "\n",
    "# Output directory\n",
    "output_directory = str(ceil(time.time())) + '_' + 'ind_grids'"
   ]
  },
  {
   "cell_type": "code",
   "execution_count": 4,
   "id": "34d3f48b",
   "metadata": {},
   "outputs": [],
   "source": [
    "# Time step\n",
    "dt   = (T-0)/num_steps"
   ]
  },
  {
   "cell_type": "code",
   "execution_count": 5,
   "id": "c3de940c",
   "metadata": {},
   "outputs": [],
   "source": [
    "# Van Genuchten model parameters ( relative permeability model )\n",
    "theta_s = 0.396\n",
    "theta_r = 0.131\n",
    "\n",
    "alpha = 0.423\n",
    "\n",
    "n = 2.06\n",
    "K_s = 4.96e-2\n",
    "\n",
    "m = 1 - 1/n"
   ]
  },
  {
   "cell_type": "markdown",
   "id": "4d5c76f6",
   "metadata": {},
   "source": [
    "### $\\theta$ and $K$"
   ]
  },
  {
   "cell_type": "markdown",
   "id": "28247c86",
   "metadata": {},
   "source": [
    "In order to evaluate analytically both $\\theta$ and $K$, we will make use of the python package $\\textit{sympy}$, that allow us to write down a mathematical expression in symbolic form (and that can also be used to compute their derivatives)."
   ]
  },
  {
   "cell_type": "code",
   "execution_count": 6,
   "id": "bc5f1756",
   "metadata": {},
   "outputs": [],
   "source": [
    "# Symbolic psi\n",
    "psi_var = sp.Symbol('psi', negative=True)\n",
    "\n",
    "# Symbolic Theta\n",
    "theta_expression = theta_r + (theta_s - theta_r) / (1 + (-alpha * psi_var) ** n) ** m\n",
    "effective_saturation = (theta_expression - theta_r) / (theta_s - theta_r)\n",
    "\n",
    "# Symbolic Conductivity K\n",
    "hydraulic_conductivity_expression = K_s * (effective_saturation ** 0.5) * ( 1 - (1 - effective_saturation ** (1 / m)) ** m ) ** 2"
   ]
  },
  {
   "cell_type": "code",
   "execution_count": 7,
   "id": "a74adae2",
   "metadata": {},
   "outputs": [],
   "source": [
    "# Theta lambda\n",
    "theta_lambda = sp.lambdify(psi_var, theta_expression, 'numpy')\n",
    "\n",
    "# Conductivity tensor lambda\n",
    "conductivity_lambda = sp.lambdify(psi_var, hydraulic_conductivity_expression, 'numpy')"
   ]
  },
  {
   "cell_type": "code",
   "execution_count": 8,
   "id": "def9c4e7",
   "metadata": {},
   "outputs": [],
   "source": [
    "# Actual (and final) theta function\n",
    "def theta(psi):\n",
    "    mask = np.where(psi < 0)\n",
    "    res = np.ones_like(psi) * theta_s\n",
    "    res[mask] = theta_lambda(psi[mask])\n",
    "\n",
    "    return res"
   ]
  },
  {
   "cell_type": "code",
   "execution_count": 9,
   "id": "0c251acf",
   "metadata": {},
   "outputs": [],
   "source": [
    "%%cython\n",
    "K_s = 4.96e-2\n",
    "\n",
    "\n",
    "def D_K11(x, y):\n",
    "    return K_s\n",
    "\n",
    "def D_K12(x, y):\n",
    "    return 0\n",
    "\n",
    "def D_K21(x, y):\n",
    "    return 0\n",
    "\n",
    "def D_K22(x, y):\n",
    "    return K_s"
   ]
  },
  {
   "cell_type": "code",
   "execution_count": 10,
   "id": "85d2dcc3",
   "metadata": {},
   "outputs": [],
   "source": [
    "%%cython\n",
    "\n",
    "theta_s = 0.396\n",
    "theta_r = 0.131\n",
    "\n",
    "alpha = 0.423\n",
    "\n",
    "n = 2.06\n",
    "K_s = 4.96e-2\n",
    "\n",
    "m = 1 - 1/n\n",
    "\n",
    "def R_effective_saturation(psi):\n",
    "    return ((theta_r + (theta_s - theta_r) / (1 + (-alpha * psi) ** n) ** m) - theta_r) / (theta_s - theta_r)\n",
    "\n",
    "\n",
    "def R_K11(x, y, psi):\n",
    "    if psi >= 0:\n",
    "        return K_s\n",
    "    tmp = R_effective_saturation(psi)\n",
    "    return K_s * (tmp ** 0.5) * ( 1 - (1 - tmp ** (1 / m)) ** m ) ** 2\n",
    "\n",
    "def R_K12(x, y, psi):\n",
    "    return 0\n",
    "\n",
    "def R_K21(x, y, psi):\n",
    "    return 0\n",
    "\n",
    "def R_K22(x, y, psi):\n",
    "    if psi >= 0:\n",
    "        return K_s\n",
    "    tmp = R_effective_saturation(psi)\n",
    "    return K_s * (tmp ** 0.5) * ( 1 - (1 - tmp ** (1 / m)) ** m ) ** 2"
   ]
  },
  {
   "cell_type": "markdown",
   "id": "49d33b8f",
   "metadata": {},
   "source": [
    "### Domain preparation and boundary conditions"
   ]
  },
  {
   "cell_type": "code",
   "execution_count": 11,
   "id": "19a40ba3",
   "metadata": {},
   "outputs": [],
   "source": [
    "darcy_grid    = pp.StructuredTriangleGrid([ceil(B) * N,   N], [B, 1])\n",
    "richards_grid = pp.StructuredTriangleGrid([ceil(B) * N, 2*N], [B, 1])"
   ]
  },
  {
   "cell_type": "code",
   "execution_count": 12,
   "id": "a1862c71",
   "metadata": {},
   "outputs": [],
   "source": [
    "darcy_grid.compute_geometry()\n",
    "richards_grid.compute_geometry()"
   ]
  },
  {
   "cell_type": "code",
   "execution_count": 13,
   "id": "ffa231fe",
   "metadata": {},
   "outputs": [],
   "source": [
    "boundary_grid, boundary_face_map, boundary_node_map  = pp.partition.extract_subgrid(darcy_grid, \n",
    "                                                                                    darcy_grid.face_centers[1, :] == np.max(darcy_grid.face_centers[1, :]), \n",
    "                                                                                    faces=True)"
   ]
  },
  {
   "cell_type": "code",
   "execution_count": 14,
   "id": "79280626",
   "metadata": {},
   "outputs": [],
   "source": [
    "key = \"flow\"\n",
    "\n",
    "# Collection of boundary conditions for the Darcy problem\n",
    "bc_value = []\n",
    "bc_essential = []\n",
    "\n",
    "# Initial pressure\n",
    "initial_pressure = []"
   ]
  },
  {
   "cell_type": "code",
   "execution_count": 15,
   "id": "ffd8b2c6",
   "metadata": {},
   "outputs": [],
   "source": [
    "darcy_q_field     = pg.RT0(key)\n",
    "richards_q_field  = pg.RT0(key)"
   ]
  },
  {
   "cell_type": "code",
   "execution_count": 16,
   "id": "cc2c237f",
   "metadata": {},
   "outputs": [],
   "source": [
    "gamma_field = pg.Lagrange1(key)"
   ]
  },
  {
   "cell_type": "code",
   "execution_count": 17,
   "id": "2b8ca3b9",
   "metadata": {},
   "outputs": [],
   "source": [
    "darcy_h_field     = pg.PwConstants(key)\n",
    "richards_h_field  = pg.PwConstants(key)"
   ]
  },
  {
   "cell_type": "code",
   "execution_count": 18,
   "id": "f9103404",
   "metadata": {},
   "outputs": [],
   "source": [
    "darcy_q    = darcy_q_field.ndof( darcy_grid )\n",
    "darcy_h    = darcy_h_field.ndof( darcy_grid )\n",
    "\n",
    "richards_q = richards_q_field.ndof( richards_grid )\n",
    "richards_h = richards_h_field.ndof( richards_grid )\n",
    "\n",
    "dof_eta = gamma_field.ndof( boundary_grid )"
   ]
  },
  {
   "cell_type": "code",
   "execution_count": 19,
   "id": "4bbe753a",
   "metadata": {},
   "outputs": [],
   "source": [
    "def initial_h_func(x): return 1"
   ]
  },
  {
   "cell_type": "code",
   "execution_count": 20,
   "id": "117f0f8b",
   "metadata": {},
   "outputs": [],
   "source": [
    "darcy_bc_dirichlet = darcy_grid.face_centers[0, :] > B-domain_tolerance\n",
    "darcy_bc_val       = - darcy_q_field.assemble_nat_bc(darcy_grid, lambda x: 1, darcy_bc_dirichlet)\n",
    "\n",
    "darcy_bc_neumann   = np.hstack(( \n",
    "        np.logical_or( darcy_grid.face_centers[0, :] < 0+domain_tolerance, darcy_grid.face_centers[1, :] < 0+domain_tolerance ), \n",
    "        np.zeros(shape=(darcy_h), dtype=bool) \n",
    "    ))\n",
    "darcy_ess_neumann  = np.hstack(( np.zeros(shape=(darcy_q)), np.zeros(shape=(darcy_h), dtype=bool) ))"
   ]
  },
  {
   "cell_type": "code",
   "execution_count": 21,
   "id": "4dbb9489",
   "metadata": {},
   "outputs": [],
   "source": [
    "richards_bc_dirichlet = np.logical_and(richards_grid.face_centers[0, :] < 1+domain_tolerance, richards_grid.face_centers[1, :] > 1-domain_tolerance)\n",
    "richards_bc_val       = lambda t: - richards_q_field.assemble_nat_bc(richards_grid, lambda x: min( 0.2, -2 + 2.2 * t / dt_D ) + 3, richards_bc_dirichlet)\n",
    "\n",
    "richards_bc_neumann   = np.hstack(( \n",
    "        np.logical_or( richards_grid.face_centers[0, :] < 0+domain_tolerance, \n",
    "        np.logical_or( richards_grid.face_centers[0, :] > B-domain_tolerance, \n",
    "                       np.logical_and(richards_grid.face_centers[1, :] > 1-domain_tolerance, \n",
    "                                      richards_grid.face_centers[0, :] > 1-domain_tolerance)) ), \n",
    "        np.zeros(shape=(richards_h), dtype=bool) \n",
    "    ))\n",
    "richards_ess_neumann  = np.zeros(shape=(richards_q + richards_h))"
   ]
  },
  {
   "cell_type": "code",
   "execution_count": 22,
   "id": "92dd086f",
   "metadata": {},
   "outputs": [],
   "source": [
    "bc_ess_flag = np.hstack( (darcy_bc_neumann,  \n",
    "                          richards_bc_neumann, \n",
    "                          np.zeros(shape=(dof_eta,), dtype=bool),\n",
    "                          np.zeros(shape=(dof_eta-1), dtype=bool)) )\n",
    "\n",
    "bc_ess_val  = np.hstack( (darcy_ess_neumann, \n",
    "                          richards_ess_neumann, \n",
    "                          np.zeros(shape=(dof_eta,)),\n",
    "                          np.zeros(shape=(dof_eta-1))) ) "
   ]
  },
  {
   "cell_type": "markdown",
   "id": "8360df83",
   "metadata": {},
   "source": [
    "### Matrix assembly"
   ]
  },
  {
   "cell_type": "markdown",
   "id": "7a30f6e9",
   "metadata": {},
   "source": [
    "The $RT_0$ elements are constructed in such a wat that, on the non-diagonal faces, $\\bm{v} \\cdot \\nu = 0$. Then, since $\\Gamma$ is made by one of the two catheti of each boundary facing element, the only non-zero terms will be associated to the basis functions associated to the ``boundary'' cathetus. Then:"
   ]
  },
  {
   "cell_type": "code",
   "execution_count": 23,
   "id": "aee36a8d",
   "metadata": {},
   "outputs": [],
   "source": [
    "def assemble_B_gamma(domain, threshold):\n",
    "    data = []\n",
    "    row = []\n",
    "    col = []\n",
    "\n",
    "    face, _, sign = sps.find(domain.cell_faces)\n",
    "\n",
    "    # Look for the boundary faces ids\n",
    "    index_up_face = np.where(np.logical_and(threshold-domain_tolerance < domain.face_centers[1, :], \n",
    "                                            domain.face_centers[1, :] < threshold+domain_tolerance))[0]\n",
    "\n",
    "    # Loop thorough the boundary faces\n",
    "    for i in range( boundary_grid.num_cells ):\n",
    "        s = sign[ np.where(face == index_up_face[i]) ][0]\n",
    "\n",
    "        # s-element\n",
    "        col.append(index_up_face[i])\n",
    "        row.append(i)\n",
    "        data.append( s / 2 )\n",
    "\n",
    "        # (1-s)-element\n",
    "        col.append(index_up_face[i])\n",
    "        row.append(i+1)\n",
    "        data.append( s / 2 )\n",
    "\n",
    "    return sps.coo_matrix( (data, (row, col)), shape=(boundary_grid.num_nodes, domain.num_faces) ).tocsr()"
   ]
  },
  {
   "cell_type": "code",
   "execution_count": 24,
   "id": "84c3ecbb",
   "metadata": {},
   "outputs": [],
   "source": [
    "eta_diff = gamma_field.assemble_diff_matrix(boundary_grid)\n",
    "eta_diff[0,0] = -1"
   ]
  },
  {
   "cell_type": "code",
   "execution_count": 25,
   "id": "dc2f1d6f",
   "metadata": {},
   "outputs": [],
   "source": [
    "darcy_B_gamma    = assemble_B_gamma(darcy_grid, threshold=1)\n",
    "richards_B_gamma = assemble_B_gamma(richards_grid, threshold=0)"
   ]
  },
  {
   "cell_type": "code",
   "execution_count": 26,
   "id": "62f078ca",
   "metadata": {},
   "outputs": [],
   "source": [
    "M_gamma = gamma_field.assemble_mass_matrix( boundary_grid )"
   ]
  },
  {
   "cell_type": "code",
   "execution_count": 27,
   "id": "6d6157d9",
   "metadata": {},
   "outputs": [],
   "source": [
    "darcy_M_h    = darcy_h_field.assemble_mass_matrix( darcy_grid )\n",
    "richards_M_h = richards_h_field.assemble_mass_matrix( richards_grid )"
   ]
  },
  {
   "cell_type": "code",
   "execution_count": 28,
   "id": "74185040",
   "metadata": {},
   "outputs": [],
   "source": [
    "# B matrix\n",
    "darcy_B    = - darcy_h_field.assemble_mass_matrix(darcy_grid)       @ pg.div(darcy_grid)\n",
    "richards_B = - richards_h_field.assemble_mass_matrix(richards_grid) @ pg.div(richards_grid)"
   ]
  },
  {
   "cell_type": "code",
   "execution_count": 29,
   "id": "3283a37e",
   "metadata": {},
   "outputs": [],
   "source": [
    "def vertical_projection_matrix(domain):\n",
    "    data = []\n",
    "    row = []\n",
    "    col = []\n",
    "\n",
    "    for c in range(domain.num_cells):\n",
    "        x_center = domain.cell_centers[:, c]\n",
    "        id = np.max(np.where( boundary_grid.nodes[0, :] < x_center[0] ))\n",
    "\n",
    "        data.append(1)\n",
    "        row.append(c)\n",
    "        col.append(id)\n",
    "\n",
    "    return sps.coo_matrix( (data, (row, col)), shape=(domain.num_cells, boundary_grid.num_cells) ).tocsr()"
   ]
  },
  {
   "cell_type": "markdown",
   "id": "6abc31d8",
   "metadata": {},
   "source": [
    "### Solving stage"
   ]
  },
  {
   "cell_type": "code",
   "execution_count": 30,
   "id": "9214857c",
   "metadata": {},
   "outputs": [
    {
     "data": {
      "text/plain": [
       "(630, 1240)"
      ]
     },
     "execution_count": 30,
     "metadata": {},
     "output_type": "execute_result"
    }
   ],
   "source": [
    "darcy_q, richards_q"
   ]
  },
  {
   "cell_type": "code",
   "execution_count": 31,
   "id": "1da61526",
   "metadata": {},
   "outputs": [],
   "source": [
    "false_mask = np.zeros(shape=(darcy_h + darcy_q + dof_eta + richards_h + richards_q + dof_eta-1), dtype=bool)\n",
    "\n",
    "darcy_q_mask = false_mask.copy()\n",
    "darcy_q_mask[:(darcy_q)] = True\n",
    "darcy_q_mask = np.where(darcy_q_mask)\n",
    "\n",
    "darcy_h_mask = false_mask.copy()\n",
    "darcy_h_mask[(darcy_q):(darcy_q + darcy_h)] = True\n",
    "darcy_h_mask = np.where(darcy_h_mask)\n",
    "\n",
    "richards_q_mask = false_mask.copy()\n",
    "richards_q_mask[(darcy_q + darcy_h):(darcy_q + darcy_h + richards_q)] = True\n",
    "richards_q_mask = np.where(richards_q_mask)\n",
    "\n",
    "richards_h_mask = false_mask.copy()\n",
    "richards_h_mask[(darcy_q + darcy_h + richards_q):(darcy_q + darcy_h + richards_q + richards_h)] = True\n",
    "richards_h_mask = np.where(richards_h_mask)\n",
    "\n",
    "eta_mask = false_mask.copy()\n",
    "eta_mask[(darcy_q + darcy_h + richards_q + richards_h):(darcy_q + darcy_h + richards_q + richards_h + dof_eta)] = True\n",
    "eta_mask = np.where(eta_mask)\n",
    "\n",
    "lambda_mask = false_mask.copy()\n",
    "lambda_mask[-(dof_eta-1):] = 1\n",
    "lambda_mask = np.where(lambda_mask)"
   ]
  },
  {
   "cell_type": "code",
   "execution_count": 32,
   "id": "115566c1",
   "metadata": {},
   "outputs": [],
   "source": [
    "def cell_eta(eta_dof):\n",
    "    _rows = []\n",
    "\n",
    "    for c in range( richards_grid.num_cells):\n",
    "        eta_pos = np.max(np.where( boundary_grid.nodes[0, :] < richards_grid.cell_centers[0, c] ))\n",
    "        coeff = (richards_grid.cell_centers[0, c] - boundary_grid.nodes[0, eta_pos]) / (boundary_grid.nodes[0, eta_pos+1] - boundary_grid.nodes[0, eta_pos])\n",
    "\n",
    "        _rows.append(eta_dof[eta_pos + 1] * (1-coeff) + eta_dof[eta_pos + 1] * coeff)\n",
    "\n",
    "    return np.hstack((_rows))"
   ]
  },
  {
   "cell_type": "code",
   "execution_count": 33,
   "id": "551da31d",
   "metadata": {},
   "outputs": [],
   "source": [
    "cell_proj_eta = [vertical_projection_matrix(darcy_grid), vertical_projection_matrix(richards_grid)]\n",
    "\n",
    "# Helper function to save the given solution to a VTU file\n",
    "def save_step(sol, proj_q, proj_h, proj_eta, saver, i):\n",
    "    for sav, actual_proj_q, actual_proj_h, actual_cell_proj_eta, dom, q_mask, h_mask in zip(saver, proj_q, proj_h, cell_proj_eta, [darcy_grid, richards_grid], [darcy_q_mask, richards_q_mask], [darcy_h_mask, richards_h_mask]):\n",
    "        ins = list()\n",
    "\n",
    "        ins.append((dom, \"cell_q\", ( actual_proj_q @ sol[q_mask] ).reshape((3, -1), order=\"F\")))\n",
    "        ins.append((dom, \"cell_h\",   actual_proj_h @ sol[h_mask]))\n",
    "\n",
    "        etas = cell_eta( sol[eta_mask] )\n",
    "        dom_height = ((A - etas ) * richards_grid.cell_centers[1,:] + etas) if dom == richards_grid else darcy_grid.cell_centers[1,:]\n",
    "\n",
    "        ins.append((dom, \"cell_p\",   actual_proj_h @ sol[h_mask] -  dom_height))\n",
    "        ins.append((dom, \"cell_eta\", actual_cell_proj_eta @ proj_eta @ sol[eta_mask]))\n",
    "\n",
    "        sav.write_vtu(ins, time_step=i)  "
   ]
  },
  {
   "cell_type": "code",
   "execution_count": 34,
   "id": "3cd1d372",
   "metadata": {},
   "outputs": [],
   "source": [
    "if os.path.exists(output_directory):\n",
    "    shutil.rmtree(output_directory)"
   ]
  },
  {
   "cell_type": "code",
   "execution_count": 35,
   "id": "d88812b0",
   "metadata": {},
   "outputs": [],
   "source": [
    "# Initial conditions\n",
    "sol = [np.zeros(shape=(darcy_h + darcy_q + dof_eta + richards_h + richards_q + dof_eta-1,))]\n",
    "\n",
    "sol[-1][darcy_h_mask]    = darcy_h_field.interpolate(   darcy_grid, initial_h_func)\n",
    "sol[-1][richards_h_mask] = richards_h_field.interpolate(richards_grid, initial_h_func)\n",
    "\n",
    "sol[-1][eta_mask] = gamma_field.interpolate(boundary_grid, init_eta)"
   ]
  },
  {
   "cell_type": "code",
   "execution_count": 36,
   "id": "8cfd1a18",
   "metadata": {},
   "outputs": [],
   "source": [
    "# Prepare helper matrices\n",
    "proj_q   = [darcy_q_field.eval_at_cell_centers(darcy_grid), richards_q_field.eval_at_cell_centers(richards_grid)]\n",
    "proj_h   = [darcy_h_field.eval_at_cell_centers(darcy_grid), richards_h_field.eval_at_cell_centers(richards_grid)]\n",
    "proj_eta = gamma_field.eval_at_cell_centers(boundary_grid)"
   ]
  },
  {
   "cell_type": "code",
   "execution_count": 37,
   "id": "d7b9af8f",
   "metadata": {},
   "outputs": [],
   "source": [
    "# Save the initial solution\n",
    "saver = [pp.Exporter(darcy_grid, 'sol_D', folder_name=output_directory), pp.Exporter(richards_grid, 'sol_R', folder_name=output_directory)]\n",
    "save_step(sol[-1], proj_q, proj_h, proj_eta, saver, 0)"
   ]
  },
  {
   "cell_type": "code",
   "execution_count": 38,
   "id": "9d6460c2",
   "metadata": {},
   "outputs": [],
   "source": [
    "# Fixed rhs\n",
    "fixed_rhs = np.zeros(shape=(darcy_h + darcy_q + richards_h + richards_q + dof_eta + (dof_eta-1),))"
   ]
  },
  {
   "cell_type": "code",
   "execution_count": 39,
   "id": "2bac2e8c",
   "metadata": {},
   "outputs": [],
   "source": [
    "%%cython\n",
    "import numpy as np\n",
    "\n",
    "def q1(x: float, y: float):\n",
    "    return np.array([-x, -y])\n",
    "\n",
    "def q2(x: float, y: float):\n",
    "    return np.array([x-1, y])\n",
    "\n",
    "def q3(x: float, y: float):\n",
    "    return np.array([-x, 1-y])\n",
    "\n",
    "def find_ordering(coord: np.array, N):\n",
    "    lx = np.argmin(coord[0, :])\n",
    "    rx = np.argmax(coord[0, :])\n",
    "    mx = np.setdiff1d(np.array([0,1,2]), np.array([lx, rx]))[0]\n",
    "\n",
    "    # Vertical Alignment\n",
    "    if np.abs( coord[0, lx] - coord[0, mx] ) < 1 / (2 * N):\n",
    "        # lx and mx vertical aligned, rx no\n",
    "        up =   lx if np.argmax(coord[1, np.array([lx, mx])]) == 0 else mx\n",
    "        down = lx if np.argmin(coord[1, np.array([lx, mx])]) == 0 else mx\n",
    "\n",
    "        if np.abs( coord[1, up] - coord[1, rx] ) < 1 / (2 * N):\n",
    "            return [up, down, rx]\n",
    "        else:\n",
    "            return [down, rx, up]\n",
    "    else:\n",
    "        # rx and mx vertical aligned, lx no\n",
    "        up =   rx if np.argmax(coord[1, np.array([rx, mx])]) == 0 else mx\n",
    "        down = rx if np.argmin(coord[1, np.array([rx, mx])]) == 0 else mx\n",
    "\n",
    "        if np.abs( coord[1, up] - coord[1, lx] ) < 1 / (2 * N):\n",
    "            return [up, lx, down]\n",
    "        else:\n",
    "            return [down, up, lx]"
   ]
  },
  {
   "cell_type": "code",
   "execution_count": 40,
   "id": "33e80d2d",
   "metadata": {},
   "outputs": [],
   "source": [
    "%%cython\n",
    "import numpy as np\n",
    "\n",
    "\n",
    "def generic_K_func(chi_eta, chi_x3, grad_eta, K11, K12, K21, K22):\n",
    "    k11 = lambda x,y: ( K22(x,y) + chi_eta(x,y) * grad_eta * ( chi_eta(x,y) * grad_eta * K11(x,y) - K12(x,y) - K21(x,y) ) ) / chi_x3(x,y)\n",
    "    k12 = lambda x,y: chi_eta(x,y) * grad_eta * K11(x,y) - K12(x,y)\n",
    "    k21 = lambda x,y: chi_eta(x,y) * grad_eta * K11(x,y) - K21(x,y)\n",
    "    k22 = lambda x,y: chi_x3(x,y) * K11(x,y)\n",
    "\n",
    "    return lambda x,y: np.array([[k11(x,y), k12(x,y)],\n",
    "                                 [k21(x,y), k22(x,y)]]) / ( K11(x,y) * K22(x,y) - K12(x,y) * K21(x,y) )\n",
    "\n",
    "\n",
    "def Darcy_K_func(base_height: float, element_height: float, m: int, ls_eta: float, rs_eta: float, grad_eta: float, K11, K12, K21, K22):\n",
    "    coord = lambda t: ((m+1) * (1-t) - (m-1) * t) / 2\n",
    "\n",
    "    chi_x3  = lambda x,y: (1-coord(y)) * ls_eta + coord(y) * rs_eta\n",
    "    chi_eta = lambda x,y: base_height + (1 - coord(x)) * element_height\n",
    "\n",
    "    return generic_K_func( chi_eta, chi_x3, grad_eta, K11, K12, K21, K22 )\n",
    "\n",
    "\n",
    "def Richards_K_func(base_height: float, element_height: float, m: int, ls_eta: float, rs_eta: float, grad_eta: float, psi: float, K11, K12, K21, K22, A):\n",
    "    coord = lambda t: ((m+1) * (1-t) - (m-1) * t) / 2\n",
    "\n",
    "    chi_x3  = lambda x,y: A - ((1-coord(y)) * ls_eta + coord(y) * rs_eta)\n",
    "    chi_eta = lambda x,y: 2 - (base_height + (1-coord(x)) * element_height)\n",
    "    \n",
    "    return generic_K_func( chi_eta, chi_x3, grad_eta, lambda x,y: K11(x,y,psi), lambda x,y: K12(x,y,psi), lambda x,y: K21(x,y,psi), lambda x,y: K22(x,y,psi) )"
   ]
  },
  {
   "cell_type": "code",
   "execution_count": 41,
   "id": "494b1f36",
   "metadata": {},
   "outputs": [],
   "source": [
    "def Darcy_local_q(coord, sign, ls_eta, rs_eta, grad_eta):\n",
    "    M = np.zeros(shape=(3,3))\n",
    "\n",
    "    ordering = find_ordering(coord, boundary_grid.num_nodes-1)\n",
    "    orientation = [-1, 1, -1] * sign[ordering]\n",
    "\n",
    "    q_funcs = [q1, q2, q3]\n",
    "\n",
    "    K_local = Darcy_K_func(np.min(coord[1,:]), (np.max(coord[1, :]) - np.min(coord[1, :])), np.prod(sign), ls_eta, rs_eta, grad_eta, D_K11, D_K12, D_K21, D_K22)\n",
    "\n",
    "    for i in range(3):\n",
    "        for j in range(3):\n",
    "            integrand = lambda ys,x: np.array([q_funcs[j](x,y).T @ K_local(x, y) @ q_funcs[i](x,y) for y in np.array(ys)])\n",
    "            inside = lambda xs, n: np.array([integrate.fixed_quad(integrand, 0, 1-x, args=(x,), n=n)[0] for x in np.array(xs)])\n",
    "            M[ordering[i], ordering[j]] = orientation[j] * orientation[i] * integrate.fixed_quad(inside, 0, 1, n=quad_order, args=(quad_order,))[0]\n",
    "    \n",
    "    return M"
   ]
  },
  {
   "cell_type": "code",
   "execution_count": 42,
   "id": "6f6cc0ab",
   "metadata": {},
   "outputs": [],
   "source": [
    "def Richards_local_q(coord, sign, ls_eta, rs_eta, grad_eta, psi):\n",
    "    M = np.zeros(shape=(3,3))\n",
    "\n",
    "    ordering = find_ordering(coord, boundary_grid.num_nodes-1)\n",
    "    orientation = [-1, 1, -1] * sign[ordering]\n",
    "\n",
    "    q_funcs = [q1, q2, q3]\n",
    "\n",
    "    K_local = Richards_K_func(np.min(coord[1,:])+1, (np.max(coord[1, :]) - np.min(coord[1, :])), np.prod(sign), ls_eta, rs_eta, grad_eta, psi, R_K11, R_K12, R_K21, R_K22, A)\n",
    "\n",
    "\n",
    "    for i in range(3):\n",
    "        for j in range(3):\n",
    "            integrand = lambda ys,x: np.array([q_funcs[j](x,y).T @ K_local(x, y) @ q_funcs[i](x,y) for y in np.array(ys)])\n",
    "            inside = lambda xs, n: np.array([integrate.fixed_quad(integrand, 0, 1-x, args=(x,), n=n)[0] for x in np.array(xs)])\n",
    "            M[ordering[i], ordering[j]] = orientation[j] * orientation[i] * integrate.fixed_quad(inside, 0, 1, n=quad_order, args=(quad_order,))[0]\n",
    "    \n",
    "    return M"
   ]
  },
  {
   "cell_type": "code",
   "execution_count": 43,
   "id": "8fd6c597",
   "metadata": {},
   "outputs": [
    {
     "name": "stdout",
     "output_type": "stream",
     "text": [
      "4.59 ms ± 244 µs per loop (mean ± std. dev. of 7 runs, 100 loops each)\n"
     ]
    }
   ],
   "source": [
    "%%timeit\n",
    "Darcy_local_q(np.array([[0, 1, 0], [0, 0, 1]]), np.array([-1, -1, 1]), 2, 1, -1)"
   ]
  },
  {
   "cell_type": "code",
   "execution_count": 44,
   "id": "7f57e2a1",
   "metadata": {},
   "outputs": [
    {
     "name": "stdout",
     "output_type": "stream",
     "text": [
      "4.69 ms ± 81.5 µs per loop (mean ± std. dev. of 7 runs, 100 loops each)\n"
     ]
    }
   ],
   "source": [
    "%%timeit\n",
    "Richards_local_q(np.array([[0, 1, 0], [0, 0, 1]]), np.array([-1, -1, 1]), 2, 1, -1, 0.75)"
   ]
  },
  {
   "cell_type": "code",
   "execution_count": 45,
   "id": "9ae3053b",
   "metadata": {},
   "outputs": [],
   "source": [
    "darcy_data = {}\n",
    "richards_data = {}"
   ]
  },
  {
   "cell_type": "code",
   "execution_count": 46,
   "id": "c5ab8ab8",
   "metadata": {},
   "outputs": [],
   "source": [
    "def mass_q(eta_dofs, h_dofs, darcy):\n",
    "\n",
    "    if darcy:\n",
    "        int_data = darcy_data\n",
    "        int_subdomain = darcy_grid\n",
    "        int_q_field = darcy_q_field\n",
    "    else:\n",
    "        int_data = richards_data\n",
    "        int_subdomain = richards_grid\n",
    "        int_q_field = richards_q_field\n",
    "\n",
    "\n",
    "    # Gradient of eta and pointwise value\n",
    "    grad_eta   = eta_diff @ eta_dofs\n",
    "\n",
    "    faces, _, sign = sps.find(int_subdomain.cell_faces)\n",
    "\n",
    "\n",
    "    _, _, _, _, _, node_coords = pp.map_geometry.map_grid(\n",
    "            int_subdomain, int_data.get(\"deviation_from_plane_tol\", 1e-5)\n",
    "        )\n",
    "    \n",
    "    dim = int_subdomain.dim\n",
    "    \n",
    "    node_coords = node_coords[: dim, :]\n",
    "\n",
    "    int_q_field._compute_cell_face_to_opposite_node(int_subdomain, int_data)\n",
    "    cell_face_to_opposite_node = int_data[int_q_field.cell_face_to_opposite_node]\n",
    "    \n",
    "    size_A = np.power(int_subdomain.dim + 1, 2) * int_subdomain.num_cells\n",
    "    rows_A = np.empty(size_A, dtype=int)\n",
    "    cols_A = np.empty(size_A, dtype=int)\n",
    "    data_A = np.empty(size_A)\n",
    "    idx_A = 0\n",
    "\n",
    "    for c in range(int_subdomain.num_cells):\n",
    "        # For the current cell retrieve its faces\n",
    "        loc = slice(int_subdomain.cell_faces.indptr[c], int_subdomain.cell_faces.indptr[c + 1])\n",
    "        faces_loc = faces[loc]\n",
    "    \n",
    "        eta_cell = np.max(np.where( boundary_grid.nodes[0, :] < int_subdomain.cell_centers[0, c] ))\n",
    "\n",
    "        node = np.flip(np.sort(cell_face_to_opposite_node[c, :]))\n",
    "\n",
    "        coord_loc = node_coords[:, node]\n",
    "\n",
    "        if darcy:\n",
    "            local = Darcy_local_q(coord_loc, sign[loc], eta_dofs[eta_cell], eta_dofs[eta_cell+1], grad_eta[eta_cell])\n",
    "        else:\n",
    "            coeff = (int_subdomain.cell_centers[0, c] - boundary_grid.face_centers[0, eta_cell]) / (boundary_grid.face_centers[0, eta_cell+1] - boundary_grid.face_centers[0, eta_cell])\n",
    "            eta_mean = eta_dofs[eta_cell] * (1 - coeff) + eta_dofs[eta_cell+1] * coeff\n",
    "            \n",
    "            local = Richards_local_q(coord_loc, sign[loc], eta_dofs[eta_cell], eta_dofs[eta_cell+1], grad_eta[eta_cell], h_dofs[c]-( (A-eta_mean) * int_subdomain.cell_centers[1, c] + eta_mean))\n",
    "\n",
    "        # Save values for Hdiv-mass local matrix in the global structure\n",
    "        cols = np.concatenate(faces_loc.size * [[faces_loc]])\n",
    "        loc_idx = slice(idx_A, idx_A + local.size)\n",
    "        rows_A[loc_idx] = cols.T.ravel()\n",
    "        cols_A[loc_idx] = cols.ravel()\n",
    "        data_A[loc_idx] = local.ravel()\n",
    "        idx_A += local.size\n",
    "\n",
    "        #print('')\n",
    "    \n",
    "    return sps.coo_matrix((data_A, (rows_A, cols_A))).tocsr()"
   ]
  },
  {
   "cell_type": "code",
   "execution_count": 47,
   "id": "842ff4d3",
   "metadata": {},
   "outputs": [],
   "source": [
    "# Helper function to project a function evaluated in the cell center to FEM (scalar)\n",
    "def project_psi_to_fe(to_project, region):\n",
    "    return to_project * region.cell_volumes"
   ]
  },
  {
   "cell_type": "markdown",
   "id": "93670247",
   "metadata": {},
   "source": [
    "$$\n",
    "\\left(\n",
    "\\begin{array}{cc} \n",
    "R^D M_u^D (R^D)^T & R^D (B^D)^T & R^D M_u^D R_{(R\\, to \\,D)} (I - R^R) & 0 & 0\\\\\n",
    "-B^D (R^D)^T & 0 & -B^D R_{(R\\, to \\,D)} (I - R^R) & 0 & 0\\\\\n",
    "0 & 0 & M_u^R & (B^R)^T & B_{\\Gamma}^T\\\\\n",
    "0 & 0 & - B^R & \\frac{L}{\\Delta t} M^R_h & 0\\\\\n",
    "0 & 0 & -B_{\\Gamma} & 0 & \\frac{\\phi}{\\Delta t} M_{\\Gamma}\n",
    "\\end{array}\n",
    "\\right)\n",
    "\\left(\n",
    "\\begin{array}{c} \n",
    "\\bm{(q_D)^{n+1}_{k+1}}\\\\ \n",
    "\\bm{(h_D)^{n+1}_{k+1}}\\\\\n",
    "\\bm{(q_R)^{n+1}_{k+1}}\\\\ \n",
    "\\bm{(h_R)^{n+1}_{k+1}}\\\\\n",
    "\\bm{\\eta^{n+1}_{k+1}}\n",
    "\\end{array}\n",
    "\\right)\n",
    "=\n",
    "\\left(\n",
    "\\begin{array}{c} \n",
    "\\bm{BC}^{n+1}_D\\\\ \n",
    "0\\\\\n",
    "\\bm{BC}^{n+1}_R\\\\ \n",
    "\\frac{L}{\\Delta t} M_h^R \\bm{h}^n + M_h \\frac{\\Theta(h^{n}) - \\Theta(h^{n+1}_{k})}{\\Delta t}\\\\\n",
    "\\frac{\\phi}{\\Delta t} M_{\\Gamma}^R \\bm{\\eta^{n}}\n",
    "\\end{array}\n",
    "\\right)\n",
    "$$"
   ]
  },
  {
   "cell_type": "code",
   "execution_count": 48,
   "id": "cc432d29",
   "metadata": {},
   "outputs": [],
   "source": [
    "darcy_restrict_to_gamma = np.zeros(shape=(dof_eta-1, darcy_q))\n",
    "darcy_restrict_to_gamma[ list(range(dof_eta-1)), np.where( darcy_grid.face_centers[1,:] == np.max(darcy_grid.face_centers[1,:])) ] = 1\n",
    "darcy_restrict_to_gamma = sps.csr_matrix(darcy_restrict_to_gamma)"
   ]
  },
  {
   "cell_type": "code",
   "execution_count": 49,
   "id": "edd706bd",
   "metadata": {},
   "outputs": [],
   "source": [
    "richards_restrict_to_gamma = np.zeros(shape=(dof_eta-1, richards_q))\n",
    "richards_restrict_to_gamma[ list(range(dof_eta-1)), np.where( richards_grid.face_centers[1,:] == np.min(richards_grid.face_centers[1,:])) ] = 1\n",
    "richards_restrict_to_gamma = sps.csr_matrix(richards_restrict_to_gamma)"
   ]
  },
  {
   "cell_type": "code",
   "execution_count": 50,
   "id": "6036f9c2",
   "metadata": {},
   "outputs": [
    {
     "name": "stdout",
     "output_type": "stream",
     "text": [
      "Time 0.02083\n",
      "--- Preparing time_fixed rhs...... OK (Time: 0.00306 s)\n",
      "--- Preparing step debug savers... "
     ]
    },
    {
     "name": "stdout",
     "output_type": "stream",
     "text": [
      "OK (Time: 0.04069 s)\n",
      "--- Starting non-linear solver:\n",
      "\n",
      "--- Iteration 1\n",
      "------ Computation of cell-wise eta............... OK (Time: 0.03575 s)\n",
      "------ Assembling rhs for iteration............... OK (Time: 0.00019 s)\n",
      "------ Assembling Darcy mass matrix (with K)...... OK (Time: 1.74851 s)\n",
      "------ Assembling Richards mass matrix (with K)... OK (Time: 5.00829 s)\n",
      "------ Assembling final system.................... OK (Time: 0.00487 s)\n",
      "------ Solving.................................... [ 1.05450855e-07  1.11818814e-07  1.19970879e-07  1.28755087e-07\n",
      "  1.36781684e-07  1.41831525e-07  1.40427596e-07  1.28239095e-07\n",
      "  1.01899853e-07  6.20239236e-08  1.53054092e-08 -2.75760301e-08\n",
      " -5.79822029e-08 -7.30214198e-08 -7.47447191e-08 -6.72947921e-08\n",
      " -5.45489635e-08 -3.89389611e-08 -2.06184182e-08  6.37221776e-09] [ 1.05450855e-07  1.11818814e-07  1.19970879e-07  1.28755087e-07\n",
      "  1.36781684e-07  1.41831525e-07  1.40427596e-07  1.28239095e-07\n",
      "  1.01899853e-07  6.20239237e-08  1.53054095e-08 -2.75760304e-08\n",
      " -5.79822030e-08 -7.30214198e-08 -7.47447193e-08 -6.72947928e-08\n",
      " -5.45489636e-08 -3.89389611e-08 -2.06184181e-08  6.37221774e-09]\n",
      "OK (Time: 0.01199 s)\n",
      "--- Iteration time: 6.81005 s\n",
      "--- Iteration #001, error L2 relative psi:    0.0054973963\n",
      "\n",
      "--- Iteration 2\n",
      "------ Computation of cell-wise eta............... OK (Time: 0.00819 s)\n",
      "------ Assembling rhs for iteration............... OK (Time: 0.00019 s)\n",
      "------ Assembling Darcy mass matrix (with K)...... OK (Time: 1.81926 s)\n",
      "------ Assembling Richards mass matrix (with K)... OK (Time: 4.41057 s)\n",
      "------ Assembling final system.................... OK (Time: 0.00272 s)\n",
      "------ Solving.................................... [ 1.92030405e-07  2.00866570e-07  2.12720023e-07  2.25326692e-07\n",
      "  2.36019442e-07  2.41026128e-07  2.34961355e-07  2.11592757e-07\n",
      "  1.66611828e-07  1.01872953e-07  2.79693422e-08 -3.92198921e-08\n",
      " -8.71478254e-08 -1.11659144e-07 -1.15705165e-07 -1.05256181e-07\n",
      " -8.59061171e-08 -6.10090827e-08 -2.98264918e-08  2.10574546e-08] [ 1.92030405e-07  2.00866570e-07  2.12720023e-07  2.25326692e-07\n",
      "  2.36019443e-07  2.41026128e-07  2.34961355e-07  2.11592757e-07\n",
      "  1.66611828e-07  1.01872953e-07  2.79693413e-08 -3.92198913e-08\n",
      " -8.71478255e-08 -1.11659144e-07 -1.15705165e-07 -1.05256181e-07\n",
      " -8.59061172e-08 -6.10090826e-08 -2.98264919e-08  2.10574544e-08]\n",
      "OK (Time: 0.00852 s)\n",
      "--- Iteration time: 6.24979 s\n",
      "--- Iteration #002, error L2 relative psi:    0.0008411422\n",
      "\n",
      "--- Iteration 3\n",
      "------ Computation of cell-wise eta............... OK (Time: 0.00803 s)\n",
      "------ Assembling rhs for iteration............... OK (Time: 0.00019 s)\n",
      "------ Assembling Darcy mass matrix (with K)...... OK (Time: 1.68419 s)\n",
      "------ Assembling Richards mass matrix (with K)... OK (Time: 4.31951 s)\n",
      "------ Assembling final system.................... OK (Time: 0.00297 s)\n",
      "------ Solving.................................... [ 2.47634579e-07  2.57523829e-07  2.70450352e-07  2.83852030e-07\n",
      "  2.94505264e-07  2.97943923e-07  2.88035121e-07  2.57944195e-07\n",
      "  2.03240116e-07  1.26466984e-07  3.97567649e-08 -3.91033216e-08\n",
      " -9.60489521e-08 -1.26237370e-07 -1.32698827e-07 -1.21904017e-07\n",
      " -9.99789236e-08 -7.04260231e-08 -3.13633682e-08  3.71911194e-08] [ 2.47634579e-07  2.57523829e-07  2.70450352e-07  2.83852030e-07\n",
      "  2.94505264e-07  2.97943923e-07  2.88035121e-07  2.57944195e-07\n",
      "  2.03240116e-07  1.26466984e-07  3.97567658e-08 -3.91033218e-08\n",
      " -9.60489521e-08 -1.26237370e-07 -1.32698827e-07 -1.21904017e-07\n",
      " -9.99789237e-08 -7.04260231e-08 -3.13633683e-08  3.71911194e-08]\n",
      "OK (Time: 0.00872 s)\n",
      "--- Iteration time: 6.02395 s\n",
      "--- Iteration #003, error L2 relative psi:    0.0000871803\n",
      "\n",
      "--- Iteration 4\n",
      "------ Computation of cell-wise eta............... OK (Time: 0.00783 s)\n",
      "------ Assembling rhs for iteration............... OK (Time: 0.00018 s)\n",
      "------ Assembling Darcy mass matrix (with K)...... OK (Time: 1.69534 s)\n",
      "------ Assembling Richards mass matrix (with K)... OK (Time: 4.2837 s)\n",
      "------ Assembling final system.................... OK (Time: 0.0031 s)\n",
      "------ Solving.................................... [ 2.78562056e-07  2.88785422e-07  3.01795676e-07  3.14979129e-07\n",
      "  3.24925166e-07  3.26936997e-07  3.14666299e-07  2.81153362e-07\n",
      "  2.22022211e-07  1.40116177e-07  4.80877457e-08 -3.56718094e-08\n",
      " -9.65982082e-08 -1.29569318e-07 -1.37554937e-07 -1.27097003e-07\n",
      " -1.04390105e-07 -7.27840539e-08 -2.93942648e-08  5.05644607e-08] [ 2.78562056e-07  2.88785422e-07  3.01795676e-07  3.14979129e-07\n",
      "  3.24925167e-07  3.26936997e-07  3.14666299e-07  2.81153363e-07\n",
      "  2.22022211e-07  1.40116177e-07  4.80877460e-08 -3.56718097e-08\n",
      " -9.65982082e-08 -1.29569318e-07 -1.37554939e-07 -1.27097003e-07\n",
      " -1.04390105e-07 -7.27840539e-08 -2.93942649e-08  5.05644607e-08]\n",
      "OK (Time: 0.0083 s)\n",
      "--- Iteration time: 5.99878 s\n",
      "--- Iteration #004, error L2 relative psi:    0.0000034173\n",
      "\n",
      "OK (Total Time: 25.23144 s)\n",
      "Time 0.04167\n",
      "--- Preparing time_fixed rhs...... OK (Time: 0.00178 s)\n",
      "--- Preparing step debug savers... OK (Time: 0.02501 s)\n",
      "--- Starting non-linear solver:\n",
      "\n",
      "--- Iteration 1\n",
      "------ Computation of cell-wise eta............... OK (Time: 0.00784 s)\n",
      "------ Assembling rhs for iteration............... OK (Time: 0.00019 s)\n",
      "------ Assembling Darcy mass matrix (with K)...... OK (Time: 1.67668 s)\n",
      "------ Assembling Richards mass matrix (with K)... "
     ]
    },
    {
     "ename": "KeyboardInterrupt",
     "evalue": "",
     "output_type": "error",
     "traceback": [
      "\u001b[0;31m---------------------------------------------------------------------------\u001b[0m",
      "\u001b[0;31mKeyboardInterrupt\u001b[0m                         Traceback (most recent call last)",
      "\u001b[1;32m/workspaces/richards/tests/coupling_test/actual_coupling/lagrange_multiplier.ipynb Cell 67\u001b[0m line \u001b[0;36m6\n\u001b[1;32m     <a href='vscode-notebook-cell://dev-container%2B7b22686f737450617468223a225c5c5c5c77736c2e6c6f63616c686f73745c5c5562756e74755c5c686f6d655c5c6661636375735c5c7269636861726473222c226c6f63616c446f636b6572223a66616c73652c22636f6e66696746696c65223a7b22246d6964223a312c2270617468223a222f686f6d652f6661636375732f72696368617264732f2e646576636f6e7461696e65722f646576636f6e7461696e65722e6a736f6e222c22736368656d65223a227673636f64652d66696c65486f7374227d7d/workspaces/richards/tests/coupling_test/actual_coupling/lagrange_multiplier.ipynb#Y123sdnNjb2RlLXJlbW90ZQ%3D%3D?line=61'>62</a>\u001b[0m \u001b[39mprint\u001b[39m(\u001b[39m'\u001b[39m\u001b[39m------ Assembling Richards mass matrix (with K)... \u001b[39m\u001b[39m'\u001b[39m, end\u001b[39m=\u001b[39m\u001b[39m'\u001b[39m\u001b[39m'\u001b[39m)\n\u001b[1;32m     <a href='vscode-notebook-cell://dev-container%2B7b22686f737450617468223a225c5c5c5c77736c2e6c6f63616c686f73745c5c5562756e74755c5c686f6d655c5c6661636375735c5c7269636861726473222c226c6f63616c446f636b6572223a66616c73652c22636f6e66696746696c65223a7b22246d6964223a312c2270617468223a222f686f6d652f6661636375732f72696368617264732f2e646576636f6e7461696e65722f646576636f6e7461696e65722e6a736f6e222c22736368656d65223a227673636f64652d66696c65486f7374227d7d/workspaces/richards/tests/coupling_test/actual_coupling/lagrange_multiplier.ipynb#Y123sdnNjb2RlLXJlbW90ZQ%3D%3D?line=63'>64</a>\u001b[0m tmp_time \u001b[39m=\u001b[39m time\u001b[39m.\u001b[39mtime()\n\u001b[0;32m---> <a href='vscode-notebook-cell://dev-container%2B7b22686f737450617468223a225c5c5c5c77736c2e6c6f63616c686f73745c5c5562756e74755c5c686f6d655c5c6661636375735c5c7269636861726473222c226c6f63616c446f636b6572223a66616c73652c22636f6e66696746696c65223a7b22246d6964223a312c2270617468223a222f686f6d652f6661636375732f72696368617264732f2e646576636f6e7461696e65722f646576636f6e7461696e65722e6a736f6e222c22736368656d65223a227673636f64652d66696c65486f7374227d7d/workspaces/richards/tests/coupling_test/actual_coupling/lagrange_multiplier.ipynb#Y123sdnNjb2RlLXJlbW90ZQ%3D%3D?line=64'>65</a>\u001b[0m richards_M_u \u001b[39m=\u001b[39m mass_q(prev[eta_mask], proj_h[\u001b[39m1\u001b[39m] \u001b[39m@\u001b[39m prev[richards_h_mask], darcy\u001b[39m=\u001b[39m\u001b[39mFalse\u001b[39;00m) \u001b[39m# pg.face_mass(mdg, q_field)\u001b[39;00m\n\u001b[1;32m     <a href='vscode-notebook-cell://dev-container%2B7b22686f737450617468223a225c5c5c5c77736c2e6c6f63616c686f73745c5c5562756e74755c5c686f6d655c5c6661636375735c5c7269636861726473222c226c6f63616c446f636b6572223a66616c73652c22636f6e66696746696c65223a7b22246d6964223a312c2270617468223a222f686f6d652f6661636375732f72696368617264732f2e646576636f6e7461696e65722f646576636f6e7461696e65722e6a736f6e222c22736368656d65223a227673636f64652d66696c65486f7374227d7d/workspaces/richards/tests/coupling_test/actual_coupling/lagrange_multiplier.ipynb#Y123sdnNjb2RlLXJlbW90ZQ%3D%3D?line=66'>67</a>\u001b[0m \u001b[39mprint\u001b[39m(\u001b[39mf\u001b[39m\u001b[39m'\u001b[39m\u001b[39mOK (Time: \u001b[39m\u001b[39m{\u001b[39;00m\u001b[39mround\u001b[39m(time\u001b[39m.\u001b[39mtime()\u001b[39m \u001b[39m\u001b[39m-\u001b[39m\u001b[39m \u001b[39mtmp_time,\u001b[39m \u001b[39m\u001b[39m5\u001b[39m)\u001b[39m}\u001b[39;00m\u001b[39m s)\u001b[39m\u001b[39m'\u001b[39m)\n\u001b[1;32m     <a href='vscode-notebook-cell://dev-container%2B7b22686f737450617468223a225c5c5c5c77736c2e6c6f63616c686f73745c5c5562756e74755c5c686f6d655c5c6661636375735c5c7269636861726473222c226c6f63616c446f636b6572223a66616c73652c22636f6e66696746696c65223a7b22246d6964223a312c2270617468223a222f686f6d652f6661636375732f72696368617264732f2e646576636f6e7461696e65722f646576636f6e7461696e65722e6a736f6e222c22736368656d65223a227673636f64652d66696c65486f7374227d7d/workspaces/richards/tests/coupling_test/actual_coupling/lagrange_multiplier.ipynb#Y123sdnNjb2RlLXJlbW90ZQ%3D%3D?line=67'>68</a>\u001b[0m \u001b[39mprint\u001b[39m(\u001b[39m'\u001b[39m\u001b[39m------ Assembling final system.................... \u001b[39m\u001b[39m'\u001b[39m, end\u001b[39m=\u001b[39m\u001b[39m'\u001b[39m\u001b[39m'\u001b[39m)\n",
      "\u001b[1;32m/workspaces/richards/tests/coupling_test/actual_coupling/lagrange_multiplier.ipynb Cell 67\u001b[0m line \u001b[0;36m5\n\u001b[1;32m     <a href='vscode-notebook-cell://dev-container%2B7b22686f737450617468223a225c5c5c5c77736c2e6c6f63616c686f73745c5c5562756e74755c5c686f6d655c5c6661636375735c5c7269636861726473222c226c6f63616c446f636b6572223a66616c73652c22636f6e66696746696c65223a7b22246d6964223a312c2270617468223a222f686f6d652f6661636375732f72696368617264732f2e646576636f6e7461696e65722f646576636f6e7461696e65722e6a736f6e222c22736368656d65223a227673636f64652d66696c65486f7374227d7d/workspaces/richards/tests/coupling_test/actual_coupling/lagrange_multiplier.ipynb#Y123sdnNjb2RlLXJlbW90ZQ%3D%3D?line=49'>50</a>\u001b[0m     coeff \u001b[39m=\u001b[39m (int_subdomain\u001b[39m.\u001b[39mcell_centers[\u001b[39m0\u001b[39m, c] \u001b[39m-\u001b[39m boundary_grid\u001b[39m.\u001b[39mface_centers[\u001b[39m0\u001b[39m, eta_cell]) \u001b[39m/\u001b[39m (boundary_grid\u001b[39m.\u001b[39mface_centers[\u001b[39m0\u001b[39m, eta_cell\u001b[39m+\u001b[39m\u001b[39m1\u001b[39m] \u001b[39m-\u001b[39m boundary_grid\u001b[39m.\u001b[39mface_centers[\u001b[39m0\u001b[39m, eta_cell])\n\u001b[1;32m     <a href='vscode-notebook-cell://dev-container%2B7b22686f737450617468223a225c5c5c5c77736c2e6c6f63616c686f73745c5c5562756e74755c5c686f6d655c5c6661636375735c5c7269636861726473222c226c6f63616c446f636b6572223a66616c73652c22636f6e66696746696c65223a7b22246d6964223a312c2270617468223a222f686f6d652f6661636375732f72696368617264732f2e646576636f6e7461696e65722f646576636f6e7461696e65722e6a736f6e222c22736368656d65223a227673636f64652d66696c65486f7374227d7d/workspaces/richards/tests/coupling_test/actual_coupling/lagrange_multiplier.ipynb#Y123sdnNjb2RlLXJlbW90ZQ%3D%3D?line=50'>51</a>\u001b[0m     eta_mean \u001b[39m=\u001b[39m eta_dofs[eta_cell] \u001b[39m*\u001b[39m (\u001b[39m1\u001b[39m \u001b[39m-\u001b[39m coeff) \u001b[39m+\u001b[39m eta_dofs[eta_cell\u001b[39m+\u001b[39m\u001b[39m1\u001b[39m] \u001b[39m*\u001b[39m coeff\n\u001b[0;32m---> <a href='vscode-notebook-cell://dev-container%2B7b22686f737450617468223a225c5c5c5c77736c2e6c6f63616c686f73745c5c5562756e74755c5c686f6d655c5c6661636375735c5c7269636861726473222c226c6f63616c446f636b6572223a66616c73652c22636f6e66696746696c65223a7b22246d6964223a312c2270617468223a222f686f6d652f6661636375732f72696368617264732f2e646576636f6e7461696e65722f646576636f6e7461696e65722e6a736f6e222c22736368656d65223a227673636f64652d66696c65486f7374227d7d/workspaces/richards/tests/coupling_test/actual_coupling/lagrange_multiplier.ipynb#Y123sdnNjb2RlLXJlbW90ZQ%3D%3D?line=52'>53</a>\u001b[0m     local \u001b[39m=\u001b[39m Richards_local_q(coord_loc, sign[loc], eta_dofs[eta_cell], eta_dofs[eta_cell\u001b[39m+\u001b[39m\u001b[39m1\u001b[39m], grad_eta[eta_cell], h_dofs[c]\u001b[39m-\u001b[39m( (A\u001b[39m-\u001b[39meta_mean) \u001b[39m*\u001b[39m int_subdomain\u001b[39m.\u001b[39mcell_centers[\u001b[39m1\u001b[39m, c] \u001b[39m+\u001b[39m eta_mean))\n\u001b[1;32m     <a href='vscode-notebook-cell://dev-container%2B7b22686f737450617468223a225c5c5c5c77736c2e6c6f63616c686f73745c5c5562756e74755c5c686f6d655c5c6661636375735c5c7269636861726473222c226c6f63616c446f636b6572223a66616c73652c22636f6e66696746696c65223a7b22246d6964223a312c2270617468223a222f686f6d652f6661636375732f72696368617264732f2e646576636f6e7461696e65722f646576636f6e7461696e65722e6a736f6e222c22736368656d65223a227673636f64652d66696c65486f7374227d7d/workspaces/richards/tests/coupling_test/actual_coupling/lagrange_multiplier.ipynb#Y123sdnNjb2RlLXJlbW90ZQ%3D%3D?line=54'>55</a>\u001b[0m \u001b[39m# Save values for Hdiv-mass local matrix in the global structure\u001b[39;00m\n\u001b[1;32m     <a href='vscode-notebook-cell://dev-container%2B7b22686f737450617468223a225c5c5c5c77736c2e6c6f63616c686f73745c5c5562756e74755c5c686f6d655c5c6661636375735c5c7269636861726473222c226c6f63616c446f636b6572223a66616c73652c22636f6e66696746696c65223a7b22246d6964223a312c2270617468223a222f686f6d652f6661636375732f72696368617264732f2e646576636f6e7461696e65722f646576636f6e7461696e65722e6a736f6e222c22736368656d65223a227673636f64652d66696c65486f7374227d7d/workspaces/richards/tests/coupling_test/actual_coupling/lagrange_multiplier.ipynb#Y123sdnNjb2RlLXJlbW90ZQ%3D%3D?line=55'>56</a>\u001b[0m cols \u001b[39m=\u001b[39m np\u001b[39m.\u001b[39mconcatenate(faces_loc\u001b[39m.\u001b[39msize \u001b[39m*\u001b[39m [[faces_loc]])\n",
      "\u001b[1;32m/workspaces/richards/tests/coupling_test/actual_coupling/lagrange_multiplier.ipynb Cell 67\u001b[0m line \u001b[0;36m1\n\u001b[1;32m     <a href='vscode-notebook-cell://dev-container%2B7b22686f737450617468223a225c5c5c5c77736c2e6c6f63616c686f73745c5c5562756e74755c5c686f6d655c5c6661636375735c5c7269636861726473222c226c6f63616c446f636b6572223a66616c73652c22636f6e66696746696c65223a7b22246d6964223a312c2270617468223a222f686f6d652f6661636375732f72696368617264732f2e646576636f6e7461696e65722f646576636f6e7461696e65722e6a736f6e222c22736368656d65223a227673636f64652d66696c65486f7374227d7d/workspaces/richards/tests/coupling_test/actual_coupling/lagrange_multiplier.ipynb#Y123sdnNjb2RlLXJlbW90ZQ%3D%3D?line=13'>14</a>\u001b[0m         integrand \u001b[39m=\u001b[39m \u001b[39mlambda\u001b[39;00m ys,x: np\u001b[39m.\u001b[39marray([q_funcs[j](x,y)\u001b[39m.\u001b[39mT \u001b[39m@\u001b[39m K_local(x, y) \u001b[39m@\u001b[39m q_funcs[i](x,y) \u001b[39mfor\u001b[39;00m y \u001b[39min\u001b[39;00m np\u001b[39m.\u001b[39marray(ys)])\n\u001b[1;32m     <a href='vscode-notebook-cell://dev-container%2B7b22686f737450617468223a225c5c5c5c77736c2e6c6f63616c686f73745c5c5562756e74755c5c686f6d655c5c6661636375735c5c7269636861726473222c226c6f63616c446f636b6572223a66616c73652c22636f6e66696746696c65223a7b22246d6964223a312c2270617468223a222f686f6d652f6661636375732f72696368617264732f2e646576636f6e7461696e65722f646576636f6e7461696e65722e6a736f6e222c22736368656d65223a227673636f64652d66696c65486f7374227d7d/workspaces/richards/tests/coupling_test/actual_coupling/lagrange_multiplier.ipynb#Y123sdnNjb2RlLXJlbW90ZQ%3D%3D?line=14'>15</a>\u001b[0m         inside \u001b[39m=\u001b[39m \u001b[39mlambda\u001b[39;00m xs, n: np\u001b[39m.\u001b[39marray([integrate\u001b[39m.\u001b[39mfixed_quad(integrand, \u001b[39m0\u001b[39m, \u001b[39m1\u001b[39m\u001b[39m-\u001b[39mx, args\u001b[39m=\u001b[39m(x,), n\u001b[39m=\u001b[39mn)[\u001b[39m0\u001b[39m] \u001b[39mfor\u001b[39;00m x \u001b[39min\u001b[39;00m np\u001b[39m.\u001b[39marray(xs)])\n\u001b[0;32m---> <a href='vscode-notebook-cell://dev-container%2B7b22686f737450617468223a225c5c5c5c77736c2e6c6f63616c686f73745c5c5562756e74755c5c686f6d655c5c6661636375735c5c7269636861726473222c226c6f63616c446f636b6572223a66616c73652c22636f6e66696746696c65223a7b22246d6964223a312c2270617468223a222f686f6d652f6661636375732f72696368617264732f2e646576636f6e7461696e65722f646576636f6e7461696e65722e6a736f6e222c22736368656d65223a227673636f64652d66696c65486f7374227d7d/workspaces/richards/tests/coupling_test/actual_coupling/lagrange_multiplier.ipynb#Y123sdnNjb2RlLXJlbW90ZQ%3D%3D?line=15'>16</a>\u001b[0m         M[ordering[i], ordering[j]] \u001b[39m=\u001b[39m orientation[j] \u001b[39m*\u001b[39m orientation[i] \u001b[39m*\u001b[39m integrate\u001b[39m.\u001b[39mfixed_quad(inside, \u001b[39m0\u001b[39m, \u001b[39m1\u001b[39m, n\u001b[39m=\u001b[39mquad_order, args\u001b[39m=\u001b[39m(quad_order,))[\u001b[39m0\u001b[39m]\n\u001b[1;32m     <a href='vscode-notebook-cell://dev-container%2B7b22686f737450617468223a225c5c5c5c77736c2e6c6f63616c686f73745c5c5562756e74755c5c686f6d655c5c6661636375735c5c7269636861726473222c226c6f63616c446f636b6572223a66616c73652c22636f6e66696746696c65223a7b22246d6964223a312c2270617468223a222f686f6d652f6661636375732f72696368617264732f2e646576636f6e7461696e65722f646576636f6e7461696e65722e6a736f6e222c22736368656d65223a227673636f64652d66696c65486f7374227d7d/workspaces/richards/tests/coupling_test/actual_coupling/lagrange_multiplier.ipynb#Y123sdnNjb2RlLXJlbW90ZQ%3D%3D?line=17'>18</a>\u001b[0m \u001b[39mreturn\u001b[39;00m M\n",
      "File \u001b[0;32m/opt/conda/lib/python3.11/site-packages/scipy/integrate/_quadrature.py:155\u001b[0m, in \u001b[0;36mfixed_quad\u001b[0;34m(func, a, b, args, n)\u001b[0m\n\u001b[1;32m    152\u001b[0m     \u001b[39mraise\u001b[39;00m \u001b[39mValueError\u001b[39;00m(\u001b[39m\"\u001b[39m\u001b[39mGaussian quadrature is only available for \u001b[39m\u001b[39m\"\u001b[39m\n\u001b[1;32m    153\u001b[0m                      \u001b[39m\"\u001b[39m\u001b[39mfinite limits.\u001b[39m\u001b[39m\"\u001b[39m)\n\u001b[1;32m    154\u001b[0m y \u001b[39m=\u001b[39m (b\u001b[39m-\u001b[39ma)\u001b[39m*\u001b[39m(x\u001b[39m+\u001b[39m\u001b[39m1\u001b[39m)\u001b[39m/\u001b[39m\u001b[39m2.0\u001b[39m \u001b[39m+\u001b[39m a\n\u001b[0;32m--> 155\u001b[0m \u001b[39mreturn\u001b[39;00m (b\u001b[39m-\u001b[39ma)\u001b[39m/\u001b[39m\u001b[39m2.0\u001b[39m \u001b[39m*\u001b[39m np\u001b[39m.\u001b[39msum(w\u001b[39m*\u001b[39mfunc(y, \u001b[39m*\u001b[39margs), axis\u001b[39m=\u001b[39m\u001b[39m-\u001b[39m\u001b[39m1\u001b[39m), \u001b[39mNone\u001b[39;00m\n",
      "\u001b[1;32m/workspaces/richards/tests/coupling_test/actual_coupling/lagrange_multiplier.ipynb Cell 67\u001b[0m line \u001b[0;36m1\n\u001b[1;32m     <a href='vscode-notebook-cell://dev-container%2B7b22686f737450617468223a225c5c5c5c77736c2e6c6f63616c686f73745c5c5562756e74755c5c686f6d655c5c6661636375735c5c7269636861726473222c226c6f63616c446f636b6572223a66616c73652c22636f6e66696746696c65223a7b22246d6964223a312c2270617468223a222f686f6d652f6661636375732f72696368617264732f2e646576636f6e7461696e65722f646576636f6e7461696e65722e6a736f6e222c22736368656d65223a227673636f64652d66696c65486f7374227d7d/workspaces/richards/tests/coupling_test/actual_coupling/lagrange_multiplier.ipynb#Y123sdnNjb2RlLXJlbW90ZQ%3D%3D?line=12'>13</a>\u001b[0m     \u001b[39mfor\u001b[39;00m j \u001b[39min\u001b[39;00m \u001b[39mrange\u001b[39m(\u001b[39m3\u001b[39m):\n\u001b[1;32m     <a href='vscode-notebook-cell://dev-container%2B7b22686f737450617468223a225c5c5c5c77736c2e6c6f63616c686f73745c5c5562756e74755c5c686f6d655c5c6661636375735c5c7269636861726473222c226c6f63616c446f636b6572223a66616c73652c22636f6e66696746696c65223a7b22246d6964223a312c2270617468223a222f686f6d652f6661636375732f72696368617264732f2e646576636f6e7461696e65722f646576636f6e7461696e65722e6a736f6e222c22736368656d65223a227673636f64652d66696c65486f7374227d7d/workspaces/richards/tests/coupling_test/actual_coupling/lagrange_multiplier.ipynb#Y123sdnNjb2RlLXJlbW90ZQ%3D%3D?line=13'>14</a>\u001b[0m         integrand \u001b[39m=\u001b[39m \u001b[39mlambda\u001b[39;00m ys,x: np\u001b[39m.\u001b[39marray([q_funcs[j](x,y)\u001b[39m.\u001b[39mT \u001b[39m@\u001b[39m K_local(x, y) \u001b[39m@\u001b[39m q_funcs[i](x,y) \u001b[39mfor\u001b[39;00m y \u001b[39min\u001b[39;00m np\u001b[39m.\u001b[39marray(ys)])\n\u001b[0;32m---> <a href='vscode-notebook-cell://dev-container%2B7b22686f737450617468223a225c5c5c5c77736c2e6c6f63616c686f73745c5c5562756e74755c5c686f6d655c5c6661636375735c5c7269636861726473222c226c6f63616c446f636b6572223a66616c73652c22636f6e66696746696c65223a7b22246d6964223a312c2270617468223a222f686f6d652f6661636375732f72696368617264732f2e646576636f6e7461696e65722f646576636f6e7461696e65722e6a736f6e222c22736368656d65223a227673636f64652d66696c65486f7374227d7d/workspaces/richards/tests/coupling_test/actual_coupling/lagrange_multiplier.ipynb#Y123sdnNjb2RlLXJlbW90ZQ%3D%3D?line=14'>15</a>\u001b[0m         inside \u001b[39m=\u001b[39m \u001b[39mlambda\u001b[39;00m xs, n: np\u001b[39m.\u001b[39marray([integrate\u001b[39m.\u001b[39mfixed_quad(integrand, \u001b[39m0\u001b[39m, \u001b[39m1\u001b[39m\u001b[39m-\u001b[39mx, args\u001b[39m=\u001b[39m(x,), n\u001b[39m=\u001b[39mn)[\u001b[39m0\u001b[39m] \u001b[39mfor\u001b[39;00m x \u001b[39min\u001b[39;00m np\u001b[39m.\u001b[39marray(xs)])\n\u001b[1;32m     <a href='vscode-notebook-cell://dev-container%2B7b22686f737450617468223a225c5c5c5c77736c2e6c6f63616c686f73745c5c5562756e74755c5c686f6d655c5c6661636375735c5c7269636861726473222c226c6f63616c446f636b6572223a66616c73652c22636f6e66696746696c65223a7b22246d6964223a312c2270617468223a222f686f6d652f6661636375732f72696368617264732f2e646576636f6e7461696e65722f646576636f6e7461696e65722e6a736f6e222c22736368656d65223a227673636f64652d66696c65486f7374227d7d/workspaces/richards/tests/coupling_test/actual_coupling/lagrange_multiplier.ipynb#Y123sdnNjb2RlLXJlbW90ZQ%3D%3D?line=15'>16</a>\u001b[0m         M[ordering[i], ordering[j]] \u001b[39m=\u001b[39m orientation[j] \u001b[39m*\u001b[39m orientation[i] \u001b[39m*\u001b[39m integrate\u001b[39m.\u001b[39mfixed_quad(inside, \u001b[39m0\u001b[39m, \u001b[39m1\u001b[39m, n\u001b[39m=\u001b[39mquad_order, args\u001b[39m=\u001b[39m(quad_order,))[\u001b[39m0\u001b[39m]\n\u001b[1;32m     <a href='vscode-notebook-cell://dev-container%2B7b22686f737450617468223a225c5c5c5c77736c2e6c6f63616c686f73745c5c5562756e74755c5c686f6d655c5c6661636375735c5c7269636861726473222c226c6f63616c446f636b6572223a66616c73652c22636f6e66696746696c65223a7b22246d6964223a312c2270617468223a222f686f6d652f6661636375732f72696368617264732f2e646576636f6e7461696e65722f646576636f6e7461696e65722e6a736f6e222c22736368656d65223a227673636f64652d66696c65486f7374227d7d/workspaces/richards/tests/coupling_test/actual_coupling/lagrange_multiplier.ipynb#Y123sdnNjb2RlLXJlbW90ZQ%3D%3D?line=17'>18</a>\u001b[0m \u001b[39mreturn\u001b[39;00m M\n",
      "\u001b[1;32m/workspaces/richards/tests/coupling_test/actual_coupling/lagrange_multiplier.ipynb Cell 67\u001b[0m line \u001b[0;36m1\n\u001b[1;32m     <a href='vscode-notebook-cell://dev-container%2B7b22686f737450617468223a225c5c5c5c77736c2e6c6f63616c686f73745c5c5562756e74755c5c686f6d655c5c6661636375735c5c7269636861726473222c226c6f63616c446f636b6572223a66616c73652c22636f6e66696746696c65223a7b22246d6964223a312c2270617468223a222f686f6d652f6661636375732f72696368617264732f2e646576636f6e7461696e65722f646576636f6e7461696e65722e6a736f6e222c22736368656d65223a227673636f64652d66696c65486f7374227d7d/workspaces/richards/tests/coupling_test/actual_coupling/lagrange_multiplier.ipynb#Y123sdnNjb2RlLXJlbW90ZQ%3D%3D?line=12'>13</a>\u001b[0m     \u001b[39mfor\u001b[39;00m j \u001b[39min\u001b[39;00m \u001b[39mrange\u001b[39m(\u001b[39m3\u001b[39m):\n\u001b[1;32m     <a href='vscode-notebook-cell://dev-container%2B7b22686f737450617468223a225c5c5c5c77736c2e6c6f63616c686f73745c5c5562756e74755c5c686f6d655c5c6661636375735c5c7269636861726473222c226c6f63616c446f636b6572223a66616c73652c22636f6e66696746696c65223a7b22246d6964223a312c2270617468223a222f686f6d652f6661636375732f72696368617264732f2e646576636f6e7461696e65722f646576636f6e7461696e65722e6a736f6e222c22736368656d65223a227673636f64652d66696c65486f7374227d7d/workspaces/richards/tests/coupling_test/actual_coupling/lagrange_multiplier.ipynb#Y123sdnNjb2RlLXJlbW90ZQ%3D%3D?line=13'>14</a>\u001b[0m         integrand \u001b[39m=\u001b[39m \u001b[39mlambda\u001b[39;00m ys,x: np\u001b[39m.\u001b[39marray([q_funcs[j](x,y)\u001b[39m.\u001b[39mT \u001b[39m@\u001b[39m K_local(x, y) \u001b[39m@\u001b[39m q_funcs[i](x,y) \u001b[39mfor\u001b[39;00m y \u001b[39min\u001b[39;00m np\u001b[39m.\u001b[39marray(ys)])\n\u001b[0;32m---> <a href='vscode-notebook-cell://dev-container%2B7b22686f737450617468223a225c5c5c5c77736c2e6c6f63616c686f73745c5c5562756e74755c5c686f6d655c5c6661636375735c5c7269636861726473222c226c6f63616c446f636b6572223a66616c73652c22636f6e66696746696c65223a7b22246d6964223a312c2270617468223a222f686f6d652f6661636375732f72696368617264732f2e646576636f6e7461696e65722f646576636f6e7461696e65722e6a736f6e222c22736368656d65223a227673636f64652d66696c65486f7374227d7d/workspaces/richards/tests/coupling_test/actual_coupling/lagrange_multiplier.ipynb#Y123sdnNjb2RlLXJlbW90ZQ%3D%3D?line=14'>15</a>\u001b[0m         inside \u001b[39m=\u001b[39m \u001b[39mlambda\u001b[39;00m xs, n: np\u001b[39m.\u001b[39marray([integrate\u001b[39m.\u001b[39mfixed_quad(integrand, \u001b[39m0\u001b[39m, \u001b[39m1\u001b[39m\u001b[39m-\u001b[39mx, args\u001b[39m=\u001b[39m(x,), n\u001b[39m=\u001b[39mn)[\u001b[39m0\u001b[39m] \u001b[39mfor\u001b[39;00m x \u001b[39min\u001b[39;00m np\u001b[39m.\u001b[39marray(xs)])\n\u001b[1;32m     <a href='vscode-notebook-cell://dev-container%2B7b22686f737450617468223a225c5c5c5c77736c2e6c6f63616c686f73745c5c5562756e74755c5c686f6d655c5c6661636375735c5c7269636861726473222c226c6f63616c446f636b6572223a66616c73652c22636f6e66696746696c65223a7b22246d6964223a312c2270617468223a222f686f6d652f6661636375732f72696368617264732f2e646576636f6e7461696e65722f646576636f6e7461696e65722e6a736f6e222c22736368656d65223a227673636f64652d66696c65486f7374227d7d/workspaces/richards/tests/coupling_test/actual_coupling/lagrange_multiplier.ipynb#Y123sdnNjb2RlLXJlbW90ZQ%3D%3D?line=15'>16</a>\u001b[0m         M[ordering[i], ordering[j]] \u001b[39m=\u001b[39m orientation[j] \u001b[39m*\u001b[39m orientation[i] \u001b[39m*\u001b[39m integrate\u001b[39m.\u001b[39mfixed_quad(inside, \u001b[39m0\u001b[39m, \u001b[39m1\u001b[39m, n\u001b[39m=\u001b[39mquad_order, args\u001b[39m=\u001b[39m(quad_order,))[\u001b[39m0\u001b[39m]\n\u001b[1;32m     <a href='vscode-notebook-cell://dev-container%2B7b22686f737450617468223a225c5c5c5c77736c2e6c6f63616c686f73745c5c5562756e74755c5c686f6d655c5c6661636375735c5c7269636861726473222c226c6f63616c446f636b6572223a66616c73652c22636f6e66696746696c65223a7b22246d6964223a312c2270617468223a222f686f6d652f6661636375732f72696368617264732f2e646576636f6e7461696e65722f646576636f6e7461696e65722e6a736f6e222c22736368656d65223a227673636f64652d66696c65486f7374227d7d/workspaces/richards/tests/coupling_test/actual_coupling/lagrange_multiplier.ipynb#Y123sdnNjb2RlLXJlbW90ZQ%3D%3D?line=17'>18</a>\u001b[0m \u001b[39mreturn\u001b[39;00m M\n",
      "File \u001b[0;32m/opt/conda/lib/python3.11/site-packages/scipy/integrate/_quadrature.py:155\u001b[0m, in \u001b[0;36mfixed_quad\u001b[0;34m(func, a, b, args, n)\u001b[0m\n\u001b[1;32m    152\u001b[0m     \u001b[39mraise\u001b[39;00m \u001b[39mValueError\u001b[39;00m(\u001b[39m\"\u001b[39m\u001b[39mGaussian quadrature is only available for \u001b[39m\u001b[39m\"\u001b[39m\n\u001b[1;32m    153\u001b[0m                      \u001b[39m\"\u001b[39m\u001b[39mfinite limits.\u001b[39m\u001b[39m\"\u001b[39m)\n\u001b[1;32m    154\u001b[0m y \u001b[39m=\u001b[39m (b\u001b[39m-\u001b[39ma)\u001b[39m*\u001b[39m(x\u001b[39m+\u001b[39m\u001b[39m1\u001b[39m)\u001b[39m/\u001b[39m\u001b[39m2.0\u001b[39m \u001b[39m+\u001b[39m a\n\u001b[0;32m--> 155\u001b[0m \u001b[39mreturn\u001b[39;00m (b\u001b[39m-\u001b[39ma)\u001b[39m/\u001b[39m\u001b[39m2.0\u001b[39m \u001b[39m*\u001b[39m np\u001b[39m.\u001b[39msum(w\u001b[39m*\u001b[39mfunc(y, \u001b[39m*\u001b[39margs), axis\u001b[39m=\u001b[39m\u001b[39m-\u001b[39m\u001b[39m1\u001b[39m), \u001b[39mNone\u001b[39;00m\n",
      "\u001b[1;32m/workspaces/richards/tests/coupling_test/actual_coupling/lagrange_multiplier.ipynb Cell 67\u001b[0m line \u001b[0;36m1\n\u001b[1;32m     <a href='vscode-notebook-cell://dev-container%2B7b22686f737450617468223a225c5c5c5c77736c2e6c6f63616c686f73745c5c5562756e74755c5c686f6d655c5c6661636375735c5c7269636861726473222c226c6f63616c446f636b6572223a66616c73652c22636f6e66696746696c65223a7b22246d6964223a312c2270617468223a222f686f6d652f6661636375732f72696368617264732f2e646576636f6e7461696e65722f646576636f6e7461696e65722e6a736f6e222c22736368656d65223a227673636f64652d66696c65486f7374227d7d/workspaces/richards/tests/coupling_test/actual_coupling/lagrange_multiplier.ipynb#Y123sdnNjb2RlLXJlbW90ZQ%3D%3D?line=11'>12</a>\u001b[0m \u001b[39mfor\u001b[39;00m i \u001b[39min\u001b[39;00m \u001b[39mrange\u001b[39m(\u001b[39m3\u001b[39m):\n\u001b[1;32m     <a href='vscode-notebook-cell://dev-container%2B7b22686f737450617468223a225c5c5c5c77736c2e6c6f63616c686f73745c5c5562756e74755c5c686f6d655c5c6661636375735c5c7269636861726473222c226c6f63616c446f636b6572223a66616c73652c22636f6e66696746696c65223a7b22246d6964223a312c2270617468223a222f686f6d652f6661636375732f72696368617264732f2e646576636f6e7461696e65722f646576636f6e7461696e65722e6a736f6e222c22736368656d65223a227673636f64652d66696c65486f7374227d7d/workspaces/richards/tests/coupling_test/actual_coupling/lagrange_multiplier.ipynb#Y123sdnNjb2RlLXJlbW90ZQ%3D%3D?line=12'>13</a>\u001b[0m     \u001b[39mfor\u001b[39;00m j \u001b[39min\u001b[39;00m \u001b[39mrange\u001b[39m(\u001b[39m3\u001b[39m):\n\u001b[0;32m---> <a href='vscode-notebook-cell://dev-container%2B7b22686f737450617468223a225c5c5c5c77736c2e6c6f63616c686f73745c5c5562756e74755c5c686f6d655c5c6661636375735c5c7269636861726473222c226c6f63616c446f636b6572223a66616c73652c22636f6e66696746696c65223a7b22246d6964223a312c2270617468223a222f686f6d652f6661636375732f72696368617264732f2e646576636f6e7461696e65722f646576636f6e7461696e65722e6a736f6e222c22736368656d65223a227673636f64652d66696c65486f7374227d7d/workspaces/richards/tests/coupling_test/actual_coupling/lagrange_multiplier.ipynb#Y123sdnNjb2RlLXJlbW90ZQ%3D%3D?line=13'>14</a>\u001b[0m         integrand \u001b[39m=\u001b[39m \u001b[39mlambda\u001b[39;00m ys,x: np\u001b[39m.\u001b[39marray([q_funcs[j](x,y)\u001b[39m.\u001b[39mT \u001b[39m@\u001b[39m K_local(x, y) \u001b[39m@\u001b[39m q_funcs[i](x,y) \u001b[39mfor\u001b[39;00m y \u001b[39min\u001b[39;00m np\u001b[39m.\u001b[39marray(ys)])\n\u001b[1;32m     <a href='vscode-notebook-cell://dev-container%2B7b22686f737450617468223a225c5c5c5c77736c2e6c6f63616c686f73745c5c5562756e74755c5c686f6d655c5c6661636375735c5c7269636861726473222c226c6f63616c446f636b6572223a66616c73652c22636f6e66696746696c65223a7b22246d6964223a312c2270617468223a222f686f6d652f6661636375732f72696368617264732f2e646576636f6e7461696e65722f646576636f6e7461696e65722e6a736f6e222c22736368656d65223a227673636f64652d66696c65486f7374227d7d/workspaces/richards/tests/coupling_test/actual_coupling/lagrange_multiplier.ipynb#Y123sdnNjb2RlLXJlbW90ZQ%3D%3D?line=14'>15</a>\u001b[0m         inside \u001b[39m=\u001b[39m \u001b[39mlambda\u001b[39;00m xs, n: np\u001b[39m.\u001b[39marray([integrate\u001b[39m.\u001b[39mfixed_quad(integrand, \u001b[39m0\u001b[39m, \u001b[39m1\u001b[39m\u001b[39m-\u001b[39mx, args\u001b[39m=\u001b[39m(x,), n\u001b[39m=\u001b[39mn)[\u001b[39m0\u001b[39m] \u001b[39mfor\u001b[39;00m x \u001b[39min\u001b[39;00m np\u001b[39m.\u001b[39marray(xs)])\n\u001b[1;32m     <a href='vscode-notebook-cell://dev-container%2B7b22686f737450617468223a225c5c5c5c77736c2e6c6f63616c686f73745c5c5562756e74755c5c686f6d655c5c6661636375735c5c7269636861726473222c226c6f63616c446f636b6572223a66616c73652c22636f6e66696746696c65223a7b22246d6964223a312c2270617468223a222f686f6d652f6661636375732f72696368617264732f2e646576636f6e7461696e65722f646576636f6e7461696e65722e6a736f6e222c22736368656d65223a227673636f64652d66696c65486f7374227d7d/workspaces/richards/tests/coupling_test/actual_coupling/lagrange_multiplier.ipynb#Y123sdnNjb2RlLXJlbW90ZQ%3D%3D?line=15'>16</a>\u001b[0m         M[ordering[i], ordering[j]] \u001b[39m=\u001b[39m orientation[j] \u001b[39m*\u001b[39m orientation[i] \u001b[39m*\u001b[39m integrate\u001b[39m.\u001b[39mfixed_quad(inside, \u001b[39m0\u001b[39m, \u001b[39m1\u001b[39m, n\u001b[39m=\u001b[39mquad_order, args\u001b[39m=\u001b[39m(quad_order,))[\u001b[39m0\u001b[39m]\n",
      "\u001b[1;32m/workspaces/richards/tests/coupling_test/actual_coupling/lagrange_multiplier.ipynb Cell 67\u001b[0m line \u001b[0;36m1\n\u001b[1;32m     <a href='vscode-notebook-cell://dev-container%2B7b22686f737450617468223a225c5c5c5c77736c2e6c6f63616c686f73745c5c5562756e74755c5c686f6d655c5c6661636375735c5c7269636861726473222c226c6f63616c446f636b6572223a66616c73652c22636f6e66696746696c65223a7b22246d6964223a312c2270617468223a222f686f6d652f6661636375732f72696368617264732f2e646576636f6e7461696e65722f646576636f6e7461696e65722e6a736f6e222c22736368656d65223a227673636f64652d66696c65486f7374227d7d/workspaces/richards/tests/coupling_test/actual_coupling/lagrange_multiplier.ipynb#Y123sdnNjb2RlLXJlbW90ZQ%3D%3D?line=11'>12</a>\u001b[0m \u001b[39mfor\u001b[39;00m i \u001b[39min\u001b[39;00m \u001b[39mrange\u001b[39m(\u001b[39m3\u001b[39m):\n\u001b[1;32m     <a href='vscode-notebook-cell://dev-container%2B7b22686f737450617468223a225c5c5c5c77736c2e6c6f63616c686f73745c5c5562756e74755c5c686f6d655c5c6661636375735c5c7269636861726473222c226c6f63616c446f636b6572223a66616c73652c22636f6e66696746696c65223a7b22246d6964223a312c2270617468223a222f686f6d652f6661636375732f72696368617264732f2e646576636f6e7461696e65722f646576636f6e7461696e65722e6a736f6e222c22736368656d65223a227673636f64652d66696c65486f7374227d7d/workspaces/richards/tests/coupling_test/actual_coupling/lagrange_multiplier.ipynb#Y123sdnNjb2RlLXJlbW90ZQ%3D%3D?line=12'>13</a>\u001b[0m     \u001b[39mfor\u001b[39;00m j \u001b[39min\u001b[39;00m \u001b[39mrange\u001b[39m(\u001b[39m3\u001b[39m):\n\u001b[0;32m---> <a href='vscode-notebook-cell://dev-container%2B7b22686f737450617468223a225c5c5c5c77736c2e6c6f63616c686f73745c5c5562756e74755c5c686f6d655c5c6661636375735c5c7269636861726473222c226c6f63616c446f636b6572223a66616c73652c22636f6e66696746696c65223a7b22246d6964223a312c2270617468223a222f686f6d652f6661636375732f72696368617264732f2e646576636f6e7461696e65722f646576636f6e7461696e65722e6a736f6e222c22736368656d65223a227673636f64652d66696c65486f7374227d7d/workspaces/richards/tests/coupling_test/actual_coupling/lagrange_multiplier.ipynb#Y123sdnNjb2RlLXJlbW90ZQ%3D%3D?line=13'>14</a>\u001b[0m         integrand \u001b[39m=\u001b[39m \u001b[39mlambda\u001b[39;00m ys,x: np\u001b[39m.\u001b[39marray([q_funcs[j](x,y)\u001b[39m.\u001b[39mT \u001b[39m@\u001b[39m K_local(x, y) \u001b[39m@\u001b[39m q_funcs[i](x,y) \u001b[39mfor\u001b[39;00m y \u001b[39min\u001b[39;00m np\u001b[39m.\u001b[39marray(ys)])\n\u001b[1;32m     <a href='vscode-notebook-cell://dev-container%2B7b22686f737450617468223a225c5c5c5c77736c2e6c6f63616c686f73745c5c5562756e74755c5c686f6d655c5c6661636375735c5c7269636861726473222c226c6f63616c446f636b6572223a66616c73652c22636f6e66696746696c65223a7b22246d6964223a312c2270617468223a222f686f6d652f6661636375732f72696368617264732f2e646576636f6e7461696e65722f646576636f6e7461696e65722e6a736f6e222c22736368656d65223a227673636f64652d66696c65486f7374227d7d/workspaces/richards/tests/coupling_test/actual_coupling/lagrange_multiplier.ipynb#Y123sdnNjb2RlLXJlbW90ZQ%3D%3D?line=14'>15</a>\u001b[0m         inside \u001b[39m=\u001b[39m \u001b[39mlambda\u001b[39;00m xs, n: np\u001b[39m.\u001b[39marray([integrate\u001b[39m.\u001b[39mfixed_quad(integrand, \u001b[39m0\u001b[39m, \u001b[39m1\u001b[39m\u001b[39m-\u001b[39mx, args\u001b[39m=\u001b[39m(x,), n\u001b[39m=\u001b[39mn)[\u001b[39m0\u001b[39m] \u001b[39mfor\u001b[39;00m x \u001b[39min\u001b[39;00m np\u001b[39m.\u001b[39marray(xs)])\n\u001b[1;32m     <a href='vscode-notebook-cell://dev-container%2B7b22686f737450617468223a225c5c5c5c77736c2e6c6f63616c686f73745c5c5562756e74755c5c686f6d655c5c6661636375735c5c7269636861726473222c226c6f63616c446f636b6572223a66616c73652c22636f6e66696746696c65223a7b22246d6964223a312c2270617468223a222f686f6d652f6661636375732f72696368617264732f2e646576636f6e7461696e65722f646576636f6e7461696e65722e6a736f6e222c22736368656d65223a227673636f64652d66696c65486f7374227d7d/workspaces/richards/tests/coupling_test/actual_coupling/lagrange_multiplier.ipynb#Y123sdnNjb2RlLXJlbW90ZQ%3D%3D?line=15'>16</a>\u001b[0m         M[ordering[i], ordering[j]] \u001b[39m=\u001b[39m orientation[j] \u001b[39m*\u001b[39m orientation[i] \u001b[39m*\u001b[39m integrate\u001b[39m.\u001b[39mfixed_quad(inside, \u001b[39m0\u001b[39m, \u001b[39m1\u001b[39m, n\u001b[39m=\u001b[39mquad_order, args\u001b[39m=\u001b[39m(quad_order,))[\u001b[39m0\u001b[39m]\n",
      "File \u001b[0;32m_cython_magic_b759998db93851e7040252bd775d1a99.pyx:7\u001b[0m, in \u001b[0;36m_cython_magic_b759998db93851e7040252bd775d1a99.q2\u001b[0;34m()\u001b[0m\n",
      "\u001b[0;31mKeyboardInterrupt\u001b[0m: "
     ]
    }
   ],
   "source": [
    "# Time Loop\n",
    "for i in range(1, int(T/dt)+1):\n",
    "    start_time = time.time()\n",
    "    tmp_time = start_time\n",
    "\n",
    "    current_time = i * dt\n",
    "    print('Time ' + str(round(current_time, 5)))\n",
    "\n",
    "    # Prepare the solution at the previous time step and ...\n",
    "    prev = sol[-1].copy()\n",
    "\n",
    "    print('--- Preparing time_fixed rhs...... ', end='')\n",
    "\n",
    "    # Prepare the rhs\n",
    "    time_rhs = fixed_rhs.copy()\n",
    "    \n",
    "    time_rhs[darcy_q_mask]    += darcy_bc_val\n",
    "    time_rhs[richards_q_mask] += richards_bc_val(current_time)\n",
    "\n",
    "    time_rhs[eta_mask] += (phi / dt * M_gamma @ prev[eta_mask])\n",
    "\n",
    "    print(f'OK (Time: {round(time.time() - tmp_time, 5)} s)')\n",
    "\n",
    "    tmp_time = time.time()\n",
    "    print('--- Preparing step debug savers... ', end='')\n",
    "\n",
    "    debug_saver = [pp.Exporter(darcy_grid, str(i) + '_sol_D', folder_name=os.path.join(output_directory, 'debug')), \n",
    "                   pp.Exporter(richards_grid, str(i) + '_sol_R', folder_name=os.path.join(output_directory, 'debug'))]\n",
    "    save_step(sol[-1], proj_q, proj_h, proj_eta, debug_saver, 0)\n",
    "    \n",
    "    print(f'OK (Time: {round(time.time() - tmp_time, 5)} s)')\n",
    "    print('--- Starting non-linear solver:')\n",
    "    print('')\n",
    "\n",
    "    # Non-linear loop\n",
    "    for k in range(K):\n",
    "        iteration_time = time.time()\n",
    "\n",
    "        print(f'--- Iteration {k+1}')\n",
    "        rhs = time_rhs.copy()\n",
    "\n",
    "        tmp_time = time.time()\n",
    "        print('------ Computation of cell-wise eta............... ', end='')\n",
    "        etas = cell_eta( prev[eta_mask] )\n",
    "        real_heights = (A - etas) * richards_grid.cell_centers[1,:] + etas\n",
    "\n",
    "        print(f'OK (Time: {round(time.time() - tmp_time, 5)} s)')\n",
    "        print(f'------ Assembling rhs for iteration............... ', end='')\n",
    "\n",
    "        tmp_time = time.time()\n",
    "        rhs[richards_h_mask] += richards_M_h @ (L * prev[richards_h_mask] \n",
    "                                                + project_psi_to_fe( theta(proj_h[1] @ sol[-1][richards_h_mask] - real_heights), richards_grid ) \n",
    "                                                - project_psi_to_fe( theta(proj_h[1] @ prev[richards_h_mask] - real_heights), richards_grid ) ) / dt\n",
    "        \n",
    "        print(f'OK (Time: {round(time.time() - tmp_time, 5)} s)')\n",
    "        print('------ Assembling Darcy mass matrix (with K)...... ', end='')\n",
    "\n",
    "        tmp_time = time.time()\n",
    "        darcy_M_u = mass_q(prev[eta_mask], proj_h[0] @    prev[darcy_h_mask], darcy=True) # pg.face_mass(mdg, q_field)\n",
    "\n",
    "        print(f'OK (Time: {round(time.time() - tmp_time, 5)} s)')\n",
    "        print('------ Assembling Richards mass matrix (with K)... ', end='')\n",
    "\n",
    "        tmp_time = time.time()\n",
    "        richards_M_u = mass_q(prev[eta_mask], proj_h[1] @ prev[richards_h_mask], darcy=False) # pg.face_mass(mdg, q_field)\n",
    "\n",
    "        print(f'OK (Time: {round(time.time() - tmp_time, 5)} s)')\n",
    "        print('------ Assembling final system.................... ', end='')\n",
    "\n",
    "        # Assemble the saddle point problem\n",
    "        tmp_time = time.time()\n",
    "        spp = sps.bmat( [[               darcy_M_u, darcy_B.T,                       None,              None,    darcy_B_gamma.T,   -darcy_restrict_to_gamma.T],\n",
    "                         [                -darcy_B,      None,                       None,              None,               None,                         None],\n",
    "                         [                    None,      None,               richards_M_u,      richards_B.T, richards_B_gamma.T, richards_restrict_to_gamma.T],\n",
    "                         [                    None,      None,                -richards_B, L/dt*richards_M_h,               None,                         None],\n",
    "                         [                    None,      None,          -richards_B_gamma,              None,     phi/dt*M_gamma,                         None],\n",
    "                         [-darcy_restrict_to_gamma,      None, richards_restrict_to_gamma,              None,               None,                         None]], format=\"csc\" )\n",
    "        \n",
    "        # Prepare the solver\n",
    "        ls = pg.LinearSystem(spp, rhs)\n",
    "        ls.flag_ess_bc(bc_ess_flag, bc_ess_val)\n",
    "\n",
    "        print(f'OK (Time: {round(time.time() - tmp_time, 5)} s)')\n",
    "        print('------ Solving.................................... ', end='')\n",
    "\n",
    "        tmp_time = time.time()\n",
    "        current = ls.solve()\n",
    "\n",
    "        print(f'OK (Time: {round(time.time() - tmp_time, 5)} s)')\n",
    "\n",
    "        # Compute the errors (with eta). Should I consider only psi? Should I compute the error on the \"actual\" psi values or on the dofs\n",
    "        abs_err_psi  = np.sqrt(np.sum(np.power(current[darcy_h_mask] - prev[darcy_h_mask], 2)) \n",
    "                               + np.sum(np.power(current[richards_h_mask] - prev[richards_h_mask], 2)) \n",
    "                               + np.sum(np.power(current[eta_mask] - prev[eta_mask], 2)))\n",
    "        \n",
    "        abs_err_prev = np.sqrt(np.sum(np.power(prev[darcy_h_mask], 2)) \n",
    "                               + np.sum(np.power(prev[richards_h_mask], 2)) \n",
    "                               + np.sum(np.power(prev[eta_mask], 2)))\n",
    "        \n",
    "        print(f'--- Iteration time: {round(time.time() - iteration_time, 5)} s')\n",
    "        \n",
    "        print('--- Iteration #' + format(k+1, '0' + str(ceil(log10(K)) + 1) + 'd') \n",
    "              + ', error L2 relative psi: ' + format(abs_err_psi, str(5 + ceil(log10(1 / abs_tol)) + 4) \n",
    "                                                     + '.' + str(ceil(log10(1 / abs_tol)) + 4) + 'f') )\n",
    "        \n",
    "        print('')\n",
    "        \n",
    "        save_step(current, proj_q, proj_h, proj_eta, debug_saver, k+1)\n",
    "\n",
    "        if abs_err_psi < abs_tol + rel_tol * abs_err_prev:\n",
    "            break\n",
    "        else:\n",
    "            prev = None\n",
    "            prev = current.copy()\n",
    "\n",
    "    sol.append( current.copy() )\n",
    "\n",
    "    save_step(sol[-1], proj_q, proj_h, proj_eta, saver, i)\n",
    "\n",
    "    print(f'OK (Total Time: {round(time.time() - start_time, 5)} s)')\n",
    "\n",
    "for s in saver:\n",
    "    s.write_pvd([t * dt for t in range(int(T/dt)+1)])"
   ]
  }
 ],
 "metadata": {
  "kernelspec": {
   "display_name": "Python 3 (ipykernel)",
   "language": "python",
   "name": "python3"
  },
  "language_info": {
   "codemirror_mode": {
    "name": "ipython",
    "version": 3
   },
   "file_extension": ".py",
   "mimetype": "text/x-python",
   "name": "python",
   "nbconvert_exporter": "python",
   "pygments_lexer": "ipython3",
   "version": "3.11.3"
  },
  "vscode": {
   "interpreter": {
    "hash": "e4cc1db98167c7fd7d55a1da8057731abc6cd6fe154328a2ae319df8aab4e24d"
   }
  }
 },
 "nbformat": 4,
 "nbformat_minor": 5
}
