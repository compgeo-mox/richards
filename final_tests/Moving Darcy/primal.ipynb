{
 "cells": [
  {
   "cell_type": "code",
   "execution_count": 2,
   "id": "dietary-perth",
   "metadata": {},
   "outputs": [
    {
     "name": "stderr",
     "output_type": "stream",
     "text": [
      "/opt/conda/lib/python3.11/site-packages/porepy/numerics/nonlinear/nonlinear_solvers.py:13: TqdmExperimentalWarning: Using `tqdm.autonotebook.tqdm` in notebook mode. Use `tqdm.tqdm` instead to force console mode (e.g. in jupyter console)\n",
      "  from tqdm.autonotebook import trange  # type: ignore\n"
     ]
    }
   ],
   "source": [
    "import numpy as np\n",
    "import scipy.sparse as sps\n",
    "from math import ceil, floor, log10, exp, isnan\n",
    "import os, shutil, sys\n",
    "\n",
    "import porepy as pp\n",
    "import pygeon as pg\n",
    "\n",
    "import matplotlib.pyplot as plt"
   ]
  },
  {
   "cell_type": "code",
   "execution_count": 3,
   "metadata": {},
   "outputs": [],
   "source": [
    "import utilities.chi_func as helper_chi_func\n",
    "from utilities.moving_darcy.stifness_matrix import stifness\n",
    "from utilities.moving_darcy.mass_matrix import global_mass"
   ]
  },
  {
   "cell_type": "code",
   "execution_count": 4,
   "id": "1e1342bf",
   "metadata": {},
   "outputs": [],
   "source": [
    "output_directory = 'primal'"
   ]
  },
  {
   "cell_type": "markdown",
   "id": "roman-glossary",
   "metadata": {},
   "source": [
    "### Parameters"
   ]
  },
  {
   "cell_type": "code",
   "execution_count": 5,
   "id": "9b5f484a",
   "metadata": {},
   "outputs": [],
   "source": [
    "T = 1\n",
    "dt = 0.1"
   ]
  },
  {
   "cell_type": "code",
   "execution_count": 6,
   "id": "60dbe54f",
   "metadata": {},
   "outputs": [],
   "source": [
    "infiltration_rate = 1e-3\n",
    "extraction_rate = 0.3"
   ]
  },
  {
   "cell_type": "code",
   "execution_count": 7,
   "id": "09d80195",
   "metadata": {},
   "outputs": [],
   "source": [
    "S_s = 0.1\n",
    "phi = 0.1"
   ]
  },
  {
   "cell_type": "code",
   "execution_count": 8,
   "id": "0816cee5",
   "metadata": {},
   "outputs": [],
   "source": [
    "N = 40 # 16\n",
    "quad_order = 3"
   ]
  },
  {
   "cell_type": "code",
   "execution_count": 9,
   "id": "03c363e3",
   "metadata": {},
   "outputs": [],
   "source": [
    "abs_tol = 1e-5\n",
    "rel_tol = 1e-5\n",
    "max_iterations_per_step = 100"
   ]
  },
  {
   "cell_type": "markdown",
   "id": "97631457",
   "metadata": {},
   "source": [
    "### Grid and $V_h$"
   ]
  },
  {
   "cell_type": "code",
   "execution_count": 10,
   "id": "spectacular-saturn",
   "metadata": {},
   "outputs": [],
   "source": [
    "# convert the grid into a mixed-dimensional grid\n",
    "sd = pp.StructuredTriangleGrid([N, N], [1, 1])\n",
    "sd.compute_geometry()\n",
    "pg.convert_from_pp(sd)"
   ]
  },
  {
   "cell_type": "code",
   "execution_count": 38,
   "id": "ffa231fe",
   "metadata": {},
   "outputs": [],
   "source": [
    "# Estrapolates the boundary grid\n",
    "boundary_grid, boundary_face_map, boundary_node_map = pp.partition.extract_subgrid(sd, sd.face_centers[1, :] == 1, faces=True)"
   ]
  },
  {
   "cell_type": "code",
   "execution_count": 12,
   "id": "cb80af64",
   "metadata": {},
   "outputs": [],
   "source": [
    "mdg = pg.as_mdg(sd)"
   ]
  },
  {
   "cell_type": "code",
   "execution_count": 13,
   "id": "0869e7e2",
   "metadata": {},
   "outputs": [],
   "source": [
    "subdomain, data = mdg.subdomains( return_data=True )[0]"
   ]
  },
  {
   "cell_type": "code",
   "execution_count": 14,
   "id": "0024b7c0",
   "metadata": {},
   "outputs": [],
   "source": [
    "key = \"flow\"\n",
    "\n",
    "darcy_data = {}\n",
    "initial_pressure = []"
   ]
  },
  {
   "cell_type": "code",
   "execution_count": 15,
   "id": "88c12db7",
   "metadata": {},
   "outputs": [],
   "source": [
    "h_field     = pg.Lagrange1(key)\n",
    "gamma_field = pg.Lagrange1(key)"
   ]
  },
  {
   "cell_type": "code",
   "execution_count": 16,
   "id": "12700018",
   "metadata": {},
   "outputs": [],
   "source": [
    "subdomain, data = mdg.subdomains(return_data=True)[0]"
   ]
  },
  {
   "cell_type": "code",
   "execution_count": 17,
   "id": "e0507296",
   "metadata": {},
   "outputs": [],
   "source": [
    "def h_bc(x, t): return 1\n",
    "def initial_h_func(x): return 1\n",
    "def infiltration(x, t): return infiltration_rate"
   ]
  },
  {
   "cell_type": "code",
   "execution_count": 18,
   "id": "d5aafac3",
   "metadata": {},
   "outputs": [],
   "source": [
    "eta_mask = sd.nodes[1, :] == 1"
   ]
  },
  {
   "cell_type": "code",
   "execution_count": 19,
   "id": "1827411d",
   "metadata": {},
   "outputs": [],
   "source": [
    "dof_p = h_field.ndof(subdomain)"
   ]
  },
  {
   "cell_type": "markdown",
   "metadata": {},
   "source": [
    "### Mapping"
   ]
  },
  {
   "cell_type": "code",
   "execution_count": 20,
   "metadata": {},
   "outputs": [],
   "source": [
    "# Construct the transformation Chi. In this case, it will be a linear function \\chi(\\bm{x}, t) = \\bm{x}_3*\\eta(\\bm{x}_{\\parallel}, t)\n",
    "chi_func = helper_chi_func.Linear_Chi(A=2)\n",
    "chi_x3  = lambda eta, x3: chi_func.x3_derivative(eta, x3)\n",
    "chi_eta = lambda eta, x3: chi_func.eta_derivative(eta, x3)"
   ]
  },
  {
   "cell_type": "code",
   "execution_count": 21,
   "metadata": {},
   "outputs": [],
   "source": [
    "# Maps the heights on the reference domain to the physical one\n",
    "def convert_heights(eta_dofs, heights):\n",
    "    if len(eta_dofs) == len(heights):\n",
    "        return chi_func(eta_dofs, heights)\n",
    "    else:\n",
    "        return chi_func( np.tile(eta_dofs, ceil(len(heights) / len(eta_dofs))) , heights)"
   ]
  },
  {
   "cell_type": "markdown",
   "id": "9d33b2a2",
   "metadata": {},
   "source": [
    "### BC"
   ]
  },
  {
   "cell_type": "markdown",
   "id": "c0bbe30c",
   "metadata": {},
   "source": [
    "##### Dirichlet (essential)"
   ]
  },
  {
   "cell_type": "code",
   "execution_count": 22,
   "metadata": {},
   "outputs": [],
   "source": [
    "dirichlet_flag = sd.nodes[0, :] == 1"
   ]
  },
  {
   "cell_type": "code",
   "execution_count": 23,
   "metadata": {},
   "outputs": [],
   "source": [
    "dirichlet_value = np.array(dirichlet_flag, dtype=float)"
   ]
  },
  {
   "cell_type": "markdown",
   "id": "07a096f7",
   "metadata": {},
   "source": [
    "##### Neumann (natural)"
   ]
  },
  {
   "cell_type": "code",
   "execution_count": 24,
   "metadata": {},
   "outputs": [],
   "source": [
    "neumann_condition = -h_field.assemble_nat_bc(subdomain, lambda x: extraction_rate, np.where(subdomain.face_centers[0, :] == 0)[0])"
   ]
  },
  {
   "cell_type": "markdown",
   "id": "c3b55b3f",
   "metadata": {},
   "source": [
    "### Matrix Assembly"
   ]
  },
  {
   "cell_type": "code",
   "execution_count": 25,
   "id": "ecea12f2",
   "metadata": {},
   "outputs": [],
   "source": [
    "eta_diff = gamma_field.assemble_diff_matrix( boundary_grid )\n",
    "eta_diff[0,0] = -1\n",
    "eta_diff *= N"
   ]
  },
  {
   "cell_type": "code",
   "execution_count": 26,
   "id": "b746cf87",
   "metadata": {},
   "outputs": [],
   "source": [
    "M_gamma = gamma_field.assemble_mass_matrix( boundary_grid )\n",
    "M_h = h_field.assemble_mass_matrix(subdomain)"
   ]
  },
  {
   "cell_type": "markdown",
   "id": "75188ccc",
   "metadata": {},
   "source": [
    "#### Restrictor matrices"
   ]
  },
  {
   "cell_type": "code",
   "execution_count": 27,
   "id": "54c0b702",
   "metadata": {},
   "outputs": [],
   "source": [
    "# Helper matrices used to restrict the degrees of freedom of h to the ones at the boundary\n",
    "restrict_eta = np.array(eta_mask, dtype=float)\n",
    "restrict_eta = sps.csr_matrix(np.diag(restrict_eta, k=0))"
   ]
  },
  {
   "cell_type": "code",
   "execution_count": 28,
   "id": "2133096b",
   "metadata": {},
   "outputs": [],
   "source": [
    "upscale_to_h = np.zeros(shape=(sd.num_nodes, boundary_grid.num_nodes))\n",
    "upscale_to_h[ eta_mask , np.arange(boundary_grid.num_nodes) ] = 1\n",
    "upscale_to_h = sps.csr_matrix(upscale_to_h)"
   ]
  },
  {
   "cell_type": "code",
   "execution_count": 29,
   "id": "e8b3d100",
   "metadata": {},
   "outputs": [],
   "source": [
    "proj_psi = h_field.eval_at_cell_centers(subdomain)"
   ]
  },
  {
   "cell_type": "markdown",
   "id": "04d2bceb",
   "metadata": {},
   "source": [
    "### Solve System"
   ]
  },
  {
   "cell_type": "code",
   "execution_count": 30,
   "id": "abb485ad",
   "metadata": {},
   "outputs": [],
   "source": [
    "if os.path.exists(output_directory):\n",
    "    shutil.rmtree(output_directory)"
   ]
  },
  {
   "cell_type": "code",
   "execution_count": 31,
   "id": "c91b0b90",
   "metadata": {},
   "outputs": [],
   "source": [
    "# Fixed rhs\n",
    "fixed_rhs = np.zeros(dof_p)"
   ]
  },
  {
   "cell_type": "code",
   "execution_count": 32,
   "id": "d75b1f02",
   "metadata": {},
   "outputs": [],
   "source": [
    "# Initial conditions\n",
    "sol = [h_field.interpolate(sd, initial_h_func)]"
   ]
  },
  {
   "cell_type": "code",
   "execution_count": 33,
   "id": "2f2c117b",
   "metadata": {},
   "outputs": [],
   "source": [
    "def save_step(sol, saver, i):\n",
    "    ins = list()\n",
    "\n",
    "    ins.append((sd, \"cell_h\", proj_psi @ sol))\n",
    "\n",
    "    saver.write_vtu(ins, time_step=i)"
   ]
  },
  {
   "cell_type": "code",
   "execution_count": 34,
   "id": "354f427c",
   "metadata": {},
   "outputs": [],
   "source": [
    "# Save the initial solution\n",
    "saver = pp.Exporter(mdg, 'sol', folder_name=output_directory)\n",
    "save_step(sol[-1], saver, 0)"
   ]
  },
  {
   "cell_type": "code",
   "execution_count": 35,
   "metadata": {},
   "outputs": [],
   "source": [
    "csv_base = os.path.join(output_directory, 'csv')\n",
    "os.mkdir( csv_base )"
   ]
  },
  {
   "cell_type": "code",
   "execution_count": 36,
   "id": "6036f9c2",
   "metadata": {},
   "outputs": [
    {
     "name": "stdout",
     "output_type": "stream",
     "text": [
      "Time 0.1\n"
     ]
    },
    {
     "name": "stdout",
     "output_type": "stream",
     "text": [
      "Iteration #001, error L2 relative psi:    0.101892044\n",
      "Iteration #002, error L2 relative psi:    0.010645536\n",
      "Iteration #003, error L2 relative psi:    0.000769539\n",
      "Iteration #004, error L2 relative psi:    0.000092723\n",
      "Iteration #005, error L2 relative psi:    0.000028419\n",
      "Iteration #006, error L2 relative psi:    0.000004659\n",
      "\n",
      "Time 0.2\n",
      "Iteration #001, error L2 relative psi:    0.043535467\n",
      "Iteration #002, error L2 relative psi:    0.006517708\n",
      "Iteration #003, error L2 relative psi:    0.000807598\n",
      "Iteration #004, error L2 relative psi:    0.000094002\n",
      "Iteration #005, error L2 relative psi:    0.000032174\n",
      "Iteration #006, error L2 relative psi:    0.000006317\n",
      "\n",
      "Time 0.30000000000000004\n",
      "Iteration #001, error L2 relative psi:    0.021627311\n",
      "Iteration #002, error L2 relative psi:    0.003760226\n",
      "Iteration #003, error L2 relative psi:    0.000515707\n",
      "Iteration #004, error L2 relative psi:    0.000066927\n",
      "Iteration #005, error L2 relative psi:    0.000023811\n",
      "Iteration #006, error L2 relative psi:    0.000004730\n",
      "\n",
      "Time 0.4\n",
      "Iteration #001, error L2 relative psi:    0.010980015\n",
      "Iteration #002, error L2 relative psi:    0.002015680\n",
      "Iteration #003, error L2 relative psi:    0.000288276\n",
      "Iteration #004, error L2 relative psi:    0.000039902\n",
      "Iteration #005, error L2 relative psi:    0.000014543\n",
      "\n",
      "Time 0.5\n",
      "Iteration #001, error L2 relative psi:    0.005535535\n",
      "Iteration #002, error L2 relative psi:    0.001038419\n",
      "Iteration #003, error L2 relative psi:    0.000151560\n",
      "Iteration #004, error L2 relative psi:    0.000021771\n",
      "\n",
      "Time 0.6000000000000001\n",
      "Iteration #001, error L2 relative psi:    0.002763516\n",
      "Iteration #002, error L2 relative psi:    0.000523288\n",
      "Iteration #003, error L2 relative psi:    0.000077363\n",
      "Iteration #004, error L2 relative psi:    0.000011319\n",
      "\n",
      "Time 0.7000000000000001\n",
      "Iteration #001, error L2 relative psi:    0.001373428\n",
      "Iteration #002, error L2 relative psi:    0.000261231\n",
      "Iteration #003, error L2 relative psi:    0.000038821\n",
      "Iteration #004, error L2 relative psi:    0.000005738\n",
      "\n",
      "Time 0.8\n",
      "Iteration #001, error L2 relative psi:    0.000680602\n",
      "Iteration #002, error L2 relative psi:    0.000129724\n",
      "Iteration #003, error L2 relative psi:    0.000019323\n",
      "\n",
      "Time 0.9\n",
      "Iteration #001, error L2 relative psi:    0.000336508\n",
      "Iteration #002, error L2 relative psi:    0.000063643\n",
      "Iteration #003, error L2 relative psi:    0.000009431\n",
      "\n",
      "Time 1.0\n",
      "Iteration #001, error L2 relative psi:    0.000165733\n",
      "Iteration #002, error L2 relative psi:    0.000031307\n",
      "Iteration #003, error L2 relative psi:    0.000004645\n",
      "\n"
     ]
    }
   ],
   "source": [
    "# Time Loop\n",
    "for i in range(1, int(T/dt)+1):\n",
    "    print('Time ' + str(i * dt))\n",
    "    current_time = i * dt\n",
    "\n",
    "    # Prepare the solution at the previous time step and ...\n",
    "    prev = sol[-1].copy()\n",
    "\n",
    "    # Prepare the rhs\n",
    "    time_rhs = fixed_rhs.copy()\n",
    "\n",
    "    debug_saver = pp.Exporter(mdg, str(i) + '_sol', folder_name=os.path.join(output_directory, 'debug'))\n",
    "    save_step(sol[-1], debug_saver, 0)\n",
    "    \n",
    "    # Non-linear loop\n",
    "    for k in range(max_iterations_per_step):\n",
    "        A_h = stifness(eta_diff, subdomain, boundary_grid, \n",
    "                           prev[eta_mask],\n",
    "                           quad_order, chi_func)\n",
    "        \n",
    "        # Assemble the saddle point problem\n",
    "        glob_mass = global_mass(subdomain, boundary_grid, prev[eta_mask], quad_order, chi_func, correction=True)\n",
    "        spp = sps.csr_matrix(S_s / dt * glob_mass + phi / dt * upscale_to_h @ M_gamma @ upscale_to_h.T + A_h)\n",
    "\n",
    "        # Prepare the solver\n",
    "        rhs = time_rhs.copy()\n",
    "        rhs += phi / dt * upscale_to_h @ M_gamma @ sol[-1][eta_mask] #/ prev[eta_mask][0]\n",
    "        rhs += upscale_to_h @ M_gamma @ gamma_field.interpolate( boundary_grid, lambda x: infiltration(x, current_time))\n",
    "        rhs += neumann_condition\n",
    "        rhs += S_s / dt * glob_mass @ sol[-1]\n",
    "\n",
    "        ls = pg.LinearSystem(spp, rhs)\n",
    "        ls.flag_ess_bc(dirichlet_flag, dirichlet_value)\n",
    "\n",
    "        current = ls.solve()\n",
    "\n",
    "        # Compute the errors (with eta)\n",
    "        rel_err_psi  = np.sqrt( (current - prev).T @ M_h @ (current - prev) )\n",
    "        abs_err_prev = np.sqrt( prev.T @ M_h @ prev )\n",
    "\n",
    "        print('Iteration #' + format(k+1, '0' + str(ceil(log10(max_iterations_per_step)) + 1) + 'd')\n",
    "              + ', error L2 relative psi: ' + format(rel_err_psi / abs_err_prev, str(5 + ceil(log10(1 / abs_tol)) + 4)\n",
    "                                                     + '.' + str(ceil(log10(1 / abs_tol)) + 4) + 'f') )\n",
    "\n",
    "        save_step(current, debug_saver, k+1)\n",
    "        \n",
    "        if rel_err_psi < abs_tol + rel_tol * abs_err_prev:\n",
    "            break\n",
    "        else:\n",
    "            prev = None\n",
    "            prev = current.copy()\n",
    "\n",
    "    print('')\n",
    "    sol.append( current.copy() )\n",
    "    save_step(sol[-1], saver, i)\n",
    "\n",
    "    export_name = os.path.join(csv_base, str(i) + '.csv')\n",
    "\n",
    "    with open( export_name, 'w' ) as file:\n",
    "\n",
    "        file.write('x,y,h,p\\n')\n",
    "\n",
    "        et = np.tile(sol[-1][eta_mask], ceil(subdomain.num_nodes / boundary_grid.num_nodes))\n",
    "        for x,y,h,p in zip( subdomain.nodes[0, :], subdomain.nodes[1, :] * et, sol[-1], sol[-1] - subdomain.nodes[1, :] * et):\n",
    "            file.write(f'{x},{y},{h},{p}\\n')\n",
    "\n",
    "saver.write_pvd([t * dt for t in range(int(T/dt)+1)])"
   ]
  },
  {
   "cell_type": "code",
   "execution_count": 37,
   "id": "beb6342a",
   "metadata": {},
   "outputs": [
    {
     "name": "stderr",
     "output_type": "stream",
     "text": [
      "The PostScript backend does not support transparency; partially transparent artists will be rendered opaque.\n"
     ]
    },
    {
     "data": {
      "image/png": "[encoded data removed]",
      "text/plain": [
       "<Figure size 500x500 with 1 Axes>"
      ]
     },
     "metadata": {},
     "output_type": "display_data"
    }
   ],
   "source": [
    "fig, ax = plt.subplots(nrows=1, ncols=1, figsize=(5, 5))\n",
    "\n",
    "\n",
    "#ax.set_ylim(0.65, 1.01)\n",
    "ax.set_xlim(0, 1)\n",
    "\n",
    "ax.plot( boundary_grid.nodes[0, :],  sol[0][eta_mask], 'o-')\n",
    "ax.plot( boundary_grid.nodes[0, :],  sol[1][eta_mask], 'o-')\n",
    "ax.plot( boundary_grid.nodes[0, :],  sol[3][eta_mask], 'o-')\n",
    "ax.plot( boundary_grid.nodes[0, :], sol[-1][eta_mask], 'o-')\n",
    "\n",
    "ax.set_xlabel('Distance from well')\n",
    "ax.set_ylabel('Water table height')\n",
    "\n",
    "ax.legend(['T=0.0', 'T=0.1', 'T=0.3', 'T=1.0'])\n",
    "\n",
    "ax.grid()\n",
    "\n",
    "plt.tight_layout()\n",
    "plt.savefig('moving_darcy_original.eps', format='eps')"
   ]
  }
 ],
 "metadata": {
  "kernelspec": {
   "display_name": "Python 3 (ipykernel)",
   "language": "python",
   "name": "python3"
  },
  "language_info": {
   "codemirror_mode": {
    "name": "ipython",
    "version": 3
   },
   "file_extension": ".py",
   "mimetype": "text/x-python",
   "name": "python",
   "nbconvert_exporter": "python",
   "pygments_lexer": "ipython3",
   "version": "3.11.5"
  },
  "vscode": {
   "interpreter": {
    "hash": "e4cc1db98167c7fd7d55a1da8057731abc6cd6fe154328a2ae319df8aab4e24d"
   }
  }
 },
 "nbformat": 4,
 "nbformat_minor": 5
}
