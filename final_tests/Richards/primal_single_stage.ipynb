{
 "cells": [
  {
   "attachments": {},
   "cell_type": "markdown",
   "metadata": {},
   "source": [
    "# Richards equation\n",
    "\n",
    "Let $\\Omega=(0,2)\\times(0,3)$ with boundary $\\partial \\Omega$ and outward unit normal ${\\nu}$. Given \n",
    "$k$ the matrix permeability, we want to solve the following problem: find $({q}, h)$ such that\n",
    "$$\n",
    "\\partial_t \\theta (\\psi) - \\nabla \\cdot (K \\nabla h) = 0 \\text{ in } \\Omega \\times (0,T)\n",
    "$$\n",
    "with boundary conditions:\n",
    "\n",
    "$$\n",
    "h(t,x,z)=\n",
    "\\left\\{\n",
    "\\begin{array}{ll}\n",
    "\\begin{array}{l} \n",
    "1+2.2 \\frac{t}{\\Delta t_D}, \\text{ on } \\Gamma_{D_1}, t\\leq\\Delta t_D\\\\\n",
    "3.2, \\text{ on } \\Gamma_{D_1}, t>\\Delta t_D\\\\\n",
    "1, \\text{ on } \\Gamma_{D_2}\n",
    "\\end{array}\n",
    "\\end{array}\n",
    "\\right., \\qquad \\nu \\cdot K \\nabla h = 0 \\text{ on } \\Gamma_N \\qquad h(0,x,z) = 1 \\text{ on } \\Omega$$\n",
    "and\n",
    "$$\n",
    "\\Gamma_{D_1} = \\left\\{ (x,z) \\in \\partial \\Omega \\:|\\: x \\in [0,1] \\wedge z=3  \\right\\},\\\\\n",
    "\\Gamma_{D_2} = \\left\\{ (x,z) \\in \\partial \\Omega \\:|\\: x = 2 \\wedge z \\in [0,1]  \\right\\},\\\\\n",
    "\\Gamma_{D} = \\Gamma_{D_1} \\cup \\Gamma_{D_2},\\\\\n",
    "\\Gamma_{N} = \\partial \\Omega \\setminus \\Gamma_D\n",
    "$$"
   ]
  },
  {
   "cell_type": "code",
   "execution_count": 1,
   "metadata": {},
   "outputs": [
    {
     "name": "stderr",
     "output_type": "stream",
     "text": [
      "/opt/conda/lib/python3.11/site-packages/porepy/numerics/nonlinear/nonlinear_solvers.py:13: TqdmExperimentalWarning: Using `tqdm.autonotebook.tqdm` in notebook mode. Use `tqdm.tqdm` instead to force console mode (e.g. in jupyter console)\n",
      "  from tqdm.autonotebook import trange  # type: ignore\n"
     ]
    }
   ],
   "source": [
    "import shutil\n",
    "import os\n",
    "\n",
    "import numpy as np\n",
    "\n",
    "import porepy as pp\n",
    "import pygeon as pg\n",
    "\n",
    "import time\n",
    "\n",
    "import matplotlib.pyplot as plt"
   ]
  },
  {
   "cell_type": "code",
   "execution_count": 2,
   "metadata": {},
   "outputs": [],
   "source": [
    "from richards.model_params import Model_Data\n",
    "from richards.matrix_computer import Matrix_Computer\n",
    "\n",
    "from richards.solver import Solver\n",
    "from richards.solver_params import Solver_Data, Solver_Enum, Norm_Error"
   ]
  },
  {
   "cell_type": "code",
   "execution_count": 3,
   "metadata": {},
   "outputs": [],
   "source": [
    "# Set the maximum number of iterations of the non-linear solver\n",
    "K = 500\n",
    "\n",
    "# L-scheme parameter\n",
    "L = 3.501e-2\n",
    "\n",
    "# Set the mesh refinment\n",
    "N = 10\n",
    "\n",
    "# Set the number of steps (excluding the initial condition)\n",
    "num_steps = 9\n",
    "\n",
    "# Simulation time length\n",
    "T = num_steps/48\n",
    "\n",
    "# Time switch conditions (for the boundary condition)\n",
    "dt_D = 1/16\n",
    "\n",
    "# Relative and absolute tolerances for the non-linear solver\n",
    "abs_tol = 1e-5\n",
    "rel_tol = 1e-5\n",
    "\n",
    "# Domain tolerance\n",
    "domain_tolerance = 1 / (10 * N)\n",
    "\n",
    "# Output directory\n",
    "output_directory = 'single_stage_primal'"
   ]
  },
  {
   "cell_type": "code",
   "execution_count": 4,
   "metadata": {},
   "outputs": [],
   "source": [
    "# Time step\n",
    "dt   = (T-0)/num_steps"
   ]
  },
  {
   "cell_type": "code",
   "execution_count": 5,
   "metadata": {},
   "outputs": [],
   "source": [
    "# Van Genuchten model parameters ( relative permeability model )\n",
    "model_data = Model_Data(theta_r=0.131, theta_s=0.396, alpha=0.423, n=2.06, K_s=4.96e-2, T=T, num_steps=num_steps)"
   ]
  },
  {
   "cell_type": "code",
   "execution_count": 6,
   "metadata": {},
   "outputs": [],
   "source": [
    "# Prepare the domain and its mesh\n",
    "subdomain = pp.StructuredTriangleGrid([2*N, 3*N], [2,3])\n",
    "pg.convert_from_pp(subdomain)\n",
    "\n",
    "# Convert it to a mixed-dimensional grid\n",
    "mdg = pg.as_mdg(subdomain)"
   ]
  },
  {
   "cell_type": "code",
   "execution_count": 7,
   "metadata": {},
   "outputs": [],
   "source": [
    "key = \"flow\""
   ]
  },
  {
   "cell_type": "code",
   "execution_count": 8,
   "metadata": {},
   "outputs": [],
   "source": [
    "# Initial pressure function\n",
    "def initial_pressure_func(x): \n",
    "    return 1"
   ]
  },
  {
   "cell_type": "code",
   "execution_count": 9,
   "metadata": {},
   "outputs": [],
   "source": [
    "# Fake loop to extract the grid and its data (i.e. conductivity tensor)\n",
    "subdomain, data = mdg.subdomains(return_data=True)[0]\n",
    "\n",
    "# Gamma_D1 and Gamma_D2 boundary faces\n",
    "gamma_d1 = np.logical_and(subdomain.nodes[0, :] > 0-domain_tolerance, np.logical_and(subdomain.nodes[0, :] < 1+domain_tolerance, subdomain.nodes[1, :] > 3-domain_tolerance))\n",
    "gamma_d2 = np.logical_and(subdomain.nodes[0, :] > 2-domain_tolerance, np.logical_and(subdomain.nodes[1, :] > 0-domain_tolerance, subdomain.nodes[1, :] < 1+domain_tolerance))\n",
    "\n",
    "gamma_d  = np.logical_or(gamma_d1, gamma_d2)\n",
    "bc_essential = gamma_d\n",
    "\n",
    "# Add a lambda function that generates for each time instant the (discretized) natural boundary conditions for the problem\n",
    "bc_value = lambda t: np.array(gamma_d2, dtype=float) + np.array(gamma_d1, dtype=float) * min(3.2, 1 + 2.2 * t / dt_D)"
   ]
  },
  {
   "cell_type": "code",
   "execution_count": 10,
   "metadata": {},
   "outputs": [],
   "source": [
    "if os.path.exists(output_directory):\n",
    "    shutil.rmtree(output_directory)"
   ]
  },
  {
   "cell_type": "code",
   "execution_count": 11,
   "metadata": {},
   "outputs": [],
   "source": [
    "cp = Matrix_Computer(mdg)\n",
    "\n",
    "solver_data = Solver_Data(mdg=mdg, initial_solution=cp.P1.interpolate(subdomain, initial_pressure_func), \n",
    "                          scheme=Solver_Enum.LSCHEME, \n",
    "                          bc_essential=lambda t: bc_essential, bc_essential_value=bc_value,\n",
    "                          eps_psi_rel=rel_tol, eps_psi_abs=abs_tol,\n",
    "                          max_iterations_per_step=K, L_Scheme_value=L,\n",
    "                          output_directory=output_directory, report_name='primal',\n",
    "                          primal=True, integration_order=2, prepare_plots=False, \n",
    "                          step_output_allowed=True,\n",
    "                          shape_x=2*N+1, shape_y=3*N+1, norm_error=Norm_Error.EUCLIDIAN)"
   ]
  },
  {
   "cell_type": "code",
   "execution_count": 12,
   "metadata": {},
   "outputs": [],
   "source": [
    "solver = Solver(model_data=model_data, solver_data=solver_data)"
   ]
  },
  {
   "cell_type": "code",
   "execution_count": 13,
   "metadata": {},
   "outputs": [
    {
     "name": "stdout",
     "output_type": "stream",
     "text": [
      "Time 0.02083\n"
     ]
    },
    {
     "name": "stdout",
     "output_type": "stream",
     "text": [
      "Iteration #0001, relative norm of the error:    0.096353391, norm of the error:    2.458428031\n",
      "Iteration #0002, relative norm of the error:    0.007721402, norm of the error:    0.200783231\n",
      "Iteration #0003, relative norm of the error:    0.000308102, norm of the error:    0.008021754\n",
      "Iteration #0004, relative norm of the error:    0.000039814, norm of the error:    0.001036538\n",
      "Iteration #0005, relative norm of the error:    0.000007624, norm of the error:    0.000198484\n",
      "\n",
      "Time 0.04167\n",
      "Iteration #0001, relative norm of the error:    0.106422121, norm of the error:    2.770639248\n",
      "Iteration #0002, relative norm of the error:    0.023146840, norm of the error:    0.624218326\n",
      "Iteration #0003, relative norm of the error:    0.002346429, norm of the error:    0.063639756\n",
      "Iteration #0004, relative norm of the error:    0.000209138, norm of the error:    0.005675320\n",
      "Iteration #0005, relative norm of the error:    0.000022932, norm of the error:    0.000622260\n",
      "Iteration #0006, relative norm of the error:    0.000002188, norm of the error:    0.000059383\n",
      "\n",
      "Time 0.0625\n",
      "Iteration #0001, relative norm of the error:    0.126236538, norm of the error:    3.425425028\n",
      "Iteration #0002, relative norm of the error:    0.035767199, norm of the error:    1.028403531\n",
      "Iteration #0003, relative norm of the error:    0.009008440, norm of the error:    0.262478589\n",
      "Iteration #0004, relative norm of the error:    0.001268510, norm of the error:    0.037060611\n",
      "Iteration #0005, relative norm of the error:    0.000479320, norm of the error:    0.014001803\n",
      "Iteration #0006, relative norm of the error:    0.000094142, norm of the error:    0.002749572\n",
      "Iteration #0007, relative norm of the error:    0.000018873, norm of the error:    0.000551208\n",
      "Iteration #0008, relative norm of the error:    0.000006118, norm of the error:    0.000178679\n",
      "\n",
      "Time 0.08333\n",
      "Iteration #0001, relative norm of the error:    0.068106572, norm of the error:    1.989149617\n",
      "Iteration #0002, relative norm of the error:    0.010396631, norm of the error:    0.312723221\n",
      "Iteration #0003, relative norm of the error:    0.001759598, norm of the error:    0.053076559\n",
      "Iteration #0004, relative norm of the error:    0.000619247, norm of the error:    0.018672713\n",
      "Iteration #0005, relative norm of the error:    0.000119500, norm of the error:    0.003602472\n",
      "Iteration #0006, relative norm of the error:    0.000024431, norm of the error:    0.000736500\n",
      "Iteration #0007, relative norm of the error:    0.000007138, norm of the error:    0.000215192\n",
      "\n",
      "Time 0.10417\n",
      "Iteration #0001, relative norm of the error:    0.051150087, norm of the error:    1.541976351\n",
      "Iteration #0002, relative norm of the error:    0.005451030, norm of the error:    0.168288831\n",
      "Iteration #0003, relative norm of the error:    0.000877312, norm of the error:    0.027118032\n",
      "Iteration #0004, relative norm of the error:    0.000260107, norm of the error:    0.008038584\n",
      "Iteration #0005, relative norm of the error:    0.000051076, norm of the error:    0.001578322\n",
      "Iteration #0006, relative norm of the error:    0.000007640, norm of the error:    0.000236070\n",
      "\n",
      "Time 0.125\n",
      "Iteration #0001, relative norm of the error:    0.041315820, norm of the error:    1.276709022\n",
      "Iteration #0002, relative norm of the error:    0.003699307, norm of the error:    0.116643607\n",
      "Iteration #0003, relative norm of the error:    0.000494497, norm of the error:    0.015604403\n",
      "Iteration #0004, relative norm of the error:    0.000088314, norm of the error:    0.002786931\n",
      "Iteration #0005, relative norm of the error:    0.000019210, norm of the error:    0.000606194\n",
      "Iteration #0006, relative norm of the error:    0.000002940, norm of the error:    0.000092767\n",
      "\n",
      "Time 0.14583\n",
      "Iteration #0001, relative norm of the error:    0.034725060, norm of the error:    1.095776392\n",
      "Iteration #0002, relative norm of the error:    0.003096410, norm of the error:    0.099444055\n",
      "Iteration #0003, relative norm of the error:    0.000483972, norm of the error:    0.015554457\n",
      "Iteration #0004, relative norm of the error:    0.000079069, norm of the error:    0.002541708\n",
      "Iteration #0005, relative norm of the error:    0.000016341, norm of the error:    0.000525287\n",
      "Iteration #0006, relative norm of the error:    0.000003822, norm of the error:    0.000122856\n",
      "\n",
      "Time 0.16667\n",
      "Iteration #0001, relative norm of the error:    0.029949936, norm of the error:    0.962775355\n",
      "Iteration #0002, relative norm of the error:    0.002901350, norm of the error:    0.094738136\n",
      "Iteration #0003, relative norm of the error:    0.000583799, norm of the error:    0.019077785\n",
      "Iteration #0004, relative norm of the error:    0.000148007, norm of the error:    0.004838143\n",
      "Iteration #0005, relative norm of the error:    0.000042826, norm of the error:    0.001399995\n",
      "Iteration #0006, relative norm of the error:    0.000013169, norm of the error:    0.000430520\n",
      "Iteration #0007, relative norm of the error:    0.000005540, norm of the error:    0.000181111\n",
      "\n",
      "Time 0.1875\n",
      "Iteration #0001, relative norm of the error:    0.026296628, norm of the error:    0.859681786\n",
      "Iteration #0002, relative norm of the error:    0.002866890, norm of the error:    0.095055929\n",
      "Iteration #0003, relative norm of the error:    0.000687120, norm of the error:    0.022802814\n",
      "Iteration #0004, relative norm of the error:    0.000212212, norm of the error:    0.007045223\n",
      "Iteration #0005, relative norm of the error:    0.000072625, norm of the error:    0.002411340\n",
      "Iteration #0006, relative norm of the error:    0.000026851, norm of the error:    0.000891570\n",
      "Iteration #0007, relative norm of the error:    0.000012968, norm of the error:    0.000430596\n",
      "Iteration #0008, relative norm of the error:    0.000009463, norm of the error:    0.000314225\n",
      "\n",
      "\n",
      "34.23324513435364\n"
     ]
    }
   ],
   "source": [
    "start = time.time()\n",
    "solver.solve()\n",
    "end = time.time()\n",
    "\n",
    "print('')\n",
    "print(end - start)"
   ]
  }
 ],
 "metadata": {
  "kernelspec": {
   "display_name": ".venv",
   "language": "python",
   "name": "python3"
  },
  "language_info": {
   "codemirror_mode": {
    "name": "ipython",
    "version": 3
   },
   "file_extension": ".py",
   "mimetype": "text/x-python",
   "name": "python",
   "nbconvert_exporter": "python",
   "pygments_lexer": "ipython3",
   "version": "3.11.5"
  },
  "orig_nbformat": 4
 },
 "nbformat": 4,
 "nbformat_minor": 2
}
