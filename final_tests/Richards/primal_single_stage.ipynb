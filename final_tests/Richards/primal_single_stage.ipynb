{
 "cells": [
  {
   "attachments": {},
   "cell_type": "markdown",
   "metadata": {},
   "source": [
    "# Richards equation\n",
    "\n",
    "Let $\\Omega=(0,2)\\times(0,3)$ with boundary $\\partial \\Omega$ and outward unit normal ${\\nu}$. Given \n",
    "$k$ the matrix permeability, we want to solve the following problem: find $({q}, h)$ such that\n",
    "$$\n",
    "\\partial_t \\theta (\\psi) - \\nabla \\cdot (K \\nabla h) = 0 \\text{ in } \\Omega \\times (0,T)\n",
    "$$\n",
    "with boundary conditions:\n",
    "\n",
    "$$\n",
    "h(t,x,z)=\n",
    "\\left\\{\n",
    "\\begin{array}{ll}\n",
    "\\begin{array}{l} \n",
    "1+2.2 \\frac{t}{\\Delta t_D}, \\text{ on } \\Gamma_{D_1}, t\\leq\\Delta t_D\\\\\n",
    "3.2, \\text{ on } \\Gamma_{D_1}, t>\\Delta t_D\\\\\n",
    "1, \\text{ on } \\Gamma_{D_2}\n",
    "\\end{array}\n",
    "\\end{array}\n",
    "\\right., \\qquad \\nu \\cdot K \\nabla h = 0 \\text{ on } \\Gamma_N \\qquad h(0,x,z) = 1 \\text{ on } \\Omega$$\n",
    "and\n",
    "$$\n",
    "\\Gamma_{D_1} = \\left\\{ (x,z) \\in \\partial \\Omega \\:|\\: x \\in [0,1] \\wedge z=3  \\right\\},\\\\\n",
    "\\Gamma_{D_2} = \\left\\{ (x,z) \\in \\partial \\Omega \\:|\\: x = 2 \\wedge z \\in [0,1]  \\right\\},\\\\\n",
    "\\Gamma_{D} = \\Gamma_{D_1} \\cup \\Gamma_{D_2},\\\\\n",
    "\\Gamma_{N} = \\partial \\Omega \\setminus \\Gamma_D\n",
    "$$"
   ]
  },
  {
   "cell_type": "code",
   "execution_count": 1,
   "metadata": {},
   "outputs": [
    {
     "name": "stderr",
     "output_type": "stream",
     "text": [
      "/opt/conda/lib/python3.11/site-packages/porepy/numerics/nonlinear/nonlinear_solvers.py:13: TqdmExperimentalWarning: Using `tqdm.autonotebook.tqdm` in notebook mode. Use `tqdm.tqdm` instead to force console mode (e.g. in jupyter console)\n",
      "  from tqdm.autonotebook import trange  # type: ignore\n"
     ]
    }
   ],
   "source": [
    "import shutil\n",
    "import os\n",
    "\n",
    "import numpy as np\n",
    "\n",
    "import porepy as pp\n",
    "import pygeon as pg\n",
    "\n",
    "import time\n",
    "\n",
    "import matplotlib.pyplot as plt"
   ]
  },
  {
   "cell_type": "code",
   "execution_count": 2,
   "metadata": {},
   "outputs": [],
   "source": [
    "from richards.model_params import Model_Data\n",
    "from richards.matrix_computer import Matrix_Computer\n",
    "\n",
    "from richards.solver import Solver\n",
    "from richards.solver_params import Solver_Data, Solver_Enum, Norm_Error"
   ]
  },
  {
   "cell_type": "code",
   "execution_count": 3,
   "metadata": {},
   "outputs": [],
   "source": [
    "# Set the maximum number of iterations of the non-linear solver\n",
    "K = 500\n",
    "\n",
    "# L-scheme parameter\n",
    "L = 3.501e-2\n",
    "\n",
    "# Set the mesh refinment\n",
    "N = 10\n",
    "\n",
    "# Set the number of steps (excluding the initial condition)\n",
    "num_steps = 9\n",
    "\n",
    "# Simulation time length\n",
    "T = num_steps/48\n",
    "\n",
    "# Time switch conditions (for the boundary condition)\n",
    "dt_D = 1/16\n",
    "\n",
    "# Relative and absolute tolerances for the non-linear solver\n",
    "abs_tol = 1e-5\n",
    "rel_tol = 1e-5\n",
    "\n",
    "# Domain tolerance\n",
    "domain_tolerance = 1 / (10 * N)\n",
    "\n",
    "# Output directory\n",
    "output_directory = 'single_stage_primal'"
   ]
  },
  {
   "cell_type": "code",
   "execution_count": 4,
   "metadata": {},
   "outputs": [],
   "source": [
    "# Time step\n",
    "dt   = (T-0)/num_steps"
   ]
  },
  {
   "cell_type": "code",
   "execution_count": 5,
   "metadata": {},
   "outputs": [],
   "source": [
    "# Van Genuchten model parameters ( relative permeability model )\n",
    "model_data = Model_Data(theta_r=0.131, theta_s=0.396, alpha=0.423, n=2.06, K_s=4.96e-2, T=T, num_steps=num_steps)"
   ]
  },
  {
   "cell_type": "code",
   "execution_count": 6,
   "metadata": {},
   "outputs": [],
   "source": [
    "# Prepare the domain and its mesh\n",
    "subdomain = pp.StructuredTriangleGrid([2*N, 3*N], [2,3])\n",
    "pg.convert_from_pp(subdomain)\n",
    "\n",
    "# Convert it to a mixed-dimensional grid\n",
    "mdg = pg.as_mdg(subdomain)"
   ]
  },
  {
   "cell_type": "code",
   "execution_count": 7,
   "metadata": {},
   "outputs": [],
   "source": [
    "key = \"flow\""
   ]
  },
  {
   "cell_type": "code",
   "execution_count": 8,
   "metadata": {},
   "outputs": [],
   "source": [
    "# Initial pressure function\n",
    "def initial_pressure_func(x): \n",
    "    return 1"
   ]
  },
  {
   "cell_type": "code",
   "execution_count": 9,
   "metadata": {},
   "outputs": [],
   "source": [
    "# Fake loop to extract the grid and its data (i.e. conductivity tensor)\n",
    "subdomain, data = mdg.subdomains(return_data=True)[0]\n",
    "\n",
    "# Gamma_D1 and Gamma_D2 boundary faces\n",
    "gamma_d1 = np.logical_and(subdomain.nodes[0, :] > 0-domain_tolerance, np.logical_and(subdomain.nodes[0, :] < 1+domain_tolerance, subdomain.nodes[1, :] > 3-domain_tolerance))\n",
    "gamma_d2 = np.logical_and(subdomain.nodes[0, :] > 2-domain_tolerance, np.logical_and(subdomain.nodes[1, :] > 0-domain_tolerance, subdomain.nodes[1, :] < 1+domain_tolerance))\n",
    "\n",
    "gamma_d  = np.logical_or(gamma_d1, gamma_d2)\n",
    "bc_essential = gamma_d\n",
    "\n",
    "# Add a lambda function that generates for each time instant the (discretized) natural boundary conditions for the problem\n",
    "bc_value = lambda t: np.array(gamma_d2, dtype=float) + np.array(gamma_d1, dtype=float) * min(3.2, 1 + 2.2 * t / dt_D)"
   ]
  },
  {
   "cell_type": "code",
   "execution_count": 10,
   "metadata": {},
   "outputs": [],
   "source": [
    "if os.path.exists(output_directory):\n",
    "    shutil.rmtree(output_directory)"
   ]
  },
  {
   "cell_type": "code",
   "execution_count": 11,
   "metadata": {},
   "outputs": [],
   "source": [
    "cp = Matrix_Computer(mdg)\n",
    "\n",
    "solver_data = Solver_Data(mdg=mdg, initial_solution=cp.P1.interpolate(subdomain, initial_pressure_func), \n",
    "                          scheme=Solver_Enum.NEWTON, \n",
    "                          bc_essential=lambda t: bc_essential, bc_essential_value=bc_value,\n",
    "                          eps_psi_rel=rel_tol, eps_psi_abs=abs_tol,\n",
    "                          max_iterations_per_step=K, L_Scheme_value=L,\n",
    "                          output_directory=output_directory, report_name='primal',\n",
    "                          primal=True, integration_order=2, prepare_plots=False, \n",
    "                          step_output_allowed=True,\n",
    "                          shape_x=2*N+1, shape_y=3*N+1, norm_error=Norm_Error.EUCLIDIAN)"
   ]
  },
  {
   "cell_type": "code",
   "execution_count": 12,
   "metadata": {},
   "outputs": [],
   "source": [
    "solver = Solver(model_data=model_data, solver_data=solver_data)"
   ]
  },
  {
   "cell_type": "code",
   "execution_count": 13,
   "metadata": {},
   "outputs": [
    {
     "name": "stdout",
     "output_type": "stream",
     "text": [
      "Csv_Exporter: A file with name primal_NEWTON_richards_solver.csv is detected. I'll delete it\n",
      "Time 0.02083\n"
     ]
    },
    {
     "name": "stderr",
     "output_type": "stream",
     "text": [
      "<lambdifygenerated-1>:2: RuntimeWarning: invalid value encountered in power\n",
      "  return select([less(h, z),True], [0.265*(0.1699265174169*(-h + z)**2.06 + 1)**(-0.514563106796116) + 0.131,0.396], default=nan)\n",
      "<lambdifygenerated-3>:2: RuntimeWarning: invalid value encountered in power\n",
      "  return select([less(h, z),True], [0.00446702828985547*(1 - (1 - 1.0*(0.1699265174169*(-h + z)**2.06 + 1)**(-1.0))**0.514563106796116)**2*(-h + z)**1.06*(0.1699265174169*(-h + z)**2.06 + 1)**(-1.25728155339806) + 0.0178681131594219*(1 - (1 - 1.0*(0.1699265174169*(-h + z)**2.06 + 1)**(-1.0))**0.514563106796116)*(1 - 1.0*(0.1699265174169*(-h + z)**2.06 + 1)**(-1.0))**(-0.485436893203884)*(-h + z)**1.06*(0.1699265174169*(-h + z)**2.06 + 1)**(-2.25728155339806),0], default=nan)\n",
      "<lambdifygenerated-4>:2: RuntimeWarning: invalid value encountered in scalar power\n",
      "  return select([less(h, z),True], [0.0477323587424072*(-h + z)**1.06*(0.1699265174169*(-h + z)**2.06 + 1)**(-1.51456310679612),0], default=nan)\n",
      "<lambdifygenerated-2>:2: RuntimeWarning: invalid value encountered in scalar power\n",
      "  return select([less(h, z),True], [0.0496*(1 - (1 - 1.0*(0.1699265174169*(-h + z)**2.06 + 1)**(-1.0))**0.514563106796116)**2*(0.1699265174169*(-h + z)**2.06 + 1)**(-0.257281553398058),0.0496], default=nan)\n"
     ]
    },
    {
     "name": "stdout",
     "output_type": "stream",
     "text": [
      "Iteration #0001, relative norm of the error:    0.095819356, norm of the error:    2.444802280\n",
      "Iteration #0002, relative norm of the error:    0.012325289, norm of the error:    0.320232576\n",
      "Iteration #0003, relative norm of the error:    0.000456582, norm of the error:    0.011887428\n",
      "Iteration #0004, relative norm of the error:    0.000003171, norm of the error:    0.000082560\n",
      "\n",
      "Time 0.04167\n",
      "Iteration #0001, relative norm of the error:    0.110289686, norm of the error:    2.871330258\n",
      "Iteration #0002, relative norm of the error:    0.018469827, norm of the error:    0.498737241\n",
      "Iteration #0003, relative norm of the error:    0.001015298, norm of the error:    0.027555348\n",
      "Iteration #0004, relative norm of the error:    0.000022434, norm of the error:    0.000608744\n",
      "Iteration #0005, relative norm of the error:    0.000000572, norm of the error:    0.000015515\n",
      "\n",
      "Time 0.0625\n",
      "Iteration #0001, relative norm of the error:    0.147315619, norm of the error:    3.997407533\n",
      "Iteration #0002, relative norm of the error:    0.022621540, norm of the error:    0.656453507\n",
      "Iteration #0003, relative norm of the error:    0.001202320, norm of the error:    0.035120783\n",
      "Iteration #0004, relative norm of the error:    0.000037321, norm of the error:    0.001090015\n",
      "Iteration #0005, relative norm of the error:    0.000000650, norm of the error:    0.000018990\n",
      "\n",
      "Time 0.08333\n",
      "Iteration #0001, relative norm of the error:    0.074686801, norm of the error:    2.181335394\n",
      "Iteration #0002, relative norm of the error:    0.005042374, norm of the error:    0.151914733\n",
      "Iteration #0003, relative norm of the error:    0.000086160, norm of the error:    0.002597384\n",
      "Iteration #0004, relative norm of the error:    0.000002240, norm of the error:    0.000067537\n",
      "\n",
      "Time 0.10417\n",
      "Iteration #0001, relative norm of the error:    0.053865050, norm of the error:    1.623822665\n",
      "Iteration #0002, relative norm of the error:    0.002322663, norm of the error:    0.071724247\n",
      "Iteration #0003, relative norm of the error:    0.000042972, norm of the error:    0.001327876\n",
      "Iteration #0004, relative norm of the error:    0.000001642, norm of the error:    0.000050749\n",
      "\n",
      "Time 0.125\n",
      "Iteration #0001, relative norm of the error:    0.042898505, norm of the error:    1.325618951\n",
      "Iteration #0002, relative norm of the error:    0.001587926, norm of the error:    0.050072664\n",
      "Iteration #0003, relative norm of the error:    0.000011601, norm of the error:    0.000366076\n",
      "Iteration #0004, relative norm of the error:    0.000000166, norm of the error:    0.000005244\n",
      "\n",
      "Time 0.14583\n",
      "Iteration #0001, relative norm of the error:    0.036164752, norm of the error:    1.141213489\n",
      "Iteration #0002, relative norm of the error:    0.001190284, norm of the error:    0.038240712\n",
      "Iteration #0003, relative norm of the error:    0.000004987, norm of the error:    0.000160301\n",
      "\n",
      "Time 0.16667\n",
      "Iteration #0001, relative norm of the error:    0.031490321, norm of the error:    1.012308874\n",
      "Iteration #0002, relative norm of the error:    0.000953367, norm of the error:    0.031152690\n",
      "Iteration #0003, relative norm of the error:    0.000007271, norm of the error:    0.000237697\n",
      "\n",
      "Time 0.1875\n",
      "Iteration #0001, relative norm of the error:    0.027996133, norm of the error:    0.915277109\n",
      "Iteration #0002, relative norm of the error:    0.000852020, norm of the error:    0.028280306\n",
      "Iteration #0003, relative norm of the error:    0.000003416, norm of the error:    0.000113448\n",
      "\n",
      "\n",
      "101.41848397254944\n"
     ]
    }
   ],
   "source": [
    "start = time.time()\n",
    "solver.solve()\n",
    "end = time.time()\n",
    "\n",
    "print('')\n",
    "print(end - start)"
   ]
  }
 ],
 "metadata": {
  "kernelspec": {
   "display_name": ".venv",
   "language": "python",
   "name": "python3"
  },
  "language_info": {
   "codemirror_mode": {
    "name": "ipython",
    "version": 3
   },
   "file_extension": ".py",
   "mimetype": "text/x-python",
   "name": "python",
   "nbconvert_exporter": "python",
   "pygments_lexer": "ipython3",
   "version": "3.11.5"
  },
  "orig_nbformat": 4
 },
 "nbformat": 4,
 "nbformat_minor": 2
}
