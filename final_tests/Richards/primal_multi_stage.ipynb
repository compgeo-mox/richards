{
 "cells": [
  {
   "attachments": {},
   "cell_type": "markdown",
   "metadata": {},
   "source": [
    "# Richards equation\n",
    "\n",
    "Let $\\Omega=(0,2)\\times(0,3)$ with boundary $\\partial \\Omega$ and outward unit normal ${\\nu}$. Given \n",
    "$k$ the matrix permeability, we want to solve the following problem: find $({q}, h)$ such that\n",
    "$$\n",
    "\\partial_t \\theta (\\psi) - \\nabla \\cdot (K \\nabla h) = 0 \\text{ in } \\Omega \\times (0,T)\n",
    "$$\n",
    "with boundary conditions:\n",
    "\n",
    "$$\n",
    "h(t,x,z)=\n",
    "\\left\\{\n",
    "\\begin{array}{ll}\n",
    "\\begin{array}{l} \n",
    "1+2.2 \\frac{t}{\\Delta t_D}, \\text{ on } \\Gamma_{D_1}, t\\leq\\Delta t_D\\\\\n",
    "3.2, \\text{ on } \\Gamma_{D_1}, t>\\Delta t_D\\\\\n",
    "1, \\text{ on } \\Gamma_{D_2}\n",
    "\\end{array}\n",
    "\\end{array}\n",
    "\\right., \\qquad \\nu \\cdot K \\nabla h = 0 \\text{ on } \\Gamma_N \\qquad h(0,x,z) = 1 \\text{ on } \\Omega$$\n",
    "and\n",
    "$$\n",
    "\\Gamma_{D_1} = \\left\\{ (x,z) \\in \\partial \\Omega \\:|\\: x \\in [0,1] \\wedge z=3  \\right\\},\\\\\n",
    "\\Gamma_{D_2} = \\left\\{ (x,z) \\in \\partial \\Omega \\:|\\: x = 2 \\wedge z \\in [0,1]  \\right\\},\\\\\n",
    "\\Gamma_{D} = \\Gamma_{D_1} \\cup \\Gamma_{D_2},\\\\\n",
    "\\Gamma_{N} = \\partial \\Omega \\setminus \\Gamma_D\n",
    "$$"
   ]
  },
  {
   "cell_type": "code",
   "execution_count": 1,
   "metadata": {},
   "outputs": [
    {
     "name": "stderr",
     "output_type": "stream",
     "text": [
      "/opt/conda/lib/python3.11/site-packages/porepy/numerics/nonlinear/nonlinear_solvers.py:13: TqdmExperimentalWarning: Using `tqdm.autonotebook.tqdm` in notebook mode. Use `tqdm.tqdm` instead to force console mode (e.g. in jupyter console)\n",
      "  from tqdm.autonotebook import trange  # type: ignore\n"
     ]
    }
   ],
   "source": [
    "import shutil\n",
    "import os\n",
    "\n",
    "import numpy as np\n",
    "\n",
    "import porepy as pp\n",
    "import pygeon as pg\n",
    "\n",
    "import time"
   ]
  },
  {
   "cell_type": "code",
   "execution_count": 2,
   "metadata": {},
   "outputs": [],
   "source": [
    "from richards.model_params import Model_Data\n",
    "from richards.matrix_computer import Matrix_Computer\n",
    "\n",
    "from richards.solver import Solver\n",
    "from richards.solver_params import Solver_Data, Solver_Enum, Norm_Error"
   ]
  },
  {
   "cell_type": "code",
   "execution_count": 3,
   "metadata": {},
   "outputs": [],
   "source": [
    "# Set the maximum number of iterations of the non-linear solver\n",
    "K = 500\n",
    "\n",
    "# L-scheme parameter\n",
    "L = 3.501e-2\n",
    "\n",
    "# Set the mesh refinment\n",
    "N = 10\n",
    "\n",
    "# Set the number of steps (excluding the initial condition)\n",
    "num_steps = 9\n",
    "\n",
    "# Simulation time length\n",
    "T = num_steps/48\n",
    "\n",
    "# Time switch conditions (for the boundary condition)\n",
    "dt_D = 1/16\n",
    "\n",
    "# Fluid density\n",
    "rho = 1000\n",
    "\n",
    "# Relative and absolute tolerances for the non-linear solver\n",
    "abs_tol = 1e-5\n",
    "rel_tol = 1e-5\n",
    "\n",
    "# Domain tolerance\n",
    "domain_tolerance = 1 / (10 * N)\n",
    "\n",
    "# Output directory\n",
    "output_directory = 'primal_multi_stage'"
   ]
  },
  {
   "cell_type": "code",
   "execution_count": 4,
   "metadata": {},
   "outputs": [],
   "source": [
    "# Van Genuchten model parameters ( relative permeability model )\n",
    "model_data = Model_Data(theta_r=0.131, theta_s=0.396, alpha=0.423, n=2.06, K_s=4.96e-2, T=T, num_steps=num_steps)"
   ]
  },
  {
   "cell_type": "code",
   "execution_count": 5,
   "metadata": {},
   "outputs": [],
   "source": [
    "# Prepare the domain and its mesh\n",
    "subdomain = pp.StructuredTriangleGrid([2*N, 3*N], [2,3])\n",
    "pg.convert_from_pp(subdomain)\n",
    "\n",
    "# Convert it to a mixed-dimensional grid\n",
    "mdg = pg.as_mdg(subdomain)"
   ]
  },
  {
   "cell_type": "code",
   "execution_count": 6,
   "metadata": {},
   "outputs": [],
   "source": [
    "key = \"flow\"\n",
    "\n",
    "# Collection of boundary conditions\n",
    "bc_value = []\n",
    "bc_essential = []\n",
    "\n",
    "# Initial pressure\n",
    "initial_pressure = []"
   ]
  },
  {
   "cell_type": "code",
   "execution_count": 7,
   "metadata": {},
   "outputs": [],
   "source": [
    "# Initial pressure function\n",
    "def initial_pressure_func(x): \n",
    "    return 1"
   ]
  },
  {
   "cell_type": "code",
   "execution_count": 8,
   "metadata": {},
   "outputs": [],
   "source": [
    "subdomain, data = mdg.subdomains(return_data=True)[0]\n",
    "\n",
    "# Gamma_D1 and Gamma_D2 boundary faces\n",
    "gamma_d1 = np.logical_and(subdomain.nodes[0, :] > 0-domain_tolerance, np.logical_and(subdomain.nodes[0, :] < 1+domain_tolerance, subdomain.nodes[1, :] > 3-domain_tolerance))\n",
    "gamma_d2 = np.logical_and(subdomain.nodes[0, :] > 2-domain_tolerance, np.logical_and(subdomain.nodes[1, :] > 0-domain_tolerance, subdomain.nodes[1, :] < 1+domain_tolerance))\n",
    "\n",
    "gamma_d  = np.logical_or(gamma_d1, gamma_d2)\n",
    "bc_essential = gamma_d\n",
    "\n",
    "# Add a lambda function that generates for each time instant the (discretized) natural boundary conditions for the problem\n",
    "bc_value = lambda t: np.array(gamma_d2, dtype=float) + np.array(gamma_d1, dtype=float) * min(3.2, 1 + 2.2 * t / dt_D)"
   ]
  },
  {
   "cell_type": "code",
   "execution_count": 9,
   "metadata": {},
   "outputs": [],
   "source": [
    "if os.path.exists(output_directory):\n",
    "    shutil.rmtree(output_directory)"
   ]
  },
  {
   "cell_type": "code",
   "execution_count": 10,
   "metadata": {},
   "outputs": [],
   "source": [
    "cp = Matrix_Computer(mdg)\n",
    "\n",
    "solver_data = Solver_Data(mdg=mdg, \n",
    "                          initial_solution=cp.P1.interpolate(subdomain, initial_pressure_func), \n",
    "                          scheme=Solver_Enum.NEWTON, \n",
    "                          bc_essential=lambda t: bc_essential, bc_essential_value=bc_value,\n",
    "                          eps_psi_rel=rel_tol, eps_psi_abs=abs_tol,\n",
    "                          max_iterations_per_step=K, L_Scheme_value=L,\n",
    "                          output_directory=output_directory, report_name='primal',\n",
    "                          primal=True, integration_order=3, \n",
    "                          prepare_plots=False, \n",
    "                          shape_x=2*N+1, shape_y=3*N+1, \n",
    "                          norm_error=Norm_Error.EUCLIDIAN)"
   ]
  },
  {
   "cell_type": "code",
   "execution_count": 11,
   "metadata": {},
   "outputs": [],
   "source": [
    "solver = Solver(model_data=model_data, solver_data=solver_data)"
   ]
  },
  {
   "cell_type": "code",
   "execution_count": 12,
   "metadata": {},
   "outputs": [
    {
     "name": "stdout",
     "output_type": "stream",
     "text": [
      "Time 0.02083\n",
      "LSCHEME\n"
     ]
    },
    {
     "name": "stdout",
     "output_type": "stream",
     "text": [
      "Iteration #001, relative norm of the error:    0.09635, norm of the error:    2.45843\n",
      "\n",
      "NEWTON\n",
      "Iteration #0001, relative norm of the error:    0.007690073, norm of the error:    0.199968560\n",
      "Iteration #0002, relative norm of the error:    0.000207688, norm of the error:    0.005407158\n",
      "Iteration #0003, relative norm of the error:    0.000001582, norm of the error:    0.000041180\n",
      "\n",
      "Time 0.04167\n",
      "LSCHEME\n",
      "Iteration #001, relative norm of the error:    0.10642, norm of the error:    2.77064\n",
      "Iteration #002, relative norm of the error:    0.02314, norm of the error:    0.62416\n",
      "\n",
      "NEWTON\n",
      "Iteration #0001, relative norm of the error:    0.002247966, norm of the error:    0.060969259\n",
      "Iteration #0002, relative norm of the error:    0.000027717, norm of the error:    0.000752117\n",
      "Iteration #0003, relative norm of the error:    0.000000327, norm of the error:    0.000008879\n",
      "\n",
      "Time 0.0625\n",
      "LSCHEME\n",
      "Iteration #001, relative norm of the error:    0.12624, norm of the error:    3.42542\n",
      "Iteration #002, relative norm of the error:    0.03578, norm of the error:    1.02882\n",
      "\n",
      "NEWTON\n",
      "Iteration #0001, relative norm of the error:    0.009165104, norm of the error:    0.267044816\n",
      "Iteration #0002, relative norm of the error:    0.000337445, norm of the error:    0.009856133\n",
      "Iteration #0003, relative norm of the error:    0.000007093, norm of the error:    0.000207168\n",
      "\n",
      "Time 0.08333\n",
      "LSCHEME\n",
      "Iteration #001, relative norm of the error:    0.06809, norm of the error:    1.98861\n",
      "\n",
      "NEWTON\n",
      "Iteration #0001, relative norm of the error:    0.010440783, norm of the error:    0.314042399\n",
      "Iteration #0002, relative norm of the error:    0.000297102, norm of the error:    0.008956741\n",
      "Iteration #0003, relative norm of the error:    0.000004901, norm of the error:    0.000147752\n",
      "\n",
      "Time 0.10417\n",
      "LSCHEME\n",
      "Iteration #001, relative norm of the error:    0.05114, norm of the error:    1.54166\n",
      "\n",
      "NEWTON\n",
      "Iteration #0001, relative norm of the error:    0.005566377, norm of the error:    0.171844151\n",
      "Iteration #0002, relative norm of the error:    0.000109975, norm of the error:    0.003398326\n",
      "Iteration #0003, relative norm of the error:    0.000001015, norm of the error:    0.000031350\n",
      "\n",
      "Time 0.125\n",
      "LSCHEME\n",
      "Iteration #001, relative norm of the error:    0.04130, norm of the error:    1.27616\n",
      "\n",
      "NEWTON\n",
      "Iteration #0001, relative norm of the error:    0.003994718, norm of the error:    0.125950893\n",
      "Iteration #0002, relative norm of the error:    0.000041469, norm of the error:    0.001308526\n",
      "Iteration #0003, relative norm of the error:    0.000000361, norm of the error:    0.000011379\n",
      "\n",
      "Time 0.14583\n",
      "LSCHEME\n",
      "Iteration #001, relative norm of the error:    0.03472, norm of the error:    1.09541\n",
      "\n",
      "NEWTON\n",
      "Iteration #0001, relative norm of the error:    0.003571349, norm of the error:    0.114690399\n",
      "Iteration #0002, relative norm of the error:    0.000027001, norm of the error:    0.000867957\n",
      "Iteration #0003, relative norm of the error:    0.000000282, norm of the error:    0.000009069\n",
      "\n",
      "Time 0.16667\n",
      "LSCHEME\n",
      "Iteration #001, relative norm of the error:    0.02994, norm of the error:    0.96251\n",
      "\n",
      "NEWTON\n",
      "Iteration #0001, relative norm of the error:    0.003578358, norm of the error:    0.116838557\n",
      "Iteration #0002, relative norm of the error:    0.000028587, norm of the error:    0.000934537\n",
      "Iteration #0003, relative norm of the error:    0.000000437, norm of the error:    0.000014271\n",
      "\n",
      "Time 0.1875\n",
      "LSCHEME\n",
      "Iteration #001, relative norm of the error:    0.02630, norm of the error:    0.85966\n",
      "\n",
      "NEWTON\n",
      "Iteration #0001, relative norm of the error:    0.003719789, norm of the error:    0.123332517\n",
      "Iteration #0002, relative norm of the error:    0.000024180, norm of the error:    0.000802924\n",
      "Iteration #0003, relative norm of the error:    0.000000207, norm of the error:    0.000006873\n",
      "\n",
      "\n",
      "62.06352734565735\n"
     ]
    }
   ],
   "source": [
    "start = time.time()\n",
    "solver.multistage_solver(schemes=[Solver_Enum.LSCHEME], iterations=[15], abs_tolerances=[0], rel_tolerances=[1e-1])\n",
    "end = time.time()\n",
    "\n",
    "print('')\n",
    "print(end - start)"
   ]
  }
 ],
 "metadata": {
  "kernelspec": {
   "display_name": ".venv",
   "language": "python",
   "name": "python3"
  },
  "language_info": {
   "codemirror_mode": {
    "name": "ipython",
    "version": 3
   },
   "file_extension": ".py",
   "mimetype": "text/x-python",
   "name": "python",
   "nbconvert_exporter": "python",
   "pygments_lexer": "ipython3",
   "version": "3.11.5"
  },
  "orig_nbformat": 4
 },
 "nbformat": 4,
 "nbformat_minor": 2
}
