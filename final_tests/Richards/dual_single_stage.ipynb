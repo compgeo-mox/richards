{
 "cells": [
  {
   "attachments": {},
   "cell_type": "markdown",
   "metadata": {},
   "source": [
    "# Richards equation\n",
    "\n",
    "Let $\\Omega=(0,2)\\times(0,3)$ with boundary $\\partial \\Omega$ and outward unit normal ${\\nu}$. Given \n",
    "$k$ the matrix permeability, we want to solve the following problem: find $({q}, \\psi)$ such that\n",
    "$$\n",
    "\\left\\{\n",
    "\\begin{array}{ll}\n",
    "\\begin{array}{l} \n",
    "K^{-1}(\\psi) {q} + \\nabla \\psi = -\\nabla z\\\\\n",
    "\\partial_t \\theta (\\psi) + \\nabla \\cdot {q} = 0\n",
    "\\end{array}\n",
    "&\\text{in } \\Omega \\times (0,T)\n",
    "\\end{array}\n",
    "\\right.\n",
    "$$\n",
    "with boundary conditions:\n",
    "\n",
    "$$\n",
    "\\psi(t,x,z)=\n",
    "\\left\\{\n",
    "\\begin{array}{ll}\n",
    "\\begin{array}{l} \n",
    "-2+2.2 \\frac{t}{\\Delta t_D}, \\text{ on } \\Gamma_{D_1}, t\\leq\\Delta t_D\\\\\n",
    "0.2, \\text{ on } \\Gamma_{D_1}, t>\\Delta t_D\\\\\n",
    "1-z, \\text{ on } \\Gamma_{D_2}\n",
    "\\end{array}\n",
    "\\end{array}\n",
    "\\right., \\qquad \\nu \\cdot q = 0 \\text{ on } \\Gamma_N \\qquad \\psi(0,x,z) = 1-z \\text{ on } \\Omega$$\n",
    "and\n",
    "$$\n",
    "\\Gamma_{D_1} = \\left\\{ (x,z) \\in \\partial \\Omega \\:|\\: x \\in [0,1] \\wedge z=3  \\right\\},\\\\\n",
    "\\Gamma_{D_2} = \\left\\{ (x,z) \\in \\partial \\Omega \\:|\\: x = 2 \\wedge z \\in [0,1]  \\right\\},\\\\\n",
    "\\Gamma_{D} = \\Gamma_{D_1} \\cup \\Gamma_{D_2},\\\\\n",
    "\\Gamma_{N} = \\partial \\Omega \\setminus \\Gamma_D\n",
    "$$"
   ]
  },
  {
   "cell_type": "code",
   "execution_count": 1,
   "metadata": {},
   "outputs": [
    {
     "name": "stderr",
     "output_type": "stream",
     "text": [
      "/opt/conda/lib/python3.11/site-packages/porepy/numerics/nonlinear/nonlinear_solvers.py:13: TqdmExperimentalWarning: Using `tqdm.autonotebook.tqdm` in notebook mode. Use `tqdm.tqdm` instead to force console mode (e.g. in jupyter console)\n",
      "  from tqdm.autonotebook import trange  # type: ignore\n"
     ]
    }
   ],
   "source": [
    "import shutil\n",
    "import os\n",
    "\n",
    "import numpy as np\n",
    "\n",
    "import porepy as pp\n",
    "import pygeon as pg\n",
    "\n",
    "import time"
   ]
  },
  {
   "cell_type": "code",
   "execution_count": 2,
   "metadata": {},
   "outputs": [],
   "source": [
    "from richards.model_params import Model_Data\n",
    "from richards.matrix_computer import Matrix_Computer\n",
    "\n",
    "from richards.solver import Solver\n",
    "from richards.solver_params import Solver_Data, Solver_Enum, Norm_Error"
   ]
  },
  {
   "cell_type": "code",
   "execution_count": 3,
   "metadata": {},
   "outputs": [],
   "source": [
    "# Set the maximum number of iterations of the non-linear solver\n",
    "K = 500\n",
    "\n",
    "# L-scheme parameter\n",
    "L = 3.501e-2\n",
    "\n",
    "# Set the mesh refinment\n",
    "N = 10\n",
    "\n",
    "# Set the number of steps (excluding the initial condition)\n",
    "num_steps = 9\n",
    "\n",
    "# Simulation time length\n",
    "T = num_steps/48\n",
    "\n",
    "# Time switch conditions (for the boundary condition)\n",
    "dt_D = 3/48\n",
    "\n",
    "# Fluid density\n",
    "rho = 1000\n",
    "\n",
    "# Relative and absolute tolerances for the non-linear solver\n",
    "abs_tol = 1e-5\n",
    "rel_tol = 1e-5\n",
    "\n",
    "# Domain tolerance\n",
    "domain_tolerance = 1 / (10 * N)\n",
    "\n",
    "# Output directory\n",
    "output_directory = 'dual_single_stage'"
   ]
  },
  {
   "cell_type": "code",
   "execution_count": 4,
   "metadata": {},
   "outputs": [],
   "source": [
    "# Van Genuchten model parameters ( relative permeability model )\n",
    "model_data = Model_Data(theta_r=0.131, theta_s=0.396, alpha=0.423, n=2.06, K_s=4.96e-2, T=T, num_steps=num_steps)"
   ]
  },
  {
   "cell_type": "code",
   "execution_count": 5,
   "metadata": {},
   "outputs": [],
   "source": [
    "# Prepare the domain and its mesh\n",
    "subdomain = pp.StructuredTriangleGrid([2*N, 3*N], [2,3])\n",
    "\n",
    "# Convert it to a mixed-dimensional grid\n",
    "mdg = pp.meshing.subdomains_to_mdg([subdomain])"
   ]
  },
  {
   "cell_type": "code",
   "execution_count": 6,
   "metadata": {},
   "outputs": [],
   "source": [
    "key = \"flow\"\n",
    "\n",
    "# Collection of boundary conditions\n",
    "bc_value = []\n",
    "bc_essential = []\n",
    "\n",
    "# Initial pressure\n",
    "initial_pressure = []\n",
    "\n",
    "# Discretizations for q and \\psi\n",
    "RT0 = pg.RT0(key)\n",
    "P0  = pg.PwConstants(key)"
   ]
  },
  {
   "cell_type": "code",
   "execution_count": 7,
   "metadata": {},
   "outputs": [],
   "source": [
    "# Initial pressure function\n",
    "def initial_pressure_func(x): \n",
    "    return 1#-x[1]"
   ]
  },
  {
   "cell_type": "code",
   "execution_count": 8,
   "metadata": {},
   "outputs": [],
   "source": [
    "subdomain, data = mdg.subdomains(return_data=True)[0]\n",
    "\n",
    "# Prepare the inital pressure term by interpolating initial_pressure_func into the P0 space\n",
    "initial_pressure.append(P0.interpolate(subdomain, initial_pressure_func))\n",
    "        \n",
    "# Get the boundary faces ids\n",
    "boundary_faces_indexes = subdomain.get_boundary_faces()\n",
    "\n",
    "# Gamma_D1 and Gamma_D2 boundary faces\n",
    "gamma_d1 = np.logical_and(subdomain.face_centers[0, :] > 0-domain_tolerance, np.logical_and(subdomain.face_centers[0, :] < 1+domain_tolerance, subdomain.face_centers[1, :] > 3-domain_tolerance))\n",
    "gamma_d2 = np.logical_and(subdomain.face_centers[0, :] > 2-domain_tolerance, np.logical_and(subdomain.face_centers[1, :] > 0-domain_tolerance, subdomain.face_centers[1, :] < 1+domain_tolerance))\n",
    "\n",
    "gamma_d  = np.logical_or(gamma_d1, gamma_d2)\n",
    "\n",
    "# Gamma_N is the remaining part of the boundary    \n",
    "gamma_n  = gamma_d.copy()\n",
    "gamma_n[boundary_faces_indexes] = np.logical_not(gamma_n[boundary_faces_indexes])\n",
    "    \n",
    "# Set the initial conductivity tensor in data (the actual saved tensor does not matter at this stage)\n",
    "pp.initialize_data(subdomain, data, key, {\n",
    "    \"second_order_tensor\": pp.SecondOrderTensor(np.ones(subdomain.num_cells)),\n",
    "})\n",
    "    \n",
    "# Prepare the \\hat{\\psi} function\n",
    "def bc_gamma_d(x, t):\n",
    "    if   x[0] > 2-domain_tolerance and x[1] > 0-domain_tolerance and x[1] < 1+domain_tolerance:\n",
    "        res =  1#-x[1]\n",
    "    elif x[1] > 3-domain_tolerance and x[0] > 0-domain_tolerance and x[0] < 1+domain_tolerance:\n",
    "        res = min( 3.2, 1 + 2.2 * t / dt_D )#-3\n",
    "    else:\n",
    "        res = 0\n",
    "        \n",
    "    return res\n",
    "\n",
    "# Add a lambda function that generates for each time instant the (discretized) natural boundary conditions for the problem\n",
    "bc_value = lambda t: - RT0.assemble_nat_bc(subdomain, lambda x: bc_gamma_d(x,t), gamma_d)\n",
    "\n",
    "# Set the essential boundary conditions (they will be enforced before solving the system)\n",
    "essential_pressure_dofs = np.zeros(P0.ndof(subdomain), dtype=bool)\n",
    "bc_essential = np.hstack((gamma_n, essential_pressure_dofs))"
   ]
  },
  {
   "cell_type": "code",
   "execution_count": 9,
   "metadata": {},
   "outputs": [],
   "source": [
    "if os.path.exists(output_directory):\n",
    "    shutil.rmtree(output_directory)"
   ]
  },
  {
   "cell_type": "code",
   "execution_count": 10,
   "metadata": {},
   "outputs": [],
   "source": [
    "# assemble initial solution\n",
    "cp = Matrix_Computer(mdg)\n",
    "initial_solution = np.zeros(cp.dof_RT0 + cp.dof_P0)\n",
    "initial_solution[-cp.dof_P0:] += np.hstack(initial_pressure)"
   ]
  },
  {
   "cell_type": "code",
   "execution_count": 11,
   "metadata": {},
   "outputs": [],
   "source": [
    "solver_data = Solver_Data(mdg=mdg, \n",
    "                          initial_solution=initial_solution, \n",
    "                          scheme=Solver_Enum.PICARD, L_Scheme_value=L, \n",
    "                          bc_essential=lambda t: bc_essential, \n",
    "                          eps_psi_abs=abs_tol, eps_psi_rel=rel_tol, \n",
    "                          max_iterations_per_step=K,   \n",
    "                          output_directory=output_directory,\n",
    "                          step_output_allowed=True,\n",
    "                          report_name='dual', \n",
    "                          norm_error=Norm_Error.L2)\n",
    "\n",
    "solver_data.set_rhs_vector_q(bc_value)\n",
    "#solver_data.set_rhs_function_q(lambda x,t: np.array([0, -1, 0]))"
   ]
  },
  {
   "cell_type": "code",
   "execution_count": 12,
   "metadata": {},
   "outputs": [],
   "source": [
    "solver = Solver(model_data=model_data, solver_data=solver_data)"
   ]
  },
  {
   "cell_type": "code",
   "execution_count": 13,
   "metadata": {},
   "outputs": [
    {
     "name": "stdout",
     "output_type": "stream",
     "text": [
      "Csv_Exporter: A file with name dual_PICARD_richards_solver.csv is detected. I'll delete it\n",
      "Time 0.02083\n",
      "Iteration #0001, relative norm of the error:    0.036580482, norm of the error:    0.089603516\n",
      "Iteration #0002, relative norm of the error:    0.008251707, norm of the error:    0.020334504\n",
      "Iteration #0003, relative norm of the error:    0.001504010, norm of the error:    0.003712801\n",
      "Iteration #0004, relative norm of the error:    0.000234723, norm of the error:    0.000579638\n",
      "Iteration #0005, relative norm of the error:    0.000033917, norm of the error:    0.000083761\n",
      "Iteration #0006, relative norm of the error:    0.000004767, norm of the error:    0.000011773\n",
      "\n",
      "Time 0.04167\n",
      "Iteration #0001, relative norm of the error:    0.064279189, norm of the error:    0.158744953\n",
      "Iteration #0002, relative norm of the error:    0.023880324, norm of the error:    0.059927966\n",
      "Iteration #0003, relative norm of the error:    0.006988929, norm of the error:    0.017666540\n",
      "Iteration #0004, relative norm of the error:    0.001526904, norm of the error:    0.003868284\n",
      "Iteration #0005, relative norm of the error:    0.000231595, norm of the error:    0.000586994\n",
      "Iteration #0006, relative norm of the error:    0.000024136, norm of the error:    0.000061177\n",
      "Iteration #0007, relative norm of the error:    0.000004728, norm of the error:    0.000011983\n",
      "\n",
      "Time 0.0625\n",
      "Iteration #0001, relative norm of the error:    0.098326560, norm of the error:    0.249230433\n",
      "Iteration #0002, relative norm of the error:    0.042038111, norm of the error:    0.110560407\n",
      "Iteration #0003, relative norm of the error:    0.014334424, norm of the error:    0.038366556\n",
      "Iteration #0004, relative norm of the error:    0.003377227, norm of the error:    0.009083921\n",
      "Iteration #0005, relative norm of the error:    0.000729102, norm of the error:    0.001962139\n",
      "Iteration #0006, relative norm of the error:    0.000216111, norm of the error:    0.000581520\n",
      "Iteration #0007, relative norm of the error:    0.000050104, norm of the error:    0.000134813\n",
      "Iteration #0008, relative norm of the error:    0.000014143, norm of the error:    0.000038053\n",
      "Iteration #0009, relative norm of the error:    0.000003985, norm of the error:    0.000010724\n",
      "\n",
      "Time 0.08333\n",
      "Iteration #0001, relative norm of the error:    0.065383330, norm of the error:    0.175927195\n",
      "Iteration #0002, relative norm of the error:    0.015804879, norm of the error:    0.043824613\n",
      "Iteration #0003, relative norm of the error:    0.003348619, norm of the error:    0.009327783\n",
      "Iteration #0004, relative norm of the error:    0.000794399, norm of the error:    0.002212394\n",
      "Iteration #0005, relative norm of the error:    0.000192558, norm of the error:    0.000536164\n",
      "Iteration #0006, relative norm of the error:    0.000048553, norm of the error:    0.000135191\n",
      "Iteration #0007, relative norm of the error:    0.000012072, norm of the error:    0.000033615\n",
      "\n",
      "Time 0.10417\n",
      "Iteration #0001, relative norm of the error:    0.050524299, norm of the error:    0.140683404\n",
      "Iteration #0002, relative norm of the error:    0.009573165, norm of the error:    0.027324224\n",
      "Iteration #0003, relative norm of the error:    0.001939656, norm of the error:    0.005545645\n",
      "Iteration #0004, relative norm of the error:    0.000411065, norm of the error:    0.001174779\n",
      "Iteration #0005, relative norm of the error:    0.000096987, norm of the error:    0.000277163\n",
      "Iteration #0006, relative norm of the error:    0.000021483, norm of the error:    0.000061395\n",
      "Iteration #0007, relative norm of the error:    0.000005070, norm of the error:    0.000014488\n",
      "\n",
      "Time 0.125\n",
      "Iteration #0001, relative norm of the error:    0.041675732, norm of the error:    0.119101467\n",
      "Iteration #0002, relative norm of the error:    0.006813368, norm of the error:    0.019896101\n",
      "Iteration #0003, relative norm of the error:    0.001333701, norm of the error:    0.003897037\n",
      "Iteration #0004, relative norm of the error:    0.000267364, norm of the error:    0.000780951\n",
      "Iteration #0005, relative norm of the error:    0.000061322, norm of the error:    0.000179118\n",
      "Iteration #0006, relative norm of the error:    0.000012604, norm of the error:    0.000036817\n",
      "\n",
      "Time 0.14583\n",
      "Iteration #0001, relative norm of the error:    0.035703285, norm of the error:    0.104288615\n",
      "Iteration #0002, relative norm of the error:    0.005225932, norm of the error:    0.015563416\n",
      "Iteration #0003, relative norm of the error:    0.000961677, norm of the error:    0.002864448\n",
      "Iteration #0004, relative norm of the error:    0.000188034, norm of the error:    0.000559925\n",
      "Iteration #0005, relative norm of the error:    0.000040523, norm of the error:    0.000120672\n",
      "Iteration #0006, relative norm of the error:    0.000008126, norm of the error:    0.000024199\n",
      "\n",
      "Time 0.16667\n",
      "Iteration #0001, relative norm of the error:    0.031396616, norm of the error:    0.093495354\n",
      "Iteration #0002, relative norm of the error:    0.004230763, norm of the error:    0.012824407\n",
      "Iteration #0003, relative norm of the error:    0.000706002, norm of the error:    0.002139860\n",
      "Iteration #0004, relative norm of the error:    0.000137802, norm of the error:    0.000417594\n",
      "Iteration #0005, relative norm of the error:    0.000026955, norm of the error:    0.000081687\n",
      "Iteration #0006, relative norm of the error:    0.000005436, norm of the error:    0.000016473\n",
      "\n",
      "Time 0.1875\n",
      "Iteration #0001, relative norm of the error:    0.028128380, norm of the error:    0.085242732\n",
      "Iteration #0002, relative norm of the error:    0.003569542, norm of the error:    0.010997831\n",
      "Iteration #0003, relative norm of the error:    0.000555085, norm of the error:    0.001709811\n",
      "Iteration #0004, relative norm of the error:    0.000106789, norm of the error:    0.000328894\n",
      "Iteration #0005, relative norm of the error:    0.000019315, norm of the error:    0.000059488\n",
      "Iteration #0006, relative norm of the error:    0.000003858, norm of the error:    0.000011882\n",
      "\n",
      "\n",
      "16.699185609817505\n"
     ]
    }
   ],
   "source": [
    "start = time.time()\n",
    "solver.solve()\n",
    "end = time.time()\n",
    "\n",
    "print('')\n",
    "print(end - start)"
   ]
  }
 ],
 "metadata": {
  "kernelspec": {
   "display_name": ".venv",
   "language": "python",
   "name": "python3"
  },
  "language_info": {
   "codemirror_mode": {
    "name": "ipython",
    "version": 3
   },
   "file_extension": ".py",
   "mimetype": "text/x-python",
   "name": "python",
   "nbconvert_exporter": "python",
   "pygments_lexer": "ipython3",
   "version": "3.11.5"
  },
  "orig_nbformat": 4
 },
 "nbformat": 4,
 "nbformat_minor": 2
}
