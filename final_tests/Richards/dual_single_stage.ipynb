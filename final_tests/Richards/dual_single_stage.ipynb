{
 "cells": [
  {
   "attachments": {},
   "cell_type": "markdown",
   "metadata": {},
   "source": [
    "# Richards equation\n",
    "\n",
    "Let $\\Omega=(0,2)\\times(0,3)$ with boundary $\\partial \\Omega$ and outward unit normal ${\\nu}$. Given \n",
    "$k$ the matrix permeability, we want to solve the following problem: find $({q}, \\psi)$ such that\n",
    "$$\n",
    "\\left\\{\n",
    "\\begin{array}{ll}\n",
    "\\begin{array}{l} \n",
    "K^{-1}(\\psi) {q} + \\nabla \\psi = -\\nabla z\\\\\n",
    "\\partial_t \\theta (\\psi) + \\nabla \\cdot {q} = 0\n",
    "\\end{array}\n",
    "&\\text{in } \\Omega \\times (0,T)\n",
    "\\end{array}\n",
    "\\right.\n",
    "$$\n",
    "with boundary conditions:\n",
    "\n",
    "$$\n",
    "\\psi(t,x,z)=\n",
    "\\left\\{\n",
    "\\begin{array}{ll}\n",
    "\\begin{array}{l} \n",
    "-2+2.2 \\frac{t}{\\Delta t_D}, \\text{ on } \\Gamma_{D_1}, t\\leq\\Delta t_D\\\\\n",
    "0.2, \\text{ on } \\Gamma_{D_1}, t>\\Delta t_D\\\\\n",
    "1-z, \\text{ on } \\Gamma_{D_2}\n",
    "\\end{array}\n",
    "\\end{array}\n",
    "\\right., \\qquad \\nu \\cdot q = 0 \\text{ on } \\Gamma_N \\qquad \\psi(0,x,z) = 1-z \\text{ on } \\Omega$$\n",
    "and\n",
    "$$\n",
    "\\Gamma_{D_1} = \\left\\{ (x,z) \\in \\partial \\Omega \\:|\\: x \\in [0,1] \\wedge z=3  \\right\\},\\\\\n",
    "\\Gamma_{D_2} = \\left\\{ (x,z) \\in \\partial \\Omega \\:|\\: x = 2 \\wedge z \\in [0,1]  \\right\\},\\\\\n",
    "\\Gamma_{D} = \\Gamma_{D_1} \\cup \\Gamma_{D_2},\\\\\n",
    "\\Gamma_{N} = \\partial \\Omega \\setminus \\Gamma_D\n",
    "$$"
   ]
  },
  {
   "cell_type": "code",
   "execution_count": 1,
   "metadata": {},
   "outputs": [
    {
     "name": "stderr",
     "output_type": "stream",
     "text": [
      "/opt/conda/lib/python3.11/site-packages/porepy/numerics/nonlinear/nonlinear_solvers.py:13: TqdmExperimentalWarning: Using `tqdm.autonotebook.tqdm` in notebook mode. Use `tqdm.tqdm` instead to force console mode (e.g. in jupyter console)\n",
      "  from tqdm.autonotebook import trange  # type: ignore\n"
     ]
    }
   ],
   "source": [
    "import shutil\n",
    "import os\n",
    "\n",
    "import numpy as np\n",
    "\n",
    "import porepy as pp\n",
    "import pygeon as pg\n",
    "\n",
    "import time"
   ]
  },
  {
   "cell_type": "code",
   "execution_count": 2,
   "metadata": {},
   "outputs": [],
   "source": [
    "from richards.model_params import Model_Data\n",
    "from richards.matrix_computer import Matrix_Computer\n",
    "\n",
    "from richards.solver import Solver\n",
    "from richards.solver_params import Solver_Data, Solver_Enum, Norm_Error"
   ]
  },
  {
   "cell_type": "code",
   "execution_count": 3,
   "metadata": {},
   "outputs": [],
   "source": [
    "# Set the maximum number of iterations of the non-linear solver\n",
    "K = 500\n",
    "\n",
    "# L-scheme parameter\n",
    "L = 3.501e-2\n",
    "\n",
    "# Set the mesh refinment\n",
    "N = 40\n",
    "\n",
    "# Set the number of steps (excluding the initial condition)\n",
    "num_steps = 9\n",
    "\n",
    "# Simulation time length\n",
    "T = num_steps/48\n",
    "\n",
    "# Time switch conditions (for the boundary condition)\n",
    "dt_D = 3/48\n",
    "\n",
    "# Fluid density\n",
    "rho = 1000\n",
    "\n",
    "# Relative and absolute tolerances for the non-linear solver\n",
    "abs_tol = 1e-5\n",
    "rel_tol = 1e-5\n",
    "\n",
    "# Domain tolerance\n",
    "domain_tolerance = 1 / (10 * N)\n",
    "\n",
    "# Output directory\n",
    "output_directory = 'dual_single_stage'"
   ]
  },
  {
   "cell_type": "code",
   "execution_count": 4,
   "metadata": {},
   "outputs": [],
   "source": [
    "# Van Genuchten model parameters ( relative permeability model )\n",
    "model_data = Model_Data(theta_r=0.131, theta_s=0.396, alpha=0.423, n=2.06, K_s=4.96e-2, T=T, num_steps=num_steps)"
   ]
  },
  {
   "cell_type": "code",
   "execution_count": 5,
   "metadata": {},
   "outputs": [],
   "source": [
    "# Prepare the domain and its mesh\n",
    "subdomain = pp.StructuredTriangleGrid([2*N, 3*N], [2,3])\n",
    "\n",
    "# Convert it to a mixed-dimensional grid\n",
    "mdg = pp.meshing.subdomains_to_mdg([subdomain])"
   ]
  },
  {
   "cell_type": "code",
   "execution_count": 6,
   "metadata": {},
   "outputs": [],
   "source": [
    "key = \"flow\"\n",
    "\n",
    "# Collection of boundary conditions\n",
    "bc_value = []\n",
    "bc_essential = []\n",
    "\n",
    "# Initial pressure\n",
    "initial_pressure = []\n",
    "\n",
    "# Discretizations for q and \\psi\n",
    "RT0 = pg.RT0(key)\n",
    "P0  = pg.PwConstants(key)"
   ]
  },
  {
   "cell_type": "code",
   "execution_count": 7,
   "metadata": {},
   "outputs": [],
   "source": [
    "# Initial pressure function\n",
    "def initial_pressure_func(x): \n",
    "    return 1#-x[1]"
   ]
  },
  {
   "cell_type": "code",
   "execution_count": 8,
   "metadata": {},
   "outputs": [],
   "source": [
    "subdomain, data = mdg.subdomains(return_data=True)[0]\n",
    "\n",
    "# Prepare the inital pressure term by interpolating initial_pressure_func into the P0 space\n",
    "initial_pressure.append(P0.interpolate(subdomain, initial_pressure_func))\n",
    "        \n",
    "# Get the boundary faces ids\n",
    "boundary_faces_indexes = subdomain.get_boundary_faces()\n",
    "\n",
    "# Gamma_D1 and Gamma_D2 boundary faces\n",
    "gamma_d1 = np.logical_and(subdomain.face_centers[0, :] > 0-domain_tolerance, np.logical_and(subdomain.face_centers[0, :] < 1+domain_tolerance, subdomain.face_centers[1, :] > 3-domain_tolerance))\n",
    "gamma_d2 = np.logical_and(subdomain.face_centers[0, :] > 2-domain_tolerance, np.logical_and(subdomain.face_centers[1, :] > 0-domain_tolerance, subdomain.face_centers[1, :] < 1+domain_tolerance))\n",
    "\n",
    "gamma_d  = np.logical_or(gamma_d1, gamma_d2)\n",
    "\n",
    "# Gamma_N is the remaining part of the boundary    \n",
    "gamma_n  = gamma_d.copy()\n",
    "gamma_n[boundary_faces_indexes] = np.logical_not(gamma_n[boundary_faces_indexes])\n",
    "    \n",
    "# Set the initial conductivity tensor in data (the actual saved tensor does not matter at this stage)\n",
    "pp.initialize_data(subdomain, data, key, {\n",
    "    \"second_order_tensor\": pp.SecondOrderTensor(np.ones(subdomain.num_cells)),\n",
    "})\n",
    "    \n",
    "# Prepare the \\hat{\\psi} function\n",
    "def bc_gamma_d(x, t):\n",
    "    if   x[0] > 2-domain_tolerance and x[1] > 0-domain_tolerance and x[1] < 1+domain_tolerance:\n",
    "        res =  1#-x[1]\n",
    "    elif x[1] > 3-domain_tolerance and x[0] > 0-domain_tolerance and x[0] < 1+domain_tolerance:\n",
    "        res = min( 3.2, 1 + 2.2 * t / dt_D )#-3\n",
    "    else:\n",
    "        res = 0\n",
    "        \n",
    "    return res\n",
    "\n",
    "# Add a lambda function that generates for each time instant the (discretized) natural boundary conditions for the problem\n",
    "bc_value = lambda t: - RT0.assemble_nat_bc(subdomain, lambda x: bc_gamma_d(x,t), gamma_d)\n",
    "\n",
    "# Set the essential boundary conditions (they will be enforced before solving the system)\n",
    "essential_pressure_dofs = np.zeros(P0.ndof(subdomain), dtype=bool)\n",
    "bc_essential = np.hstack((gamma_n, essential_pressure_dofs))"
   ]
  },
  {
   "cell_type": "code",
   "execution_count": 9,
   "metadata": {},
   "outputs": [],
   "source": [
    "if os.path.exists(output_directory):\n",
    "    shutil.rmtree(output_directory)"
   ]
  },
  {
   "cell_type": "code",
   "execution_count": 10,
   "metadata": {},
   "outputs": [],
   "source": [
    "# assemble initial solution\n",
    "cp = Matrix_Computer(mdg)\n",
    "initial_solution = np.zeros(cp.dof_RT0 + cp.dof_P0)\n",
    "initial_solution[-cp.dof_P0:] += np.hstack(initial_pressure)"
   ]
  },
  {
   "cell_type": "code",
   "execution_count": 11,
   "metadata": {},
   "outputs": [],
   "source": [
    "solver_data = Solver_Data(mdg=mdg, \n",
    "                          initial_solution=initial_solution, \n",
    "                          scheme=Solver_Enum.PICARD, L_Scheme_value=L, \n",
    "                          bc_essential=lambda t: bc_essential, \n",
    "                          eps_psi_abs=abs_tol, eps_psi_rel=rel_tol, \n",
    "                          max_iterations_per_step=K,   \n",
    "                          output_directory=output_directory,\n",
    "                          step_output_allowed=True,\n",
    "                          report_name='dual', \n",
    "                          norm_error=Norm_Error.L2)\n",
    "\n",
    "solver_data.set_rhs_vector_q(bc_value)\n",
    "#solver_data.set_rhs_function_q(lambda x,t: np.array([0, -1, 0]))"
   ]
  },
  {
   "cell_type": "code",
   "execution_count": 12,
   "metadata": {},
   "outputs": [],
   "source": [
    "solver = Solver(model_data=model_data, solver_data=solver_data)"
   ]
  },
  {
   "cell_type": "code",
   "execution_count": 13,
   "metadata": {},
   "outputs": [
    {
     "name": "stdout",
     "output_type": "stream",
     "text": [
      "Csv_Exporter: A file with name dual_PICARD_richards_solver.csv is detected. I'll delete it\n",
      "Time 0.02083\n",
      "Iteration #0001, relative norm of the error:    0.046901983, norm of the error:    0.114885927\n",
      "Iteration #0002, relative norm of the error:    0.011076894, norm of the error:    0.027336758\n",
      "Iteration #0003, relative norm of the error:    0.001836274, norm of the error:    0.004542712\n",
      "Iteration #0004, relative norm of the error:    0.000180301, norm of the error:    0.000446227\n",
      "Iteration #0005, relative norm of the error:    0.000012795, norm of the error:    0.000031667\n",
      "\n",
      "Time 0.04167\n",
      "Iteration #0001, relative norm of the error:    0.072475198, norm of the error:    0.179374794\n",
      "Iteration #0002, relative norm of the error:    0.025381916, norm of the error:    0.064033077\n",
      "Iteration #0003, relative norm of the error:    0.006766900, norm of the error:    0.017205199\n",
      "Iteration #0004, relative norm of the error:    0.001143278, norm of the error:    0.002912391\n",
      "Iteration #0005, relative norm of the error:    0.000200838, norm of the error:    0.000511708\n",
      "Iteration #0006, relative norm of the error:    0.000048309, norm of the error:    0.000123082\n",
      "Iteration #0007, relative norm of the error:    0.000008149, norm of the error:    0.000020761\n",
      "\n",
      "Time 0.0625\n",
      "Iteration #0001, relative norm of the error:    0.102588889, norm of the error:    0.261371335\n",
      "Iteration #0002, relative norm of the error:    0.041109290, norm of the error:    0.109045605\n",
      "Iteration #0003, relative norm of the error:    0.012731836, norm of the error:    0.034339890\n",
      "Iteration #0004, relative norm of the error:    0.002903904, norm of the error:    0.007860974\n",
      "Iteration #0005, relative norm of the error:    0.000794925, norm of the error:    0.002151899\n",
      "Iteration #0006, relative norm of the error:    0.000218419, norm of the error:    0.000591156\n",
      "Iteration #0007, relative norm of the error:    0.000059059, norm of the error:    0.000159842\n",
      "Iteration #0008, relative norm of the error:    0.000017216, norm of the error:    0.000046596\n",
      "Iteration #0009, relative norm of the error:    0.000004521, norm of the error:    0.000012235\n",
      "\n",
      "Time 0.08333\n",
      "Iteration #0001, relative norm of the error:    0.065607116, norm of the error:    0.177566614\n",
      "Iteration #0002, relative norm of the error:    0.015656423, norm of the error:    0.043677205\n",
      "Iteration #0003, relative norm of the error:    0.003457042, norm of the error:    0.009686333\n",
      "Iteration #0004, relative norm of the error:    0.000843873, norm of the error:    0.002363563\n",
      "Iteration #0005, relative norm of the error:    0.000216499, norm of the error:    0.000606272\n",
      "Iteration #0006, relative norm of the error:    0.000056459, norm of the error:    0.000158108\n",
      "Iteration #0007, relative norm of the error:    0.000014572, norm of the error:    0.000040807\n",
      "Iteration #0008, relative norm of the error:    0.000003847, norm of the error:    0.000010773\n",
      "\n",
      "Time 0.10417\n",
      "Iteration #0001, relative norm of the error:    0.050641098, norm of the error:    0.141817091\n",
      "Iteration #0002, relative norm of the error:    0.009547966, norm of the error:    0.027416498\n",
      "Iteration #0003, relative norm of the error:    0.002023107, norm of the error:    0.005818639\n",
      "Iteration #0004, relative norm of the error:    0.000446031, norm of the error:    0.001282216\n",
      "Iteration #0005, relative norm of the error:    0.000112852, norm of the error:    0.000324407\n",
      "Iteration #0006, relative norm of the error:    0.000025949, norm of the error:    0.000074597\n",
      "Iteration #0007, relative norm of the error:    0.000006639, norm of the error:    0.000019084\n",
      "\n",
      "Time 0.125\n",
      "Iteration #0001, relative norm of the error:    0.041773577, norm of the error:    0.120086787\n",
      "Iteration #0002, relative norm of the error:    0.006799862, norm of the error:    0.019979070\n",
      "Iteration #0003, relative norm of the error:    0.001340888, norm of the error:    0.003941972\n",
      "Iteration #0004, relative norm of the error:    0.000281101, norm of the error:    0.000826091\n",
      "Iteration #0005, relative norm of the error:    0.000065792, norm of the error:    0.000193349\n",
      "Iteration #0006, relative norm of the error:    0.000014311, norm of the error:    0.000042058\n",
      "Iteration #0007, relative norm of the error:    0.000003405, norm of the error:    0.000010007\n",
      "\n",
      "Time 0.14583\n",
      "Iteration #0001, relative norm of the error:    0.035798371, norm of the error:    0.105206433\n",
      "Iteration #0002, relative norm of the error:    0.005251281, norm of the error:    0.015738159\n",
      "Iteration #0003, relative norm of the error:    0.000950319, norm of the error:    0.002848370\n",
      "Iteration #0004, relative norm of the error:    0.000194962, norm of the error:    0.000584206\n",
      "Iteration #0005, relative norm of the error:    0.000041498, norm of the error:    0.000124352\n",
      "Iteration #0006, relative norm of the error:    0.000008889, norm of the error:    0.000026637\n",
      "\n",
      "Time 0.16667\n",
      "Iteration #0001, relative norm of the error:    0.031472816, norm of the error:    0.094312474\n",
      "Iteration #0002, relative norm of the error:    0.004259230, norm of the error:    0.012994474\n",
      "Iteration #0003, relative norm of the error:    0.000712339, norm of the error:    0.002172957\n",
      "Iteration #0004, relative norm of the error:    0.000143932, norm of the error:    0.000438980\n",
      "Iteration #0005, relative norm of the error:    0.000028176, norm of the error:    0.000085937\n",
      "Iteration #0006, relative norm of the error:    0.000005975, norm of the error:    0.000018225\n",
      "\n",
      "Time 0.1875\n",
      "Iteration #0001, relative norm of the error:    0.028189589, norm of the error:    0.085978567\n",
      "Iteration #0002, relative norm of the error:    0.003569162, norm of the error:    0.011069335\n",
      "Iteration #0003, relative norm of the error:    0.000555263, norm of the error:    0.001721634\n",
      "Iteration #0004, relative norm of the error:    0.000110336, norm of the error:    0.000342060\n",
      "Iteration #0005, relative norm of the error:    0.000020125, norm of the error:    0.000062393\n",
      "Iteration #0006, relative norm of the error:    0.000004198, norm of the error:    0.000013015\n",
      "\n",
      "\n",
      "200.27345991134644\n"
     ]
    }
   ],
   "source": [
    "start = time.time()\n",
    "solver.solve()\n",
    "end = time.time()\n",
    "\n",
    "print('')\n",
    "print(end - start)"
   ]
  }
 ],
 "metadata": {
  "kernelspec": {
   "display_name": ".venv",
   "language": "python",
   "name": "python3"
  },
  "language_info": {
   "codemirror_mode": {
    "name": "ipython",
    "version": 3
   },
   "file_extension": ".py",
   "mimetype": "text/x-python",
   "name": "python",
   "nbconvert_exporter": "python",
   "pygments_lexer": "ipython3",
   "version": "3.11.5"
  },
  "orig_nbformat": 4
 },
 "nbformat": 4,
 "nbformat_minor": 2
}
