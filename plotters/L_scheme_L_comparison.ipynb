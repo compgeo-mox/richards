{
 "cells": [
  {
   "cell_type": "code",
   "execution_count": 1,
   "metadata": {},
   "outputs": [],
   "source": [
    "import matplotlib.pyplot as plt\n",
    "import numpy as np\n",
    "import csv, glob, os"
   ]
  },
  {
   "cell_type": "code",
   "execution_count": 2,
   "metadata": {},
   "outputs": [],
   "source": [
    "problem_name = 'benchmark'\n",
    "report_directory = '../report'"
   ]
  },
  {
   "cell_type": "code",
   "execution_count": 3,
   "metadata": {},
   "outputs": [],
   "source": [
    "files = glob.glob(os.path.join(report_directory, '**/60_' + problem_name +'*.csv'), recursive=True)"
   ]
  },
  {
   "cell_type": "code",
   "execution_count": 4,
   "metadata": {},
   "outputs": [],
   "source": [
    "sorted_files = {}\n",
    "sorted_iterations = {}"
   ]
  },
  {
   "cell_type": "code",
   "execution_count": 5,
   "metadata": {},
   "outputs": [
    {
     "name": "stdout",
     "output_type": "stream",
     "text": [
      "../report/benchmark_L_test_65_steps_9_LSCHEME/60_benchmark_L_test_LSCHEME_richards_solver.csv 0.065\n",
      "../report/benchmark_L_test_73_steps_9_LSCHEME/60_benchmark_L_test_LSCHEME_richards_solver.csv 0.073\n",
      "../report/benchmark_L_test_66_steps_9_LSCHEME/60_benchmark_L_test_LSCHEME_richards_solver.csv 0.066\n",
      "../report/benchmark_L_test_61_steps_9_LSCHEME/60_benchmark_L_test_LSCHEME_richards_solver.csv 0.061\n",
      "../report/benchmark_L_test_62_steps_9_LSCHEME/60_benchmark_L_test_LSCHEME_richards_solver.csv 0.062\n",
      "../report/benchmark_L_test_98_steps_9_LSCHEME/60_benchmark_L_test_LSCHEME_richards_solver.csv 0.098\n",
      "../report/benchmark_L_test_41_steps_9_LSCHEME/60_benchmark_L_test_LSCHEME_richards_solver.csv 0.041\n",
      "../report/benchmark_L_test_54_steps_9_LSCHEME/60_benchmark_L_test_LSCHEME_richards_solver.csv 0.054\n",
      "../report/benchmark_L_test_93_steps_9_LSCHEME/60_benchmark_L_test_LSCHEME_richards_solver.csv 0.093\n",
      "../report/benchmark_L_test_49_steps_9_LSCHEME/60_benchmark_L_test_LSCHEME_richards_solver.csv 0.049\n",
      "../report/benchmark_L_test_97_steps_9_LSCHEME/60_benchmark_L_test_LSCHEME_richards_solver.csv 0.097\n",
      "../report/benchmark_L_test_78_steps_9_LSCHEME/60_benchmark_L_test_LSCHEME_richards_solver.csv 0.078\n",
      "../report/benchmark_L_test_90_steps_9_LSCHEME/60_benchmark_L_test_LSCHEME_richards_solver.csv 0.09\n",
      "../report/benchmark_L_test_34_steps_9_LSCHEME/60_benchmark_L_test_LSCHEME_richards_solver.csv 0.034\n",
      "../report/benchmark_L_test_57_steps_9_LSCHEME/60_benchmark_L_test_LSCHEME_richards_solver.csv 0.057\n",
      "../report/benchmark_L_test_26_steps_9_LSCHEME/60_benchmark_L_test_LSCHEME_richards_solver.csv 0.026000000000000002\n",
      "../report/benchmark_L_test_85_steps_9_LSCHEME/60_benchmark_L_test_LSCHEME_richards_solver.csv 0.085\n",
      "../report/benchmark_L_test_58_steps_9_LSCHEME/60_benchmark_L_test_LSCHEME_richards_solver.csv 0.058\n",
      "../report/benchmark_L_test_50_steps_9_LSCHEME/60_benchmark_L_test_LSCHEME_richards_solver.csv 0.05\n",
      "../report/benchmark_L_test_33_steps_9_LSCHEME/60_benchmark_L_test_LSCHEME_richards_solver.csv 0.033\n",
      "../report/benchmark_L_test_101_steps_9_LSCHEME/60_benchmark_L_test_LSCHEME_richards_solver.csv 0.101\n",
      "../report/benchmark_L_test_22_steps_9_LSCHEME/60_benchmark_L_test_LSCHEME_richards_solver.csv 0.022\n",
      "../report/benchmark_L_test_69_steps_9_LSCHEME/60_benchmark_L_test_LSCHEME_richards_solver.csv 0.069\n",
      "../report/benchmark_L_test_37_steps_9_LSCHEME/60_benchmark_L_test_LSCHEME_richards_solver.csv 0.037\n",
      "../report/benchmark_L_test_89_steps_9_LSCHEME/60_benchmark_L_test_LSCHEME_richards_solver.csv 0.089\n",
      "../report/benchmark_L_test_30_steps_9_LSCHEME/60_benchmark_L_test_LSCHEME_richards_solver.csv 0.03\n",
      "../report/benchmark_L_test_42_steps_9_LSCHEME/60_benchmark_L_test_LSCHEME_richards_solver.csv 0.042\n",
      "../report/benchmark_L_test_77_steps_9_LSCHEME/60_benchmark_L_test_LSCHEME_richards_solver.csv 0.077\n",
      "../report/benchmark_L_test_102_steps_9_LSCHEME/60_benchmark_L_test_LSCHEME_richards_solver.csv 0.10200000000000001\n",
      "../report/benchmark_L_test_25_steps_9_LSCHEME/60_benchmark_L_test_LSCHEME_richards_solver.csv 0.025\n",
      "../report/benchmark_L_test_86_steps_9_LSCHEME/60_benchmark_L_test_LSCHEME_richards_solver.csv 0.08600000000000001\n",
      "../report/benchmark_L_test_82_steps_9_LSCHEME/60_benchmark_L_test_LSCHEME_richards_solver.csv 0.082\n",
      "../report/benchmark_L_test_74_steps_9_LSCHEME/60_benchmark_L_test_LSCHEME_richards_solver.csv 0.074\n",
      "../report/benchmark_L_test_70_steps_9_LSCHEME/60_benchmark_L_test_LSCHEME_richards_solver.csv 0.07\n",
      "../report/benchmark_L_test_53_steps_9_LSCHEME/60_benchmark_L_test_LSCHEME_richards_solver.csv 0.053\n",
      "../report/benchmark_L_test_94_steps_9_LSCHEME/60_benchmark_L_test_LSCHEME_richards_solver.csv 0.094\n",
      "../report/benchmark_L_test_38_steps_9_LSCHEME/60_benchmark_L_test_LSCHEME_richards_solver.csv 0.038\n",
      "../report/benchmark_L_test_46_steps_9_LSCHEME/60_benchmark_L_test_LSCHEME_richards_solver.csv 0.046\n",
      "../report/benchmark_L_test_29_steps_9_LSCHEME/60_benchmark_L_test_LSCHEME_richards_solver.csv 0.029\n",
      "../report/benchmark_L_test_21_steps_9_LSCHEME/60_benchmark_L_test_LSCHEME_richards_solver.csv 0.021\n",
      "../report/benchmark_L_test_81_steps_9_LSCHEME/60_benchmark_L_test_LSCHEME_richards_solver.csv 0.081\n",
      "../report/benchmark_L_test_45_steps_9_LSCHEME/60_benchmark_L_test_LSCHEME_richards_solver.csv 0.045\n"
     ]
    }
   ],
   "source": [
    "for file in files:\n",
    "    L_value = int(file[file[:file.find('_steps_')].rfind('_')+1 : file.find('_steps_')]) * 1e-3\n",
    "    print(file, str(L_value))\n",
    "\n",
    "    sorted_files[L_value] = file\n",
    "\n",
    "sorted_files = dict(sorted(sorted_files.items()))"
   ]
  },
  {
   "cell_type": "code",
   "execution_count": 6,
   "metadata": {},
   "outputs": [],
   "source": [
    "for L_value in sorted_files:\n",
    "\n",
    "    with open(sorted_files[L_value], 'r') as csvfile:\n",
    "        lines = csv.reader(csvfile, delimiter=',')\n",
    "        sorted_iterations[L_value] = (sum(1 for row in lines))"
   ]
  },
  {
   "cell_type": "code",
   "execution_count": 7,
   "metadata": {},
   "outputs": [
    {
     "data": {
      "image/png": "[encoded data removed]",
      "text/plain": [
       "<Figure size 500x500 with 1 Axes>"
      ]
     },
     "metadata": {},
     "output_type": "display_data"
    }
   ],
   "source": [
    "fig, ax = plt.subplots(nrows=1, ncols=1, figsize=(5, 5))\n",
    "\n",
    "ax.plot( list(sorted_iterations.keys())[2:], [sorted_iterations[ll] for ll in list(sorted_iterations.keys())[2:]] )\n",
    "\n",
    "ax.grid()"
   ]
  },
  {
   "cell_type": "code",
   "execution_count": 8,
   "metadata": {},
   "outputs": [
    {
     "name": "stdout",
     "output_type": "stream",
     "text": [
      "The optimal value of L is 0.033\n"
     ]
    }
   ],
   "source": [
    "print('The optimal value of L is ' + str( list(sorted_iterations.keys())[np.argmin( [sorted_iterations[ll] for ll in list(sorted_iterations.keys())] )] ) )"
   ]
  },
  {
   "cell_type": "code",
   "execution_count": 9,
   "metadata": {},
   "outputs": [
    {
     "data": {
      "text/plain": [
       "{0.021: 1626,\n",
       " 0.022: 1626,\n",
       " 0.025: 110,\n",
       " 0.026000000000000002: 110,\n",
       " 0.029: 64,\n",
       " 0.03: 64,\n",
       " 0.033: 55,\n",
       " 0.034: 55,\n",
       " 0.037: 57,\n",
       " 0.038: 57,\n",
       " 0.041: 62,\n",
       " 0.042: 62,\n",
       " 0.045: 65,\n",
       " 0.046: 65,\n",
       " 0.049: 70,\n",
       " 0.05: 70,\n",
       " 0.053: 73,\n",
       " 0.054: 73,\n",
       " 0.057: 80,\n",
       " 0.058: 80,\n",
       " 0.061: 85,\n",
       " 0.062: 85,\n",
       " 0.065: 90,\n",
       " 0.066: 90,\n",
       " 0.069: 95,\n",
       " 0.07: 95,\n",
       " 0.073: 101,\n",
       " 0.074: 101,\n",
       " 0.077: 107,\n",
       " 0.078: 107,\n",
       " 0.081: 112,\n",
       " 0.082: 112,\n",
       " 0.085: 116,\n",
       " 0.08600000000000001: 116,\n",
       " 0.089: 121,\n",
       " 0.09: 121,\n",
       " 0.093: 126,\n",
       " 0.094: 126,\n",
       " 0.097: 131,\n",
       " 0.098: 131,\n",
       " 0.101: 137,\n",
       " 0.10200000000000001: 137}"
      ]
     },
     "execution_count": 9,
     "metadata": {},
     "output_type": "execute_result"
    }
   ],
   "source": [
    "sorted_iterations"
   ]
  }
 ],
 "metadata": {
  "kernelspec": {
   "display_name": "Python 3",
   "language": "python",
   "name": "python3"
  },
  "language_info": {
   "codemirror_mode": {
    "name": "ipython",
    "version": 3
   },
   "file_extension": ".py",
   "mimetype": "text/x-python",
   "name": "python",
   "nbconvert_exporter": "python",
   "pygments_lexer": "ipython3",
   "version": "3.10.12"
  },
  "orig_nbformat": 4
 },
 "nbformat": 4,
 "nbformat_minor": 2
}
