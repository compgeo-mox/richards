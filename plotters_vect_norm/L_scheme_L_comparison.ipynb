{
 "cells": [
  {
   "cell_type": "code",
   "execution_count": 1,
   "metadata": {},
   "outputs": [],
   "source": [
    "import matplotlib.pyplot as plt\n",
    "import numpy as np\n",
    "import csv, glob, os"
   ]
  },
  {
   "cell_type": "code",
   "execution_count": 2,
   "metadata": {},
   "outputs": [],
   "source": [
    "problem_name = 'benchmark'\n",
    "report_directory = '../report_L_test'"
   ]
  },
  {
   "cell_type": "code",
   "execution_count": 3,
   "metadata": {},
   "outputs": [],
   "source": [
    "files = glob.glob(os.path.join(report_directory, 'VARL_*_steps_9_' + problem_name + '_L_test_LSCHEME/060_' + problem_name +'*.csv'), recursive=True)"
   ]
  },
  {
   "cell_type": "code",
   "execution_count": 4,
   "metadata": {},
   "outputs": [],
   "source": [
    "sorted_files = {}\n",
    "sorted_iterations = {}"
   ]
  },
  {
   "cell_type": "code",
   "execution_count": 5,
   "metadata": {},
   "outputs": [
    {
     "name": "stdout",
     "output_type": "stream",
     "text": [
      "../report_L_test/VARL_47_steps_9_benchmark_L_test_LSCHEME/060_benchmark_L_test_LSCHEME_richards_solver.csv 0.047\n",
      "../report_L_test/VARN_33_steps_9_benchmark_L_test_LSCHEME/060_benchmark_L_test_LSCHEME_richards_solver.csv 0.033\n",
      "../report_L_test/VARL_55_steps_9_benchmark_L_test_LSCHEME/060_benchmark_L_test_LSCHEME_richards_solver.csv 0.055\n",
      "../report_L_test/VARL_63_steps_9_benchmark_L_test_LSCHEME/060_benchmark_L_test_LSCHEME_richards_solver.csv 0.063\n",
      "../report_L_test/VARL_07_steps_9_benchmark_L_test_LSCHEME/060_benchmark_L_test_LSCHEME_richards_solver.csv 0.007\n",
      "../report_L_test/VARL_25_steps_9_benchmark_L_test_LSCHEME/060_benchmark_L_test_LSCHEME_richards_solver.csv 0.025\n",
      "../report_L_test/VARL_71_steps_9_benchmark_L_test_LSCHEME/060_benchmark_L_test_LSCHEME_richards_solver.csv 0.07100000000000001\n",
      "../report_L_test/VARL_31_steps_9_benchmark_L_test_LSCHEME/060_benchmark_L_test_LSCHEME_richards_solver.csv 0.031\n",
      "../report_L_test/VARL_33_steps_9_benchmark_L_test_LSCHEME/060_benchmark_L_test_LSCHEME_richards_solver.csv 0.033\n",
      "../report_L_test/VARL_37_steps_9_benchmark_L_test_LSCHEME/060_benchmark_L_test_LSCHEME_richards_solver.csv 0.037\n",
      "../report_L_test/VARL_03_steps_9_benchmark_L_test_LSCHEME/060_benchmark_L_test_LSCHEME_richards_solver.csv 0.003\n",
      "../report_L_test/VART_35_steps_9_benchmark_L_test_LSCHEME/060_benchmark_L_test_LSCHEME_richards_solver.csv 0.035\n",
      "../report_L_test/VARL_53_steps_9_benchmark_L_test_LSCHEME/060_benchmark_L_test_LSCHEME_richards_solver.csv 0.053\n",
      "../report_L_test/VARL_77_steps_9_benchmark_L_test_LSCHEME/060_benchmark_L_test_LSCHEME_richards_solver.csv 0.077\n",
      "../report_L_test/VARL_29_steps_9_benchmark_L_test_LSCHEME/060_benchmark_L_test_LSCHEME_richards_solver.csv 0.029\n",
      "../report_L_test/VARL_57_steps_9_benchmark_L_test_LSCHEME/060_benchmark_L_test_LSCHEME_richards_solver.csv 0.057\n",
      "../report_L_test/VARL_11_steps_9_benchmark_L_test_LSCHEME/060_benchmark_L_test_LSCHEME_richards_solver.csv 0.011\n",
      "../report_L_test/VARL_15_steps_9_benchmark_L_test_LSCHEME/060_benchmark_L_test_LSCHEME_richards_solver.csv 0.015\n",
      "../report_L_test/VARL_21_steps_9_benchmark_L_test_LSCHEME/060_benchmark_L_test_LSCHEME_richards_solver.csv 0.021\n",
      "../report_L_test/VARL_23_steps_9_benchmark_L_test_LSCHEME/060_benchmark_L_test_LSCHEME_richards_solver.csv 0.023\n",
      "../report_L_test/VARN_35_steps_9_benchmark_L_test_LSCHEME/060_benchmark_L_test_LSCHEME_richards_solver.csv 0.035\n",
      "../report_L_test/VARL_09_steps_9_benchmark_L_test_LSCHEME/060_benchmark_L_test_LSCHEME_richards_solver.csv 0.009000000000000001\n",
      "../report_L_test/VARL_79_steps_9_benchmark_L_test_LSCHEME/060_benchmark_L_test_LSCHEME_richards_solver.csv 0.079\n",
      "../report_L_test/VARL_41_steps_9_benchmark_L_test_LSCHEME/060_benchmark_L_test_LSCHEME_richards_solver.csv 0.041\n",
      "../report_L_test/VARL_43_steps_9_benchmark_L_test_LSCHEME/060_benchmark_L_test_LSCHEME_richards_solver.csv 0.043000000000000003\n",
      "../report_L_test/VARL_35_steps_9_benchmark_L_test_LSCHEME/060_benchmark_L_test_LSCHEME_richards_solver.csv 0.035\n",
      "../report_L_test/VARL_39_steps_9_benchmark_L_test_LSCHEME/060_benchmark_L_test_LSCHEME_richards_solver.csv 0.039\n",
      "../report_L_test/VARL_13_steps_9_benchmark_L_test_LSCHEME/060_benchmark_L_test_LSCHEME_richards_solver.csv 0.013000000000000001\n",
      "../report_L_test/VARL_05_steps_9_benchmark_L_test_LSCHEME/060_benchmark_L_test_LSCHEME_richards_solver.csv 0.005\n",
      "../report_L_test/VARL_59_steps_9_benchmark_L_test_LSCHEME/060_benchmark_L_test_LSCHEME_richards_solver.csv 0.059000000000000004\n",
      "../report_L_test/VARL_49_steps_9_benchmark_L_test_LSCHEME/060_benchmark_L_test_LSCHEME_richards_solver.csv 0.049\n",
      "../report_L_test/VARL_17_steps_9_benchmark_L_test_LSCHEME/060_benchmark_L_test_LSCHEME_richards_solver.csv 0.017\n",
      "../report_L_test/VARL_73_steps_9_benchmark_L_test_LSCHEME/060_benchmark_L_test_LSCHEME_richards_solver.csv 0.073\n",
      "../report_L_test/VARL_01_steps_9_benchmark_L_test_LSCHEME/060_benchmark_L_test_LSCHEME_richards_solver.csv 0.001\n",
      "../report_L_test/VARL_45_steps_9_benchmark_L_test_LSCHEME/060_benchmark_L_test_LSCHEME_richards_solver.csv 0.045\n",
      "../report_L_test/VARL_75_steps_9_benchmark_L_test_LSCHEME/060_benchmark_L_test_LSCHEME_richards_solver.csv 0.075\n",
      "../report_L_test/VARL_27_steps_9_benchmark_L_test_LSCHEME/060_benchmark_L_test_LSCHEME_richards_solver.csv 0.027\n",
      "../report_L_test/VARL_67_steps_9_benchmark_L_test_LSCHEME/060_benchmark_L_test_LSCHEME_richards_solver.csv 0.067\n",
      "../report_L_test/VARL_51_steps_9_benchmark_L_test_LSCHEME/060_benchmark_L_test_LSCHEME_richards_solver.csv 0.051000000000000004\n",
      "../report_L_test/VARL_19_steps_9_benchmark_L_test_LSCHEME/060_benchmark_L_test_LSCHEME_richards_solver.csv 0.019\n",
      "../report_L_test/VARL_69_steps_9_benchmark_L_test_LSCHEME/060_benchmark_L_test_LSCHEME_richards_solver.csv 0.069\n",
      "../report_L_test/VART_33_steps_9_benchmark_L_test_LSCHEME/060_benchmark_L_test_LSCHEME_richards_solver.csv 0.033\n",
      "../report_L_test/VARL_65_steps_9_benchmark_L_test_LSCHEME/060_benchmark_L_test_LSCHEME_richards_solver.csv 0.065\n",
      "../report_L_test/VARL_61_steps_9_benchmark_L_test_LSCHEME/060_benchmark_L_test_LSCHEME_richards_solver.csv 0.061\n"
     ]
    }
   ],
   "source": [
    "for file in files:\n",
    "    L_value = int(file[file[:file.find('_steps_')].rfind('_')+1 : file.find('_steps_')]) * 1e-3\n",
    "    print(file, str(L_value))\n",
    "\n",
    "    sorted_files[L_value] = file\n",
    "\n",
    "sorted_files = dict(sorted(sorted_files.items()))"
   ]
  },
  {
   "cell_type": "code",
   "execution_count": 6,
   "metadata": {},
   "outputs": [],
   "source": [
    "for L_value in sorted_files:\n",
    "\n",
    "    with open(sorted_files[L_value], 'r') as csvfile:\n",
    "        lines = csv.reader(csvfile, delimiter=',')\n",
    "        sorted_iterations[L_value] = (sum(1 for row in lines))"
   ]
  },
  {
   "cell_type": "code",
   "execution_count": 7,
   "metadata": {},
   "outputs": [
    {
     "data": {
      "image/png": "[encoded data removed]",
      "text/plain": [
       "<Figure size 500x500 with 1 Axes>"
      ]
     },
     "metadata": {},
     "output_type": "display_data"
    }
   ],
   "source": [
    "fig, ax = plt.subplots(nrows=1, ncols=1, figsize=(5, 5))\n",
    "\n",
    "ax.plot( list(sorted_iterations.keys())[2:], [sorted_iterations[ll] for ll in list(sorted_iterations.keys())[2:]] )\n",
    "\n",
    "ax.grid()"
   ]
  }
 ],
 "metadata": {
  "kernelspec": {
   "display_name": "Python 3",
   "language": "python",
   "name": "python3"
  },
  "language_info": {
   "codemirror_mode": {
    "name": "ipython",
    "version": 3
   },
   "file_extension": ".py",
   "mimetype": "text/x-python",
   "name": "python",
   "nbconvert_exporter": "python",
   "pygments_lexer": "ipython3",
   "version": "3.10.12"
  },
  "orig_nbformat": 4
 },
 "nbformat": 4,
 "nbformat_minor": 2
}
